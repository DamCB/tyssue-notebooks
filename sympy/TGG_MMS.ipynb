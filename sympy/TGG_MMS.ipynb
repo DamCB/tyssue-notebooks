{
 "cells": [
  {
   "cell_type": "code",
   "execution_count": 1,
   "metadata": {
    "collapsed": true
   },
   "outputs": [],
   "source": [
    "import IPython.display as disp\n",
    "\n",
    "from sympy import symbols, Matrix, Eq, Function\n",
    "\n",
    "from sympy import sympify\n",
    "from sympy.physics.mechanics import dynamicsymbols\n",
    "from sympy.physics.vector import Vector, divergence, curl\n",
    "from sympy.physics.mechanics import ReferenceFrame, Point, Particle\n",
    "from sympy import diff\n",
    "##from sympy.physics.mechanics import LagrangesMethod, Lagrangian, KanesMethod\n",
    "from sympy.physics.mechanics import mechanics_printing\n",
    "mechanics_printing(pretty_print=True) # Shinny\n"
   ]
  },
  {
   "cell_type": "markdown",
   "metadata": {},
   "source": [
    "# Mechanical formalism for tissue dynamics\n",
    "\n",
    "Sham Tlili, Cyprien Gay, Francois Graner, Philippe Marcq, Francois\n",
    "Molino, Pierre Saramito\n",
    "\n",
    "[arxiv:1309.7432v2](http://arxiv.org/abs/1309.7432v2)\n",
    "\n",
    "\n",
    "A sympy implementation.\n"
   ]
  },
  {
   "cell_type": "markdown",
   "metadata": {},
   "source": [
    "## Section II\n",
    "\n",
    "### B. Choice of formalism\n",
    "\n",
    "#### 1. Rheological diagram\n",
    "\n",
    "It is natural to mirror the rheological diagram with a class diagram in python\n",
    "\n",
    "\n",
    "Oldroyd viscoelastic fluid\n",
    "\n",
    "![Oldroyd](oldroyd.svg)"
   ]
  },
  {
   "cell_type": "code",
   "execution_count": 2,
   "metadata": {
    "collapsed": false
   },
   "outputs": [],
   "source": [
    "def indexer(name, index=None, expo=None):\n",
    "    '''Small utility to append an index  and\n",
    "    an exponent to the string `name`\n",
    "    '''\n",
    "    \n",
    "    if index:\n",
    "        name = name + '_{}'.format(index)\n",
    "    if expo:\n",
    "        name = name + '^{}'.format(expo)\n",
    "    return name\n",
    "\n",
    "    \n",
    "\n",
    "def deformation_symbol(index=None, expo=None):\n",
    "    return dynamicsymbols(indexer('epsilon', index, expo))\n",
    "\n",
    "def stress_symbol(index=None, expo=None):\n",
    "    return dynamicsymbols(indexer('sigma',index, expo))\n",
    "\n",
    "def viscosity_symbol(index=None, expo=None):\n",
    "    return symbols(indexer('eta', index, expo),\n",
    "                   positive=True, real=True)\n",
    "\n",
    "def stiffness_symbol(index=None, expo=None):\n",
    "    return symbols(indexer('G', index, expo),\n",
    "                   positive=True, real=True)\n",
    "\n",
    "\n",
    "class Element:\n",
    "\n",
    "    def __init__(self, index):\n",
    "        self.deformation = deformation_symbol(index)\n",
    "        self.stress = stress_symbol(index)\n",
    "        \n",
    "    @property\n",
    "    def rheol_equations(self):\n",
    "        raise NotImplementedError\n",
    "        \n",
    "class Spring(Element):\n",
    "    '''\n",
    "    A simple spring\n",
    "    \n",
    "    Attributes\n",
    "    ----------\n",
    "    stiffness: :class:`sympy.symbols`\n",
    "        assumed positive, real and independant of time\n",
    "    \n",
    "    '''\n",
    "    def __init__(self, index):\n",
    "        '''\n",
    "        creates a spring indexed by `index`\n",
    "        \n",
    "        Parameters\n",
    "        ----------\n",
    "        index: int or str\n",
    "          passed to the `format` method\n",
    "        '''\n",
    "        super().__init__(index)\n",
    "        self.stiffness = stiffness_symbol(index)\n",
    "    \n",
    "    @property\n",
    "    def rheol_equations(self):\n",
    "        return Matrix([self.stress - self.stiffness * self.deformation,])\n",
    "\n",
    "        \n",
    "class Dashpot(Element):\n",
    "    '''\n",
    "    A simple dashpot\n",
    "    '''\n",
    "    def __init__(self, index):\n",
    "        '''\n",
    "        creates a dashpot indexed by `index`\n",
    "        \n",
    "        Parameters\n",
    "        ----------\n",
    "        index: int or str\n",
    "          passed to the `format` method\n",
    "        '''\n",
    "        super().__init__(index)\n",
    "        self.viscosity = viscosity_symbol(index)\n",
    "    \n",
    "    @property\n",
    "    def rheol_equations(self):\n",
    "        return Matrix([self.stress - self.viscosity * self.deformation.diff(),])\n",
    "\n",
    "        \n",
    "class Maxwell_element(Element):\n",
    "    '''\n",
    "    A spring in series with a dashpot\n",
    "    '''\n",
    "    def __init__(self, index):\n",
    "        super().__init__(index)\n",
    "        self.spring = Spring('{}{}'.format(index, 1))\n",
    "        self.dashpot = Dashpot('{}{}'.format(index, 2))\n",
    "\n",
    "    @property\n",
    "    def rheol_equations(self):\n",
    "        r_eq = list(self.spring.rheol_equations) + list(self.dashpot.rheol_equations)\n",
    "        r_eq.append(self.deformation - \n",
    "                    (self.spring.deformation \n",
    "                     + self.dashpot.deformation))\n",
    "        r_eq = Matrix(r_eq)\n",
    "        ### spring and dashpot carry the same stress\n",
    "        r_eq = r_eq.subs({self.spring.stress: self.stress,\n",
    "                          self.dashpot.stress: self.stress})\n",
    "\n",
    "        return r_eq\n",
    "    \n",
    "class Oldroyd(Element):\n",
    "    \n",
    "    def __init__(self, index):\n",
    "        super().__init__(index)\n",
    "        self.maxwell = Maxwell_element('{}{}'.format(index, 1))\n",
    "        self.dashpot = Dashpot('{}{}'.format(index, 2))\n",
    "    \n",
    "    @property\n",
    "    def rheol_equations(self):\n",
    "        ''' List of expressions equal to zero\n",
    "        Eq. (1) in the article\n",
    "        '''\n",
    "        r_eq = list(self.maxwell.rheol_equations) + list(self.dashpot.rheol_equations)\n",
    "        r_eq = Matrix(r_eq)\n",
    "        r_eq.subs({self.maxwell.deformation: self.deformation,\n",
    "                   self.dashpot.deformation: self.deformation})\n",
    "        return r_eq\n",
    "        \n",
    "\n",
    "    ### Maybe this can be constructed from rheol_equations\n",
    "    def constitutive_equation(self):\n",
    "        ''' \n",
    "        Returns the constitutive equation as as `sympy.Eq` object\n",
    "        Eq. (2) of the article\n",
    "        '''\n",
    "        \n",
    "        stress_term = self.stress.diff() + (self.maxwell.spring.stiffness \n",
    "                                            / self.dashpot.viscosity) * self.stress\n",
    "        viscous_term = (((self.maxwell.dashpot.viscosity + self.dashpot.viscosity)\n",
    "                         / self.maxwell.dashpot.viscosity) \n",
    "                        * self.maxwell.spring.stiffness * self.deformation.diff()\n",
    "                        + self.dashpot.viscosity * self.deformation.diff().diff())\n",
    "       \n",
    "        return Eq(stress_term, viscous_term)"
   ]
  },
  {
   "cell_type": "code",
   "execution_count": 3,
   "metadata": {
    "collapsed": false,
    "scrolled": true
   },
   "outputs": [
    {
     "data": {
      "text/latex": [
       "$$\\left[\\begin{matrix}- G_{11} \\epsilon_{11} + \\sigma_{1}\\\\- \\eta_{12} \\dot{\\epsilon}_{12} + \\sigma_{1}\\\\\\epsilon_{1} - \\epsilon_{11} - \\epsilon_{12}\\\\- \\eta_{2} \\dot{\\epsilon}_{2} + \\sigma_{2}\\end{matrix}\\right]$$"
      ],
      "text/plain": [
       "⎡-G₁₁⋅ε₁₁ + σ₁ ⎤\n",
       "⎢              ⎥\n",
       "⎢-η₁₂⋅ε₁̇₂ + σ₁⎥\n",
       "⎢              ⎥\n",
       "⎢ε₁ - ε₁₁ - ε₁₂⎥\n",
       "⎢              ⎥\n",
       "⎣ -η₂⋅ε₂̇ + σ₂ ⎦"
      ]
     },
     "execution_count": 3,
     "metadata": {},
     "output_type": "execute_result"
    }
   ],
   "source": [
    "oldroyd = Oldroyd('')\n",
    "oldroyd.rheol_equations"
   ]
  },
  {
   "cell_type": "code",
   "execution_count": 4,
   "metadata": {
    "collapsed": false
   },
   "outputs": [
    {
     "data": {
      "image/png": "[encoded data removed]",
      "text/latex": [
       "$$\\frac{G_{11} \\sigma}{\\eta_{2}} + \\dot{\\sigma} = \\frac{G_{11} \\dot{\\epsilon}}{\\eta_{12}} \\left(\\eta_{12} + \\eta_{2}\\right) + \\eta_{2} \\ddot{\\epsilon}$$"
      ],
      "text/plain": [
       "G₁₁⋅σ        G₁₁⋅(η₁₂ + η₂)⋅ε̇        \n",
       "───── + σ̇ = ───────────────── + η₂⋅ε̈\n",
       "  η₂                η₁₂               "
      ]
     },
     "execution_count": 4,
     "metadata": {},
     "output_type": "execute_result"
    }
   ],
   "source": [
    "oldroyd.constitutive_equation()"
   ]
  },
  {
   "cell_type": "markdown",
   "metadata": {},
   "source": [
    "#### 3 Dissipation function formalism\n",
    "\n"
   ]
  },
  {
   "cell_type": "code",
   "execution_count": 5,
   "metadata": {
    "collapsed": false
   },
   "outputs": [],
   "source": [
    "epsilon = dynamicsymbols('epsilon') # total deformation\n",
    "### We set the number of variables to 4, to ease representation\n",
    "m = 4 ## Number of internal varialbles\n",
    "epsilons = dynamicsymbols('epsilon:{}'.format(m))\n",
    "epsilonsd = dynamicsymbols('epsilon:{}'.format(m), 1)\n",
    "\n",
    "### Eqs. (3), (4)\n",
    "E = Function('E')(epsilon, *epsilons)\n",
    "D = Function('D')(epsilon.diff(), *epsilonsd)\n",
    "\n",
    "### See Appendix B for tensorial case\n",
    "\n",
    "sigma = symbols('sigma')\n",
    "\n",
    "### Eqs (5), (6)\n",
    "constitutive_equation = Eq(sigma, diff(D, epsilon.diff()) + diff(E, epsilon))\n",
    "evolution_equations = Matrix([diff(D, epsilons[k].diff()) + diff(E, epsilons[k])\n",
    "                              for k in range(m)])"
   ]
  },
  {
   "cell_type": "code",
   "execution_count": 6,
   "metadata": {
    "collapsed": false
   },
   "outputs": [
    {
     "data": {
      "image/png": "[encoded data removed]",
      "text/latex": [
       "$$\\left ( \\operatorname{E}\\left(\\epsilon,\\epsilon_{0},\\epsilon_{1},\\epsilon_{2},\\epsilon_{3}\\right), \\quad \\operatorname{D}\\left(\\dot{\\epsilon},\\dot{\\epsilon}_{0},\\dot{\\epsilon}_{1},\\dot{\\epsilon}_{2},\\dot{\\epsilon}_{3}\\right)\\right )$$"
      ],
      "text/plain": [
       "(E(ε, ε₀, ε₁, ε₂, ε₃), D(ε̇, ε₀̇, ε₁̇, ε₂̇, ε₃̇))"
      ]
     },
     "execution_count": 6,
     "metadata": {},
     "output_type": "execute_result"
    }
   ],
   "source": [
    "E, D"
   ]
  },
  {
   "cell_type": "code",
   "execution_count": 7,
   "metadata": {
    "collapsed": false
   },
   "outputs": [
    {
     "data": {
      "text/latex": [
       "$$\\sigma = \\left. \\frac{\\partial}{\\partial \\xi_{2}} D{\\left (\\xi_{2},\\frac{d}{d t} \\epsilon_{0}{\\left (t \\right )},\\frac{d}{d t} \\epsilon_{1}{\\left (t \\right )},\\frac{d}{d t} \\epsilon_{2}{\\left (t \\right )},\\frac{d}{d t} \\epsilon_{3}{\\left (t \\right )} \\right )} \\right|_{\\substack{ \\xi_{2}=\\dot{\\epsilon} }} + \\left. \\frac{\\partial}{\\partial \\xi_{2}} E{\\left (\\xi_{2},\\epsilon_{0}{\\left (t \\right )},\\epsilon_{1}{\\left (t \\right )},\\epsilon_{2}{\\left (t \\right )},\\epsilon_{3}{\\left (t \\right )} \\right )} \\right|_{\\substack{ \\xi_{2}=\\epsilon }}$$"
      ],
      "text/plain": [
       "    ⎛ ∂                            ⎞│        ⎛ ∂                        ⎞│    \n",
       "σ = ⎜───(D(ξ₂, ε₀̇, ε₁̇, ε₂̇, ε₃̇))⎟│      + ⎜───(E(ξ₂, ε₀, ε₁, ε₂, ε₃))⎟│    \n",
       "    ⎝∂ξ₂                           ⎠│ξ₂=ε̇   ⎝∂ξ₂                       ⎠│ξ₂=ε"
      ]
     },
     "execution_count": 7,
     "metadata": {},
     "output_type": "execute_result"
    }
   ],
   "source": [
    "constitutive_equation "
   ]
  },
  {
   "cell_type": "markdown",
   "metadata": {},
   "source": [
    "* If only spring, dashpots and sliders: equiv. to rheological model.\n",
    "* If $D$ a quadratic function of its aguments $\\rightarrow$ hydrodynamical formalism"
   ]
  },
  {
   "cell_type": "markdown",
   "metadata": {},
   "source": [
    "### C.  Specificity of cellular material modeling\n",
    "\n",
    "#### 1. Intra-cell and inter-cell deformation\n",
    "\n",
    "Decomposition of the tissue deformation rate into intra (constituent cells) and inter (cell-cell relative speeds).\n",
    "\n",
    "![in_out_decomposition](in_out_decomposition.svg)\n",
    "\n",
    "* Total deformation $\\epsilon$: followed by **markers** moving with the tissue\n",
    "* intra cellular deformation $\\epsilon_{intra}$:\n",
    " > anisotropy of a group of **tracers** attached to a reference frame and its\n",
    "   neighbours, followed by an average over reference cells.\n",
    "   [...] _not attached to the tissue_ [...]\n",
    "* inter cellular deformation $\\epsilon_{intra}$: cell rearrengements & relative movements -> tracking rearrangements themselves\n",
    "\n",
    "Compact tissue $\\Rightarrow$ tissue stress $\\sigma$ is equal to cell's stress."
   ]
  },
  {
   "cell_type": "code",
   "execution_count": 8,
   "metadata": {
    "collapsed": false
   },
   "outputs": [
    {
     "data": {
      "image/png": "[encoded data removed]",
      "text/latex": [
       "$$\\dot{\\epsilon} = \\epsilon_{inter} + \\epsilon_{intra}$$"
      ],
      "text/plain": [
       "ε̇ = εᵢₙₜₑᵣ + εᵢₙₜᵣₐ"
      ]
     },
     "execution_count": 8,
     "metadata": {},
     "output_type": "execute_result"
    }
   ],
   "source": [
    "### Decomposition in series\n",
    "e_intra = dynamicsymbols('epsilon_intra')\n",
    "e_inter = dynamicsymbols('epsilon_inter')\n",
    "eq_9 = Eq(epsilon.diff(), e_inter + e_intra)\n",
    "eq_9"
   ]
  },
  {
   "cell_type": "markdown",
   "metadata": {},
   "source": [
    "##### Eulerian description\n",
    "\n",
    "$$\n",
    "\\dot{\\epsilon} = \\frac{\\nabla \\vec{v} + \\nabla \\vec{v}^T}{2}\n",
    "$$"
   ]
  },
  {
   "cell_type": "markdown",
   "metadata": {},
   "source": [
    "##### Parameters and variables\n",
    "\n",
    "Those are [**fields**](http://docs.sympy.org/dev/modules/physics/vector/fields.html)\n",
    "\n",
    "#### Momentum conservation\n",
    "\n",
    "$\\nabla \\sigma(\\vec{x}, t) + \\vec{f}(\\vec{x}, t) = \\vec{0}$\n"
   ]
  },
  {
   "cell_type": "code",
   "execution_count": 9,
   "metadata": {
    "collapsed": false
   },
   "outputs": [],
   "source": [
    "R = ReferenceFrame('R')\n",
    "t = symbols('t')"
   ]
  },
  {
   "cell_type": "markdown",
   "metadata": {},
   "source": [
    "## Ingredients included in tissue modeling\n",
    "\n",
    ">A (non-exhaustive) list of ingredients for tissue modelling \n",
    "includes viscosity, elasticity, plasticity, growth, \n",
    "contractility, chemical concentration fields, cell polarity, and\n",
    "their feedbacks."
   ]
  },
  {
   "cell_type": "markdown",
   "metadata": {},
   "source": [
    "### Plasticity"
   ]
  }
 ],
 "metadata": {
  "kernelspec": {
   "display_name": "Python 3",
   "language": "python",
   "name": "python3"
  },
  "language_info": {
   "codemirror_mode": {
    "name": "ipython",
    "version": 3
   },
   "file_extension": ".py",
   "mimetype": "text/x-python",
   "name": "python",
   "nbconvert_exporter": "python",
   "pygments_lexer": "ipython3",
   "version": "3.5.1"
  }
 },
 "nbformat": 4,
 "nbformat_minor": 0
}
