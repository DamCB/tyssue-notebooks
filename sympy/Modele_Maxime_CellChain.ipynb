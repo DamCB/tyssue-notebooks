{
 "cells": [
  {
   "cell_type": "markdown",
   "metadata": {},
   "source": [
    "# Le Programme Cell Chain Article version Septembre 2014"
   ]
  },
  {
   "cell_type": "markdown",
   "metadata": {},
   "source": [
    "## Les imports"
   ]
  },
  {
   "cell_type": "code",
   "execution_count": 7,
   "metadata": {
    "collapsed": false
   },
   "outputs": [],
   "source": [
    "import numpy as np\n",
    "from sys import stdout\n",
    "from itertools import chain\n",
    "%matplotlib inline\n",
    "import matplotlib.pyplot as plt\n",
    "from warnings import catch_warnings, filterwarnings\n",
    "import pylab"
   ]
  },
  {
   "cell_type": "code",
   "execution_count": 8,
   "metadata": {
    "collapsed": false
   },
   "outputs": [
    {
     "data": {
      "text/plain": [
       "1.0"
      ]
     },
     "execution_count": 8,
     "metadata": {},
     "output_type": "execute_result"
    }
   ],
   "source": [
    "import scipy\n",
    "np.sinc(0)"
   ]
  },
  {
   "cell_type": "code",
   "execution_count": 9,
   "metadata": {
    "collapsed": false
   },
   "outputs": [],
   "source": [
    "class math_functions() :\n",
    "    \n",
    "    def __init__(self,mysafety=1e10) :\n",
    "            self.safety = mysafety\n",
    "            \n",
    "    def sinus_card(self,theta) :\n",
    "        \n",
    "        if (theta/self.safety == 0) :\n",
    "            sinus_card = 1.\n",
    "        else :\n",
    "            sinus_card = np.sin(theta)/theta           \n",
    "        return sinus_card\n",
    "    \n",
    "    def sinus_card_p(self,theta) :\n",
    "        \n",
    "        if (theta**2/self.safety == 0) :\n",
    "            sinus_card_p = 0.\n",
    "        else :\n",
    "            sinus_card_p = (np.cos(theta) * theta - np.sin(theta)) / theta**2    \n",
    "        return sinus_card_p\n",
    "    \n",
    "    def volume_theta(self,theta) :\n",
    "        \n",
    "        if (theta**2/self.safety == 0) :\n",
    "            volume_theta = theta / 6\n",
    "        else :\n",
    "            volume_theta = (theta - np.sin(theta))/theta**2\n",
    "        return volume_theta\n",
    "    \n",
    "    def volume_theta_p(self,theta) :\n",
    "        \n",
    "        if (theta**3/self.safety == 0) :\n",
    "            volume_theta_p = 1./6.\n",
    "        else :\n",
    "            volume_theta_p = (2.*np.sin(theta) -np.cos(theta)*theta -theta) / theta**3\n",
    "        return volume_theta_p\n",
    "\n",
    "class other_functions() :\n",
    "    \n",
    "    def force_theta(self,theta,L_cc,L_cm) :\n",
    "        \n",
    "        u = L_cc / L_cm\n",
    "    \n",
    "        u_L_cc=  1./L_cm\n",
    "    \n",
    "        u_L_cm =  - L_cc / L_cm**2\n",
    "        \n",
    "        A = 2 * np.cos(theta/2) - theta * u\n",
    "    \n",
    "        B =  (u + 1.) / (u * np.sin(theta/2.) + 1.)\n",
    "    \n",
    "        A_u =  -theta\n",
    "    \n",
    "        A_theta =  np.sin(theta/2)\n",
    "    \n",
    "        B_u = (1. -np.sin(theta/2)) / (u * np.sin(theta/2.) + 1.)**2\n",
    "    \n",
    "        B_theta =  -u * (u + 1.) / (u*np.sin(theta/2) + 1.)\n",
    "      \n",
    "        return A_theta * B + A * B_theta\n",
    "    \n",
    "    def force_L_cc(self,theta,L_cc,L_cm) :\n",
    "        \n",
    "        u = L_cc / L_cm\n",
    "    \n",
    "        u_L_cc=  1./L_cm\n",
    "    \n",
    "        u_L_cm =  - L_cc / L_cm**2\n",
    "        \n",
    "        A = 2 * np.cos(theta/2) - theta * u\n",
    "    \n",
    "        B =  (u + 1.) / (u * np.sin(theta/2.) + 1.)\n",
    "    \n",
    "        A_u =  -theta\n",
    "    \n",
    "        A_theta =  np.sin(theta/2)\n",
    "    \n",
    "        B_u = (1. -np.sin(theta/2)) / (u * np.sin(theta/2.) + 1.)**2\n",
    "    \n",
    "        B_theta =  -u * (u + 1.) / (u*np.sin(theta/2) + 1.)\n",
    "      \n",
    "        return (A_u * B + A * B_u) * u_L_cc\n",
    "    \n",
    "    def force_L_cm(self,theta,L_cc,L_cm) :\n",
    "        \n",
    "        u = L_cc / L_cm\n",
    "    \n",
    "        u_L_cc=  1./L_cm\n",
    "    \n",
    "        u_L_cm =  - L_cc / L_cm**2\n",
    "        \n",
    "        A = 2 * np.cos(theta/2) - theta * u\n",
    "    \n",
    "        B =  (u + 1.) / (u * np.sin(theta/2.) + 1.)\n",
    "    \n",
    "        A_u =  -theta\n",
    "    \n",
    "        A_theta =  np.sin(theta/2)\n",
    "    \n",
    "        B_u = (1. -np.sin(theta/2)) / (u * np.sin(theta/2.) + 1.)**2\n",
    "    \n",
    "        B_theta =  -u * (u + 1.) / (u*np.sin(theta/2) + 1.)\n",
    "         \n",
    "        return (A_u * B + A * B_u) * u_L_cm\n",
    "    \n",
    "    def Linear_Syst(self,theta,sigma_cm,sigma_cc,eta_cc,m_cc,L_cc,L_cm, F_dot,V_dot,G_cc,G_cc_dot,G_cm,G_cm_dot,eta_cm,m_cm,v_adh,s) :\n",
    "    \n",
    "        M = np.zeros([7, 7])\n",
    "        Vec = np.zeros(7)\n",
    "        \n",
    "        trigg = math_functions()\n",
    "        \n",
    "        M[0,0] = 1.\n",
    "        M[0,1] = -np.sin(theta/2.)\n",
    "        M[0,2] = 0.\n",
    "        M[0,3] = 0.\n",
    "        M[0,4] = 0.\n",
    "        M[0,5] = 0.\n",
    "        M[0,6] = -sigma_cm/2.*np.cos(theta/2.)\n",
    "        Vec[0] = 0.\n",
    "             \n",
    "        M[1,0] = 0.\n",
    "        M[1,1] = 0.\n",
    "        M[1,2] = 0.\n",
    "        \n",
    "        \n",
    "        \n",
    "        \n",
    "        \"\"\"M[1,3] = -eta_cc * m_cc * (-theta/L_cm*(L_cc+L_cm)/(L_cc*np.sin(theta/2)+L_cm) + \\\n",
    "                (2*np.cos(theta/2)-theta*L_cc/L_cm)/(L_cc*np.sin(theta/2)+L_cm)**2*L_cm*(1-np.sin(theta/2)))   \n",
    "        \n",
    "        M[1,4] = eta_cc * m_cc * (theta*L_cc/L_cm**2*(L_cc+L_cm)/(L_cc*np.sin(theta/2)+L_cm) + \\\n",
    "                (2*np.cos(theta/2.)-theta*L_cc/L_cm)/(L_cc*np.sin(theta/2.)+L_cm)**2*L_cc*(np.sin(theta/2)-1))  \n",
    "        \n",
    "        M[1,5] = eta_cc * m_cc * (-theta/L_cm*(L_cc+L_cm)/(L_cc*np.sin(theta/2.)+L_cm) + \\\n",
    "                (2*np.cos(theta/2.)-theta*L_cc/L_cm)/(L_cc*np.sin(theta/2.)+L_cm)**2*L_cm*(1.-np.sin(theta/2)))\n",
    "        \n",
    "        M[1,6] = -eta_cc * m_cc * ((np.sin(theta/2.)+L_cc/L_cm)*(L_cc+L_cm)/(L_cc*np.sin(theta/2.)+L_cm) + \\\n",
    "                (2*np.cos(theta/2.)-theta*L_cc/L_cm)*1./2.*np.cos(theta/2.)*L_cc*(L_cc+L_cm)/(L_cc*np.sin(theta/2.)+L_cm)**2)\"\"\"\n",
    "        \n",
    "        \n",
    "        M[1,3] = -eta_cc * m_cc * self.force_L_cc(theta,L_cc,L_cm)\n",
    "        M[1,4] = eta_cc * m_cc * self.force_L_cm(theta,L_cc,L_cm)\n",
    "        M[1,5] = eta_cc * m_cc * self.force_L_cc(theta,L_cc,L_cm)\n",
    "        M[1,6] = -eta_cc * m_cc * self.force_theta(theta,L_cc,L_cm)\n",
    "        Vec[1] = F_dot\n",
    "        \n",
    "                               \n",
    "        M[2,0] = 0.\n",
    "        M[2,1] = 0.\n",
    "        M[2,2] = 0.\n",
    "        M[2,3] = -L_cm * trigg.sinus_card(theta/2)\n",
    "        M[2,4] =  2. * L_cm * trigg.volume_theta(theta)  + L_cc * trigg.sinus_card(theta/2)\n",
    "        M[2,5] = L_cm * trigg.sinus_card(theta/2)\n",
    "        M[2,6]  = L_cm * L_cc * 1./2. * trigg.sinus_card_p(theta/2) + L_cm**2 * trigg.volume_theta_p(theta)     \n",
    "        Vec[2] = V_dot\n",
    "\n",
    "        M[3,0] = -L_cc/G_cc\n",
    "        M[3,1] = 0.\n",
    "        M[3,2] = -2.\n",
    "        M[3,3] = 0.\n",
    "        M[3,4] = 0.\n",
    "        M[3,5] = 1.\n",
    "        M[3,6] = 0.\n",
    "        Vec[3] = L_cc*((1./eta_cc-G_cc_dot/G_cc**2.)*sigma_cc-m_cc) +2.*v_adh\n",
    "\n",
    "        M[4,0] = 0.\n",
    "        M[4,1] = -L_cm/G_cm\n",
    "        M[4,2] = 2\n",
    "        M[4,3] = 0.\n",
    "        M[4,4] = 1.\n",
    "        M[4,5] = 0.\n",
    "        M[4,6] = 0.\n",
    "        Vec[4] = L_cm*((1./eta_cm-G_cm_dot/G_cm**2.)*sigma_cm-m_cm)-2.*v_adh\n",
    "        \n",
    "        M[5,0] = 0.\n",
    "        M[5,1] = 0.\n",
    "        M[5,2] = (1.+s)*(2.-s)/2.\n",
    "        M[5,3] = 0.\n",
    "        M[5,4] = 0.\n",
    "        M[5,5] = 0.\n",
    "        M[5,6] = (s-1.)*s/2.\n",
    "        Vec[5] = 0. \n",
    "        \n",
    "        M[6,0] = 0.\n",
    "        M[6,1] = 0.\n",
    "        M[6,2] = 0.\n",
    "        M[6,3] = (2.+s)*(1.-s)/2.\n",
    "        M[6,4] = 0.\n",
    "        M[6,5] = 0.\n",
    "        M[6,6] = (s+1.)*s/2.\n",
    "        Vec[6] = 0. \n",
    "        \n",
    "        return M, Vec\n",
    "                                        \n",
    "    \n",
    "        "
   ]
  },
  {
   "cell_type": "markdown",
   "metadata": {},
   "source": [
    "## La classe cell"
   ]
  },
  {
   "cell_type": "code",
   "execution_count": 10,
   "metadata": {
    "collapsed": false
   },
   "outputs": [
    {
     "ename": "SyntaxError",
     "evalue": "invalid syntax (<ipython-input-10-a1c571de8fa5>, line 41)",
     "output_type": "error",
     "traceback": [
      "\u001b[1;36m  File \u001b[1;32m\"<ipython-input-10-a1c571de8fa5>\"\u001b[1;36m, line \u001b[1;32m41\u001b[0m\n\u001b[1;33m    exec 'self.'+var+' = np.float64('+var+') * np.ones(1)'\u001b[0m\n\u001b[1;37m               ^\u001b[0m\n\u001b[1;31mSyntaxError\u001b[0m\u001b[1;31m:\u001b[0m invalid syntax\n"
     ]
    }
   ],
   "source": [
    "class cell() :\n",
    "    \"\"\"Handles all things physical!\"\"\"\n",
    "\n",
    "    def __init__(self, dt, freq, F_0, F_dot_0, v_adh_0, F_adh0,\n",
    "                m_cc=0.1, eta_cc=0.5, G_cc_dot=0., \n",
    "                m_cm=0.1, eta_cm=0.5, G_cm_dot=0.,\n",
    "                V_dot=0.) :\n",
    "        \n",
    "        \n",
    "        self.steps_elapsed = 0\n",
    "    \n",
    "        trigg = math_functions()\n",
    "        \n",
    "        # Global variables string list\n",
    "        self.vars = [['dt', 'freq',\\\n",
    "                      'm_cc','eta_cc','G_cc_dot', \\\n",
    "                      'm_cm','eta_cm','G_cm_dot', 'F_adh0',\\\n",
    "                      'v_adh_0', 'F_0','F_dot_0','V_dot'], \\\n",
    "                     ['sigma_cc','sigma_cm','v_sqz','L_buck', \\\n",
    "                      'L_cc','L_cm','theta','L_x', 'G_cc','G_cm','s','thetime','v_adh','Volume','F','F_dot']]\n",
    "            \n",
    "            \n",
    "        \n",
    "        self.list = list(chain.from_iterable(self.vars))\n",
    "        \n",
    "        sigma_cc = m_cc * eta_cc\n",
    "        sigma_cm = m_cm * eta_cm\n",
    "        v_sqz = 0.\n",
    "        L_buck = 0.\n",
    "        L_cc = 0.\n",
    "        L_cm = 0.5*3.14159\n",
    "        theta = 3.14159\n",
    "        L_x = L_cm * trigg.sinus_card(theta/2)\n",
    "        G_cc = 1.\n",
    "        G_cm = 1.\n",
    "        s = 0\n",
    "        thetime = 0.\n",
    "        v_adh=v_adh_0\n",
    "        Volume = (L_cc-L_buck)*L_cm * trigg.sinus_card(theta/2) + L_cm**2*trigg.volume_theta(theta)\n",
    "        F=F_0\n",
    "        F_dot=F_dot_0\n",
    "        \n",
    "        \n",
    "        # Parameters initialisation\n",
    "        for var in self.vars[0] : \n",
    "            exec 'self.'+var+' = np.float64('+var+') * np.ones(1)'\n",
    "                                \n",
    "        # Variables initialization\n",
    "        for var in self.vars[1] : \n",
    "            exec 'self.'+var+' = np.float64('+var+') * np.ones(2)'\n",
    "            \n",
    "        self.update_diff()\n",
    "        \n",
    "        \n",
    "    def update_diff(self) :\n",
    "               \n",
    "        self.L_x[0] = self.L_cm[0] * self.trigg.sinus_card(self.theta[0]/2)\n",
    "            \n",
    "        self.v_adh[0] = self.v_adh_0 * (1-self.sigma_cc[0] * np.sin((np.pi-self.theta[0])/2.0)/self.F_adh0)\n",
    "        \n",
    "        self.Volume[0] = (self.L_cc[0]-self.L_buck[0]) * self.L_cm[0] * self.trigg.sinus_card(self.theta[0]/2) + \\\n",
    "                                                      self.L_cm[0]**2 * self.trigg.volume_theta(self.theta[0])           \n",
    "        self.F_dot[0] = self.F_dot_function(t,Nstep)            \n",
    "            \n",
    "        ############################################\n",
    "        \n",
    "        for var in self.list : \n",
    "            exec var+' = self.'+var+'.copy()[0]'\n",
    "          \n",
    "        M = np.zeros([7, 7])\n",
    "        Vec = np.zeros(7)\n",
    "        \n",
    "        M, Vec = others.Linear_Syst(theta,sigma_cm,sigma_cc,eta_cc,m_cc,L_cc,L_cm, \\\n",
    "                        F_dot,V_dot,G_cc,G_cc_dot,G_cm,G_cm_dot,eta_cm,m_cm,v_adh,s)\n",
    "           \n",
    "    \n",
    "        ###########################################\n",
    "\n",
    "        self.determ = np.linalg.det(M) * np.ones(1)\n",
    "\n",
    "        self.v_sqz[0] = self.v_sqz[1] # keep track of previous v_sqz\n",
    "\n",
    "        # find variable derivatives\n",
    "        self.sigma_cc[1], self.sigma_cm[1], self.v_sqz[1], \\\n",
    "             self.L_buck[1], self.L_cm[1], self.L_cc[1],\\\n",
    "             self.theta[1] \\\n",
    "                = np.linalg.solve(M, Vec)\n",
    "                \n",
    "        \n",
    "    ###########################################\n",
    "    def increment(self,deltat) :\n",
    "        \n",
    "        self.thetime += deltat\n",
    "        self.sigma_cc[0] += self.sigma_cc[1] * deltat\n",
    "        self.sigma_cm[0] += self.sigma_cm[1] * deltat\n",
    "        self.L_buck[0] += self.L_buck[1] * deltat\n",
    "        self.L_cm[0] += self.L_cm[1] * deltat\n",
    "        self.L_cc[0] += self.L_cc[1] * deltat\n",
    "        self.theta[0] += self.theta[1] * deltat\n",
    "        self.F[0] += self.F_dot[0] * deltat\n",
    "        self.G_cc[0] += self.G_cc_dot * deltat\n",
    "        self.G_cm[0] += self.G_cm_dot * deltat\n",
    "        \n",
    "    ###########################################                 \n",
    "    def step(self) :\n",
    "    \n",
    "\n",
    "        self.steps_elapsed += 1\n",
    "        self.time = self.steps_elapsed * self.dt\n",
    "\n",
    "        self.increment(self.dt)\n",
    "        \n",
    "        #print self.theta[0]\n",
    "        test = 0\n",
    "        if (self.s[0] == 0) & (test == 0) :\n",
    "            self.L_buck[0] = 0.0\n",
    "            \n",
    "            if (self.theta[0] >= np.pi) & (self.theta[1] > 0.0) :\n",
    "                self.s[0] = -1\n",
    "                # backtime is supposed to be positive\n",
    "                backtime = (self.theta[0] - np.pi) / self.theta[1]\n",
    "                self.increment(-backtime)\n",
    "                self.theta[0] = np.pi\n",
    "                test = 1\n",
    "\n",
    "            if (self.theta[0] <= 0.0) & (self.theta[1] < 0.0) :\n",
    "                self.s[0] = 1\n",
    "                # backtime is supposed to be positive\n",
    "                backtime = - (0.0 - self.theta[0]) / self.theta[1]\n",
    "                self.increment(-backtime)\n",
    "                self.theta[0] = 0.0\n",
    "                test = 1\n",
    "                \n",
    "        if (self.s[0] == 1) & (test == 0) :\n",
    "            self.theta[0] = 0.0\n",
    "            \n",
    "            if (self.L_buck[0] <= 0.0) & (self.L_buck[1] < 0.0) :\n",
    "                self.s[0] = 0\n",
    "                # backtime is supposed to be positive\n",
    "                backtime = -(0.0 - self.L_buck[0]) / self.L_buck[1]\n",
    "                self.increment(-backtime)\n",
    "                test = 1\n",
    "        \n",
    "        if (self.s[0] == -1) & (test == 0) :\n",
    "            self.L_buck[0] = 0.0\n",
    "            self.theta[0] = np.pi\n",
    "            \n",
    "            if (self.v_sqz[1] < 0.0) :\n",
    "                self.s[0] = 0\n",
    "                # backtime is supposed to be positive\n",
    "                backtime = self.v_sqz[1] / (self.v_sqz[1] - self.v_sqz[0]) * self.dt\n",
    "                self.increment(-backtime)\n",
    "                test = 1\n",
    "            \n",
    "        self.update_diff()\n",
    "        \n",
    "    def F_dot_function(self,t,Nstep) :\n",
    "        \n",
    "        for var in self.list : \n",
    "            exec var+' = self.'+var+'.copy()[0]'\n",
    "        \n",
    "        F_dot=0.\n",
    "        F_dot_cible = 0.001\n",
    "        \n",
    "        if t >= Nstep/4. :\n",
    "            F_dot = F_dot_cible * (1. - 1./(1.+((t-Nstep/4.)/(Nstep/9.))**6.))\n",
    "            \n",
    "        if t >= 1.2*Nstep/4.0 :\n",
    "            F_dot = 0.0\n",
    "            \n",
    "        \"\"\"if t<=Nstep/10 :\n",
    "            F_dot = F_dot_0\n",
    "        else :\n",
    "            F_dot = 0.\"\"\"\n",
    "        \n",
    "        if (self.freq != 0) :\n",
    "            ampl = min(1./10. * min(G_cc/eta_cc,min(m_cc,v_adh_0/L_x_0)) /freq, L_x_0/5)\n",
    "            F_dot = - ampl * 2. * np.pi * freq * np.sin(2*np.pi*freq*t*dt)\n",
    "        \n",
    "        return F_dot\n",
    "\n",
    "        "
   ]
  },
  {
   "cell_type": "markdown",
   "metadata": {},
   "source": [
    "## L'itération"
   ]
  },
  {
   "cell_type": "code",
   "execution_count": 16,
   "metadata": {
    "collapsed": false
   },
   "outputs": [
    {
     "name": "stdout",
     "output_type": "stream",
     "text": [
      "Max. number of steps : \u001b[34;49m2000\u001b[m (sim. time : \u001b[34;49m20.0\u001b[ms)\n"
     ]
    },
    {
     "ename": "AttributeError",
     "evalue": "cell instance has no attribute 'trigg'",
     "output_type": "error",
     "traceback": [
      "\u001b[1;31m---------------------------------------------------------------------------\u001b[0m\n\u001b[1;31mAttributeError\u001b[0m                            Traceback (most recent call last)",
      "\u001b[1;32m<ipython-input-16-04efbb280468>\u001b[0m in \u001b[0;36m<module>\u001b[1;34m()\u001b[0m\n\u001b[0;32m     24\u001b[0m \u001b[1;33m\u001b[0m\u001b[0m\n\u001b[0;32m     25\u001b[0m \u001b[1;31m# Function class instance - cell.py\u001b[0m\u001b[1;33m\u001b[0m\u001b[1;33m\u001b[0m\u001b[0m\n\u001b[1;32m---> 26\u001b[1;33m \u001b[0msyst\u001b[0m \u001b[1;33m=\u001b[0m \u001b[0mcell\u001b[0m\u001b[1;33m(\u001b[0m\u001b[0mdt\u001b[0m\u001b[1;33m=\u001b[0m\u001b[0mdt\u001b[0m\u001b[1;33m,\u001b[0m\u001b[0mfreq\u001b[0m\u001b[1;33m=\u001b[0m\u001b[0mfreq\u001b[0m\u001b[1;33m,\u001b[0m\u001b[0mF_0\u001b[0m\u001b[1;33m=\u001b[0m\u001b[1;36m0.0\u001b[0m\u001b[1;33m,\u001b[0m\u001b[0mF_dot_0\u001b[0m\u001b[1;33m=\u001b[0m\u001b[1;33m-\u001b[0m\u001b[1;36m0.01\u001b[0m\u001b[1;33m,\u001b[0m\u001b[0mv_adh_0\u001b[0m\u001b[1;33m=\u001b[0m\u001b[1;36m0.02\u001b[0m\u001b[1;33m,\u001b[0m\u001b[0mF_adh0\u001b[0m\u001b[1;33m=\u001b[0m\u001b[1;36m0.06\u001b[0m\u001b[1;33m)\u001b[0m\u001b[1;33m\u001b[0m\u001b[0m\n\u001b[0m\u001b[0;32m     27\u001b[0m \u001b[1;33m\u001b[0m\u001b[0m\n\u001b[0;32m     28\u001b[0m \u001b[1;31m# Variables to be displayed\u001b[0m\u001b[1;33m\u001b[0m\u001b[1;33m\u001b[0m\u001b[0m\n",
      "\u001b[1;32m<ipython-input-15-a1c571de8fa5>\u001b[0m in \u001b[0;36m__init__\u001b[1;34m(self, dt, freq, F_0, F_dot_0, v_adh_0, F_adh0, m_cc, eta_cc, G_cc_dot, m_cm, eta_cm, G_cm_dot, V_dot)\u001b[0m\n\u001b[0;32m     45\u001b[0m             \u001b[1;32mexec\u001b[0m \u001b[1;34m'self.'\u001b[0m\u001b[1;33m+\u001b[0m\u001b[0mvar\u001b[0m\u001b[1;33m+\u001b[0m\u001b[1;34m' = np.float64('\u001b[0m\u001b[1;33m+\u001b[0m\u001b[0mvar\u001b[0m\u001b[1;33m+\u001b[0m\u001b[1;34m') * np.ones(2)'\u001b[0m\u001b[1;33m\u001b[0m\u001b[0m\n\u001b[0;32m     46\u001b[0m \u001b[1;33m\u001b[0m\u001b[0m\n\u001b[1;32m---> 47\u001b[1;33m         \u001b[0mself\u001b[0m\u001b[1;33m.\u001b[0m\u001b[0mupdate_diff\u001b[0m\u001b[1;33m(\u001b[0m\u001b[1;33m)\u001b[0m\u001b[1;33m\u001b[0m\u001b[0m\n\u001b[0m\u001b[0;32m     48\u001b[0m \u001b[1;33m\u001b[0m\u001b[0m\n\u001b[0;32m     49\u001b[0m \u001b[1;33m\u001b[0m\u001b[0m\n",
      "\u001b[1;32m<ipython-input-15-a1c571de8fa5>\u001b[0m in \u001b[0;36mupdate_diff\u001b[1;34m(self)\u001b[0m\n\u001b[0;32m     50\u001b[0m     \u001b[1;32mdef\u001b[0m \u001b[0mupdate_diff\u001b[0m\u001b[1;33m(\u001b[0m\u001b[0mself\u001b[0m\u001b[1;33m)\u001b[0m \u001b[1;33m:\u001b[0m\u001b[1;33m\u001b[0m\u001b[0m\n\u001b[0;32m     51\u001b[0m \u001b[1;33m\u001b[0m\u001b[0m\n\u001b[1;32m---> 52\u001b[1;33m         \u001b[0mself\u001b[0m\u001b[1;33m.\u001b[0m\u001b[0mL_x\u001b[0m\u001b[1;33m[\u001b[0m\u001b[1;36m0\u001b[0m\u001b[1;33m]\u001b[0m \u001b[1;33m=\u001b[0m \u001b[0mself\u001b[0m\u001b[1;33m.\u001b[0m\u001b[0mL_cm\u001b[0m\u001b[1;33m[\u001b[0m\u001b[1;36m0\u001b[0m\u001b[1;33m]\u001b[0m \u001b[1;33m*\u001b[0m \u001b[0mself\u001b[0m\u001b[1;33m.\u001b[0m\u001b[0mtrigg\u001b[0m\u001b[1;33m.\u001b[0m\u001b[0msinus_card\u001b[0m\u001b[1;33m(\u001b[0m\u001b[0mself\u001b[0m\u001b[1;33m.\u001b[0m\u001b[0mtheta\u001b[0m\u001b[1;33m[\u001b[0m\u001b[1;36m0\u001b[0m\u001b[1;33m]\u001b[0m\u001b[1;33m/\u001b[0m\u001b[1;36m2\u001b[0m\u001b[1;33m)\u001b[0m\u001b[1;33m\u001b[0m\u001b[0m\n\u001b[0m\u001b[0;32m     53\u001b[0m \u001b[1;33m\u001b[0m\u001b[0m\n\u001b[0;32m     54\u001b[0m         \u001b[0mself\u001b[0m\u001b[1;33m.\u001b[0m\u001b[0mv_adh\u001b[0m\u001b[1;33m[\u001b[0m\u001b[1;36m0\u001b[0m\u001b[1;33m]\u001b[0m \u001b[1;33m=\u001b[0m \u001b[0mself\u001b[0m\u001b[1;33m.\u001b[0m\u001b[0mv_adh_0\u001b[0m \u001b[1;33m*\u001b[0m \u001b[1;33m(\u001b[0m\u001b[1;36m1\u001b[0m\u001b[1;33m-\u001b[0m\u001b[0mself\u001b[0m\u001b[1;33m.\u001b[0m\u001b[0msigma_cc\u001b[0m\u001b[1;33m[\u001b[0m\u001b[1;36m0\u001b[0m\u001b[1;33m]\u001b[0m \u001b[1;33m*\u001b[0m \u001b[0mnp\u001b[0m\u001b[1;33m.\u001b[0m\u001b[0msin\u001b[0m\u001b[1;33m(\u001b[0m\u001b[1;33m(\u001b[0m\u001b[0mnp\u001b[0m\u001b[1;33m.\u001b[0m\u001b[0mpi\u001b[0m\u001b[1;33m-\u001b[0m\u001b[0mself\u001b[0m\u001b[1;33m.\u001b[0m\u001b[0mtheta\u001b[0m\u001b[1;33m[\u001b[0m\u001b[1;36m0\u001b[0m\u001b[1;33m]\u001b[0m\u001b[1;33m)\u001b[0m\u001b[1;33m/\u001b[0m\u001b[1;36m2.0\u001b[0m\u001b[1;33m)\u001b[0m\u001b[1;33m/\u001b[0m\u001b[0mself\u001b[0m\u001b[1;33m.\u001b[0m\u001b[0mF_adh0\u001b[0m\u001b[1;33m)\u001b[0m\u001b[1;33m\u001b[0m\u001b[0m\n",
      "\u001b[1;31mAttributeError\u001b[0m: cell instance has no attribute 'trigg'"
     ]
    }
   ],
   "source": [
    "dt=1e-2\n",
    "time_sim=20\n",
    "freq=1.e1\n",
    "freq=0\n",
    "\n",
    "if freq !=0 : \n",
    "        dt = min(1. / (500 * freq), 9e-1)\n",
    "        time_sim=50 + 5./freq\n",
    "        print dt\n",
    "tol=1e-5\n",
    "plot=True\n",
    "Nstep = int(round(time_sim / dt))\n",
    "\n",
    "CSI   = \"\\x1B[\"\n",
    "reset = CSI+\"m\"  \n",
    "\n",
    "color_str = lambda X: CSI+\"34;49m\"+str(X)+reset\n",
    "info_str = map(color_str, (Nstep, round(time_sim, 2)))\n",
    "\n",
    "print 'Max. number of steps : %s (sim. time : %ss)' % tuple(info_str)\n",
    "    \n",
    "# Exit mode - 0=normal, 1=problem with Lenghts, 2=problem with determinant\n",
    "ex = 0\n",
    "          \n",
    "# Function class instance - cell.py\n",
    "syst = cell(dt=dt,freq=freq,F_0=0.0,F_dot_0=-0.01,v_adh_0=0.02,F_adh0=0.06)\n",
    "\n",
    "# Variables to be displayed\n",
    "Vars = chain.from_iterable(syst.vars[1:])\n",
    "Vars = list(Vars)\n",
    "print Vars\n",
    "    \n",
    "for var in Vars: exec var+' = np.zeros(Nstep)' in globals(), locals()\n",
    "\n",
    "# Vectorial storage\n",
    "#for t in range(Nstep) :\n",
    "\n",
    "t = 1\n",
    "while thetime[t-1] <= time_sim :\n",
    "    \n",
    "    if t< Nstep :\n",
    "        for var in Vars: exec var+'[t] = syst.'+var+'[0]' in globals(), locals()\n",
    "    else :\n",
    "        for var in Vars: exec var+' = np.concatenate(['+var+',[syst.'+var+'[0]]])' in globals(), locals()\n",
    "            \n",
    "    if F[t] >= 0.005 :\n",
    "        syst.dt = 1.e-4 * np.ones(1)\n",
    "        \n",
    "\n",
    "     # Iteration\n",
    "    syst.step()\n",
    "\n",
    "    if (syst.L_cc[0] < 0.) | (syst.L_cm[0] <= 0.) :\n",
    "            Nstep = syst.steps_elapsed\n",
    "            ex = 1\n",
    "            break          \n",
    "    elif abs(syst.determ[0]) < tol :\n",
    "            Nstep = syst.steps_elapsed\n",
    "            ex = 2\n",
    "            break\n",
    "    t += 1\n",
    "                \n",
    "print 'Simulation ended after %s steps.\\t(Exit mode %i)' \\\n",
    "    % (color_str(Nstep), ex)\n",
    "        \n",
    "    \n",
    "        \n",
    "for var in Vars : \n",
    "    exec var+' = '+var+'[:Nstep]' in globals(), locals()\n",
    "\n",
    "T = [t * dt for t in range(Nstep)]"
   ]
  },
  {
   "cell_type": "markdown",
   "metadata": {},
   "source": [
    "## Sauvegarde résultats texte"
   ]
  },
  {
   "cell_type": "code",
   "execution_count": null,
   "metadata": {
    "collapsed": false
   },
   "outputs": [],
   "source": [
    "S = np.column_stack((thetime,sigma_cc,sigma_cm,v_sqz,L_buck,L_cc,L_cm,theta,L_x,G_cc,G_cm,s))\n",
    "np.savetxt('Results.txt', S)"
   ]
  },
  {
   "cell_type": "markdown",
   "metadata": {},
   "source": [
    "## Les graphes"
   ]
  },
  {
   "cell_type": "code",
   "execution_count": null,
   "metadata": {
    "collapsed": false
   },
   "outputs": [],
   "source": [
    "plt.plot(thetime, L_x)\n",
    "plt.xlim([0, max(thetime)])\n",
    "plt.title(r'$L_x$') "
   ]
  },
  {
   "cell_type": "code",
   "execution_count": null,
   "metadata": {
    "collapsed": false
   },
   "outputs": [],
   "source": [
    "plt.plot(thetime, sigma_cc)\n",
    "plt.xlim([0, max(thetime)])\n",
    "plt.title(r'$\\sigma_{cc}$') "
   ]
  },
  {
   "cell_type": "code",
   "execution_count": null,
   "metadata": {
    "collapsed": false
   },
   "outputs": [],
   "source": [
    "plt.plot(thetime, sigma_cm)\n",
    "plt.xlim([0, max(thetime)])\n",
    "plt.title(r'$\\sigma_{cm}$') "
   ]
  },
  {
   "cell_type": "code",
   "execution_count": null,
   "metadata": {
    "collapsed": false
   },
   "outputs": [],
   "source": [
    "plt.plot(thetime, L_buck)\n",
    "plt.xlim([0, max(thetime)])\n",
    "plt.title(r'$L_{buck}$')"
   ]
  },
  {
   "cell_type": "code",
   "execution_count": null,
   "metadata": {
    "collapsed": false
   },
   "outputs": [],
   "source": [
    "plt.plot(thetime, L_cc-L_buck)\n",
    "plt.xlim([0, max(thetime)])\n",
    "plt.title(r'$L_{cceff}$')   "
   ]
  },
  {
   "cell_type": "code",
   "execution_count": null,
   "metadata": {
    "collapsed": false
   },
   "outputs": [],
   "source": [
    "plt.plot(thetime, L_cm)\n",
    "plt.xlim([0, max(thetime)])\n",
    "plt.title(r'$L_{cm}$')   "
   ]
  },
  {
   "cell_type": "code",
   "execution_count": null,
   "metadata": {
    "collapsed": false
   },
   "outputs": [],
   "source": [
    "plt.plot(thetime, theta)\n",
    "plt.xlim([0, max(thetime)])\n",
    "plt.title(r'$\\theta$')   "
   ]
  },
  {
   "cell_type": "code",
   "execution_count": null,
   "metadata": {
    "collapsed": false
   },
   "outputs": [],
   "source": [
    "plt.plot(thetime, F)\n",
    "plt.xlim([0, max(thetime)])\n",
    "plt.title(r'$force$')"
   ]
  },
  {
   "cell_type": "code",
   "execution_count": null,
   "metadata": {
    "collapsed": false
   },
   "outputs": [],
   "source": [
    "plt.plot(thetime, v_adh)\n",
    "plt.xlim([0, max(thetime)])\n",
    "plt.title(r'$v_{adh}$')"
   ]
  },
  {
   "cell_type": "code",
   "execution_count": null,
   "metadata": {
    "collapsed": false
   },
   "outputs": [],
   "source": [
    "plt.plot(thetime, s)\n",
    "plt.xlim([0, max(thetime)])\n",
    "plt.title(r'$s$')"
   ]
  },
  {
   "cell_type": "code",
   "execution_count": null,
   "metadata": {
    "collapsed": false
   },
   "outputs": [],
   "source": [
    "plt.plot(T, Volume)\n",
    "plt.xlim([0, max(thetime)])\n",
    "plt.title(r'$Volume$')"
   ]
  },
  {
   "cell_type": "code",
   "execution_count": null,
   "metadata": {
    "collapsed": false
   },
   "outputs": [],
   "source": [
    "# Geometric variables\n",
    "res = 500\n",
    "Nadj = 3\n",
    "\n",
    "\n",
    "im_numb=1500\n",
    "\n",
    "alpha=(np.pi-theta[im_numb-1])/2.\n",
    "R=L_x[im_numb-1]/np.cos(alpha)/2\n",
    "\n",
    "\n",
    "l = 2 * R * np.cos(alpha)\n",
    "l_cc=L_cc[im_numb-1]\n",
    "\n",
    "\n",
    "\n",
    "tmpX = -l / 2 * np.ones(res)\n",
    "tmpY = R * np.sin(alpha)\n",
    "\n",
    "thetap = np.linspace(alpha, np.pi - alpha, num=res)\n",
    "y = np.linspace(l_cc/2, -l_cc/2, num=res)\n",
    "\n",
    "# Draw round sides\n",
    "round1 = (R * np.cos(thetap), R * np.sin(thetap) - tmpY +l_cc/2)\n",
    "round2 = (-round1[0], -round1[1])\n",
    "\n",
    "# Draw flat sides\n",
    "flat1 = (tmpX, y)\n",
    "flat2 = (-flat1[0], -flat1[1])\n",
    "    \n",
    "# Add adjacent cells\n",
    "size = int((Nadj - 1) / 2) \n",
    "xc = l * np.linspace(-size, size, num=Nadj)\n",
    "\n",
    "sep = np.empty([2,1])\n",
    "sep.fill(np.nan)\n",
    "\n",
    "for cell in range(Nadj) :\n",
    "    round1 = np.hstack((round1, sep, (round1[0]+xc[cell], round1[1])))\n",
    "    round2 = np.hstack((round2, sep, (round2[0]+xc[cell], round2[1])))\n",
    "    flat1 = np.hstack((flat1, sep, (flat1[0]+xc[cell], flat1[1])))\n",
    "    flat2 = np.hstack((flat2, sep, (flat2[0]+xc[cell], flat2[1])))\n",
    "    \n",
    "tr = 5.0\n",
    "plt.axes(aspect='equal')\n",
    "plt.plot(round1[0] ,round1[1], lw=tr,color='b')\n",
    "plt.plot(round2[0] ,round2[1], lw=tr,color='b')\n",
    "plt.plot(flat1[0] ,flat1[1], lw=tr,color='b')\n",
    "plt.plot(flat2[0] ,flat2[1], lw=tr,color='b')\n",
    "\n",
    "pylab.savefig('Figure.png',dpi=300)"
   ]
  },
  {
   "cell_type": "code",
   "execution_count": null,
   "metadata": {
    "collapsed": false
   },
   "outputs": [],
   "source": []
  },
  {
   "cell_type": "code",
   "execution_count": null,
   "metadata": {
    "collapsed": false
   },
   "outputs": [],
   "source": []
  }
 ],
 "metadata": {
  "kernelspec": {
   "display_name": "Python 3",
   "language": "python",
   "name": "python3"
  },
  "language_info": {
   "codemirror_mode": {
    "name": "ipython",
    "version": 3
   },
   "file_extension": ".py",
   "mimetype": "text/x-python",
   "name": "python",
   "nbconvert_exporter": "python",
   "pygments_lexer": "ipython3",
   "version": "3.5.1"
  }
 },
 "nbformat": 4,
 "nbformat_minor": 0
}
