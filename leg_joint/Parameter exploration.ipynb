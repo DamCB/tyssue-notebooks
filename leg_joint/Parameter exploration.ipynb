{
 "cells": [
  {
   "cell_type": "code",
   "execution_count": 1,
   "metadata": {
    "collapsed": false
   },
   "outputs": [],
   "source": [
    "%run leg_joint_morphogenesis.py"
   ]
  },
  {
   "cell_type": "code",
   "execution_count": 2,
   "metadata": {
    "collapsed": false
   },
   "outputs": [
    {
     "name": "stdout",
     "output_type": "stream",
     "text": [
      "Fold formation - Sheet.ipynb  leg_joint_morphogenesis.py~  specs.json\r\n",
      "\u001b[0m\u001b[01;34mleg_joint import\u001b[0m/             Mixed Geometry.ipynb\r\n",
      "leg_joint_morphogenesis.py    Parameter exploration.ipynb\r\n"
     ]
    }
   ],
   "source": [
    "ls"
   ]
  },
  {
   "cell_type": "code",
   "execution_count": 3,
   "metadata": {
    "collapsed": false
   },
   "outputs": [],
   "source": [
    "import ipyparallel as ipp\n",
    "import numpy as np\n",
    "import os\n",
    "\n",
    "home = os.environ['HOME']\n",
    "sim_save_dir = os.path.join(home, 'Simulations')\n",
    "if not os.path.isdir(sim_save_dir):\n",
    "    os.mkdir(sim_save_dir)\n",
    "\n",
    "client = ipp.Client()\n",
    "dview = client[:]\n",
    "\n",
    "r = dview.run('leg_joint_morphogenesis.py')\n",
    "\n",
    "tensions = [0.0, 1.0, 2.0]\n",
    "contracts = [0.0, 1.0, 2.0]\n",
    "tensions, contracts = np.meshgrid(tensions, contracts)\n",
    "\n",
    "dirnames = ['{}_lambda_{}_gamma'.format(l, g)\n",
    "            for l, g in zip(tensions.ravel(),\n",
    "                            contracts.ravel())]\n",
    "dirnames = [os.path.join(sim_save_dir, dirname)\n",
    "            for dirname in dirnames]\n",
    "\n",
    "nb_dir = [os.getcwd(),] * len(dirnames)\n",
    "results = dview.map(single_sim, \n",
    "                    [args for args in zip(tensions.ravel(), \n",
    "                                          contracts.ravel(),\n",
    "                                          dirnames, nb_dir)])\n",
    "    "
   ]
  },
  {
   "cell_type": "code",
   "execution_count": 4,
   "metadata": {
    "collapsed": false
   },
   "outputs": [
    {
     "name": "stdout",
     "output_type": "stream",
     "text": [
      "Automatic pdb calling has been turned ON\n"
     ]
    }
   ],
   "source": [
    "%pdb"
   ]
  },
  {
   "cell_type": "code",
   "execution_count": null,
   "metadata": {
    "collapsed": false
   },
   "outputs": [],
   "source": [
    "for res in results:\n",
    "    print('{} done'.format(res[-1]))"
   ]
  },
  {
   "cell_type": "markdown",
   "metadata": {},
   "source": [
    "### Single simulation for debugging"
   ]
  },
  {
   "cell_type": "code",
   "execution_count": 6,
   "metadata": {
    "collapsed": true
   },
   "outputs": [],
   "source": [
    "args = (0.0,\n",
    "        0.0,\n",
    "        os.path.join(sim_save_dir, 'test'),\n",
    "        os.get_cwd())\n",
    "\n",
    "single_sim(args)"
   ]
  },
  {
   "cell_type": "code",
   "execution_count": 9,
   "metadata": {
    "collapsed": false
   },
   "outputs": [
    {
     "name": "stdout",
     "output_type": "stream",
     "text": [
      "before_apoptosis_anchors.hf5  before.hf5\t   small_hexagonal.hf5\r\n",
      "before_apoptosis.hf5\t      small_ellipsoid.hf5\r\n"
     ]
    }
   ],
   "source": [
    "!ls ../data/hf5\n"
   ]
  },
  {
   "cell_type": "code",
   "execution_count": 14,
   "metadata": {
    "collapsed": false
   },
   "outputs": [],
   "source": [
    "datasets = hdf5.load_datasets('../data/hf5/before_apoptosis.hf5')\n",
    "with open(os.path.join(nb_dir[0], 'specs.json'), 'r') as sp_file:\n",
    "    specs = json.load(sp_file)\n",
    "sheet2 = Sheet('fold', datasets, specs)\n"
   ]
  },
  {
   "cell_type": "code",
   "execution_count": 15,
   "metadata": {
    "collapsed": false
   },
   "outputs": [
    {
     "data": {
      "text/plain": [
       "(<matplotlib.figure.Figure at 0x7f5308c37470>,\n",
       " <matplotlib.axes._subplots.AxesSubplot at 0x7f5308c3de10>)"
      ]
     },
     "execution_count": 15,
     "metadata": {},
     "output_type": "execute_result"
    }
   ],
   "source": [
    "sheet_view(sheet2)"
   ]
  },
  {
   "cell_type": "code",
   "execution_count": null,
   "metadata": {
    "collapsed": true
   },
   "outputs": [],
   "source": []
  }
 ],
 "metadata": {
  "kernelspec": {
   "display_name": "Python 3",
   "language": "python",
   "name": "python3"
  },
  "language_info": {
   "codemirror_mode": {
    "name": "ipython",
    "version": 3
   },
   "file_extension": ".py",
   "mimetype": "text/x-python",
   "name": "python",
   "nbconvert_exporter": "python",
   "pygments_lexer": "ipython3",
   "version": "3.5.1"
  }
 },
 "nbformat": 4,
 "nbformat_minor": 0
}
