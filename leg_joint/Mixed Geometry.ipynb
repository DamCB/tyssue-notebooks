{
 "cells": [
  {
   "cell_type": "code",
   "execution_count": 1,
   "metadata": {
    "collapsed": false
   },
   "outputs": [],
   "source": [
    "import pandas as pd\n",
    "import numpy as np\n",
    "import json\n",
    "import matplotlib.pylab as plt\n",
    "%matplotlib inline\n",
    "from scipy import optimize\n",
    "\n",
    "from tyssue.core.sheet import Sheet\n",
    "from tyssue.config.json_parser import load_default\n",
    "from tyssue.core.objects import get_opposite\n",
    "from tyssue.core.objects import Epithelium\n",
    "\n",
    "from tyssue.geometry.sheet_geometry import SheetGeometry as geom\n",
    "from tyssue.dynamics.apoptosis_model import SheetApoptosisModel as model\n",
    "from tyssue.dynamics.sheet_vertex_model import SheetModel as basemodel\n",
    "from tyssue.solvers.sheet_vertex_solver import Solver as solver\n",
    "\n",
    "#from tyssue.dynamics.sheet_isotropic_model import isotropic_relax\n",
    "\n",
    "from tyssue.draw.vispy_draw import vp_view\n",
    "from tyssue.topology.sheet_topology import type1_transition, remove_face\n",
    "\n",
    "from tyssue.draw.plt_draw import sheet_view\n",
    "import tyssue.draw.plt_draw as draw\n",
    "from tyssue.io.hdf5 import load_datasets"
   ]
  },
  {
   "cell_type": "code",
   "execution_count": 2,
   "metadata": {
    "collapsed": false
   },
   "outputs": [],
   "source": [
    "\n",
    "\n",
    "specs = {\n",
    "    'edge': {\n",
    "        'dx': 0.0, 'dy': 0.0, 'dz': 0.0,\n",
    "        'length': 0.0,\n",
    "        'nx': 0.0, 'ny': 0.0, 'nz': 1.0,\n",
    "        'srce': 0, 'trgt': 0, 'face': 0, 'cell': 0,\n",
    "        'segment': 'apical',\n",
    "        'sub_area': 0.0,\n",
    "        'line_tension': 0.12,\n",
    "        'basal_elasticity': 1.0,\n",
    "        },\n",
    "    'face': {\n",
    "        'area': 1.0,\n",
    "        'is_alive': True,\n",
    "        'num_sides': 6,\n",
    "        'perimeter': 1.0,\n",
    "        'x': 0.0, 'y': 0.0, 'z': 0.0,\n",
    "        'contractility': 0.04,\n",
    "        'segement': 'apical'\n",
    "        },\n",
    "    'cell': {\n",
    "        'vol': 1.0,\n",
    "        'vol_elasticity': 1.0,\n",
    "        'prefered_vol': 1.0,\n",
    "        #'ab_elasticity': 1.0,\n",
    "        #'prefered_hab': 1.0,\n",
    "        'is_alive': True,\n",
    "        'num_sides': 6,\n",
    "        'perimeter': 1.0,\n",
    "        'x': 0.0, 'y': 0.0, 'z': 0.0,\n",
    "        },\n",
    "     'settings': {\n",
    "        'geometry': 'cylindrical',\n",
    "        'height_axis': 'z'\n",
    "        },\n",
    "     'vert': {\n",
    "        'is_active': True,\n",
    "        'segment': 'apical',\n",
    "        'x': 0.0, 'y': 0.0, 'z': 0.0,\n",
    "        }\n",
    "    }\n"
   ]
  },
  {
   "cell_type": "code",
   "execution_count": 3,
   "metadata": {
    "collapsed": false
   },
   "outputs": [
    {
     "name": "stdout",
     "output_type": "stream",
     "text": [
      "after.obj                     Fold formation - Sheet.ipynb  render.blend\r\n",
      "before_apoptosis_anchors.hf5  Leg_joint_monolayer.ipynb     render.blend1\r\n",
      "before_apoptosis.hf5          leg_joint_morphogenesis.py    render.stl\r\n",
      "before_apoptosis.hf5.hf5      leg_joint_morphogenesis.py~   small_hexagonal.hf5\r\n",
      "before_monolayer              Mixed Geometry.ipynb          specs.json\r\n",
      "\u001b[0m\u001b[01;35mbefore.png\u001b[0m                    Parameter exploration.ipynb\r\n"
     ]
    }
   ],
   "source": [
    "ls"
   ]
  },
  {
   "cell_type": "code",
   "execution_count": 4,
   "metadata": {
    "collapsed": false
   },
   "outputs": [
    {
     "ename": "ValueError",
     "evalue": "Length of values does not match length of index",
     "output_type": "error",
     "traceback": [
      "\u001b[1;31m---------------------------------------------------------------------------\u001b[0m",
      "\u001b[1;31mValueError\u001b[0m                                Traceback (most recent call last)",
      "\u001b[1;32m<ipython-input-4-9c7560c07f8f>\u001b[0m in \u001b[0;36m<module>\u001b[1;34m()\u001b[0m\n\u001b[0;32m     63\u001b[0m \u001b[1;33m\u001b[0m\u001b[0m\n\u001b[0;32m     64\u001b[0m \u001b[0mbasal_edges\u001b[0m\u001b[1;33m[\u001b[0m\u001b[1;34m'srce'\u001b[0m\u001b[1;33m]\u001b[0m \u001b[1;33m=\u001b[0m \u001b[0mdatasets\u001b[0m\u001b[1;33m[\u001b[0m\u001b[1;34m'edge'\u001b[0m\u001b[1;33m]\u001b[0m\u001b[1;33m[\u001b[0m\u001b[1;34m'cell'\u001b[0m\u001b[1;33m]\u001b[0m\u001b[1;33m.\u001b[0m\u001b[0mvalues\u001b[0m \u001b[1;33m+\u001b[0m \u001b[0mn_verts\u001b[0m\u001b[1;33m\u001b[0m\u001b[0m\n\u001b[1;32m---> 65\u001b[1;33m \u001b[0mbasal_edges\u001b[0m\u001b[1;33m[\u001b[0m\u001b[1;34m'trgt'\u001b[0m\u001b[1;33m]\u001b[0m \u001b[1;33m=\u001b[0m \u001b[0mopp_cell\u001b[0m \u001b[1;33m+\u001b[0m \u001b[0mn_verts\u001b[0m\u001b[1;33m\u001b[0m\u001b[0m\n\u001b[0m\u001b[0;32m     66\u001b[0m \u001b[0mbasal_edges\u001b[0m\u001b[1;33m[\u001b[0m\u001b[1;34m'segment'\u001b[0m\u001b[1;33m]\u001b[0m \u001b[1;33m=\u001b[0m \u001b[1;34m'basal'\u001b[0m\u001b[1;33m\u001b[0m\u001b[0m\n\u001b[0;32m     67\u001b[0m \u001b[1;33m\u001b[0m\u001b[0m\n",
      "\u001b[1;32m/home/guillaume/anaconda/envs/py35/lib/python3.5/site-packages/pandas/core/frame.py\u001b[0m in \u001b[0;36m__setitem__\u001b[1;34m(self, key, value)\u001b[0m\n\u001b[0;32m   2355\u001b[0m         \u001b[1;32melse\u001b[0m\u001b[1;33m:\u001b[0m\u001b[1;33m\u001b[0m\u001b[0m\n\u001b[0;32m   2356\u001b[0m             \u001b[1;31m# set column\u001b[0m\u001b[1;33m\u001b[0m\u001b[1;33m\u001b[0m\u001b[0m\n\u001b[1;32m-> 2357\u001b[1;33m             \u001b[0mself\u001b[0m\u001b[1;33m.\u001b[0m\u001b[0m_set_item\u001b[0m\u001b[1;33m(\u001b[0m\u001b[0mkey\u001b[0m\u001b[1;33m,\u001b[0m \u001b[0mvalue\u001b[0m\u001b[1;33m)\u001b[0m\u001b[1;33m\u001b[0m\u001b[0m\n\u001b[0m\u001b[0;32m   2358\u001b[0m \u001b[1;33m\u001b[0m\u001b[0m\n\u001b[0;32m   2359\u001b[0m     \u001b[1;32mdef\u001b[0m \u001b[0m_setitem_slice\u001b[0m\u001b[1;33m(\u001b[0m\u001b[0mself\u001b[0m\u001b[1;33m,\u001b[0m \u001b[0mkey\u001b[0m\u001b[1;33m,\u001b[0m \u001b[0mvalue\u001b[0m\u001b[1;33m)\u001b[0m\u001b[1;33m:\u001b[0m\u001b[1;33m\u001b[0m\u001b[0m\n",
      "\u001b[1;32m/home/guillaume/anaconda/envs/py35/lib/python3.5/site-packages/pandas/core/frame.py\u001b[0m in \u001b[0;36m_set_item\u001b[1;34m(self, key, value)\u001b[0m\n\u001b[0;32m   2421\u001b[0m \u001b[1;33m\u001b[0m\u001b[0m\n\u001b[0;32m   2422\u001b[0m         \u001b[0mself\u001b[0m\u001b[1;33m.\u001b[0m\u001b[0m_ensure_valid_index\u001b[0m\u001b[1;33m(\u001b[0m\u001b[0mvalue\u001b[0m\u001b[1;33m)\u001b[0m\u001b[1;33m\u001b[0m\u001b[0m\n\u001b[1;32m-> 2423\u001b[1;33m         \u001b[0mvalue\u001b[0m \u001b[1;33m=\u001b[0m \u001b[0mself\u001b[0m\u001b[1;33m.\u001b[0m\u001b[0m_sanitize_column\u001b[0m\u001b[1;33m(\u001b[0m\u001b[0mkey\u001b[0m\u001b[1;33m,\u001b[0m \u001b[0mvalue\u001b[0m\u001b[1;33m)\u001b[0m\u001b[1;33m\u001b[0m\u001b[0m\n\u001b[0m\u001b[0;32m   2424\u001b[0m         \u001b[0mNDFrame\u001b[0m\u001b[1;33m.\u001b[0m\u001b[0m_set_item\u001b[0m\u001b[1;33m(\u001b[0m\u001b[0mself\u001b[0m\u001b[1;33m,\u001b[0m \u001b[0mkey\u001b[0m\u001b[1;33m,\u001b[0m \u001b[0mvalue\u001b[0m\u001b[1;33m)\u001b[0m\u001b[1;33m\u001b[0m\u001b[0m\n\u001b[0;32m   2425\u001b[0m \u001b[1;33m\u001b[0m\u001b[0m\n",
      "\u001b[1;32m/home/guillaume/anaconda/envs/py35/lib/python3.5/site-packages/pandas/core/frame.py\u001b[0m in \u001b[0;36m_sanitize_column\u001b[1;34m(self, key, value)\u001b[0m\n\u001b[0;32m   2576\u001b[0m \u001b[1;33m\u001b[0m\u001b[0m\n\u001b[0;32m   2577\u001b[0m             \u001b[1;31m# turn me into an ndarray\u001b[0m\u001b[1;33m\u001b[0m\u001b[1;33m\u001b[0m\u001b[0m\n\u001b[1;32m-> 2578\u001b[1;33m             \u001b[0mvalue\u001b[0m \u001b[1;33m=\u001b[0m \u001b[0m_sanitize_index\u001b[0m\u001b[1;33m(\u001b[0m\u001b[0mvalue\u001b[0m\u001b[1;33m,\u001b[0m \u001b[0mself\u001b[0m\u001b[1;33m.\u001b[0m\u001b[0mindex\u001b[0m\u001b[1;33m,\u001b[0m \u001b[0mcopy\u001b[0m\u001b[1;33m=\u001b[0m\u001b[1;32mFalse\u001b[0m\u001b[1;33m)\u001b[0m\u001b[1;33m\u001b[0m\u001b[0m\n\u001b[0m\u001b[0;32m   2579\u001b[0m             \u001b[1;32mif\u001b[0m \u001b[1;32mnot\u001b[0m \u001b[0misinstance\u001b[0m\u001b[1;33m(\u001b[0m\u001b[0mvalue\u001b[0m\u001b[1;33m,\u001b[0m \u001b[1;33m(\u001b[0m\u001b[0mnp\u001b[0m\u001b[1;33m.\u001b[0m\u001b[0mndarray\u001b[0m\u001b[1;33m,\u001b[0m \u001b[0mIndex\u001b[0m\u001b[1;33m)\u001b[0m\u001b[1;33m)\u001b[0m\u001b[1;33m:\u001b[0m\u001b[1;33m\u001b[0m\u001b[0m\n\u001b[0;32m   2580\u001b[0m                 \u001b[1;32mif\u001b[0m \u001b[0misinstance\u001b[0m\u001b[1;33m(\u001b[0m\u001b[0mvalue\u001b[0m\u001b[1;33m,\u001b[0m \u001b[0mlist\u001b[0m\u001b[1;33m)\u001b[0m \u001b[1;32mand\u001b[0m \u001b[0mlen\u001b[0m\u001b[1;33m(\u001b[0m\u001b[0mvalue\u001b[0m\u001b[1;33m)\u001b[0m \u001b[1;33m>\u001b[0m \u001b[1;36m0\u001b[0m\u001b[1;33m:\u001b[0m\u001b[1;33m\u001b[0m\u001b[0m\n",
      "\u001b[1;32m/home/guillaume/anaconda/envs/py35/lib/python3.5/site-packages/pandas/core/series.py\u001b[0m in \u001b[0;36m_sanitize_index\u001b[1;34m(data, index, copy)\u001b[0m\n\u001b[0;32m   2768\u001b[0m \u001b[1;33m\u001b[0m\u001b[0m\n\u001b[0;32m   2769\u001b[0m     \u001b[1;32mif\u001b[0m \u001b[0mlen\u001b[0m\u001b[1;33m(\u001b[0m\u001b[0mdata\u001b[0m\u001b[1;33m)\u001b[0m \u001b[1;33m!=\u001b[0m \u001b[0mlen\u001b[0m\u001b[1;33m(\u001b[0m\u001b[0mindex\u001b[0m\u001b[1;33m)\u001b[0m\u001b[1;33m:\u001b[0m\u001b[1;33m\u001b[0m\u001b[0m\n\u001b[1;32m-> 2770\u001b[1;33m         \u001b[1;32mraise\u001b[0m \u001b[0mValueError\u001b[0m\u001b[1;33m(\u001b[0m\u001b[1;34m'Length of values does not match length of '\u001b[0m \u001b[1;34m'index'\u001b[0m\u001b[1;33m)\u001b[0m\u001b[1;33m\u001b[0m\u001b[0m\n\u001b[0m\u001b[0;32m   2771\u001b[0m \u001b[1;33m\u001b[0m\u001b[0m\n\u001b[0;32m   2772\u001b[0m     \u001b[1;32mif\u001b[0m \u001b[0misinstance\u001b[0m\u001b[1;33m(\u001b[0m\u001b[0mdata\u001b[0m\u001b[1;33m,\u001b[0m \u001b[0mPeriodIndex\u001b[0m\u001b[1;33m)\u001b[0m\u001b[1;33m:\u001b[0m\u001b[1;33m\u001b[0m\u001b[0m\n",
      "\u001b[1;31mValueError\u001b[0m: Length of values does not match length of index"
     ]
    }
   ],
   "source": [
    "h5store = 'before_apoptosis.hf5'\n",
    "datasets = load_datasets(h5store,\n",
    "                         data_names=['face', 'vert', 'edge'])\n",
    "\n",
    "\n",
    "coords = ['x', 'y', 'z']\n",
    "\n",
    "\n",
    "### Create cells\n",
    "datasets['cell'] = pd.DataFrame(index=datasets['face'].index,\n",
    "                                columns=coords)\n",
    "datasets['cell'].index.name = 'cell'\n",
    "datasets['cell']['z'] = datasets['face']['z']\n",
    "theta = np.arctan2(datasets['face']['y'],\n",
    "                   datasets['face']['x']).values\n",
    "\n",
    "rho = np.hypot(datasets['face']['y'],\n",
    "               datasets['face']['x']).values\n",
    "datasets['cell']['x'] = 2*rho/3 * np.cos(theta)\n",
    "datasets['cell']['y'] = 2*rho/3 * np.sin(theta)\n",
    "\n",
    "\n",
    "n_verts = datasets['vert'].shape[0]\n",
    "n_cells = datasets['cell'].shape[0]\n",
    "\n",
    "### Basal vertices\n",
    "basal_idx = pd.Index(np.arange(n_verts, 2*n_verts),\n",
    "                     name='vert')\n",
    "basal_verts = pd.DataFrame(index=basal_idx, \n",
    "                           columns=datasets['vert'].columns)\n",
    "                     \n",
    "theta_v = np.arctan2(datasets['vert']['y'],\n",
    "                   datasets['vert']['x']).values\n",
    "\n",
    "rho_v = np.hypot(datasets['vert']['y'],\n",
    "               datasets['vert']['x']).values\n",
    "    \n",
    "basal_verts['z'] = datasets['vert']['z'].values\n",
    "basal_verts['x'] = rho_v/3 * np.cos(theta_v)\n",
    "basal_verts['y'] = rho_v/3 * np.sin(theta_v)\n",
    "basal_verts['is_active'] = 1\n",
    "basal_verts['segment'] = 'basal'\n",
    "\n",
    "datasets['vert'] = pd.concat([datasets['vert'],\n",
    "                              basal_verts])\n",
    "\n",
    "### Basal faces\n",
    "\n",
    "\n",
    "datasets['edge']['cell'] = datasets['edge']['face']\n",
    "\n",
    "opposite = get_opposite(datasets['edge'])\n",
    "\n",
    "opp_face = datasets['edge'].loc[opposite[opposite>=0], 'face'].values\n",
    "opp_cell = datasets['edge'].loc[opposite[opposite>=0], 'cell'].values\n",
    "\n",
    "basal_edge_idx = pd.Index(\n",
    "    np.arange(datasets['edge'].shape[0]) +\n",
    "    datasets['edge'].index[-1], name='edge')\n",
    "\n",
    "basal_edges = pd.DataFrame(index=basal_edge_idx,\n",
    "                           columns=['srce', 'trgt', 'is_basal'])\n",
    "\n",
    "basal_edges['srce'] = datasets['edge']['cell'].values + n_verts\n",
    "basal_edges['trgt'] = opp_cell + n_verts\n",
    "basal_edges['segment'] = 'basal'\n",
    "\n",
    "datasets['edge'] = pd.concat([datasets['edge'], basal_edges])\n",
    "\n",
    "\n"
   ]
  },
  {
   "cell_type": "code",
   "execution_count": 2,
   "metadata": {
    "collapsed": false
   },
   "outputs": [
    {
     "ename": "NameError",
     "evalue": "name 'datasets' is not defined",
     "output_type": "error",
     "traceback": [
      "\u001b[1;31m---------------------------------------------------------------------------\u001b[0m",
      "\u001b[1;31mNameError\u001b[0m                                 Traceback (most recent call last)",
      "\u001b[1;32m<ipython-input-2-31def1362500>\u001b[0m in \u001b[0;36m<module>\u001b[1;34m()\u001b[0m\n\u001b[1;32m----> 1\u001b[1;33m \u001b[0meptm\u001b[0m \u001b[1;33m=\u001b[0m \u001b[0mEpithelium\u001b[0m\u001b[1;33m(\u001b[0m\u001b[1;34m'mixed'\u001b[0m\u001b[1;33m,\u001b[0m \u001b[0mdatasets\u001b[0m\u001b[1;33m,\u001b[0m \u001b[0mspecs\u001b[0m\u001b[1;33m)\u001b[0m\u001b[1;33m\u001b[0m\u001b[0m\n\u001b[0m",
      "\u001b[1;31mNameError\u001b[0m: name 'datasets' is not defined"
     ]
    }
   ],
   "source": [
    "eptm = Epithelium('mixed', datasets, specs)"
   ]
  },
  {
   "cell_type": "code",
   "execution_count": 9,
   "metadata": {
    "collapsed": false
   },
   "outputs": [],
   "source": [
    "from tyssue.geometry.sheet_geometry import SheetGeometry\n",
    "\n",
    "class MixedGeometry(SheetGeometry):\n",
    "    \n",
    "    \n",
    "    @classmethod\n",
    "    def update_all(cls, eptm):\n",
    "        '''\n",
    "        Updates the epithelium geometry by updating:\n",
    "        * the edge vector coordinates\n",
    "        * the edge lengths\n",
    "        * the normals to each edge associated face\n",
    "        * the face areas\n",
    "        * the vertices heights (depends on geometry)\n",
    "        * the face volumes (depends on geometry)\n",
    "\n",
    "        '''\n",
    "        cls.update_dcoords(eptm)\n",
    "        cls.update_length(eptm)\n",
    "        cls.update_height(eptm)\n",
    "        cls.update_normals(eptm)\n",
    "        cls.update_areas(eptm)\n",
    "        cls.update_perimeters(eptm)\n",
    "        cls.update_centroid(eptm)\n",
    "        cls.update_vol(eptm)\n",
    "    \n",
    "    @staticmethod\n",
    "    def update_centroid(eptm):\n",
    "        \n",
    "        upcast_pos = eptm.upcast_srce(eptm.vert_df[sheet.coords])\n",
    "        upcast_pos = upcast_pos.set_index(eptm.edge_df['face'], append=True)\n",
    "        eptm.face_df[eptm.coords] = upcast_pos.mean(level='face')\n",
    "\n",
    "    \n",
    "    @staticmethod\n",
    "    def update_vol(eptm):\n",
    "        \n",
    "        face_pos = eptm.upcast_face(\n",
    "            eptm.face_df[eptm.coords])\n",
    "        cell_pos = eptm.upcast_cell(\n",
    "            eptm.cell_df[eptm.coords])\n",
    "        \n",
    "        eptm.edge_df['sub_vol'] = np.sum(\n",
    "            (face_pos - cell_pos) *\n",
    "            eptm.edge_df[eptm.ncoords].values, axis=1) / 6\n",
    "        eptm.edge_df['sub_vol'] = eptm.edge_df['sub_vol'] * (\n",
    "            1 - eptm.edge_df['is_basal'])\n",
    "        eptm.cell_df['vol'] = eptm.sum_cell(eptm.edge_df['sub_vol'])\n"
   ]
  },
  {
   "cell_type": "code",
   "execution_count": 10,
   "metadata": {
    "collapsed": false
   },
   "outputs": [],
   "source": [
    "MixedGeometry.update_all(eptm)"
   ]
  },
  {
   "cell_type": "code",
   "execution_count": 14,
   "metadata": {
    "collapsed": false
   },
   "outputs": [],
   "source": [
    "from tyssue.dynamics.effectors import elastic_force, elastic_energy\n",
    "\n",
    "\n",
    "\n",
    "class MixedModel():\n",
    "    \n",
    "    @staticmethod\n",
    "    def dimentionalize(mod_specs):\n",
    "        \"\"\"\n",
    "        Changes the values of the input gamma and lambda parameters\n",
    "        from the values of the prefered height and area.\n",
    "        Computes the norm factor.\n",
    "        \"\"\"\n",
    "\n",
    "        dim_mod_specs = deepcopy(mod_specs)\n",
    "\n",
    "        Kv = dim_mod_specs['cell']['vol_elasticity']\n",
    "        V0 = dim_mod_specs['cell']['prefered_vol']\n",
    "        gamma = dim_mod_specs['face']['contractility']\n",
    "        kappa_ab = dim_mod_specs['cell']['ab_elasticity']\n",
    "        kappa_bl = dim_mod_specs['edge']['basal_elasticity']\n",
    "        lbda = dim_mod_specs['edge']['line_tension']\n",
    "        \n",
    "        dim_mod_specs['face']['contractility'] = gamma * Kv*V0\n",
    "        dim_mod_specs['cell']['ab_elasticity'] = kappa_ab * Kv*V0\n",
    "        dim_mod_specs['cell']['bl_elasticity'] = kappa_bl * Kv*V0\n",
    "\n",
    "        dim_mod_specs['edge']['line_tension'] = lbda * Kv * V0**(5/3.)\n",
    "\n",
    "        dim_mod_specs['settings']['grad_norm_factor'] = Kv * V0**(5/3.)\n",
    "        dim_mod_specs['settings']['nrj_norm_factor'] = Kv * V0**2\n",
    "\n",
    "        return dim_mod_specs\n",
    "\n",
    "    @staticmethod\n",
    "    def compute_energy(eptm):\n",
    "        \n",
    "        live_cells = eptm.cell_df[eptm.cell_df['is_alive']==1]\n",
    "        apical_edges = eptm.edge_df[eptm.edge_df['is_basal' == 0]]\n",
    "        E_t = apical_edges.eval('line_tension * length/2')\n",
    "        E_v = elastic_energy(live_cells, var='vol',\n",
    "                             elasticity='vol_elasticity',\n",
    "                             prefered='prefered_vol')\n",
    "        E_c = eptm.face_df.eval(\n",
    "            'is_alive * 0.5 * contractility * perimeter ** 2')\n",
    "        \n",
    "        cell_pos = eptm.cell_df[eptm.coords].values\n",
    "        bvert_pos = eptm.vert_df[eptm.coords][eptm.vert_df.is_basal==1]\n",
    "        \n",
    "        \n",
    "        E_ab = 0.5 * (np.linalg.norm(bvert_pos - cell_pos) -\n",
    "                      eptm.cell_df['prefered_hab'].values)**2\n",
    "        \n",
    "        basal_df = eptm.edge_df[\n",
    "            ['length', 'basal_elasticity']][eptm.edge_df['is_basal' == 1]]\n",
    "        E_bl = basal_df.eval('0.5 * length * basal_elasticity')\n",
    "        \n",
    "        "
   ]
  },
  {
   "cell_type": "code",
   "execution_count": 19,
   "metadata": {
    "collapsed": false
   },
   "outputs": [],
   "source": [
    "vp_view(eptm)"
   ]
  },
  {
   "cell_type": "code",
   "execution_count": null,
   "metadata": {
    "collapsed": true
   },
   "outputs": [],
   "source": []
  }
 ],
 "metadata": {
  "kernelspec": {
   "display_name": "Python 3",
   "language": "python",
   "name": "python3"
  },
  "language_info": {
   "codemirror_mode": {
    "name": "ipython",
    "version": 3
   },
   "file_extension": ".py",
   "mimetype": "text/x-python",
   "name": "python",
   "nbconvert_exporter": "python",
   "pygments_lexer": "ipython3",
   "version": "3.5.1"
  }
 },
 "nbformat": 4,
 "nbformat_minor": 0
}
