{
 "cells": [
  {
   "cell_type": "code",
   "execution_count": null,
   "metadata": {
    "collapsed": false
   },
   "outputs": [],
   "source": [
    "%load_ext autoreload\n",
    "%autoreload 2\n",
    "%matplotlib inline\n",
    "\n",
    "\n",
    "%run nb_init.py\n",
    "# This imports leg_joint as lj\n"
   ]
  },
  {
   "cell_type": "code",
   "execution_count": null,
   "metadata": {
    "collapsed": false
   },
   "outputs": [],
   "source": [
    "lj_eptm = lj.Epithelium(lj.data.small_xml(), save_dir='/tmp', copy=True)"
   ]
  },
  {
   "cell_type": "code",
   "execution_count": null,
   "metadata": {
    "collapsed": false
   },
   "outputs": [],
   "source": [
    "import numpy as np\n",
    "import pandas as pd\n",
    "\n",
    "import matplotlib.pylab as plt\n",
    "%matplotlib inline\n",
    "\n",
    "import tyssue as ty\n",
    "from tyssue.core.sheet import Sheet\n",
    "from tyssue.geometry.sheet_geometry import SheetGeometry  as geom\n",
    "from tyssue.config.json_parser import load_default"
   ]
  },
  {
   "cell_type": "code",
   "execution_count": null,
   "metadata": {
    "collapsed": false
   },
   "outputs": [],
   "source": [
    "graph = lj_eptm.graph\n",
    "print('****** Vertex ********')\n",
    "print(*graph.vertex_properties.keys(), sep='\\n')\n",
    "print('****** Edge ********')\n",
    "\n",
    "print(*graph.edge_properties.keys(), sep='\\n')\n",
    "\n",
    "      "
   ]
  },
  {
   "cell_type": "code",
   "execution_count": null,
   "metadata": {
    "collapsed": false
   },
   "outputs": [],
   "source": [
    "specs = load_default('geometry', 'sheet')\n",
    "\n",
    "print('CELLS')\n",
    "print(*specs['face'].keys(), sep='\\t')\n",
    "\n",
    "print('VERTICES')\n",
    "print(*specs['vert'].keys(), sep='\\t')\n",
    "\n",
    "print('EDGES')\n",
    "print(*specs['edge'].keys(), sep='\\t')"
   ]
  },
  {
   "cell_type": "code",
   "execution_count": null,
   "metadata": {
    "collapsed": true
   },
   "outputs": [],
   "source": [
    "vert_import = {'ixs': 'x', 'wys': 'y', 'zeds': 'z', 'rhos':'rho',\n",
    "               'is_active_vert': 'is_active'}\n",
    "\n",
    "cell_import = {'ixs': 'x', 'wys': 'y', 'zeds': 'z',\n",
    "               'areas': 'area', 'perimeters': 'perimeter',\n",
    "               'is_alive': 'is_alive'}\n",
    "\n",
    "edge_import = {'dixs': 'dx', 'dwys': 'dy', 'dzeds': 'dz',\n",
    "               'edge_lengths': 'length'}"
   ]
  },
  {
   "cell_type": "code",
   "execution_count": null,
   "metadata": {
    "collapsed": true
   },
   "outputs": [],
   "source": [
    "def get_faces(graph, as_array=True):\n",
    "    '''\n",
    "    Retrieves all the triangular subgraphs of the form\n",
    "       1 -- > 2\n",
    "        ^   ^\n",
    "         \\ /\n",
    "          0\n",
    "    In our context, vertex 0 always corresponds to a cell/face\n",
    "    and vertices 1 and 2 to junction vertices\n",
    "\n",
    "    Parameters\n",
    "    ----------\n",
    "    graph : a :class:`GraphTool` graph instance\n",
    "    as_array: bool, optional, default `True`\n",
    "      if `True`, the output of `subraph_isomorphism` is converted\n",
    "      to a (N, 3) ndarray.\n",
    "\n",
    "    Returns\n",
    "    -------\n",
    "    triangles:  list of gt.PropertyMaps or (N, 3) ndarray\n",
    "      each line corresponds to a triplet (cell, jv0, jv1)\n",
    "      where cell, jv0 and jv1 are indices of the input graph.\n",
    "    '''\n",
    "    tri_graph = gt.Graph()\n",
    "    ## the vertices\n",
    "    verts = tri_graph.add_vertex(3)\n",
    "    ## edges\n",
    "    tri_graph.add_edge_list([(0, 1), (0, 2), (1, 2)])\n",
    "    _triangles = gt.subgraph_isomorphism(tri_graph, graph)\n",
    "    if not as_array:\n",
    "        return tri_graph, _triangles\n",
    "    triangles = np.array([tri.a for tri in _triangles], dtype=np.int)\n",
    "    return triangles"
   ]
  },
  {
   "cell_type": "code",
   "execution_count": null,
   "metadata": {
    "collapsed": true
   },
   "outputs": [],
   "source": [
    "triangles = get_faces(graph)"
   ]
  },
  {
   "cell_type": "markdown",
   "metadata": {},
   "source": [
    "The new base triangle is oriented differently, as the edge is splited.\n",
    "\n",
    "We now have:\n",
    "\n",
    "```\n",
    "       1 -- > 2             2 <-- 1  \n",
    "        ^   /                ^   /\n",
    "         \\ v     and          \\ v  \n",
    "          0                    0\n",
    "```\n",
    "\n"
   ]
  },
  {
   "cell_type": "code",
   "execution_count": null,
   "metadata": {
    "collapsed": false
   },
   "outputs": [],
   "source": [
    "pos = gt.group_vector_property([lj_eptm.ixs, lj_eptm.wys, lj_eptm.zeds])\n",
    "deltas = gt.group_vector_property([graph.ep['dixs'], graph.ep['dwys'],  graph.ep['dzeds']])\n",
    "\n",
    "oriented = []\n",
    "for (cell, jv0, jv1) in triangles:\n",
    "    \n",
    "    normal = np.cross(deltas[graph.edge(cell, jv0)],\n",
    "                      deltas[graph.edge(cell, jv1)])\n",
    "    orientation = np.sign(np.sum(pos[graph.vertex(cell)] * normal))\n",
    "    if orientation > 0:\n",
    "        oriented.append([jv0, jv1, cell])\n",
    "    else:\n",
    "        oriented.append([jv1, jv0, cell])\n",
    "    \n",
    "    "
   ]
  },
  {
   "cell_type": "code",
   "execution_count": null,
   "metadata": {
    "collapsed": false
   },
   "outputs": [],
   "source": [
    "graph.set_vertex_filter(lj_eptm.is_cell_vert)\n",
    "cells_idx_in = graph.vertex_index.copy()\n",
    "cells_idx_in = cells_idx_in.fa\n",
    "\n",
    "graph.set_vertex_filter(lj_eptm.is_cell_vert, True)\n",
    "jv_idx_in = graph.vertex_index.copy()\n",
    "jv_idx_in = jv_idx_in.fa\n",
    "graph.set_vertex_filter(None)\n",
    "\n"
   ]
  },
  {
   "cell_type": "code",
   "execution_count": null,
   "metadata": {
    "collapsed": false
   },
   "outputs": [],
   "source": [
    "face_df = pd.DataFrame(index=pd.Index(range(cells_idx_in.shape[0]), name='face'), \n",
    "                       columns=cell_import.values())\n",
    "face_df['old_idx'] = cells_idx_in\n",
    "\n",
    "for data_in, data_out in cell_import.items():\n",
    "    face_df[data_out] = graph.vp[data_in].a[cells_idx_in]\n",
    "\n",
    "vert_df = pd.DataFrame(index=pd.Index(range(jv_idx_in.shape[0]), name='vert'), \n",
    "                       columns=vert_import.values())\n",
    "vert_df['old_idx'] = jv_idx_in\n",
    "    \n",
    "    \n",
    "for data_in, data_out in vert_import.items():\n",
    "    vert_df[data_out] = graph.vp[data_in].a[jv_idx_in]\n",
    "\n"
   ]
  },
  {
   "cell_type": "code",
   "execution_count": null,
   "metadata": {
    "collapsed": false
   },
   "outputs": [],
   "source": [
    "re_indexed = []\n",
    "for jv0, jv1, face in oriented:\n",
    "    srce = np.where(vert_df.old_idx==jv0)[0][0]\n",
    "    trgt = np.where(vert_df.old_idx==jv1)[0][0]\n",
    "    r_face = np.where(face_df.old_idx==face)[0][0]\n",
    "    re_indexed.append((srce, trgt, r_face))\n",
    "re_indexed = np.array(re_indexed)"
   ]
  },
  {
   "cell_type": "code",
   "execution_count": null,
   "metadata": {
    "collapsed": false
   },
   "outputs": [],
   "source": [
    "re_indexed.shape"
   ]
  },
  {
   "cell_type": "code",
   "execution_count": null,
   "metadata": {
    "collapsed": false
   },
   "outputs": [],
   "source": [
    "edge_idx = pd.Index(np.arange(re_indexed.shape[0]), name='edge')\n",
    "\n",
    "edge_df = pd.DataFrame(index=edge_idx, columns=edge_import.values())\n",
    "edge_df['srce'] = re_indexed[:, 0]\n",
    "edge_df['trgt'] = re_indexed[:, 1]\n",
    "edge_df['face'] = re_indexed[:, 2]\n",
    "\n",
    "\n",
    "edge_df['old_jv0'] = triangles[:, 1]\n",
    "edge_df['old_jv1'] = triangles[:, 2]\n",
    "edge_df['old_cell'] = triangles[:, 0]\n",
    "\n",
    "eps = gt.group_vector_property([graph.ep[col] for col in edge_import.keys()])"
   ]
  },
  {
   "cell_type": "code",
   "execution_count": null,
   "metadata": {
    "collapsed": false
   },
   "outputs": [],
   "source": [
    "normal = np.cross(deltas[graph.edge(0, 56)],\n",
    "                  deltas[graph.edge(0, 57)])\n",
    "orientation = np.sign(np.sum(pos[graph.vertex(0)] * normal))\n",
    "print(orientation)"
   ]
  },
  {
   "cell_type": "code",
   "execution_count": null,
   "metadata": {
    "collapsed": false,
    "scrolled": true
   },
   "outputs": [],
   "source": [
    "edge_df.head()\n"
   ]
  },
  {
   "cell_type": "code",
   "execution_count": null,
   "metadata": {
    "collapsed": false
   },
   "outputs": [],
   "source": []
  },
  {
   "cell_type": "code",
   "execution_count": null,
   "metadata": {
    "collapsed": true
   },
   "outputs": [],
   "source": [
    "datasets = {'edge': edge_df, 'vert': vert_df, 'face': face_df}"
   ]
  },
  {
   "cell_type": "code",
   "execution_count": null,
   "metadata": {
    "collapsed": false
   },
   "outputs": [],
   "source": [
    "sheet = Sheet('imported', datasets, specs)"
   ]
  },
  {
   "cell_type": "code",
   "execution_count": null,
   "metadata": {
    "collapsed": false
   },
   "outputs": [],
   "source": [
    "sheet.set_geom('sheet')"
   ]
  },
  {
   "cell_type": "code",
   "execution_count": null,
   "metadata": {
    "collapsed": true
   },
   "outputs": [],
   "source": [
    "geom.update_all(sheet)"
   ]
  },
  {
   "cell_type": "code",
   "execution_count": null,
   "metadata": {
    "collapsed": false
   },
   "outputs": [],
   "source": [
    "sheet.vert_df.head()"
   ]
  },
  {
   "cell_type": "code",
   "execution_count": null,
   "metadata": {
    "collapsed": true
   },
   "outputs": [],
   "source": [
    "rm small_hexagonal.hf5"
   ]
  },
  {
   "cell_type": "code",
   "execution_count": null,
   "metadata": {
    "collapsed": true
   },
   "outputs": [],
   "source": [
    "with pd.get_store('small_hexagonal.hf5') as store:\n",
    "    store.put('face', sheet.face_df, format='t', dropna=False)\n",
    "    store.put('vert', sheet.vert_df, format='t', dropna=False)\n",
    "    store.put('edge', sheet.edge_df, format='t', dropna=False)"
   ]
  },
  {
   "cell_type": "code",
   "execution_count": null,
   "metadata": {
    "collapsed": true
   },
   "outputs": [],
   "source": [
    "from tyssue.draw.mpl_draw import sheet_view\n"
   ]
  },
  {
   "cell_type": "code",
   "execution_count": null,
   "metadata": {
    "collapsed": false
   },
   "outputs": [],
   "source": [
    "fig, ax = sheet_view(sheet, coords=['z', 'x'])"
   ]
  },
  {
   "cell_type": "code",
   "execution_count": null,
   "metadata": {
    "collapsed": true
   },
   "outputs": [],
   "source": []
  }
 ],
 "metadata": {
  "kernelspec": {
   "display_name": "Python 3",
   "language": "python",
   "name": "python3"
  },
  "language_info": {
   "codemirror_mode": {
    "name": "ipython",
    "version": 3
   },
   "file_extension": ".py",
   "mimetype": "text/x-python",
   "name": "python",
   "nbconvert_exporter": "python",
   "pygments_lexer": "ipython3",
   "version": "3.4.4"
  }
 },
 "nbformat": 4,
 "nbformat_minor": 0
}
