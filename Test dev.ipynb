{
 "cells": [
  {
   "cell_type": "code",
   "execution_count": 2,
   "metadata": {},
   "outputs": [],
   "source": [
    "import tempfile\n",
    "from tyssue.generation import three_faces_sheet\n",
    "from tyssue import Sheet\n",
    "from tyssue.io import csv, obj, off, ais\n",
    "\n",
    "\n",
    "sheet = Sheet('test', *three_faces_sheet())\n",
    "fh = tempfile.mktemp(suffix='.csv')\n",
    "csv.write_storm_csv(fh, sheet.vert_df[sheet.coords])\n",
    "with open(fh) as fb:\n",
    "    lines = fb.readlines()\n",
    "assert len(lines) == 14\n",
    "assert 'frame' in lines[0]"
   ]
  },
  {
   "cell_type": "code",
   "execution_count": 3,
   "metadata": {},
   "outputs": [
    {
     "name": "stderr",
     "output_type": "stream",
     "text": [
      "WARNING: Faces doesn't appear to be triangular,\n",
      "                be advised the file cannot be read back in vispy\n"
     ]
    }
   ],
   "source": [
    "fh = tempfile.mktemp(suffix='.obj')\n",
    "obj.save_junction_mesh(fh, sheet)\n",
    "with open(fh) as fb:\n",
    "    lines = fb.readlines()\n",
    "assert len(lines) == 35\n",
    "assert '# 13 vertices' in lines[4]"
   ]
  },
  {
   "cell_type": "code",
   "execution_count": 32,
   "metadata": {},
   "outputs": [],
   "source": [
    "from tyssue.generation import extrude\n",
    "from tyssue import Monolayer, config\n",
    "datasets, specs = three_faces_sheet()\n",
    "\n",
    "extruded = extrude(datasets, method='translation')\n",
    "mono = Monolayer('test', extruded,\n",
    "                 config.geometry.bulk_spec())\n"
   ]
  },
  {
   "cell_type": "code",
   "execution_count": 6,
   "metadata": {},
   "outputs": [],
   "source": [
    "from tyssue.draw.plt_draw import quick_edge_draw, sheet_view"
   ]
  },
  {
   "cell_type": "code",
   "execution_count": 16,
   "metadata": {},
   "outputs": [
    {
     "data": {
      "image/png": "[encoded data removed]",
      "text/plain": [
       "<Figure size 432x288 with 1 Axes>"
      ]
     },
     "metadata": {},
     "output_type": "display_data"
    }
   ],
   "source": [
    "fig, ax = quick_edge_draw(sheet)\n",
    "assert ax.lines[0].get_xydata().shape == (54, 2)\n"
   ]
  },
  {
   "cell_type": "code",
   "execution_count": 12,
   "metadata": {},
   "outputs": [],
   "source": [
    "line = ax.lines[0]"
   ]
  },
  {
   "cell_type": "code",
   "execution_count": 15,
   "metadata": {},
   "outputs": [
    {
     "data": {
      "text/plain": [
       "(54, 2)"
      ]
     },
     "execution_count": 15,
     "metadata": {},
     "output_type": "execute_result"
    }
   ],
   "source": [
    "line.get_xydata().shape"
   ]
  },
  {
   "cell_type": "code",
   "execution_count": null,
   "metadata": {},
   "outputs": [],
   "source": []
  }
 ],
 "metadata": {
  "kernelspec": {
   "display_name": "Python 3",
   "language": "python",
   "name": "python3"
  },
  "language_info": {
   "codemirror_mode": {
    "name": "ipython",
    "version": 3
   },
   "file_extension": ".py",
   "mimetype": "text/x-python",
   "name": "python",
   "nbconvert_exporter": "python",
   "pygments_lexer": "ipython3",
   "version": "3.6.5"
  }
 },
 "nbformat": 4,
 "nbformat_minor": 2
}
