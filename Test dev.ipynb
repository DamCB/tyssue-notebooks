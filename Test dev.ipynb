{
 "cells": [
  {
   "cell_type": "code",
   "execution_count": 14,
   "metadata": {},
   "outputs": [],
   "source": [
    "import os\n",
    "\n",
    "import matplotlib.pyplot as plt\n",
    "from tyssue import SheetGeometry as geom\n",
    "from tyssue.stores import stores_dir\n",
    "from tyssue.io.hdf5 import load_datasets\n",
    "from tyssue import config\n",
    "from tyssue.core.sheet import Sheet\n",
    "from tyssue.dynamics.sheet_vertex_model import SheetModel as model\n",
    "\n",
    "\n",
    "h5store = os.path.join(stores_dir, \"small_hexagonal_snaped.hf5\")\n",
    "\n",
    "datasets = load_datasets(h5store, data_names=[\"face\", \"vert\", \"edge\"])\n",
    "specs = config.geometry.cylindrical_sheet()\n",
    "sheet = Sheet(\"emin\", datasets, specs)\n",
    "geom.update_all(sheet)\n",
    "sheet.sanitize()\n",
    "#sheet.get_extra_indices()"
   ]
  },
  {
   "cell_type": "code",
   "execution_count": 15,
   "metadata": {},
   "outputs": [
    {
     "data": {
      "text/plain": [
       "-8.149072527885437e-09"
      ]
     },
     "execution_count": 15,
     "metadata": {},
     "output_type": "execute_result"
    }
   ],
   "source": [
    "model.compute_energy(sheet) - model.compute_energy(sheet2)"
   ]
  },
  {
   "cell_type": "code",
   "execution_count": 16,
   "metadata": {},
   "outputs": [],
   "source": [
    "h5store = os.path.join(stores_dir, \"small_hexagonal.hf5\")\n",
    "\n",
    "datasets = load_datasets(h5store, data_names=[\"face\", \"vert\", \"edge\"])\n",
    "specs = config.geometry.cylindrical_sheet()\n",
    "sheet2 = Sheet(\"emin\", datasets, specs)"
   ]
  },
  {
   "cell_type": "code",
   "execution_count": 17,
   "metadata": {},
   "outputs": [],
   "source": [
    "Et2, Ec2, Ev2 = model.compute_energy(sheet2, full_output=True)"
   ]
  },
  {
   "cell_type": "code",
   "execution_count": 18,
   "metadata": {},
   "outputs": [],
   "source": [
    "Et, Ec, Ev = model.compute_energy(sheet, full_output=True)"
   ]
  },
  {
   "cell_type": "code",
   "execution_count": 28,
   "metadata": {},
   "outputs": [
    {
     "data": {
      "text/plain": [
       "face\n",
       "0     12657.983221\n",
       "1     12657.983221\n",
       "2     12657.983221\n",
       "3     12657.983221\n",
       "4     12657.983221\n",
       "5     12657.983221\n",
       "6     12657.983221\n",
       "7     12657.983221\n",
       "8     12657.983221\n",
       "9     12657.983221\n",
       "10    12657.983221\n",
       "11    12657.983221\n",
       "12    12657.983221\n",
       "13    12657.983221\n",
       "14    12657.983221\n",
       "15    12657.983221\n",
       "16    12657.983221\n",
       "17    12657.983221\n",
       "18    12657.983221\n",
       "19    12657.983221\n",
       "20    12657.983221\n",
       "21    12657.983221\n",
       "22    12657.983221\n",
       "23    12657.983221\n",
       "24    12657.983221\n",
       "25    12657.983221\n",
       "26    12657.983221\n",
       "27    12657.983221\n",
       "28    12657.983221\n",
       "29    12657.983221\n",
       "30    12657.983221\n",
       "31    12657.983221\n",
       "32    12657.983221\n",
       "33    12657.983221\n",
       "34    12657.983221\n",
       "35    12657.983221\n",
       "36    12657.983221\n",
       "37    12657.983221\n",
       "38    12657.983221\n",
       "39    12657.983246\n",
       "dtype: float64"
      ]
     },
     "execution_count": 28,
     "metadata": {},
     "output_type": "execute_result"
    }
   ],
   "source": [
    "Ec[Ec<Ec.min()+1]"
   ]
  },
  {
   "cell_type": "code",
   "execution_count": 38,
   "metadata": {},
   "outputs": [
    {
     "data": {
      "text/plain": [
       "[<matplotlib.lines.Line2D at 0x7efd077331f0>]"
      ]
     },
     "execution_count": 38,
     "metadata": {},
     "output_type": "execute_result"
    },
    {
     "data": {
      "image/png": "[encoded data removed]",
      "text/plain": [
       "<Figure size 432x288 with 1 Axes>"
      ]
     },
     "metadata": {
      "needs_background": "light"
     },
     "output_type": "display_data"
    }
   ],
   "source": [
    "fig, ax = plt.subplots()\n",
    "\n",
    "ax.plot(Ec2[Ec<Ec.min()+1e-5]-Ec.min(),\n",
    "        Ec[Ec<Ec.min()+1e-5]-Ec.min(), 'o')\n",
    "\n"
   ]
  },
  {
   "cell_type": "code",
   "execution_count": 39,
   "metadata": {},
   "outputs": [
    {
     "data": {
      "text/plain": [
       "12657.983221584556"
      ]
     },
     "execution_count": 39,
     "metadata": {},
     "output_type": "execute_result"
    }
   ],
   "source": [
    "Ec.mean()"
   ]
  },
  {
   "cell_type": "code",
   "execution_count": 40,
   "metadata": {},
   "outputs": [
    {
     "data": {
      "text/plain": [
       "12657.98322159488"
      ]
     },
     "execution_count": 40,
     "metadata": {},
     "output_type": "execute_result"
    }
   ],
   "source": [
    "Ec2.mean()"
   ]
  },
  {
   "cell_type": "code",
   "execution_count": null,
   "metadata": {},
   "outputs": [],
   "source": [
    "geom.scale(sheet, sheet.face_df.area**(-0.5), )"
   ]
  },
  {
   "cell_type": "code",
   "execution_count": 41,
   "metadata": {},
   "outputs": [
    {
     "name": "stderr",
     "output_type": "stream",
     "text": [
      "Reseting column contractility of the face dataset with new specs\n",
      "Reseting column vol_elasticity of the face dataset with new specs\n",
      "Reseting column prefered_height of the face dataset with new specs\n",
      "Reseting column prefered_area of the face dataset with new specs\n",
      "Reseting column prefered_vol of the face dataset with new specs\n",
      "Reseting column radial_tension of the vert dataset with new specs\n",
      "Reseting column is_active of the vert dataset with new specs\n",
      "Reseting column ux of the edge dataset with new specs\n",
      "Reseting column uy of the edge dataset with new specs\n",
      "Reseting column uz of the edge dataset with new specs\n",
      "Reseting column line_tension of the edge dataset with new specs\n",
      "Reseting column is_active of the edge dataset with new specs\n"
     ]
    }
   ],
   "source": [
    "h5store = os.path.join(stores_dir, \"small_hexagonal.hf5\")\n",
    "datasets = load_datasets(h5store, data_names=[\"face\", \"vert\", \"edge\"])\n",
    "specs = config.geometry.cylindrical_sheet()\n",
    "\n",
    "sheet = Sheet(\"emin\", datasets, specs)\n",
    "nondim_specs = config.dynamics.quasistatic_sheet_spec()\n",
    "dim_model_specs = model.dimensionalize(nondim_specs)\n",
    "sheet.update_specs(dim_model_specs, reset=True)\n",
    "\n",
    "geom.update_all(sheet)\n",
    "\n",
    "Et, Ec, Ev = model.compute_energy(sheet, full_output=True)\n"
   ]
  },
  {
   "cell_type": "code",
   "execution_count": 42,
   "metadata": {},
   "outputs": [
    {
     "name": "stderr",
     "output_type": "stream",
     "text": [
      "Reseting column contractility of the face dataset with new specs\n",
      "Reseting column vol_elasticity of the face dataset with new specs\n",
      "Reseting column prefered_height of the face dataset with new specs\n",
      "Reseting column prefered_area of the face dataset with new specs\n",
      "Reseting column prefered_vol of the face dataset with new specs\n",
      "Reseting column radial_tension of the vert dataset with new specs\n",
      "Reseting column is_active of the vert dataset with new specs\n",
      "Reseting column ux of the edge dataset with new specs\n",
      "Reseting column uy of the edge dataset with new specs\n",
      "Reseting column uz of the edge dataset with new specs\n",
      "Reseting column line_tension of the edge dataset with new specs\n",
      "Reseting column is_active of the edge dataset with new specs\n"
     ]
    }
   ],
   "source": [
    "h5store = os.path.join(stores_dir, \"small_hexagonal.hf5\")\n",
    "datasets = load_datasets(h5store, data_names=[\"face\", \"vert\", \"edge\"])\n",
    "specs = config.geometry.cylindrical_sheet()\n",
    "\n",
    "sheet_s = Sheet(\"emin\", datasets, specs)\n",
    "nondim_specs = config.dynamics.quasistatic_sheet_spec()\n",
    "dim_model_specs = model.dimensionalize(nondim_specs)\n",
    "sheet_s.update_specs(dim_model_specs, reset=True)\n",
    "\n",
    "geom.update_all(sheet_s)\n",
    "\n",
    "Et_s, Ec_s, Ev_s = model.compute_energy(sheet_s, full_output=True)\n"
   ]
  },
  {
   "cell_type": "code",
   "execution_count": 44,
   "metadata": {},
   "outputs": [
    {
     "data": {
      "text/plain": [
       "[<matplotlib.lines.Line2D at 0x7efd07cf9550>]"
      ]
     },
     "execution_count": 44,
     "metadata": {},
     "output_type": "execute_result"
    },
    {
     "data": {
      "image/png": "[encoded data removed]",
      "text/plain": [
       "<Figure size 432x288 with 1 Axes>"
      ]
     },
     "metadata": {
      "needs_background": "light"
     },
     "output_type": "display_data"
    }
   ],
   "source": [
    "fig, ax = plt.subplots()\n",
    "\n",
    "ax.plot(Ec_s[Ec_s<Ec_s.min()+1e-5]-Ec_s.min(),\n",
    "        Ec[Ec_s<Ec_s.min()+1e-5]-Ec_s.min(), 'o')\n",
    "ax.plot(Ec_s[Ec_s<Ec_s.min()+1e-5]-Ec_s.min(),\n",
    "        Ec_s[Ec_s<Ec_s.min()+1e-5]-Ec_s.min(), 'k-')\n"
   ]
  },
  {
   "cell_type": "code",
   "execution_count": 46,
   "metadata": {},
   "outputs": [
    {
     "data": {
      "text/plain": [
       "0.12093674686179141"
      ]
     },
     "execution_count": 46,
     "metadata": {},
     "output_type": "execute_result"
    }
   ],
   "source": [
    "Ec.mean()"
   ]
  },
  {
   "cell_type": "code",
   "execution_count": 47,
   "metadata": {},
   "outputs": [
    {
     "data": {
      "text/plain": [
       "0.12093674686179141"
      ]
     },
     "execution_count": 47,
     "metadata": {},
     "output_type": "execute_result"
    }
   ],
   "source": [
    "Ec_s.mean()"
   ]
  },
  {
   "cell_type": "code",
   "execution_count": 48,
   "metadata": {},
   "outputs": [
    {
     "data": {
      "text/plain": [
       "0.08788417666060594"
      ]
     },
     "execution_count": 48,
     "metadata": {},
     "output_type": "execute_result"
    }
   ],
   "source": [
    "Ev.mean()"
   ]
  },
  {
   "cell_type": "code",
   "execution_count": 49,
   "metadata": {},
   "outputs": [],
   "source": [
    "energy = model.compute_energy(sheet, full_output=False)"
   ]
  },
  {
   "cell_type": "code",
   "execution_count": 50,
   "metadata": {},
   "outputs": [
    {
     "data": {
      "text/plain": [
       "14.254513236339077"
      ]
     },
     "execution_count": 50,
     "metadata": {},
     "output_type": "execute_result"
    }
   ],
   "source": [
    "energy"
   ]
  },
  {
   "cell_type": "code",
   "execution_count": 53,
   "metadata": {},
   "outputs": [],
   "source": [
    "from tyssue.topology.sheet_topology import type1_transition"
   ]
  },
  {
   "cell_type": "code",
   "execution_count": 62,
   "metadata": {},
   "outputs": [],
   "source": [
    "h5store = os.path.join(stores_dir, \"small_hexagonal.hf5\")\n",
    "datasets = load_datasets(h5store, data_names=[\"face\", \"vert\", \"edge\"])\n",
    "\n",
    "sheet = Sheet(\"emin\", datasets)\n",
    "geom.update_all(sheet)\n",
    "face = sheet.edge_df.loc[84, \"face\"]\n",
    "type1_transition(sheet, 84)\n",
    "geom.update_all(sheet)\n"
   ]
  },
  {
   "cell_type": "code",
   "execution_count": 55,
   "metadata": {},
   "outputs": [
    {
     "data": {
      "text/plain": [
       "False"
      ]
     },
     "execution_count": 55,
     "metadata": {},
     "output_type": "execute_result"
    }
   ],
   "source": [
    "sheet.edge_df.loc[84, \"face\"] != face\n"
   ]
  },
  {
   "cell_type": "code",
   "execution_count": 56,
   "metadata": {},
   "outputs": [
    {
     "data": {
      "text/plain": [
       "14"
      ]
     },
     "execution_count": 56,
     "metadata": {},
     "output_type": "execute_result"
    }
   ],
   "source": [
    "sheet.edge_df.loc[84, \"face\"] "
   ]
  },
  {
   "cell_type": "code",
   "execution_count": 57,
   "metadata": {},
   "outputs": [],
   "source": [
    "from tyssue.draw import sheet_view"
   ]
  },
  {
   "cell_type": "code",
   "execution_count": 68,
   "metadata": {},
   "outputs": [
    {
     "data": {
      "text/plain": [
       "(<Figure size 640x480 with 1 Axes>, <AxesSubplot:>)"
      ]
     },
     "execution_count": 68,
     "metadata": {},
     "output_type": "execute_result"
    }
   ],
   "source": [
    "%matplotlib qt\n",
    "\n",
    "sheet_view(sheet, list(\"zx\"), edge={\"head_width\": 0.1})"
   ]
  },
  {
   "cell_type": "code",
   "execution_count": 69,
   "metadata": {},
   "outputs": [
    {
     "data": {
      "text/plain": [
       "True"
      ]
     },
     "execution_count": 69,
     "metadata": {},
     "output_type": "execute_result"
    }
   ],
   "source": [
    "sheet.validate()"
   ]
  },
  {
   "cell_type": "code",
   "execution_count": 70,
   "metadata": {},
   "outputs": [
    {
     "data": {
      "text/plain": [
       "5"
      ]
     },
     "execution_count": 70,
     "metadata": {},
     "output_type": "execute_result"
    }
   ],
   "source": [
    "sheet.face_df.loc[14, \"num_sides\"]"
   ]
  },
  {
   "cell_type": "code",
   "execution_count": 45,
   "metadata": {},
   "outputs": [
    {
     "data": {
      "text/plain": [
       "[<matplotlib.lines.Line2D at 0x7efd11520df0>]"
      ]
     },
     "execution_count": 45,
     "metadata": {},
     "output_type": "execute_result"
    },
    {
     "data": {
      "image/png": "[encoded data removed]",
      "text/plain": [
       "<Figure size 432x288 with 1 Axes>"
      ]
     },
     "metadata": {
      "needs_background": "light"
     },
     "output_type": "display_data"
    }
   ],
   "source": [
    "fig, ax = plt.subplots()\n",
    "\n",
    "ax.plot(Ec_s-Ec_s.min(),\n",
    "        Ec-Ec_s.min(), 'o')\n",
    "ax.plot(Ec_s-Ec_s.min(),\n",
    "        Ec_s-Ec_s.min(), 'k-')\n"
   ]
  },
  {
   "cell_type": "code",
   "execution_count": 42,
   "metadata": {},
   "outputs": [],
   "source": [
    "sheet.vert_df[[\"x\", \"y\", \"z\"]] += np.random.normal(scale=1e-10, size=(sheet.Nv, 3))\n",
    "geom.update_all(sheet)"
   ]
  },
  {
   "cell_type": "code",
   "execution_count": 43,
   "metadata": {},
   "outputs": [],
   "source": [
    "sheet.get_extra_indices()"
   ]
  },
  {
   "cell_type": "code",
   "execution_count": 44,
   "metadata": {},
   "outputs": [],
   "source": [
    "from tyssue.io.hdf5 import save_datasets"
   ]
  },
  {
   "cell_type": "code",
   "execution_count": 45,
   "metadata": {},
   "outputs": [],
   "source": [
    "save_datasets(\"../tyssue/tyssue/stores/small_hexagonal.hf5\", sheet)"
   ]
  },
  {
   "cell_type": "code",
   "execution_count": 6,
   "metadata": {},
   "outputs": [],
   "source": [
    "import numpy as np\n",
    "import matplotlib.pyplot as plt"
   ]
  },
  {
   "cell_type": "code",
   "execution_count": 10,
   "metadata": {},
   "outputs": [
    {
     "data": {
      "image/png": "[encoded data removed]",
      "text/plain": [
       "<Figure size 432x288 with 1 Axes>"
      ]
     },
     "metadata": {
      "needs_background": "light"
     },
     "output_type": "display_data"
    }
   ],
   "source": [
    "H = plt.hist(\n",
    "    np.arctan2(\n",
    "        sheet.edge_df[\"dy\"], \n",
    "        sheet.edge_df[\"dx\"]\n",
    "    ),\n",
    "    60\n",
    "\n",
    ")"
   ]
  },
  {
   "cell_type": "code",
   "execution_count": 41,
   "metadata": {},
   "outputs": [
    {
     "data": {
      "text/plain": [
       "[<matplotlib.lines.Line2D at 0x7fb2676777f0>]"
      ]
     },
     "execution_count": 41,
     "metadata": {},
     "output_type": "execute_result"
    },
    {
     "data": {
      "image/png": "[encoded data removed]",
      "text/plain": [
       "<Figure size 432x288 with 1 Axes>"
      ]
     },
     "metadata": {
      "needs_background": "light"
     },
     "output_type": "display_data"
    }
   ],
   "source": [
    "plt.plot(\n",
    "    sheet.edge_df[\"sz\"],\n",
    "    np.arctan2(\n",
    "        sheet.edge_df[\"dy\"], \n",
    "        sheet.edge_df[\"dx\"]+np.random.normal(scale=1e-6, size=sheet.Ne)\n",
    "    ), 'o', alpha=0.2\n",
    ")\n",
    "\n",
    "plt.plot(\n",
    "    sheet.edge_df[\"sz\"],\n",
    "    np.arctan2(\n",
    "        sheet.edge_df[\"dy\"], \n",
    "        sheet.edge_df[\"dx\"]\n",
    "        +np.random.normal(scale=1e-12, size=sheet.Ne)\n",
    "    ), 'o', alpha=0.2\n",
    ")\n",
    "\n",
    "\n",
    "plt.plot(\n",
    "    sheet.edge_df[\"sz\"],\n",
    "    np.arctan2(\n",
    "        sheet.edge_df[\"dy\"], \n",
    "        sheet.edge_df[\"dx\"]),\n",
    "    'k+', alpha=0.5\n",
    ")\n",
    "\n",
    "\n"
   ]
  },
  {
   "cell_type": "code",
   "execution_count": 25,
   "metadata": {},
   "outputs": [
    {
     "data": {
      "text/plain": [
       "<matplotlib.image.AxesImage at 0x7fb26e5766a0>"
      ]
     },
     "execution_count": 25,
     "metadata": {},
     "output_type": "execute_result"
    },
    {
     "data": {
      "image/png": "[encoded data removed]",
      "text/plain": [
       "<Figure size 432x288 with 1 Axes>"
      ]
     },
     "metadata": {
      "needs_background": "light"
     },
     "output_type": "display_data"
    }
   ],
   "source": [
    "fig, ax = plt.subplots()\n",
    "\n",
    "xx, yy = np.meshgrid(\n",
    "    np.logspace(-12, -6, 512),\n",
    "    np.logspace(-12, -6, 512)\n",
    ")\n",
    "ax.imshow(np.arctan2(yy, xx))\n"
   ]
  },
  {
   "cell_type": "code",
   "execution_count": 40,
   "metadata": {},
   "outputs": [
    {
     "data": {
      "image/png": "[encoded data removed]",
      "text/plain": [
       "<Figure size 864x432 with 2 Axes>"
      ]
     },
     "metadata": {
      "needs_background": "light"
     },
     "output_type": "display_data"
    }
   ],
   "source": [
    "fig, (ax0, ax1) = plt.subplots(1, 2)\n",
    "x = np.logspace(-16, -14, 512)\n",
    "\n",
    "\n",
    "ax0.plot(x, np.arctan2(x, np.ones(512)), 'k-')\n",
    "ax1.plot(x, np.arctan2(np.ones(512), x), 'k-')\n",
    "ax0.set_xscale(\"log\")\n",
    "ax1.set_xscale(\"log\")\n",
    "ax0.set_yscale(\"log\")\n",
    "ax1.set_yscale(\"log\")\n",
    "\n",
    "fig.set_size_inches(12, 6)"
   ]
  },
  {
   "cell_type": "code",
   "execution_count": null,
   "metadata": {},
   "outputs": [],
   "source": []
  },
  {
   "cell_type": "code",
   "execution_count": 13,
   "metadata": {},
   "outputs": [
    {
     "data": {
      "image/png": "[encoded data removed]",
      "text/plain": [
       "<Figure size 432x288 with 1 Axes>"
      ]
     },
     "metadata": {
      "needs_background": "light"
     },
     "output_type": "display_data"
    }
   ],
   "source": [
    "H = plt.hist(\n",
    "    np.arctan2(\n",
    "        sheet.edge_df[\"dy\"], \n",
    "        sheet.edge_df[\"dx\"]+np.random.normal(scale=1e-6, size=sheet.Ne)\n",
    "    ),\n",
    "    60\n",
    ")"
   ]
  },
  {
   "cell_type": "code",
   "execution_count": 2,
   "metadata": {},
   "outputs": [
    {
     "ename": "NameError",
     "evalue": "name 'np' is not defined",
     "output_type": "error",
     "traceback": [
      "\u001b[0;31m---------------------------------------------------------------------------\u001b[0m",
      "\u001b[0;31mNameError\u001b[0m                                 Traceback (most recent call last)",
      "\u001b[0;32m<ipython-input-2-4117b80141de>\u001b[0m in \u001b[0;36m<module>\u001b[0;34m\u001b[0m\n\u001b[0;32m----> 1\u001b[0;31m theta = np.arctan2(\n\u001b[0m\u001b[1;32m      2\u001b[0m     \u001b[0mself\u001b[0m\u001b[0;34m.\u001b[0m\u001b[0medge_df\u001b[0m\u001b[0;34m.\u001b[0m\u001b[0mloc\u001b[0m\u001b[0;34m[\u001b[0m\u001b[0mself\u001b[0m\u001b[0;34m.\u001b[0m\u001b[0mdble_edges\u001b[0m\u001b[0;34m,\u001b[0m \u001b[0;34m\"dy\"\u001b[0m\u001b[0;34m]\u001b[0m\u001b[0;34m,\u001b[0m\u001b[0;34m\u001b[0m\u001b[0;34m\u001b[0m\u001b[0m\n\u001b[1;32m      3\u001b[0m     \u001b[0mself\u001b[0m\u001b[0;34m.\u001b[0m\u001b[0medge_df\u001b[0m\u001b[0;34m.\u001b[0m\u001b[0mloc\u001b[0m\u001b[0;34m[\u001b[0m\u001b[0mself\u001b[0m\u001b[0;34m.\u001b[0m\u001b[0mdble_edges\u001b[0m\u001b[0;34m,\u001b[0m \u001b[0;34m\"dx\"\u001b[0m\u001b[0;34m]\u001b[0m\u001b[0;34m,\u001b[0m\u001b[0;34m\u001b[0m\u001b[0;34m\u001b[0m\u001b[0m\n\u001b[1;32m      4\u001b[0m )\n",
      "\u001b[0;31mNameError\u001b[0m: name 'np' is not defined"
     ]
    }
   ],
   "source": [
    "theta = np.arctan2(\n",
    "    self.edge_df.loc[self.dble_edges, \"dy\"],\n",
    "    self.edge_df.loc[self.dble_edges, \"dx\"]+np.,\n",
    ")\n"
   ]
  },
  {
   "cell_type": "code",
   "execution_count": 2,
   "metadata": {},
   "outputs": [],
   "source": [
    "import tempfile\n",
    "from tyssue.generation import three_faces_sheet\n",
    "from tyssue import Sheet\n",
    "from tyssue.io import csv, obj, off, ais\n",
    "\n",
    "\n",
    "sheet = Sheet('test', *three_faces_sheet())\n",
    "fh = tempfile.mktemp(suffix='.csv')\n",
    "csv.write_storm_csv(fh, sheet.vert_df[sheet.coords])\n",
    "with open(fh) as fb:\n",
    "    lines = fb.readlines()\n",
    "assert len(lines) == 14\n",
    "assert 'frame' in lines[0]"
   ]
  },
  {
   "cell_type": "code",
   "execution_count": 3,
   "metadata": {},
   "outputs": [
    {
     "name": "stderr",
     "output_type": "stream",
     "text": [
      "WARNING: Faces doesn't appear to be triangular,\n",
      "                be advised the file cannot be read back in vispy\n"
     ]
    }
   ],
   "source": [
    "fh = tempfile.mktemp(suffix='.obj')\n",
    "obj.save_junction_mesh(fh, sheet)\n",
    "with open(fh) as fb:\n",
    "    lines = fb.readlines()\n",
    "assert len(lines) == 35\n",
    "assert '# 13 vertices' in lines[4]"
   ]
  },
  {
   "cell_type": "code",
   "execution_count": 32,
   "metadata": {},
   "outputs": [],
   "source": [
    "from tyssue.generation import extrude\n",
    "from tyssue import Monolayer, config\n",
    "datasets, specs = three_faces_sheet()\n",
    "\n",
    "extruded = extrude(datasets, method='translation')\n",
    "mono = Monolayer('test', extruded,\n",
    "                 config.geometry.bulk_spec())\n"
   ]
  },
  {
   "cell_type": "code",
   "execution_count": 6,
   "metadata": {},
   "outputs": [],
   "source": [
    "from tyssue.draw.plt_draw import quick_edge_draw, sheet_view"
   ]
  },
  {
   "cell_type": "code",
   "execution_count": 16,
   "metadata": {},
   "outputs": [
    {
     "data": {
      "image/png": "[encoded data removed]",
      "text/plain": [
       "<Figure size 432x288 with 1 Axes>"
      ]
     },
     "metadata": {},
     "output_type": "display_data"
    }
   ],
   "source": [
    "fig, ax = quick_edge_draw(sheet)\n",
    "assert ax.lines[0].get_xydata().shape == (54, 2)\n"
   ]
  },
  {
   "cell_type": "code",
   "execution_count": 12,
   "metadata": {},
   "outputs": [],
   "source": [
    "line = ax.lines[0]"
   ]
  },
  {
   "cell_type": "code",
   "execution_count": 15,
   "metadata": {},
   "outputs": [
    {
     "data": {
      "text/plain": [
       "(54, 2)"
      ]
     },
     "execution_count": 15,
     "metadata": {},
     "output_type": "execute_result"
    }
   ],
   "source": [
    "line.get_xydata().shape"
   ]
  },
  {
   "cell_type": "code",
   "execution_count": null,
   "metadata": {},
   "outputs": [],
   "source": []
  }
 ],
 "metadata": {
  "kernelspec": {
   "display_name": "Python 3",
   "language": "python",
   "name": "python3"
  },
  "language_info": {
   "codemirror_mode": {
    "name": "ipython",
    "version": 3
   },
   "file_extension": ".py",
   "mimetype": "text/x-python",
   "name": "python",
   "nbconvert_exporter": "python",
   "pygments_lexer": "ipython3",
   "version": "3.8.6"
  }
 },
 "nbformat": 4,
 "nbformat_minor": 2
}
