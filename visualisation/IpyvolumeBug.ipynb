{
 "cells": [
  {
   "cell_type": "markdown",
   "metadata": {},
   "source": [
    "Updating the `lines` attribute of a mesh doesn't seem to work properly.\n",
    "\n",
    "Here is a minimal example"
   ]
  },
  {
   "cell_type": "code",
   "execution_count": 1,
   "metadata": {
    "collapsed": true
   },
   "outputs": [],
   "source": [
    "import numpy as np\n",
    "import ipyvolume as ipv"
   ]
  },
  {
   "cell_type": "code",
   "execution_count": 5,
   "metadata": {},
   "outputs": [
    {
     "data": {
      "text/plain": [
       "(0, 4, 0, 'final', 0)"
      ]
     },
     "execution_count": 5,
     "metadata": {},
     "output_type": "execute_result"
    }
   ],
   "source": [
    "ipv.version_info"
   ]
  },
  {
   "cell_type": "code",
   "execution_count": 6,
   "metadata": {
    "collapsed": true
   },
   "outputs": [],
   "source": [
    "s = 1/2**0.5\n",
    "# 4 vertices for the tetrahedron\n",
    "x = np.array([1.,  -1, 0,  0])\n",
    "y = np.array([0,   0, 1., -1])\n",
    "z = np.array([-s, -s, s,  s])\n",
    "# colors area black, red, green blue\n",
    "# interestingly, this bugs (hangs the notebook)\n",
    "# colors = ['black', 'red', 'green', 'blue']\n",
    "colors = [(0., 0., 0.), (1., 0., 0.),\n",
    "          (0., 1., 0.), (0., 0., 1.)]\n",
    "# draw lines only from the first vertex\n",
    "lines = [[0, 1], [0, 2], [0, 3]]\n"
   ]
  },
  {
   "cell_type": "code",
   "execution_count": 7,
   "metadata": {},
   "outputs": [
    {
     "data": {
      "application/vnd.jupyter.widget-view+json": {
       "model_id": "6406c1a777f84f4fa904d8889d737cb1",
       "version_major": 2,
       "version_minor": 0
      },
      "text/html": [
       "<p>Failed to display Jupyter Widget of type <code>VBox</code>.</p>\n",
       "<p>\n",
       "  If you're reading this message in Jupyter Notebook or JupyterLab, it may mean\n",
       "  that the widgets JavaScript is still loading. If this message persists, it\n",
       "  likely means that the widgets JavaScript library is either not installed or\n",
       "  not enabled. See the <a href=\"https://ipywidgets.readthedocs.io/en/stable/user_install.html\">Jupyter\n",
       "  Widgets Documentation</a> for setup instructions.\n",
       "</p>\n",
       "<p>\n",
       "  If you're reading this message in another notebook frontend (for example, a static\n",
       "  rendering on GitHub or <a href=\"https://nbviewer.jupyter.org/\">NBViewer</a>),\n",
       "  it may mean that your frontend doesn't currently support widgets.\n",
       "</p>\n"
      ],
      "text/plain": [
       "VBox(children=(Figure(camera_center=[0.0, 0.0, 0.0], height=500, matrix_projection=[0.0, 0.0, 0.0, 0.0, 0.0, 0.0, 0.0, 0.0, 0.0, 0.0, 0.0, 0.0, 0.0, 0.0, 0.0, 0.0], matrix_world=[0.0, 0.0, 0.0, 0.0, 0.0, 0.0, 0.0, 0.0, 0.0, 0.0, 0.0, 0.0, 0.0, 0.0, 0.0, 0.0], meshes=[Mesh(color=array('black',\n",
       "      dtype='<U5'), lines=array([[0, 1],\n",
       "       [0, 2],\n",
       "       [0, 3]], dtype=uint32), texture=None, x=array([ 1., -1.,  0.,  0.]), y=array([ 0.,  0.,  1., -1.]), z=array([-0.70710678, -0.70710678,  0.70710678,  0.70710678]))], scatters=[Scatter(color=array([[ 0.,  0.,  0.],\n",
       "       [ 1.,  0.,  0.],\n",
       "       [ 0.,  1.,  0.],\n",
       "       [ 0.,  0.,  1.]]), color_selected=array('white',\n",
       "      dtype='<U5'), geo='sphere', size=array(2), size_selected=array(2.6), x=array([ 1., -1.,  0.,  0.]), y=array([ 0.,  0.,  1., -1.]), z=array([-0.70710678, -0.70710678,  0.70710678,  0.70710678]))], style={'axes': {'visible': True, 'label': {'color': 'black'}, 'ticklabel': {'color': 'black'}, 'color': 'black'}, 'box': {'visible': True}, 'background-color': 'white'}, tf=None, width=400, xlim=[-2.0, 2.0], ylim=[-2.0, 2.0], zlim=[-2.0, 2.0]),))"
      ]
     },
     "metadata": {},
     "output_type": "display_data"
    }
   ],
   "source": [
    "ipv.clear()\n",
    "fig = ipv.figure()\n",
    "# we draw the tetrahedron\n",
    "ipv.plot_trisurf(x, y, z, lines=lines, color='black')\n",
    "mesh = fig.meshes[0]\n",
    "# and also mark the vertices\n",
    "ipv.scatter(x, y, z, marker='sphere', color=colors)\n",
    "\n",
    "ipv.xyzlim(-2, 2)\n",
    "ipv.show()"
   ]
  },
  {
   "cell_type": "code",
   "execution_count": 8,
   "metadata": {},
   "outputs": [
    {
     "data": {
      "application/vnd.jupyter.widget-view+json": {
       "model_id": "064bf07e1ea742e9927751de405cac26",
       "version_major": 2,
       "version_minor": 0
      },
      "text/html": [
       "<p>Failed to display Jupyter Widget of type <code>Figure</code>.</p>\n",
       "<p>\n",
       "  If you're reading this message in Jupyter Notebook or JupyterLab, it may mean\n",
       "  that the widgets JavaScript is still loading. If this message persists, it\n",
       "  likely means that the widgets JavaScript library is either not installed or\n",
       "  not enabled. See the <a href=\"https://ipywidgets.readthedocs.io/en/stable/user_install.html\">Jupyter\n",
       "  Widgets Documentation</a> for setup instructions.\n",
       "</p>\n",
       "<p>\n",
       "  If you're reading this message in another notebook frontend (for example, a static\n",
       "  rendering on GitHub or <a href=\"https://nbviewer.jupyter.org/\">NBViewer</a>),\n",
       "  it may mean that your frontend doesn't currently support widgets.\n",
       "</p>\n"
      ],
      "text/plain": [
       "Figure(anglex=0.11105276610626273, angley=-0.2873351518164413, anglez=-0.41464360766358493, camera_center=[0.0, 0.0, 0.0], height=500, matrix_projection=[3.017766952966369, 0.0, 0.0, 0.0, 0.0, 2.414213562373095, 0.0, 0.0, 0.0, 0.0, -1.000002000002, -1.0, 0.0, 0.0, -0.02000002000002, 0.0], matrix_world=[0.22055300325143748, 0.09434628541502625, -0.07039283475722373, 0.0, -0.10677409512931062, 0.2232811525306798, -0.03528200014013143, 0.0, 0.0495546704770431, 0.0611907293056531, 0.23727627205633933, 0.0, -1.8041124150158794e-16, -8.326672684688674e-17, -1.9999999999999973, 1.0], meshes=[Mesh(color=array('black',\n",
       "      dtype='<U5'), lines=array([[1, 2],\n",
       "       [2, 3]]), texture=None, x=array([ 1., -1.,  0.,  0.]), y=array([ 0.,  0.,  1., -1.]), z=array([-0.70710678, -0.70710678,  0.70710678,  0.70710678]))], scatters=[Scatter(color=array([[ 0.,  0.,  0.],\n",
       "       [ 1.,  0.,  0.],\n",
       "       [ 0.,  1.,  0.],\n",
       "       [ 0.,  0.,  1.]]), color_selected=array('white',\n",
       "      dtype='<U5'), geo='sphere', size=array(2), size_selected=array(2.6), x=array([ 1., -1.,  0.,  0.]), y=array([ 0.,  0.,  1., -1.]), z=array([-0.70710678, -0.70710678,  0.70710678,  0.70710678]))], style={'axes': {'visible': True, 'label': {'color': 'black'}, 'ticklabel': {'color': 'black'}, 'color': 'black'}, 'box': {'visible': True}, 'background-color': 'white'}, tf=None, width=400, xlim=[-2.0, 2.0], ylim=[-2.0, 2.0], zlim=[-2.0, 2.0])"
      ]
     },
     "metadata": {},
     "output_type": "display_data"
    }
   ],
   "source": [
    "# this should change connectivity\n",
    "mesh.lines = [[1, 2], [2, 3]] #that's red -> blue and blue -> green\n",
    "fig"
   ]
  },
  {
   "cell_type": "markdown",
   "metadata": {
    "collapsed": true
   },
   "source": [
    "On my machine, I only see one line "
   ]
  }
 ],
 "metadata": {
  "kernelspec": {
   "display_name": "Python 3",
   "language": "python",
   "name": "python3"
  },
  "language_info": {
   "codemirror_mode": {
    "name": "ipython",
    "version": 3
   },
   "file_extension": ".py",
   "mimetype": "text/x-python",
   "name": "python",
   "nbconvert_exporter": "python",
   "pygments_lexer": "ipython3",
   "version": "3.6.2"
  }
 },
 "nbformat": 4,
 "nbformat_minor": 2
}
