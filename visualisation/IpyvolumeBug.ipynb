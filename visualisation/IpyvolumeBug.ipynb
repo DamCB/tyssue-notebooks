{
 "cells": [
  {
   "cell_type": "markdown",
   "metadata": {},
   "source": [
    "Updating the `lines` attribute of a mesh doesn't seem to work properly.\n",
    "\n",
    "Here is a minimal example"
   ]
  },
  {
   "cell_type": "code",
   "execution_count": 1,
   "metadata": {
    "collapsed": true
   },
   "outputs": [],
   "source": [
    "import numpy as np\n",
    "import ipyvolume as ipv\n",
    "import notebook\n",
    "import ipywidgets"
   ]
  },
  {
   "cell_type": "code",
   "execution_count": 12,
   "metadata": {},
   "outputs": [
    {
     "name": "stdout",
     "output_type": "stream",
     "text": [
      "Notebook version: 5.0.0\n",
      "ipywidgets version: 7.0.1\n",
      "ipyvolume version: 0.4.0\n"
     ]
    }
   ],
   "source": [
    "\n",
    "print('Notebook version: '+notebook.__version__)\n",
    "print('ipywidgets version: '+ ipywidgets.__version__)\n",
    "\n",
    "print('ipyvolume version: '+ ipv.__version__)"
   ]
  },
  {
   "cell_type": "code",
   "execution_count": 3,
   "metadata": {
    "collapsed": true
   },
   "outputs": [],
   "source": [
    "s = 1/2**0.5\n",
    "# 4 vertices for the tetrahedron\n",
    "x = np.array([1.,  -1, 0,  0])\n",
    "y = np.array([0,   0, 1., -1])\n",
    "z = np.array([-s, -s, s,  s])\n",
    "# colors area black, red, green blue\n",
    "# interestingly, this bugs (hangs the notebook)\n",
    "# colors = ['black', 'red', 'green', 'blue']\n",
    "colors = [(0., 0., 0.), (1., 0., 0.),\n",
    "          (0., 1., 0.), (0., 0., 1.)]\n",
    "# draw lines only from the first vertex\n",
    "lines = [[0, 1], [0, 2], [0, 3]]\n",
    "\n",
    "\n",
    "ipv.clear()\n",
    "fig = ipv.figure()\n",
    "# we draw the tetrahedron\n",
    "ipv.plot_trisurf(x, y, z, lines=lines, color='black')\n",
    "mesh = fig.meshes[0]\n",
    "# and also mark the vertices\n",
    "ipv.scatter(x, y, z, marker='sphere', color=colors)\n",
    "\n",
    "ipv.xyzlim(-2, 2)\n",
    "ipv.show()"
   ]
  },
  {
   "cell_type": "code",
   "execution_count": 5,
   "metadata": {},
   "outputs": [
    {
     "data": {
      "application/vnd.jupyter.widget-view+json": {
       "model_id": "d2c278a8bb0949669a5458d037ca9e25",
       "version_major": 2,
       "version_minor": 0
      },
      "text/html": [
       "<p>Failed to display Jupyter Widget of type <code>Figure</code>.</p>\n",
       "<p>\n",
       "  If you're reading this message in Jupyter Notebook or JupyterLab, it may mean\n",
       "  that the widgets JavaScript is still loading. If this message persists, it\n",
       "  likely means that the widgets JavaScript library is either not installed or\n",
       "  not enabled. See the <a href=\"https://ipywidgets.readthedocs.io/en/stable/user_install.html\">Jupyter\n",
       "  Widgets Documentation</a> for setup instructions.\n",
       "</p>\n",
       "<p>\n",
       "  If you're reading this message in another notebook frontend (for example, a static\n",
       "  rendering on GitHub or <a href=\"https://nbviewer.jupyter.org/\">NBViewer</a>),\n",
       "  it may mean that your frontend doesn't currently support widgets.\n",
       "</p>\n"
      ],
      "text/plain": [
       "Figure(camera_center=[0.0, 0.0, 0.0], height=500, matrix_projection=[3.017766952966369, 0.0, 0.0, 0.0, 0.0, 2.414213562373095, 0.0, 0.0, 0.0, 0.0, -1.000002000002, -1.0, 0.0, 0.0, -0.02000002000002, 0.0], matrix_world=[0.25, 0.0, 0.0, 0.0, 0.0, 0.25, 0.0, 0.0, 0.0, 0.0, 0.25, 0.0, 0.0, 0.0, 0.0, 1.0], meshes=[Mesh(color=array('black',\n",
       "      dtype='<U5'), lines=array([[1, 2],\n",
       "       [2, 3]]), texture=None, x=array([ 1., -1.,  0.,  0.]), y=array([ 0.,  0.,  1., -1.]), z=array([-0.70710678, -0.70710678,  0.70710678,  0.70710678]))], scatters=[Scatter(color=array([[ 0.,  0.,  0.],\n",
       "       [ 1.,  0.,  0.],\n",
       "       [ 0.,  1.,  0.],\n",
       "       [ 0.,  0.,  1.]]), color_selected=array('white',\n",
       "      dtype='<U5'), geo='sphere', size=array(2), size_selected=array(2.6), x=array([ 1., -1.,  0.,  0.]), y=array([ 0.,  0.,  1., -1.]), z=array([-0.70710678, -0.70710678,  0.70710678,  0.70710678]))], style={'axes': {'visible': True, 'label': {'color': 'black'}, 'ticklabel': {'color': 'black'}, 'color': 'black'}, 'box': {'visible': True}, 'background-color': 'white'}, tf=None, width=400, xlim=[-2.0, 2.0], ylim=[-2.0, 2.0], zlim=[-2.0, 2.0])"
      ]
     },
     "metadata": {},
     "output_type": "display_data"
    }
   ],
   "source": [
    "# this should change connectivity\n",
    "mesh.lines = [[1, 2], [2, 3]] #that's red -> blue and blue -> green\n",
    "fig"
   ]
  },
  {
   "cell_type": "markdown",
   "metadata": {
    "collapsed": true
   },
   "source": [
    "On my machine, I only see one line between the red and black points and the first widget is not updated.\n"
   ]
  },
  {
   "cell_type": "code",
   "execution_count": 10,
   "metadata": {
    "collapsed": true
   },
   "outputs": [],
   "source": [
    "import notebook\n",
    "import ipywidgets"
   ]
  },
  {
   "cell_type": "code",
   "execution_count": 11,
   "metadata": {},
   "outputs": [
    {
     "name": "stdout",
     "output_type": "stream",
     "text": [
      "5.0.0\n",
      "7.0.1\n"
     ]
    }
   ],
   "source": [
    "print(notebook.__version__)\n",
    "print(ipywidgets.__version__)\n"
   ]
  },
  {
   "cell_type": "code",
   "execution_count": null,
   "metadata": {
    "collapsed": true
   },
   "outputs": [],
   "source": []
  }
 ],
 "metadata": {
  "kernelspec": {
   "display_name": "Python 3",
   "language": "python",
   "name": "python3"
  },
  "language_info": {
   "codemirror_mode": {
    "name": "ipython",
    "version": 3
   },
   "file_extension": ".py",
   "mimetype": "text/x-python",
   "name": "python",
   "nbconvert_exporter": "python",
   "pygments_lexer": "ipython3",
   "version": "3.6.2"
  }
 },
 "nbformat": 4,
 "nbformat_minor": 2
}
