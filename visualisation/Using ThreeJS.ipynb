{
 "cells": [
  {
   "cell_type": "code",
   "execution_count": 1,
   "metadata": {
    "collapsed": false
   },
   "outputs": [],
   "source": [
    "import numpy as np\n",
    "import pandas as pd\n",
    "import matplotlib.pylab as plt\n",
    "\n",
    "try:\n",
    "    import seaborn as sns\n",
    "except ImportError:\n",
    "    print('Seabofn is not installed')\n",
    "%matplotlib inline\n",
    "\n",
    "from tyssue import Sheet, config\n",
    "from tyssue import SheetGeometry as geom\n",
    "from tyssue.core.generation import three_faces_sheet\n",
    "\n",
    "from tyssue.draw.threejs_draw import view_3js\n",
    "from IPython.display import display\n",
    "\n",
    "# Grab the default settings for drawing\n",
    "draw_specs = config.draw.sheet_spec()"
   ]
  },
  {
   "cell_type": "markdown",
   "metadata": {},
   "source": [
    "### Create a sheet"
   ]
  },
  {
   "cell_type": "code",
   "execution_count": 2,
   "metadata": {
    "collapsed": false
   },
   "outputs": [],
   "source": [
    "datasets, specs = three_faces_sheet()\n",
    "sheet = Sheet('3cells_2D', datasets, specs)\n",
    "geom.update_all(sheet)"
   ]
  },
  {
   "cell_type": "markdown",
   "metadata": {},
   "source": [
    "## Default "
   ]
  },
  {
   "cell_type": "code",
   "execution_count": 3,
   "metadata": {
    "collapsed": false
   },
   "outputs": [
    {
     "data": {
      "text/plain": [
       "(<pythreejs.pythreejs.Renderer at 0x7f9be8a12c18>,\n",
       " <pythreejs.pythreejs.Line at 0x7f9be8a12630>)"
      ]
     },
     "metadata": {},
     "output_type": "display_data"
    }
   ],
   "source": [
    "renderer = view_3js(sheet)\n",
    "\n",
    "display(renderer)"
   ]
  },
  {
   "cell_type": "code",
   "execution_count": 18,
   "metadata": {
    "collapsed": true
   },
   "outputs": [],
   "source": [
    "from tyssue.io.hdf5 import load_datasets\n",
    "from tyssue.core.monolayer import Monolayer"
   ]
  },
  {
   "cell_type": "code",
   "execution_count": 19,
   "metadata": {
    "collapsed": false
   },
   "outputs": [],
   "source": [
    "dsets = load_datasets('../data/hf5/small_ellipsoid.hf5',\n",
    "                      data_names=['vert', 'edge', 'face', 'cell'])\n",
    "specs = config.geometry.bulk_spec()\n",
    "\n",
    "mono = Monolayer('mono', datasets=dsets, specs=specs)"
   ]
  },
  {
   "cell_type": "code",
   "execution_count": 20,
   "metadata": {
    "collapsed": false
   },
   "outputs": [],
   "source": [
    "colors = pd.DataFrame(np.zeros((mono.Nv, 3)),\n",
    "                      index=mono.vert_df.index,\n",
    "                      columns=['R', 'G', 'B'])\n",
    "\n",
    "apical_color = [0.3, 0.6, 0.3]\n",
    "basal_color = [0.6, 0.3, 0.3]\n",
    "\n",
    "for i, c in enumerate('RGB'):\n",
    "    colors.loc[mono.apical_verts, c] = apical_color[i]\n",
    "    colors.loc[mono.basal_verts, c] = basal_color[i]\n",
    "draw_specs['vert']['color'] = colors\n",
    "draw_specs['edge']['width'] = 1.5"
   ]
  },
  {
   "cell_type": "code",
   "execution_count": 21,
   "metadata": {
    "collapsed": false
   },
   "outputs": [],
   "source": [
    "renderer = view_3js(mono, **draw_specs)\n",
    "\n",
    "\n",
    "display(renderer)"
   ]
  },
  {
   "cell_type": "code",
   "execution_count": 22,
   "metadata": {
    "collapsed": true
   },
   "outputs": [],
   "source": [
    "import pythreejs as tjs"
   ]
  },
  {
   "cell_type": "code",
   "execution_count": 81,
   "metadata": {
    "collapsed": false
   },
   "outputs": [
    {
     "ename": "NameError",
     "evalue": "name 'tjs' is not defined",
     "output_type": "error",
     "traceback": [
      "\u001b[1;31m---------------------------------------------------------------------------\u001b[0m",
      "\u001b[1;31mNameError\u001b[0m                                 Traceback (most recent call last)",
      "\u001b[1;32m<ipython-input-81-5a451fb1f0a3>\u001b[0m in \u001b[0;36m<module>\u001b[1;34m()\u001b[0m\n\u001b[0;32m      6\u001b[0m \u001b[1;33m\u001b[0m\u001b[0m\n\u001b[0;32m      7\u001b[0m \u001b[0mvertices\u001b[0m\u001b[1;33m,\u001b[0m \u001b[0mfaces\u001b[0m\u001b[1;33m,\u001b[0m \u001b[0m_\u001b[0m \u001b[1;33m=\u001b[0m \u001b[0mapical_sheet\u001b[0m\u001b[1;33m.\u001b[0m\u001b[0mvertex_mesh\u001b[0m\u001b[1;33m(\u001b[0m\u001b[1;33m[\u001b[0m\u001b[1;34m'x'\u001b[0m\u001b[1;33m,\u001b[0m \u001b[1;34m'y'\u001b[0m\u001b[1;33m,\u001b[0m \u001b[1;34m'z'\u001b[0m\u001b[1;33m]\u001b[0m\u001b[1;33m)\u001b[0m\u001b[1;33m\u001b[0m\u001b[0m\n\u001b[1;32m----> 8\u001b[1;33m geometry = tjs.FaceGeometry(vertices=list(vertices.flat),\n\u001b[0m\u001b[0;32m      9\u001b[0m                             \u001b[0mfacen\u001b[0m\u001b[1;33m=\u001b[0m\u001b[1;33m[\u001b[0m\u001b[0mlist\u001b[0m\u001b[1;33m(\u001b[0m\u001b[0mf\u001b[0m\u001b[1;33m)\u001b[0m \u001b[1;32mfor\u001b[0m \u001b[0mf\u001b[0m \u001b[1;32min\u001b[0m \u001b[0mfaces\u001b[0m\u001b[1;33m]\u001b[0m\u001b[1;33m,\u001b[0m\u001b[1;33m\u001b[0m\u001b[0m\n\u001b[0;32m     10\u001b[0m                             colors=face_colors)\n",
      "\u001b[1;31mNameError\u001b[0m: name 'tjs' is not defined"
     ]
    },
    {
     "name": "stdout",
     "output_type": "stream",
     "text": [
      "> \u001b[1;32m<ipython-input-81-5a451fb1f0a3>\u001b[0m(8)\u001b[0;36m<module>\u001b[1;34m()\u001b[0m\n",
      "\u001b[1;32m      6 \u001b[1;33m\u001b[1;33m\u001b[0m\u001b[0m\n",
      "\u001b[0m\u001b[1;32m      7 \u001b[1;33m\u001b[0mvertices\u001b[0m\u001b[1;33m,\u001b[0m \u001b[0mfaces\u001b[0m\u001b[1;33m,\u001b[0m \u001b[0m_\u001b[0m \u001b[1;33m=\u001b[0m \u001b[0mapical_sheet\u001b[0m\u001b[1;33m.\u001b[0m\u001b[0mvertex_mesh\u001b[0m\u001b[1;33m(\u001b[0m\u001b[1;33m[\u001b[0m\u001b[1;34m'x'\u001b[0m\u001b[1;33m,\u001b[0m \u001b[1;34m'y'\u001b[0m\u001b[1;33m,\u001b[0m \u001b[1;34m'z'\u001b[0m\u001b[1;33m]\u001b[0m\u001b[1;33m)\u001b[0m\u001b[1;33m\u001b[0m\u001b[0m\n",
      "\u001b[0m\u001b[1;32m----> 8 \u001b[1;33mgeometry = tjs.FaceGeometry(vertices=list(vertices.flat),\n",
      "\u001b[0m\u001b[1;32m      9 \u001b[1;33m                            \u001b[0mfacen\u001b[0m\u001b[1;33m=\u001b[0m\u001b[1;33m[\u001b[0m\u001b[0mlist\u001b[0m\u001b[1;33m(\u001b[0m\u001b[0mf\u001b[0m\u001b[1;33m)\u001b[0m \u001b[1;32mfor\u001b[0m \u001b[0mf\u001b[0m \u001b[1;32min\u001b[0m \u001b[0mfaces\u001b[0m\u001b[1;33m]\u001b[0m\u001b[1;33m,\u001b[0m\u001b[1;33m\u001b[0m\u001b[0m\n",
      "\u001b[0m\u001b[1;32m     10 \u001b[1;33m                            colors=face_colors)\n",
      "\u001b[0m\n",
      "ipdb> c\n"
     ]
    }
   ],
   "source": [
    "apical_sheet = mono.get_sub_sheet('apical')\n",
    "apical_sheet.reset_index()\n",
    "apical_sheet.reset_topo()\n",
    "from tyssue.core.objects import ordered_vert_idxs\n",
    "from matplotlib.colors import rgb2hex\n",
    "\n",
    "vertices, faces, _ = apical_sheet.vertex_mesh(['x', 'y', 'z'])\n",
    "geometry = tjs.FaceGeometry(vertices=list(vertices.flat),\n",
    "                            facen=[list(f) for f in faces],\n",
    "                            colors=face_colors)\n",
    "material=tjs.LambertMaterial(color='green', side='FrontSide')\n",
    "material.transparent = True\n",
    "material.opacity = 0.3\n",
    "surf = tjs.Mesh(geometry=geometry, material=material)\n",
    "\n",
    "\n",
    "scene = tjs.Scene(children=[surf,\n",
    "                            tjs.DirectionalLight(color='#ffaabb',\n",
    "                                                 position=[0, 5, 0]),\n",
    "                            tjs.AmbientLight(color='#cccccc')])\n",
    "c = tjs.PerspectiveCamera(position=[5, 5, 3], up=[0, 0, 1],\n",
    "                      children=[tjs.DirectionalLight(color='red',\n",
    "                                                     position=[3, 5, 1],\n",
    "                                                     intensity=0.6)])\n",
    "renderer = tjs.Renderer(camera=c, scene=scene, \n",
    "                        controls=[tjs.OrbitControls(controlling=c)])\n",
    "display(renderer)"
   ]
  },
  {
   "cell_type": "code",
   "execution_count": 31,
   "metadata": {
    "collapsed": false
   },
   "outputs": [
    {
     "data": {
      "text/plain": [
       "[<pythreejs.pythreejs.Mesh at 0x7f21877784e0>,\n",
       " <pythreejs.pythreejs.DirectionalLight at 0x7f21877785c0>,\n",
       " <pythreejs.pythreejs.AmbientLight at 0x7f2187778a20>]"
      ]
     },
     "execution_count": 31,
     "metadata": {},
     "output_type": "execute_result"
    }
   ],
   "source": [
    "scene.children"
   ]
  },
  {
   "cell_type": "code",
   "execution_count": null,
   "metadata": {
    "collapsed": true
   },
   "outputs": [],
   "source": []
  }
 ],
 "metadata": {
  "kernelspec": {
   "display_name": "Python 3",
   "language": "python",
   "name": "python3"
  },
  "language_info": {
   "codemirror_mode": {
    "name": "ipython",
    "version": 3
   },
   "file_extension": ".py",
   "mimetype": "text/x-python",
   "name": "python",
   "nbconvert_exporter": "python",
   "pygments_lexer": "ipython3",
   "version": "3.5.1"
  }
 },
 "nbformat": 4,
 "nbformat_minor": 0
}
