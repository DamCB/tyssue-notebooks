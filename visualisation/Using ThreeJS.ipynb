{
 "cells": [
  {
   "cell_type": "code",
   "execution_count": 1,
   "metadata": {
    "collapsed": false
   },
   "outputs": [],
   "source": [
    "import numpy as np\n",
    "import pandas as pd\n",
    "import matplotlib.pylab as plt\n",
    "from IPython.display import display\n",
    "\n",
    "try:\n",
    "    import seaborn as sns\n",
    "except ImportError:\n",
    "    print('Seaborn is not installed')\n",
    "%matplotlib inline\n",
    "\n",
    "from tyssue import Sheet, config\n",
    "from tyssue import SheetGeometry as geom\n",
    "from tyssue.core.generation import three_faces_sheet\n",
    "\n",
    "from tyssue.draw.threejs_draw import view_3js\n",
    "\n",
    "# Grab the default settings for drawing\n",
    "draw_specs = config.draw.sheet_spec()"
   ]
  },
  {
   "cell_type": "markdown",
   "metadata": {},
   "source": [
    "### Create a sheet"
   ]
  },
  {
   "cell_type": "code",
   "execution_count": 2,
   "metadata": {
    "collapsed": false
   },
   "outputs": [],
   "source": [
    "datasets, specs = three_faces_sheet()\n",
    "sheet = Sheet('3cells_2D', datasets, specs)\n",
    "geom.update_all(sheet)"
   ]
  },
  {
   "cell_type": "markdown",
   "metadata": {},
   "source": [
    "## Default "
   ]
  },
  {
   "cell_type": "code",
   "execution_count": 4,
   "metadata": {
    "collapsed": false
   },
   "outputs": [],
   "source": [
    "renderer, line = view_3js(sheet)\n",
    "\n",
    "display(renderer)"
   ]
  },
  {
   "cell_type": "code",
   "execution_count": 5,
   "metadata": {
    "collapsed": true
   },
   "outputs": [],
   "source": [
    "from tyssue.io.hdf5 import load_datasets\n",
    "from tyssue.core.monolayer import Monolayer"
   ]
  },
  {
   "cell_type": "code",
   "execution_count": 6,
   "metadata": {
    "collapsed": false
   },
   "outputs": [],
   "source": [
    "dsets = load_datasets('../data/hf5/small_ellipsoid.hf5',\n",
    "                      data_names=['vert', 'edge', 'face', 'cell'])\n",
    "specs = config.geometry.bulk_spec()\n",
    "\n",
    "mono = Monolayer('mono', datasets=dsets, specs=specs)"
   ]
  },
  {
   "cell_type": "code",
   "execution_count": 7,
   "metadata": {
    "collapsed": false
   },
   "outputs": [],
   "source": [
    "colors = pd.DataFrame(np.zeros((mono.Nv, 3)),\n",
    "                      index=mono.vert_df.index,\n",
    "                      columns=['R', 'G', 'B'])\n",
    "\n",
    "apical_color = [0.3, 0.6, 0.3]\n",
    "basal_color = [0.6, 0.3, 0.3]\n",
    "\n",
    "for i, c in enumerate('RGB'):\n",
    "    colors.loc[mono.apical_verts, c] = apical_color[i]\n",
    "    colors.loc[mono.basal_verts, c] = basal_color[i]\n",
    "draw_specs['vert']['color'] = colors\n",
    "draw_specs['edge']['width'] = 1.5"
   ]
  },
  {
   "cell_type": "code",
   "execution_count": 9,
   "metadata": {
    "collapsed": false
   },
   "outputs": [],
   "source": [
    "renderer, line = view_3js(mono, **draw_specs)\n",
    "\n",
    "display(renderer)"
   ]
  },
  {
   "cell_type": "code",
   "execution_count": 10,
   "metadata": {
    "collapsed": true
   },
   "outputs": [],
   "source": [
    "import pythreejs as tjs"
   ]
  },
  {
   "cell_type": "code",
   "execution_count": 15,
   "metadata": {
    "collapsed": false
   },
   "outputs": [],
   "source": [
    "apical_sheet = mono.get_sub_sheet('apical')\n",
    "apical_sheet.reset_index()\n",
    "apical_sheet.reset_topo()\n",
    "from tyssue.core.objects import ordered_vert_idxs\n",
    "from matplotlib.colors import rgb2hex\n",
    "\n",
    "vertices, faces, _ = apical_sheet.vertex_mesh(['x', 'y', 'z'])\n",
    "face_colors = ['#aaee11' for f in faces]\n",
    "\n",
    "geometry = tjs.FaceGeometry(vertices=list(vertices.flat),\n",
    "                            facen=[list(f) for f in faces],\n",
    "                            colors=face_colors)\n",
    "material=tjs.LambertMaterial(color='green',\n",
    "                             #vertexColors='FaceColors',\n",
    "                             side='FrontSide')\n",
    "material.transparent = True\n",
    "material.opacity = 0.3\n",
    "surf = tjs.Mesh(geometry=geometry, material=material)\n",
    "\n",
    "\n",
    "scene = tjs.Scene(children=[surf,\n",
    "                            tjs.DirectionalLight(color='#ffaa00',\n",
    "                                                 position=[0, 5, 0]),\n",
    "                            tjs.AmbientLight(color='#cccccc')])\n",
    "c = tjs.PerspectiveCamera(position=[5, 5, 3], up=[0, 0, 1],\n",
    "                          children=[tjs.DirectionalLight(color='red',\n",
    "                                                         position=[3, 5, 1],\n",
    "                                                         intensity=0.6)])\n",
    "renderer = tjs.Renderer(camera=c, scene=scene, \n",
    "                        controls=[tjs.OrbitControls(controlling=c)])\n",
    "display(renderer)"
   ]
  }
 ],
 "metadata": {
  "kernelspec": {
   "display_name": "Python 3",
   "language": "python",
   "name": "python3"
  },
  "language_info": {
   "codemirror_mode": {
    "name": "ipython",
    "version": 3
   },
   "file_extension": ".py",
   "mimetype": "text/x-python",
   "name": "python",
   "nbconvert_exporter": "python",
   "pygments_lexer": "ipython3",
   "version": "3.5.1"
  },
  "widgets": {
   "state": {
    "2389d6143b734d0fbd943fa24ee0c6dd": {
     "views": [
      {
       "cell_index": 11
      }
     ]
    },
    "af1903984be6426b9b48e4d290c0d3ed": {
     "views": [
      {
       "cell_index": 4
      }
     ]
    },
    "e91bd0c78f324f678742115a6c813f6f": {
     "views": [
      {
       "cell_index": 8
      }
     ]
    }
   },
   "version": "1.2.0"
  }
 },
 "nbformat": 4,
 "nbformat_minor": 0
}
