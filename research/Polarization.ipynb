{
 "cells": [
  {
   "cell_type": "code",
   "execution_count": 4,
   "metadata": {},
   "outputs": [],
   "source": [
    "\n",
    "import pandas as pd\n",
    "import numpy as np\n",
    "import json\n",
    "import matplotlib.pylab as plt\n",
    "%matplotlib inline\n",
    "from scipy import optimize\n",
    "\n",
    "from tyssue import (config, Sheet,\n",
    "                    SheetGeometry as geom)\n",
    "\n",
    "from tyssue.dynamics.sheet_isotropic_model import isotropic_relax\n",
    "from tyssue.dynamics.sheet_vertex_model import SheetModel as model\n",
    "from tyssue.solvers.sheet_vertex_solver import Solver as solver\n",
    "\n",
    "from tyssue.draw.plt_draw import sheet_view, quick_edge_draw\n",
    "from tyssue.io import hdf5\n",
    "from tyssue.io import obj\n",
    "\n"
   ]
  },
  {
   "cell_type": "code",
   "execution_count": 11,
   "metadata": {},
   "outputs": [],
   "source": [
    "datasets = hdf5.load_datasets('../data/hf5/before_apoptosis.hf5')\n",
    "\n",
    "sheet = Sheet('pola', datasets,\n",
    "              config.geometry.cylindrical_sheet())\n",
    "\n",
    "geom.update_all(sheet)\n",
    "\n",
    "\n",
    "nondim_specs = config.dynamics.quasistatic_sheet_spec()\n",
    "dim_model_specs = model.dimentionalize(nondim_specs)\n",
    "\n",
    "sheet.update_specs(dim_model_specs)\n",
    "isotropic_relax(sheet, nondim_specs)\n"
   ]
  },
  {
   "cell_type": "code",
   "execution_count": 12,
   "metadata": {},
   "outputs": [
    {
     "data": {
      "text/plain": [
       "{'geometry': 'cylindrical',\n",
       " 'grad_norm_factor': 23943.87036383216,\n",
       " 'height_axis': 'z',\n",
       " 'nrj_norm_factor': 82944.0}"
      ]
     },
     "execution_count": 12,
     "metadata": {},
     "output_type": "execute_result"
    }
   ],
   "source": [
    "sheet.settings\n"
   ]
  },
  {
   "cell_type": "code",
   "execution_count": 13,
   "metadata": {
    "collapsed": true
   },
   "outputs": [],
   "source": [
    "%matplotlib inline"
   ]
  },
  {
   "cell_type": "markdown",
   "metadata": {},
   "source": [
    "```python\n",
    "local_mask_vert = (sheet.vert_df.x.abs() < 20) & (sheet.vert_df.z.abs() < 10) & (sheet.vert_df.y > 0)\n",
    "local_patch_vert = sheet.vert_df[local_mask_vert] \n",
    "local_patch_edge = sheet.edge_df[sheet.upcast_srce(local_mask_vert) & sheet.upcast_trgt(local_mask_vert)]\n",
    "local_patch_face = sheet.face_df.loc[np.unique(local_patch_edge.index.get_level_values('face'))]\n",
    "local_datasets = {'vert': local_patch_vert,\n",
    "                  'edge': local_patch_edge,\n",
    "                  'face':local_patch_face}\n",
    "local_sheet = Sheet('local', local_datasets)\n",
    "```"
   ]
  },
  {
   "cell_type": "code",
   "execution_count": 14,
   "metadata": {},
   "outputs": [
    {
     "data": {
      "text/html": [
       "<div>\n",
       "<table border=\"1\" class=\"dataframe\">\n",
       "  <thead>\n",
       "    <tr style=\"text-align: right;\">\n",
       "      <th></th>\n",
       "      <th>is_active</th>\n",
       "      <th>z</th>\n",
       "      <th>x</th>\n",
       "      <th>y</th>\n",
       "      <th>old_idx</th>\n",
       "      <th>basal_shift</th>\n",
       "      <th>rho</th>\n",
       "      <th>height</th>\n",
       "      <th>radial_tension</th>\n",
       "    </tr>\n",
       "    <tr>\n",
       "      <th>jv</th>\n",
       "      <th></th>\n",
       "      <th></th>\n",
       "      <th></th>\n",
       "      <th></th>\n",
       "      <th></th>\n",
       "      <th></th>\n",
       "      <th></th>\n",
       "      <th></th>\n",
       "      <th></th>\n",
       "    </tr>\n",
       "  </thead>\n",
       "  <tbody>\n",
       "    <tr>\n",
       "      <th>0</th>\n",
       "      <td>0</td>\n",
       "      <td>-64.822644</td>\n",
       "      <td>36.776656</td>\n",
       "      <td>-0.533739</td>\n",
       "      <td>928</td>\n",
       "      <td>30.015534</td>\n",
       "      <td>36.780529</td>\n",
       "      <td>6.764995</td>\n",
       "      <td>0.0</td>\n",
       "    </tr>\n",
       "    <tr>\n",
       "      <th>1</th>\n",
       "      <td>0</td>\n",
       "      <td>-63.906322</td>\n",
       "      <td>37.194778</td>\n",
       "      <td>2.748014</td>\n",
       "      <td>929</td>\n",
       "      <td>30.015534</td>\n",
       "      <td>37.296154</td>\n",
       "      <td>7.280621</td>\n",
       "      <td>0.0</td>\n",
       "    </tr>\n",
       "    <tr>\n",
       "      <th>2</th>\n",
       "      <td>0</td>\n",
       "      <td>-65.217397</td>\n",
       "      <td>36.228740</td>\n",
       "      <td>5.999018</td>\n",
       "      <td>930</td>\n",
       "      <td>30.015534</td>\n",
       "      <td>36.722062</td>\n",
       "      <td>6.706528</td>\n",
       "      <td>0.0</td>\n",
       "    </tr>\n",
       "    <tr>\n",
       "      <th>3</th>\n",
       "      <td>0</td>\n",
       "      <td>-62.954196</td>\n",
       "      <td>37.261064</td>\n",
       "      <td>-3.672709</td>\n",
       "      <td>931</td>\n",
       "      <td>30.015534</td>\n",
       "      <td>37.441631</td>\n",
       "      <td>7.426097</td>\n",
       "      <td>0.0</td>\n",
       "    </tr>\n",
       "    <tr>\n",
       "      <th>4</th>\n",
       "      <td>1</td>\n",
       "      <td>-61.266034</td>\n",
       "      <td>37.410892</td>\n",
       "      <td>-3.473537</td>\n",
       "      <td>932</td>\n",
       "      <td>30.015534</td>\n",
       "      <td>37.571802</td>\n",
       "      <td>7.556269</td>\n",
       "      <td>0.0</td>\n",
       "    </tr>\n",
       "  </tbody>\n",
       "</table>\n",
       "</div>"
      ],
      "text/plain": [
       "    is_active          z          x         y  old_idx  basal_shift  \\\n",
       "jv                                                                    \n",
       "0           0 -64.822644  36.776656 -0.533739      928    30.015534   \n",
       "1           0 -63.906322  37.194778  2.748014      929    30.015534   \n",
       "2           0 -65.217397  36.228740  5.999018      930    30.015534   \n",
       "3           0 -62.954196  37.261064 -3.672709      931    30.015534   \n",
       "4           1 -61.266034  37.410892 -3.473537      932    30.015534   \n",
       "\n",
       "          rho    height  radial_tension  \n",
       "jv                                       \n",
       "0   36.780529  6.764995             0.0  \n",
       "1   37.296154  7.280621             0.0  \n",
       "2   36.722062  6.706528             0.0  \n",
       "3   37.441631  7.426097             0.0  \n",
       "4   37.571802  7.556269             0.0  "
      ]
     },
     "execution_count": 14,
     "metadata": {},
     "output_type": "execute_result"
    }
   ],
   "source": [
    "sheet.vert_df.head()"
   ]
  },
  {
   "cell_type": "code",
   "execution_count": 15,
   "metadata": {
    "scrolled": true
   },
   "outputs": [],
   "source": [
    "live_edge = sheet.upcast_face(sheet.face_df.is_alive).astype(np.bool)\n",
    "dead_edge = np.logical_not(live_edge)\n",
    "inactive_verts = set(sheet.edge_df[dead_edge].srce)\n",
    "\n",
    "active_verts = set(sheet.vert_df.index).difference(inactive_verts)\n",
    "active_verts = list(active_verts)\n",
    "sheet.vert_df.is_active = 0\n",
    "sheet.vert_df.loc[active_verts, 'is_active'] = 1\n",
    "# sheet.vert_df.is_active = 1"
   ]
  },
  {
   "cell_type": "code",
   "execution_count": null,
   "metadata": {},
   "outputs": [],
   "source": [
    "# vp_view(sheet, coords=['z', 'x', 'y'])\n",
    "# obj.write_splitted_cells(sheet, 'test_pola.obj')"
   ]
  },
  {
   "cell_type": "code",
   "execution_count": null,
   "metadata": {},
   "outputs": [],
   "source": [
    "\n",
    "draw_specs = load_default('draw', 'sheet')\n",
    "draw_specs['vert']['visible'] = False\n",
    "draw_specs['edge']['width'] = 0.2\n",
    "draw_specs['edge']['width'] = sheet.upcast_srce(sheet.vert_df.y > 0).astype(np.float)*0.5\n",
    "\n",
    "fig, ax = sheet_view(sheet, ['z', 'x'], **draw_specs)\n",
    "ax.set_xlim(sheet.vert_df.z.min()-1, sheet.vert_df.z.max()+1)\n",
    "ax.set_ylim(sheet.vert_df.x.min()-1, sheet.vert_df.x.max()+1)\n",
    "fig.set_size_inches(12, 12)\n",
    "plt.savefig('test_pola.png')\n",
    "\n"
   ]
  },
  {
   "cell_type": "code",
   "execution_count": null,
   "metadata": {},
   "outputs": [],
   "source": [
    "\n",
    "settings = {\n",
    "    'norm_factor': 1,\n",
    "    'minimize': {\n",
    "        'method': 'L-BFGS-B',\n",
    "        'options': {'disp': False,\n",
    "                    'ftol': 1e-6,\n",
    "                    'gtol': 1e-6},\n",
    "        }\n",
    "    }\n",
    "\n",
    "\n",
    "res = solver.find_energy_min(sheet, geom, model, **settings)\n",
    "print(res['success'])"
   ]
  },
  {
   "cell_type": "code",
   "execution_count": null,
   "metadata": {},
   "outputs": [],
   "source": [
    "# center_edges = sheet.edge_df[sheet.upcast_srce(sheet.vert_df['z']).abs() < 10].index\n",
    "\n",
    "# sheet.edge_df.loc[center_edges, 'line_tension'] = (sheet.edge_df.loc[center_edges, 'line_tension'] * \n",
    "#                                               (5*np.sin(sheet.edge_df.loc[center_edges, 'nz'])**2))\n",
    "\n",
    "orient = sheet.edge_df['dz'] /  sheet.edge_df['length']\n",
    "sheet.edge_df['line_tension'] = (sheet.specs['edge']['line_tension'] * \n",
    "                                 2*(orient**2))\n",
    "\n",
    "fig, ax = plt.subplots()\n",
    "ax.plot(sheet.upcast_srce(sheet.vert_df['z']), sheet.edge_df['line_tension'], '.', alpha=0.2)"
   ]
  },
  {
   "cell_type": "code",
   "execution_count": null,
   "metadata": {},
   "outputs": [],
   "source": [
    "settings = {\n",
    "    'minimize': {\n",
    "        'options': {'disp':False,\n",
    "        'gtol':1e-4,\n",
    "        'ftol':1e-4},\n",
    "        }\n",
    "    }\n",
    "res = solver.find_energy_min(sheet,  geom, model, pos_idx=active_verts, **settings)\n",
    "print(res['success'])"
   ]
  },
  {
   "cell_type": "code",
   "execution_count": null,
   "metadata": {},
   "outputs": [],
   "source": [
    "draw_specs['vert']['visible'] = False\n",
    "\n",
    "\n",
    "edge_color = sheet.edge_df['line_tension'] / sheet.edge_df['line_tension'].max()\n",
    "cmap = plt.cm.get_cmap('viridis')\n",
    "edge_cmap = cmap(edge_color)\n",
    "draw_specs['edge']['color'] = edge_cmap\n",
    "draw_specs['edge']['width'] = sheet.upcast_srce(sheet.vert_df.y > 0).astype(np.float)\n",
    "\n",
    "\n",
    "fig, ax = sheet_view(sheet, ['z', 'x'], **draw_specs)\n",
    "ax.set_xlim(sheet.vert_df.z.min() - 1,\n",
    "            sheet.vert_df.z.max() + 1)\n",
    "ax.set_ylim(sheet.vert_df.x.min() - 1,\n",
    "            sheet.vert_df.x.max() + 1)\n"
   ]
  },
  {
   "cell_type": "code",
   "execution_count": null,
   "metadata": {},
   "outputs": [],
   "source": [
    "local_mask_vert = (sheet.vert_df.x.abs() < 20) & (sheet.vert_df.z.abs() < 20) & (sheet.vert_df.y > 0)\n",
    "local_patch_vert = sheet.vert_df[local_mask_vert] \n",
    "local_patch_edge = sheet.edge_df[sheet.upcast_srce(local_mask_vert) & sheet.upcast_trgt(local_mask_vert)]\n",
    "local_patch_cell = sheet.face_df.loc[np.unique(local_patch_edge.face)]\n",
    "local_datasets = {'vert': local_patch_vert,\n",
    "                  'edge': local_patch_edge,\n",
    "                  'face': local_patch_cell}\n",
    "local_sheet = Sheet('local', local_datasets)\n",
    "\n",
    "fig, ax = sheet_view(local_sheet, ['z', 'x'], **draw_specs)\n",
    "ax.set_xlim(local_sheet.vert_df.z.min()-1, local_sheet.vert_df.z.max()+1)\n",
    "ax.set_ylim(local_sheet.vert_df.x.min()-1, local_sheet.vert_df.x.max()+1)"
   ]
  },
  {
   "cell_type": "code",
   "execution_count": null,
   "metadata": {},
   "outputs": [],
   "source": [
    "h = plt.hist(sheet.edge_df.length, bins=100)"
   ]
  },
  {
   "cell_type": "code",
   "execution_count": null,
   "metadata": {
    "collapsed": true
   },
   "outputs": [],
   "source": []
  }
 ],
 "metadata": {
  "kernelspec": {
   "display_name": "Python 3",
   "language": "python",
   "name": "python3"
  },
  "language_info": {
   "codemirror_mode": {
    "name": "ipython",
    "version": 3
   },
   "file_extension": ".py",
   "mimetype": "text/x-python",
   "name": "python",
   "nbconvert_exporter": "python",
   "pygments_lexer": "ipython3",
   "version": "3.7.1"
  }
 },
 "nbformat": 4,
 "nbformat_minor": 1
}
