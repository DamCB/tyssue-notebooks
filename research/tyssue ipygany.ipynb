{
 "cells": [
  {
   "cell_type": "code",
   "execution_count": 5,
   "metadata": {},
   "outputs": [
    {
     "name": "stdout",
     "output_type": "stream",
     "text": [
      "0.7.1\n"
     ]
    }
   ],
   "source": [
    "import pandas as pd\n",
    "import numpy as np\n",
    "import json\n",
    "import matplotlib.pylab as plt\n",
    "%matplotlib inline\n",
    "\n",
    "import ipywidgets as widgets\n",
    "from IPython.display import display, Image\n",
    "\n",
    "import tyssue\n",
    "from tyssue import Sheet, History, Monolayer\n",
    "from tyssue import config\n",
    "\n",
    "from tyssue import SheetGeometry as geom\n",
    "from tyssue.dynamics.sheet_vertex_model import SheetModel as basemodel\n",
    "from tyssue.dynamics.apoptosis_model import SheetApoptosisModel as model\n",
    "from tyssue.solvers.quasistatic import QSSolver\n",
    "\n",
    "\n",
    "from tyssue.draw import sheet_view, create_gif, browse_history\n",
    "from tyssue.io.hdf5 import load_datasets\n",
    "\n",
    "print(tyssue.__version__)"
   ]
  },
  {
   "cell_type": "code",
   "execution_count": 3,
   "metadata": {},
   "outputs": [],
   "source": [
    "from ipygany import Scene, PolyMesh"
   ]
  },
  {
   "cell_type": "code",
   "execution_count": 9,
   "metadata": {},
   "outputs": [],
   "source": [
    "# Read pre-recorded datasets\n",
    "h5store = '../data/hf5/small_hexagonal.hf5'\n",
    "from tyssue.io.hdf5 import save_datasets, load_datasets\n",
    "\n",
    "datasets = load_datasets(h5store)\n",
    "# Corresponding specifications"
   ]
  },
  {
   "cell_type": "code",
   "execution_count": 10,
   "metadata": {},
   "outputs": [],
   "source": [
    "mono = Sheet('organo', datasets)"
   ]
  },
  {
   "cell_type": "code",
   "execution_count": 12,
   "metadata": {},
   "outputs": [],
   "source": [
    "vertices, triangles = mono.triangular_mesh()"
   ]
  },
  {
   "cell_type": "code",
   "execution_count": 14,
   "metadata": {},
   "outputs": [
    {
     "data": {
      "application/vnd.jupyter.widget-view+json": {
       "model_id": "cd31ba08b5ac48e89bd46e383cd64840",
       "version_major": 2,
       "version_minor": 0
      },
      "text/plain": [
       "Scene(camera_up=(0, 1, 0), children=[PolyMesh(data=[], triangle_indices=array([ 57,  56,   0,  58,  57,   0,  …"
      ]
     },
     "metadata": {},
     "output_type": "display_data"
    }
   ],
   "source": [
    "mesh = PolyMesh(vertices=vertices, triangle_indices=triangles)\n",
    "scene = Scene([mesh])\n",
    "scene"
   ]
  },
  {
   "cell_type": "code",
   "execution_count": null,
   "metadata": {},
   "outputs": [],
   "source": []
  }
 ],
 "metadata": {
  "kernelspec": {
   "display_name": "Python 3",
   "language": "python",
   "name": "python3"
  },
  "language_info": {
   "codemirror_mode": {
    "name": "ipython",
    "version": 3
   },
   "file_extension": ".py",
   "mimetype": "text/x-python",
   "name": "python",
   "nbconvert_exporter": "python",
   "pygments_lexer": "ipython3",
   "version": "3.8.6"
  }
 },
 "nbformat": 4,
 "nbformat_minor": 4
}
