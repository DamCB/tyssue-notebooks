{
 "cells": [
  {
   "cell_type": "code",
   "execution_count": 1,
   "metadata": {},
   "outputs": [
    {
     "name": "stdout",
     "output_type": "stream",
     "text": [
      "3.7.1 (default, Oct 23 2018, 19:19:42) \n",
      "[GCC 7.3.0]\n",
      "tyssue version:  0.3.3rc1\n"
     ]
    }
   ],
   "source": [
    "import sys\n",
    "print(sys.version)\n",
    "from pathlib import Path\n",
    "\n",
    "import numpy as np\n",
    "import pandas as pd\n",
    "import matplotlib.pyplot as plt\n",
    "import ipyvolume as ipv\n",
    "%matplotlib inline\n",
    "\n",
    "from tyssue import Sheet, SheetGeometry, Monolayer, config, MonolayerGeometry\n",
    "from tyssue.solvers.sheet_vertex_solver import Solver\n",
    "from tyssue.draw import sheet_view\n",
    "from tyssue.io import hdf5\n",
    "\n",
    "from tyssue.solvers import QSSolver\n",
    "from tyssue.dynamics import model_factory, effectors\n",
    "\n",
    "from tyssue import collisions\n",
    "from tyssue.collisions.solvers import (solve_sheet_collisions,\n",
    "                                       solve_bulk_collisions)\n",
    "from tyssue import version\n",
    "print('tyssue version: ', version.full_version)\n",
    "\n",
    "from tyssue import config\n",
    "\n",
    "from tyssue import stores"
   ]
  },
  {
   "cell_type": "markdown",
   "metadata": {},
   "source": [
    "## Collision avoidance\n",
    "\n",
    "Inspired by this paper:\n",
    "\n",
    "Liu, J.-D., Ko, M.-T., & Chang, R.-C. (1998). _A simple self-collision avoidance for cloth animation_. Computers & Graphics, 22(1), 117–128. [DOI](https://doi.org/doi:10.1016/s0097-8493(97)00087-3)\n"
   ]
  },
  {
   "cell_type": "code",
   "execution_count": 2,
   "metadata": {},
   "outputs": [
    {
     "data": {
      "image/png": "[encoded data removed]",
      "text/plain": [
       "<Figure size 432x288 with 2 Axes>"
      ]
     },
     "metadata": {
      "needs_background": "light"
     },
     "output_type": "display_data"
    }
   ],
   "source": [
    "\n",
    "sheet = Sheet('crossed', hdf5.load_datasets(Path(stores.stores_dir)/\"sheet6x5.hf5\"))\n",
    "\n",
    "sheet.vert_df.z = 5 * sheet.vert_df.x**2\n",
    "sheet.vert_df[sheet.coords] += np.random.normal(scale=0.001, size=(sheet.Nv, 3))\n",
    "    \n",
    "\n",
    "SheetGeometry.update_all(sheet)\n",
    "\n",
    "\n",
    "fig, axes = plt.subplots(1, 2, sharex=True)\n",
    "fig, ax = sheet_view(sheet, coords=['x', 'y'], mode='quick', ax=axes[0])\n",
    "fig, ax = sheet_view(sheet, coords=['x', 'z'], mode='quick', ax=axes[1])\n",
    "\n"
   ]
  },
  {
   "cell_type": "code",
   "execution_count": 3,
   "metadata": {},
   "outputs": [
    {
     "data": {
      "application/vnd.jupyter.widget-view+json": {
       "model_id": "4c5cfdf7b4c04e15b6482526b88af9ca",
       "version_major": 2,
       "version_minor": 0
      },
      "text/plain": [
       "Figure(camera=PerspectiveCamera(fov=46.0, position=(0.0, 0.0, 2.0), quaternion=(0.0, 0.0, 0.0, 1.0), scale=(1.…"
      ]
     },
     "metadata": {},
     "output_type": "display_data"
    }
   ],
   "source": [
    "position_buffer = sheet.vert_df[sheet.coords].copy()\n",
    "\n",
    "sheet.vert_df.x -=  35*(sheet.vert_df.x/2)**3\n",
    "SheetGeometry.update_all(sheet)\n",
    "\n",
    "ipv.clear()\n",
    "fig, mesh = sheet_view(sheet, mode='3D')\n",
    "fig"
   ]
  },
  {
   "cell_type": "code",
   "execution_count": 4,
   "metadata": {},
   "outputs": [
    {
     "data": {
      "application/vnd.jupyter.widget-view+json": {
       "model_id": "72cb851c0d574e499cb85dbc16cd73c8",
       "version_major": 2,
       "version_minor": 0
      },
      "text/plain": [
       "VBox(children=(Figure(camera=PerspectiveCamera(fov=46.0, position=(0.0, 0.0, 2.0), quaternion=(0.0, 0.0, 0.0, …"
      ]
     },
     "metadata": {},
     "output_type": "display_data"
    }
   ],
   "source": [
    "sheet.settings['shyness'] = 0.1\n",
    "solve_sheet_collisions(sheet, position_buffer)\n",
    "SheetGeometry.update_all(sheet)\n",
    "ipv.clear()\n",
    "sheet_view(sheet, mode='3D')\n",
    "ipv.squarelim()\n",
    "ipv.show()"
   ]
  },
  {
   "cell_type": "code",
   "execution_count": 5,
   "metadata": {},
   "outputs": [],
   "source": [
    "datasets =  hdf5.load_datasets(Path(stores.stores_dir)/'small_ellipsoid.hf5',\n",
    "                               data_names=['vert', 'edge', 'face', 'cell'])\n",
    "\n",
    "ellipso = Monolayer(\n",
    "    'ellipso', datasets,\n",
    "    config.geometry.bulk_spec())\n"
   ]
  },
  {
   "cell_type": "code",
   "execution_count": 6,
   "metadata": {},
   "outputs": [],
   "source": [
    "from tyssue import ClosedMonolayerGeometry, MonolayerGeometry"
   ]
  },
  {
   "cell_type": "code",
   "execution_count": 7,
   "metadata": {},
   "outputs": [],
   "source": [
    "ClosedMonolayerGeometry.update_all(ellipso)"
   ]
  },
  {
   "cell_type": "code",
   "execution_count": 8,
   "metadata": {},
   "outputs": [
    {
     "data": {
      "application/vnd.jupyter.widget-view+json": {
       "model_id": "8afac5aaf84647d4bfbc36ca229f9a87",
       "version_major": 2,
       "version_minor": 0
      },
      "text/plain": [
       "VBox(children=(Figure(camera=PerspectiveCamera(fov=46.0, position=(0.0, 0.0, 2.0), quaternion=(0.0, 0.0, 0.0, …"
      ]
     },
     "metadata": {},
     "output_type": "display_data"
    }
   ],
   "source": [
    "ipv.clear()\n",
    "sheet_view(ellipso, mode='3D', face={\"visible\": True, \"color\": ellipso.face_df.area})\n",
    "ipv.squarelim()\n",
    "ipv.show()"
   ]
  },
  {
   "cell_type": "code",
   "execution_count": 9,
   "metadata": {},
   "outputs": [
    {
     "data": {
      "text/plain": [
       "False"
      ]
     },
     "execution_count": 9,
     "metadata": {},
     "output_type": "execute_result"
    }
   ],
   "source": [
    "position_buffer = ellipso.vert_df[ellipso.coords]\n",
    "solve_bulk_collisions(ellipso, position_buffer)"
   ]
  },
  {
   "cell_type": "code",
   "execution_count": 10,
   "metadata": {},
   "outputs": [
    {
     "data": {
      "text/plain": [
       "<tyssue.core.monolayer.Monolayer at 0x7fc90426f470>"
      ]
     },
     "execution_count": 10,
     "metadata": {},
     "output_type": "execute_result"
    }
   ],
   "source": [
    "ellipso"
   ]
  },
  {
   "cell_type": "code",
   "execution_count": 11,
   "metadata": {},
   "outputs": [
    {
     "name": "stdout",
     "output_type": "stream",
     "text": [
      "60.7 µs ± 2.49 µs per loop (mean ± std. dev. of 7 runs, 10000 loops each)\n",
      "91.1 µs ± 291 ns per loop (mean ± std. dev. of 7 runs, 10000 loops each)\n"
     ]
    }
   ],
   "source": [
    "idx = ellipso.face_df.index.get_indexer(ellipso.edge_df['face'])\n",
    "\n",
    "\n",
    "%timeit a = ellipso.face_df['area']._take(idx)\n",
    "\n",
    "%timeit a = ellipso.upcast_face(\"area\")"
   ]
  },
  {
   "cell_type": "code",
   "execution_count": 12,
   "metadata": {},
   "outputs": [
    {
     "name": "stdout",
     "output_type": "stream",
     "text": [
      "58.1 µs ± 422 ns per loop (mean ± std. dev. of 7 runs, 10000 loops each)\n",
      "91 µs ± 730 ns per loop (mean ± std. dev. of 7 runs, 10000 loops each)\n"
     ]
    }
   ],
   "source": [
    "%timeit a = ellipso.face_df['area']._take(idx)\n",
    "\n",
    "%timeit a = ellipso.upcast_face(\"area\")"
   ]
  },
  {
   "cell_type": "code",
   "execution_count": 1,
   "metadata": {},
   "outputs": [
    {
     "name": "stdout",
     "output_type": "stream",
     "text": [
      "tyssue version:  0.3.3rc1\n"
     ]
    }
   ],
   "source": [
    "import numpy as np, pandas as pd\n",
    "import ipyvolume as ipv\n",
    "import matplotlib.pyplot as plt\n",
    "%matplotlib inline\n",
    "\n",
    "from tyssue import Epithelium, Monolayer\n",
    "from tyssue import MonolayerGeometry\n",
    "from tyssue import Sheet, SheetGeometry\n",
    "from tyssue.config.geometry import bulk_spec\n",
    "from tyssue.generation import three_faces_sheet\n",
    "from tyssue.generation import extrude\n",
    "from tyssue.draw import sheet_view, highlight_cells\n",
    "\n",
    "from tyssue.topology.bulk_topology import IH_transition, HI_transition\n",
    "\n",
    "from tyssue import Sheet, SheetGeometry, Monolayer, config, MonolayerGeometry\n",
    "from tyssue.solvers.sheet_vertex_solver import Solver\n",
    "from tyssue.draw import sheet_view\n",
    "from tyssue.io import hdf5\n",
    "\n",
    "from tyssue.solvers import QSSolver\n",
    "from tyssue.dynamics import model_factory, effectors\n",
    "\n",
    "from tyssue import collisions\n",
    "from tyssue.collisions.solvers import (solve_sheet_collisions,\n",
    "                                       solve_bulk_collisions)\n",
    "from tyssue import version\n",
    "print('tyssue version: ', version.full_version)\n",
    "\n",
    "from tyssue import config\n",
    "\n",
    "from tyssue import stores\n",
    "\n",
    "\n"
   ]
  },
  {
   "cell_type": "code",
   "execution_count": 2,
   "metadata": {},
   "outputs": [
    {
     "data": {
      "application/vnd.jupyter.widget-view+json": {
       "model_id": "8661385d93b2475ca27f73a25bc8d204",
       "version_major": 2,
       "version_minor": 0
      },
      "text/plain": [
       "VBox(children=(Figure(camera=PerspectiveCamera(fov=46.0, position=(0.0, 0.0, 2.0), quaternion=(0.0, 0.0, 0.0, …"
      ]
     },
     "metadata": {},
     "output_type": "display_data"
    }
   ],
   "source": [
    "draw_spec = {'face': {'visible': True}}\n",
    "\n",
    "sheet = Sheet.planar_sheet_3d('sheet', 5, 5, 1, 1)\n",
    "sheet.sanitize(trim_borders=True)\n",
    "SheetGeometry.center(sheet)\n",
    "datasets = extrude(sheet.datasets, method='translation')\n",
    "\n",
    "eptm = Monolayer('20faces_3D', datasets, bulk_spec())\n",
    "MonolayerGeometry.update_all(eptm)\n",
    "ipv.clear()\n",
    "\n",
    "sheet_view(\n",
    "    eptm, mode='3D',\n",
    "    face={\"visible\": True,\n",
    "          \"color\": eptm.face_df.area}\n",
    ")\n",
    "\n",
    "ipv.squarelim()\n",
    "ipv.show()"
   ]
  },
  {
   "cell_type": "code",
   "execution_count": 3,
   "metadata": {},
   "outputs": [],
   "source": [
    "from tyssue.draw.plt_draw import plot_forces\n",
    "from tyssue.solvers import QSSolver\n",
    "\n",
    "geom = MonolayerGeometry\n",
    "i = 0\n",
    "\n",
    "class Compression(effectors.AbstractEffector):\n",
    "\n",
    "    label = \"Compression\"\n",
    "    element = \"vert\"  # cell, face, edge or vert\n",
    "    specs = {\n",
    "        \"vert\": {\n",
    "            \"compression\": 0\n",
    "        },\n",
    "        \"settings\":{\n",
    "            \"compression_axis\":\"x\"\n",
    "        }\n",
    "    }\n",
    "\n",
    "    @staticmethod\n",
    "    def energy(eptm):\n",
    "        ax = eptm.settings.get(\"compression_axis\", \"x\")\n",
    "        return eptm.vert_df.eval(f\"0.5 * compression * {ax}**2\")\n",
    "        \n",
    "    @staticmethod\n",
    "    def gradient(eptm):\n",
    "        ax = eptm.settings.get(\"compression_axis\", \"x\")\n",
    "        grad = pd.DataFrame(\n",
    "            np.zeros((eptm.Nv, 3)),\n",
    "            index=eptm.vert_df.index,\n",
    "            columns=[\"gx\", \"gy\", \"gz\"])\n",
    "        grad['gx'] = eptm.vert_df.eval(f\"compression * {ax}\")\n",
    "        return grad, None\n",
    "        \n",
    "\n",
    "model = model_factory([\n",
    "    Compression,\n",
    "    effectors.SurfaceTension,\n",
    "    effectors.CellAreaElasticity,\n",
    "    effectors.CellVolumeElasticity\n",
    "    ],effectors.CellVolumeElasticity)\n",
    "\n",
    "dyn_specs = {\n",
    "    \"vert\": {\n",
    "        \"compression\": 0., #1e-3,\n",
    "    },\n",
    "    \"face\": {\n",
    "        \"surface_tension\": 1e-3,\n",
    "    },\n",
    "    \"edge\": {\n",
    "        \"ux\": 0,\n",
    "        \"uy\": 0,\n",
    "        \"uz\": 0,\n",
    "        \"line_tension\": 0.01,\n",
    "    },\n",
    "    \"cell\": {\n",
    "        \"prefered_vol\" : eptm.cell_df.vol.mean(),\n",
    "        \"vol_elasticity\" : 1,\n",
    "        \"prefered_area\" : eptm.cell_df.area.mean(),\n",
    "        \"area_elasticity\" : 1,\n",
    "    }\n",
    "}\n",
    "eptm.update_specs(dyn_specs)\n",
    "eptm.face_df.loc[eptm.apical_faces, \"surface_tension\"] = 1e-2\n",
    "eptm.face_df.loc[eptm.basal_faces, \"surface_tension\"] = 1e-2\n",
    "\n",
    "eptm.reset_topo()\n",
    "U = model.compute_gradient(eptm)\n",
    "\n",
    "\n"
   ]
  },
  {
   "cell_type": "code",
   "execution_count": 4,
   "metadata": {
    "scrolled": false
   },
   "outputs": [
    {
     "data": {
      "image/png": "[encoded data removed]",
      "text/plain": [
       "<Figure size 720x720 with 1 Axes>"
      ]
     },
     "metadata": {
      "needs_background": "light"
     },
     "output_type": "display_data"
    }
   ],
   "source": [
    "fig, ax = plot_forces(eptm, geom, model, coords=list(\"xy\"), scaling=1)\n",
    "fig.set_size_inches(10, 10)"
   ]
  },
  {
   "cell_type": "code",
   "execution_count": 5,
   "metadata": {},
   "outputs": [
    {
     "name": "stdout",
     "output_type": "stream",
     "text": [
      "Automatic pdb calling has been turned ON\n"
     ]
    }
   ],
   "source": [
    "%pdb"
   ]
  },
  {
   "cell_type": "code",
   "execution_count": 6,
   "metadata": {
    "scrolled": true
   },
   "outputs": [],
   "source": [
    "eptm.settings['threshold_length'] = 1e-2\n",
    "solver = QSSolver(with_collisions=False, with_t1=True, with_t3=True)\n",
    "res = solver.find_energy_min(eptm, geom, model)"
   ]
  },
  {
   "cell_type": "code",
   "execution_count": 7,
   "metadata": {},
   "outputs": [],
   "source": [
    "eptm.settings['threshold_length'] = 1e-2\n",
    "eptm.settings['shyness'] = 1.2e-2\n",
    "solver = QSSolver(with_collisions=True, with_t1=False, with_t3=False)\n",
    "res = solver.find_energy_min(eptm, geom, model)"
   ]
  },
  {
   "cell_type": "code",
   "execution_count": 8,
   "metadata": {},
   "outputs": [],
   "source": [
    "eptm_bck = eptm.copy()"
   ]
  },
  {
   "cell_type": "code",
   "execution_count": 9,
   "metadata": {},
   "outputs": [],
   "source": [
    "eptm = eptm_bck.copy()\n",
    "eptm.vert_df.loc[eptm.apical_verts, \"compression\"] = 0.2\n",
    "eptm.vert_df.loc[eptm.basal_verts, \"compression\"] = 0.01\n"
   ]
  },
  {
   "cell_type": "code",
   "execution_count": 10,
   "metadata": {},
   "outputs": [
    {
     "data": {
      "text/plain": [
       "True"
      ]
     },
     "execution_count": 10,
     "metadata": {},
     "output_type": "execute_result"
    }
   ],
   "source": [
    "np.all(np.isfinite(eptm.vert_df[eptm.coords]))"
   ]
  },
  {
   "cell_type": "code",
   "execution_count": 11,
   "metadata": {
    "scrolled": true
   },
   "outputs": [
    {
     "ename": "ValueError",
     "evalue": "Plane Not Found",
     "output_type": "error",
     "traceback": [
      "\u001b[0;31m---------------------------------------------------------------------------\u001b[0m",
      "\u001b[0;31mValueError\u001b[0m                                Traceback (most recent call last)",
      "\u001b[0;32m<ipython-input-11-0e633efef611>\u001b[0m in \u001b[0;36m<module>\u001b[0;34m\u001b[0m\n\u001b[1;32m      3\u001b[0m \u001b[0;34m\u001b[0m\u001b[0m\n\u001b[1;32m      4\u001b[0m \u001b[0msolver\u001b[0m \u001b[0;34m=\u001b[0m \u001b[0mQSSolver\u001b[0m\u001b[0;34m(\u001b[0m\u001b[0mwith_collisions\u001b[0m\u001b[0;34m=\u001b[0m\u001b[0;32mTrue\u001b[0m\u001b[0;34m,\u001b[0m \u001b[0mwith_t1\u001b[0m\u001b[0;34m=\u001b[0m\u001b[0;32mFalse\u001b[0m\u001b[0;34m,\u001b[0m \u001b[0mwith_t3\u001b[0m\u001b[0;34m=\u001b[0m\u001b[0;32mFalse\u001b[0m\u001b[0;34m)\u001b[0m\u001b[0;34m\u001b[0m\u001b[0;34m\u001b[0m\u001b[0m\n\u001b[0;32m----> 5\u001b[0;31m \u001b[0mres\u001b[0m \u001b[0;34m=\u001b[0m \u001b[0msolver\u001b[0m\u001b[0;34m.\u001b[0m\u001b[0mfind_energy_min\u001b[0m\u001b[0;34m(\u001b[0m\u001b[0meptm\u001b[0m\u001b[0;34m,\u001b[0m \u001b[0mgeom\u001b[0m\u001b[0;34m,\u001b[0m \u001b[0mmodel\u001b[0m\u001b[0;34m)\u001b[0m\u001b[0;34m\u001b[0m\u001b[0;34m\u001b[0m\u001b[0m\n\u001b[0m\u001b[1;32m      6\u001b[0m \u001b[0mprint\u001b[0m\u001b[0;34m(\u001b[0m\u001b[0mres\u001b[0m\u001b[0;34m[\u001b[0m\u001b[0;34m'message'\u001b[0m\u001b[0;34m]\u001b[0m\u001b[0;34m)\u001b[0m\u001b[0;34m\u001b[0m\u001b[0;34m\u001b[0m\u001b[0m\n",
      "\u001b[0;32m~/miniconda3/lib/python3.7/site-packages/tyssue-0.3.3rc1-py3.7-linux-x86_64.egg/tyssue/solvers/quasistatic.py\u001b[0m in \u001b[0;36mfind_energy_min\u001b[0;34m(self, eptm, geom, model, **minimize_kw)\u001b[0m\n\u001b[1;32m     85\u001b[0m         \u001b[0msettings\u001b[0m\u001b[0;34m.\u001b[0m\u001b[0mupdate\u001b[0m\u001b[0;34m(\u001b[0m\u001b[0;34m**\u001b[0m\u001b[0mminimize_kw\u001b[0m\u001b[0;34m)\u001b[0m\u001b[0;34m\u001b[0m\u001b[0;34m\u001b[0m\u001b[0m\n\u001b[1;32m     86\u001b[0m \u001b[0;34m\u001b[0m\u001b[0m\n\u001b[0;32m---> 87\u001b[0;31m         \u001b[0mres\u001b[0m \u001b[0;34m=\u001b[0m \u001b[0mself\u001b[0m\u001b[0;34m.\u001b[0m\u001b[0m_minimize\u001b[0m\u001b[0;34m(\u001b[0m\u001b[0meptm\u001b[0m\u001b[0;34m,\u001b[0m \u001b[0mgeom\u001b[0m\u001b[0;34m,\u001b[0m \u001b[0mmodel\u001b[0m\u001b[0;34m,\u001b[0m \u001b[0;34m**\u001b[0m\u001b[0msettings\u001b[0m\u001b[0;34m)\u001b[0m\u001b[0;34m\u001b[0m\u001b[0;34m\u001b[0m\u001b[0m\n\u001b[0m\u001b[1;32m     88\u001b[0m         \u001b[0mlog\u001b[0m\u001b[0;34m.\u001b[0m\u001b[0minfo\u001b[0m\u001b[0;34m(\u001b[0m\u001b[0;34m\"final number of vertices: %i\"\u001b[0m\u001b[0;34m,\u001b[0m \u001b[0meptm\u001b[0m\u001b[0;34m.\u001b[0m\u001b[0mNv\u001b[0m\u001b[0;34m)\u001b[0m\u001b[0;34m\u001b[0m\u001b[0;34m\u001b[0m\u001b[0m\n\u001b[1;32m     89\u001b[0m \u001b[0;34m\u001b[0m\u001b[0m\n",
      "\u001b[0;32m~/miniconda3/lib/python3.7/site-packages/tyssue-0.3.3rc1-py3.7-linux-x86_64.egg/tyssue/solvers/quasistatic.py\u001b[0m in \u001b[0;36m_minimize\u001b[0;34m(self, eptm, geom, model, **kwargs)\u001b[0m\n\u001b[1;32m    101\u001b[0m                     \u001b[0margs\u001b[0m\u001b[0;34m=\u001b[0m\u001b[0;34m(\u001b[0m\u001b[0meptm\u001b[0m\u001b[0;34m,\u001b[0m \u001b[0mgeom\u001b[0m\u001b[0;34m,\u001b[0m \u001b[0mmodel\u001b[0m\u001b[0;34m)\u001b[0m\u001b[0;34m,\u001b[0m\u001b[0;34m\u001b[0m\u001b[0;34m\u001b[0m\u001b[0m\n\u001b[1;32m    102\u001b[0m                     \u001b[0mjac\u001b[0m\u001b[0;34m=\u001b[0m\u001b[0mself\u001b[0m\u001b[0;34m.\u001b[0m\u001b[0m_opt_grad\u001b[0m\u001b[0;34m,\u001b[0m\u001b[0;34m\u001b[0m\u001b[0;34m\u001b[0m\u001b[0m\n\u001b[0;32m--> 103\u001b[0;31m                     \u001b[0;34m**\u001b[0m\u001b[0mkwargs\u001b[0m\u001b[0;34m\u001b[0m\u001b[0;34m\u001b[0m\u001b[0m\n\u001b[0m\u001b[1;32m    104\u001b[0m                 )\n\u001b[1;32m    105\u001b[0m                 \u001b[0;32mreturn\u001b[0m \u001b[0mself\u001b[0m\u001b[0;34m.\u001b[0m\u001b[0mres\u001b[0m\u001b[0;34m\u001b[0m\u001b[0;34m\u001b[0m\u001b[0m\n",
      "\u001b[0;32m~/miniconda3/lib/python3.7/site-packages/scipy/optimize/_minimize.py\u001b[0m in \u001b[0;36mminimize\u001b[0;34m(fun, x0, args, method, jac, hess, hessp, bounds, constraints, tol, callback, options)\u001b[0m\n\u001b[1;32m    601\u001b[0m     \u001b[0;32melif\u001b[0m \u001b[0mmeth\u001b[0m \u001b[0;34m==\u001b[0m \u001b[0;34m'l-bfgs-b'\u001b[0m\u001b[0;34m:\u001b[0m\u001b[0;34m\u001b[0m\u001b[0;34m\u001b[0m\u001b[0m\n\u001b[1;32m    602\u001b[0m         return _minimize_lbfgsb(fun, x0, args, jac, bounds,\n\u001b[0;32m--> 603\u001b[0;31m                                 callback=callback, **options)\n\u001b[0m\u001b[1;32m    604\u001b[0m     \u001b[0;32melif\u001b[0m \u001b[0mmeth\u001b[0m \u001b[0;34m==\u001b[0m \u001b[0;34m'tnc'\u001b[0m\u001b[0;34m:\u001b[0m\u001b[0;34m\u001b[0m\u001b[0;34m\u001b[0m\u001b[0m\n\u001b[1;32m    605\u001b[0m         return _minimize_tnc(fun, x0, args, jac, bounds, callback=callback,\n",
      "\u001b[0;32m~/miniconda3/lib/python3.7/site-packages/scipy/optimize/lbfgsb.py\u001b[0m in \u001b[0;36m_minimize_lbfgsb\u001b[0;34m(fun, x0, args, jac, bounds, disp, maxcor, ftol, gtol, eps, maxfun, maxiter, iprint, callback, maxls, **unknown_options)\u001b[0m\n\u001b[1;32m    333\u001b[0m             \u001b[0;31m# until the completion of the current minimization iteration.\u001b[0m\u001b[0;34m\u001b[0m\u001b[0;34m\u001b[0m\u001b[0;34m\u001b[0m\u001b[0m\n\u001b[1;32m    334\u001b[0m             \u001b[0;31m# Overwrite f and g:\u001b[0m\u001b[0;34m\u001b[0m\u001b[0;34m\u001b[0m\u001b[0;34m\u001b[0m\u001b[0m\n\u001b[0;32m--> 335\u001b[0;31m             \u001b[0mf\u001b[0m\u001b[0;34m,\u001b[0m \u001b[0mg\u001b[0m \u001b[0;34m=\u001b[0m \u001b[0mfunc_and_grad\u001b[0m\u001b[0;34m(\u001b[0m\u001b[0mx\u001b[0m\u001b[0;34m)\u001b[0m\u001b[0;34m\u001b[0m\u001b[0;34m\u001b[0m\u001b[0m\n\u001b[0m\u001b[1;32m    336\u001b[0m         \u001b[0;32melif\u001b[0m \u001b[0mtask_str\u001b[0m\u001b[0;34m.\u001b[0m\u001b[0mstartswith\u001b[0m\u001b[0;34m(\u001b[0m\u001b[0;34mb'NEW_X'\u001b[0m\u001b[0;34m)\u001b[0m\u001b[0;34m:\u001b[0m\u001b[0;34m\u001b[0m\u001b[0;34m\u001b[0m\u001b[0m\n\u001b[1;32m    337\u001b[0m             \u001b[0;31m# new iteration\u001b[0m\u001b[0;34m\u001b[0m\u001b[0;34m\u001b[0m\u001b[0;34m\u001b[0m\u001b[0m\n",
      "\u001b[0;32m~/miniconda3/lib/python3.7/site-packages/scipy/optimize/lbfgsb.py\u001b[0m in \u001b[0;36mfunc_and_grad\u001b[0;34m(x)\u001b[0m\n\u001b[1;32m    283\u001b[0m     \u001b[0;32melse\u001b[0m\u001b[0;34m:\u001b[0m\u001b[0;34m\u001b[0m\u001b[0;34m\u001b[0m\u001b[0m\n\u001b[1;32m    284\u001b[0m         \u001b[0;32mdef\u001b[0m \u001b[0mfunc_and_grad\u001b[0m\u001b[0;34m(\u001b[0m\u001b[0mx\u001b[0m\u001b[0;34m)\u001b[0m\u001b[0;34m:\u001b[0m\u001b[0;34m\u001b[0m\u001b[0;34m\u001b[0m\u001b[0m\n\u001b[0;32m--> 285\u001b[0;31m             \u001b[0mf\u001b[0m \u001b[0;34m=\u001b[0m \u001b[0mfun\u001b[0m\u001b[0;34m(\u001b[0m\u001b[0mx\u001b[0m\u001b[0;34m,\u001b[0m \u001b[0;34m*\u001b[0m\u001b[0margs\u001b[0m\u001b[0;34m)\u001b[0m\u001b[0;34m\u001b[0m\u001b[0;34m\u001b[0m\u001b[0m\n\u001b[0m\u001b[1;32m    286\u001b[0m             \u001b[0mg\u001b[0m \u001b[0;34m=\u001b[0m \u001b[0mjac\u001b[0m\u001b[0;34m(\u001b[0m\u001b[0mx\u001b[0m\u001b[0;34m,\u001b[0m \u001b[0;34m*\u001b[0m\u001b[0margs\u001b[0m\u001b[0;34m)\u001b[0m\u001b[0;34m\u001b[0m\u001b[0;34m\u001b[0m\u001b[0m\n\u001b[1;32m    287\u001b[0m             \u001b[0;32mreturn\u001b[0m \u001b[0mf\u001b[0m\u001b[0;34m,\u001b[0m \u001b[0mg\u001b[0m\u001b[0;34m\u001b[0m\u001b[0;34m\u001b[0m\u001b[0m\n",
      "\u001b[0;32m~/miniconda3/lib/python3.7/site-packages/scipy/optimize/optimize.py\u001b[0m in \u001b[0;36mfunction_wrapper\u001b[0;34m(*wrapper_args)\u001b[0m\n\u001b[1;32m    291\u001b[0m     \u001b[0;32mdef\u001b[0m \u001b[0mfunction_wrapper\u001b[0m\u001b[0;34m(\u001b[0m\u001b[0;34m*\u001b[0m\u001b[0mwrapper_args\u001b[0m\u001b[0;34m)\u001b[0m\u001b[0;34m:\u001b[0m\u001b[0;34m\u001b[0m\u001b[0;34m\u001b[0m\u001b[0m\n\u001b[1;32m    292\u001b[0m         \u001b[0mncalls\u001b[0m\u001b[0;34m[\u001b[0m\u001b[0;36m0\u001b[0m\u001b[0;34m]\u001b[0m \u001b[0;34m+=\u001b[0m \u001b[0;36m1\u001b[0m\u001b[0;34m\u001b[0m\u001b[0;34m\u001b[0m\u001b[0m\n\u001b[0;32m--> 293\u001b[0;31m         \u001b[0;32mreturn\u001b[0m \u001b[0mfunction\u001b[0m\u001b[0;34m(\u001b[0m\u001b[0;34m*\u001b[0m\u001b[0;34m(\u001b[0m\u001b[0mwrapper_args\u001b[0m \u001b[0;34m+\u001b[0m \u001b[0margs\u001b[0m\u001b[0;34m)\u001b[0m\u001b[0;34m)\u001b[0m\u001b[0;34m\u001b[0m\u001b[0;34m\u001b[0m\u001b[0m\n\u001b[0m\u001b[1;32m    294\u001b[0m \u001b[0;34m\u001b[0m\u001b[0m\n\u001b[1;32m    295\u001b[0m     \u001b[0;32mreturn\u001b[0m \u001b[0mncalls\u001b[0m\u001b[0;34m,\u001b[0m \u001b[0mfunction_wrapper\u001b[0m\u001b[0;34m\u001b[0m\u001b[0;34m\u001b[0m\u001b[0m\n",
      "\u001b[0;32m~/miniconda3/lib/python3.7/site-packages/tyssue-0.3.3rc1-py3.7-linux-x86_64.egg/tyssue/solvers/quasistatic.py\u001b[0m in \u001b[0;36m_opt_energy\u001b[0;34m(self, pos, eptm, geom, model)\u001b[0m\n\u001b[1;32m    113\u001b[0m             \u001b[0meptm\u001b[0m\u001b[0;34m.\u001b[0m\u001b[0mtopo_changed\u001b[0m \u001b[0;34m=\u001b[0m \u001b[0;32mFalse\u001b[0m\u001b[0;34m\u001b[0m\u001b[0;34m\u001b[0m\u001b[0m\n\u001b[1;32m    114\u001b[0m             \u001b[0;32mraise\u001b[0m \u001b[0mTopologyChangeError\u001b[0m\u001b[0;34m(\u001b[0m\u001b[0;34m\"Topology changed before energy evaluation\"\u001b[0m\u001b[0;34m)\u001b[0m\u001b[0;34m\u001b[0m\u001b[0;34m\u001b[0m\u001b[0m\n\u001b[0;32m--> 115\u001b[0;31m         \u001b[0mself\u001b[0m\u001b[0;34m.\u001b[0m\u001b[0mset_pos\u001b[0m\u001b[0;34m(\u001b[0m\u001b[0meptm\u001b[0m\u001b[0;34m,\u001b[0m \u001b[0mgeom\u001b[0m\u001b[0;34m,\u001b[0m \u001b[0mpos\u001b[0m\u001b[0;34m)\u001b[0m\u001b[0;34m\u001b[0m\u001b[0;34m\u001b[0m\u001b[0m\n\u001b[0m\u001b[1;32m    116\u001b[0m         \u001b[0;32mreturn\u001b[0m \u001b[0mmodel\u001b[0m\u001b[0;34m.\u001b[0m\u001b[0mcompute_energy\u001b[0m\u001b[0;34m(\u001b[0m\u001b[0meptm\u001b[0m\u001b[0;34m)\u001b[0m\u001b[0;34m\u001b[0m\u001b[0;34m\u001b[0m\u001b[0m\n\u001b[1;32m    117\u001b[0m \u001b[0;34m\u001b[0m\u001b[0m\n",
      "\u001b[0;32m~/miniconda3/lib/python3.7/site-packages/tyssue-0.3.3rc1-py3.7-linux-x86_64.egg/tyssue/collisions/solvers.py\u001b[0m in \u001b[0;36mwith_collision_correction\u001b[0;34m(*args, **kwargs)\u001b[0m\n\u001b[1;32m     32\u001b[0m             \u001b[0mchange\u001b[0m \u001b[0;34m=\u001b[0m \u001b[0msolve_sheet_collisions\u001b[0m\u001b[0;34m(\u001b[0m\u001b[0meptm\u001b[0m\u001b[0;34m,\u001b[0m \u001b[0meptm\u001b[0m\u001b[0;34m.\u001b[0m\u001b[0mposition_buffer\u001b[0m\u001b[0;34m)\u001b[0m\u001b[0;34m\u001b[0m\u001b[0;34m\u001b[0m\u001b[0m\n\u001b[1;32m     33\u001b[0m         \u001b[0;32melse\u001b[0m\u001b[0;34m:\u001b[0m\u001b[0;34m\u001b[0m\u001b[0;34m\u001b[0m\u001b[0m\n\u001b[0;32m---> 34\u001b[0;31m             \u001b[0mchange\u001b[0m \u001b[0;34m=\u001b[0m \u001b[0msolve_bulk_collisions\u001b[0m\u001b[0;34m(\u001b[0m\u001b[0meptm\u001b[0m\u001b[0;34m,\u001b[0m \u001b[0meptm\u001b[0m\u001b[0;34m.\u001b[0m\u001b[0mposition_buffer\u001b[0m\u001b[0;34m)\u001b[0m\u001b[0;34m\u001b[0m\u001b[0;34m\u001b[0m\u001b[0m\n\u001b[0m\u001b[1;32m     35\u001b[0m         \u001b[0;32mif\u001b[0m \u001b[0mchange\u001b[0m\u001b[0;34m:\u001b[0m\u001b[0;34m\u001b[0m\u001b[0;34m\u001b[0m\u001b[0m\n\u001b[1;32m     36\u001b[0m             \u001b[0mprint\u001b[0m\u001b[0;34m(\u001b[0m\u001b[0;34m\"collision avoided\"\u001b[0m\u001b[0;34m)\u001b[0m\u001b[0;34m\u001b[0m\u001b[0;34m\u001b[0m\u001b[0m\n",
      "\u001b[0;32m~/miniconda3/lib/python3.7/site-packages/tyssue-0.3.3rc1-py3.7-linux-x86_64.egg/tyssue/collisions/solvers.py\u001b[0m in \u001b[0;36msolve_bulk_collisions\u001b[0;34m(eptm, position_buffer)\u001b[0m\n\u001b[1;32m     65\u001b[0m         \u001b[0mcolumns\u001b[0m\u001b[0;34m=\u001b[0m\u001b[0msub_sheet\u001b[0m\u001b[0;34m.\u001b[0m\u001b[0mcoords\u001b[0m\u001b[0;34m,\u001b[0m\u001b[0;34m\u001b[0m\u001b[0;34m\u001b[0m\u001b[0m\n\u001b[1;32m     66\u001b[0m     )\n\u001b[0;32m---> 67\u001b[0;31m     \u001b[0mchanged\u001b[0m \u001b[0;34m=\u001b[0m \u001b[0msolve_sheet_collisions\u001b[0m\u001b[0;34m(\u001b[0m\u001b[0msub_sheet\u001b[0m\u001b[0;34m,\u001b[0m \u001b[0msub_buffer\u001b[0m\u001b[0;34m)\u001b[0m\u001b[0;34m\u001b[0m\u001b[0;34m\u001b[0m\u001b[0m\n\u001b[0m\u001b[1;32m     68\u001b[0m     \u001b[0;32mif\u001b[0m \u001b[0mchanged\u001b[0m\u001b[0;34m:\u001b[0m\u001b[0;34m\u001b[0m\u001b[0;34m\u001b[0m\u001b[0m\n\u001b[1;32m     69\u001b[0m         \u001b[0meptm\u001b[0m\u001b[0;34m.\u001b[0m\u001b[0mvert_df\u001b[0m\u001b[0;34m.\u001b[0m\u001b[0mloc\u001b[0m\u001b[0;34m[\u001b[0m\u001b[0mpos_idx\u001b[0m\u001b[0;34m,\u001b[0m \u001b[0meptm\u001b[0m\u001b[0;34m.\u001b[0m\u001b[0mcoords\u001b[0m\u001b[0;34m]\u001b[0m \u001b[0;34m=\u001b[0m \u001b[0msub_sheet\u001b[0m\u001b[0;34m.\u001b[0m\u001b[0mvert_df\u001b[0m\u001b[0;34m[\u001b[0m\u001b[0meptm\u001b[0m\u001b[0;34m.\u001b[0m\u001b[0mcoords\u001b[0m\u001b[0;34m]\u001b[0m\u001b[0;34m.\u001b[0m\u001b[0mvalues\u001b[0m\u001b[0;34m\u001b[0m\u001b[0;34m\u001b[0m\u001b[0m\n",
      "\u001b[0;32m~/miniconda3/lib/python3.7/site-packages/tyssue-0.3.3rc1-py3.7-linux-x86_64.egg/tyssue/collisions/solvers.py\u001b[0m in \u001b[0;36msolve_sheet_collisions\u001b[0;34m(sheet, position_buffer)\u001b[0m\n\u001b[1;32m     92\u001b[0m         \u001b[0mshyness\u001b[0m \u001b[0;34m=\u001b[0m \u001b[0msheet\u001b[0m\u001b[0;34m.\u001b[0m\u001b[0msettings\u001b[0m\u001b[0;34m.\u001b[0m\u001b[0mget\u001b[0m\u001b[0;34m(\u001b[0m\u001b[0;34m\"shyness\"\u001b[0m\u001b[0;34m,\u001b[0m \u001b[0;36m1e-10\u001b[0m\u001b[0;34m)\u001b[0m\u001b[0;34m\u001b[0m\u001b[0;34m\u001b[0m\u001b[0m\n\u001b[1;32m     93\u001b[0m         \u001b[0mboxes\u001b[0m \u001b[0;34m=\u001b[0m \u001b[0mCollidingBoxes\u001b[0m\u001b[0;34m(\u001b[0m\u001b[0msheet\u001b[0m\u001b[0;34m,\u001b[0m \u001b[0mposition_buffer\u001b[0m\u001b[0;34m,\u001b[0m \u001b[0mintersecting_edges\u001b[0m\u001b[0;34m)\u001b[0m\u001b[0;34m\u001b[0m\u001b[0;34m\u001b[0m\u001b[0m\n\u001b[0;32m---> 94\u001b[0;31m         \u001b[0mchanged\u001b[0m \u001b[0;34m=\u001b[0m \u001b[0mboxes\u001b[0m\u001b[0;34m.\u001b[0m\u001b[0msolve_collisions\u001b[0m\u001b[0;34m(\u001b[0m\u001b[0mshyness\u001b[0m\u001b[0;34m)\u001b[0m\u001b[0;34m\u001b[0m\u001b[0;34m\u001b[0m\u001b[0m\n\u001b[0m\u001b[1;32m     95\u001b[0m         \u001b[0;32mreturn\u001b[0m \u001b[0mchanged\u001b[0m\u001b[0;34m\u001b[0m\u001b[0;34m\u001b[0m\u001b[0m\n\u001b[1;32m     96\u001b[0m     \u001b[0;32mreturn\u001b[0m \u001b[0;32mFalse\u001b[0m\u001b[0;34m\u001b[0m\u001b[0;34m\u001b[0m\u001b[0m\n",
      "\u001b[0;32m~/miniconda3/lib/python3.7/site-packages/tyssue-0.3.3rc1-py3.7-linux-x86_64.egg/tyssue/collisions/solvers.py\u001b[0m in \u001b[0;36msolve_collisions\u001b[0;34m(self, shyness)\u001b[0m\n\u001b[1;32m    182\u001b[0m         \u001b[0mlower_bounds\u001b[0m\u001b[0;34m[\u001b[0m\u001b[0;34m:\u001b[0m\u001b[0;34m]\u001b[0m \u001b[0;34m=\u001b[0m \u001b[0;34m-\u001b[0m\u001b[0mnp\u001b[0m\u001b[0;34m.\u001b[0m\u001b[0minf\u001b[0m\u001b[0;34m\u001b[0m\u001b[0;34m\u001b[0m\u001b[0m\n\u001b[1;32m    183\u001b[0m         \u001b[0mplane_found\u001b[0m \u001b[0;34m=\u001b[0m \u001b[0;32mFalse\u001b[0m\u001b[0;34m\u001b[0m\u001b[0;34m\u001b[0m\u001b[0m\n\u001b[0;32m--> 184\u001b[0;31m         \u001b[0;32mfor\u001b[0m \u001b[0mlower\u001b[0m\u001b[0;34m,\u001b[0m \u001b[0mupper\u001b[0m \u001b[0;32min\u001b[0m \u001b[0mself\u001b[0m\u001b[0;34m.\u001b[0m\u001b[0mget_limits\u001b[0m\u001b[0;34m(\u001b[0m\u001b[0mshyness\u001b[0m\u001b[0;34m)\u001b[0m\u001b[0;34m:\u001b[0m\u001b[0;34m\u001b[0m\u001b[0;34m\u001b[0m\u001b[0m\n\u001b[0m\u001b[1;32m    185\u001b[0m             \u001b[0;32mif\u001b[0m \u001b[0mlower\u001b[0m \u001b[0;32mis\u001b[0m \u001b[0;32mNone\u001b[0m\u001b[0;34m:\u001b[0m\u001b[0;34m\u001b[0m\u001b[0;34m\u001b[0m\u001b[0m\n\u001b[1;32m    186\u001b[0m                 \u001b[0;32mcontinue\u001b[0m\u001b[0;34m\u001b[0m\u001b[0;34m\u001b[0m\u001b[0m\n",
      "\u001b[0;32m~/miniconda3/lib/python3.7/site-packages/tyssue-0.3.3rc1-py3.7-linux-x86_64.egg/tyssue/collisions/solvers.py\u001b[0m in \u001b[0;36mget_limits\u001b[0;34m(self, shyness)\u001b[0m\n\u001b[1;32m    149\u001b[0m         \"\"\"\n\u001b[1;32m    150\u001b[0m         \u001b[0;32mfor\u001b[0m \u001b[0mface_pair\u001b[0m \u001b[0;32min\u001b[0m \u001b[0mself\u001b[0m\u001b[0;34m.\u001b[0m\u001b[0mface_pairs\u001b[0m\u001b[0;34m:\u001b[0m\u001b[0;34m\u001b[0m\u001b[0;34m\u001b[0m\u001b[0m\n\u001b[0;32m--> 151\u001b[0;31m             \u001b[0;32myield\u001b[0m \u001b[0mself\u001b[0m\u001b[0;34m.\u001b[0m\u001b[0m_collision_plane\u001b[0m\u001b[0;34m(\u001b[0m\u001b[0mface_pair\u001b[0m\u001b[0;34m,\u001b[0m \u001b[0mshyness\u001b[0m\u001b[0;34m)\u001b[0m\u001b[0;34m\u001b[0m\u001b[0;34m\u001b[0m\u001b[0m\n\u001b[0m\u001b[1;32m    152\u001b[0m \u001b[0;34m\u001b[0m\u001b[0m\n\u001b[1;32m    153\u001b[0m     \u001b[0;32mdef\u001b[0m \u001b[0msolve_collisions\u001b[0m\u001b[0;34m(\u001b[0m\u001b[0mself\u001b[0m\u001b[0;34m,\u001b[0m \u001b[0mshyness\u001b[0m\u001b[0;34m=\u001b[0m\u001b[0;36m1e-10\u001b[0m\u001b[0;34m)\u001b[0m\u001b[0;34m:\u001b[0m\u001b[0;34m\u001b[0m\u001b[0;34m\u001b[0m\u001b[0m\n",
      "\u001b[0;32m~/miniconda3/lib/python3.7/site-packages/tyssue-0.3.3rc1-py3.7-linux-x86_64.egg/tyssue/collisions/solvers.py\u001b[0m in \u001b[0;36m_collision_plane\u001b[0;34m(self, face_pair, shyness)\u001b[0m\n\u001b[1;32m    262\u001b[0m             ]\n\u001b[1;32m    263\u001b[0m         \u001b[0;32melse\u001b[0m\u001b[0;34m:\u001b[0m\u001b[0;34m\u001b[0m\u001b[0;34m\u001b[0m\u001b[0m\n\u001b[0;32m--> 264\u001b[0;31m             \u001b[0;32mraise\u001b[0m \u001b[0mValueError\u001b[0m\u001b[0;34m(\u001b[0m\u001b[0;34m\"\"\"Plane Not Found\"\"\"\u001b[0m\u001b[0;34m)\u001b[0m\u001b[0;34m\u001b[0m\u001b[0;34m\u001b[0m\u001b[0m\n\u001b[0m\u001b[1;32m    265\u001b[0m             \u001b[0mlog\u001b[0m\u001b[0;34m.\u001b[0m\u001b[0mwarning\u001b[0m\u001b[0;34m(\u001b[0m\u001b[0;34m\"\"\"Plane Not Found\"\"\"\u001b[0m\u001b[0;34m)\u001b[0m\u001b[0;34m\u001b[0m\u001b[0;34m\u001b[0m\u001b[0m\n\u001b[1;32m    266\u001b[0m             \u001b[0mself\u001b[0m\u001b[0;34m.\u001b[0m\u001b[0mplane_not_found\u001b[0m \u001b[0;34m=\u001b[0m \u001b[0;32mTrue\u001b[0m\u001b[0;34m\u001b[0m\u001b[0;34m\u001b[0m\u001b[0m\n",
      "\u001b[0;31mValueError\u001b[0m: Plane Not Found"
     ]
    },
    {
     "name": "stdout",
     "output_type": "stream",
     "text": [
      "> \u001b[0;32m/home/guillaume/miniconda3/lib/python3.7/site-packages/tyssue-0.3.3rc1-py3.7-linux-x86_64.egg/tyssue/collisions/solvers.py\u001b[0m(264)\u001b[0;36m_collision_plane\u001b[0;34m()\u001b[0m\n",
      "\u001b[0;32m    262 \u001b[0;31m            ]\n",
      "\u001b[0m\u001b[0;32m    263 \u001b[0;31m        \u001b[0;32melse\u001b[0m\u001b[0;34m:\u001b[0m\u001b[0;34m\u001b[0m\u001b[0;34m\u001b[0m\u001b[0m\n",
      "\u001b[0m\u001b[0;32m--> 264 \u001b[0;31m            \u001b[0;32mraise\u001b[0m \u001b[0mValueError\u001b[0m\u001b[0;34m(\u001b[0m\u001b[0;34m\"\"\"Plane Not Found\"\"\"\u001b[0m\u001b[0;34m)\u001b[0m\u001b[0;34m\u001b[0m\u001b[0;34m\u001b[0m\u001b[0m\n",
      "\u001b[0m\u001b[0;32m    265 \u001b[0;31m            \u001b[0mlog\u001b[0m\u001b[0;34m.\u001b[0m\u001b[0mwarning\u001b[0m\u001b[0;34m(\u001b[0m\u001b[0;34m\"\"\"Plane Not Found\"\"\"\u001b[0m\u001b[0;34m)\u001b[0m\u001b[0;34m\u001b[0m\u001b[0;34m\u001b[0m\u001b[0m\n",
      "\u001b[0m\u001b[0;32m    266 \u001b[0;31m            \u001b[0mself\u001b[0m\u001b[0;34m.\u001b[0m\u001b[0mplane_not_found\u001b[0m \u001b[0;34m=\u001b[0m \u001b[0;32mTrue\u001b[0m\u001b[0;34m\u001b[0m\u001b[0;34m\u001b[0m\u001b[0m\n",
      "\u001b[0m\n",
      "ipdb> self.face_pairs\n",
      "array([[10,  4],\n",
      "       [ 8,  9],\n",
      "       [ 6,  7],\n",
      "       [ 0,  2],\n",
      "       [ 0,  1],\n",
      "       [ 8, 10],\n",
      "       [ 5,  6],\n",
      "       [ 8,  6],\n",
      "       [ 2,  7],\n",
      "       [ 9,  5],\n",
      "       [ 4,  7]])\n",
      "ipdb> c\n"
     ]
    }
   ],
   "source": [
    "eptm.settings['shyness'] = 2e-1\n",
    "eptm.settings['thershold_length'] = 1e-2\n",
    "\n",
    "solver = QSSolver(with_collisions=True, with_t1=False, with_t3=False)\n",
    "res = solver.find_energy_min(eptm, geom, model)\n",
    "print(res['message'])\n"
   ]
  },
  {
   "cell_type": "code",
   "execution_count": 12,
   "metadata": {},
   "outputs": [],
   "source": [
    "eptmb = eptm.copy()\n",
    "\n",
    "eptmb.vert_df[eptm.coords] = eptm.position_buffer"
   ]
  },
  {
   "cell_type": "code",
   "execution_count": 13,
   "metadata": {},
   "outputs": [],
   "source": [
    "pairs = np.array([[10,  4],\n",
    "       [ 8,  9],\n",
    "       [ 6,  7],\n",
    "       [ 0,  2],\n",
    "       [ 0,  1],\n",
    "       [ 8, 10],\n",
    "       [ 5,  6],\n",
    "       [ 8,  6],\n",
    "       [ 2,  7],\n",
    "       [ 9,  5],\n",
    "       [ 4,  7]]).ravel()"
   ]
  },
  {
   "cell_type": "code",
   "execution_count": 50,
   "metadata": {},
   "outputs": [
    {
     "name": "stdout",
     "output_type": "stream",
     "text": [
      "Automatic pdb calling has been turned ON\n"
     ]
    }
   ],
   "source": [
    "    %pdb"
   ]
  },
  {
   "cell_type": "code",
   "execution_count": 15,
   "metadata": {
    "scrolled": false
   },
   "outputs": [
    {
     "data": {
      "application/vnd.jupyter.widget-view+json": {
       "model_id": "4524506974ea4416a293f447cfc65f9a",
       "version_major": 2,
       "version_minor": 0
      },
      "text/plain": [
       "VBox(children=(Figure(camera=PerspectiveCamera(fov=46.0, position=(0.0, 0.0, 2.0), quaternion=(0.0, 0.0, 0.0, …"
      ]
     },
     "metadata": {},
     "output_type": "display_data"
    }
   ],
   "source": [
    "ipv.clear()\n",
    "\n",
    "eptm.face_df['visible'] = True\n",
    "eptm.face_df.loc[pairs, 'visible'] = True\n",
    "\n",
    "sheet_view(\n",
    "    eptm, mode='3D',\n",
    "    face={\"visible\": True,\n",
    "          \"color\": eptm.face_df.area}\n",
    ")\n",
    "\n",
    "eptm.face_df.loc[pairs, 'visible'] = True\n",
    "\n",
    "sheet_view(\n",
    "    eptmb, mode='3D',\n",
    "    face={\"visible\": False,\n",
    "          \"color\": eptm.face_df.area}\n",
    ")\n",
    "\n",
    "\n",
    "ipv.squarelim()\n",
    "ipv.show()"
   ]
  },
  {
   "cell_type": "code",
   "execution_count": 16,
   "metadata": {
    "scrolled": true
   },
   "outputs": [
    {
     "name": "stderr",
     "output_type": "stream",
     "text": [
      "Edge 369 has adjacent triangular faces can't perform IH transition, aborting\n",
      "Edge 369 has adjacent triangular faces can't perform IH transition, aborting\n",
      "Edge 370 has adjacent triangular faces can't perform IH transition, aborting\n",
      "Edge 370 has adjacent triangular faces can't perform IH transition, aborting\n",
      "Edge 369 has adjacent triangular faces can't perform IH transition, aborting\n",
      "Edge 370 has adjacent triangular faces can't perform IH transition, aborting\n",
      "Edge 371 has adjacent triangular faces can't perform IH transition, aborting\n"
     ]
    },
    {
     "name": "stdout",
     "output_type": "stream",
     "text": [
      "out T1 changed buffer\n",
      "T1\n"
     ]
    },
    {
     "name": "stderr",
     "output_type": "stream",
     "text": [
      "/home/guillaume/miniconda3/envs/py37/lib/python3.7/site-packages/tyssue-0.3.3rc1-py3.7-linux-x86_64.egg/tyssue/topology/bulk_topology.py:416: UserWarning: Invalid topology for a HI transition, aborting\n",
      "  warnings.warn(\"Invalid topology for a HI transition, aborting\")\n",
      "/home/guillaume/miniconda3/envs/py37/lib/python3.7/site-packages/tyssue-0.3.3rc1-py3.7-linux-x86_64.egg/tyssue/topology/bulk_topology.py:416: UserWarning: Invalid topology for a HI transition, aborting\n",
      "  warnings.warn(\"Invalid topology for a HI transition, aborting\")\n",
      "/home/guillaume/miniconda3/envs/py37/lib/python3.7/site-packages/tyssue-0.3.3rc1-py3.7-linux-x86_64.egg/tyssue/topology/bulk_topology.py:416: UserWarning: Invalid topology for a HI transition, aborting\n",
      "  warnings.warn(\"Invalid topology for a HI transition, aborting\")\n",
      "/home/guillaume/miniconda3/envs/py37/lib/python3.7/site-packages/tyssue-0.3.3rc1-py3.7-linux-x86_64.egg/tyssue/topology/bulk_topology.py:416: UserWarning: Invalid topology for a HI transition, aborting\n",
      "  warnings.warn(\"Invalid topology for a HI transition, aborting\")\n",
      "/home/guillaume/miniconda3/envs/py37/lib/python3.7/site-packages/tyssue-0.3.3rc1-py3.7-linux-x86_64.egg/tyssue/topology/bulk_topology.py:416: UserWarning: Invalid topology for a HI transition, aborting\n",
      "  warnings.warn(\"Invalid topology for a HI transition, aborting\")\n",
      "/home/guillaume/miniconda3/envs/py37/lib/python3.7/site-packages/tyssue-0.3.3rc1-py3.7-linux-x86_64.egg/tyssue/topology/bulk_topology.py:416: UserWarning: Invalid topology for a HI transition, aborting\n",
      "  warnings.warn(\"Invalid topology for a HI transition, aborting\")\n",
      "/home/guillaume/miniconda3/envs/py37/lib/python3.7/site-packages/tyssue-0.3.3rc1-py3.7-linux-x86_64.egg/tyssue/topology/bulk_topology.py:416: UserWarning: Invalid topology for a HI transition, aborting\n",
      "  warnings.warn(\"Invalid topology for a HI transition, aborting\")\n",
      "/home/guillaume/miniconda3/envs/py37/lib/python3.7/site-packages/tyssue-0.3.3rc1-py3.7-linux-x86_64.egg/tyssue/topology/bulk_topology.py:416: UserWarning: Invalid topology for a HI transition, aborting\n",
      "  warnings.warn(\"Invalid topology for a HI transition, aborting\")\n",
      "/home/guillaume/miniconda3/envs/py37/lib/python3.7/site-packages/tyssue-0.3.3rc1-py3.7-linux-x86_64.egg/tyssue/topology/bulk_topology.py:416: UserWarning: Invalid topology for a HI transition, aborting\n",
      "  warnings.warn(\"Invalid topology for a HI transition, aborting\")\n",
      "/home/guillaume/miniconda3/envs/py37/lib/python3.7/site-packages/tyssue-0.3.3rc1-py3.7-linux-x86_64.egg/tyssue/topology/bulk_topology.py:416: UserWarning: Invalid topology for a HI transition, aborting\n",
      "  warnings.warn(\"Invalid topology for a HI transition, aborting\")\n",
      "Edge 354 has adjacent triangular faces can't perform IH transition, aborting\n"
     ]
    },
    {
     "name": "stdout",
     "output_type": "stream",
     "text": [
      "out T3 changed buffer\n",
      "T3\n"
     ]
    },
    {
     "name": "stderr",
     "output_type": "stream",
     "text": [
      "Edge 354 has adjacent triangular faces can't perform IH transition, aborting\n",
      "Edge 355 is not a valid junction to perform IH transition, aborting\n",
      "Edge 353 has adjacent triangular faces can't perform IH transition, aborting\n",
      "Edge 353 has adjacent triangular faces can't perform IH transition, aborting\n",
      "Edge 353 has adjacent triangular faces can't perform IH transition, aborting\n",
      "Edge 353 has adjacent triangular faces can't perform IH transition, aborting\n",
      "Edge 355 is not a valid junction to perform IH transition, aborting\n",
      "Edge 354 has adjacent triangular faces can't perform IH transition, aborting\n",
      "Edge 353 has adjacent triangular faces can't perform IH transition, aborting\n",
      "Edge 355 is not a valid junction to perform IH transition, aborting\n"
     ]
    },
    {
     "name": "stdout",
     "output_type": "stream",
     "text": [
      "out T1 changed buffer\n",
      "T1\n"
     ]
    },
    {
     "name": "stderr",
     "output_type": "stream",
     "text": [
      "/home/guillaume/miniconda3/envs/py37/lib/python3.7/site-packages/tyssue-0.3.3rc1-py3.7-linux-x86_64.egg/tyssue/topology/bulk_topology.py:416: UserWarning: Invalid topology for a HI transition, aborting\n",
      "  warnings.warn(\"Invalid topology for a HI transition, aborting\")\n",
      "/home/guillaume/miniconda3/envs/py37/lib/python3.7/site-packages/tyssue-0.3.3rc1-py3.7-linux-x86_64.egg/tyssue/topology/bulk_topology.py:416: UserWarning: Invalid topology for a HI transition, aborting\n",
      "  warnings.warn(\"Invalid topology for a HI transition, aborting\")\n",
      "/home/guillaume/miniconda3/envs/py37/lib/python3.7/site-packages/tyssue-0.3.3rc1-py3.7-linux-x86_64.egg/tyssue/topology/bulk_topology.py:416: UserWarning: Invalid topology for a HI transition, aborting\n",
      "  warnings.warn(\"Invalid topology for a HI transition, aborting\")\n",
      "/home/guillaume/miniconda3/envs/py37/lib/python3.7/site-packages/tyssue-0.3.3rc1-py3.7-linux-x86_64.egg/tyssue/topology/bulk_topology.py:416: UserWarning: Invalid topology for a HI transition, aborting\n",
      "  warnings.warn(\"Invalid topology for a HI transition, aborting\")\n",
      "/home/guillaume/miniconda3/envs/py37/lib/python3.7/site-packages/tyssue-0.3.3rc1-py3.7-linux-x86_64.egg/tyssue/topology/bulk_topology.py:416: UserWarning: Invalid topology for a HI transition, aborting\n",
      "  warnings.warn(\"Invalid topology for a HI transition, aborting\")\n",
      "/home/guillaume/miniconda3/envs/py37/lib/python3.7/site-packages/tyssue-0.3.3rc1-py3.7-linux-x86_64.egg/tyssue/topology/bulk_topology.py:416: UserWarning: Invalid topology for a HI transition, aborting\n",
      "  warnings.warn(\"Invalid topology for a HI transition, aborting\")\n",
      "/home/guillaume/miniconda3/envs/py37/lib/python3.7/site-packages/tyssue-0.3.3rc1-py3.7-linux-x86_64.egg/tyssue/topology/bulk_topology.py:416: UserWarning: Invalid topology for a HI transition, aborting\n",
      "  warnings.warn(\"Invalid topology for a HI transition, aborting\")\n",
      "/home/guillaume/miniconda3/envs/py37/lib/python3.7/site-packages/tyssue-0.3.3rc1-py3.7-linux-x86_64.egg/tyssue/topology/bulk_topology.py:416: UserWarning: Invalid topology for a HI transition, aborting\n",
      "  warnings.warn(\"Invalid topology for a HI transition, aborting\")\n",
      "/home/guillaume/miniconda3/envs/py37/lib/python3.7/site-packages/tyssue-0.3.3rc1-py3.7-linux-x86_64.egg/tyssue/topology/bulk_topology.py:416: UserWarning: Invalid topology for a HI transition, aborting\n",
      "  warnings.warn(\"Invalid topology for a HI transition, aborting\")\n",
      "/home/guillaume/miniconda3/envs/py37/lib/python3.7/site-packages/tyssue-0.3.3rc1-py3.7-linux-x86_64.egg/tyssue/topology/bulk_topology.py:416: UserWarning: Invalid topology for a HI transition, aborting\n",
      "  warnings.warn(\"Invalid topology for a HI transition, aborting\")\n",
      "/home/guillaume/miniconda3/envs/py37/lib/python3.7/site-packages/tyssue-0.3.3rc1-py3.7-linux-x86_64.egg/tyssue/topology/bulk_topology.py:416: UserWarning: Invalid topology for a HI transition, aborting\n",
      "  warnings.warn(\"Invalid topology for a HI transition, aborting\")\n",
      "Edge 354 has adjacent triangular faces can't perform IH transition, aborting\n"
     ]
    },
    {
     "name": "stdout",
     "output_type": "stream",
     "text": [
      "out T3 changed buffer\n",
      "T3\n"
     ]
    },
    {
     "name": "stderr",
     "output_type": "stream",
     "text": [
      "Edge 354 has adjacent triangular faces can't perform IH transition, aborting\n",
      "Edge 355 is not a valid junction to perform IH transition, aborting\n",
      "Edge 354 has adjacent triangular faces can't perform IH transition, aborting\n",
      "Edge 353 has adjacent triangular faces can't perform IH transition, aborting\n",
      "Edge 353 has adjacent triangular faces can't perform IH transition, aborting\n",
      "Edge 353 has adjacent triangular faces can't perform IH transition, aborting\n",
      "Edge 354 has adjacent triangular faces can't perform IH transition, aborting\n",
      "Edge 354 has adjacent triangular faces can't perform IH transition, aborting\n",
      "Edge 353 has adjacent triangular faces can't perform IH transition, aborting\n",
      "Edge 354 has adjacent triangular faces can't perform IH transition, aborting\n",
      "/home/guillaume/miniconda3/envs/py37/lib/python3.7/site-packages/tyssue-0.3.3rc1-py3.7-linux-x86_64.egg/tyssue/topology/bulk_topology.py:416: UserWarning: Invalid topology for a HI transition, aborting\n",
      "  warnings.warn(\"Invalid topology for a HI transition, aborting\")\n"
     ]
    },
    {
     "name": "stdout",
     "output_type": "stream",
     "text": [
      "out T1 changed buffer\n",
      "T1\n"
     ]
    },
    {
     "name": "stderr",
     "output_type": "stream",
     "text": [
      "/home/guillaume/miniconda3/envs/py37/lib/python3.7/site-packages/tyssue-0.3.3rc1-py3.7-linux-x86_64.egg/tyssue/topology/bulk_topology.py:416: UserWarning: Invalid topology for a HI transition, aborting\n",
      "  warnings.warn(\"Invalid topology for a HI transition, aborting\")\n",
      "/home/guillaume/miniconda3/envs/py37/lib/python3.7/site-packages/tyssue-0.3.3rc1-py3.7-linux-x86_64.egg/tyssue/topology/bulk_topology.py:416: UserWarning: Invalid topology for a HI transition, aborting\n",
      "  warnings.warn(\"Invalid topology for a HI transition, aborting\")\n",
      "/home/guillaume/miniconda3/envs/py37/lib/python3.7/site-packages/tyssue-0.3.3rc1-py3.7-linux-x86_64.egg/tyssue/topology/bulk_topology.py:416: UserWarning: Invalid topology for a HI transition, aborting\n",
      "  warnings.warn(\"Invalid topology for a HI transition, aborting\")\n",
      "/home/guillaume/miniconda3/envs/py37/lib/python3.7/site-packages/tyssue-0.3.3rc1-py3.7-linux-x86_64.egg/tyssue/topology/bulk_topology.py:416: UserWarning: Invalid topology for a HI transition, aborting\n",
      "  warnings.warn(\"Invalid topology for a HI transition, aborting\")\n",
      "/home/guillaume/miniconda3/envs/py37/lib/python3.7/site-packages/tyssue-0.3.3rc1-py3.7-linux-x86_64.egg/tyssue/topology/bulk_topology.py:416: UserWarning: Invalid topology for a HI transition, aborting\n",
      "  warnings.warn(\"Invalid topology for a HI transition, aborting\")\n",
      "/home/guillaume/miniconda3/envs/py37/lib/python3.7/site-packages/tyssue-0.3.3rc1-py3.7-linux-x86_64.egg/tyssue/topology/bulk_topology.py:416: UserWarning: Invalid topology for a HI transition, aborting\n",
      "  warnings.warn(\"Invalid topology for a HI transition, aborting\")\n",
      "/home/guillaume/miniconda3/envs/py37/lib/python3.7/site-packages/tyssue-0.3.3rc1-py3.7-linux-x86_64.egg/tyssue/topology/bulk_topology.py:416: UserWarning: Invalid topology for a HI transition, aborting\n",
      "  warnings.warn(\"Invalid topology for a HI transition, aborting\")\n",
      "/home/guillaume/miniconda3/envs/py37/lib/python3.7/site-packages/tyssue-0.3.3rc1-py3.7-linux-x86_64.egg/tyssue/topology/bulk_topology.py:416: UserWarning: Invalid topology for a HI transition, aborting\n",
      "  warnings.warn(\"Invalid topology for a HI transition, aborting\")\n",
      "/home/guillaume/miniconda3/envs/py37/lib/python3.7/site-packages/tyssue-0.3.3rc1-py3.7-linux-x86_64.egg/tyssue/topology/bulk_topology.py:416: UserWarning: Invalid topology for a HI transition, aborting\n",
      "  warnings.warn(\"Invalid topology for a HI transition, aborting\")\n",
      "/home/guillaume/miniconda3/envs/py37/lib/python3.7/site-packages/tyssue-0.3.3rc1-py3.7-linux-x86_64.egg/tyssue/topology/bulk_topology.py:416: UserWarning: Invalid topology for a HI transition, aborting\n",
      "  warnings.warn(\"Invalid topology for a HI transition, aborting\")\n",
      "Edge 355 is not a valid junction to perform IH transition, aborting\n"
     ]
    },
    {
     "name": "stdout",
     "output_type": "stream",
     "text": [
      "out T3 changed buffer\n",
      "T3\n"
     ]
    },
    {
     "name": "stderr",
     "output_type": "stream",
     "text": [
      "Edge 354 has adjacent triangular faces can't perform IH transition, aborting\n",
      "Edge 355 is not a valid junction to perform IH transition, aborting\n",
      "Edge 354 has adjacent triangular faces can't perform IH transition, aborting\n",
      "Edge 353 has adjacent triangular faces can't perform IH transition, aborting\n",
      "Edge 353 has adjacent triangular faces can't perform IH transition, aborting\n",
      "Edge 355 is not a valid junction to perform IH transition, aborting\n",
      "Edge 353 has adjacent triangular faces can't perform IH transition, aborting\n",
      "Edge 353 has adjacent triangular faces can't perform IH transition, aborting\n",
      "Edge 354 has adjacent triangular faces can't perform IH transition, aborting\n",
      "Edge 353 has adjacent triangular faces can't perform IH transition, aborting\n"
     ]
    },
    {
     "name": "stdout",
     "output_type": "stream",
     "text": [
      "out T1 changed buffer\n",
      "T1\n"
     ]
    },
    {
     "name": "stderr",
     "output_type": "stream",
     "text": [
      "/home/guillaume/miniconda3/envs/py37/lib/python3.7/site-packages/tyssue-0.3.3rc1-py3.7-linux-x86_64.egg/tyssue/topology/bulk_topology.py:416: UserWarning: Invalid topology for a HI transition, aborting\n",
      "  warnings.warn(\"Invalid topology for a HI transition, aborting\")\n",
      "/home/guillaume/miniconda3/envs/py37/lib/python3.7/site-packages/tyssue-0.3.3rc1-py3.7-linux-x86_64.egg/tyssue/topology/bulk_topology.py:416: UserWarning: Invalid topology for a HI transition, aborting\n",
      "  warnings.warn(\"Invalid topology for a HI transition, aborting\")\n",
      "/home/guillaume/miniconda3/envs/py37/lib/python3.7/site-packages/tyssue-0.3.3rc1-py3.7-linux-x86_64.egg/tyssue/topology/bulk_topology.py:416: UserWarning: Invalid topology for a HI transition, aborting\n",
      "  warnings.warn(\"Invalid topology for a HI transition, aborting\")\n",
      "/home/guillaume/miniconda3/envs/py37/lib/python3.7/site-packages/tyssue-0.3.3rc1-py3.7-linux-x86_64.egg/tyssue/topology/bulk_topology.py:416: UserWarning: Invalid topology for a HI transition, aborting\n",
      "  warnings.warn(\"Invalid topology for a HI transition, aborting\")\n",
      "/home/guillaume/miniconda3/envs/py37/lib/python3.7/site-packages/tyssue-0.3.3rc1-py3.7-linux-x86_64.egg/tyssue/topology/bulk_topology.py:416: UserWarning: Invalid topology for a HI transition, aborting\n",
      "  warnings.warn(\"Invalid topology for a HI transition, aborting\")\n",
      "/home/guillaume/miniconda3/envs/py37/lib/python3.7/site-packages/tyssue-0.3.3rc1-py3.7-linux-x86_64.egg/tyssue/topology/bulk_topology.py:416: UserWarning: Invalid topology for a HI transition, aborting\n",
      "  warnings.warn(\"Invalid topology for a HI transition, aborting\")\n",
      "/home/guillaume/miniconda3/envs/py37/lib/python3.7/site-packages/tyssue-0.3.3rc1-py3.7-linux-x86_64.egg/tyssue/topology/bulk_topology.py:416: UserWarning: Invalid topology for a HI transition, aborting\n",
      "  warnings.warn(\"Invalid topology for a HI transition, aborting\")\n",
      "/home/guillaume/miniconda3/envs/py37/lib/python3.7/site-packages/tyssue-0.3.3rc1-py3.7-linux-x86_64.egg/tyssue/topology/bulk_topology.py:416: UserWarning: Invalid topology for a HI transition, aborting\n",
      "  warnings.warn(\"Invalid topology for a HI transition, aborting\")\n",
      "/home/guillaume/miniconda3/envs/py37/lib/python3.7/site-packages/tyssue-0.3.3rc1-py3.7-linux-x86_64.egg/tyssue/topology/bulk_topology.py:416: UserWarning: Invalid topology for a HI transition, aborting\n",
      "  warnings.warn(\"Invalid topology for a HI transition, aborting\")\n",
      "/home/guillaume/miniconda3/envs/py37/lib/python3.7/site-packages/tyssue-0.3.3rc1-py3.7-linux-x86_64.egg/tyssue/topology/bulk_topology.py:416: UserWarning: Invalid topology for a HI transition, aborting\n",
      "  warnings.warn(\"Invalid topology for a HI transition, aborting\")\n",
      "/home/guillaume/miniconda3/envs/py37/lib/python3.7/site-packages/tyssue-0.3.3rc1-py3.7-linux-x86_64.egg/tyssue/topology/bulk_topology.py:416: UserWarning: Invalid topology for a HI transition, aborting\n",
      "  warnings.warn(\"Invalid topology for a HI transition, aborting\")\n",
      "Edge 354 has adjacent triangular faces can't perform IH transition, aborting\n"
     ]
    },
    {
     "name": "stdout",
     "output_type": "stream",
     "text": [
      "out T3 changed buffer\n",
      "T3\n"
     ]
    },
    {
     "name": "stderr",
     "output_type": "stream",
     "text": [
      "Edge 355 is not a valid junction to perform IH transition, aborting\n",
      "Edge 353 has adjacent triangular faces can't perform IH transition, aborting\n",
      "Edge 355 is not a valid junction to perform IH transition, aborting\n",
      "Edge 354 has adjacent triangular faces can't perform IH transition, aborting\n",
      "Edge 355 is not a valid junction to perform IH transition, aborting\n",
      "Edge 353 has adjacent triangular faces can't perform IH transition, aborting\n",
      "Edge 355 is not a valid junction to perform IH transition, aborting\n",
      "Edge 354 has adjacent triangular faces can't perform IH transition, aborting\n",
      "Edge 354 has adjacent triangular faces can't perform IH transition, aborting\n",
      "Edge 353 has adjacent triangular faces can't perform IH transition, aborting\n"
     ]
    },
    {
     "name": "stdout",
     "output_type": "stream",
     "text": [
      "out T1 changed buffer\n",
      "T1\n"
     ]
    },
    {
     "name": "stderr",
     "output_type": "stream",
     "text": [
      "/home/guillaume/miniconda3/envs/py37/lib/python3.7/site-packages/tyssue-0.3.3rc1-py3.7-linux-x86_64.egg/tyssue/topology/bulk_topology.py:416: UserWarning: Invalid topology for a HI transition, aborting\n",
      "  warnings.warn(\"Invalid topology for a HI transition, aborting\")\n",
      "/home/guillaume/miniconda3/envs/py37/lib/python3.7/site-packages/tyssue-0.3.3rc1-py3.7-linux-x86_64.egg/tyssue/topology/bulk_topology.py:416: UserWarning: Invalid topology for a HI transition, aborting\n",
      "  warnings.warn(\"Invalid topology for a HI transition, aborting\")\n",
      "/home/guillaume/miniconda3/envs/py37/lib/python3.7/site-packages/tyssue-0.3.3rc1-py3.7-linux-x86_64.egg/tyssue/topology/bulk_topology.py:416: UserWarning: Invalid topology for a HI transition, aborting\n",
      "  warnings.warn(\"Invalid topology for a HI transition, aborting\")\n",
      "/home/guillaume/miniconda3/envs/py37/lib/python3.7/site-packages/tyssue-0.3.3rc1-py3.7-linux-x86_64.egg/tyssue/topology/bulk_topology.py:416: UserWarning: Invalid topology for a HI transition, aborting\n",
      "  warnings.warn(\"Invalid topology for a HI transition, aborting\")\n",
      "/home/guillaume/miniconda3/envs/py37/lib/python3.7/site-packages/tyssue-0.3.3rc1-py3.7-linux-x86_64.egg/tyssue/topology/bulk_topology.py:416: UserWarning: Invalid topology for a HI transition, aborting\n",
      "  warnings.warn(\"Invalid topology for a HI transition, aborting\")\n",
      "/home/guillaume/miniconda3/envs/py37/lib/python3.7/site-packages/tyssue-0.3.3rc1-py3.7-linux-x86_64.egg/tyssue/topology/bulk_topology.py:416: UserWarning: Invalid topology for a HI transition, aborting\n",
      "  warnings.warn(\"Invalid topology for a HI transition, aborting\")\n",
      "/home/guillaume/miniconda3/envs/py37/lib/python3.7/site-packages/tyssue-0.3.3rc1-py3.7-linux-x86_64.egg/tyssue/topology/bulk_topology.py:416: UserWarning: Invalid topology for a HI transition, aborting\n",
      "  warnings.warn(\"Invalid topology for a HI transition, aborting\")\n",
      "/home/guillaume/miniconda3/envs/py37/lib/python3.7/site-packages/tyssue-0.3.3rc1-py3.7-linux-x86_64.egg/tyssue/topology/bulk_topology.py:416: UserWarning: Invalid topology for a HI transition, aborting\n",
      "  warnings.warn(\"Invalid topology for a HI transition, aborting\")\n",
      "/home/guillaume/miniconda3/envs/py37/lib/python3.7/site-packages/tyssue-0.3.3rc1-py3.7-linux-x86_64.egg/tyssue/topology/bulk_topology.py:416: UserWarning: Invalid topology for a HI transition, aborting\n",
      "  warnings.warn(\"Invalid topology for a HI transition, aborting\")\n",
      "/home/guillaume/miniconda3/envs/py37/lib/python3.7/site-packages/tyssue-0.3.3rc1-py3.7-linux-x86_64.egg/tyssue/topology/bulk_topology.py:416: UserWarning: Invalid topology for a HI transition, aborting\n",
      "  warnings.warn(\"Invalid topology for a HI transition, aborting\")\n",
      "/home/guillaume/miniconda3/envs/py37/lib/python3.7/site-packages/tyssue-0.3.3rc1-py3.7-linux-x86_64.egg/tyssue/topology/bulk_topology.py:416: UserWarning: Invalid topology for a HI transition, aborting\n",
      "  warnings.warn(\"Invalid topology for a HI transition, aborting\")\n",
      "Edge 355 is not a valid junction to perform IH transition, aborting\n"
     ]
    },
    {
     "name": "stdout",
     "output_type": "stream",
     "text": [
      "out T3 changed buffer\n",
      "T3\n"
     ]
    },
    {
     "name": "stderr",
     "output_type": "stream",
     "text": [
      "Edge 353 has adjacent triangular faces can't perform IH transition, aborting\n",
      "Edge 353 has adjacent triangular faces can't perform IH transition, aborting\n",
      "Edge 355 is not a valid junction to perform IH transition, aborting\n",
      "Edge 353 has adjacent triangular faces can't perform IH transition, aborting\n",
      "Edge 355 is not a valid junction to perform IH transition, aborting\n",
      "Edge 353 has adjacent triangular faces can't perform IH transition, aborting\n",
      "Edge 353 has adjacent triangular faces can't perform IH transition, aborting\n",
      "Edge 353 has adjacent triangular faces can't perform IH transition, aborting\n",
      "Edge 355 is not a valid junction to perform IH transition, aborting\n",
      "Edge 353 has adjacent triangular faces can't perform IH transition, aborting\n"
     ]
    },
    {
     "name": "stdout",
     "output_type": "stream",
     "text": [
      "out T1 changed buffer\n",
      "T1\n"
     ]
    },
    {
     "name": "stderr",
     "output_type": "stream",
     "text": [
      "/home/guillaume/miniconda3/envs/py37/lib/python3.7/site-packages/tyssue-0.3.3rc1-py3.7-linux-x86_64.egg/tyssue/topology/bulk_topology.py:416: UserWarning: Invalid topology for a HI transition, aborting\n",
      "  warnings.warn(\"Invalid topology for a HI transition, aborting\")\n",
      "/home/guillaume/miniconda3/envs/py37/lib/python3.7/site-packages/tyssue-0.3.3rc1-py3.7-linux-x86_64.egg/tyssue/topology/bulk_topology.py:416: UserWarning: Invalid topology for a HI transition, aborting\n",
      "  warnings.warn(\"Invalid topology for a HI transition, aborting\")\n",
      "/home/guillaume/miniconda3/envs/py37/lib/python3.7/site-packages/tyssue-0.3.3rc1-py3.7-linux-x86_64.egg/tyssue/topology/bulk_topology.py:416: UserWarning: Invalid topology for a HI transition, aborting\n",
      "  warnings.warn(\"Invalid topology for a HI transition, aborting\")\n",
      "/home/guillaume/miniconda3/envs/py37/lib/python3.7/site-packages/tyssue-0.3.3rc1-py3.7-linux-x86_64.egg/tyssue/topology/bulk_topology.py:416: UserWarning: Invalid topology for a HI transition, aborting\n",
      "  warnings.warn(\"Invalid topology for a HI transition, aborting\")\n",
      "/home/guillaume/miniconda3/envs/py37/lib/python3.7/site-packages/tyssue-0.3.3rc1-py3.7-linux-x86_64.egg/tyssue/topology/bulk_topology.py:416: UserWarning: Invalid topology for a HI transition, aborting\n",
      "  warnings.warn(\"Invalid topology for a HI transition, aborting\")\n",
      "/home/guillaume/miniconda3/envs/py37/lib/python3.7/site-packages/tyssue-0.3.3rc1-py3.7-linux-x86_64.egg/tyssue/topology/bulk_topology.py:416: UserWarning: Invalid topology for a HI transition, aborting\n",
      "  warnings.warn(\"Invalid topology for a HI transition, aborting\")\n",
      "/home/guillaume/miniconda3/envs/py37/lib/python3.7/site-packages/tyssue-0.3.3rc1-py3.7-linux-x86_64.egg/tyssue/topology/bulk_topology.py:416: UserWarning: Invalid topology for a HI transition, aborting\n",
      "  warnings.warn(\"Invalid topology for a HI transition, aborting\")\n",
      "/home/guillaume/miniconda3/envs/py37/lib/python3.7/site-packages/tyssue-0.3.3rc1-py3.7-linux-x86_64.egg/tyssue/topology/bulk_topology.py:416: UserWarning: Invalid topology for a HI transition, aborting\n",
      "  warnings.warn(\"Invalid topology for a HI transition, aborting\")\n",
      "/home/guillaume/miniconda3/envs/py37/lib/python3.7/site-packages/tyssue-0.3.3rc1-py3.7-linux-x86_64.egg/tyssue/topology/bulk_topology.py:416: UserWarning: Invalid topology for a HI transition, aborting\n",
      "  warnings.warn(\"Invalid topology for a HI transition, aborting\")\n",
      "/home/guillaume/miniconda3/envs/py37/lib/python3.7/site-packages/tyssue-0.3.3rc1-py3.7-linux-x86_64.egg/tyssue/topology/bulk_topology.py:416: UserWarning: Invalid topology for a HI transition, aborting\n",
      "  warnings.warn(\"Invalid topology for a HI transition, aborting\")\n",
      "/home/guillaume/miniconda3/envs/py37/lib/python3.7/site-packages/tyssue-0.3.3rc1-py3.7-linux-x86_64.egg/tyssue/topology/bulk_topology.py:416: UserWarning: Invalid topology for a HI transition, aborting\n",
      "  warnings.warn(\"Invalid topology for a HI transition, aborting\")\n",
      "Edge 353 has adjacent triangular faces can't perform IH transition, aborting\n"
     ]
    },
    {
     "name": "stdout",
     "output_type": "stream",
     "text": [
      "out T3 changed buffer\n",
      "T3\n"
     ]
    },
    {
     "name": "stderr",
     "output_type": "stream",
     "text": [
      "Edge 353 has adjacent triangular faces can't perform IH transition, aborting\n",
      "Edge 355 is not a valid junction to perform IH transition, aborting\n",
      "Edge 354 has adjacent triangular faces can't perform IH transition, aborting\n",
      "Edge 354 has adjacent triangular faces can't perform IH transition, aborting\n",
      "Edge 353 has adjacent triangular faces can't perform IH transition, aborting\n",
      "Edge 354 has adjacent triangular faces can't perform IH transition, aborting\n",
      "Edge 354 has adjacent triangular faces can't perform IH transition, aborting\n",
      "Edge 354 has adjacent triangular faces can't perform IH transition, aborting\n",
      "Edge 353 has adjacent triangular faces can't perform IH transition, aborting\n",
      "Edge 353 has adjacent triangular faces can't perform IH transition, aborting\n",
      "/home/guillaume/miniconda3/envs/py37/lib/python3.7/site-packages/tyssue-0.3.3rc1-py3.7-linux-x86_64.egg/tyssue/topology/bulk_topology.py:416: UserWarning: Invalid topology for a HI transition, aborting\n",
      "  warnings.warn(\"Invalid topology for a HI transition, aborting\")\n"
     ]
    },
    {
     "name": "stdout",
     "output_type": "stream",
     "text": [
      "out T1 changed buffer\n",
      "T1\n"
     ]
    },
    {
     "name": "stderr",
     "output_type": "stream",
     "text": [
      "/home/guillaume/miniconda3/envs/py37/lib/python3.7/site-packages/tyssue-0.3.3rc1-py3.7-linux-x86_64.egg/tyssue/topology/bulk_topology.py:416: UserWarning: Invalid topology for a HI transition, aborting\n",
      "  warnings.warn(\"Invalid topology for a HI transition, aborting\")\n",
      "/home/guillaume/miniconda3/envs/py37/lib/python3.7/site-packages/tyssue-0.3.3rc1-py3.7-linux-x86_64.egg/tyssue/topology/bulk_topology.py:416: UserWarning: Invalid topology for a HI transition, aborting\n",
      "  warnings.warn(\"Invalid topology for a HI transition, aborting\")\n",
      "/home/guillaume/miniconda3/envs/py37/lib/python3.7/site-packages/tyssue-0.3.3rc1-py3.7-linux-x86_64.egg/tyssue/topology/bulk_topology.py:416: UserWarning: Invalid topology for a HI transition, aborting\n",
      "  warnings.warn(\"Invalid topology for a HI transition, aborting\")\n",
      "/home/guillaume/miniconda3/envs/py37/lib/python3.7/site-packages/tyssue-0.3.3rc1-py3.7-linux-x86_64.egg/tyssue/topology/bulk_topology.py:416: UserWarning: Invalid topology for a HI transition, aborting\n",
      "  warnings.warn(\"Invalid topology for a HI transition, aborting\")\n",
      "/home/guillaume/miniconda3/envs/py37/lib/python3.7/site-packages/tyssue-0.3.3rc1-py3.7-linux-x86_64.egg/tyssue/topology/bulk_topology.py:416: UserWarning: Invalid topology for a HI transition, aborting\n",
      "  warnings.warn(\"Invalid topology for a HI transition, aborting\")\n",
      "/home/guillaume/miniconda3/envs/py37/lib/python3.7/site-packages/tyssue-0.3.3rc1-py3.7-linux-x86_64.egg/tyssue/topology/bulk_topology.py:416: UserWarning: Invalid topology for a HI transition, aborting\n",
      "  warnings.warn(\"Invalid topology for a HI transition, aborting\")\n",
      "/home/guillaume/miniconda3/envs/py37/lib/python3.7/site-packages/tyssue-0.3.3rc1-py3.7-linux-x86_64.egg/tyssue/topology/bulk_topology.py:416: UserWarning: Invalid topology for a HI transition, aborting\n",
      "  warnings.warn(\"Invalid topology for a HI transition, aborting\")\n",
      "/home/guillaume/miniconda3/envs/py37/lib/python3.7/site-packages/tyssue-0.3.3rc1-py3.7-linux-x86_64.egg/tyssue/topology/bulk_topology.py:416: UserWarning: Invalid topology for a HI transition, aborting\n",
      "  warnings.warn(\"Invalid topology for a HI transition, aborting\")\n",
      "/home/guillaume/miniconda3/envs/py37/lib/python3.7/site-packages/tyssue-0.3.3rc1-py3.7-linux-x86_64.egg/tyssue/topology/bulk_topology.py:416: UserWarning: Invalid topology for a HI transition, aborting\n",
      "  warnings.warn(\"Invalid topology for a HI transition, aborting\")\n",
      "/home/guillaume/miniconda3/envs/py37/lib/python3.7/site-packages/tyssue-0.3.3rc1-py3.7-linux-x86_64.egg/tyssue/topology/bulk_topology.py:416: UserWarning: Invalid topology for a HI transition, aborting\n",
      "  warnings.warn(\"Invalid topology for a HI transition, aborting\")\n",
      "Edge 354 has adjacent triangular faces can't perform IH transition, aborting\n"
     ]
    },
    {
     "name": "stdout",
     "output_type": "stream",
     "text": [
      "out T3 changed buffer\n",
      "T3\n"
     ]
    },
    {
     "name": "stderr",
     "output_type": "stream",
     "text": [
      "Edge 354 has adjacent triangular faces can't perform IH transition, aborting\n",
      "Edge 355 is not a valid junction to perform IH transition, aborting\n",
      "Edge 353 has adjacent triangular faces can't perform IH transition, aborting\n",
      "Edge 354 has adjacent triangular faces can't perform IH transition, aborting\n",
      "Edge 355 is not a valid junction to perform IH transition, aborting\n",
      "Edge 354 has adjacent triangular faces can't perform IH transition, aborting\n",
      "Edge 355 is not a valid junction to perform IH transition, aborting\n",
      "Edge 353 has adjacent triangular faces can't perform IH transition, aborting\n",
      "Edge 355 is not a valid junction to perform IH transition, aborting\n",
      "Edge 354 has adjacent triangular faces can't perform IH transition, aborting\n",
      "/home/guillaume/miniconda3/envs/py37/lib/python3.7/site-packages/tyssue-0.3.3rc1-py3.7-linux-x86_64.egg/tyssue/topology/bulk_topology.py:416: UserWarning: Invalid topology for a HI transition, aborting\n",
      "  warnings.warn(\"Invalid topology for a HI transition, aborting\")\n"
     ]
    },
    {
     "name": "stdout",
     "output_type": "stream",
     "text": [
      "out T1 changed buffer\n",
      "T1\n"
     ]
    },
    {
     "name": "stderr",
     "output_type": "stream",
     "text": [
      "/home/guillaume/miniconda3/envs/py37/lib/python3.7/site-packages/tyssue-0.3.3rc1-py3.7-linux-x86_64.egg/tyssue/topology/bulk_topology.py:416: UserWarning: Invalid topology for a HI transition, aborting\n",
      "  warnings.warn(\"Invalid topology for a HI transition, aborting\")\n",
      "/home/guillaume/miniconda3/envs/py37/lib/python3.7/site-packages/tyssue-0.3.3rc1-py3.7-linux-x86_64.egg/tyssue/topology/bulk_topology.py:416: UserWarning: Invalid topology for a HI transition, aborting\n",
      "  warnings.warn(\"Invalid topology for a HI transition, aborting\")\n",
      "/home/guillaume/miniconda3/envs/py37/lib/python3.7/site-packages/tyssue-0.3.3rc1-py3.7-linux-x86_64.egg/tyssue/topology/bulk_topology.py:416: UserWarning: Invalid topology for a HI transition, aborting\n",
      "  warnings.warn(\"Invalid topology for a HI transition, aborting\")\n",
      "/home/guillaume/miniconda3/envs/py37/lib/python3.7/site-packages/tyssue-0.3.3rc1-py3.7-linux-x86_64.egg/tyssue/topology/bulk_topology.py:416: UserWarning: Invalid topology for a HI transition, aborting\n",
      "  warnings.warn(\"Invalid topology for a HI transition, aborting\")\n",
      "/home/guillaume/miniconda3/envs/py37/lib/python3.7/site-packages/tyssue-0.3.3rc1-py3.7-linux-x86_64.egg/tyssue/topology/bulk_topology.py:416: UserWarning: Invalid topology for a HI transition, aborting\n",
      "  warnings.warn(\"Invalid topology for a HI transition, aborting\")\n",
      "/home/guillaume/miniconda3/envs/py37/lib/python3.7/site-packages/tyssue-0.3.3rc1-py3.7-linux-x86_64.egg/tyssue/topology/bulk_topology.py:416: UserWarning: Invalid topology for a HI transition, aborting\n",
      "  warnings.warn(\"Invalid topology for a HI transition, aborting\")\n",
      "/home/guillaume/miniconda3/envs/py37/lib/python3.7/site-packages/tyssue-0.3.3rc1-py3.7-linux-x86_64.egg/tyssue/topology/bulk_topology.py:416: UserWarning: Invalid topology for a HI transition, aborting\n",
      "  warnings.warn(\"Invalid topology for a HI transition, aborting\")\n",
      "/home/guillaume/miniconda3/envs/py37/lib/python3.7/site-packages/tyssue-0.3.3rc1-py3.7-linux-x86_64.egg/tyssue/topology/bulk_topology.py:416: UserWarning: Invalid topology for a HI transition, aborting\n",
      "  warnings.warn(\"Invalid topology for a HI transition, aborting\")\n",
      "/home/guillaume/miniconda3/envs/py37/lib/python3.7/site-packages/tyssue-0.3.3rc1-py3.7-linux-x86_64.egg/tyssue/topology/bulk_topology.py:416: UserWarning: Invalid topology for a HI transition, aborting\n",
      "  warnings.warn(\"Invalid topology for a HI transition, aborting\")\n",
      "/home/guillaume/miniconda3/envs/py37/lib/python3.7/site-packages/tyssue-0.3.3rc1-py3.7-linux-x86_64.egg/tyssue/topology/bulk_topology.py:416: UserWarning: Invalid topology for a HI transition, aborting\n",
      "  warnings.warn(\"Invalid topology for a HI transition, aborting\")\n",
      "Edge 355 is not a valid junction to perform IH transition, aborting\n"
     ]
    },
    {
     "name": "stdout",
     "output_type": "stream",
     "text": [
      "out T3 changed buffer\n",
      "T3\n"
     ]
    },
    {
     "name": "stderr",
     "output_type": "stream",
     "text": [
      "Edge 353 has adjacent triangular faces can't perform IH transition, aborting\n",
      "Edge 355 is not a valid junction to perform IH transition, aborting\n",
      "Edge 353 has adjacent triangular faces can't perform IH transition, aborting\n",
      "Edge 354 has adjacent triangular faces can't perform IH transition, aborting\n",
      "Edge 355 is not a valid junction to perform IH transition, aborting\n",
      "Edge 353 has adjacent triangular faces can't perform IH transition, aborting\n",
      "Edge 355 is not a valid junction to perform IH transition, aborting\n",
      "Edge 353 has adjacent triangular faces can't perform IH transition, aborting\n",
      "Edge 355 is not a valid junction to perform IH transition, aborting\n",
      "Edge 354 has adjacent triangular faces can't perform IH transition, aborting\n",
      "/home/guillaume/miniconda3/envs/py37/lib/python3.7/site-packages/tyssue-0.3.3rc1-py3.7-linux-x86_64.egg/tyssue/topology/bulk_topology.py:416: UserWarning: Invalid topology for a HI transition, aborting\n",
      "  warnings.warn(\"Invalid topology for a HI transition, aborting\")\n"
     ]
    },
    {
     "name": "stdout",
     "output_type": "stream",
     "text": [
      "out T1 changed buffer\n",
      "T1\n"
     ]
    },
    {
     "name": "stderr",
     "output_type": "stream",
     "text": [
      "/home/guillaume/miniconda3/envs/py37/lib/python3.7/site-packages/tyssue-0.3.3rc1-py3.7-linux-x86_64.egg/tyssue/topology/bulk_topology.py:416: UserWarning: Invalid topology for a HI transition, aborting\n",
      "  warnings.warn(\"Invalid topology for a HI transition, aborting\")\n",
      "/home/guillaume/miniconda3/envs/py37/lib/python3.7/site-packages/tyssue-0.3.3rc1-py3.7-linux-x86_64.egg/tyssue/topology/bulk_topology.py:416: UserWarning: Invalid topology for a HI transition, aborting\n",
      "  warnings.warn(\"Invalid topology for a HI transition, aborting\")\n",
      "/home/guillaume/miniconda3/envs/py37/lib/python3.7/site-packages/tyssue-0.3.3rc1-py3.7-linux-x86_64.egg/tyssue/topology/bulk_topology.py:416: UserWarning: Invalid topology for a HI transition, aborting\n",
      "  warnings.warn(\"Invalid topology for a HI transition, aborting\")\n",
      "/home/guillaume/miniconda3/envs/py37/lib/python3.7/site-packages/tyssue-0.3.3rc1-py3.7-linux-x86_64.egg/tyssue/topology/bulk_topology.py:416: UserWarning: Invalid topology for a HI transition, aborting\n",
      "  warnings.warn(\"Invalid topology for a HI transition, aborting\")\n",
      "/home/guillaume/miniconda3/envs/py37/lib/python3.7/site-packages/tyssue-0.3.3rc1-py3.7-linux-x86_64.egg/tyssue/topology/bulk_topology.py:416: UserWarning: Invalid topology for a HI transition, aborting\n",
      "  warnings.warn(\"Invalid topology for a HI transition, aborting\")\n",
      "/home/guillaume/miniconda3/envs/py37/lib/python3.7/site-packages/tyssue-0.3.3rc1-py3.7-linux-x86_64.egg/tyssue/topology/bulk_topology.py:416: UserWarning: Invalid topology for a HI transition, aborting\n",
      "  warnings.warn(\"Invalid topology for a HI transition, aborting\")\n",
      "/home/guillaume/miniconda3/envs/py37/lib/python3.7/site-packages/tyssue-0.3.3rc1-py3.7-linux-x86_64.egg/tyssue/topology/bulk_topology.py:416: UserWarning: Invalid topology for a HI transition, aborting\n",
      "  warnings.warn(\"Invalid topology for a HI transition, aborting\")\n",
      "/home/guillaume/miniconda3/envs/py37/lib/python3.7/site-packages/tyssue-0.3.3rc1-py3.7-linux-x86_64.egg/tyssue/topology/bulk_topology.py:416: UserWarning: Invalid topology for a HI transition, aborting\n",
      "  warnings.warn(\"Invalid topology for a HI transition, aborting\")\n",
      "/home/guillaume/miniconda3/envs/py37/lib/python3.7/site-packages/tyssue-0.3.3rc1-py3.7-linux-x86_64.egg/tyssue/topology/bulk_topology.py:416: UserWarning: Invalid topology for a HI transition, aborting\n",
      "  warnings.warn(\"Invalid topology for a HI transition, aborting\")\n",
      "/home/guillaume/miniconda3/envs/py37/lib/python3.7/site-packages/tyssue-0.3.3rc1-py3.7-linux-x86_64.egg/tyssue/topology/bulk_topology.py:416: UserWarning: Invalid topology for a HI transition, aborting\n",
      "  warnings.warn(\"Invalid topology for a HI transition, aborting\")\n",
      "Edge 354 has adjacent triangular faces can't perform IH transition, aborting\n"
     ]
    },
    {
     "name": "stdout",
     "output_type": "stream",
     "text": [
      "out T3 changed buffer\n",
      "T3\n"
     ]
    },
    {
     "name": "stderr",
     "output_type": "stream",
     "text": [
      "Edge 355 is not a valid junction to perform IH transition, aborting\n",
      "Edge 354 has adjacent triangular faces can't perform IH transition, aborting\n",
      "Edge 354 has adjacent triangular faces can't perform IH transition, aborting\n",
      "Edge 355 is not a valid junction to perform IH transition, aborting\n",
      "Edge 353 has adjacent triangular faces can't perform IH transition, aborting\n",
      "Edge 354 has adjacent triangular faces can't perform IH transition, aborting\n",
      "Edge 355 is not a valid junction to perform IH transition, aborting\n",
      "Edge 353 has adjacent triangular faces can't perform IH transition, aborting\n",
      "Edge 354 has adjacent triangular faces can't perform IH transition, aborting\n",
      "Edge 354 has adjacent triangular faces can't perform IH transition, aborting\n",
      "/home/guillaume/miniconda3/envs/py37/lib/python3.7/site-packages/tyssue-0.3.3rc1-py3.7-linux-x86_64.egg/tyssue/topology/bulk_topology.py:416: UserWarning: Invalid topology for a HI transition, aborting\n",
      "  warnings.warn(\"Invalid topology for a HI transition, aborting\")\n"
     ]
    },
    {
     "name": "stdout",
     "output_type": "stream",
     "text": [
      "out T1 changed buffer\n",
      "T1\n"
     ]
    },
    {
     "name": "stderr",
     "output_type": "stream",
     "text": [
      "/home/guillaume/miniconda3/envs/py37/lib/python3.7/site-packages/tyssue-0.3.3rc1-py3.7-linux-x86_64.egg/tyssue/topology/bulk_topology.py:416: UserWarning: Invalid topology for a HI transition, aborting\n",
      "  warnings.warn(\"Invalid topology for a HI transition, aborting\")\n",
      "/home/guillaume/miniconda3/envs/py37/lib/python3.7/site-packages/tyssue-0.3.3rc1-py3.7-linux-x86_64.egg/tyssue/topology/bulk_topology.py:416: UserWarning: Invalid topology for a HI transition, aborting\n",
      "  warnings.warn(\"Invalid topology for a HI transition, aborting\")\n",
      "/home/guillaume/miniconda3/envs/py37/lib/python3.7/site-packages/tyssue-0.3.3rc1-py3.7-linux-x86_64.egg/tyssue/topology/bulk_topology.py:416: UserWarning: Invalid topology for a HI transition, aborting\n",
      "  warnings.warn(\"Invalid topology for a HI transition, aborting\")\n",
      "/home/guillaume/miniconda3/envs/py37/lib/python3.7/site-packages/tyssue-0.3.3rc1-py3.7-linux-x86_64.egg/tyssue/topology/bulk_topology.py:416: UserWarning: Invalid topology for a HI transition, aborting\n",
      "  warnings.warn(\"Invalid topology for a HI transition, aborting\")\n",
      "/home/guillaume/miniconda3/envs/py37/lib/python3.7/site-packages/tyssue-0.3.3rc1-py3.7-linux-x86_64.egg/tyssue/topology/bulk_topology.py:416: UserWarning: Invalid topology for a HI transition, aborting\n",
      "  warnings.warn(\"Invalid topology for a HI transition, aborting\")\n",
      "/home/guillaume/miniconda3/envs/py37/lib/python3.7/site-packages/tyssue-0.3.3rc1-py3.7-linux-x86_64.egg/tyssue/topology/bulk_topology.py:416: UserWarning: Invalid topology for a HI transition, aborting\n",
      "  warnings.warn(\"Invalid topology for a HI transition, aborting\")\n",
      "/home/guillaume/miniconda3/envs/py37/lib/python3.7/site-packages/tyssue-0.3.3rc1-py3.7-linux-x86_64.egg/tyssue/topology/bulk_topology.py:416: UserWarning: Invalid topology for a HI transition, aborting\n",
      "  warnings.warn(\"Invalid topology for a HI transition, aborting\")\n",
      "/home/guillaume/miniconda3/envs/py37/lib/python3.7/site-packages/tyssue-0.3.3rc1-py3.7-linux-x86_64.egg/tyssue/topology/bulk_topology.py:416: UserWarning: Invalid topology for a HI transition, aborting\n",
      "  warnings.warn(\"Invalid topology for a HI transition, aborting\")\n",
      "/home/guillaume/miniconda3/envs/py37/lib/python3.7/site-packages/tyssue-0.3.3rc1-py3.7-linux-x86_64.egg/tyssue/topology/bulk_topology.py:416: UserWarning: Invalid topology for a HI transition, aborting\n",
      "  warnings.warn(\"Invalid topology for a HI transition, aborting\")\n",
      "/home/guillaume/miniconda3/envs/py37/lib/python3.7/site-packages/tyssue-0.3.3rc1-py3.7-linux-x86_64.egg/tyssue/topology/bulk_topology.py:416: UserWarning: Invalid topology for a HI transition, aborting\n",
      "  warnings.warn(\"Invalid topology for a HI transition, aborting\")\n",
      "Edge 355 is not a valid junction to perform IH transition, aborting\n"
     ]
    },
    {
     "name": "stdout",
     "output_type": "stream",
     "text": [
      "out T3 changed buffer\n",
      "T3\n"
     ]
    },
    {
     "name": "stderr",
     "output_type": "stream",
     "text": [
      "Edge 353 has adjacent triangular faces can't perform IH transition, aborting\n",
      "Edge 354 has adjacent triangular faces can't perform IH transition, aborting\n",
      "Edge 354 has adjacent triangular faces can't perform IH transition, aborting\n",
      "Edge 354 has adjacent triangular faces can't perform IH transition, aborting\n",
      "Edge 354 has adjacent triangular faces can't perform IH transition, aborting\n",
      "Edge 353 has adjacent triangular faces can't perform IH transition, aborting\n",
      "Edge 353 has adjacent triangular faces can't perform IH transition, aborting\n",
      "Edge 353 has adjacent triangular faces can't perform IH transition, aborting\n",
      "Edge 355 is not a valid junction to perform IH transition, aborting\n",
      "Edge 354 has adjacent triangular faces can't perform IH transition, aborting\n",
      "/home/guillaume/miniconda3/envs/py37/lib/python3.7/site-packages/tyssue-0.3.3rc1-py3.7-linux-x86_64.egg/tyssue/topology/bulk_topology.py:416: UserWarning: Invalid topology for a HI transition, aborting\n",
      "  warnings.warn(\"Invalid topology for a HI transition, aborting\")\n"
     ]
    },
    {
     "name": "stdout",
     "output_type": "stream",
     "text": [
      "out T1 changed buffer\n",
      "T1\n"
     ]
    },
    {
     "name": "stderr",
     "output_type": "stream",
     "text": [
      "/home/guillaume/miniconda3/envs/py37/lib/python3.7/site-packages/tyssue-0.3.3rc1-py3.7-linux-x86_64.egg/tyssue/topology/bulk_topology.py:416: UserWarning: Invalid topology for a HI transition, aborting\n",
      "  warnings.warn(\"Invalid topology for a HI transition, aborting\")\n",
      "/home/guillaume/miniconda3/envs/py37/lib/python3.7/site-packages/tyssue-0.3.3rc1-py3.7-linux-x86_64.egg/tyssue/topology/bulk_topology.py:416: UserWarning: Invalid topology for a HI transition, aborting\n",
      "  warnings.warn(\"Invalid topology for a HI transition, aborting\")\n",
      "/home/guillaume/miniconda3/envs/py37/lib/python3.7/site-packages/tyssue-0.3.3rc1-py3.7-linux-x86_64.egg/tyssue/topology/bulk_topology.py:416: UserWarning: Invalid topology for a HI transition, aborting\n",
      "  warnings.warn(\"Invalid topology for a HI transition, aborting\")\n",
      "/home/guillaume/miniconda3/envs/py37/lib/python3.7/site-packages/tyssue-0.3.3rc1-py3.7-linux-x86_64.egg/tyssue/topology/bulk_topology.py:416: UserWarning: Invalid topology for a HI transition, aborting\n",
      "  warnings.warn(\"Invalid topology for a HI transition, aborting\")\n",
      "/home/guillaume/miniconda3/envs/py37/lib/python3.7/site-packages/tyssue-0.3.3rc1-py3.7-linux-x86_64.egg/tyssue/topology/bulk_topology.py:416: UserWarning: Invalid topology for a HI transition, aborting\n",
      "  warnings.warn(\"Invalid topology for a HI transition, aborting\")\n",
      "/home/guillaume/miniconda3/envs/py37/lib/python3.7/site-packages/tyssue-0.3.3rc1-py3.7-linux-x86_64.egg/tyssue/topology/bulk_topology.py:416: UserWarning: Invalid topology for a HI transition, aborting\n",
      "  warnings.warn(\"Invalid topology for a HI transition, aborting\")\n",
      "/home/guillaume/miniconda3/envs/py37/lib/python3.7/site-packages/tyssue-0.3.3rc1-py3.7-linux-x86_64.egg/tyssue/topology/bulk_topology.py:416: UserWarning: Invalid topology for a HI transition, aborting\n",
      "  warnings.warn(\"Invalid topology for a HI transition, aborting\")\n",
      "/home/guillaume/miniconda3/envs/py37/lib/python3.7/site-packages/tyssue-0.3.3rc1-py3.7-linux-x86_64.egg/tyssue/topology/bulk_topology.py:416: UserWarning: Invalid topology for a HI transition, aborting\n",
      "  warnings.warn(\"Invalid topology for a HI transition, aborting\")\n",
      "/home/guillaume/miniconda3/envs/py37/lib/python3.7/site-packages/tyssue-0.3.3rc1-py3.7-linux-x86_64.egg/tyssue/topology/bulk_topology.py:416: UserWarning: Invalid topology for a HI transition, aborting\n",
      "  warnings.warn(\"Invalid topology for a HI transition, aborting\")\n",
      "/home/guillaume/miniconda3/envs/py37/lib/python3.7/site-packages/tyssue-0.3.3rc1-py3.7-linux-x86_64.egg/tyssue/topology/bulk_topology.py:416: UserWarning: Invalid topology for a HI transition, aborting\n",
      "  warnings.warn(\"Invalid topology for a HI transition, aborting\")\n",
      "Edge 355 is not a valid junction to perform IH transition, aborting\n"
     ]
    },
    {
     "name": "stdout",
     "output_type": "stream",
     "text": [
      "out T3 changed buffer\n",
      "T3\n"
     ]
    },
    {
     "name": "stderr",
     "output_type": "stream",
     "text": [
      "Edge 354 has adjacent triangular faces can't perform IH transition, aborting\n",
      "Edge 355 is not a valid junction to perform IH transition, aborting\n",
      "Edge 354 has adjacent triangular faces can't perform IH transition, aborting\n",
      "Edge 355 is not a valid junction to perform IH transition, aborting\n",
      "Edge 353 has adjacent triangular faces can't perform IH transition, aborting\n",
      "Edge 355 is not a valid junction to perform IH transition, aborting\n",
      "Edge 353 has adjacent triangular faces can't perform IH transition, aborting\n",
      "Edge 353 has adjacent triangular faces can't perform IH transition, aborting\n",
      "Edge 354 has adjacent triangular faces can't perform IH transition, aborting\n",
      "Edge 355 is not a valid junction to perform IH transition, aborting\n",
      "/home/guillaume/miniconda3/envs/py37/lib/python3.7/site-packages/tyssue-0.3.3rc1-py3.7-linux-x86_64.egg/tyssue/topology/bulk_topology.py:416: UserWarning: Invalid topology for a HI transition, aborting\n",
      "  warnings.warn(\"Invalid topology for a HI transition, aborting\")\n"
     ]
    },
    {
     "name": "stdout",
     "output_type": "stream",
     "text": [
      "out T1 changed buffer\n",
      "T1\n"
     ]
    },
    {
     "name": "stderr",
     "output_type": "stream",
     "text": [
      "/home/guillaume/miniconda3/envs/py37/lib/python3.7/site-packages/tyssue-0.3.3rc1-py3.7-linux-x86_64.egg/tyssue/topology/bulk_topology.py:416: UserWarning: Invalid topology for a HI transition, aborting\n",
      "  warnings.warn(\"Invalid topology for a HI transition, aborting\")\n",
      "/home/guillaume/miniconda3/envs/py37/lib/python3.7/site-packages/tyssue-0.3.3rc1-py3.7-linux-x86_64.egg/tyssue/topology/bulk_topology.py:416: UserWarning: Invalid topology for a HI transition, aborting\n",
      "  warnings.warn(\"Invalid topology for a HI transition, aborting\")\n",
      "/home/guillaume/miniconda3/envs/py37/lib/python3.7/site-packages/tyssue-0.3.3rc1-py3.7-linux-x86_64.egg/tyssue/topology/bulk_topology.py:416: UserWarning: Invalid topology for a HI transition, aborting\n",
      "  warnings.warn(\"Invalid topology for a HI transition, aborting\")\n",
      "/home/guillaume/miniconda3/envs/py37/lib/python3.7/site-packages/tyssue-0.3.3rc1-py3.7-linux-x86_64.egg/tyssue/topology/bulk_topology.py:416: UserWarning: Invalid topology for a HI transition, aborting\n",
      "  warnings.warn(\"Invalid topology for a HI transition, aborting\")\n",
      "/home/guillaume/miniconda3/envs/py37/lib/python3.7/site-packages/tyssue-0.3.3rc1-py3.7-linux-x86_64.egg/tyssue/topology/bulk_topology.py:416: UserWarning: Invalid topology for a HI transition, aborting\n",
      "  warnings.warn(\"Invalid topology for a HI transition, aborting\")\n",
      "/home/guillaume/miniconda3/envs/py37/lib/python3.7/site-packages/tyssue-0.3.3rc1-py3.7-linux-x86_64.egg/tyssue/topology/bulk_topology.py:416: UserWarning: Invalid topology for a HI transition, aborting\n",
      "  warnings.warn(\"Invalid topology for a HI transition, aborting\")\n",
      "/home/guillaume/miniconda3/envs/py37/lib/python3.7/site-packages/tyssue-0.3.3rc1-py3.7-linux-x86_64.egg/tyssue/topology/bulk_topology.py:416: UserWarning: Invalid topology for a HI transition, aborting\n",
      "  warnings.warn(\"Invalid topology for a HI transition, aborting\")\n",
      "/home/guillaume/miniconda3/envs/py37/lib/python3.7/site-packages/tyssue-0.3.3rc1-py3.7-linux-x86_64.egg/tyssue/topology/bulk_topology.py:416: UserWarning: Invalid topology for a HI transition, aborting\n",
      "  warnings.warn(\"Invalid topology for a HI transition, aborting\")\n",
      "/home/guillaume/miniconda3/envs/py37/lib/python3.7/site-packages/tyssue-0.3.3rc1-py3.7-linux-x86_64.egg/tyssue/topology/bulk_topology.py:416: UserWarning: Invalid topology for a HI transition, aborting\n",
      "  warnings.warn(\"Invalid topology for a HI transition, aborting\")\n",
      "/home/guillaume/miniconda3/envs/py37/lib/python3.7/site-packages/tyssue-0.3.3rc1-py3.7-linux-x86_64.egg/tyssue/topology/bulk_topology.py:416: UserWarning: Invalid topology for a HI transition, aborting\n",
      "  warnings.warn(\"Invalid topology for a HI transition, aborting\")\n",
      "Edge 354 has adjacent triangular faces can't perform IH transition, aborting\n"
     ]
    },
    {
     "name": "stdout",
     "output_type": "stream",
     "text": [
      "out T3 changed buffer\n",
      "T3\n"
     ]
    },
    {
     "name": "stderr",
     "output_type": "stream",
     "text": [
      "Edge 353 has adjacent triangular faces can't perform IH transition, aborting\n",
      "Edge 355 is not a valid junction to perform IH transition, aborting\n",
      "Edge 354 has adjacent triangular faces can't perform IH transition, aborting\n",
      "Edge 353 has adjacent triangular faces can't perform IH transition, aborting\n",
      "Edge 353 has adjacent triangular faces can't perform IH transition, aborting\n",
      "Edge 354 has adjacent triangular faces can't perform IH transition, aborting\n",
      "Edge 353 has adjacent triangular faces can't perform IH transition, aborting\n",
      "Edge 353 has adjacent triangular faces can't perform IH transition, aborting\n",
      "Edge 353 has adjacent triangular faces can't perform IH transition, aborting\n",
      "Edge 353 has adjacent triangular faces can't perform IH transition, aborting\n",
      "/home/guillaume/miniconda3/envs/py37/lib/python3.7/site-packages/tyssue-0.3.3rc1-py3.7-linux-x86_64.egg/tyssue/topology/bulk_topology.py:416: UserWarning: Invalid topology for a HI transition, aborting\n",
      "  warnings.warn(\"Invalid topology for a HI transition, aborting\")\n"
     ]
    },
    {
     "name": "stdout",
     "output_type": "stream",
     "text": [
      "out T1 changed buffer\n",
      "T1\n"
     ]
    },
    {
     "name": "stderr",
     "output_type": "stream",
     "text": [
      "/home/guillaume/miniconda3/envs/py37/lib/python3.7/site-packages/tyssue-0.3.3rc1-py3.7-linux-x86_64.egg/tyssue/topology/bulk_topology.py:416: UserWarning: Invalid topology for a HI transition, aborting\n",
      "  warnings.warn(\"Invalid topology for a HI transition, aborting\")\n",
      "/home/guillaume/miniconda3/envs/py37/lib/python3.7/site-packages/tyssue-0.3.3rc1-py3.7-linux-x86_64.egg/tyssue/topology/bulk_topology.py:416: UserWarning: Invalid topology for a HI transition, aborting\n",
      "  warnings.warn(\"Invalid topology for a HI transition, aborting\")\n",
      "/home/guillaume/miniconda3/envs/py37/lib/python3.7/site-packages/tyssue-0.3.3rc1-py3.7-linux-x86_64.egg/tyssue/topology/bulk_topology.py:416: UserWarning: Invalid topology for a HI transition, aborting\n",
      "  warnings.warn(\"Invalid topology for a HI transition, aborting\")\n",
      "/home/guillaume/miniconda3/envs/py37/lib/python3.7/site-packages/tyssue-0.3.3rc1-py3.7-linux-x86_64.egg/tyssue/topology/bulk_topology.py:416: UserWarning: Invalid topology for a HI transition, aborting\n",
      "  warnings.warn(\"Invalid topology for a HI transition, aborting\")\n",
      "/home/guillaume/miniconda3/envs/py37/lib/python3.7/site-packages/tyssue-0.3.3rc1-py3.7-linux-x86_64.egg/tyssue/topology/bulk_topology.py:416: UserWarning: Invalid topology for a HI transition, aborting\n",
      "  warnings.warn(\"Invalid topology for a HI transition, aborting\")\n",
      "/home/guillaume/miniconda3/envs/py37/lib/python3.7/site-packages/tyssue-0.3.3rc1-py3.7-linux-x86_64.egg/tyssue/topology/bulk_topology.py:416: UserWarning: Invalid topology for a HI transition, aborting\n",
      "  warnings.warn(\"Invalid topology for a HI transition, aborting\")\n",
      "/home/guillaume/miniconda3/envs/py37/lib/python3.7/site-packages/tyssue-0.3.3rc1-py3.7-linux-x86_64.egg/tyssue/topology/bulk_topology.py:416: UserWarning: Invalid topology for a HI transition, aborting\n",
      "  warnings.warn(\"Invalid topology for a HI transition, aborting\")\n",
      "/home/guillaume/miniconda3/envs/py37/lib/python3.7/site-packages/tyssue-0.3.3rc1-py3.7-linux-x86_64.egg/tyssue/topology/bulk_topology.py:416: UserWarning: Invalid topology for a HI transition, aborting\n",
      "  warnings.warn(\"Invalid topology for a HI transition, aborting\")\n",
      "/home/guillaume/miniconda3/envs/py37/lib/python3.7/site-packages/tyssue-0.3.3rc1-py3.7-linux-x86_64.egg/tyssue/topology/bulk_topology.py:416: UserWarning: Invalid topology for a HI transition, aborting\n",
      "  warnings.warn(\"Invalid topology for a HI transition, aborting\")\n",
      "/home/guillaume/miniconda3/envs/py37/lib/python3.7/site-packages/tyssue-0.3.3rc1-py3.7-linux-x86_64.egg/tyssue/topology/bulk_topology.py:416: UserWarning: Invalid topology for a HI transition, aborting\n",
      "  warnings.warn(\"Invalid topology for a HI transition, aborting\")\n",
      "Edge 353 has adjacent triangular faces can't perform IH transition, aborting\n"
     ]
    },
    {
     "name": "stdout",
     "output_type": "stream",
     "text": [
      "out T3 changed buffer\n",
      "T3\n"
     ]
    },
    {
     "name": "stderr",
     "output_type": "stream",
     "text": [
      "Edge 355 is not a valid junction to perform IH transition, aborting\n",
      "Edge 354 has adjacent triangular faces can't perform IH transition, aborting\n",
      "Edge 354 has adjacent triangular faces can't perform IH transition, aborting\n",
      "Edge 354 has adjacent triangular faces can't perform IH transition, aborting\n",
      "Edge 354 has adjacent triangular faces can't perform IH transition, aborting\n",
      "Edge 354 has adjacent triangular faces can't perform IH transition, aborting\n",
      "Edge 354 has adjacent triangular faces can't perform IH transition, aborting\n",
      "Edge 354 has adjacent triangular faces can't perform IH transition, aborting\n",
      "Edge 353 has adjacent triangular faces can't perform IH transition, aborting\n",
      "Edge 355 is not a valid junction to perform IH transition, aborting\n",
      "/home/guillaume/miniconda3/envs/py37/lib/python3.7/site-packages/tyssue-0.3.3rc1-py3.7-linux-x86_64.egg/tyssue/topology/bulk_topology.py:416: UserWarning: Invalid topology for a HI transition, aborting\n",
      "  warnings.warn(\"Invalid topology for a HI transition, aborting\")\n"
     ]
    },
    {
     "name": "stdout",
     "output_type": "stream",
     "text": [
      "out T1 changed buffer\n",
      "T1\n"
     ]
    },
    {
     "name": "stderr",
     "output_type": "stream",
     "text": [
      "/home/guillaume/miniconda3/envs/py37/lib/python3.7/site-packages/tyssue-0.3.3rc1-py3.7-linux-x86_64.egg/tyssue/topology/bulk_topology.py:416: UserWarning: Invalid topology for a HI transition, aborting\n",
      "  warnings.warn(\"Invalid topology for a HI transition, aborting\")\n",
      "/home/guillaume/miniconda3/envs/py37/lib/python3.7/site-packages/tyssue-0.3.3rc1-py3.7-linux-x86_64.egg/tyssue/topology/bulk_topology.py:416: UserWarning: Invalid topology for a HI transition, aborting\n",
      "  warnings.warn(\"Invalid topology for a HI transition, aborting\")\n",
      "/home/guillaume/miniconda3/envs/py37/lib/python3.7/site-packages/tyssue-0.3.3rc1-py3.7-linux-x86_64.egg/tyssue/topology/bulk_topology.py:416: UserWarning: Invalid topology for a HI transition, aborting\n",
      "  warnings.warn(\"Invalid topology for a HI transition, aborting\")\n",
      "/home/guillaume/miniconda3/envs/py37/lib/python3.7/site-packages/tyssue-0.3.3rc1-py3.7-linux-x86_64.egg/tyssue/topology/bulk_topology.py:416: UserWarning: Invalid topology for a HI transition, aborting\n",
      "  warnings.warn(\"Invalid topology for a HI transition, aborting\")\n",
      "/home/guillaume/miniconda3/envs/py37/lib/python3.7/site-packages/tyssue-0.3.3rc1-py3.7-linux-x86_64.egg/tyssue/topology/bulk_topology.py:416: UserWarning: Invalid topology for a HI transition, aborting\n",
      "  warnings.warn(\"Invalid topology for a HI transition, aborting\")\n",
      "/home/guillaume/miniconda3/envs/py37/lib/python3.7/site-packages/tyssue-0.3.3rc1-py3.7-linux-x86_64.egg/tyssue/topology/bulk_topology.py:416: UserWarning: Invalid topology for a HI transition, aborting\n",
      "  warnings.warn(\"Invalid topology for a HI transition, aborting\")\n",
      "/home/guillaume/miniconda3/envs/py37/lib/python3.7/site-packages/tyssue-0.3.3rc1-py3.7-linux-x86_64.egg/tyssue/topology/bulk_topology.py:416: UserWarning: Invalid topology for a HI transition, aborting\n",
      "  warnings.warn(\"Invalid topology for a HI transition, aborting\")\n",
      "/home/guillaume/miniconda3/envs/py37/lib/python3.7/site-packages/tyssue-0.3.3rc1-py3.7-linux-x86_64.egg/tyssue/topology/bulk_topology.py:416: UserWarning: Invalid topology for a HI transition, aborting\n",
      "  warnings.warn(\"Invalid topology for a HI transition, aborting\")\n",
      "/home/guillaume/miniconda3/envs/py37/lib/python3.7/site-packages/tyssue-0.3.3rc1-py3.7-linux-x86_64.egg/tyssue/topology/bulk_topology.py:416: UserWarning: Invalid topology for a HI transition, aborting\n",
      "  warnings.warn(\"Invalid topology for a HI transition, aborting\")\n",
      "/home/guillaume/miniconda3/envs/py37/lib/python3.7/site-packages/tyssue-0.3.3rc1-py3.7-linux-x86_64.egg/tyssue/topology/bulk_topology.py:416: UserWarning: Invalid topology for a HI transition, aborting\n",
      "  warnings.warn(\"Invalid topology for a HI transition, aborting\")\n",
      "Edge 353 has adjacent triangular faces can't perform IH transition, aborting\n"
     ]
    },
    {
     "name": "stdout",
     "output_type": "stream",
     "text": [
      "out T3 changed buffer\n",
      "T3\n"
     ]
    },
    {
     "name": "stderr",
     "output_type": "stream",
     "text": [
      "Edge 354 has adjacent triangular faces can't perform IH transition, aborting\n",
      "Edge 353 has adjacent triangular faces can't perform IH transition, aborting\n",
      "Edge 353 has adjacent triangular faces can't perform IH transition, aborting\n",
      "Edge 353 has adjacent triangular faces can't perform IH transition, aborting\n",
      "Edge 353 has adjacent triangular faces can't perform IH transition, aborting\n",
      "Edge 355 is not a valid junction to perform IH transition, aborting\n",
      "Edge 353 has adjacent triangular faces can't perform IH transition, aborting\n",
      "Edge 353 has adjacent triangular faces can't perform IH transition, aborting\n",
      "Edge 353 has adjacent triangular faces can't perform IH transition, aborting\n",
      "Edge 354 has adjacent triangular faces can't perform IH transition, aborting\n",
      "/home/guillaume/miniconda3/envs/py37/lib/python3.7/site-packages/tyssue-0.3.3rc1-py3.7-linux-x86_64.egg/tyssue/topology/bulk_topology.py:416: UserWarning: Invalid topology for a HI transition, aborting\n",
      "  warnings.warn(\"Invalid topology for a HI transition, aborting\")\n"
     ]
    },
    {
     "name": "stdout",
     "output_type": "stream",
     "text": [
      "out T1 changed buffer\n",
      "T1\n"
     ]
    },
    {
     "name": "stderr",
     "output_type": "stream",
     "text": [
      "/home/guillaume/miniconda3/envs/py37/lib/python3.7/site-packages/tyssue-0.3.3rc1-py3.7-linux-x86_64.egg/tyssue/topology/bulk_topology.py:416: UserWarning: Invalid topology for a HI transition, aborting\n",
      "  warnings.warn(\"Invalid topology for a HI transition, aborting\")\n",
      "/home/guillaume/miniconda3/envs/py37/lib/python3.7/site-packages/tyssue-0.3.3rc1-py3.7-linux-x86_64.egg/tyssue/topology/bulk_topology.py:416: UserWarning: Invalid topology for a HI transition, aborting\n",
      "  warnings.warn(\"Invalid topology for a HI transition, aborting\")\n",
      "/home/guillaume/miniconda3/envs/py37/lib/python3.7/site-packages/tyssue-0.3.3rc1-py3.7-linux-x86_64.egg/tyssue/topology/bulk_topology.py:416: UserWarning: Invalid topology for a HI transition, aborting\n",
      "  warnings.warn(\"Invalid topology for a HI transition, aborting\")\n",
      "/home/guillaume/miniconda3/envs/py37/lib/python3.7/site-packages/tyssue-0.3.3rc1-py3.7-linux-x86_64.egg/tyssue/topology/bulk_topology.py:416: UserWarning: Invalid topology for a HI transition, aborting\n",
      "  warnings.warn(\"Invalid topology for a HI transition, aborting\")\n",
      "/home/guillaume/miniconda3/envs/py37/lib/python3.7/site-packages/tyssue-0.3.3rc1-py3.7-linux-x86_64.egg/tyssue/topology/bulk_topology.py:416: UserWarning: Invalid topology for a HI transition, aborting\n",
      "  warnings.warn(\"Invalid topology for a HI transition, aborting\")\n",
      "/home/guillaume/miniconda3/envs/py37/lib/python3.7/site-packages/tyssue-0.3.3rc1-py3.7-linux-x86_64.egg/tyssue/topology/bulk_topology.py:416: UserWarning: Invalid topology for a HI transition, aborting\n",
      "  warnings.warn(\"Invalid topology for a HI transition, aborting\")\n",
      "/home/guillaume/miniconda3/envs/py37/lib/python3.7/site-packages/tyssue-0.3.3rc1-py3.7-linux-x86_64.egg/tyssue/topology/bulk_topology.py:416: UserWarning: Invalid topology for a HI transition, aborting\n",
      "  warnings.warn(\"Invalid topology for a HI transition, aborting\")\n",
      "/home/guillaume/miniconda3/envs/py37/lib/python3.7/site-packages/tyssue-0.3.3rc1-py3.7-linux-x86_64.egg/tyssue/topology/bulk_topology.py:416: UserWarning: Invalid topology for a HI transition, aborting\n",
      "  warnings.warn(\"Invalid topology for a HI transition, aborting\")\n",
      "/home/guillaume/miniconda3/envs/py37/lib/python3.7/site-packages/tyssue-0.3.3rc1-py3.7-linux-x86_64.egg/tyssue/topology/bulk_topology.py:416: UserWarning: Invalid topology for a HI transition, aborting\n",
      "  warnings.warn(\"Invalid topology for a HI transition, aborting\")\n",
      "/home/guillaume/miniconda3/envs/py37/lib/python3.7/site-packages/tyssue-0.3.3rc1-py3.7-linux-x86_64.egg/tyssue/topology/bulk_topology.py:416: UserWarning: Invalid topology for a HI transition, aborting\n",
      "  warnings.warn(\"Invalid topology for a HI transition, aborting\")\n",
      "Edge 354 has adjacent triangular faces can't perform IH transition, aborting\n"
     ]
    },
    {
     "name": "stdout",
     "output_type": "stream",
     "text": [
      "out T3 changed buffer\n",
      "T3\n"
     ]
    },
    {
     "name": "stderr",
     "output_type": "stream",
     "text": [
      "Edge 353 has adjacent triangular faces can't perform IH transition, aborting\n",
      "Edge 353 has adjacent triangular faces can't perform IH transition, aborting\n",
      "Edge 353 has adjacent triangular faces can't perform IH transition, aborting\n",
      "Edge 353 has adjacent triangular faces can't perform IH transition, aborting\n",
      "Edge 354 has adjacent triangular faces can't perform IH transition, aborting\n",
      "Edge 353 has adjacent triangular faces can't perform IH transition, aborting\n",
      "Edge 355 is not a valid junction to perform IH transition, aborting\n",
      "Edge 354 has adjacent triangular faces can't perform IH transition, aborting\n",
      "Edge 355 is not a valid junction to perform IH transition, aborting\n",
      "Edge 353 has adjacent triangular faces can't perform IH transition, aborting\n",
      "/home/guillaume/miniconda3/envs/py37/lib/python3.7/site-packages/tyssue-0.3.3rc1-py3.7-linux-x86_64.egg/tyssue/topology/bulk_topology.py:416: UserWarning: Invalid topology for a HI transition, aborting\n",
      "  warnings.warn(\"Invalid topology for a HI transition, aborting\")\n"
     ]
    },
    {
     "name": "stdout",
     "output_type": "stream",
     "text": [
      "out T1 changed buffer\n",
      "T1\n"
     ]
    },
    {
     "name": "stderr",
     "output_type": "stream",
     "text": [
      "/home/guillaume/miniconda3/envs/py37/lib/python3.7/site-packages/tyssue-0.3.3rc1-py3.7-linux-x86_64.egg/tyssue/topology/bulk_topology.py:416: UserWarning: Invalid topology for a HI transition, aborting\n",
      "  warnings.warn(\"Invalid topology for a HI transition, aborting\")\n",
      "/home/guillaume/miniconda3/envs/py37/lib/python3.7/site-packages/tyssue-0.3.3rc1-py3.7-linux-x86_64.egg/tyssue/topology/bulk_topology.py:416: UserWarning: Invalid topology for a HI transition, aborting\n",
      "  warnings.warn(\"Invalid topology for a HI transition, aborting\")\n",
      "/home/guillaume/miniconda3/envs/py37/lib/python3.7/site-packages/tyssue-0.3.3rc1-py3.7-linux-x86_64.egg/tyssue/topology/bulk_topology.py:416: UserWarning: Invalid topology for a HI transition, aborting\n",
      "  warnings.warn(\"Invalid topology for a HI transition, aborting\")\n",
      "/home/guillaume/miniconda3/envs/py37/lib/python3.7/site-packages/tyssue-0.3.3rc1-py3.7-linux-x86_64.egg/tyssue/topology/bulk_topology.py:416: UserWarning: Invalid topology for a HI transition, aborting\n",
      "  warnings.warn(\"Invalid topology for a HI transition, aborting\")\n",
      "/home/guillaume/miniconda3/envs/py37/lib/python3.7/site-packages/tyssue-0.3.3rc1-py3.7-linux-x86_64.egg/tyssue/topology/bulk_topology.py:416: UserWarning: Invalid topology for a HI transition, aborting\n",
      "  warnings.warn(\"Invalid topology for a HI transition, aborting\")\n",
      "/home/guillaume/miniconda3/envs/py37/lib/python3.7/site-packages/tyssue-0.3.3rc1-py3.7-linux-x86_64.egg/tyssue/topology/bulk_topology.py:416: UserWarning: Invalid topology for a HI transition, aborting\n",
      "  warnings.warn(\"Invalid topology for a HI transition, aborting\")\n",
      "/home/guillaume/miniconda3/envs/py37/lib/python3.7/site-packages/tyssue-0.3.3rc1-py3.7-linux-x86_64.egg/tyssue/topology/bulk_topology.py:416: UserWarning: Invalid topology for a HI transition, aborting\n",
      "  warnings.warn(\"Invalid topology for a HI transition, aborting\")\n",
      "/home/guillaume/miniconda3/envs/py37/lib/python3.7/site-packages/tyssue-0.3.3rc1-py3.7-linux-x86_64.egg/tyssue/topology/bulk_topology.py:416: UserWarning: Invalid topology for a HI transition, aborting\n",
      "  warnings.warn(\"Invalid topology for a HI transition, aborting\")\n",
      "/home/guillaume/miniconda3/envs/py37/lib/python3.7/site-packages/tyssue-0.3.3rc1-py3.7-linux-x86_64.egg/tyssue/topology/bulk_topology.py:416: UserWarning: Invalid topology for a HI transition, aborting\n",
      "  warnings.warn(\"Invalid topology for a HI transition, aborting\")\n",
      "/home/guillaume/miniconda3/envs/py37/lib/python3.7/site-packages/tyssue-0.3.3rc1-py3.7-linux-x86_64.egg/tyssue/topology/bulk_topology.py:416: UserWarning: Invalid topology for a HI transition, aborting\n",
      "  warnings.warn(\"Invalid topology for a HI transition, aborting\")\n",
      "Edge 353 has adjacent triangular faces can't perform IH transition, aborting\n"
     ]
    },
    {
     "name": "stdout",
     "output_type": "stream",
     "text": [
      "out T3 changed buffer\n",
      "T3\n"
     ]
    },
    {
     "name": "stderr",
     "output_type": "stream",
     "text": [
      "Edge 354 has adjacent triangular faces can't perform IH transition, aborting\n",
      "Edge 353 has adjacent triangular faces can't perform IH transition, aborting\n",
      "Edge 354 has adjacent triangular faces can't perform IH transition, aborting\n",
      "Edge 353 has adjacent triangular faces can't perform IH transition, aborting\n",
      "Edge 354 has adjacent triangular faces can't perform IH transition, aborting\n",
      "Edge 353 has adjacent triangular faces can't perform IH transition, aborting\n",
      "Edge 354 has adjacent triangular faces can't perform IH transition, aborting\n",
      "Edge 354 has adjacent triangular faces can't perform IH transition, aborting\n",
      "Edge 355 is not a valid junction to perform IH transition, aborting\n",
      "Edge 353 has adjacent triangular faces can't perform IH transition, aborting\n",
      "/home/guillaume/miniconda3/envs/py37/lib/python3.7/site-packages/tyssue-0.3.3rc1-py3.7-linux-x86_64.egg/tyssue/topology/bulk_topology.py:416: UserWarning: Invalid topology for a HI transition, aborting\n",
      "  warnings.warn(\"Invalid topology for a HI transition, aborting\")\n"
     ]
    },
    {
     "name": "stdout",
     "output_type": "stream",
     "text": [
      "out T1 changed buffer\n",
      "T1\n"
     ]
    },
    {
     "name": "stderr",
     "output_type": "stream",
     "text": [
      "/home/guillaume/miniconda3/envs/py37/lib/python3.7/site-packages/tyssue-0.3.3rc1-py3.7-linux-x86_64.egg/tyssue/topology/bulk_topology.py:416: UserWarning: Invalid topology for a HI transition, aborting\n",
      "  warnings.warn(\"Invalid topology for a HI transition, aborting\")\n",
      "/home/guillaume/miniconda3/envs/py37/lib/python3.7/site-packages/tyssue-0.3.3rc1-py3.7-linux-x86_64.egg/tyssue/topology/bulk_topology.py:416: UserWarning: Invalid topology for a HI transition, aborting\n",
      "  warnings.warn(\"Invalid topology for a HI transition, aborting\")\n",
      "/home/guillaume/miniconda3/envs/py37/lib/python3.7/site-packages/tyssue-0.3.3rc1-py3.7-linux-x86_64.egg/tyssue/topology/bulk_topology.py:416: UserWarning: Invalid topology for a HI transition, aborting\n",
      "  warnings.warn(\"Invalid topology for a HI transition, aborting\")\n",
      "/home/guillaume/miniconda3/envs/py37/lib/python3.7/site-packages/tyssue-0.3.3rc1-py3.7-linux-x86_64.egg/tyssue/topology/bulk_topology.py:416: UserWarning: Invalid topology for a HI transition, aborting\n",
      "  warnings.warn(\"Invalid topology for a HI transition, aborting\")\n",
      "/home/guillaume/miniconda3/envs/py37/lib/python3.7/site-packages/tyssue-0.3.3rc1-py3.7-linux-x86_64.egg/tyssue/topology/bulk_topology.py:416: UserWarning: Invalid topology for a HI transition, aborting\n",
      "  warnings.warn(\"Invalid topology for a HI transition, aborting\")\n",
      "/home/guillaume/miniconda3/envs/py37/lib/python3.7/site-packages/tyssue-0.3.3rc1-py3.7-linux-x86_64.egg/tyssue/topology/bulk_topology.py:416: UserWarning: Invalid topology for a HI transition, aborting\n",
      "  warnings.warn(\"Invalid topology for a HI transition, aborting\")\n",
      "/home/guillaume/miniconda3/envs/py37/lib/python3.7/site-packages/tyssue-0.3.3rc1-py3.7-linux-x86_64.egg/tyssue/topology/bulk_topology.py:416: UserWarning: Invalid topology for a HI transition, aborting\n",
      "  warnings.warn(\"Invalid topology for a HI transition, aborting\")\n",
      "/home/guillaume/miniconda3/envs/py37/lib/python3.7/site-packages/tyssue-0.3.3rc1-py3.7-linux-x86_64.egg/tyssue/topology/bulk_topology.py:416: UserWarning: Invalid topology for a HI transition, aborting\n",
      "  warnings.warn(\"Invalid topology for a HI transition, aborting\")\n",
      "/home/guillaume/miniconda3/envs/py37/lib/python3.7/site-packages/tyssue-0.3.3rc1-py3.7-linux-x86_64.egg/tyssue/topology/bulk_topology.py:416: UserWarning: Invalid topology for a HI transition, aborting\n",
      "  warnings.warn(\"Invalid topology for a HI transition, aborting\")\n",
      "/home/guillaume/miniconda3/envs/py37/lib/python3.7/site-packages/tyssue-0.3.3rc1-py3.7-linux-x86_64.egg/tyssue/topology/bulk_topology.py:416: UserWarning: Invalid topology for a HI transition, aborting\n",
      "  warnings.warn(\"Invalid topology for a HI transition, aborting\")\n",
      "Edge 354 has adjacent triangular faces can't perform IH transition, aborting\n"
     ]
    },
    {
     "name": "stdout",
     "output_type": "stream",
     "text": [
      "out T3 changed buffer\n",
      "T3\n"
     ]
    },
    {
     "name": "stderr",
     "output_type": "stream",
     "text": [
      "Edge 354 has adjacent triangular faces can't perform IH transition, aborting\n",
      "Edge 355 is not a valid junction to perform IH transition, aborting\n",
      "Edge 354 has adjacent triangular faces can't perform IH transition, aborting\n",
      "Edge 353 has adjacent triangular faces can't perform IH transition, aborting\n",
      "Edge 353 has adjacent triangular faces can't perform IH transition, aborting\n",
      "Edge 353 has adjacent triangular faces can't perform IH transition, aborting\n",
      "Edge 354 has adjacent triangular faces can't perform IH transition, aborting\n",
      "Edge 354 has adjacent triangular faces can't perform IH transition, aborting\n",
      "Edge 354 has adjacent triangular faces can't perform IH transition, aborting\n",
      "Edge 353 has adjacent triangular faces can't perform IH transition, aborting\n",
      "/home/guillaume/miniconda3/envs/py37/lib/python3.7/site-packages/tyssue-0.3.3rc1-py3.7-linux-x86_64.egg/tyssue/topology/bulk_topology.py:416: UserWarning: Invalid topology for a HI transition, aborting\n",
      "  warnings.warn(\"Invalid topology for a HI transition, aborting\")\n"
     ]
    },
    {
     "name": "stdout",
     "output_type": "stream",
     "text": [
      "out T1 changed buffer\n",
      "T1\n"
     ]
    },
    {
     "name": "stderr",
     "output_type": "stream",
     "text": [
      "/home/guillaume/miniconda3/envs/py37/lib/python3.7/site-packages/tyssue-0.3.3rc1-py3.7-linux-x86_64.egg/tyssue/topology/bulk_topology.py:416: UserWarning: Invalid topology for a HI transition, aborting\n",
      "  warnings.warn(\"Invalid topology for a HI transition, aborting\")\n",
      "/home/guillaume/miniconda3/envs/py37/lib/python3.7/site-packages/tyssue-0.3.3rc1-py3.7-linux-x86_64.egg/tyssue/topology/bulk_topology.py:416: UserWarning: Invalid topology for a HI transition, aborting\n",
      "  warnings.warn(\"Invalid topology for a HI transition, aborting\")\n",
      "/home/guillaume/miniconda3/envs/py37/lib/python3.7/site-packages/tyssue-0.3.3rc1-py3.7-linux-x86_64.egg/tyssue/topology/bulk_topology.py:416: UserWarning: Invalid topology for a HI transition, aborting\n",
      "  warnings.warn(\"Invalid topology for a HI transition, aborting\")\n",
      "/home/guillaume/miniconda3/envs/py37/lib/python3.7/site-packages/tyssue-0.3.3rc1-py3.7-linux-x86_64.egg/tyssue/topology/bulk_topology.py:416: UserWarning: Invalid topology for a HI transition, aborting\n",
      "  warnings.warn(\"Invalid topology for a HI transition, aborting\")\n",
      "/home/guillaume/miniconda3/envs/py37/lib/python3.7/site-packages/tyssue-0.3.3rc1-py3.7-linux-x86_64.egg/tyssue/topology/bulk_topology.py:416: UserWarning: Invalid topology for a HI transition, aborting\n",
      "  warnings.warn(\"Invalid topology for a HI transition, aborting\")\n",
      "/home/guillaume/miniconda3/envs/py37/lib/python3.7/site-packages/tyssue-0.3.3rc1-py3.7-linux-x86_64.egg/tyssue/topology/bulk_topology.py:416: UserWarning: Invalid topology for a HI transition, aborting\n",
      "  warnings.warn(\"Invalid topology for a HI transition, aborting\")\n",
      "/home/guillaume/miniconda3/envs/py37/lib/python3.7/site-packages/tyssue-0.3.3rc1-py3.7-linux-x86_64.egg/tyssue/topology/bulk_topology.py:416: UserWarning: Invalid topology for a HI transition, aborting\n",
      "  warnings.warn(\"Invalid topology for a HI transition, aborting\")\n",
      "/home/guillaume/miniconda3/envs/py37/lib/python3.7/site-packages/tyssue-0.3.3rc1-py3.7-linux-x86_64.egg/tyssue/topology/bulk_topology.py:416: UserWarning: Invalid topology for a HI transition, aborting\n",
      "  warnings.warn(\"Invalid topology for a HI transition, aborting\")\n",
      "/home/guillaume/miniconda3/envs/py37/lib/python3.7/site-packages/tyssue-0.3.3rc1-py3.7-linux-x86_64.egg/tyssue/topology/bulk_topology.py:416: UserWarning: Invalid topology for a HI transition, aborting\n",
      "  warnings.warn(\"Invalid topology for a HI transition, aborting\")\n",
      "/home/guillaume/miniconda3/envs/py37/lib/python3.7/site-packages/tyssue-0.3.3rc1-py3.7-linux-x86_64.egg/tyssue/topology/bulk_topology.py:416: UserWarning: Invalid topology for a HI transition, aborting\n",
      "  warnings.warn(\"Invalid topology for a HI transition, aborting\")\n",
      "Edge 355 is not a valid junction to perform IH transition, aborting\n"
     ]
    },
    {
     "name": "stdout",
     "output_type": "stream",
     "text": [
      "out T3 changed buffer\n",
      "T3\n"
     ]
    },
    {
     "name": "stderr",
     "output_type": "stream",
     "text": [
      "Edge 354 has adjacent triangular faces can't perform IH transition, aborting\n",
      "Edge 354 has adjacent triangular faces can't perform IH transition, aborting\n",
      "Edge 355 is not a valid junction to perform IH transition, aborting\n",
      "Edge 354 has adjacent triangular faces can't perform IH transition, aborting\n",
      "Edge 354 has adjacent triangular faces can't perform IH transition, aborting\n",
      "Edge 355 is not a valid junction to perform IH transition, aborting\n",
      "Edge 353 has adjacent triangular faces can't perform IH transition, aborting\n",
      "Edge 353 has adjacent triangular faces can't perform IH transition, aborting\n",
      "Edge 355 is not a valid junction to perform IH transition, aborting\n",
      "Edge 353 has adjacent triangular faces can't perform IH transition, aborting\n",
      "/home/guillaume/miniconda3/envs/py37/lib/python3.7/site-packages/tyssue-0.3.3rc1-py3.7-linux-x86_64.egg/tyssue/topology/bulk_topology.py:416: UserWarning: Invalid topology for a HI transition, aborting\n",
      "  warnings.warn(\"Invalid topology for a HI transition, aborting\")\n"
     ]
    },
    {
     "name": "stdout",
     "output_type": "stream",
     "text": [
      "out T1 changed buffer\n",
      "T1\n"
     ]
    },
    {
     "name": "stderr",
     "output_type": "stream",
     "text": [
      "/home/guillaume/miniconda3/envs/py37/lib/python3.7/site-packages/tyssue-0.3.3rc1-py3.7-linux-x86_64.egg/tyssue/topology/bulk_topology.py:416: UserWarning: Invalid topology for a HI transition, aborting\n",
      "  warnings.warn(\"Invalid topology for a HI transition, aborting\")\n",
      "/home/guillaume/miniconda3/envs/py37/lib/python3.7/site-packages/tyssue-0.3.3rc1-py3.7-linux-x86_64.egg/tyssue/topology/bulk_topology.py:416: UserWarning: Invalid topology for a HI transition, aborting\n",
      "  warnings.warn(\"Invalid topology for a HI transition, aborting\")\n",
      "/home/guillaume/miniconda3/envs/py37/lib/python3.7/site-packages/tyssue-0.3.3rc1-py3.7-linux-x86_64.egg/tyssue/topology/bulk_topology.py:416: UserWarning: Invalid topology for a HI transition, aborting\n",
      "  warnings.warn(\"Invalid topology for a HI transition, aborting\")\n",
      "/home/guillaume/miniconda3/envs/py37/lib/python3.7/site-packages/tyssue-0.3.3rc1-py3.7-linux-x86_64.egg/tyssue/topology/bulk_topology.py:416: UserWarning: Invalid topology for a HI transition, aborting\n",
      "  warnings.warn(\"Invalid topology for a HI transition, aborting\")\n",
      "/home/guillaume/miniconda3/envs/py37/lib/python3.7/site-packages/tyssue-0.3.3rc1-py3.7-linux-x86_64.egg/tyssue/topology/bulk_topology.py:416: UserWarning: Invalid topology for a HI transition, aborting\n",
      "  warnings.warn(\"Invalid topology for a HI transition, aborting\")\n",
      "/home/guillaume/miniconda3/envs/py37/lib/python3.7/site-packages/tyssue-0.3.3rc1-py3.7-linux-x86_64.egg/tyssue/topology/bulk_topology.py:416: UserWarning: Invalid topology for a HI transition, aborting\n",
      "  warnings.warn(\"Invalid topology for a HI transition, aborting\")\n",
      "/home/guillaume/miniconda3/envs/py37/lib/python3.7/site-packages/tyssue-0.3.3rc1-py3.7-linux-x86_64.egg/tyssue/topology/bulk_topology.py:416: UserWarning: Invalid topology for a HI transition, aborting\n",
      "  warnings.warn(\"Invalid topology for a HI transition, aborting\")\n",
      "/home/guillaume/miniconda3/envs/py37/lib/python3.7/site-packages/tyssue-0.3.3rc1-py3.7-linux-x86_64.egg/tyssue/topology/bulk_topology.py:416: UserWarning: Invalid topology for a HI transition, aborting\n",
      "  warnings.warn(\"Invalid topology for a HI transition, aborting\")\n",
      "/home/guillaume/miniconda3/envs/py37/lib/python3.7/site-packages/tyssue-0.3.3rc1-py3.7-linux-x86_64.egg/tyssue/topology/bulk_topology.py:416: UserWarning: Invalid topology for a HI transition, aborting\n",
      "  warnings.warn(\"Invalid topology for a HI transition, aborting\")\n",
      "/home/guillaume/miniconda3/envs/py37/lib/python3.7/site-packages/tyssue-0.3.3rc1-py3.7-linux-x86_64.egg/tyssue/topology/bulk_topology.py:416: UserWarning: Invalid topology for a HI transition, aborting\n",
      "  warnings.warn(\"Invalid topology for a HI transition, aborting\")\n",
      "Edge 354 has adjacent triangular faces can't perform IH transition, aborting\n"
     ]
    },
    {
     "name": "stdout",
     "output_type": "stream",
     "text": [
      "out T3 changed buffer\n",
      "T3\n"
     ]
    },
    {
     "name": "stderr",
     "output_type": "stream",
     "text": [
      "Edge 355 is not a valid junction to perform IH transition, aborting\n",
      "Edge 353 has adjacent triangular faces can't perform IH transition, aborting\n",
      "Edge 353 has adjacent triangular faces can't perform IH transition, aborting\n",
      "Edge 355 is not a valid junction to perform IH transition, aborting\n",
      "Edge 354 has adjacent triangular faces can't perform IH transition, aborting\n",
      "Edge 353 has adjacent triangular faces can't perform IH transition, aborting\n",
      "Edge 353 has adjacent triangular faces can't perform IH transition, aborting\n",
      "Edge 353 has adjacent triangular faces can't perform IH transition, aborting\n",
      "Edge 354 has adjacent triangular faces can't perform IH transition, aborting\n",
      "Edge 354 has adjacent triangular faces can't perform IH transition, aborting\n",
      "/home/guillaume/miniconda3/envs/py37/lib/python3.7/site-packages/tyssue-0.3.3rc1-py3.7-linux-x86_64.egg/tyssue/topology/bulk_topology.py:416: UserWarning: Invalid topology for a HI transition, aborting\n",
      "  warnings.warn(\"Invalid topology for a HI transition, aborting\")\n"
     ]
    },
    {
     "name": "stdout",
     "output_type": "stream",
     "text": [
      "out T1 changed buffer\n",
      "T1\n"
     ]
    },
    {
     "name": "stderr",
     "output_type": "stream",
     "text": [
      "/home/guillaume/miniconda3/envs/py37/lib/python3.7/site-packages/tyssue-0.3.3rc1-py3.7-linux-x86_64.egg/tyssue/topology/bulk_topology.py:416: UserWarning: Invalid topology for a HI transition, aborting\n",
      "  warnings.warn(\"Invalid topology for a HI transition, aborting\")\n",
      "/home/guillaume/miniconda3/envs/py37/lib/python3.7/site-packages/tyssue-0.3.3rc1-py3.7-linux-x86_64.egg/tyssue/topology/bulk_topology.py:416: UserWarning: Invalid topology for a HI transition, aborting\n",
      "  warnings.warn(\"Invalid topology for a HI transition, aborting\")\n",
      "/home/guillaume/miniconda3/envs/py37/lib/python3.7/site-packages/tyssue-0.3.3rc1-py3.7-linux-x86_64.egg/tyssue/topology/bulk_topology.py:416: UserWarning: Invalid topology for a HI transition, aborting\n",
      "  warnings.warn(\"Invalid topology for a HI transition, aborting\")\n",
      "/home/guillaume/miniconda3/envs/py37/lib/python3.7/site-packages/tyssue-0.3.3rc1-py3.7-linux-x86_64.egg/tyssue/topology/bulk_topology.py:416: UserWarning: Invalid topology for a HI transition, aborting\n",
      "  warnings.warn(\"Invalid topology for a HI transition, aborting\")\n",
      "/home/guillaume/miniconda3/envs/py37/lib/python3.7/site-packages/tyssue-0.3.3rc1-py3.7-linux-x86_64.egg/tyssue/topology/bulk_topology.py:416: UserWarning: Invalid topology for a HI transition, aborting\n",
      "  warnings.warn(\"Invalid topology for a HI transition, aborting\")\n",
      "/home/guillaume/miniconda3/envs/py37/lib/python3.7/site-packages/tyssue-0.3.3rc1-py3.7-linux-x86_64.egg/tyssue/topology/bulk_topology.py:416: UserWarning: Invalid topology for a HI transition, aborting\n",
      "  warnings.warn(\"Invalid topology for a HI transition, aborting\")\n",
      "/home/guillaume/miniconda3/envs/py37/lib/python3.7/site-packages/tyssue-0.3.3rc1-py3.7-linux-x86_64.egg/tyssue/topology/bulk_topology.py:416: UserWarning: Invalid topology for a HI transition, aborting\n",
      "  warnings.warn(\"Invalid topology for a HI transition, aborting\")\n",
      "/home/guillaume/miniconda3/envs/py37/lib/python3.7/site-packages/tyssue-0.3.3rc1-py3.7-linux-x86_64.egg/tyssue/topology/bulk_topology.py:416: UserWarning: Invalid topology for a HI transition, aborting\n",
      "  warnings.warn(\"Invalid topology for a HI transition, aborting\")\n",
      "/home/guillaume/miniconda3/envs/py37/lib/python3.7/site-packages/tyssue-0.3.3rc1-py3.7-linux-x86_64.egg/tyssue/topology/bulk_topology.py:416: UserWarning: Invalid topology for a HI transition, aborting\n",
      "  warnings.warn(\"Invalid topology for a HI transition, aborting\")\n",
      "/home/guillaume/miniconda3/envs/py37/lib/python3.7/site-packages/tyssue-0.3.3rc1-py3.7-linux-x86_64.egg/tyssue/topology/bulk_topology.py:416: UserWarning: Invalid topology for a HI transition, aborting\n",
      "  warnings.warn(\"Invalid topology for a HI transition, aborting\")\n",
      "Edge 355 is not a valid junction to perform IH transition, aborting\n"
     ]
    },
    {
     "name": "stdout",
     "output_type": "stream",
     "text": [
      "out T3 changed buffer\n",
      "T3\n"
     ]
    },
    {
     "name": "stderr",
     "output_type": "stream",
     "text": [
      "Edge 354 has adjacent triangular faces can't perform IH transition, aborting\n",
      "Edge 355 is not a valid junction to perform IH transition, aborting\n",
      "Edge 354 has adjacent triangular faces can't perform IH transition, aborting\n",
      "Edge 353 has adjacent triangular faces can't perform IH transition, aborting\n",
      "Edge 353 has adjacent triangular faces can't perform IH transition, aborting\n",
      "Edge 355 is not a valid junction to perform IH transition, aborting\n",
      "Edge 354 has adjacent triangular faces can't perform IH transition, aborting\n",
      "Edge 353 has adjacent triangular faces can't perform IH transition, aborting\n",
      "Edge 354 has adjacent triangular faces can't perform IH transition, aborting\n",
      "Edge 353 has adjacent triangular faces can't perform IH transition, aborting\n",
      "/home/guillaume/miniconda3/envs/py37/lib/python3.7/site-packages/tyssue-0.3.3rc1-py3.7-linux-x86_64.egg/tyssue/topology/bulk_topology.py:416: UserWarning: Invalid topology for a HI transition, aborting\n",
      "  warnings.warn(\"Invalid topology for a HI transition, aborting\")\n"
     ]
    },
    {
     "name": "stdout",
     "output_type": "stream",
     "text": [
      "out T1 changed buffer\n",
      "T1\n"
     ]
    },
    {
     "name": "stderr",
     "output_type": "stream",
     "text": [
      "/home/guillaume/miniconda3/envs/py37/lib/python3.7/site-packages/tyssue-0.3.3rc1-py3.7-linux-x86_64.egg/tyssue/topology/bulk_topology.py:416: UserWarning: Invalid topology for a HI transition, aborting\n",
      "  warnings.warn(\"Invalid topology for a HI transition, aborting\")\n",
      "/home/guillaume/miniconda3/envs/py37/lib/python3.7/site-packages/tyssue-0.3.3rc1-py3.7-linux-x86_64.egg/tyssue/topology/bulk_topology.py:416: UserWarning: Invalid topology for a HI transition, aborting\n",
      "  warnings.warn(\"Invalid topology for a HI transition, aborting\")\n",
      "/home/guillaume/miniconda3/envs/py37/lib/python3.7/site-packages/tyssue-0.3.3rc1-py3.7-linux-x86_64.egg/tyssue/topology/bulk_topology.py:416: UserWarning: Invalid topology for a HI transition, aborting\n",
      "  warnings.warn(\"Invalid topology for a HI transition, aborting\")\n",
      "/home/guillaume/miniconda3/envs/py37/lib/python3.7/site-packages/tyssue-0.3.3rc1-py3.7-linux-x86_64.egg/tyssue/topology/bulk_topology.py:416: UserWarning: Invalid topology for a HI transition, aborting\n",
      "  warnings.warn(\"Invalid topology for a HI transition, aborting\")\n",
      "/home/guillaume/miniconda3/envs/py37/lib/python3.7/site-packages/tyssue-0.3.3rc1-py3.7-linux-x86_64.egg/tyssue/topology/bulk_topology.py:416: UserWarning: Invalid topology for a HI transition, aborting\n",
      "  warnings.warn(\"Invalid topology for a HI transition, aborting\")\n",
      "/home/guillaume/miniconda3/envs/py37/lib/python3.7/site-packages/tyssue-0.3.3rc1-py3.7-linux-x86_64.egg/tyssue/topology/bulk_topology.py:416: UserWarning: Invalid topology for a HI transition, aborting\n",
      "  warnings.warn(\"Invalid topology for a HI transition, aborting\")\n",
      "/home/guillaume/miniconda3/envs/py37/lib/python3.7/site-packages/tyssue-0.3.3rc1-py3.7-linux-x86_64.egg/tyssue/topology/bulk_topology.py:416: UserWarning: Invalid topology for a HI transition, aborting\n",
      "  warnings.warn(\"Invalid topology for a HI transition, aborting\")\n",
      "/home/guillaume/miniconda3/envs/py37/lib/python3.7/site-packages/tyssue-0.3.3rc1-py3.7-linux-x86_64.egg/tyssue/topology/bulk_topology.py:416: UserWarning: Invalid topology for a HI transition, aborting\n",
      "  warnings.warn(\"Invalid topology for a HI transition, aborting\")\n",
      "/home/guillaume/miniconda3/envs/py37/lib/python3.7/site-packages/tyssue-0.3.3rc1-py3.7-linux-x86_64.egg/tyssue/topology/bulk_topology.py:416: UserWarning: Invalid topology for a HI transition, aborting\n",
      "  warnings.warn(\"Invalid topology for a HI transition, aborting\")\n",
      "/home/guillaume/miniconda3/envs/py37/lib/python3.7/site-packages/tyssue-0.3.3rc1-py3.7-linux-x86_64.egg/tyssue/topology/bulk_topology.py:416: UserWarning: Invalid topology for a HI transition, aborting\n",
      "  warnings.warn(\"Invalid topology for a HI transition, aborting\")\n",
      "Edge 355 is not a valid junction to perform IH transition, aborting\n"
     ]
    },
    {
     "name": "stdout",
     "output_type": "stream",
     "text": [
      "out T3 changed buffer\n",
      "T3\n"
     ]
    },
    {
     "name": "stderr",
     "output_type": "stream",
     "text": [
      "Edge 353 has adjacent triangular faces can't perform IH transition, aborting\n",
      "Edge 353 has adjacent triangular faces can't perform IH transition, aborting\n",
      "Edge 355 is not a valid junction to perform IH transition, aborting\n",
      "Edge 354 has adjacent triangular faces can't perform IH transition, aborting\n",
      "Edge 355 is not a valid junction to perform IH transition, aborting\n",
      "Edge 354 has adjacent triangular faces can't perform IH transition, aborting\n",
      "Edge 354 has adjacent triangular faces can't perform IH transition, aborting\n",
      "Edge 354 has adjacent triangular faces can't perform IH transition, aborting\n",
      "Edge 355 is not a valid junction to perform IH transition, aborting\n",
      "Edge 353 has adjacent triangular faces can't perform IH transition, aborting\n",
      "/home/guillaume/miniconda3/envs/py37/lib/python3.7/site-packages/tyssue-0.3.3rc1-py3.7-linux-x86_64.egg/tyssue/topology/bulk_topology.py:416: UserWarning: Invalid topology for a HI transition, aborting\n",
      "  warnings.warn(\"Invalid topology for a HI transition, aborting\")\n"
     ]
    },
    {
     "name": "stdout",
     "output_type": "stream",
     "text": [
      "out T1 changed buffer\n",
      "T1\n"
     ]
    },
    {
     "name": "stderr",
     "output_type": "stream",
     "text": [
      "/home/guillaume/miniconda3/envs/py37/lib/python3.7/site-packages/tyssue-0.3.3rc1-py3.7-linux-x86_64.egg/tyssue/topology/bulk_topology.py:416: UserWarning: Invalid topology for a HI transition, aborting\n",
      "  warnings.warn(\"Invalid topology for a HI transition, aborting\")\n",
      "/home/guillaume/miniconda3/envs/py37/lib/python3.7/site-packages/tyssue-0.3.3rc1-py3.7-linux-x86_64.egg/tyssue/topology/bulk_topology.py:416: UserWarning: Invalid topology for a HI transition, aborting\n",
      "  warnings.warn(\"Invalid topology for a HI transition, aborting\")\n",
      "/home/guillaume/miniconda3/envs/py37/lib/python3.7/site-packages/tyssue-0.3.3rc1-py3.7-linux-x86_64.egg/tyssue/topology/bulk_topology.py:416: UserWarning: Invalid topology for a HI transition, aborting\n",
      "  warnings.warn(\"Invalid topology for a HI transition, aborting\")\n",
      "/home/guillaume/miniconda3/envs/py37/lib/python3.7/site-packages/tyssue-0.3.3rc1-py3.7-linux-x86_64.egg/tyssue/topology/bulk_topology.py:416: UserWarning: Invalid topology for a HI transition, aborting\n",
      "  warnings.warn(\"Invalid topology for a HI transition, aborting\")\n",
      "/home/guillaume/miniconda3/envs/py37/lib/python3.7/site-packages/tyssue-0.3.3rc1-py3.7-linux-x86_64.egg/tyssue/topology/bulk_topology.py:416: UserWarning: Invalid topology for a HI transition, aborting\n",
      "  warnings.warn(\"Invalid topology for a HI transition, aborting\")\n",
      "/home/guillaume/miniconda3/envs/py37/lib/python3.7/site-packages/tyssue-0.3.3rc1-py3.7-linux-x86_64.egg/tyssue/topology/bulk_topology.py:416: UserWarning: Invalid topology for a HI transition, aborting\n",
      "  warnings.warn(\"Invalid topology for a HI transition, aborting\")\n",
      "/home/guillaume/miniconda3/envs/py37/lib/python3.7/site-packages/tyssue-0.3.3rc1-py3.7-linux-x86_64.egg/tyssue/topology/bulk_topology.py:416: UserWarning: Invalid topology for a HI transition, aborting\n",
      "  warnings.warn(\"Invalid topology for a HI transition, aborting\")\n",
      "/home/guillaume/miniconda3/envs/py37/lib/python3.7/site-packages/tyssue-0.3.3rc1-py3.7-linux-x86_64.egg/tyssue/topology/bulk_topology.py:416: UserWarning: Invalid topology for a HI transition, aborting\n",
      "  warnings.warn(\"Invalid topology for a HI transition, aborting\")\n",
      "/home/guillaume/miniconda3/envs/py37/lib/python3.7/site-packages/tyssue-0.3.3rc1-py3.7-linux-x86_64.egg/tyssue/topology/bulk_topology.py:416: UserWarning: Invalid topology for a HI transition, aborting\n",
      "  warnings.warn(\"Invalid topology for a HI transition, aborting\")\n",
      "/home/guillaume/miniconda3/envs/py37/lib/python3.7/site-packages/tyssue-0.3.3rc1-py3.7-linux-x86_64.egg/tyssue/topology/bulk_topology.py:416: UserWarning: Invalid topology for a HI transition, aborting\n",
      "  warnings.warn(\"Invalid topology for a HI transition, aborting\")\n",
      "Edge 353 has adjacent triangular faces can't perform IH transition, aborting\n"
     ]
    },
    {
     "name": "stdout",
     "output_type": "stream",
     "text": [
      "out T3 changed buffer\n",
      "T3\n"
     ]
    },
    {
     "name": "stderr",
     "output_type": "stream",
     "text": [
      "Edge 354 has adjacent triangular faces can't perform IH transition, aborting\n",
      "Edge 353 has adjacent triangular faces can't perform IH transition, aborting\n",
      "Edge 354 has adjacent triangular faces can't perform IH transition, aborting\n",
      "Edge 353 has adjacent triangular faces can't perform IH transition, aborting\n",
      "Edge 355 is not a valid junction to perform IH transition, aborting\n",
      "Edge 353 has adjacent triangular faces can't perform IH transition, aborting\n",
      "Edge 355 is not a valid junction to perform IH transition, aborting\n",
      "Edge 353 has adjacent triangular faces can't perform IH transition, aborting\n",
      "Edge 353 has adjacent triangular faces can't perform IH transition, aborting\n",
      "Edge 355 is not a valid junction to perform IH transition, aborting\n",
      "/home/guillaume/miniconda3/envs/py37/lib/python3.7/site-packages/tyssue-0.3.3rc1-py3.7-linux-x86_64.egg/tyssue/topology/bulk_topology.py:416: UserWarning: Invalid topology for a HI transition, aborting\n",
      "  warnings.warn(\"Invalid topology for a HI transition, aborting\")\n"
     ]
    },
    {
     "name": "stdout",
     "output_type": "stream",
     "text": [
      "out T1 changed buffer\n",
      "T1\n"
     ]
    },
    {
     "name": "stderr",
     "output_type": "stream",
     "text": [
      "/home/guillaume/miniconda3/envs/py37/lib/python3.7/site-packages/tyssue-0.3.3rc1-py3.7-linux-x86_64.egg/tyssue/topology/bulk_topology.py:416: UserWarning: Invalid topology for a HI transition, aborting\n",
      "  warnings.warn(\"Invalid topology for a HI transition, aborting\")\n",
      "/home/guillaume/miniconda3/envs/py37/lib/python3.7/site-packages/tyssue-0.3.3rc1-py3.7-linux-x86_64.egg/tyssue/topology/bulk_topology.py:416: UserWarning: Invalid topology for a HI transition, aborting\n",
      "  warnings.warn(\"Invalid topology for a HI transition, aborting\")\n",
      "/home/guillaume/miniconda3/envs/py37/lib/python3.7/site-packages/tyssue-0.3.3rc1-py3.7-linux-x86_64.egg/tyssue/topology/bulk_topology.py:416: UserWarning: Invalid topology for a HI transition, aborting\n",
      "  warnings.warn(\"Invalid topology for a HI transition, aborting\")\n",
      "/home/guillaume/miniconda3/envs/py37/lib/python3.7/site-packages/tyssue-0.3.3rc1-py3.7-linux-x86_64.egg/tyssue/topology/bulk_topology.py:416: UserWarning: Invalid topology for a HI transition, aborting\n",
      "  warnings.warn(\"Invalid topology for a HI transition, aborting\")\n",
      "/home/guillaume/miniconda3/envs/py37/lib/python3.7/site-packages/tyssue-0.3.3rc1-py3.7-linux-x86_64.egg/tyssue/topology/bulk_topology.py:416: UserWarning: Invalid topology for a HI transition, aborting\n",
      "  warnings.warn(\"Invalid topology for a HI transition, aborting\")\n",
      "/home/guillaume/miniconda3/envs/py37/lib/python3.7/site-packages/tyssue-0.3.3rc1-py3.7-linux-x86_64.egg/tyssue/topology/bulk_topology.py:416: UserWarning: Invalid topology for a HI transition, aborting\n",
      "  warnings.warn(\"Invalid topology for a HI transition, aborting\")\n",
      "/home/guillaume/miniconda3/envs/py37/lib/python3.7/site-packages/tyssue-0.3.3rc1-py3.7-linux-x86_64.egg/tyssue/topology/bulk_topology.py:416: UserWarning: Invalid topology for a HI transition, aborting\n",
      "  warnings.warn(\"Invalid topology for a HI transition, aborting\")\n",
      "/home/guillaume/miniconda3/envs/py37/lib/python3.7/site-packages/tyssue-0.3.3rc1-py3.7-linux-x86_64.egg/tyssue/topology/bulk_topology.py:416: UserWarning: Invalid topology for a HI transition, aborting\n",
      "  warnings.warn(\"Invalid topology for a HI transition, aborting\")\n",
      "/home/guillaume/miniconda3/envs/py37/lib/python3.7/site-packages/tyssue-0.3.3rc1-py3.7-linux-x86_64.egg/tyssue/topology/bulk_topology.py:416: UserWarning: Invalid topology for a HI transition, aborting\n",
      "  warnings.warn(\"Invalid topology for a HI transition, aborting\")\n",
      "/home/guillaume/miniconda3/envs/py37/lib/python3.7/site-packages/tyssue-0.3.3rc1-py3.7-linux-x86_64.egg/tyssue/topology/bulk_topology.py:416: UserWarning: Invalid topology for a HI transition, aborting\n",
      "  warnings.warn(\"Invalid topology for a HI transition, aborting\")\n",
      "Edge 354 has adjacent triangular faces can't perform IH transition, aborting\n"
     ]
    },
    {
     "name": "stdout",
     "output_type": "stream",
     "text": [
      "out T3 changed buffer\n",
      "T3\n"
     ]
    },
    {
     "name": "stderr",
     "output_type": "stream",
     "text": [
      "Edge 353 has adjacent triangular faces can't perform IH transition, aborting\n",
      "Edge 354 has adjacent triangular faces can't perform IH transition, aborting\n",
      "Edge 354 has adjacent triangular faces can't perform IH transition, aborting\n",
      "Edge 353 has adjacent triangular faces can't perform IH transition, aborting\n",
      "Edge 355 is not a valid junction to perform IH transition, aborting\n",
      "Edge 354 has adjacent triangular faces can't perform IH transition, aborting\n",
      "Edge 355 is not a valid junction to perform IH transition, aborting\n",
      "Edge 354 has adjacent triangular faces can't perform IH transition, aborting\n",
      "Edge 353 has adjacent triangular faces can't perform IH transition, aborting\n",
      "Edge 355 is not a valid junction to perform IH transition, aborting\n",
      "/home/guillaume/miniconda3/envs/py37/lib/python3.7/site-packages/tyssue-0.3.3rc1-py3.7-linux-x86_64.egg/tyssue/topology/bulk_topology.py:416: UserWarning: Invalid topology for a HI transition, aborting\n",
      "  warnings.warn(\"Invalid topology for a HI transition, aborting\")\n"
     ]
    },
    {
     "name": "stdout",
     "output_type": "stream",
     "text": [
      "out T1 changed buffer\n",
      "T1\n"
     ]
    },
    {
     "name": "stderr",
     "output_type": "stream",
     "text": [
      "/home/guillaume/miniconda3/envs/py37/lib/python3.7/site-packages/tyssue-0.3.3rc1-py3.7-linux-x86_64.egg/tyssue/topology/bulk_topology.py:416: UserWarning: Invalid topology for a HI transition, aborting\n",
      "  warnings.warn(\"Invalid topology for a HI transition, aborting\")\n",
      "/home/guillaume/miniconda3/envs/py37/lib/python3.7/site-packages/tyssue-0.3.3rc1-py3.7-linux-x86_64.egg/tyssue/topology/bulk_topology.py:416: UserWarning: Invalid topology for a HI transition, aborting\n",
      "  warnings.warn(\"Invalid topology for a HI transition, aborting\")\n",
      "/home/guillaume/miniconda3/envs/py37/lib/python3.7/site-packages/tyssue-0.3.3rc1-py3.7-linux-x86_64.egg/tyssue/topology/bulk_topology.py:416: UserWarning: Invalid topology for a HI transition, aborting\n",
      "  warnings.warn(\"Invalid topology for a HI transition, aborting\")\n",
      "/home/guillaume/miniconda3/envs/py37/lib/python3.7/site-packages/tyssue-0.3.3rc1-py3.7-linux-x86_64.egg/tyssue/topology/bulk_topology.py:416: UserWarning: Invalid topology for a HI transition, aborting\n",
      "  warnings.warn(\"Invalid topology for a HI transition, aborting\")\n",
      "/home/guillaume/miniconda3/envs/py37/lib/python3.7/site-packages/tyssue-0.3.3rc1-py3.7-linux-x86_64.egg/tyssue/topology/bulk_topology.py:416: UserWarning: Invalid topology for a HI transition, aborting\n",
      "  warnings.warn(\"Invalid topology for a HI transition, aborting\")\n",
      "/home/guillaume/miniconda3/envs/py37/lib/python3.7/site-packages/tyssue-0.3.3rc1-py3.7-linux-x86_64.egg/tyssue/topology/bulk_topology.py:416: UserWarning: Invalid topology for a HI transition, aborting\n",
      "  warnings.warn(\"Invalid topology for a HI transition, aborting\")\n",
      "/home/guillaume/miniconda3/envs/py37/lib/python3.7/site-packages/tyssue-0.3.3rc1-py3.7-linux-x86_64.egg/tyssue/topology/bulk_topology.py:416: UserWarning: Invalid topology for a HI transition, aborting\n",
      "  warnings.warn(\"Invalid topology for a HI transition, aborting\")\n",
      "/home/guillaume/miniconda3/envs/py37/lib/python3.7/site-packages/tyssue-0.3.3rc1-py3.7-linux-x86_64.egg/tyssue/topology/bulk_topology.py:416: UserWarning: Invalid topology for a HI transition, aborting\n",
      "  warnings.warn(\"Invalid topology for a HI transition, aborting\")\n",
      "/home/guillaume/miniconda3/envs/py37/lib/python3.7/site-packages/tyssue-0.3.3rc1-py3.7-linux-x86_64.egg/tyssue/topology/bulk_topology.py:416: UserWarning: Invalid topology for a HI transition, aborting\n",
      "  warnings.warn(\"Invalid topology for a HI transition, aborting\")\n",
      "/home/guillaume/miniconda3/envs/py37/lib/python3.7/site-packages/tyssue-0.3.3rc1-py3.7-linux-x86_64.egg/tyssue/topology/bulk_topology.py:416: UserWarning: Invalid topology for a HI transition, aborting\n",
      "  warnings.warn(\"Invalid topology for a HI transition, aborting\")\n",
      "Edge 353 has adjacent triangular faces can't perform IH transition, aborting\n"
     ]
    },
    {
     "name": "stdout",
     "output_type": "stream",
     "text": [
      "out T3 changed buffer\n",
      "T3\n"
     ]
    },
    {
     "name": "stderr",
     "output_type": "stream",
     "text": [
      "Edge 355 is not a valid junction to perform IH transition, aborting\n",
      "Edge 354 has adjacent triangular faces can't perform IH transition, aborting\n",
      "Edge 354 has adjacent triangular faces can't perform IH transition, aborting\n",
      "Edge 353 has adjacent triangular faces can't perform IH transition, aborting\n",
      "Edge 353 has adjacent triangular faces can't perform IH transition, aborting\n",
      "Edge 353 has adjacent triangular faces can't perform IH transition, aborting\n",
      "Edge 355 is not a valid junction to perform IH transition, aborting\n",
      "Edge 353 has adjacent triangular faces can't perform IH transition, aborting\n",
      "Edge 355 is not a valid junction to perform IH transition, aborting\n",
      "Edge 354 has adjacent triangular faces can't perform IH transition, aborting\n",
      "/home/guillaume/miniconda3/envs/py37/lib/python3.7/site-packages/tyssue-0.3.3rc1-py3.7-linux-x86_64.egg/tyssue/topology/bulk_topology.py:416: UserWarning: Invalid topology for a HI transition, aborting\n",
      "  warnings.warn(\"Invalid topology for a HI transition, aborting\")\n"
     ]
    },
    {
     "name": "stdout",
     "output_type": "stream",
     "text": [
      "out T1 changed buffer\n",
      "T1\n"
     ]
    },
    {
     "name": "stderr",
     "output_type": "stream",
     "text": [
      "/home/guillaume/miniconda3/envs/py37/lib/python3.7/site-packages/tyssue-0.3.3rc1-py3.7-linux-x86_64.egg/tyssue/topology/bulk_topology.py:416: UserWarning: Invalid topology for a HI transition, aborting\n",
      "  warnings.warn(\"Invalid topology for a HI transition, aborting\")\n",
      "/home/guillaume/miniconda3/envs/py37/lib/python3.7/site-packages/tyssue-0.3.3rc1-py3.7-linux-x86_64.egg/tyssue/topology/bulk_topology.py:416: UserWarning: Invalid topology for a HI transition, aborting\n",
      "  warnings.warn(\"Invalid topology for a HI transition, aborting\")\n",
      "/home/guillaume/miniconda3/envs/py37/lib/python3.7/site-packages/tyssue-0.3.3rc1-py3.7-linux-x86_64.egg/tyssue/topology/bulk_topology.py:416: UserWarning: Invalid topology for a HI transition, aborting\n",
      "  warnings.warn(\"Invalid topology for a HI transition, aborting\")\n",
      "/home/guillaume/miniconda3/envs/py37/lib/python3.7/site-packages/tyssue-0.3.3rc1-py3.7-linux-x86_64.egg/tyssue/topology/bulk_topology.py:416: UserWarning: Invalid topology for a HI transition, aborting\n",
      "  warnings.warn(\"Invalid topology for a HI transition, aborting\")\n",
      "/home/guillaume/miniconda3/envs/py37/lib/python3.7/site-packages/tyssue-0.3.3rc1-py3.7-linux-x86_64.egg/tyssue/topology/bulk_topology.py:416: UserWarning: Invalid topology for a HI transition, aborting\n",
      "  warnings.warn(\"Invalid topology for a HI transition, aborting\")\n",
      "/home/guillaume/miniconda3/envs/py37/lib/python3.7/site-packages/tyssue-0.3.3rc1-py3.7-linux-x86_64.egg/tyssue/topology/bulk_topology.py:416: UserWarning: Invalid topology for a HI transition, aborting\n",
      "  warnings.warn(\"Invalid topology for a HI transition, aborting\")\n",
      "/home/guillaume/miniconda3/envs/py37/lib/python3.7/site-packages/tyssue-0.3.3rc1-py3.7-linux-x86_64.egg/tyssue/topology/bulk_topology.py:416: UserWarning: Invalid topology for a HI transition, aborting\n",
      "  warnings.warn(\"Invalid topology for a HI transition, aborting\")\n",
      "/home/guillaume/miniconda3/envs/py37/lib/python3.7/site-packages/tyssue-0.3.3rc1-py3.7-linux-x86_64.egg/tyssue/topology/bulk_topology.py:416: UserWarning: Invalid topology for a HI transition, aborting\n",
      "  warnings.warn(\"Invalid topology for a HI transition, aborting\")\n",
      "/home/guillaume/miniconda3/envs/py37/lib/python3.7/site-packages/tyssue-0.3.3rc1-py3.7-linux-x86_64.egg/tyssue/topology/bulk_topology.py:416: UserWarning: Invalid topology for a HI transition, aborting\n",
      "  warnings.warn(\"Invalid topology for a HI transition, aborting\")\n",
      "/home/guillaume/miniconda3/envs/py37/lib/python3.7/site-packages/tyssue-0.3.3rc1-py3.7-linux-x86_64.egg/tyssue/topology/bulk_topology.py:416: UserWarning: Invalid topology for a HI transition, aborting\n",
      "  warnings.warn(\"Invalid topology for a HI transition, aborting\")\n",
      "Edge 353 has adjacent triangular faces can't perform IH transition, aborting\n"
     ]
    },
    {
     "name": "stdout",
     "output_type": "stream",
     "text": [
      "out T3 changed buffer\n",
      "T3\n"
     ]
    },
    {
     "name": "stderr",
     "output_type": "stream",
     "text": [
      "Edge 353 has adjacent triangular faces can't perform IH transition, aborting\n",
      "Edge 355 is not a valid junction to perform IH transition, aborting\n",
      "Edge 354 has adjacent triangular faces can't perform IH transition, aborting\n",
      "Edge 353 has adjacent triangular faces can't perform IH transition, aborting\n",
      "Edge 354 has adjacent triangular faces can't perform IH transition, aborting\n",
      "Edge 353 has adjacent triangular faces can't perform IH transition, aborting\n",
      "Edge 353 has adjacent triangular faces can't perform IH transition, aborting\n",
      "Edge 355 is not a valid junction to perform IH transition, aborting\n",
      "Edge 353 has adjacent triangular faces can't perform IH transition, aborting\n",
      "Edge 354 has adjacent triangular faces can't perform IH transition, aborting\n",
      "/home/guillaume/miniconda3/envs/py37/lib/python3.7/site-packages/tyssue-0.3.3rc1-py3.7-linux-x86_64.egg/tyssue/topology/bulk_topology.py:416: UserWarning: Invalid topology for a HI transition, aborting\n",
      "  warnings.warn(\"Invalid topology for a HI transition, aborting\")\n"
     ]
    },
    {
     "name": "stdout",
     "output_type": "stream",
     "text": [
      "out T1 changed buffer\n",
      "T1\n"
     ]
    },
    {
     "name": "stderr",
     "output_type": "stream",
     "text": [
      "/home/guillaume/miniconda3/envs/py37/lib/python3.7/site-packages/tyssue-0.3.3rc1-py3.7-linux-x86_64.egg/tyssue/topology/bulk_topology.py:416: UserWarning: Invalid topology for a HI transition, aborting\n",
      "  warnings.warn(\"Invalid topology for a HI transition, aborting\")\n",
      "/home/guillaume/miniconda3/envs/py37/lib/python3.7/site-packages/tyssue-0.3.3rc1-py3.7-linux-x86_64.egg/tyssue/topology/bulk_topology.py:416: UserWarning: Invalid topology for a HI transition, aborting\n",
      "  warnings.warn(\"Invalid topology for a HI transition, aborting\")\n",
      "/home/guillaume/miniconda3/envs/py37/lib/python3.7/site-packages/tyssue-0.3.3rc1-py3.7-linux-x86_64.egg/tyssue/topology/bulk_topology.py:416: UserWarning: Invalid topology for a HI transition, aborting\n",
      "  warnings.warn(\"Invalid topology for a HI transition, aborting\")\n",
      "/home/guillaume/miniconda3/envs/py37/lib/python3.7/site-packages/tyssue-0.3.3rc1-py3.7-linux-x86_64.egg/tyssue/topology/bulk_topology.py:416: UserWarning: Invalid topology for a HI transition, aborting\n",
      "  warnings.warn(\"Invalid topology for a HI transition, aborting\")\n",
      "/home/guillaume/miniconda3/envs/py37/lib/python3.7/site-packages/tyssue-0.3.3rc1-py3.7-linux-x86_64.egg/tyssue/topology/bulk_topology.py:416: UserWarning: Invalid topology for a HI transition, aborting\n",
      "  warnings.warn(\"Invalid topology for a HI transition, aborting\")\n",
      "/home/guillaume/miniconda3/envs/py37/lib/python3.7/site-packages/tyssue-0.3.3rc1-py3.7-linux-x86_64.egg/tyssue/topology/bulk_topology.py:416: UserWarning: Invalid topology for a HI transition, aborting\n",
      "  warnings.warn(\"Invalid topology for a HI transition, aborting\")\n",
      "/home/guillaume/miniconda3/envs/py37/lib/python3.7/site-packages/tyssue-0.3.3rc1-py3.7-linux-x86_64.egg/tyssue/topology/bulk_topology.py:416: UserWarning: Invalid topology for a HI transition, aborting\n",
      "  warnings.warn(\"Invalid topology for a HI transition, aborting\")\n",
      "/home/guillaume/miniconda3/envs/py37/lib/python3.7/site-packages/tyssue-0.3.3rc1-py3.7-linux-x86_64.egg/tyssue/topology/bulk_topology.py:416: UserWarning: Invalid topology for a HI transition, aborting\n",
      "  warnings.warn(\"Invalid topology for a HI transition, aborting\")\n",
      "/home/guillaume/miniconda3/envs/py37/lib/python3.7/site-packages/tyssue-0.3.3rc1-py3.7-linux-x86_64.egg/tyssue/topology/bulk_topology.py:416: UserWarning: Invalid topology for a HI transition, aborting\n",
      "  warnings.warn(\"Invalid topology for a HI transition, aborting\")\n",
      "/home/guillaume/miniconda3/envs/py37/lib/python3.7/site-packages/tyssue-0.3.3rc1-py3.7-linux-x86_64.egg/tyssue/topology/bulk_topology.py:416: UserWarning: Invalid topology for a HI transition, aborting\n",
      "  warnings.warn(\"Invalid topology for a HI transition, aborting\")\n",
      "Edge 354 has adjacent triangular faces can't perform IH transition, aborting\n"
     ]
    },
    {
     "name": "stdout",
     "output_type": "stream",
     "text": [
      "out T3 changed buffer\n",
      "T3\n"
     ]
    },
    {
     "name": "stderr",
     "output_type": "stream",
     "text": [
      "Edge 355 is not a valid junction to perform IH transition, aborting\n",
      "Edge 353 has adjacent triangular faces can't perform IH transition, aborting\n",
      "Edge 354 has adjacent triangular faces can't perform IH transition, aborting\n",
      "Edge 353 has adjacent triangular faces can't perform IH transition, aborting\n",
      "Edge 355 is not a valid junction to perform IH transition, aborting\n",
      "Edge 353 has adjacent triangular faces can't perform IH transition, aborting\n",
      "Edge 353 has adjacent triangular faces can't perform IH transition, aborting\n",
      "Edge 355 is not a valid junction to perform IH transition, aborting\n",
      "Edge 354 has adjacent triangular faces can't perform IH transition, aborting\n",
      "Edge 353 has adjacent triangular faces can't perform IH transition, aborting\n",
      "/home/guillaume/miniconda3/envs/py37/lib/python3.7/site-packages/tyssue-0.3.3rc1-py3.7-linux-x86_64.egg/tyssue/topology/bulk_topology.py:416: UserWarning: Invalid topology for a HI transition, aborting\n",
      "  warnings.warn(\"Invalid topology for a HI transition, aborting\")\n"
     ]
    },
    {
     "name": "stdout",
     "output_type": "stream",
     "text": [
      "out T1 changed buffer\n",
      "T1\n"
     ]
    },
    {
     "name": "stderr",
     "output_type": "stream",
     "text": [
      "/home/guillaume/miniconda3/envs/py37/lib/python3.7/site-packages/tyssue-0.3.3rc1-py3.7-linux-x86_64.egg/tyssue/topology/bulk_topology.py:416: UserWarning: Invalid topology for a HI transition, aborting\n",
      "  warnings.warn(\"Invalid topology for a HI transition, aborting\")\n",
      "/home/guillaume/miniconda3/envs/py37/lib/python3.7/site-packages/tyssue-0.3.3rc1-py3.7-linux-x86_64.egg/tyssue/topology/bulk_topology.py:416: UserWarning: Invalid topology for a HI transition, aborting\n",
      "  warnings.warn(\"Invalid topology for a HI transition, aborting\")\n",
      "/home/guillaume/miniconda3/envs/py37/lib/python3.7/site-packages/tyssue-0.3.3rc1-py3.7-linux-x86_64.egg/tyssue/topology/bulk_topology.py:416: UserWarning: Invalid topology for a HI transition, aborting\n",
      "  warnings.warn(\"Invalid topology for a HI transition, aborting\")\n",
      "/home/guillaume/miniconda3/envs/py37/lib/python3.7/site-packages/tyssue-0.3.3rc1-py3.7-linux-x86_64.egg/tyssue/topology/bulk_topology.py:416: UserWarning: Invalid topology for a HI transition, aborting\n",
      "  warnings.warn(\"Invalid topology for a HI transition, aborting\")\n",
      "/home/guillaume/miniconda3/envs/py37/lib/python3.7/site-packages/tyssue-0.3.3rc1-py3.7-linux-x86_64.egg/tyssue/topology/bulk_topology.py:416: UserWarning: Invalid topology for a HI transition, aborting\n",
      "  warnings.warn(\"Invalid topology for a HI transition, aborting\")\n",
      "/home/guillaume/miniconda3/envs/py37/lib/python3.7/site-packages/tyssue-0.3.3rc1-py3.7-linux-x86_64.egg/tyssue/topology/bulk_topology.py:416: UserWarning: Invalid topology for a HI transition, aborting\n",
      "  warnings.warn(\"Invalid topology for a HI transition, aborting\")\n",
      "/home/guillaume/miniconda3/envs/py37/lib/python3.7/site-packages/tyssue-0.3.3rc1-py3.7-linux-x86_64.egg/tyssue/topology/bulk_topology.py:416: UserWarning: Invalid topology for a HI transition, aborting\n",
      "  warnings.warn(\"Invalid topology for a HI transition, aborting\")\n",
      "/home/guillaume/miniconda3/envs/py37/lib/python3.7/site-packages/tyssue-0.3.3rc1-py3.7-linux-x86_64.egg/tyssue/topology/bulk_topology.py:416: UserWarning: Invalid topology for a HI transition, aborting\n",
      "  warnings.warn(\"Invalid topology for a HI transition, aborting\")\n",
      "/home/guillaume/miniconda3/envs/py37/lib/python3.7/site-packages/tyssue-0.3.3rc1-py3.7-linux-x86_64.egg/tyssue/topology/bulk_topology.py:416: UserWarning: Invalid topology for a HI transition, aborting\n",
      "  warnings.warn(\"Invalid topology for a HI transition, aborting\")\n",
      "/home/guillaume/miniconda3/envs/py37/lib/python3.7/site-packages/tyssue-0.3.3rc1-py3.7-linux-x86_64.egg/tyssue/topology/bulk_topology.py:416: UserWarning: Invalid topology for a HI transition, aborting\n",
      "  warnings.warn(\"Invalid topology for a HI transition, aborting\")\n",
      "Edge 355 is not a valid junction to perform IH transition, aborting\n"
     ]
    },
    {
     "name": "stdout",
     "output_type": "stream",
     "text": [
      "out T3 changed buffer\n",
      "T3\n"
     ]
    },
    {
     "name": "stderr",
     "output_type": "stream",
     "text": [
      "Edge 353 has adjacent triangular faces can't perform IH transition, aborting\n",
      "Edge 355 is not a valid junction to perform IH transition, aborting\n",
      "Edge 353 has adjacent triangular faces can't perform IH transition, aborting\n",
      "Edge 353 has adjacent triangular faces can't perform IH transition, aborting\n",
      "Edge 355 is not a valid junction to perform IH transition, aborting\n",
      "Edge 354 has adjacent triangular faces can't perform IH transition, aborting\n",
      "Edge 354 has adjacent triangular faces can't perform IH transition, aborting\n",
      "Edge 353 has adjacent triangular faces can't perform IH transition, aborting\n",
      "Edge 353 has adjacent triangular faces can't perform IH transition, aborting\n",
      "Edge 353 has adjacent triangular faces can't perform IH transition, aborting\n",
      "/home/guillaume/miniconda3/envs/py37/lib/python3.7/site-packages/tyssue-0.3.3rc1-py3.7-linux-x86_64.egg/tyssue/topology/bulk_topology.py:416: UserWarning: Invalid topology for a HI transition, aborting\n",
      "  warnings.warn(\"Invalid topology for a HI transition, aborting\")\n"
     ]
    },
    {
     "name": "stdout",
     "output_type": "stream",
     "text": [
      "out T1 changed buffer\n",
      "T1\n"
     ]
    },
    {
     "name": "stderr",
     "output_type": "stream",
     "text": [
      "/home/guillaume/miniconda3/envs/py37/lib/python3.7/site-packages/tyssue-0.3.3rc1-py3.7-linux-x86_64.egg/tyssue/topology/bulk_topology.py:416: UserWarning: Invalid topology for a HI transition, aborting\n",
      "  warnings.warn(\"Invalid topology for a HI transition, aborting\")\n",
      "/home/guillaume/miniconda3/envs/py37/lib/python3.7/site-packages/tyssue-0.3.3rc1-py3.7-linux-x86_64.egg/tyssue/topology/bulk_topology.py:416: UserWarning: Invalid topology for a HI transition, aborting\n",
      "  warnings.warn(\"Invalid topology for a HI transition, aborting\")\n",
      "/home/guillaume/miniconda3/envs/py37/lib/python3.7/site-packages/tyssue-0.3.3rc1-py3.7-linux-x86_64.egg/tyssue/topology/bulk_topology.py:416: UserWarning: Invalid topology for a HI transition, aborting\n",
      "  warnings.warn(\"Invalid topology for a HI transition, aborting\")\n",
      "/home/guillaume/miniconda3/envs/py37/lib/python3.7/site-packages/tyssue-0.3.3rc1-py3.7-linux-x86_64.egg/tyssue/topology/bulk_topology.py:416: UserWarning: Invalid topology for a HI transition, aborting\n",
      "  warnings.warn(\"Invalid topology for a HI transition, aborting\")\n",
      "/home/guillaume/miniconda3/envs/py37/lib/python3.7/site-packages/tyssue-0.3.3rc1-py3.7-linux-x86_64.egg/tyssue/topology/bulk_topology.py:416: UserWarning: Invalid topology for a HI transition, aborting\n",
      "  warnings.warn(\"Invalid topology for a HI transition, aborting\")\n",
      "/home/guillaume/miniconda3/envs/py37/lib/python3.7/site-packages/tyssue-0.3.3rc1-py3.7-linux-x86_64.egg/tyssue/topology/bulk_topology.py:416: UserWarning: Invalid topology for a HI transition, aborting\n",
      "  warnings.warn(\"Invalid topology for a HI transition, aborting\")\n",
      "/home/guillaume/miniconda3/envs/py37/lib/python3.7/site-packages/tyssue-0.3.3rc1-py3.7-linux-x86_64.egg/tyssue/topology/bulk_topology.py:416: UserWarning: Invalid topology for a HI transition, aborting\n",
      "  warnings.warn(\"Invalid topology for a HI transition, aborting\")\n",
      "/home/guillaume/miniconda3/envs/py37/lib/python3.7/site-packages/tyssue-0.3.3rc1-py3.7-linux-x86_64.egg/tyssue/topology/bulk_topology.py:416: UserWarning: Invalid topology for a HI transition, aborting\n",
      "  warnings.warn(\"Invalid topology for a HI transition, aborting\")\n",
      "/home/guillaume/miniconda3/envs/py37/lib/python3.7/site-packages/tyssue-0.3.3rc1-py3.7-linux-x86_64.egg/tyssue/topology/bulk_topology.py:416: UserWarning: Invalid topology for a HI transition, aborting\n",
      "  warnings.warn(\"Invalid topology for a HI transition, aborting\")\n",
      "/home/guillaume/miniconda3/envs/py37/lib/python3.7/site-packages/tyssue-0.3.3rc1-py3.7-linux-x86_64.egg/tyssue/topology/bulk_topology.py:416: UserWarning: Invalid topology for a HI transition, aborting\n",
      "  warnings.warn(\"Invalid topology for a HI transition, aborting\")\n",
      "Edge 355 is not a valid junction to perform IH transition, aborting\n"
     ]
    },
    {
     "name": "stdout",
     "output_type": "stream",
     "text": [
      "out T3 changed buffer\n",
      "T3\n"
     ]
    },
    {
     "name": "stderr",
     "output_type": "stream",
     "text": [
      "Edge 353 has adjacent triangular faces can't perform IH transition, aborting\n",
      "Edge 355 is not a valid junction to perform IH transition, aborting\n",
      "Edge 353 has adjacent triangular faces can't perform IH transition, aborting\n",
      "Edge 353 has adjacent triangular faces can't perform IH transition, aborting\n",
      "Edge 354 has adjacent triangular faces can't perform IH transition, aborting\n",
      "Edge 353 has adjacent triangular faces can't perform IH transition, aborting\n",
      "Edge 354 has adjacent triangular faces can't perform IH transition, aborting\n",
      "Edge 355 is not a valid junction to perform IH transition, aborting\n",
      "Edge 354 has adjacent triangular faces can't perform IH transition, aborting\n",
      "Edge 353 has adjacent triangular faces can't perform IH transition, aborting\n",
      "/home/guillaume/miniconda3/envs/py37/lib/python3.7/site-packages/tyssue-0.3.3rc1-py3.7-linux-x86_64.egg/tyssue/topology/bulk_topology.py:416: UserWarning: Invalid topology for a HI transition, aborting\n",
      "  warnings.warn(\"Invalid topology for a HI transition, aborting\")\n"
     ]
    },
    {
     "name": "stdout",
     "output_type": "stream",
     "text": [
      "out T1 changed buffer\n",
      "T1\n"
     ]
    },
    {
     "name": "stderr",
     "output_type": "stream",
     "text": [
      "/home/guillaume/miniconda3/envs/py37/lib/python3.7/site-packages/tyssue-0.3.3rc1-py3.7-linux-x86_64.egg/tyssue/topology/bulk_topology.py:416: UserWarning: Invalid topology for a HI transition, aborting\n",
      "  warnings.warn(\"Invalid topology for a HI transition, aborting\")\n",
      "/home/guillaume/miniconda3/envs/py37/lib/python3.7/site-packages/tyssue-0.3.3rc1-py3.7-linux-x86_64.egg/tyssue/topology/bulk_topology.py:416: UserWarning: Invalid topology for a HI transition, aborting\n",
      "  warnings.warn(\"Invalid topology for a HI transition, aborting\")\n",
      "/home/guillaume/miniconda3/envs/py37/lib/python3.7/site-packages/tyssue-0.3.3rc1-py3.7-linux-x86_64.egg/tyssue/topology/bulk_topology.py:416: UserWarning: Invalid topology for a HI transition, aborting\n",
      "  warnings.warn(\"Invalid topology for a HI transition, aborting\")\n",
      "/home/guillaume/miniconda3/envs/py37/lib/python3.7/site-packages/tyssue-0.3.3rc1-py3.7-linux-x86_64.egg/tyssue/topology/bulk_topology.py:416: UserWarning: Invalid topology for a HI transition, aborting\n",
      "  warnings.warn(\"Invalid topology for a HI transition, aborting\")\n",
      "/home/guillaume/miniconda3/envs/py37/lib/python3.7/site-packages/tyssue-0.3.3rc1-py3.7-linux-x86_64.egg/tyssue/topology/bulk_topology.py:416: UserWarning: Invalid topology for a HI transition, aborting\n",
      "  warnings.warn(\"Invalid topology for a HI transition, aborting\")\n",
      "/home/guillaume/miniconda3/envs/py37/lib/python3.7/site-packages/tyssue-0.3.3rc1-py3.7-linux-x86_64.egg/tyssue/topology/bulk_topology.py:416: UserWarning: Invalid topology for a HI transition, aborting\n",
      "  warnings.warn(\"Invalid topology for a HI transition, aborting\")\n",
      "/home/guillaume/miniconda3/envs/py37/lib/python3.7/site-packages/tyssue-0.3.3rc1-py3.7-linux-x86_64.egg/tyssue/topology/bulk_topology.py:416: UserWarning: Invalid topology for a HI transition, aborting\n",
      "  warnings.warn(\"Invalid topology for a HI transition, aborting\")\n",
      "/home/guillaume/miniconda3/envs/py37/lib/python3.7/site-packages/tyssue-0.3.3rc1-py3.7-linux-x86_64.egg/tyssue/topology/bulk_topology.py:416: UserWarning: Invalid topology for a HI transition, aborting\n",
      "  warnings.warn(\"Invalid topology for a HI transition, aborting\")\n",
      "/home/guillaume/miniconda3/envs/py37/lib/python3.7/site-packages/tyssue-0.3.3rc1-py3.7-linux-x86_64.egg/tyssue/topology/bulk_topology.py:416: UserWarning: Invalid topology for a HI transition, aborting\n",
      "  warnings.warn(\"Invalid topology for a HI transition, aborting\")\n",
      "/home/guillaume/miniconda3/envs/py37/lib/python3.7/site-packages/tyssue-0.3.3rc1-py3.7-linux-x86_64.egg/tyssue/topology/bulk_topology.py:416: UserWarning: Invalid topology for a HI transition, aborting\n",
      "  warnings.warn(\"Invalid topology for a HI transition, aborting\")\n",
      "Edge 353 has adjacent triangular faces can't perform IH transition, aborting\n"
     ]
    },
    {
     "name": "stdout",
     "output_type": "stream",
     "text": [
      "out T3 changed buffer\n",
      "T3\n"
     ]
    },
    {
     "name": "stderr",
     "output_type": "stream",
     "text": [
      "Edge 354 has adjacent triangular faces can't perform IH transition, aborting\n",
      "Edge 354 has adjacent triangular faces can't perform IH transition, aborting\n",
      "Edge 353 has adjacent triangular faces can't perform IH transition, aborting\n",
      "Edge 355 is not a valid junction to perform IH transition, aborting\n",
      "Edge 354 has adjacent triangular faces can't perform IH transition, aborting\n",
      "Edge 353 has adjacent triangular faces can't perform IH transition, aborting\n",
      "Edge 353 has adjacent triangular faces can't perform IH transition, aborting\n",
      "Edge 354 has adjacent triangular faces can't perform IH transition, aborting\n",
      "Edge 353 has adjacent triangular faces can't perform IH transition, aborting\n",
      "Edge 355 is not a valid junction to perform IH transition, aborting\n",
      "/home/guillaume/miniconda3/envs/py37/lib/python3.7/site-packages/tyssue-0.3.3rc1-py3.7-linux-x86_64.egg/tyssue/topology/bulk_topology.py:416: UserWarning: Invalid topology for a HI transition, aborting\n",
      "  warnings.warn(\"Invalid topology for a HI transition, aborting\")\n"
     ]
    },
    {
     "name": "stdout",
     "output_type": "stream",
     "text": [
      "out T1 changed buffer\n",
      "T1\n"
     ]
    },
    {
     "name": "stderr",
     "output_type": "stream",
     "text": [
      "/home/guillaume/miniconda3/envs/py37/lib/python3.7/site-packages/tyssue-0.3.3rc1-py3.7-linux-x86_64.egg/tyssue/topology/bulk_topology.py:416: UserWarning: Invalid topology for a HI transition, aborting\n",
      "  warnings.warn(\"Invalid topology for a HI transition, aborting\")\n",
      "/home/guillaume/miniconda3/envs/py37/lib/python3.7/site-packages/tyssue-0.3.3rc1-py3.7-linux-x86_64.egg/tyssue/topology/bulk_topology.py:416: UserWarning: Invalid topology for a HI transition, aborting\n",
      "  warnings.warn(\"Invalid topology for a HI transition, aborting\")\n",
      "/home/guillaume/miniconda3/envs/py37/lib/python3.7/site-packages/tyssue-0.3.3rc1-py3.7-linux-x86_64.egg/tyssue/topology/bulk_topology.py:416: UserWarning: Invalid topology for a HI transition, aborting\n",
      "  warnings.warn(\"Invalid topology for a HI transition, aborting\")\n",
      "/home/guillaume/miniconda3/envs/py37/lib/python3.7/site-packages/tyssue-0.3.3rc1-py3.7-linux-x86_64.egg/tyssue/topology/bulk_topology.py:416: UserWarning: Invalid topology for a HI transition, aborting\n",
      "  warnings.warn(\"Invalid topology for a HI transition, aborting\")\n",
      "/home/guillaume/miniconda3/envs/py37/lib/python3.7/site-packages/tyssue-0.3.3rc1-py3.7-linux-x86_64.egg/tyssue/topology/bulk_topology.py:416: UserWarning: Invalid topology for a HI transition, aborting\n",
      "  warnings.warn(\"Invalid topology for a HI transition, aborting\")\n",
      "/home/guillaume/miniconda3/envs/py37/lib/python3.7/site-packages/tyssue-0.3.3rc1-py3.7-linux-x86_64.egg/tyssue/topology/bulk_topology.py:416: UserWarning: Invalid topology for a HI transition, aborting\n",
      "  warnings.warn(\"Invalid topology for a HI transition, aborting\")\n",
      "/home/guillaume/miniconda3/envs/py37/lib/python3.7/site-packages/tyssue-0.3.3rc1-py3.7-linux-x86_64.egg/tyssue/topology/bulk_topology.py:416: UserWarning: Invalid topology for a HI transition, aborting\n",
      "  warnings.warn(\"Invalid topology for a HI transition, aborting\")\n",
      "/home/guillaume/miniconda3/envs/py37/lib/python3.7/site-packages/tyssue-0.3.3rc1-py3.7-linux-x86_64.egg/tyssue/topology/bulk_topology.py:416: UserWarning: Invalid topology for a HI transition, aborting\n",
      "  warnings.warn(\"Invalid topology for a HI transition, aborting\")\n",
      "/home/guillaume/miniconda3/envs/py37/lib/python3.7/site-packages/tyssue-0.3.3rc1-py3.7-linux-x86_64.egg/tyssue/topology/bulk_topology.py:416: UserWarning: Invalid topology for a HI transition, aborting\n",
      "  warnings.warn(\"Invalid topology for a HI transition, aborting\")\n",
      "/home/guillaume/miniconda3/envs/py37/lib/python3.7/site-packages/tyssue-0.3.3rc1-py3.7-linux-x86_64.egg/tyssue/topology/bulk_topology.py:416: UserWarning: Invalid topology for a HI transition, aborting\n",
      "  warnings.warn(\"Invalid topology for a HI transition, aborting\")\n",
      "Edge 353 has adjacent triangular faces can't perform IH transition, aborting\n"
     ]
    },
    {
     "name": "stdout",
     "output_type": "stream",
     "text": [
      "out T3 changed buffer\n",
      "T3\n"
     ]
    },
    {
     "name": "stderr",
     "output_type": "stream",
     "text": [
      "Edge 355 is not a valid junction to perform IH transition, aborting\n",
      "Edge 354 has adjacent triangular faces can't perform IH transition, aborting\n",
      "Edge 354 has adjacent triangular faces can't perform IH transition, aborting\n",
      "Edge 354 has adjacent triangular faces can't perform IH transition, aborting\n",
      "Edge 354 has adjacent triangular faces can't perform IH transition, aborting\n",
      "Edge 355 is not a valid junction to perform IH transition, aborting\n",
      "Edge 354 has adjacent triangular faces can't perform IH transition, aborting\n",
      "Edge 353 has adjacent triangular faces can't perform IH transition, aborting\n",
      "Edge 353 has adjacent triangular faces can't perform IH transition, aborting\n",
      "Edge 355 is not a valid junction to perform IH transition, aborting\n",
      "/home/guillaume/miniconda3/envs/py37/lib/python3.7/site-packages/tyssue-0.3.3rc1-py3.7-linux-x86_64.egg/tyssue/topology/bulk_topology.py:416: UserWarning: Invalid topology for a HI transition, aborting\n",
      "  warnings.warn(\"Invalid topology for a HI transition, aborting\")\n"
     ]
    },
    {
     "name": "stdout",
     "output_type": "stream",
     "text": [
      "out T1 changed buffer\n",
      "T1\n"
     ]
    },
    {
     "name": "stderr",
     "output_type": "stream",
     "text": [
      "/home/guillaume/miniconda3/envs/py37/lib/python3.7/site-packages/tyssue-0.3.3rc1-py3.7-linux-x86_64.egg/tyssue/topology/bulk_topology.py:416: UserWarning: Invalid topology for a HI transition, aborting\n",
      "  warnings.warn(\"Invalid topology for a HI transition, aborting\")\n",
      "/home/guillaume/miniconda3/envs/py37/lib/python3.7/site-packages/tyssue-0.3.3rc1-py3.7-linux-x86_64.egg/tyssue/topology/bulk_topology.py:416: UserWarning: Invalid topology for a HI transition, aborting\n",
      "  warnings.warn(\"Invalid topology for a HI transition, aborting\")\n",
      "/home/guillaume/miniconda3/envs/py37/lib/python3.7/site-packages/tyssue-0.3.3rc1-py3.7-linux-x86_64.egg/tyssue/topology/bulk_topology.py:416: UserWarning: Invalid topology for a HI transition, aborting\n",
      "  warnings.warn(\"Invalid topology for a HI transition, aborting\")\n",
      "/home/guillaume/miniconda3/envs/py37/lib/python3.7/site-packages/tyssue-0.3.3rc1-py3.7-linux-x86_64.egg/tyssue/topology/bulk_topology.py:416: UserWarning: Invalid topology for a HI transition, aborting\n",
      "  warnings.warn(\"Invalid topology for a HI transition, aborting\")\n",
      "/home/guillaume/miniconda3/envs/py37/lib/python3.7/site-packages/tyssue-0.3.3rc1-py3.7-linux-x86_64.egg/tyssue/topology/bulk_topology.py:416: UserWarning: Invalid topology for a HI transition, aborting\n",
      "  warnings.warn(\"Invalid topology for a HI transition, aborting\")\n",
      "/home/guillaume/miniconda3/envs/py37/lib/python3.7/site-packages/tyssue-0.3.3rc1-py3.7-linux-x86_64.egg/tyssue/topology/bulk_topology.py:416: UserWarning: Invalid topology for a HI transition, aborting\n",
      "  warnings.warn(\"Invalid topology for a HI transition, aborting\")\n",
      "/home/guillaume/miniconda3/envs/py37/lib/python3.7/site-packages/tyssue-0.3.3rc1-py3.7-linux-x86_64.egg/tyssue/topology/bulk_topology.py:416: UserWarning: Invalid topology for a HI transition, aborting\n",
      "  warnings.warn(\"Invalid topology for a HI transition, aborting\")\n",
      "/home/guillaume/miniconda3/envs/py37/lib/python3.7/site-packages/tyssue-0.3.3rc1-py3.7-linux-x86_64.egg/tyssue/topology/bulk_topology.py:416: UserWarning: Invalid topology for a HI transition, aborting\n",
      "  warnings.warn(\"Invalid topology for a HI transition, aborting\")\n",
      "/home/guillaume/miniconda3/envs/py37/lib/python3.7/site-packages/tyssue-0.3.3rc1-py3.7-linux-x86_64.egg/tyssue/topology/bulk_topology.py:416: UserWarning: Invalid topology for a HI transition, aborting\n",
      "  warnings.warn(\"Invalid topology for a HI transition, aborting\")\n",
      "/home/guillaume/miniconda3/envs/py37/lib/python3.7/site-packages/tyssue-0.3.3rc1-py3.7-linux-x86_64.egg/tyssue/topology/bulk_topology.py:416: UserWarning: Invalid topology for a HI transition, aborting\n",
      "  warnings.warn(\"Invalid topology for a HI transition, aborting\")\n",
      "Edge 353 has adjacent triangular faces can't perform IH transition, aborting\n"
     ]
    },
    {
     "name": "stdout",
     "output_type": "stream",
     "text": [
      "out T3 changed buffer\n",
      "T3\n"
     ]
    },
    {
     "name": "stderr",
     "output_type": "stream",
     "text": [
      "Edge 354 has adjacent triangular faces can't perform IH transition, aborting\n",
      "Edge 353 has adjacent triangular faces can't perform IH transition, aborting\n",
      "Edge 355 is not a valid junction to perform IH transition, aborting\n",
      "Edge 353 has adjacent triangular faces can't perform IH transition, aborting\n",
      "Edge 355 is not a valid junction to perform IH transition, aborting\n",
      "Edge 354 has adjacent triangular faces can't perform IH transition, aborting\n",
      "Edge 353 has adjacent triangular faces can't perform IH transition, aborting\n",
      "Edge 354 has adjacent triangular faces can't perform IH transition, aborting\n",
      "Edge 354 has adjacent triangular faces can't perform IH transition, aborting\n",
      "Edge 354 has adjacent triangular faces can't perform IH transition, aborting\n",
      "/home/guillaume/miniconda3/envs/py37/lib/python3.7/site-packages/tyssue-0.3.3rc1-py3.7-linux-x86_64.egg/tyssue/topology/bulk_topology.py:416: UserWarning: Invalid topology for a HI transition, aborting\n",
      "  warnings.warn(\"Invalid topology for a HI transition, aborting\")\n"
     ]
    },
    {
     "name": "stdout",
     "output_type": "stream",
     "text": [
      "out T1 changed buffer\n",
      "T1\n"
     ]
    },
    {
     "name": "stderr",
     "output_type": "stream",
     "text": [
      "/home/guillaume/miniconda3/envs/py37/lib/python3.7/site-packages/tyssue-0.3.3rc1-py3.7-linux-x86_64.egg/tyssue/topology/bulk_topology.py:416: UserWarning: Invalid topology for a HI transition, aborting\n",
      "  warnings.warn(\"Invalid topology for a HI transition, aborting\")\n",
      "/home/guillaume/miniconda3/envs/py37/lib/python3.7/site-packages/tyssue-0.3.3rc1-py3.7-linux-x86_64.egg/tyssue/topology/bulk_topology.py:416: UserWarning: Invalid topology for a HI transition, aborting\n",
      "  warnings.warn(\"Invalid topology for a HI transition, aborting\")\n",
      "/home/guillaume/miniconda3/envs/py37/lib/python3.7/site-packages/tyssue-0.3.3rc1-py3.7-linux-x86_64.egg/tyssue/topology/bulk_topology.py:416: UserWarning: Invalid topology for a HI transition, aborting\n",
      "  warnings.warn(\"Invalid topology for a HI transition, aborting\")\n",
      "/home/guillaume/miniconda3/envs/py37/lib/python3.7/site-packages/tyssue-0.3.3rc1-py3.7-linux-x86_64.egg/tyssue/topology/bulk_topology.py:416: UserWarning: Invalid topology for a HI transition, aborting\n",
      "  warnings.warn(\"Invalid topology for a HI transition, aborting\")\n",
      "/home/guillaume/miniconda3/envs/py37/lib/python3.7/site-packages/tyssue-0.3.3rc1-py3.7-linux-x86_64.egg/tyssue/topology/bulk_topology.py:416: UserWarning: Invalid topology for a HI transition, aborting\n",
      "  warnings.warn(\"Invalid topology for a HI transition, aborting\")\n",
      "/home/guillaume/miniconda3/envs/py37/lib/python3.7/site-packages/tyssue-0.3.3rc1-py3.7-linux-x86_64.egg/tyssue/topology/bulk_topology.py:416: UserWarning: Invalid topology for a HI transition, aborting\n",
      "  warnings.warn(\"Invalid topology for a HI transition, aborting\")\n",
      "/home/guillaume/miniconda3/envs/py37/lib/python3.7/site-packages/tyssue-0.3.3rc1-py3.7-linux-x86_64.egg/tyssue/topology/bulk_topology.py:416: UserWarning: Invalid topology for a HI transition, aborting\n",
      "  warnings.warn(\"Invalid topology for a HI transition, aborting\")\n",
      "/home/guillaume/miniconda3/envs/py37/lib/python3.7/site-packages/tyssue-0.3.3rc1-py3.7-linux-x86_64.egg/tyssue/topology/bulk_topology.py:416: UserWarning: Invalid topology for a HI transition, aborting\n",
      "  warnings.warn(\"Invalid topology for a HI transition, aborting\")\n",
      "/home/guillaume/miniconda3/envs/py37/lib/python3.7/site-packages/tyssue-0.3.3rc1-py3.7-linux-x86_64.egg/tyssue/topology/bulk_topology.py:416: UserWarning: Invalid topology for a HI transition, aborting\n",
      "  warnings.warn(\"Invalid topology for a HI transition, aborting\")\n",
      "/home/guillaume/miniconda3/envs/py37/lib/python3.7/site-packages/tyssue-0.3.3rc1-py3.7-linux-x86_64.egg/tyssue/topology/bulk_topology.py:416: UserWarning: Invalid topology for a HI transition, aborting\n",
      "  warnings.warn(\"Invalid topology for a HI transition, aborting\")\n",
      "Edge 355 is not a valid junction to perform IH transition, aborting\n"
     ]
    },
    {
     "name": "stdout",
     "output_type": "stream",
     "text": [
      "out T3 changed buffer\n",
      "T3\n"
     ]
    },
    {
     "name": "stderr",
     "output_type": "stream",
     "text": [
      "Edge 353 has adjacent triangular faces can't perform IH transition, aborting\n",
      "Edge 353 has adjacent triangular faces can't perform IH transition, aborting\n",
      "Edge 353 has adjacent triangular faces can't perform IH transition, aborting\n",
      "Edge 353 has adjacent triangular faces can't perform IH transition, aborting\n",
      "Edge 353 has adjacent triangular faces can't perform IH transition, aborting\n",
      "Edge 355 is not a valid junction to perform IH transition, aborting\n",
      "Edge 354 has adjacent triangular faces can't perform IH transition, aborting\n",
      "Edge 355 is not a valid junction to perform IH transition, aborting\n",
      "Edge 354 has adjacent triangular faces can't perform IH transition, aborting\n",
      "Edge 353 has adjacent triangular faces can't perform IH transition, aborting\n",
      "/home/guillaume/miniconda3/envs/py37/lib/python3.7/site-packages/tyssue-0.3.3rc1-py3.7-linux-x86_64.egg/tyssue/topology/bulk_topology.py:416: UserWarning: Invalid topology for a HI transition, aborting\n",
      "  warnings.warn(\"Invalid topology for a HI transition, aborting\")\n"
     ]
    },
    {
     "name": "stdout",
     "output_type": "stream",
     "text": [
      "out T1 changed buffer\n",
      "T1\n"
     ]
    },
    {
     "name": "stderr",
     "output_type": "stream",
     "text": [
      "/home/guillaume/miniconda3/envs/py37/lib/python3.7/site-packages/tyssue-0.3.3rc1-py3.7-linux-x86_64.egg/tyssue/topology/bulk_topology.py:416: UserWarning: Invalid topology for a HI transition, aborting\n",
      "  warnings.warn(\"Invalid topology for a HI transition, aborting\")\n",
      "/home/guillaume/miniconda3/envs/py37/lib/python3.7/site-packages/tyssue-0.3.3rc1-py3.7-linux-x86_64.egg/tyssue/topology/bulk_topology.py:416: UserWarning: Invalid topology for a HI transition, aborting\n",
      "  warnings.warn(\"Invalid topology for a HI transition, aborting\")\n",
      "/home/guillaume/miniconda3/envs/py37/lib/python3.7/site-packages/tyssue-0.3.3rc1-py3.7-linux-x86_64.egg/tyssue/topology/bulk_topology.py:416: UserWarning: Invalid topology for a HI transition, aborting\n",
      "  warnings.warn(\"Invalid topology for a HI transition, aborting\")\n",
      "/home/guillaume/miniconda3/envs/py37/lib/python3.7/site-packages/tyssue-0.3.3rc1-py3.7-linux-x86_64.egg/tyssue/topology/bulk_topology.py:416: UserWarning: Invalid topology for a HI transition, aborting\n",
      "  warnings.warn(\"Invalid topology for a HI transition, aborting\")\n",
      "/home/guillaume/miniconda3/envs/py37/lib/python3.7/site-packages/tyssue-0.3.3rc1-py3.7-linux-x86_64.egg/tyssue/topology/bulk_topology.py:416: UserWarning: Invalid topology for a HI transition, aborting\n",
      "  warnings.warn(\"Invalid topology for a HI transition, aborting\")\n",
      "/home/guillaume/miniconda3/envs/py37/lib/python3.7/site-packages/tyssue-0.3.3rc1-py3.7-linux-x86_64.egg/tyssue/topology/bulk_topology.py:416: UserWarning: Invalid topology for a HI transition, aborting\n",
      "  warnings.warn(\"Invalid topology for a HI transition, aborting\")\n",
      "/home/guillaume/miniconda3/envs/py37/lib/python3.7/site-packages/tyssue-0.3.3rc1-py3.7-linux-x86_64.egg/tyssue/topology/bulk_topology.py:416: UserWarning: Invalid topology for a HI transition, aborting\n",
      "  warnings.warn(\"Invalid topology for a HI transition, aborting\")\n",
      "/home/guillaume/miniconda3/envs/py37/lib/python3.7/site-packages/tyssue-0.3.3rc1-py3.7-linux-x86_64.egg/tyssue/topology/bulk_topology.py:416: UserWarning: Invalid topology for a HI transition, aborting\n",
      "  warnings.warn(\"Invalid topology for a HI transition, aborting\")\n",
      "/home/guillaume/miniconda3/envs/py37/lib/python3.7/site-packages/tyssue-0.3.3rc1-py3.7-linux-x86_64.egg/tyssue/topology/bulk_topology.py:416: UserWarning: Invalid topology for a HI transition, aborting\n",
      "  warnings.warn(\"Invalid topology for a HI transition, aborting\")\n",
      "/home/guillaume/miniconda3/envs/py37/lib/python3.7/site-packages/tyssue-0.3.3rc1-py3.7-linux-x86_64.egg/tyssue/topology/bulk_topology.py:416: UserWarning: Invalid topology for a HI transition, aborting\n",
      "  warnings.warn(\"Invalid topology for a HI transition, aborting\")\n",
      "Edge 354 has adjacent triangular faces can't perform IH transition, aborting\n"
     ]
    },
    {
     "name": "stdout",
     "output_type": "stream",
     "text": [
      "out T3 changed buffer\n",
      "T3\n"
     ]
    },
    {
     "name": "stderr",
     "output_type": "stream",
     "text": [
      "Edge 354 has adjacent triangular faces can't perform IH transition, aborting\n",
      "Edge 354 has adjacent triangular faces can't perform IH transition, aborting\n",
      "Edge 355 is not a valid junction to perform IH transition, aborting\n",
      "Edge 353 has adjacent triangular faces can't perform IH transition, aborting\n",
      "Edge 353 has adjacent triangular faces can't perform IH transition, aborting\n",
      "Edge 355 is not a valid junction to perform IH transition, aborting\n",
      "Edge 353 has adjacent triangular faces can't perform IH transition, aborting\n",
      "Edge 355 is not a valid junction to perform IH transition, aborting\n",
      "Edge 353 has adjacent triangular faces can't perform IH transition, aborting\n",
      "Edge 353 has adjacent triangular faces can't perform IH transition, aborting\n",
      "/home/guillaume/miniconda3/envs/py37/lib/python3.7/site-packages/tyssue-0.3.3rc1-py3.7-linux-x86_64.egg/tyssue/topology/bulk_topology.py:416: UserWarning: Invalid topology for a HI transition, aborting\n",
      "  warnings.warn(\"Invalid topology for a HI transition, aborting\")\n"
     ]
    },
    {
     "name": "stdout",
     "output_type": "stream",
     "text": [
      "out T1 changed buffer\n",
      "T1\n"
     ]
    },
    {
     "name": "stderr",
     "output_type": "stream",
     "text": [
      "/home/guillaume/miniconda3/envs/py37/lib/python3.7/site-packages/tyssue-0.3.3rc1-py3.7-linux-x86_64.egg/tyssue/topology/bulk_topology.py:416: UserWarning: Invalid topology for a HI transition, aborting\n",
      "  warnings.warn(\"Invalid topology for a HI transition, aborting\")\n",
      "/home/guillaume/miniconda3/envs/py37/lib/python3.7/site-packages/tyssue-0.3.3rc1-py3.7-linux-x86_64.egg/tyssue/topology/bulk_topology.py:416: UserWarning: Invalid topology for a HI transition, aborting\n",
      "  warnings.warn(\"Invalid topology for a HI transition, aborting\")\n",
      "/home/guillaume/miniconda3/envs/py37/lib/python3.7/site-packages/tyssue-0.3.3rc1-py3.7-linux-x86_64.egg/tyssue/topology/bulk_topology.py:416: UserWarning: Invalid topology for a HI transition, aborting\n",
      "  warnings.warn(\"Invalid topology for a HI transition, aborting\")\n",
      "/home/guillaume/miniconda3/envs/py37/lib/python3.7/site-packages/tyssue-0.3.3rc1-py3.7-linux-x86_64.egg/tyssue/topology/bulk_topology.py:416: UserWarning: Invalid topology for a HI transition, aborting\n",
      "  warnings.warn(\"Invalid topology for a HI transition, aborting\")\n",
      "/home/guillaume/miniconda3/envs/py37/lib/python3.7/site-packages/tyssue-0.3.3rc1-py3.7-linux-x86_64.egg/tyssue/topology/bulk_topology.py:416: UserWarning: Invalid topology for a HI transition, aborting\n",
      "  warnings.warn(\"Invalid topology for a HI transition, aborting\")\n",
      "/home/guillaume/miniconda3/envs/py37/lib/python3.7/site-packages/tyssue-0.3.3rc1-py3.7-linux-x86_64.egg/tyssue/topology/bulk_topology.py:416: UserWarning: Invalid topology for a HI transition, aborting\n",
      "  warnings.warn(\"Invalid topology for a HI transition, aborting\")\n",
      "/home/guillaume/miniconda3/envs/py37/lib/python3.7/site-packages/tyssue-0.3.3rc1-py3.7-linux-x86_64.egg/tyssue/topology/bulk_topology.py:416: UserWarning: Invalid topology for a HI transition, aborting\n",
      "  warnings.warn(\"Invalid topology for a HI transition, aborting\")\n",
      "/home/guillaume/miniconda3/envs/py37/lib/python3.7/site-packages/tyssue-0.3.3rc1-py3.7-linux-x86_64.egg/tyssue/topology/bulk_topology.py:416: UserWarning: Invalid topology for a HI transition, aborting\n",
      "  warnings.warn(\"Invalid topology for a HI transition, aborting\")\n",
      "/home/guillaume/miniconda3/envs/py37/lib/python3.7/site-packages/tyssue-0.3.3rc1-py3.7-linux-x86_64.egg/tyssue/topology/bulk_topology.py:416: UserWarning: Invalid topology for a HI transition, aborting\n",
      "  warnings.warn(\"Invalid topology for a HI transition, aborting\")\n",
      "/home/guillaume/miniconda3/envs/py37/lib/python3.7/site-packages/tyssue-0.3.3rc1-py3.7-linux-x86_64.egg/tyssue/topology/bulk_topology.py:416: UserWarning: Invalid topology for a HI transition, aborting\n",
      "  warnings.warn(\"Invalid topology for a HI transition, aborting\")\n",
      "Edge 353 has adjacent triangular faces can't perform IH transition, aborting\n"
     ]
    },
    {
     "name": "stdout",
     "output_type": "stream",
     "text": [
      "out T3 changed buffer\n",
      "T3\n"
     ]
    },
    {
     "name": "stderr",
     "output_type": "stream",
     "text": [
      "Edge 355 is not a valid junction to perform IH transition, aborting\n",
      "Edge 354 has adjacent triangular faces can't perform IH transition, aborting\n",
      "Edge 354 has adjacent triangular faces can't perform IH transition, aborting\n",
      "Edge 354 has adjacent triangular faces can't perform IH transition, aborting\n",
      "Edge 353 has adjacent triangular faces can't perform IH transition, aborting\n",
      "Edge 353 has adjacent triangular faces can't perform IH transition, aborting\n",
      "Edge 355 is not a valid junction to perform IH transition, aborting\n",
      "Edge 354 has adjacent triangular faces can't perform IH transition, aborting\n",
      "Edge 353 has adjacent triangular faces can't perform IH transition, aborting\n",
      "Edge 353 has adjacent triangular faces can't perform IH transition, aborting\n",
      "/home/guillaume/miniconda3/envs/py37/lib/python3.7/site-packages/tyssue-0.3.3rc1-py3.7-linux-x86_64.egg/tyssue/topology/bulk_topology.py:416: UserWarning: Invalid topology for a HI transition, aborting\n",
      "  warnings.warn(\"Invalid topology for a HI transition, aborting\")\n"
     ]
    },
    {
     "name": "stdout",
     "output_type": "stream",
     "text": [
      "out T1 changed buffer\n",
      "T1\n"
     ]
    },
    {
     "name": "stderr",
     "output_type": "stream",
     "text": [
      "/home/guillaume/miniconda3/envs/py37/lib/python3.7/site-packages/tyssue-0.3.3rc1-py3.7-linux-x86_64.egg/tyssue/topology/bulk_topology.py:416: UserWarning: Invalid topology for a HI transition, aborting\n",
      "  warnings.warn(\"Invalid topology for a HI transition, aborting\")\n",
      "/home/guillaume/miniconda3/envs/py37/lib/python3.7/site-packages/tyssue-0.3.3rc1-py3.7-linux-x86_64.egg/tyssue/topology/bulk_topology.py:416: UserWarning: Invalid topology for a HI transition, aborting\n",
      "  warnings.warn(\"Invalid topology for a HI transition, aborting\")\n",
      "/home/guillaume/miniconda3/envs/py37/lib/python3.7/site-packages/tyssue-0.3.3rc1-py3.7-linux-x86_64.egg/tyssue/topology/bulk_topology.py:416: UserWarning: Invalid topology for a HI transition, aborting\n",
      "  warnings.warn(\"Invalid topology for a HI transition, aborting\")\n",
      "/home/guillaume/miniconda3/envs/py37/lib/python3.7/site-packages/tyssue-0.3.3rc1-py3.7-linux-x86_64.egg/tyssue/topology/bulk_topology.py:416: UserWarning: Invalid topology for a HI transition, aborting\n",
      "  warnings.warn(\"Invalid topology for a HI transition, aborting\")\n",
      "/home/guillaume/miniconda3/envs/py37/lib/python3.7/site-packages/tyssue-0.3.3rc1-py3.7-linux-x86_64.egg/tyssue/topology/bulk_topology.py:416: UserWarning: Invalid topology for a HI transition, aborting\n",
      "  warnings.warn(\"Invalid topology for a HI transition, aborting\")\n",
      "/home/guillaume/miniconda3/envs/py37/lib/python3.7/site-packages/tyssue-0.3.3rc1-py3.7-linux-x86_64.egg/tyssue/topology/bulk_topology.py:416: UserWarning: Invalid topology for a HI transition, aborting\n",
      "  warnings.warn(\"Invalid topology for a HI transition, aborting\")\n",
      "/home/guillaume/miniconda3/envs/py37/lib/python3.7/site-packages/tyssue-0.3.3rc1-py3.7-linux-x86_64.egg/tyssue/topology/bulk_topology.py:416: UserWarning: Invalid topology for a HI transition, aborting\n",
      "  warnings.warn(\"Invalid topology for a HI transition, aborting\")\n",
      "/home/guillaume/miniconda3/envs/py37/lib/python3.7/site-packages/tyssue-0.3.3rc1-py3.7-linux-x86_64.egg/tyssue/topology/bulk_topology.py:416: UserWarning: Invalid topology for a HI transition, aborting\n",
      "  warnings.warn(\"Invalid topology for a HI transition, aborting\")\n",
      "/home/guillaume/miniconda3/envs/py37/lib/python3.7/site-packages/tyssue-0.3.3rc1-py3.7-linux-x86_64.egg/tyssue/topology/bulk_topology.py:416: UserWarning: Invalid topology for a HI transition, aborting\n",
      "  warnings.warn(\"Invalid topology for a HI transition, aborting\")\n",
      "/home/guillaume/miniconda3/envs/py37/lib/python3.7/site-packages/tyssue-0.3.3rc1-py3.7-linux-x86_64.egg/tyssue/topology/bulk_topology.py:416: UserWarning: Invalid topology for a HI transition, aborting\n",
      "  warnings.warn(\"Invalid topology for a HI transition, aborting\")\n",
      "Edge 354 has adjacent triangular faces can't perform IH transition, aborting\n"
     ]
    },
    {
     "name": "stdout",
     "output_type": "stream",
     "text": [
      "out T3 changed buffer\n",
      "T3\n"
     ]
    },
    {
     "name": "stderr",
     "output_type": "stream",
     "text": [
      "Edge 354 has adjacent triangular faces can't perform IH transition, aborting\n",
      "Edge 354 has adjacent triangular faces can't perform IH transition, aborting\n",
      "Edge 353 has adjacent triangular faces can't perform IH transition, aborting\n",
      "Edge 355 is not a valid junction to perform IH transition, aborting\n",
      "Edge 354 has adjacent triangular faces can't perform IH transition, aborting\n",
      "Edge 353 has adjacent triangular faces can't perform IH transition, aborting\n",
      "Edge 353 has adjacent triangular faces can't perform IH transition, aborting\n",
      "Edge 355 is not a valid junction to perform IH transition, aborting\n",
      "Edge 354 has adjacent triangular faces can't perform IH transition, aborting\n",
      "Edge 354 has adjacent triangular faces can't perform IH transition, aborting\n",
      "/home/guillaume/miniconda3/envs/py37/lib/python3.7/site-packages/tyssue-0.3.3rc1-py3.7-linux-x86_64.egg/tyssue/topology/bulk_topology.py:416: UserWarning: Invalid topology for a HI transition, aborting\n",
      "  warnings.warn(\"Invalid topology for a HI transition, aborting\")\n"
     ]
    },
    {
     "name": "stdout",
     "output_type": "stream",
     "text": [
      "out T1 changed buffer\n",
      "T1\n"
     ]
    },
    {
     "name": "stderr",
     "output_type": "stream",
     "text": [
      "/home/guillaume/miniconda3/envs/py37/lib/python3.7/site-packages/tyssue-0.3.3rc1-py3.7-linux-x86_64.egg/tyssue/topology/bulk_topology.py:416: UserWarning: Invalid topology for a HI transition, aborting\n",
      "  warnings.warn(\"Invalid topology for a HI transition, aborting\")\n",
      "/home/guillaume/miniconda3/envs/py37/lib/python3.7/site-packages/tyssue-0.3.3rc1-py3.7-linux-x86_64.egg/tyssue/topology/bulk_topology.py:416: UserWarning: Invalid topology for a HI transition, aborting\n",
      "  warnings.warn(\"Invalid topology for a HI transition, aborting\")\n",
      "/home/guillaume/miniconda3/envs/py37/lib/python3.7/site-packages/tyssue-0.3.3rc1-py3.7-linux-x86_64.egg/tyssue/topology/bulk_topology.py:416: UserWarning: Invalid topology for a HI transition, aborting\n",
      "  warnings.warn(\"Invalid topology for a HI transition, aborting\")\n",
      "/home/guillaume/miniconda3/envs/py37/lib/python3.7/site-packages/tyssue-0.3.3rc1-py3.7-linux-x86_64.egg/tyssue/topology/bulk_topology.py:416: UserWarning: Invalid topology for a HI transition, aborting\n",
      "  warnings.warn(\"Invalid topology for a HI transition, aborting\")\n",
      "/home/guillaume/miniconda3/envs/py37/lib/python3.7/site-packages/tyssue-0.3.3rc1-py3.7-linux-x86_64.egg/tyssue/topology/bulk_topology.py:416: UserWarning: Invalid topology for a HI transition, aborting\n",
      "  warnings.warn(\"Invalid topology for a HI transition, aborting\")\n",
      "/home/guillaume/miniconda3/envs/py37/lib/python3.7/site-packages/tyssue-0.3.3rc1-py3.7-linux-x86_64.egg/tyssue/topology/bulk_topology.py:416: UserWarning: Invalid topology for a HI transition, aborting\n",
      "  warnings.warn(\"Invalid topology for a HI transition, aborting\")\n",
      "/home/guillaume/miniconda3/envs/py37/lib/python3.7/site-packages/tyssue-0.3.3rc1-py3.7-linux-x86_64.egg/tyssue/topology/bulk_topology.py:416: UserWarning: Invalid topology for a HI transition, aborting\n",
      "  warnings.warn(\"Invalid topology for a HI transition, aborting\")\n",
      "/home/guillaume/miniconda3/envs/py37/lib/python3.7/site-packages/tyssue-0.3.3rc1-py3.7-linux-x86_64.egg/tyssue/topology/bulk_topology.py:416: UserWarning: Invalid topology for a HI transition, aborting\n",
      "  warnings.warn(\"Invalid topology for a HI transition, aborting\")\n",
      "/home/guillaume/miniconda3/envs/py37/lib/python3.7/site-packages/tyssue-0.3.3rc1-py3.7-linux-x86_64.egg/tyssue/topology/bulk_topology.py:416: UserWarning: Invalid topology for a HI transition, aborting\n",
      "  warnings.warn(\"Invalid topology for a HI transition, aborting\")\n",
      "/home/guillaume/miniconda3/envs/py37/lib/python3.7/site-packages/tyssue-0.3.3rc1-py3.7-linux-x86_64.egg/tyssue/topology/bulk_topology.py:416: UserWarning: Invalid topology for a HI transition, aborting\n",
      "  warnings.warn(\"Invalid topology for a HI transition, aborting\")\n",
      "Edge 353 has adjacent triangular faces can't perform IH transition, aborting\n"
     ]
    },
    {
     "name": "stdout",
     "output_type": "stream",
     "text": [
      "out T3 changed buffer\n",
      "T3\n"
     ]
    },
    {
     "name": "stderr",
     "output_type": "stream",
     "text": [
      "Edge 354 has adjacent triangular faces can't perform IH transition, aborting\n",
      "Edge 355 is not a valid junction to perform IH transition, aborting\n",
      "Edge 354 has adjacent triangular faces can't perform IH transition, aborting\n",
      "Edge 354 has adjacent triangular faces can't perform IH transition, aborting\n",
      "Edge 353 has adjacent triangular faces can't perform IH transition, aborting\n",
      "Edge 353 has adjacent triangular faces can't perform IH transition, aborting\n",
      "Edge 355 is not a valid junction to perform IH transition, aborting\n",
      "Edge 353 has adjacent triangular faces can't perform IH transition, aborting\n",
      "Edge 355 is not a valid junction to perform IH transition, aborting\n",
      "Edge 353 has adjacent triangular faces can't perform IH transition, aborting\n",
      "/home/guillaume/miniconda3/envs/py37/lib/python3.7/site-packages/tyssue-0.3.3rc1-py3.7-linux-x86_64.egg/tyssue/topology/bulk_topology.py:416: UserWarning: Invalid topology for a HI transition, aborting\n",
      "  warnings.warn(\"Invalid topology for a HI transition, aborting\")\n"
     ]
    },
    {
     "name": "stdout",
     "output_type": "stream",
     "text": [
      "out T1 changed buffer\n",
      "T1\n"
     ]
    },
    {
     "name": "stderr",
     "output_type": "stream",
     "text": [
      "/home/guillaume/miniconda3/envs/py37/lib/python3.7/site-packages/tyssue-0.3.3rc1-py3.7-linux-x86_64.egg/tyssue/topology/bulk_topology.py:416: UserWarning: Invalid topology for a HI transition, aborting\n",
      "  warnings.warn(\"Invalid topology for a HI transition, aborting\")\n",
      "/home/guillaume/miniconda3/envs/py37/lib/python3.7/site-packages/tyssue-0.3.3rc1-py3.7-linux-x86_64.egg/tyssue/topology/bulk_topology.py:416: UserWarning: Invalid topology for a HI transition, aborting\n",
      "  warnings.warn(\"Invalid topology for a HI transition, aborting\")\n",
      "/home/guillaume/miniconda3/envs/py37/lib/python3.7/site-packages/tyssue-0.3.3rc1-py3.7-linux-x86_64.egg/tyssue/topology/bulk_topology.py:416: UserWarning: Invalid topology for a HI transition, aborting\n",
      "  warnings.warn(\"Invalid topology for a HI transition, aborting\")\n",
      "/home/guillaume/miniconda3/envs/py37/lib/python3.7/site-packages/tyssue-0.3.3rc1-py3.7-linux-x86_64.egg/tyssue/topology/bulk_topology.py:416: UserWarning: Invalid topology for a HI transition, aborting\n",
      "  warnings.warn(\"Invalid topology for a HI transition, aborting\")\n",
      "/home/guillaume/miniconda3/envs/py37/lib/python3.7/site-packages/tyssue-0.3.3rc1-py3.7-linux-x86_64.egg/tyssue/topology/bulk_topology.py:416: UserWarning: Invalid topology for a HI transition, aborting\n",
      "  warnings.warn(\"Invalid topology for a HI transition, aborting\")\n",
      "/home/guillaume/miniconda3/envs/py37/lib/python3.7/site-packages/tyssue-0.3.3rc1-py3.7-linux-x86_64.egg/tyssue/topology/bulk_topology.py:416: UserWarning: Invalid topology for a HI transition, aborting\n",
      "  warnings.warn(\"Invalid topology for a HI transition, aborting\")\n",
      "/home/guillaume/miniconda3/envs/py37/lib/python3.7/site-packages/tyssue-0.3.3rc1-py3.7-linux-x86_64.egg/tyssue/topology/bulk_topology.py:416: UserWarning: Invalid topology for a HI transition, aborting\n",
      "  warnings.warn(\"Invalid topology for a HI transition, aborting\")\n",
      "/home/guillaume/miniconda3/envs/py37/lib/python3.7/site-packages/tyssue-0.3.3rc1-py3.7-linux-x86_64.egg/tyssue/topology/bulk_topology.py:416: UserWarning: Invalid topology for a HI transition, aborting\n",
      "  warnings.warn(\"Invalid topology for a HI transition, aborting\")\n",
      "/home/guillaume/miniconda3/envs/py37/lib/python3.7/site-packages/tyssue-0.3.3rc1-py3.7-linux-x86_64.egg/tyssue/topology/bulk_topology.py:416: UserWarning: Invalid topology for a HI transition, aborting\n",
      "  warnings.warn(\"Invalid topology for a HI transition, aborting\")\n",
      "/home/guillaume/miniconda3/envs/py37/lib/python3.7/site-packages/tyssue-0.3.3rc1-py3.7-linux-x86_64.egg/tyssue/topology/bulk_topology.py:416: UserWarning: Invalid topology for a HI transition, aborting\n",
      "  warnings.warn(\"Invalid topology for a HI transition, aborting\")\n",
      "Edge 353 has adjacent triangular faces can't perform IH transition, aborting\n"
     ]
    },
    {
     "name": "stdout",
     "output_type": "stream",
     "text": [
      "out T3 changed buffer\n",
      "T3\n"
     ]
    },
    {
     "name": "stderr",
     "output_type": "stream",
     "text": [
      "Edge 354 has adjacent triangular faces can't perform IH transition, aborting\n",
      "Edge 353 has adjacent triangular faces can't perform IH transition, aborting\n",
      "Edge 354 has adjacent triangular faces can't perform IH transition, aborting\n",
      "Edge 355 is not a valid junction to perform IH transition, aborting\n",
      "Edge 353 has adjacent triangular faces can't perform IH transition, aborting\n",
      "Edge 355 is not a valid junction to perform IH transition, aborting\n",
      "Edge 354 has adjacent triangular faces can't perform IH transition, aborting\n",
      "Edge 354 has adjacent triangular faces can't perform IH transition, aborting\n",
      "Edge 353 has adjacent triangular faces can't perform IH transition, aborting\n",
      "Edge 353 has adjacent triangular faces can't perform IH transition, aborting\n",
      "/home/guillaume/miniconda3/envs/py37/lib/python3.7/site-packages/tyssue-0.3.3rc1-py3.7-linux-x86_64.egg/tyssue/topology/bulk_topology.py:416: UserWarning: Invalid topology for a HI transition, aborting\n",
      "  warnings.warn(\"Invalid topology for a HI transition, aborting\")\n"
     ]
    },
    {
     "name": "stdout",
     "output_type": "stream",
     "text": [
      "out T1 changed buffer\n",
      "T1\n"
     ]
    },
    {
     "name": "stderr",
     "output_type": "stream",
     "text": [
      "/home/guillaume/miniconda3/envs/py37/lib/python3.7/site-packages/tyssue-0.3.3rc1-py3.7-linux-x86_64.egg/tyssue/topology/bulk_topology.py:416: UserWarning: Invalid topology for a HI transition, aborting\n",
      "  warnings.warn(\"Invalid topology for a HI transition, aborting\")\n",
      "/home/guillaume/miniconda3/envs/py37/lib/python3.7/site-packages/tyssue-0.3.3rc1-py3.7-linux-x86_64.egg/tyssue/topology/bulk_topology.py:416: UserWarning: Invalid topology for a HI transition, aborting\n",
      "  warnings.warn(\"Invalid topology for a HI transition, aborting\")\n",
      "/home/guillaume/miniconda3/envs/py37/lib/python3.7/site-packages/tyssue-0.3.3rc1-py3.7-linux-x86_64.egg/tyssue/topology/bulk_topology.py:416: UserWarning: Invalid topology for a HI transition, aborting\n",
      "  warnings.warn(\"Invalid topology for a HI transition, aborting\")\n",
      "/home/guillaume/miniconda3/envs/py37/lib/python3.7/site-packages/tyssue-0.3.3rc1-py3.7-linux-x86_64.egg/tyssue/topology/bulk_topology.py:416: UserWarning: Invalid topology for a HI transition, aborting\n",
      "  warnings.warn(\"Invalid topology for a HI transition, aborting\")\n",
      "/home/guillaume/miniconda3/envs/py37/lib/python3.7/site-packages/tyssue-0.3.3rc1-py3.7-linux-x86_64.egg/tyssue/topology/bulk_topology.py:416: UserWarning: Invalid topology for a HI transition, aborting\n",
      "  warnings.warn(\"Invalid topology for a HI transition, aborting\")\n",
      "/home/guillaume/miniconda3/envs/py37/lib/python3.7/site-packages/tyssue-0.3.3rc1-py3.7-linux-x86_64.egg/tyssue/topology/bulk_topology.py:416: UserWarning: Invalid topology for a HI transition, aborting\n",
      "  warnings.warn(\"Invalid topology for a HI transition, aborting\")\n",
      "/home/guillaume/miniconda3/envs/py37/lib/python3.7/site-packages/tyssue-0.3.3rc1-py3.7-linux-x86_64.egg/tyssue/topology/bulk_topology.py:416: UserWarning: Invalid topology for a HI transition, aborting\n",
      "  warnings.warn(\"Invalid topology for a HI transition, aborting\")\n",
      "/home/guillaume/miniconda3/envs/py37/lib/python3.7/site-packages/tyssue-0.3.3rc1-py3.7-linux-x86_64.egg/tyssue/topology/bulk_topology.py:416: UserWarning: Invalid topology for a HI transition, aborting\n",
      "  warnings.warn(\"Invalid topology for a HI transition, aborting\")\n",
      "/home/guillaume/miniconda3/envs/py37/lib/python3.7/site-packages/tyssue-0.3.3rc1-py3.7-linux-x86_64.egg/tyssue/topology/bulk_topology.py:416: UserWarning: Invalid topology for a HI transition, aborting\n",
      "  warnings.warn(\"Invalid topology for a HI transition, aborting\")\n",
      "/home/guillaume/miniconda3/envs/py37/lib/python3.7/site-packages/tyssue-0.3.3rc1-py3.7-linux-x86_64.egg/tyssue/topology/bulk_topology.py:416: UserWarning: Invalid topology for a HI transition, aborting\n",
      "  warnings.warn(\"Invalid topology for a HI transition, aborting\")\n",
      "Edge 354 has adjacent triangular faces can't perform IH transition, aborting\n"
     ]
    },
    {
     "name": "stdout",
     "output_type": "stream",
     "text": [
      "out T3 changed buffer\n",
      "T3\n"
     ]
    },
    {
     "name": "stderr",
     "output_type": "stream",
     "text": [
      "Edge 354 has adjacent triangular faces can't perform IH transition, aborting\n",
      "Edge 355 is not a valid junction to perform IH transition, aborting\n",
      "Edge 354 has adjacent triangular faces can't perform IH transition, aborting\n",
      "Edge 353 has adjacent triangular faces can't perform IH transition, aborting\n",
      "Edge 354 has adjacent triangular faces can't perform IH transition, aborting\n",
      "Edge 353 has adjacent triangular faces can't perform IH transition, aborting\n",
      "Edge 353 has adjacent triangular faces can't perform IH transition, aborting\n",
      "Edge 354 has adjacent triangular faces can't perform IH transition, aborting\n",
      "Edge 354 has adjacent triangular faces can't perform IH transition, aborting\n",
      "Edge 353 has adjacent triangular faces can't perform IH transition, aborting\n",
      "/home/guillaume/miniconda3/envs/py37/lib/python3.7/site-packages/tyssue-0.3.3rc1-py3.7-linux-x86_64.egg/tyssue/topology/bulk_topology.py:416: UserWarning: Invalid topology for a HI transition, aborting\n",
      "  warnings.warn(\"Invalid topology for a HI transition, aborting\")\n"
     ]
    },
    {
     "name": "stdout",
     "output_type": "stream",
     "text": [
      "out T1 changed buffer\n",
      "T1\n"
     ]
    },
    {
     "name": "stderr",
     "output_type": "stream",
     "text": [
      "/home/guillaume/miniconda3/envs/py37/lib/python3.7/site-packages/tyssue-0.3.3rc1-py3.7-linux-x86_64.egg/tyssue/topology/bulk_topology.py:416: UserWarning: Invalid topology for a HI transition, aborting\n",
      "  warnings.warn(\"Invalid topology for a HI transition, aborting\")\n",
      "/home/guillaume/miniconda3/envs/py37/lib/python3.7/site-packages/tyssue-0.3.3rc1-py3.7-linux-x86_64.egg/tyssue/topology/bulk_topology.py:416: UserWarning: Invalid topology for a HI transition, aborting\n",
      "  warnings.warn(\"Invalid topology for a HI transition, aborting\")\n",
      "/home/guillaume/miniconda3/envs/py37/lib/python3.7/site-packages/tyssue-0.3.3rc1-py3.7-linux-x86_64.egg/tyssue/topology/bulk_topology.py:416: UserWarning: Invalid topology for a HI transition, aborting\n",
      "  warnings.warn(\"Invalid topology for a HI transition, aborting\")\n",
      "/home/guillaume/miniconda3/envs/py37/lib/python3.7/site-packages/tyssue-0.3.3rc1-py3.7-linux-x86_64.egg/tyssue/topology/bulk_topology.py:416: UserWarning: Invalid topology for a HI transition, aborting\n",
      "  warnings.warn(\"Invalid topology for a HI transition, aborting\")\n",
      "/home/guillaume/miniconda3/envs/py37/lib/python3.7/site-packages/tyssue-0.3.3rc1-py3.7-linux-x86_64.egg/tyssue/topology/bulk_topology.py:416: UserWarning: Invalid topology for a HI transition, aborting\n",
      "  warnings.warn(\"Invalid topology for a HI transition, aborting\")\n",
      "/home/guillaume/miniconda3/envs/py37/lib/python3.7/site-packages/tyssue-0.3.3rc1-py3.7-linux-x86_64.egg/tyssue/topology/bulk_topology.py:416: UserWarning: Invalid topology for a HI transition, aborting\n",
      "  warnings.warn(\"Invalid topology for a HI transition, aborting\")\n",
      "/home/guillaume/miniconda3/envs/py37/lib/python3.7/site-packages/tyssue-0.3.3rc1-py3.7-linux-x86_64.egg/tyssue/topology/bulk_topology.py:416: UserWarning: Invalid topology for a HI transition, aborting\n",
      "  warnings.warn(\"Invalid topology for a HI transition, aborting\")\n",
      "/home/guillaume/miniconda3/envs/py37/lib/python3.7/site-packages/tyssue-0.3.3rc1-py3.7-linux-x86_64.egg/tyssue/topology/bulk_topology.py:416: UserWarning: Invalid topology for a HI transition, aborting\n",
      "  warnings.warn(\"Invalid topology for a HI transition, aborting\")\n",
      "/home/guillaume/miniconda3/envs/py37/lib/python3.7/site-packages/tyssue-0.3.3rc1-py3.7-linux-x86_64.egg/tyssue/topology/bulk_topology.py:416: UserWarning: Invalid topology for a HI transition, aborting\n",
      "  warnings.warn(\"Invalid topology for a HI transition, aborting\")\n",
      "/home/guillaume/miniconda3/envs/py37/lib/python3.7/site-packages/tyssue-0.3.3rc1-py3.7-linux-x86_64.egg/tyssue/topology/bulk_topology.py:416: UserWarning: Invalid topology for a HI transition, aborting\n",
      "  warnings.warn(\"Invalid topology for a HI transition, aborting\")\n",
      "Edge 355 is not a valid junction to perform IH transition, aborting\n"
     ]
    },
    {
     "name": "stdout",
     "output_type": "stream",
     "text": [
      "out T3 changed buffer\n",
      "T3\n"
     ]
    },
    {
     "name": "stderr",
     "output_type": "stream",
     "text": [
      "Edge 354 has adjacent triangular faces can't perform IH transition, aborting\n",
      "Edge 353 has adjacent triangular faces can't perform IH transition, aborting\n",
      "Edge 354 has adjacent triangular faces can't perform IH transition, aborting\n",
      "Edge 355 is not a valid junction to perform IH transition, aborting\n",
      "Edge 354 has adjacent triangular faces can't perform IH transition, aborting\n",
      "Edge 353 has adjacent triangular faces can't perform IH transition, aborting\n",
      "Edge 354 has adjacent triangular faces can't perform IH transition, aborting\n",
      "Edge 354 has adjacent triangular faces can't perform IH transition, aborting\n",
      "Edge 353 has adjacent triangular faces can't perform IH transition, aborting\n",
      "Edge 355 is not a valid junction to perform IH transition, aborting\n"
     ]
    },
    {
     "name": "stdout",
     "output_type": "stream",
     "text": [
      "out T1 changed buffer\n",
      "T1\n"
     ]
    },
    {
     "name": "stderr",
     "output_type": "stream",
     "text": [
      "/home/guillaume/miniconda3/envs/py37/lib/python3.7/site-packages/tyssue-0.3.3rc1-py3.7-linux-x86_64.egg/tyssue/topology/bulk_topology.py:416: UserWarning: Invalid topology for a HI transition, aborting\n",
      "  warnings.warn(\"Invalid topology for a HI transition, aborting\")\n",
      "/home/guillaume/miniconda3/envs/py37/lib/python3.7/site-packages/tyssue-0.3.3rc1-py3.7-linux-x86_64.egg/tyssue/topology/bulk_topology.py:416: UserWarning: Invalid topology for a HI transition, aborting\n",
      "  warnings.warn(\"Invalid topology for a HI transition, aborting\")\n",
      "/home/guillaume/miniconda3/envs/py37/lib/python3.7/site-packages/tyssue-0.3.3rc1-py3.7-linux-x86_64.egg/tyssue/topology/bulk_topology.py:416: UserWarning: Invalid topology for a HI transition, aborting\n",
      "  warnings.warn(\"Invalid topology for a HI transition, aborting\")\n",
      "/home/guillaume/miniconda3/envs/py37/lib/python3.7/site-packages/tyssue-0.3.3rc1-py3.7-linux-x86_64.egg/tyssue/topology/bulk_topology.py:416: UserWarning: Invalid topology for a HI transition, aborting\n",
      "  warnings.warn(\"Invalid topology for a HI transition, aborting\")\n",
      "/home/guillaume/miniconda3/envs/py37/lib/python3.7/site-packages/tyssue-0.3.3rc1-py3.7-linux-x86_64.egg/tyssue/topology/bulk_topology.py:416: UserWarning: Invalid topology for a HI transition, aborting\n",
      "  warnings.warn(\"Invalid topology for a HI transition, aborting\")\n",
      "/home/guillaume/miniconda3/envs/py37/lib/python3.7/site-packages/tyssue-0.3.3rc1-py3.7-linux-x86_64.egg/tyssue/topology/bulk_topology.py:416: UserWarning: Invalid topology for a HI transition, aborting\n",
      "  warnings.warn(\"Invalid topology for a HI transition, aborting\")\n",
      "/home/guillaume/miniconda3/envs/py37/lib/python3.7/site-packages/tyssue-0.3.3rc1-py3.7-linux-x86_64.egg/tyssue/topology/bulk_topology.py:416: UserWarning: Invalid topology for a HI transition, aborting\n",
      "  warnings.warn(\"Invalid topology for a HI transition, aborting\")\n",
      "/home/guillaume/miniconda3/envs/py37/lib/python3.7/site-packages/tyssue-0.3.3rc1-py3.7-linux-x86_64.egg/tyssue/topology/bulk_topology.py:416: UserWarning: Invalid topology for a HI transition, aborting\n",
      "  warnings.warn(\"Invalid topology for a HI transition, aborting\")\n",
      "/home/guillaume/miniconda3/envs/py37/lib/python3.7/site-packages/tyssue-0.3.3rc1-py3.7-linux-x86_64.egg/tyssue/topology/bulk_topology.py:416: UserWarning: Invalid topology for a HI transition, aborting\n",
      "  warnings.warn(\"Invalid topology for a HI transition, aborting\")\n",
      "/home/guillaume/miniconda3/envs/py37/lib/python3.7/site-packages/tyssue-0.3.3rc1-py3.7-linux-x86_64.egg/tyssue/topology/bulk_topology.py:416: UserWarning: Invalid topology for a HI transition, aborting\n",
      "  warnings.warn(\"Invalid topology for a HI transition, aborting\")\n",
      "/home/guillaume/miniconda3/envs/py37/lib/python3.7/site-packages/tyssue-0.3.3rc1-py3.7-linux-x86_64.egg/tyssue/topology/bulk_topology.py:416: UserWarning: Invalid topology for a HI transition, aborting\n",
      "  warnings.warn(\"Invalid topology for a HI transition, aborting\")\n",
      "Edge 354 has adjacent triangular faces can't perform IH transition, aborting\n"
     ]
    },
    {
     "name": "stdout",
     "output_type": "stream",
     "text": [
      "out T3 changed buffer\n",
      "T3\n"
     ]
    },
    {
     "name": "stderr",
     "output_type": "stream",
     "text": [
      "Edge 355 is not a valid junction to perform IH transition, aborting\n",
      "Edge 353 has adjacent triangular faces can't perform IH transition, aborting\n",
      "Edge 354 has adjacent triangular faces can't perform IH transition, aborting\n",
      "Edge 354 has adjacent triangular faces can't perform IH transition, aborting\n",
      "Edge 354 has adjacent triangular faces can't perform IH transition, aborting\n",
      "Edge 354 has adjacent triangular faces can't perform IH transition, aborting\n",
      "Edge 353 has adjacent triangular faces can't perform IH transition, aborting\n",
      "Edge 354 has adjacent triangular faces can't perform IH transition, aborting\n",
      "Edge 353 has adjacent triangular faces can't perform IH transition, aborting\n",
      "Edge 354 has adjacent triangular faces can't perform IH transition, aborting\n",
      "/home/guillaume/miniconda3/envs/py37/lib/python3.7/site-packages/tyssue-0.3.3rc1-py3.7-linux-x86_64.egg/tyssue/topology/bulk_topology.py:416: UserWarning: Invalid topology for a HI transition, aborting\n",
      "  warnings.warn(\"Invalid topology for a HI transition, aborting\")\n"
     ]
    },
    {
     "name": "stdout",
     "output_type": "stream",
     "text": [
      "out T1 changed buffer\n",
      "T1\n"
     ]
    },
    {
     "name": "stderr",
     "output_type": "stream",
     "text": [
      "/home/guillaume/miniconda3/envs/py37/lib/python3.7/site-packages/tyssue-0.3.3rc1-py3.7-linux-x86_64.egg/tyssue/topology/bulk_topology.py:416: UserWarning: Invalid topology for a HI transition, aborting\n",
      "  warnings.warn(\"Invalid topology for a HI transition, aborting\")\n",
      "/home/guillaume/miniconda3/envs/py37/lib/python3.7/site-packages/tyssue-0.3.3rc1-py3.7-linux-x86_64.egg/tyssue/topology/bulk_topology.py:416: UserWarning: Invalid topology for a HI transition, aborting\n",
      "  warnings.warn(\"Invalid topology for a HI transition, aborting\")\n",
      "/home/guillaume/miniconda3/envs/py37/lib/python3.7/site-packages/tyssue-0.3.3rc1-py3.7-linux-x86_64.egg/tyssue/topology/bulk_topology.py:416: UserWarning: Invalid topology for a HI transition, aborting\n",
      "  warnings.warn(\"Invalid topology for a HI transition, aborting\")\n",
      "/home/guillaume/miniconda3/envs/py37/lib/python3.7/site-packages/tyssue-0.3.3rc1-py3.7-linux-x86_64.egg/tyssue/topology/bulk_topology.py:416: UserWarning: Invalid topology for a HI transition, aborting\n",
      "  warnings.warn(\"Invalid topology for a HI transition, aborting\")\n",
      "/home/guillaume/miniconda3/envs/py37/lib/python3.7/site-packages/tyssue-0.3.3rc1-py3.7-linux-x86_64.egg/tyssue/topology/bulk_topology.py:416: UserWarning: Invalid topology for a HI transition, aborting\n",
      "  warnings.warn(\"Invalid topology for a HI transition, aborting\")\n",
      "/home/guillaume/miniconda3/envs/py37/lib/python3.7/site-packages/tyssue-0.3.3rc1-py3.7-linux-x86_64.egg/tyssue/topology/bulk_topology.py:416: UserWarning: Invalid topology for a HI transition, aborting\n",
      "  warnings.warn(\"Invalid topology for a HI transition, aborting\")\n",
      "/home/guillaume/miniconda3/envs/py37/lib/python3.7/site-packages/tyssue-0.3.3rc1-py3.7-linux-x86_64.egg/tyssue/topology/bulk_topology.py:416: UserWarning: Invalid topology for a HI transition, aborting\n",
      "  warnings.warn(\"Invalid topology for a HI transition, aborting\")\n",
      "/home/guillaume/miniconda3/envs/py37/lib/python3.7/site-packages/tyssue-0.3.3rc1-py3.7-linux-x86_64.egg/tyssue/topology/bulk_topology.py:416: UserWarning: Invalid topology for a HI transition, aborting\n",
      "  warnings.warn(\"Invalid topology for a HI transition, aborting\")\n",
      "/home/guillaume/miniconda3/envs/py37/lib/python3.7/site-packages/tyssue-0.3.3rc1-py3.7-linux-x86_64.egg/tyssue/topology/bulk_topology.py:416: UserWarning: Invalid topology for a HI transition, aborting\n",
      "  warnings.warn(\"Invalid topology for a HI transition, aborting\")\n",
      "/home/guillaume/miniconda3/envs/py37/lib/python3.7/site-packages/tyssue-0.3.3rc1-py3.7-linux-x86_64.egg/tyssue/topology/bulk_topology.py:416: UserWarning: Invalid topology for a HI transition, aborting\n",
      "  warnings.warn(\"Invalid topology for a HI transition, aborting\")\n",
      "Edge 354 has adjacent triangular faces can't perform IH transition, aborting\n"
     ]
    },
    {
     "name": "stdout",
     "output_type": "stream",
     "text": [
      "out T3 changed buffer\n",
      "T3\n"
     ]
    },
    {
     "name": "stderr",
     "output_type": "stream",
     "text": [
      "Edge 353 has adjacent triangular faces can't perform IH transition, aborting\n",
      "Edge 353 has adjacent triangular faces can't perform IH transition, aborting\n",
      "Edge 354 has adjacent triangular faces can't perform IH transition, aborting\n",
      "Edge 353 has adjacent triangular faces can't perform IH transition, aborting\n",
      "Edge 353 has adjacent triangular faces can't perform IH transition, aborting\n",
      "Edge 355 is not a valid junction to perform IH transition, aborting\n",
      "Edge 354 has adjacent triangular faces can't perform IH transition, aborting\n",
      "Edge 354 has adjacent triangular faces can't perform IH transition, aborting\n",
      "Edge 355 is not a valid junction to perform IH transition, aborting\n",
      "Edge 354 has adjacent triangular faces can't perform IH transition, aborting\n",
      "/home/guillaume/miniconda3/envs/py37/lib/python3.7/site-packages/tyssue-0.3.3rc1-py3.7-linux-x86_64.egg/tyssue/topology/bulk_topology.py:416: UserWarning: Invalid topology for a HI transition, aborting\n",
      "  warnings.warn(\"Invalid topology for a HI transition, aborting\")\n"
     ]
    },
    {
     "name": "stdout",
     "output_type": "stream",
     "text": [
      "out T1 changed buffer\n",
      "T1\n"
     ]
    },
    {
     "name": "stderr",
     "output_type": "stream",
     "text": [
      "/home/guillaume/miniconda3/envs/py37/lib/python3.7/site-packages/tyssue-0.3.3rc1-py3.7-linux-x86_64.egg/tyssue/topology/bulk_topology.py:416: UserWarning: Invalid topology for a HI transition, aborting\n",
      "  warnings.warn(\"Invalid topology for a HI transition, aborting\")\n",
      "/home/guillaume/miniconda3/envs/py37/lib/python3.7/site-packages/tyssue-0.3.3rc1-py3.7-linux-x86_64.egg/tyssue/topology/bulk_topology.py:416: UserWarning: Invalid topology for a HI transition, aborting\n",
      "  warnings.warn(\"Invalid topology for a HI transition, aborting\")\n",
      "/home/guillaume/miniconda3/envs/py37/lib/python3.7/site-packages/tyssue-0.3.3rc1-py3.7-linux-x86_64.egg/tyssue/topology/bulk_topology.py:416: UserWarning: Invalid topology for a HI transition, aborting\n",
      "  warnings.warn(\"Invalid topology for a HI transition, aborting\")\n",
      "/home/guillaume/miniconda3/envs/py37/lib/python3.7/site-packages/tyssue-0.3.3rc1-py3.7-linux-x86_64.egg/tyssue/topology/bulk_topology.py:416: UserWarning: Invalid topology for a HI transition, aborting\n",
      "  warnings.warn(\"Invalid topology for a HI transition, aborting\")\n",
      "/home/guillaume/miniconda3/envs/py37/lib/python3.7/site-packages/tyssue-0.3.3rc1-py3.7-linux-x86_64.egg/tyssue/topology/bulk_topology.py:416: UserWarning: Invalid topology for a HI transition, aborting\n",
      "  warnings.warn(\"Invalid topology for a HI transition, aborting\")\n",
      "/home/guillaume/miniconda3/envs/py37/lib/python3.7/site-packages/tyssue-0.3.3rc1-py3.7-linux-x86_64.egg/tyssue/topology/bulk_topology.py:416: UserWarning: Invalid topology for a HI transition, aborting\n",
      "  warnings.warn(\"Invalid topology for a HI transition, aborting\")\n",
      "/home/guillaume/miniconda3/envs/py37/lib/python3.7/site-packages/tyssue-0.3.3rc1-py3.7-linux-x86_64.egg/tyssue/topology/bulk_topology.py:416: UserWarning: Invalid topology for a HI transition, aborting\n",
      "  warnings.warn(\"Invalid topology for a HI transition, aborting\")\n",
      "/home/guillaume/miniconda3/envs/py37/lib/python3.7/site-packages/tyssue-0.3.3rc1-py3.7-linux-x86_64.egg/tyssue/topology/bulk_topology.py:416: UserWarning: Invalid topology for a HI transition, aborting\n",
      "  warnings.warn(\"Invalid topology for a HI transition, aborting\")\n",
      "/home/guillaume/miniconda3/envs/py37/lib/python3.7/site-packages/tyssue-0.3.3rc1-py3.7-linux-x86_64.egg/tyssue/topology/bulk_topology.py:416: UserWarning: Invalid topology for a HI transition, aborting\n",
      "  warnings.warn(\"Invalid topology for a HI transition, aborting\")\n",
      "/home/guillaume/miniconda3/envs/py37/lib/python3.7/site-packages/tyssue-0.3.3rc1-py3.7-linux-x86_64.egg/tyssue/topology/bulk_topology.py:416: UserWarning: Invalid topology for a HI transition, aborting\n",
      "  warnings.warn(\"Invalid topology for a HI transition, aborting\")\n",
      "Edge 355 is not a valid junction to perform IH transition, aborting\n"
     ]
    },
    {
     "name": "stdout",
     "output_type": "stream",
     "text": [
      "out T3 changed buffer\n",
      "T3\n"
     ]
    },
    {
     "name": "stderr",
     "output_type": "stream",
     "text": [
      "Edge 354 has adjacent triangular faces can't perform IH transition, aborting\n",
      "Edge 354 has adjacent triangular faces can't perform IH transition, aborting\n",
      "Edge 354 has adjacent triangular faces can't perform IH transition, aborting\n",
      "Edge 354 has adjacent triangular faces can't perform IH transition, aborting\n",
      "Edge 355 is not a valid junction to perform IH transition, aborting\n",
      "Edge 354 has adjacent triangular faces can't perform IH transition, aborting\n",
      "Edge 354 has adjacent triangular faces can't perform IH transition, aborting\n",
      "Edge 355 is not a valid junction to perform IH transition, aborting\n",
      "Edge 354 has adjacent triangular faces can't perform IH transition, aborting\n",
      "Edge 355 is not a valid junction to perform IH transition, aborting\n",
      "/home/guillaume/miniconda3/envs/py37/lib/python3.7/site-packages/tyssue-0.3.3rc1-py3.7-linux-x86_64.egg/tyssue/topology/bulk_topology.py:416: UserWarning: Invalid topology for a HI transition, aborting\n",
      "  warnings.warn(\"Invalid topology for a HI transition, aborting\")\n"
     ]
    },
    {
     "name": "stdout",
     "output_type": "stream",
     "text": [
      "out T1 changed buffer\n",
      "T1\n"
     ]
    },
    {
     "name": "stderr",
     "output_type": "stream",
     "text": [
      "/home/guillaume/miniconda3/envs/py37/lib/python3.7/site-packages/tyssue-0.3.3rc1-py3.7-linux-x86_64.egg/tyssue/topology/bulk_topology.py:416: UserWarning: Invalid topology for a HI transition, aborting\n",
      "  warnings.warn(\"Invalid topology for a HI transition, aborting\")\n",
      "/home/guillaume/miniconda3/envs/py37/lib/python3.7/site-packages/tyssue-0.3.3rc1-py3.7-linux-x86_64.egg/tyssue/topology/bulk_topology.py:416: UserWarning: Invalid topology for a HI transition, aborting\n",
      "  warnings.warn(\"Invalid topology for a HI transition, aborting\")\n",
      "/home/guillaume/miniconda3/envs/py37/lib/python3.7/site-packages/tyssue-0.3.3rc1-py3.7-linux-x86_64.egg/tyssue/topology/bulk_topology.py:416: UserWarning: Invalid topology for a HI transition, aborting\n",
      "  warnings.warn(\"Invalid topology for a HI transition, aborting\")\n",
      "/home/guillaume/miniconda3/envs/py37/lib/python3.7/site-packages/tyssue-0.3.3rc1-py3.7-linux-x86_64.egg/tyssue/topology/bulk_topology.py:416: UserWarning: Invalid topology for a HI transition, aborting\n",
      "  warnings.warn(\"Invalid topology for a HI transition, aborting\")\n",
      "/home/guillaume/miniconda3/envs/py37/lib/python3.7/site-packages/tyssue-0.3.3rc1-py3.7-linux-x86_64.egg/tyssue/topology/bulk_topology.py:416: UserWarning: Invalid topology for a HI transition, aborting\n",
      "  warnings.warn(\"Invalid topology for a HI transition, aborting\")\n",
      "/home/guillaume/miniconda3/envs/py37/lib/python3.7/site-packages/tyssue-0.3.3rc1-py3.7-linux-x86_64.egg/tyssue/topology/bulk_topology.py:416: UserWarning: Invalid topology for a HI transition, aborting\n",
      "  warnings.warn(\"Invalid topology for a HI transition, aborting\")\n",
      "/home/guillaume/miniconda3/envs/py37/lib/python3.7/site-packages/tyssue-0.3.3rc1-py3.7-linux-x86_64.egg/tyssue/topology/bulk_topology.py:416: UserWarning: Invalid topology for a HI transition, aborting\n",
      "  warnings.warn(\"Invalid topology for a HI transition, aborting\")\n",
      "/home/guillaume/miniconda3/envs/py37/lib/python3.7/site-packages/tyssue-0.3.3rc1-py3.7-linux-x86_64.egg/tyssue/topology/bulk_topology.py:416: UserWarning: Invalid topology for a HI transition, aborting\n",
      "  warnings.warn(\"Invalid topology for a HI transition, aborting\")\n",
      "/home/guillaume/miniconda3/envs/py37/lib/python3.7/site-packages/tyssue-0.3.3rc1-py3.7-linux-x86_64.egg/tyssue/topology/bulk_topology.py:416: UserWarning: Invalid topology for a HI transition, aborting\n",
      "  warnings.warn(\"Invalid topology for a HI transition, aborting\")\n",
      "/home/guillaume/miniconda3/envs/py37/lib/python3.7/site-packages/tyssue-0.3.3rc1-py3.7-linux-x86_64.egg/tyssue/topology/bulk_topology.py:416: UserWarning: Invalid topology for a HI transition, aborting\n",
      "  warnings.warn(\"Invalid topology for a HI transition, aborting\")\n",
      "Edge 354 has adjacent triangular faces can't perform IH transition, aborting\n"
     ]
    },
    {
     "name": "stdout",
     "output_type": "stream",
     "text": [
      "out T3 changed buffer\n",
      "T3\n"
     ]
    },
    {
     "name": "stderr",
     "output_type": "stream",
     "text": [
      "Edge 353 has adjacent triangular faces can't perform IH transition, aborting\n",
      "Edge 354 has adjacent triangular faces can't perform IH transition, aborting\n",
      "Edge 353 has adjacent triangular faces can't perform IH transition, aborting\n",
      "Edge 354 has adjacent triangular faces can't perform IH transition, aborting\n",
      "Edge 355 is not a valid junction to perform IH transition, aborting\n",
      "Edge 354 has adjacent triangular faces can't perform IH transition, aborting\n",
      "Edge 353 has adjacent triangular faces can't perform IH transition, aborting\n",
      "Edge 354 has adjacent triangular faces can't perform IH transition, aborting\n",
      "Edge 353 has adjacent triangular faces can't perform IH transition, aborting\n",
      "Edge 355 is not a valid junction to perform IH transition, aborting\n",
      "/home/guillaume/miniconda3/envs/py37/lib/python3.7/site-packages/tyssue-0.3.3rc1-py3.7-linux-x86_64.egg/tyssue/topology/bulk_topology.py:416: UserWarning: Invalid topology for a HI transition, aborting\n",
      "  warnings.warn(\"Invalid topology for a HI transition, aborting\")\n"
     ]
    },
    {
     "name": "stdout",
     "output_type": "stream",
     "text": [
      "out T1 changed buffer\n",
      "T1\n"
     ]
    },
    {
     "name": "stderr",
     "output_type": "stream",
     "text": [
      "/home/guillaume/miniconda3/envs/py37/lib/python3.7/site-packages/tyssue-0.3.3rc1-py3.7-linux-x86_64.egg/tyssue/topology/bulk_topology.py:416: UserWarning: Invalid topology for a HI transition, aborting\n",
      "  warnings.warn(\"Invalid topology for a HI transition, aborting\")\n",
      "/home/guillaume/miniconda3/envs/py37/lib/python3.7/site-packages/tyssue-0.3.3rc1-py3.7-linux-x86_64.egg/tyssue/topology/bulk_topology.py:416: UserWarning: Invalid topology for a HI transition, aborting\n",
      "  warnings.warn(\"Invalid topology for a HI transition, aborting\")\n",
      "/home/guillaume/miniconda3/envs/py37/lib/python3.7/site-packages/tyssue-0.3.3rc1-py3.7-linux-x86_64.egg/tyssue/topology/bulk_topology.py:416: UserWarning: Invalid topology for a HI transition, aborting\n",
      "  warnings.warn(\"Invalid topology for a HI transition, aborting\")\n",
      "/home/guillaume/miniconda3/envs/py37/lib/python3.7/site-packages/tyssue-0.3.3rc1-py3.7-linux-x86_64.egg/tyssue/topology/bulk_topology.py:416: UserWarning: Invalid topology for a HI transition, aborting\n",
      "  warnings.warn(\"Invalid topology for a HI transition, aborting\")\n",
      "/home/guillaume/miniconda3/envs/py37/lib/python3.7/site-packages/tyssue-0.3.3rc1-py3.7-linux-x86_64.egg/tyssue/topology/bulk_topology.py:416: UserWarning: Invalid topology for a HI transition, aborting\n",
      "  warnings.warn(\"Invalid topology for a HI transition, aborting\")\n",
      "/home/guillaume/miniconda3/envs/py37/lib/python3.7/site-packages/tyssue-0.3.3rc1-py3.7-linux-x86_64.egg/tyssue/topology/bulk_topology.py:416: UserWarning: Invalid topology for a HI transition, aborting\n",
      "  warnings.warn(\"Invalid topology for a HI transition, aborting\")\n",
      "/home/guillaume/miniconda3/envs/py37/lib/python3.7/site-packages/tyssue-0.3.3rc1-py3.7-linux-x86_64.egg/tyssue/topology/bulk_topology.py:416: UserWarning: Invalid topology for a HI transition, aborting\n",
      "  warnings.warn(\"Invalid topology for a HI transition, aborting\")\n",
      "/home/guillaume/miniconda3/envs/py37/lib/python3.7/site-packages/tyssue-0.3.3rc1-py3.7-linux-x86_64.egg/tyssue/topology/bulk_topology.py:416: UserWarning: Invalid topology for a HI transition, aborting\n",
      "  warnings.warn(\"Invalid topology for a HI transition, aborting\")\n",
      "/home/guillaume/miniconda3/envs/py37/lib/python3.7/site-packages/tyssue-0.3.3rc1-py3.7-linux-x86_64.egg/tyssue/topology/bulk_topology.py:416: UserWarning: Invalid topology for a HI transition, aborting\n",
      "  warnings.warn(\"Invalid topology for a HI transition, aborting\")\n",
      "/home/guillaume/miniconda3/envs/py37/lib/python3.7/site-packages/tyssue-0.3.3rc1-py3.7-linux-x86_64.egg/tyssue/topology/bulk_topology.py:416: UserWarning: Invalid topology for a HI transition, aborting\n",
      "  warnings.warn(\"Invalid topology for a HI transition, aborting\")\n",
      "Edge 354 has adjacent triangular faces can't perform IH transition, aborting\n"
     ]
    },
    {
     "name": "stdout",
     "output_type": "stream",
     "text": [
      "out T3 changed buffer\n",
      "T3\n"
     ]
    },
    {
     "name": "stderr",
     "output_type": "stream",
     "text": [
      "Edge 353 has adjacent triangular faces can't perform IH transition, aborting\n",
      "Edge 354 has adjacent triangular faces can't perform IH transition, aborting\n",
      "Edge 353 has adjacent triangular faces can't perform IH transition, aborting\n",
      "Edge 354 has adjacent triangular faces can't perform IH transition, aborting\n",
      "Edge 355 is not a valid junction to perform IH transition, aborting\n",
      "Edge 353 has adjacent triangular faces can't perform IH transition, aborting\n",
      "Edge 354 has adjacent triangular faces can't perform IH transition, aborting\n",
      "Edge 354 has adjacent triangular faces can't perform IH transition, aborting\n",
      "Edge 353 has adjacent triangular faces can't perform IH transition, aborting\n",
      "Edge 353 has adjacent triangular faces can't perform IH transition, aborting\n",
      "/home/guillaume/miniconda3/envs/py37/lib/python3.7/site-packages/tyssue-0.3.3rc1-py3.7-linux-x86_64.egg/tyssue/topology/bulk_topology.py:416: UserWarning: Invalid topology for a HI transition, aborting\n",
      "  warnings.warn(\"Invalid topology for a HI transition, aborting\")\n"
     ]
    },
    {
     "name": "stdout",
     "output_type": "stream",
     "text": [
      "out T1 changed buffer\n",
      "T1\n"
     ]
    },
    {
     "name": "stderr",
     "output_type": "stream",
     "text": [
      "/home/guillaume/miniconda3/envs/py37/lib/python3.7/site-packages/tyssue-0.3.3rc1-py3.7-linux-x86_64.egg/tyssue/topology/bulk_topology.py:416: UserWarning: Invalid topology for a HI transition, aborting\n",
      "  warnings.warn(\"Invalid topology for a HI transition, aborting\")\n",
      "/home/guillaume/miniconda3/envs/py37/lib/python3.7/site-packages/tyssue-0.3.3rc1-py3.7-linux-x86_64.egg/tyssue/topology/bulk_topology.py:416: UserWarning: Invalid topology for a HI transition, aborting\n",
      "  warnings.warn(\"Invalid topology for a HI transition, aborting\")\n",
      "/home/guillaume/miniconda3/envs/py37/lib/python3.7/site-packages/tyssue-0.3.3rc1-py3.7-linux-x86_64.egg/tyssue/topology/bulk_topology.py:416: UserWarning: Invalid topology for a HI transition, aborting\n",
      "  warnings.warn(\"Invalid topology for a HI transition, aborting\")\n",
      "/home/guillaume/miniconda3/envs/py37/lib/python3.7/site-packages/tyssue-0.3.3rc1-py3.7-linux-x86_64.egg/tyssue/topology/bulk_topology.py:416: UserWarning: Invalid topology for a HI transition, aborting\n",
      "  warnings.warn(\"Invalid topology for a HI transition, aborting\")\n",
      "/home/guillaume/miniconda3/envs/py37/lib/python3.7/site-packages/tyssue-0.3.3rc1-py3.7-linux-x86_64.egg/tyssue/topology/bulk_topology.py:416: UserWarning: Invalid topology for a HI transition, aborting\n",
      "  warnings.warn(\"Invalid topology for a HI transition, aborting\")\n",
      "/home/guillaume/miniconda3/envs/py37/lib/python3.7/site-packages/tyssue-0.3.3rc1-py3.7-linux-x86_64.egg/tyssue/topology/bulk_topology.py:416: UserWarning: Invalid topology for a HI transition, aborting\n",
      "  warnings.warn(\"Invalid topology for a HI transition, aborting\")\n",
      "/home/guillaume/miniconda3/envs/py37/lib/python3.7/site-packages/tyssue-0.3.3rc1-py3.7-linux-x86_64.egg/tyssue/topology/bulk_topology.py:416: UserWarning: Invalid topology for a HI transition, aborting\n",
      "  warnings.warn(\"Invalid topology for a HI transition, aborting\")\n",
      "/home/guillaume/miniconda3/envs/py37/lib/python3.7/site-packages/tyssue-0.3.3rc1-py3.7-linux-x86_64.egg/tyssue/topology/bulk_topology.py:416: UserWarning: Invalid topology for a HI transition, aborting\n",
      "  warnings.warn(\"Invalid topology for a HI transition, aborting\")\n",
      "/home/guillaume/miniconda3/envs/py37/lib/python3.7/site-packages/tyssue-0.3.3rc1-py3.7-linux-x86_64.egg/tyssue/topology/bulk_topology.py:416: UserWarning: Invalid topology for a HI transition, aborting\n",
      "  warnings.warn(\"Invalid topology for a HI transition, aborting\")\n",
      "/home/guillaume/miniconda3/envs/py37/lib/python3.7/site-packages/tyssue-0.3.3rc1-py3.7-linux-x86_64.egg/tyssue/topology/bulk_topology.py:416: UserWarning: Invalid topology for a HI transition, aborting\n",
      "  warnings.warn(\"Invalid topology for a HI transition, aborting\")\n",
      "Edge 354 has adjacent triangular faces can't perform IH transition, aborting\n"
     ]
    },
    {
     "name": "stdout",
     "output_type": "stream",
     "text": [
      "out T3 changed buffer\n",
      "T3\n"
     ]
    },
    {
     "name": "stderr",
     "output_type": "stream",
     "text": [
      "Edge 354 has adjacent triangular faces can't perform IH transition, aborting\n",
      "Edge 353 has adjacent triangular faces can't perform IH transition, aborting\n",
      "Edge 355 is not a valid junction to perform IH transition, aborting\n",
      "Edge 353 has adjacent triangular faces can't perform IH transition, aborting\n",
      "Edge 355 is not a valid junction to perform IH transition, aborting\n",
      "Edge 353 has adjacent triangular faces can't perform IH transition, aborting\n",
      "Edge 353 has adjacent triangular faces can't perform IH transition, aborting\n",
      "Edge 353 has adjacent triangular faces can't perform IH transition, aborting\n",
      "Edge 354 has adjacent triangular faces can't perform IH transition, aborting\n",
      "Edge 353 has adjacent triangular faces can't perform IH transition, aborting\n",
      "/home/guillaume/miniconda3/envs/py37/lib/python3.7/site-packages/tyssue-0.3.3rc1-py3.7-linux-x86_64.egg/tyssue/topology/bulk_topology.py:416: UserWarning: Invalid topology for a HI transition, aborting\n",
      "  warnings.warn(\"Invalid topology for a HI transition, aborting\")\n"
     ]
    },
    {
     "name": "stdout",
     "output_type": "stream",
     "text": [
      "out T1 changed buffer\n",
      "T1\n"
     ]
    },
    {
     "name": "stderr",
     "output_type": "stream",
     "text": [
      "/home/guillaume/miniconda3/envs/py37/lib/python3.7/site-packages/tyssue-0.3.3rc1-py3.7-linux-x86_64.egg/tyssue/topology/bulk_topology.py:416: UserWarning: Invalid topology for a HI transition, aborting\n",
      "  warnings.warn(\"Invalid topology for a HI transition, aborting\")\n",
      "/home/guillaume/miniconda3/envs/py37/lib/python3.7/site-packages/tyssue-0.3.3rc1-py3.7-linux-x86_64.egg/tyssue/topology/bulk_topology.py:416: UserWarning: Invalid topology for a HI transition, aborting\n",
      "  warnings.warn(\"Invalid topology for a HI transition, aborting\")\n",
      "/home/guillaume/miniconda3/envs/py37/lib/python3.7/site-packages/tyssue-0.3.3rc1-py3.7-linux-x86_64.egg/tyssue/topology/bulk_topology.py:416: UserWarning: Invalid topology for a HI transition, aborting\n",
      "  warnings.warn(\"Invalid topology for a HI transition, aborting\")\n",
      "/home/guillaume/miniconda3/envs/py37/lib/python3.7/site-packages/tyssue-0.3.3rc1-py3.7-linux-x86_64.egg/tyssue/topology/bulk_topology.py:416: UserWarning: Invalid topology for a HI transition, aborting\n",
      "  warnings.warn(\"Invalid topology for a HI transition, aborting\")\n",
      "/home/guillaume/miniconda3/envs/py37/lib/python3.7/site-packages/tyssue-0.3.3rc1-py3.7-linux-x86_64.egg/tyssue/topology/bulk_topology.py:416: UserWarning: Invalid topology for a HI transition, aborting\n",
      "  warnings.warn(\"Invalid topology for a HI transition, aborting\")\n",
      "/home/guillaume/miniconda3/envs/py37/lib/python3.7/site-packages/tyssue-0.3.3rc1-py3.7-linux-x86_64.egg/tyssue/topology/bulk_topology.py:416: UserWarning: Invalid topology for a HI transition, aborting\n",
      "  warnings.warn(\"Invalid topology for a HI transition, aborting\")\n",
      "/home/guillaume/miniconda3/envs/py37/lib/python3.7/site-packages/tyssue-0.3.3rc1-py3.7-linux-x86_64.egg/tyssue/topology/bulk_topology.py:416: UserWarning: Invalid topology for a HI transition, aborting\n",
      "  warnings.warn(\"Invalid topology for a HI transition, aborting\")\n",
      "/home/guillaume/miniconda3/envs/py37/lib/python3.7/site-packages/tyssue-0.3.3rc1-py3.7-linux-x86_64.egg/tyssue/topology/bulk_topology.py:416: UserWarning: Invalid topology for a HI transition, aborting\n",
      "  warnings.warn(\"Invalid topology for a HI transition, aborting\")\n",
      "/home/guillaume/miniconda3/envs/py37/lib/python3.7/site-packages/tyssue-0.3.3rc1-py3.7-linux-x86_64.egg/tyssue/topology/bulk_topology.py:416: UserWarning: Invalid topology for a HI transition, aborting\n",
      "  warnings.warn(\"Invalid topology for a HI transition, aborting\")\n",
      "/home/guillaume/miniconda3/envs/py37/lib/python3.7/site-packages/tyssue-0.3.3rc1-py3.7-linux-x86_64.egg/tyssue/topology/bulk_topology.py:416: UserWarning: Invalid topology for a HI transition, aborting\n",
      "  warnings.warn(\"Invalid topology for a HI transition, aborting\")\n",
      "Edge 354 has adjacent triangular faces can't perform IH transition, aborting\n"
     ]
    },
    {
     "name": "stdout",
     "output_type": "stream",
     "text": [
      "out T3 changed buffer\n",
      "T3\n"
     ]
    },
    {
     "name": "stderr",
     "output_type": "stream",
     "text": [
      "Edge 354 has adjacent triangular faces can't perform IH transition, aborting\n",
      "Edge 353 has adjacent triangular faces can't perform IH transition, aborting\n",
      "Edge 354 has adjacent triangular faces can't perform IH transition, aborting\n",
      "Edge 353 has adjacent triangular faces can't perform IH transition, aborting\n",
      "Edge 353 has adjacent triangular faces can't perform IH transition, aborting\n",
      "Edge 353 has adjacent triangular faces can't perform IH transition, aborting\n",
      "Edge 353 has adjacent triangular faces can't perform IH transition, aborting\n",
      "Edge 353 has adjacent triangular faces can't perform IH transition, aborting\n",
      "Edge 354 has adjacent triangular faces can't perform IH transition, aborting\n",
      "Edge 354 has adjacent triangular faces can't perform IH transition, aborting\n",
      "/home/guillaume/miniconda3/envs/py37/lib/python3.7/site-packages/tyssue-0.3.3rc1-py3.7-linux-x86_64.egg/tyssue/topology/bulk_topology.py:416: UserWarning: Invalid topology for a HI transition, aborting\n",
      "  warnings.warn(\"Invalid topology for a HI transition, aborting\")\n"
     ]
    },
    {
     "name": "stdout",
     "output_type": "stream",
     "text": [
      "out T1 changed buffer\n",
      "T1\n"
     ]
    },
    {
     "name": "stderr",
     "output_type": "stream",
     "text": [
      "/home/guillaume/miniconda3/envs/py37/lib/python3.7/site-packages/tyssue-0.3.3rc1-py3.7-linux-x86_64.egg/tyssue/topology/bulk_topology.py:416: UserWarning: Invalid topology for a HI transition, aborting\n",
      "  warnings.warn(\"Invalid topology for a HI transition, aborting\")\n",
      "/home/guillaume/miniconda3/envs/py37/lib/python3.7/site-packages/tyssue-0.3.3rc1-py3.7-linux-x86_64.egg/tyssue/topology/bulk_topology.py:416: UserWarning: Invalid topology for a HI transition, aborting\n",
      "  warnings.warn(\"Invalid topology for a HI transition, aborting\")\n",
      "/home/guillaume/miniconda3/envs/py37/lib/python3.7/site-packages/tyssue-0.3.3rc1-py3.7-linux-x86_64.egg/tyssue/topology/bulk_topology.py:416: UserWarning: Invalid topology for a HI transition, aborting\n",
      "  warnings.warn(\"Invalid topology for a HI transition, aborting\")\n",
      "/home/guillaume/miniconda3/envs/py37/lib/python3.7/site-packages/tyssue-0.3.3rc1-py3.7-linux-x86_64.egg/tyssue/topology/bulk_topology.py:416: UserWarning: Invalid topology for a HI transition, aborting\n",
      "  warnings.warn(\"Invalid topology for a HI transition, aborting\")\n",
      "/home/guillaume/miniconda3/envs/py37/lib/python3.7/site-packages/tyssue-0.3.3rc1-py3.7-linux-x86_64.egg/tyssue/topology/bulk_topology.py:416: UserWarning: Invalid topology for a HI transition, aborting\n",
      "  warnings.warn(\"Invalid topology for a HI transition, aborting\")\n",
      "/home/guillaume/miniconda3/envs/py37/lib/python3.7/site-packages/tyssue-0.3.3rc1-py3.7-linux-x86_64.egg/tyssue/topology/bulk_topology.py:416: UserWarning: Invalid topology for a HI transition, aborting\n",
      "  warnings.warn(\"Invalid topology for a HI transition, aborting\")\n",
      "/home/guillaume/miniconda3/envs/py37/lib/python3.7/site-packages/tyssue-0.3.3rc1-py3.7-linux-x86_64.egg/tyssue/topology/bulk_topology.py:416: UserWarning: Invalid topology for a HI transition, aborting\n",
      "  warnings.warn(\"Invalid topology for a HI transition, aborting\")\n",
      "/home/guillaume/miniconda3/envs/py37/lib/python3.7/site-packages/tyssue-0.3.3rc1-py3.7-linux-x86_64.egg/tyssue/topology/bulk_topology.py:416: UserWarning: Invalid topology for a HI transition, aborting\n",
      "  warnings.warn(\"Invalid topology for a HI transition, aborting\")\n",
      "/home/guillaume/miniconda3/envs/py37/lib/python3.7/site-packages/tyssue-0.3.3rc1-py3.7-linux-x86_64.egg/tyssue/topology/bulk_topology.py:416: UserWarning: Invalid topology for a HI transition, aborting\n",
      "  warnings.warn(\"Invalid topology for a HI transition, aborting\")\n",
      "/home/guillaume/miniconda3/envs/py37/lib/python3.7/site-packages/tyssue-0.3.3rc1-py3.7-linux-x86_64.egg/tyssue/topology/bulk_topology.py:416: UserWarning: Invalid topology for a HI transition, aborting\n",
      "  warnings.warn(\"Invalid topology for a HI transition, aborting\")\n",
      "Edge 354 has adjacent triangular faces can't perform IH transition, aborting\n"
     ]
    },
    {
     "name": "stdout",
     "output_type": "stream",
     "text": [
      "out T3 changed buffer\n",
      "T3\n"
     ]
    },
    {
     "name": "stderr",
     "output_type": "stream",
     "text": [
      "Edge 354 has adjacent triangular faces can't perform IH transition, aborting\n",
      "Edge 353 has adjacent triangular faces can't perform IH transition, aborting\n",
      "Edge 353 has adjacent triangular faces can't perform IH transition, aborting\n",
      "Edge 354 has adjacent triangular faces can't perform IH transition, aborting\n",
      "Edge 354 has adjacent triangular faces can't perform IH transition, aborting\n",
      "Edge 354 has adjacent triangular faces can't perform IH transition, aborting\n",
      "Edge 355 is not a valid junction to perform IH transition, aborting\n",
      "Edge 354 has adjacent triangular faces can't perform IH transition, aborting\n",
      "Edge 353 has adjacent triangular faces can't perform IH transition, aborting\n",
      "Edge 353 has adjacent triangular faces can't perform IH transition, aborting\n",
      "/home/guillaume/miniconda3/envs/py37/lib/python3.7/site-packages/tyssue-0.3.3rc1-py3.7-linux-x86_64.egg/tyssue/topology/bulk_topology.py:416: UserWarning: Invalid topology for a HI transition, aborting\n",
      "  warnings.warn(\"Invalid topology for a HI transition, aborting\")\n"
     ]
    },
    {
     "name": "stdout",
     "output_type": "stream",
     "text": [
      "out T1 changed buffer\n",
      "T1\n"
     ]
    },
    {
     "name": "stderr",
     "output_type": "stream",
     "text": [
      "/home/guillaume/miniconda3/envs/py37/lib/python3.7/site-packages/tyssue-0.3.3rc1-py3.7-linux-x86_64.egg/tyssue/topology/bulk_topology.py:416: UserWarning: Invalid topology for a HI transition, aborting\n",
      "  warnings.warn(\"Invalid topology for a HI transition, aborting\")\n",
      "/home/guillaume/miniconda3/envs/py37/lib/python3.7/site-packages/tyssue-0.3.3rc1-py3.7-linux-x86_64.egg/tyssue/topology/bulk_topology.py:416: UserWarning: Invalid topology for a HI transition, aborting\n",
      "  warnings.warn(\"Invalid topology for a HI transition, aborting\")\n",
      "/home/guillaume/miniconda3/envs/py37/lib/python3.7/site-packages/tyssue-0.3.3rc1-py3.7-linux-x86_64.egg/tyssue/topology/bulk_topology.py:416: UserWarning: Invalid topology for a HI transition, aborting\n",
      "  warnings.warn(\"Invalid topology for a HI transition, aborting\")\n",
      "/home/guillaume/miniconda3/envs/py37/lib/python3.7/site-packages/tyssue-0.3.3rc1-py3.7-linux-x86_64.egg/tyssue/topology/bulk_topology.py:416: UserWarning: Invalid topology for a HI transition, aborting\n",
      "  warnings.warn(\"Invalid topology for a HI transition, aborting\")\n",
      "/home/guillaume/miniconda3/envs/py37/lib/python3.7/site-packages/tyssue-0.3.3rc1-py3.7-linux-x86_64.egg/tyssue/topology/bulk_topology.py:416: UserWarning: Invalid topology for a HI transition, aborting\n",
      "  warnings.warn(\"Invalid topology for a HI transition, aborting\")\n",
      "/home/guillaume/miniconda3/envs/py37/lib/python3.7/site-packages/tyssue-0.3.3rc1-py3.7-linux-x86_64.egg/tyssue/topology/bulk_topology.py:416: UserWarning: Invalid topology for a HI transition, aborting\n",
      "  warnings.warn(\"Invalid topology for a HI transition, aborting\")\n",
      "/home/guillaume/miniconda3/envs/py37/lib/python3.7/site-packages/tyssue-0.3.3rc1-py3.7-linux-x86_64.egg/tyssue/topology/bulk_topology.py:416: UserWarning: Invalid topology for a HI transition, aborting\n",
      "  warnings.warn(\"Invalid topology for a HI transition, aborting\")\n",
      "/home/guillaume/miniconda3/envs/py37/lib/python3.7/site-packages/tyssue-0.3.3rc1-py3.7-linux-x86_64.egg/tyssue/topology/bulk_topology.py:416: UserWarning: Invalid topology for a HI transition, aborting\n",
      "  warnings.warn(\"Invalid topology for a HI transition, aborting\")\n",
      "/home/guillaume/miniconda3/envs/py37/lib/python3.7/site-packages/tyssue-0.3.3rc1-py3.7-linux-x86_64.egg/tyssue/topology/bulk_topology.py:416: UserWarning: Invalid topology for a HI transition, aborting\n",
      "  warnings.warn(\"Invalid topology for a HI transition, aborting\")\n",
      "/home/guillaume/miniconda3/envs/py37/lib/python3.7/site-packages/tyssue-0.3.3rc1-py3.7-linux-x86_64.egg/tyssue/topology/bulk_topology.py:416: UserWarning: Invalid topology for a HI transition, aborting\n",
      "  warnings.warn(\"Invalid topology for a HI transition, aborting\")\n",
      "Edge 354 has adjacent triangular faces can't perform IH transition, aborting\n"
     ]
    },
    {
     "name": "stdout",
     "output_type": "stream",
     "text": [
      "out T3 changed buffer\n",
      "T3\n"
     ]
    },
    {
     "name": "stderr",
     "output_type": "stream",
     "text": [
      "Edge 354 has adjacent triangular faces can't perform IH transition, aborting\n",
      "Edge 353 has adjacent triangular faces can't perform IH transition, aborting\n",
      "Edge 353 has adjacent triangular faces can't perform IH transition, aborting\n",
      "Edge 355 is not a valid junction to perform IH transition, aborting\n",
      "Edge 354 has adjacent triangular faces can't perform IH transition, aborting\n",
      "Edge 353 has adjacent triangular faces can't perform IH transition, aborting\n",
      "Edge 355 is not a valid junction to perform IH transition, aborting\n",
      "Edge 353 has adjacent triangular faces can't perform IH transition, aborting\n",
      "Edge 355 is not a valid junction to perform IH transition, aborting\n",
      "Edge 353 has adjacent triangular faces can't perform IH transition, aborting\n",
      "/home/guillaume/miniconda3/envs/py37/lib/python3.7/site-packages/tyssue-0.3.3rc1-py3.7-linux-x86_64.egg/tyssue/topology/bulk_topology.py:416: UserWarning: Invalid topology for a HI transition, aborting\n",
      "  warnings.warn(\"Invalid topology for a HI transition, aborting\")\n"
     ]
    },
    {
     "name": "stdout",
     "output_type": "stream",
     "text": [
      "out T1 changed buffer\n",
      "T1\n"
     ]
    },
    {
     "name": "stderr",
     "output_type": "stream",
     "text": [
      "/home/guillaume/miniconda3/envs/py37/lib/python3.7/site-packages/tyssue-0.3.3rc1-py3.7-linux-x86_64.egg/tyssue/topology/bulk_topology.py:416: UserWarning: Invalid topology for a HI transition, aborting\n",
      "  warnings.warn(\"Invalid topology for a HI transition, aborting\")\n",
      "/home/guillaume/miniconda3/envs/py37/lib/python3.7/site-packages/tyssue-0.3.3rc1-py3.7-linux-x86_64.egg/tyssue/topology/bulk_topology.py:416: UserWarning: Invalid topology for a HI transition, aborting\n",
      "  warnings.warn(\"Invalid topology for a HI transition, aborting\")\n",
      "/home/guillaume/miniconda3/envs/py37/lib/python3.7/site-packages/tyssue-0.3.3rc1-py3.7-linux-x86_64.egg/tyssue/topology/bulk_topology.py:416: UserWarning: Invalid topology for a HI transition, aborting\n",
      "  warnings.warn(\"Invalid topology for a HI transition, aborting\")\n",
      "/home/guillaume/miniconda3/envs/py37/lib/python3.7/site-packages/tyssue-0.3.3rc1-py3.7-linux-x86_64.egg/tyssue/topology/bulk_topology.py:416: UserWarning: Invalid topology for a HI transition, aborting\n",
      "  warnings.warn(\"Invalid topology for a HI transition, aborting\")\n",
      "/home/guillaume/miniconda3/envs/py37/lib/python3.7/site-packages/tyssue-0.3.3rc1-py3.7-linux-x86_64.egg/tyssue/topology/bulk_topology.py:416: UserWarning: Invalid topology for a HI transition, aborting\n",
      "  warnings.warn(\"Invalid topology for a HI transition, aborting\")\n",
      "/home/guillaume/miniconda3/envs/py37/lib/python3.7/site-packages/tyssue-0.3.3rc1-py3.7-linux-x86_64.egg/tyssue/topology/bulk_topology.py:416: UserWarning: Invalid topology for a HI transition, aborting\n",
      "  warnings.warn(\"Invalid topology for a HI transition, aborting\")\n",
      "/home/guillaume/miniconda3/envs/py37/lib/python3.7/site-packages/tyssue-0.3.3rc1-py3.7-linux-x86_64.egg/tyssue/topology/bulk_topology.py:416: UserWarning: Invalid topology for a HI transition, aborting\n",
      "  warnings.warn(\"Invalid topology for a HI transition, aborting\")\n",
      "/home/guillaume/miniconda3/envs/py37/lib/python3.7/site-packages/tyssue-0.3.3rc1-py3.7-linux-x86_64.egg/tyssue/topology/bulk_topology.py:416: UserWarning: Invalid topology for a HI transition, aborting\n",
      "  warnings.warn(\"Invalid topology for a HI transition, aborting\")\n",
      "/home/guillaume/miniconda3/envs/py37/lib/python3.7/site-packages/tyssue-0.3.3rc1-py3.7-linux-x86_64.egg/tyssue/topology/bulk_topology.py:416: UserWarning: Invalid topology for a HI transition, aborting\n",
      "  warnings.warn(\"Invalid topology for a HI transition, aborting\")\n",
      "/home/guillaume/miniconda3/envs/py37/lib/python3.7/site-packages/tyssue-0.3.3rc1-py3.7-linux-x86_64.egg/tyssue/topology/bulk_topology.py:416: UserWarning: Invalid topology for a HI transition, aborting\n",
      "  warnings.warn(\"Invalid topology for a HI transition, aborting\")\n",
      "Edge 353 has adjacent triangular faces can't perform IH transition, aborting\n"
     ]
    },
    {
     "name": "stdout",
     "output_type": "stream",
     "text": [
      "out T3 changed buffer\n",
      "T3\n"
     ]
    },
    {
     "name": "stderr",
     "output_type": "stream",
     "text": [
      "Edge 353 has adjacent triangular faces can't perform IH transition, aborting\n",
      "Edge 355 is not a valid junction to perform IH transition, aborting\n",
      "Edge 354 has adjacent triangular faces can't perform IH transition, aborting\n",
      "Edge 353 has adjacent triangular faces can't perform IH transition, aborting\n",
      "Edge 355 is not a valid junction to perform IH transition, aborting\n",
      "Edge 354 has adjacent triangular faces can't perform IH transition, aborting\n",
      "Edge 355 is not a valid junction to perform IH transition, aborting\n",
      "Edge 354 has adjacent triangular faces can't perform IH transition, aborting\n",
      "Edge 354 has adjacent triangular faces can't perform IH transition, aborting\n",
      "Edge 355 is not a valid junction to perform IH transition, aborting\n",
      "/home/guillaume/miniconda3/envs/py37/lib/python3.7/site-packages/tyssue-0.3.3rc1-py3.7-linux-x86_64.egg/tyssue/topology/bulk_topology.py:416: UserWarning: Invalid topology for a HI transition, aborting\n",
      "  warnings.warn(\"Invalid topology for a HI transition, aborting\")\n"
     ]
    },
    {
     "name": "stdout",
     "output_type": "stream",
     "text": [
      "out T1 changed buffer\n",
      "T1\n"
     ]
    },
    {
     "name": "stderr",
     "output_type": "stream",
     "text": [
      "/home/guillaume/miniconda3/envs/py37/lib/python3.7/site-packages/tyssue-0.3.3rc1-py3.7-linux-x86_64.egg/tyssue/topology/bulk_topology.py:416: UserWarning: Invalid topology for a HI transition, aborting\n",
      "  warnings.warn(\"Invalid topology for a HI transition, aborting\")\n",
      "/home/guillaume/miniconda3/envs/py37/lib/python3.7/site-packages/tyssue-0.3.3rc1-py3.7-linux-x86_64.egg/tyssue/topology/bulk_topology.py:416: UserWarning: Invalid topology for a HI transition, aborting\n",
      "  warnings.warn(\"Invalid topology for a HI transition, aborting\")\n",
      "/home/guillaume/miniconda3/envs/py37/lib/python3.7/site-packages/tyssue-0.3.3rc1-py3.7-linux-x86_64.egg/tyssue/topology/bulk_topology.py:416: UserWarning: Invalid topology for a HI transition, aborting\n",
      "  warnings.warn(\"Invalid topology for a HI transition, aborting\")\n",
      "/home/guillaume/miniconda3/envs/py37/lib/python3.7/site-packages/tyssue-0.3.3rc1-py3.7-linux-x86_64.egg/tyssue/topology/bulk_topology.py:416: UserWarning: Invalid topology for a HI transition, aborting\n",
      "  warnings.warn(\"Invalid topology for a HI transition, aborting\")\n",
      "/home/guillaume/miniconda3/envs/py37/lib/python3.7/site-packages/tyssue-0.3.3rc1-py3.7-linux-x86_64.egg/tyssue/topology/bulk_topology.py:416: UserWarning: Invalid topology for a HI transition, aborting\n",
      "  warnings.warn(\"Invalid topology for a HI transition, aborting\")\n",
      "/home/guillaume/miniconda3/envs/py37/lib/python3.7/site-packages/tyssue-0.3.3rc1-py3.7-linux-x86_64.egg/tyssue/topology/bulk_topology.py:416: UserWarning: Invalid topology for a HI transition, aborting\n",
      "  warnings.warn(\"Invalid topology for a HI transition, aborting\")\n",
      "/home/guillaume/miniconda3/envs/py37/lib/python3.7/site-packages/tyssue-0.3.3rc1-py3.7-linux-x86_64.egg/tyssue/topology/bulk_topology.py:416: UserWarning: Invalid topology for a HI transition, aborting\n",
      "  warnings.warn(\"Invalid topology for a HI transition, aborting\")\n",
      "/home/guillaume/miniconda3/envs/py37/lib/python3.7/site-packages/tyssue-0.3.3rc1-py3.7-linux-x86_64.egg/tyssue/topology/bulk_topology.py:416: UserWarning: Invalid topology for a HI transition, aborting\n",
      "  warnings.warn(\"Invalid topology for a HI transition, aborting\")\n",
      "/home/guillaume/miniconda3/envs/py37/lib/python3.7/site-packages/tyssue-0.3.3rc1-py3.7-linux-x86_64.egg/tyssue/topology/bulk_topology.py:416: UserWarning: Invalid topology for a HI transition, aborting\n",
      "  warnings.warn(\"Invalid topology for a HI transition, aborting\")\n",
      "/home/guillaume/miniconda3/envs/py37/lib/python3.7/site-packages/tyssue-0.3.3rc1-py3.7-linux-x86_64.egg/tyssue/topology/bulk_topology.py:416: UserWarning: Invalid topology for a HI transition, aborting\n",
      "  warnings.warn(\"Invalid topology for a HI transition, aborting\")\n"
     ]
    },
    {
     "name": "stdout",
     "output_type": "stream",
     "text": [
      "out T3 changed buffer\n",
      "T3\n",
      "Not Started\n"
     ]
    }
   ],
   "source": [
    "solver = QSSolver(with_collisions=False, with_t1=True, with_t3=True)\n",
    "res = solver.find_energy_min(eptm, geom, model)\n",
    "print(res['message'])\n"
   ]
  },
  {
   "cell_type": "code",
   "execution_count": null,
   "metadata": {},
   "outputs": [],
   "source": [
    "eptm.topo_changed"
   ]
  },
  {
   "cell_type": "code",
   "execution_count": 15,
   "metadata": {},
   "outputs": [
    {
     "data": {
      "text/plain": [
       "True"
      ]
     },
     "execution_count": 15,
     "metadata": {},
     "output_type": "execute_result"
    }
   ],
   "source": [
    "eptm.validate()"
   ]
  },
  {
   "cell_type": "code",
   "execution_count": 22,
   "metadata": {},
   "outputs": [
    {
     "data": {
      "text/plain": [
       "0.002063248202297611"
      ]
     },
     "execution_count": 22,
     "metadata": {},
     "output_type": "execute_result"
    }
   ],
   "source": [
    "eptm.edge_df.length.min()"
   ]
  },
  {
   "cell_type": "code",
   "execution_count": null,
   "metadata": {},
   "outputs": [
    {
     "ename": "ValueError",
     "evalue": "Plane Not Found",
     "output_type": "error",
     "traceback": [
      "\u001b[0;31m---------------------------------------------------------------------------\u001b[0m",
      "\u001b[0;31mValueError\u001b[0m                                Traceback (most recent call last)",
      "\u001b[0;32m<ipython-input-29-6c58c8250b52>\u001b[0m in \u001b[0;36m<module>\u001b[0;34m\u001b[0m\n\u001b[0;32m----> 1\u001b[0;31m \u001b[0msolve_bulk_collisions\u001b[0m\u001b[0;34m(\u001b[0m\u001b[0meptm\u001b[0m\u001b[0;34m,\u001b[0m \u001b[0meptm\u001b[0m\u001b[0;34m.\u001b[0m\u001b[0mposition_buffer\u001b[0m\u001b[0;34m)\u001b[0m\u001b[0;34m\u001b[0m\u001b[0;34m\u001b[0m\u001b[0m\n\u001b[0m",
      "\u001b[0;32m~/miniconda3/lib/python3.7/site-packages/tyssue-0.3.3rc1-py3.7-linux-x86_64.egg/tyssue/collisions/solvers.py\u001b[0m in \u001b[0;36msolve_bulk_collisions\u001b[0;34m(eptm, position_buffer)\u001b[0m\n\u001b[1;32m     65\u001b[0m         \u001b[0mcolumns\u001b[0m\u001b[0;34m=\u001b[0m\u001b[0msub_sheet\u001b[0m\u001b[0;34m.\u001b[0m\u001b[0mcoords\u001b[0m\u001b[0;34m,\u001b[0m\u001b[0;34m\u001b[0m\u001b[0;34m\u001b[0m\u001b[0m\n\u001b[1;32m     66\u001b[0m     )\n\u001b[0;32m---> 67\u001b[0;31m     \u001b[0mchanged\u001b[0m \u001b[0;34m=\u001b[0m \u001b[0msolve_sheet_collisions\u001b[0m\u001b[0;34m(\u001b[0m\u001b[0msub_sheet\u001b[0m\u001b[0;34m,\u001b[0m \u001b[0msub_buffer\u001b[0m\u001b[0;34m)\u001b[0m\u001b[0;34m\u001b[0m\u001b[0;34m\u001b[0m\u001b[0m\n\u001b[0m\u001b[1;32m     68\u001b[0m     \u001b[0;32mif\u001b[0m \u001b[0mchanged\u001b[0m\u001b[0;34m:\u001b[0m\u001b[0;34m\u001b[0m\u001b[0;34m\u001b[0m\u001b[0m\n\u001b[1;32m     69\u001b[0m         \u001b[0meptm\u001b[0m\u001b[0;34m.\u001b[0m\u001b[0mvert_df\u001b[0m\u001b[0;34m.\u001b[0m\u001b[0mloc\u001b[0m\u001b[0;34m[\u001b[0m\u001b[0mpos_idx\u001b[0m\u001b[0;34m,\u001b[0m \u001b[0meptm\u001b[0m\u001b[0;34m.\u001b[0m\u001b[0mcoords\u001b[0m\u001b[0;34m]\u001b[0m \u001b[0;34m=\u001b[0m \u001b[0msub_sheet\u001b[0m\u001b[0;34m.\u001b[0m\u001b[0mvert_df\u001b[0m\u001b[0;34m[\u001b[0m\u001b[0meptm\u001b[0m\u001b[0;34m.\u001b[0m\u001b[0mcoords\u001b[0m\u001b[0;34m]\u001b[0m\u001b[0;34m.\u001b[0m\u001b[0mvalues\u001b[0m\u001b[0;34m\u001b[0m\u001b[0;34m\u001b[0m\u001b[0m\n",
      "\u001b[0;32m~/miniconda3/lib/python3.7/site-packages/tyssue-0.3.3rc1-py3.7-linux-x86_64.egg/tyssue/collisions/solvers.py\u001b[0m in \u001b[0;36msolve_sheet_collisions\u001b[0;34m(sheet, position_buffer)\u001b[0m\n\u001b[1;32m     92\u001b[0m         \u001b[0mshyness\u001b[0m \u001b[0;34m=\u001b[0m \u001b[0msheet\u001b[0m\u001b[0;34m.\u001b[0m\u001b[0msettings\u001b[0m\u001b[0;34m.\u001b[0m\u001b[0mget\u001b[0m\u001b[0;34m(\u001b[0m\u001b[0;34m\"shyness\"\u001b[0m\u001b[0;34m,\u001b[0m \u001b[0;36m1e-10\u001b[0m\u001b[0;34m)\u001b[0m\u001b[0;34m\u001b[0m\u001b[0;34m\u001b[0m\u001b[0m\n\u001b[1;32m     93\u001b[0m         \u001b[0mboxes\u001b[0m \u001b[0;34m=\u001b[0m \u001b[0mCollidingBoxes\u001b[0m\u001b[0;34m(\u001b[0m\u001b[0msheet\u001b[0m\u001b[0;34m,\u001b[0m \u001b[0mposition_buffer\u001b[0m\u001b[0;34m,\u001b[0m \u001b[0mintersecting_edges\u001b[0m\u001b[0;34m)\u001b[0m\u001b[0;34m\u001b[0m\u001b[0;34m\u001b[0m\u001b[0m\n\u001b[0;32m---> 94\u001b[0;31m         \u001b[0mchanged\u001b[0m \u001b[0;34m=\u001b[0m \u001b[0mboxes\u001b[0m\u001b[0;34m.\u001b[0m\u001b[0msolve_collisions\u001b[0m\u001b[0;34m(\u001b[0m\u001b[0mshyness\u001b[0m\u001b[0;34m)\u001b[0m\u001b[0;34m\u001b[0m\u001b[0;34m\u001b[0m\u001b[0m\n\u001b[0m\u001b[1;32m     95\u001b[0m         \u001b[0;32mreturn\u001b[0m \u001b[0mchanged\u001b[0m\u001b[0;34m\u001b[0m\u001b[0;34m\u001b[0m\u001b[0m\n\u001b[1;32m     96\u001b[0m     \u001b[0;32mreturn\u001b[0m \u001b[0;32mFalse\u001b[0m\u001b[0;34m\u001b[0m\u001b[0;34m\u001b[0m\u001b[0m\n",
      "\u001b[0;32m~/miniconda3/lib/python3.7/site-packages/tyssue-0.3.3rc1-py3.7-linux-x86_64.egg/tyssue/collisions/solvers.py\u001b[0m in \u001b[0;36msolve_collisions\u001b[0;34m(self, shyness)\u001b[0m\n\u001b[1;32m    182\u001b[0m         \u001b[0mlower_bounds\u001b[0m\u001b[0;34m[\u001b[0m\u001b[0;34m:\u001b[0m\u001b[0;34m]\u001b[0m \u001b[0;34m=\u001b[0m \u001b[0;34m-\u001b[0m\u001b[0mnp\u001b[0m\u001b[0;34m.\u001b[0m\u001b[0minf\u001b[0m\u001b[0;34m\u001b[0m\u001b[0;34m\u001b[0m\u001b[0m\n\u001b[1;32m    183\u001b[0m         \u001b[0mplane_found\u001b[0m \u001b[0;34m=\u001b[0m \u001b[0;32mFalse\u001b[0m\u001b[0;34m\u001b[0m\u001b[0;34m\u001b[0m\u001b[0m\n\u001b[0;32m--> 184\u001b[0;31m         \u001b[0;32mfor\u001b[0m \u001b[0mlower\u001b[0m\u001b[0;34m,\u001b[0m \u001b[0mupper\u001b[0m \u001b[0;32min\u001b[0m \u001b[0mself\u001b[0m\u001b[0;34m.\u001b[0m\u001b[0mget_limits\u001b[0m\u001b[0;34m(\u001b[0m\u001b[0mshyness\u001b[0m\u001b[0;34m)\u001b[0m\u001b[0;34m:\u001b[0m\u001b[0;34m\u001b[0m\u001b[0;34m\u001b[0m\u001b[0m\n\u001b[0m\u001b[1;32m    185\u001b[0m             \u001b[0;32mif\u001b[0m \u001b[0mlower\u001b[0m \u001b[0;32mis\u001b[0m \u001b[0;32mNone\u001b[0m\u001b[0;34m:\u001b[0m\u001b[0;34m\u001b[0m\u001b[0;34m\u001b[0m\u001b[0m\n\u001b[1;32m    186\u001b[0m                 \u001b[0;32mcontinue\u001b[0m\u001b[0;34m\u001b[0m\u001b[0;34m\u001b[0m\u001b[0m\n",
      "\u001b[0;32m~/miniconda3/lib/python3.7/site-packages/tyssue-0.3.3rc1-py3.7-linux-x86_64.egg/tyssue/collisions/solvers.py\u001b[0m in \u001b[0;36mget_limits\u001b[0;34m(self, shyness)\u001b[0m\n\u001b[1;32m    149\u001b[0m         \"\"\"\n\u001b[1;32m    150\u001b[0m         \u001b[0;32mfor\u001b[0m \u001b[0mface_pair\u001b[0m \u001b[0;32min\u001b[0m \u001b[0mself\u001b[0m\u001b[0;34m.\u001b[0m\u001b[0mface_pairs\u001b[0m\u001b[0;34m:\u001b[0m\u001b[0;34m\u001b[0m\u001b[0;34m\u001b[0m\u001b[0m\n\u001b[0;32m--> 151\u001b[0;31m             \u001b[0;32myield\u001b[0m \u001b[0mself\u001b[0m\u001b[0;34m.\u001b[0m\u001b[0m_collision_plane\u001b[0m\u001b[0;34m(\u001b[0m\u001b[0mface_pair\u001b[0m\u001b[0;34m,\u001b[0m \u001b[0mshyness\u001b[0m\u001b[0;34m)\u001b[0m\u001b[0;34m\u001b[0m\u001b[0;34m\u001b[0m\u001b[0m\n\u001b[0m\u001b[1;32m    152\u001b[0m \u001b[0;34m\u001b[0m\u001b[0m\n\u001b[1;32m    153\u001b[0m     \u001b[0;32mdef\u001b[0m \u001b[0msolve_collisions\u001b[0m\u001b[0;34m(\u001b[0m\u001b[0mself\u001b[0m\u001b[0;34m,\u001b[0m \u001b[0mshyness\u001b[0m\u001b[0;34m=\u001b[0m\u001b[0;36m1e-10\u001b[0m\u001b[0;34m)\u001b[0m\u001b[0;34m:\u001b[0m\u001b[0;34m\u001b[0m\u001b[0;34m\u001b[0m\u001b[0m\n",
      "\u001b[0;32m~/miniconda3/lib/python3.7/site-packages/tyssue-0.3.3rc1-py3.7-linux-x86_64.egg/tyssue/collisions/solvers.py\u001b[0m in \u001b[0;36m_collision_plane\u001b[0;34m(self, face_pair, shyness)\u001b[0m\n\u001b[1;32m    262\u001b[0m             ]\n\u001b[1;32m    263\u001b[0m         \u001b[0;32melse\u001b[0m\u001b[0;34m:\u001b[0m\u001b[0;34m\u001b[0m\u001b[0;34m\u001b[0m\u001b[0m\n\u001b[0;32m--> 264\u001b[0;31m             \u001b[0;32mraise\u001b[0m \u001b[0mValueError\u001b[0m\u001b[0;34m(\u001b[0m\u001b[0;34m\"\"\"Plane Not Found\"\"\"\u001b[0m\u001b[0;34m)\u001b[0m\u001b[0;34m\u001b[0m\u001b[0;34m\u001b[0m\u001b[0m\n\u001b[0m\u001b[1;32m    265\u001b[0m             \u001b[0mlog\u001b[0m\u001b[0;34m.\u001b[0m\u001b[0mwarning\u001b[0m\u001b[0;34m(\u001b[0m\u001b[0;34m\"\"\"Plane Not Found\"\"\"\u001b[0m\u001b[0;34m)\u001b[0m\u001b[0;34m\u001b[0m\u001b[0;34m\u001b[0m\u001b[0m\n\u001b[1;32m    266\u001b[0m             \u001b[0mself\u001b[0m\u001b[0;34m.\u001b[0m\u001b[0mplane_not_found\u001b[0m \u001b[0;34m=\u001b[0m \u001b[0;32mTrue\u001b[0m\u001b[0;34m\u001b[0m\u001b[0;34m\u001b[0m\u001b[0m\n",
      "\u001b[0;31mValueError\u001b[0m: Plane Not Found"
     ]
    },
    {
     "name": "stdout",
     "output_type": "stream",
     "text": [
      "> \u001b[0;32m/home/guillaume/miniconda3/lib/python3.7/site-packages/tyssue-0.3.3rc1-py3.7-linux-x86_64.egg/tyssue/collisions/solvers.py\u001b[0m(264)\u001b[0;36m_collision_plane\u001b[0;34m()\u001b[0m\n",
      "\u001b[0;32m    262 \u001b[0;31m            ]\n",
      "\u001b[0m\u001b[0;32m    263 \u001b[0;31m        \u001b[0;32melse\u001b[0m\u001b[0;34m:\u001b[0m\u001b[0;34m\u001b[0m\u001b[0;34m\u001b[0m\u001b[0m\n",
      "\u001b[0m\u001b[0;32m--> 264 \u001b[0;31m            \u001b[0;32mraise\u001b[0m \u001b[0mValueError\u001b[0m\u001b[0;34m(\u001b[0m\u001b[0;34m\"\"\"Plane Not Found\"\"\"\u001b[0m\u001b[0;34m)\u001b[0m\u001b[0;34m\u001b[0m\u001b[0;34m\u001b[0m\u001b[0m\n",
      "\u001b[0m\u001b[0;32m    265 \u001b[0;31m            \u001b[0mlog\u001b[0m\u001b[0;34m.\u001b[0m\u001b[0mwarning\u001b[0m\u001b[0;34m(\u001b[0m\u001b[0;34m\"\"\"Plane Not Found\"\"\"\u001b[0m\u001b[0;34m)\u001b[0m\u001b[0;34m\u001b[0m\u001b[0;34m\u001b[0m\u001b[0m\n",
      "\u001b[0m\u001b[0;32m    266 \u001b[0;31m            \u001b[0mself\u001b[0m\u001b[0;34m.\u001b[0m\u001b[0mplane_not_found\u001b[0m \u001b[0;34m=\u001b[0m \u001b[0;32mTrue\u001b[0m\u001b[0;34m\u001b[0m\u001b[0;34m\u001b[0m\u001b[0m\n",
      "\u001b[0m\n",
      "ipdb> sign_change_l0h1\n",
      "x    False\n",
      "y    False\n",
      "z    False\n",
      "dtype: bool\n",
      "ipdb> sign_change_l1h1\n",
      "*** NameError: name 'sign_change_l1h1' is not defined\n",
      "ipdb> sign_change_l1h0\n",
      "x    False\n",
      "y    False\n",
      "z    False\n",
      "dtype: bool\n",
      "ipdb> self.sheet.position_buffer\n",
      "ipdb> self.position_buffer\n",
      "*** AttributeError: 'CollidingBoxes' object has no attribute 'position_buffer'\n",
      "ipdb> position_buffer\n",
      "*** NameError: name 'position_buffer' is not defined\n"
     ]
    }
   ],
   "source": [
    "solve_bulk_collisions(eptm, eptm.position_buffer)"
   ]
  },
  {
   "cell_type": "code",
   "execution_count": 17,
   "metadata": {
    "scrolled": false
   },
   "outputs": [
    {
     "data": {
      "text/plain": [
       "array([[10,  4],\n",
       "       [ 8,  9],\n",
       "       [ 6,  7],\n",
       "       [ 0,  2],\n",
       "       [ 0,  1],\n",
       "       [ 8, 10],\n",
       "       [ 5,  6],\n",
       "       [ 8,  6],\n",
       "       [ 2,  7],\n",
       "       [ 9,  5],\n",
       "       [ 4,  7]])"
      ]
     },
     "execution_count": 17,
     "metadata": {},
     "output_type": "execute_result"
    }
   ],
   "source": [
    "from tyssue.collisions.solvers import self_intersections, CollidingBoxes, _face_bbox, solve_bulk_collisions\n",
    "from tyssue.core.sheet import get_outer_sheet\n",
    "\n",
    "position_buffer = eptm.position_buffer.copy()\n",
    "\n",
    "\n",
    "sub_sheet = get_outer_sheet(eptm)\n",
    "pos_idx = sub_sheet.vert_df.index.copy()\n",
    "sub_sheet.reset_index()\n",
    "sub_buffer = pd.DataFrame(\n",
    "    position_buffer.loc[pos_idx].values,\n",
    "    index=sub_sheet.vert_df.index,\n",
    "    columns=sub_sheet.coords,\n",
    ")\n",
    "\n",
    "\n",
    "intersecting_edges = self_intersections(sub_sheet)\n",
    "\n",
    "boxes = CollidingBoxes(sub_sheet, sub_buffer, intersecting_edges)\n",
    "\n",
    "boxes.face_pairs"
   ]
  },
  {
   "cell_type": "code",
   "execution_count": 18,
   "metadata": {},
   "outputs": [
    {
     "data": {
      "image/png": "[encoded data removed]",
      "text/plain": [
       "<Figure size 1440x720 with 2 Axes>"
      ]
     },
     "metadata": {
      "needs_background": "light"
     },
     "output_type": "display_data"
    }
   ],
   "source": [
    "fig, (ax1, ax) = plt.subplots(2, 1, sharex=True)\n",
    "\n",
    "\n",
    "fig, ax1 = sheet_view(\n",
    "    eptm,\n",
    "    coords=list(\"xz\"),\n",
    "    mode=\"quick\",\n",
    "    edge={\"lw\": 0.2},\n",
    "    ax=ax1)\n",
    "fig.set_size_inches(10, 10)\n",
    "\n",
    "for i, e in sub_sheet.edge_df.loc[boxes.edge_pairs.ravel()].iterrows():\n",
    "    \n",
    "    ax1.plot(e.loc[[\"sx\", \"tx\"]].values, e.loc[[\"sz\", \"tz\"]], \"b-o\", ms=20, lw=4, alpha=0.2)\n",
    "    ax1.plot(e.loc[[\"fx\", \"sx\"]].values, e.loc[[\"fz\", \"sz\"]], \"k-\", ms=20, lw=1, alpha=0.5)\n",
    "    ax1.plot(e.loc[[\"fx\", \"tx\"]].values, e.loc[[\"fz\", \"tz\"]], \"k-\", ms=20, lw=1, alpha=0.5)\n",
    "\n",
    "\n",
    "\n",
    "fig.set_size_inches(20, 10)\n",
    "\n",
    "fig, ax = sheet_view(\n",
    "    eptm,\n",
    "    coords=list(\"xy\"),\n",
    "    mode=\"quick\",\n",
    "    edge={\"lw\": 0.2},\n",
    "    ax=ax\n",
    "    )\n",
    "\n",
    "for i, e in sub_sheet.edge_df.loc[boxes.edge_pairs.ravel()].iterrows():\n",
    "    \n",
    "    ax.plot(e.loc[[\"sx\", \"tx\"]].values, e.loc[[\"sy\", \"ty\"]], \"b-o\", ms=20, lw=4, alpha=0.2)\n",
    "    ax.plot(e.loc[[\"fx\", \"sx\"]].values, e.loc[[\"fy\", \"sy\"]], \"k-\", ms=20, lw=1, alpha=0.5)\n",
    "    ax.plot(e.loc[[\"fx\", \"tx\"]].values, e.loc[[\"fy\", \"ty\"]], \"k-\", ms=20, lw=1, alpha=0.5)\n",
    "\n",
    "\n"
   ]
  },
  {
   "cell_type": "code",
   "execution_count": 20,
   "metadata": {},
   "outputs": [],
   "source": [
    "face_pair = 169, 182"
   ]
  },
  {
   "cell_type": "code",
   "execution_count": 21,
   "metadata": {},
   "outputs": [],
   "source": [
    "self = boxes\n",
    "shyness = 1e-2"
   ]
  },
  {
   "cell_type": "code",
   "execution_count": 22,
   "metadata": {},
   "outputs": [],
   "source": [
    "f0, f1 = boxes.face_pairs[0]\n",
    "\n",
    "fe0c = self.sheet.edge_df[self.sheet.edge_df[\"face\"] == f0].copy()\n",
    "fe1c = self.sheet.edge_df[self.sheet.edge_df[\"face\"] == f1].copy()\n",
    "fe0p = self.edge_buffer[self.sheet.edge_df[\"face\"] == f0].copy()\n",
    "fe1p = self.edge_buffer[self.sheet.edge_df[\"face\"] == f1].copy()\n"
   ]
  },
  {
   "cell_type": "code",
   "execution_count": 23,
   "metadata": {},
   "outputs": [],
   "source": [
    "bb0c = _face_bbox(fe0c)\n",
    "bb1c = _face_bbox(fe1c)\n",
    "bb0p = _face_bbox(fe0p)\n",
    "bb1p = _face_bbox(fe1p)\n"
   ]
  },
  {
   "cell_type": "code",
   "execution_count": 25,
   "metadata": {},
   "outputs": [],
   "source": [
    "dr0 = bb0c - bb0p\n",
    "dr1 = bb1c - bb1p\n",
    "sign_change_l1h0 = np.sign((bb1c.l - bb0c.h) * (bb1p.l - bb0p.h)) < 0\n",
    "sign_change_l0h1 = np.sign((bb0c.l - bb1c.h) * (bb0p.l - bb1p.h)) < 0\n"
   ]
  },
  {
   "cell_type": "code",
   "execution_count": 26,
   "metadata": {},
   "outputs": [
    {
     "data": {
      "text/plain": [
       "x     True\n",
       "y    False\n",
       "z    False\n",
       "dtype: bool"
      ]
     },
     "execution_count": 26,
     "metadata": {},
     "output_type": "execute_result"
    }
   ],
   "source": [
    "sign_change_l0h1"
   ]
  },
  {
   "cell_type": "code",
   "execution_count": 27,
   "metadata": {},
   "outputs": [
    {
     "data": {
      "text/plain": [
       "x    False\n",
       "y    False\n",
       "z    False\n",
       "dtype: bool"
      ]
     },
     "execution_count": 27,
     "metadata": {},
     "output_type": "execute_result"
    }
   ],
   "source": [
    "sign_change_l1h0"
   ]
  },
  {
   "cell_type": "code",
   "execution_count": 24,
   "metadata": {},
   "outputs": [],
   "source": [
    "shyness = 0.1\n",
    "\n",
    "lower_bound = pd.DataFrame(\n",
    "    index=pd.concat((fe0c.srce, fe1c.srce)), columns=list(\"xyz\")\n",
    ")\n",
    "upper_bound = pd.DataFrame(\n",
    "    index=pd.concat((fe0c.srce, fe1c.srce)), columns=list(\"xyz\")\n",
    ")\n",
    "for c in list(\"xyz\"):\n",
    "    b0 = bb0c.loc[c]\n",
    "    b1 = bb1c.loc[c]\n",
    "    left, right = (fe0c, fe1c) if (b0.mean() < b1.mean()) else (fe1c, fe0c)\n",
    "\n",
    "    lim = (left[f\"s{c}\"].max() + right[f\"s{c}\"].min()) / 2\n",
    "    upper_bound.loc[left.srce, c] = lim - shyness / 2\n",
    "    upper_bound.loc[right.srce, c] = right[f\"s{c}\"].max()\n",
    "\n",
    "    lower_bound.loc[right.srce, c] = lim + shyness / 2\n",
    "    lower_bound.loc[left.srce, c] = left[f\"s{c}\"].min()\n",
    "        \n",
    "    "
   ]
  },
  {
   "cell_type": "code",
   "execution_count": 53,
   "metadata": {},
   "outputs": [
    {
     "data": {
      "text/plain": [
       "edge\n",
       "12   -0.069227\n",
       "20   -0.069235\n",
       "27    0.097498\n",
       "36    0.399908\n",
       "38    0.105875\n",
       "41    0.700321\n",
       "Name: sx, dtype: float64"
      ]
     },
     "execution_count": 53,
     "metadata": {},
     "output_type": "execute_result"
    }
   ],
   "source": [
    "right.sx\n"
   ]
  },
  {
   "cell_type": "code",
   "execution_count": 51,
   "metadata": {},
   "outputs": [
    {
     "data": {
      "text/html": [
       "<div>\n",
       "<style scoped>\n",
       "    .dataframe tbody tr th:only-of-type {\n",
       "        vertical-align: middle;\n",
       "    }\n",
       "\n",
       "    .dataframe tbody tr th {\n",
       "        vertical-align: top;\n",
       "    }\n",
       "\n",
       "    .dataframe thead th {\n",
       "        text-align: right;\n",
       "    }\n",
       "</style>\n",
       "<table border=\"1\" class=\"dataframe\">\n",
       "  <thead>\n",
       "    <tr style=\"text-align: right;\">\n",
       "      <th></th>\n",
       "      <th>l</th>\n",
       "      <th>h</th>\n",
       "    </tr>\n",
       "  </thead>\n",
       "  <tbody>\n",
       "    <tr>\n",
       "      <th>x</th>\n",
       "      <td>-0.069235</td>\n",
       "      <td>0.700321</td>\n",
       "    </tr>\n",
       "    <tr>\n",
       "      <th>y</th>\n",
       "      <td>-0.449709</td>\n",
       "      <td>0.455829</td>\n",
       "    </tr>\n",
       "    <tr>\n",
       "      <th>z</th>\n",
       "      <td>0.153990</td>\n",
       "      <td>0.366268</td>\n",
       "    </tr>\n",
       "  </tbody>\n",
       "</table>\n",
       "</div>"
      ],
      "text/plain": [
       "          l         h\n",
       "x -0.069235  0.700321\n",
       "y -0.449709  0.455829\n",
       "z  0.153990  0.366268"
      ]
     },
     "execution_count": 51,
     "metadata": {},
     "output_type": "execute_result"
    }
   ],
   "source": [
    "bb0c"
   ]
  },
  {
   "cell_type": "code",
   "execution_count": 47,
   "metadata": {},
   "outputs": [
    {
     "data": {
      "text/plain": [
       "edge\n",
       "24     14\n",
       "30     37\n",
       "39     13\n",
       "42     39\n",
       "145    36\n",
       "147    38\n",
       "Name: srce, dtype: int64"
      ]
     },
     "execution_count": 47,
     "metadata": {},
     "output_type": "execute_result"
    }
   ],
   "source": [
    "left.srce"
   ]
  },
  {
   "cell_type": "code",
   "execution_count": null,
   "metadata": {},
   "outputs": [],
   "source": [
    "right"
   ]
  },
  {
   "cell_type": "code",
   "execution_count": 54,
   "metadata": {},
   "outputs": [
    {
     "data": {
      "text/html": [
       "<div>\n",
       "<style scoped>\n",
       "    .dataframe tbody tr th:only-of-type {\n",
       "        vertical-align: middle;\n",
       "    }\n",
       "\n",
       "    .dataframe tbody tr th {\n",
       "        vertical-align: top;\n",
       "    }\n",
       "\n",
       "    .dataframe thead th {\n",
       "        text-align: right;\n",
       "    }\n",
       "</style>\n",
       "<table border=\"1\" class=\"dataframe\">\n",
       "  <thead>\n",
       "    <tr style=\"text-align: right;\">\n",
       "      <th></th>\n",
       "      <th>x</th>\n",
       "      <th>y</th>\n",
       "      <th>z</th>\n",
       "    </tr>\n",
       "    <tr>\n",
       "      <th>srce</th>\n",
       "      <th></th>\n",
       "      <th></th>\n",
       "      <th></th>\n",
       "    </tr>\n",
       "  </thead>\n",
       "  <tbody>\n",
       "    <tr>\n",
       "      <th>10</th>\n",
       "      <td>0.417915</td>\n",
       "      <td>0.455829</td>\n",
       "      <td>0.366268</td>\n",
       "    </tr>\n",
       "    <tr>\n",
       "      <th>4</th>\n",
       "      <td>0.417915</td>\n",
       "      <td>0.455829</td>\n",
       "      <td>0.366268</td>\n",
       "    </tr>\n",
       "    <tr>\n",
       "      <th>11</th>\n",
       "      <td>0.417915</td>\n",
       "      <td>0.455829</td>\n",
       "      <td>0.366268</td>\n",
       "    </tr>\n",
       "    <tr>\n",
       "      <th>39</th>\n",
       "      <td>1.477</td>\n",
       "      <td>0.455829</td>\n",
       "      <td>0.366268</td>\n",
       "    </tr>\n",
       "    <tr>\n",
       "      <th>17</th>\n",
       "      <td>0.417915</td>\n",
       "      <td>0.455829</td>\n",
       "      <td>0.366268</td>\n",
       "    </tr>\n",
       "    <tr>\n",
       "      <th>36</th>\n",
       "      <td>1.477</td>\n",
       "      <td>0.455829</td>\n",
       "      <td>0.366268</td>\n",
       "    </tr>\n",
       "    <tr>\n",
       "      <th>14</th>\n",
       "      <td>1.477</td>\n",
       "      <td>-0.104798</td>\n",
       "      <td>0.151229</td>\n",
       "    </tr>\n",
       "    <tr>\n",
       "      <th>37</th>\n",
       "      <td>1.477</td>\n",
       "      <td>-0.104798</td>\n",
       "      <td>0.151229</td>\n",
       "    </tr>\n",
       "    <tr>\n",
       "      <th>13</th>\n",
       "      <td>1.477</td>\n",
       "      <td>-0.104798</td>\n",
       "      <td>0.151229</td>\n",
       "    </tr>\n",
       "    <tr>\n",
       "      <th>39</th>\n",
       "      <td>1.477</td>\n",
       "      <td>0.455829</td>\n",
       "      <td>0.366268</td>\n",
       "    </tr>\n",
       "    <tr>\n",
       "      <th>36</th>\n",
       "      <td>1.477</td>\n",
       "      <td>0.455829</td>\n",
       "      <td>0.366268</td>\n",
       "    </tr>\n",
       "    <tr>\n",
       "      <th>38</th>\n",
       "      <td>1.477</td>\n",
       "      <td>-0.104798</td>\n",
       "      <td>0.151229</td>\n",
       "    </tr>\n",
       "  </tbody>\n",
       "</table>\n",
       "</div>"
      ],
      "text/plain": [
       "             x         y         z\n",
       "srce                              \n",
       "10    0.417915  0.455829  0.366268\n",
       "4     0.417915  0.455829  0.366268\n",
       "11    0.417915  0.455829  0.366268\n",
       "39       1.477  0.455829  0.366268\n",
       "17    0.417915  0.455829  0.366268\n",
       "36       1.477  0.455829  0.366268\n",
       "14       1.477 -0.104798  0.151229\n",
       "37       1.477 -0.104798  0.151229\n",
       "13       1.477 -0.104798  0.151229\n",
       "39       1.477  0.455829  0.366268\n",
       "36       1.477  0.455829  0.366268\n",
       "38       1.477 -0.104798  0.151229"
      ]
     },
     "execution_count": 54,
     "metadata": {},
     "output_type": "execute_result"
    }
   ],
   "source": [
    "upper_bound"
   ]
  },
  {
   "cell_type": "code",
   "execution_count": 109,
   "metadata": {},
   "outputs": [
    {
     "data": {
      "text/plain": [
       "edge\n",
       "18    -5.546031\n",
       "22    -5.046683\n",
       "159   -5.490565\n",
       "162   -4.546923\n",
       "164   -4.546263\n",
       "165   -4.867467\n",
       "Name: sx, dtype: float64"
      ]
     },
     "execution_count": 109,
     "metadata": {},
     "output_type": "execute_result"
    }
   ],
   "source": [
    "fe0c.sx"
   ]
  },
  {
   "cell_type": "code",
   "execution_count": 70,
   "metadata": {},
   "outputs": [
    {
     "data": {
      "text/html": [
       "<div>\n",
       "<style scoped>\n",
       "    .dataframe tbody tr th:only-of-type {\n",
       "        vertical-align: middle;\n",
       "    }\n",
       "\n",
       "    .dataframe tbody tr th {\n",
       "        vertical-align: top;\n",
       "    }\n",
       "\n",
       "    .dataframe thead th {\n",
       "        text-align: right;\n",
       "    }\n",
       "</style>\n",
       "<table border=\"1\" class=\"dataframe\">\n",
       "  <thead>\n",
       "    <tr style=\"text-align: right;\">\n",
       "      <th></th>\n",
       "      <th>l</th>\n",
       "      <th>h</th>\n",
       "      <th>c</th>\n",
       "    </tr>\n",
       "  </thead>\n",
       "  <tbody>\n",
       "    <tr>\n",
       "      <th>x</th>\n",
       "      <td>-6.704158</td>\n",
       "      <td>-5.482137</td>\n",
       "      <td>-6.093147</td>\n",
       "    </tr>\n",
       "    <tr>\n",
       "      <th>y</th>\n",
       "      <td>5.467833</td>\n",
       "      <td>6.825194</td>\n",
       "      <td>6.146513</td>\n",
       "    </tr>\n",
       "    <tr>\n",
       "      <th>z</th>\n",
       "      <td>-0.024543</td>\n",
       "      <td>0.031226</td>\n",
       "      <td>0.003342</td>\n",
       "    </tr>\n",
       "  </tbody>\n",
       "</table>\n",
       "</div>"
      ],
      "text/plain": [
       "          l         h         c\n",
       "x -6.704158 -5.482137 -6.093147\n",
       "y  5.467833  6.825194  6.146513\n",
       "z -0.024543  0.031226  0.003342"
      ]
     },
     "execution_count": 70,
     "metadata": {},
     "output_type": "execute_result"
    }
   ],
   "source": [
    "bb1c"
   ]
  },
  {
   "cell_type": "code",
   "execution_count": 72,
   "metadata": {},
   "outputs": [
    {
     "ename": "ValueError",
     "evalue": "The collision was already present or its axis could not be determined",
     "output_type": "error",
     "traceback": [
      "\u001b[0;31m---------------------------------------------------------------------------\u001b[0m",
      "\u001b[0;31mValueError\u001b[0m                                Traceback (most recent call last)",
      "\u001b[0;32m<ipython-input-72-5cc13bfdd3c9>\u001b[0m in \u001b[0;36m<module>\u001b[0;34m\u001b[0m\n\u001b[0;32m----> 1\u001b[0;31m \u001b[0mboxes\u001b[0m\u001b[0;34m.\u001b[0m\u001b[0m_collision_plane\u001b[0m\u001b[0;34m(\u001b[0m\u001b[0mface_pair\u001b[0m\u001b[0;34m,\u001b[0m \u001b[0;36m0.01\u001b[0m\u001b[0;34m)\u001b[0m\u001b[0;34m\u001b[0m\u001b[0;34m\u001b[0m\u001b[0m\n\u001b[0m",
      "\u001b[0;32m~/miniconda3/envs/py37/lib/python3.7/site-packages/tyssue-0.3.3rc1-py3.7-linux-x86_64.egg/tyssue/collisions/solvers.py\u001b[0m in \u001b[0;36m_collision_plane\u001b[0;34m(self, face_pair, shyness)\u001b[0m\n\u001b[1;32m    261\u001b[0m \u001b[0;34m\u001b[0m\u001b[0m\n\u001b[1;32m    262\u001b[0m             raise ValueError(\n\u001b[0;32m--> 263\u001b[0;31m                 \u001b[0;34m\"\"\"The collision was already present or its axis could not be determined\"\"\"\u001b[0m\u001b[0;34m\u001b[0m\u001b[0;34m\u001b[0m\u001b[0m\n\u001b[0m\u001b[1;32m    264\u001b[0m             )\n\u001b[1;32m    265\u001b[0m             \u001b[0;32mreturn\u001b[0m \u001b[0;32mNone\u001b[0m\u001b[0;34m,\u001b[0m \u001b[0;32mNone\u001b[0m\u001b[0;34m\u001b[0m\u001b[0;34m\u001b[0m\u001b[0m\n",
      "\u001b[0;31mValueError\u001b[0m: The collision was already present or its axis could not be determined"
     ]
    }
   ],
   "source": [
    "boxes._collision_plane(face_pair, 0.01)"
   ]
  },
  {
   "cell_type": "code",
   "execution_count": null,
   "metadata": {},
   "outputs": [],
   "source": [
    "for coord in list(\"xyz\"):\n",
    "    \n",
    "    "
   ]
  }
 ],
 "metadata": {
  "kernelspec": {
   "display_name": "Python 3",
   "language": "python",
   "name": "python3"
  },
  "language_info": {
   "codemirror_mode": {
    "name": "ipython",
    "version": 3
   },
   "file_extension": ".py",
   "mimetype": "text/x-python",
   "name": "python",
   "nbconvert_exporter": "python",
   "pygments_lexer": "ipython3",
   "version": "3.7.1"
  }
 },
 "nbformat": 4,
 "nbformat_minor": 2
}
