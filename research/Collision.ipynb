{
 "cells": [
  {
   "cell_type": "code",
   "execution_count": 1,
   "metadata": {},
   "outputs": [
    {
     "name": "stdout",
     "output_type": "stream",
     "text": [
      "3.7.0 | packaged by conda-forge | (default, Nov 12 2018, 19:59:33) \n",
      "[GCC 4.8.2 20140120 (Red Hat 4.8.2-15)]\n",
      "tyssue version:  0.2.4.dev0+80f45ef\n"
     ]
    }
   ],
   "source": [
    "import sys\n",
    "print(sys.version)\n",
    "\n",
    "import numpy as np\n",
    "import pandas as pd\n",
    "import matplotlib.pyplot as plt\n",
    "import ipyvolume as ipv\n",
    "%matplotlib inline\n",
    "\n",
    "from tyssue import Sheet, SheetGeometry, Monolayer, config, MonoLayerGeometry\n",
    "from tyssue.solvers.sheet_vertex_solver import Solver\n",
    "from tyssue.draw import sheet_view\n",
    "from tyssue.io import hdf5\n",
    "\n",
    "from tyssue.solvers.sheet_vertex_solver import Solver\n",
    "from tyssue.dynamics import model_factory, effectors\n",
    "\n",
    "from tyssue import collisions\n",
    "from tyssue.collisions.solvers import CollisionSolver\n",
    "from tyssue import version\n",
    "print('tyssue version: ', version.full_version)\n"
   ]
  },
  {
   "cell_type": "code",
   "execution_count": 3,
   "metadata": {},
   "outputs": [
    {
     "data": {
      "image/png": "[encoded data removed]",
      "text/plain": [
       "<Figure size 432x288 with 2 Axes>"
      ]
     },
     "metadata": {
      "needs_background": "light"
     },
     "output_type": "display_data"
    }
   ],
   "source": [
    "\n",
    "sheet = Sheet.planar_sheet_3d('crossed',\n",
    "                              36, 12, 1, 1)\n",
    "sheet.remove(sheet.cut_out([[5, 12], [0, 6]]))\n",
    "sheet.sanitize()\n",
    "SheetGeometry.center(sheet)\n",
    "SheetGeometry.scale(sheet, 1/sheet.vert_df.x.ptp(), coords=list('xy'))\n",
    "\n",
    "sheet.vert_df.z = 5 * sheet.vert_df.x**2\n",
    "sheet.vert_df[sheet.coords] += np.random.normal(scale=0.001, size=(sheet.Nv, 3))\n",
    "    \n",
    "\n",
    "SheetGeometry.update_all(sheet)\n",
    "\n",
    "\n",
    "fig, axes = plt.subplots(1, 2, sharex=True)\n",
    "fig, ax = sheet_view(sheet, coords=['x', 'y'], mode='quick', ax=axes[0])\n",
    "fig, ax = sheet_view(sheet, coords=['x', 'z'], mode='quick', ax=axes[1])\n",
    "\n"
   ]
  },
  {
   "cell_type": "code",
   "execution_count": 4,
   "metadata": {},
   "outputs": [],
   "source": [
    "class Fold(effectors.AbstractEffector):\n",
    "    \n",
    "    magnitude = 'folding_force'\n",
    "    element = 'vert'\n",
    "    specs = {\"vert\": {'folding_force'}}\n",
    "    \n",
    "    @staticmethod\n",
    "    def energy(eptm):\n",
    "        return eptm.vert_df.eval('-folding_force * x')\n",
    "    \n",
    "    @staticmethod\n",
    "    def gradient(eptm):\n",
    "        grad = eptm.vert_df[eptm.coords].copy()\n",
    "        grad.columns = ['gx', 'gy', 'gz']\n",
    "        grad[[\"gy\", \"gz\"]] = 0\n",
    "        grad['gx'] = eptm.vert_df.eval('-folding_force')\n",
    "        \n",
    "        return grad, None\n",
    "    \n",
    "#model = model_factory([effectors.LineTension, effectors.FaceAreaElasticity, Fold],\n",
    "#                      effectors.FaceAreaElasticity)\n",
    "model = model_factory([Fold], Fold)\n",
    "\n",
    "\n",
    "sheet.vert_df['folding_force'] = - 8e-3 * sheet.vert_df.x**3\n",
    "sheet.edge_df['line_tension'] = 0.07\n",
    "sheet.face_df['prefered_area'] = sheet.face_df.area.mean()\n",
    "sheet.face_df['area_elasticity'] = 2.\n",
    "\n",
    "sheet2 = sheet.copy()\n"
   ]
  },
  {
   "cell_type": "code",
   "execution_count": 5,
   "metadata": {},
   "outputs": [
    {
     "name": "stderr",
     "output_type": "stream",
     "text": [
      "/home/guillaume/miniconda3/envs/py37/lib/python3.7/site-packages/tyssue-0.2.4-py3.7-linux-x86_64.egg/tyssue/dynamics/factory.py:83: UserWarning: setting ucoords in grad computation,please fix your specs\n",
      "  \"setting ucoords in grad computation,\" \"please fix your specs\"\n"
     ]
    },
    {
     "data": {
      "application/vnd.jupyter.widget-view+json": {
       "model_id": "63b52103b8bb48648d5bfbc248e35d14",
       "version_major": 2,
       "version_minor": 0
      },
      "text/plain": [
       "Figure(camera=PerspectiveCamera(fov=46.0, position=(0.0, 0.0, 2.0), quaternion=(0.0, 0.0, 0.0, 1.0), scale=(1.…"
      ]
     },
     "metadata": {},
     "output_type": "display_data"
    }
   ],
   "source": [
    "res = Solver.find_energy_min(sheet, SheetGeometry, model)\n",
    "ipv.clear()\n",
    "fig, mesh = sheet_view(sheet, mode='3D')\n",
    "fig"
   ]
  },
  {
   "cell_type": "code",
   "execution_count": 6,
   "metadata": {},
   "outputs": [
    {
     "data": {
      "application/vnd.jupyter.widget-view+json": {
       "model_id": "a76faa6f03054ba59e4bb5732592d322",
       "version_major": 2,
       "version_minor": 0
      },
      "text/plain": [
       "Figure(camera=PerspectiveCamera(fov=46.0, position=(0.0, 0.0, 2.0), quaternion=(0.0, 0.0, 0.0, 1.0), scale=(1.…"
      ]
     },
     "metadata": {},
     "output_type": "display_data"
    }
   ],
   "source": [
    "res = CollisionSolver.find_energy_min(sheet2, SheetGeometry, model)\n",
    "ipv.clear()\n",
    "fig, mesh = sheet_view(sheet2, mode='3D')\n",
    "fig"
   ]
  },
  {
   "cell_type": "markdown",
   "metadata": {},
   "source": [
    "## Better collision avoidance\n",
    "\n",
    "Inspired by this paper:\n",
    "\n",
    "Liu, J.-D., Ko, M.-T., & Chang, R.-C. (1998). _A simple self-collision avoidance for cloth animation_. Computers & Graphics, 22(1), 117–128. [DOI](https://doi.org/doi:10.1016/s0097-8493(97)00087-3)\n"
   ]
  },
  {
   "cell_type": "code",
   "execution_count": 6,
   "metadata": {},
   "outputs": [],
   "source": [
    "intersecting_edges = collisions.self_intersections(sheet)"
   ]
  },
  {
   "cell_type": "code",
   "execution_count": 7,
   "metadata": {},
   "outputs": [],
   "source": [
    "def edge_bbox(edge):\n",
    "    coords = [u+v for u, v in product('stf', 'xyz')]\n",
    "    points = edge[coords].values.reshape((3, 3))\n",
    "    lower = points.min(axis=0)\n",
    "    upper = points.max(axis=0)\n",
    "    return np.array([lower, upper], dtype=np.float).T\n",
    "\n",
    "\n",
    "def face_bbox(face_edges):\n",
    "    points = face_edges[['sx', 'sy', 'sz']].values\n",
    "    upper = points.max(axis=0)\n",
    "    lower = points.min(axis=0)\n",
    "    return pd.DataFrame([upper, lower], \n",
    "                        index=list('hl'), \n",
    "                        columns=list('xyz'),\n",
    "                        dtype=np.float).T\n",
    "\n",
    "\n",
    "def plot_square(bbox, ax, **kwargs):\n",
    "\n",
    "    ax.add_patch(\n",
    "        plt.Rectangle(bbox[:, 0], \n",
    "                      *(bbox[:, 1] - bbox[:, 0]),\n",
    "                      fill=False,\n",
    "                      **kwargs)\n",
    "    )\n",
    "\n",
    "\n",
    "def get_cube(bbox):\n",
    "    \n",
    "    triangles = np.array(\n",
    "        [[0, 1, 4],\n",
    "         [5, 1, 4],\n",
    "         [0, 2, 4],\n",
    "         [6, 2, 4],\n",
    "         [0, 2, 1],\n",
    "         [3, 2, 1],\n",
    "         [7, 5, 6],\n",
    "         [4, 5, 6],\n",
    "         [7, 3, 6],\n",
    "         [2, 3, 6],\n",
    "         [5, 7, 1],\n",
    "         [3, 7, 1]]\n",
    "    )\n",
    "    grid = np.meshgrid([0, 1], [0, 1], [0, 1])\n",
    "    xx, yy, zz = (b.take(u.ravel()) for b, u in zip(bbox, grid))\n",
    "    \n",
    "    return {'x': xx, 'y': yy, 'z': zz, 'triangles': triangles}\n",
    "\n",
    "    "
   ]
  },
  {
   "cell_type": "code",
   "execution_count": 40,
   "metadata": {},
   "outputs": [],
   "source": [
    "face_pairs = sheet.edge_df.loc[\n",
    "    intersecting_edges.flatten(), 'face'].values.reshape((-1, 2))\n",
    "face_pairs = np.array([[f0, f1] for f0, f1 in set(map(frozenset, face_pairs))])\n",
    "\n"
   ]
  },
  {
   "cell_type": "code",
   "execution_count": 42,
   "metadata": {},
   "outputs": [
    {
     "data": {
      "application/vnd.jupyter.widget-view+json": {
       "model_id": "62ab174da5684817b6f51fbe216ff1c3",
       "version_major": 2,
       "version_minor": 0
      },
      "text/plain": [
       "VBox(children=(Figure(camera=PerspectiveCamera(fov=46.0, position=(0.0, 0.0, 2.0), quaternion=(0.0, 0.0, 0.0, …"
      ]
     },
     "metadata": {},
     "output_type": "display_data"
    }
   ],
   "source": [
    "p = 3\n",
    "\n",
    "f0 = face_pairs[p, 0]\n",
    "fe0 = sheet.edge_df[sheet.edge_df['face'] == f0]\n",
    "bb0 = face_bbox(fe0)\n",
    "cube0 = get_cube(bb0.values)\n",
    "\n",
    "f1 = face_pairs[p, 1]\n",
    "fe1 = sheet.edge_df[sheet.edge_df['face'] == f1]\n",
    "bb1 = face_bbox(fe1)\n",
    "cube1 = get_cube(bb1.values)\n",
    "\n",
    "\n",
    "\n",
    "ipv.clear()\n",
    "sheet_view(sheet, mode='3D')\n",
    "ipv.squarelim()\n",
    "ipv.plot_trisurf(**cube0, color='#0eaa0e')\n",
    "ipv.plot_trisurf(**cube1, color='#aa0eaa')\n",
    "\n",
    "ipv.show()\n"
   ]
  },
  {
   "cell_type": "code",
   "execution_count": 43,
   "metadata": {},
   "outputs": [
    {
     "data": {
      "text/plain": [
       "x    0.004744\n",
       "y    0.178225\n",
       "z    0.510429\n",
       "dtype: float64"
      ]
     },
     "execution_count": 43,
     "metadata": {},
     "output_type": "execute_result"
    }
   ],
   "source": [
    "bb0['h'] - bb1['l']"
   ]
  },
  {
   "cell_type": "code",
   "execution_count": 35,
   "metadata": {},
   "outputs": [
    {
     "data": {
      "text/plain": [
       "array([-0.00474367, -0.17822451, -0.51042943])"
      ]
     },
     "execution_count": 35,
     "metadata": {},
     "output_type": "execute_result"
    }
   ],
   "source": [
    "bb1[:, 1] - bb0[:, 0]"
   ]
  },
  {
   "cell_type": "markdown",
   "metadata": {},
   "source": [
    "#### Here we know the collision happend along the $x$ axis "
   ]
  },
  {
   "cell_type": "code",
   "execution_count": 2,
   "metadata": {},
   "outputs": [
    {
     "ename": "NameError",
     "evalue": "name 'bb1' is not defined",
     "output_type": "error",
     "traceback": [
      "\u001b[0;31m---------------------------------------------------------------------------\u001b[0m",
      "\u001b[0;31mNameError\u001b[0m                                 Traceback (most recent call last)",
      "\u001b[0;32m<ipython-input-2-3bf03d5743f5>\u001b[0m in \u001b[0;36m<module>\u001b[0;34m\u001b[0m\n\u001b[0;32m----> 1\u001b[0;31m \u001b[0mbb1\u001b[0m\u001b[0;34m\u001b[0m\u001b[0m\n\u001b[0m",
      "\u001b[0;31mNameError\u001b[0m: name 'bb1' is not defined"
     ]
    }
   ],
   "source": [
    "bb1"
   ]
  },
  {
   "cell_type": "code",
   "execution_count": null,
   "metadata": {},
   "outputs": [],
   "source": []
  }
 ],
 "metadata": {
  "kernelspec": {
   "display_name": "Python 3",
   "language": "python",
   "name": "python3"
  },
  "language_info": {
   "codemirror_mode": {
    "name": "ipython",
    "version": 3
   },
   "file_extension": ".py",
   "mimetype": "text/x-python",
   "name": "python",
   "nbconvert_exporter": "python",
   "pygments_lexer": "ipython3",
   "version": "3.7.0"
  }
 },
 "nbformat": 4,
 "nbformat_minor": 2
}
