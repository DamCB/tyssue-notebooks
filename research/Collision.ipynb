{
 "cells": [
  {
   "cell_type": "code",
   "execution_count": 1,
   "metadata": {},
   "outputs": [
    {
     "name": "stdout",
     "output_type": "stream",
     "text": [
      "3.7.1 | packaged by conda-forge | (default, Feb 18 2019, 01:42:00) \n",
      "[GCC 7.3.0]\n",
      "tyssue version:  0.3.3rc1\n"
     ]
    }
   ],
   "source": [
    "import sys\n",
    "print(sys.version)\n",
    "from pathlib import Path\n",
    "\n",
    "import numpy as np\n",
    "import pandas as pd\n",
    "import matplotlib.pyplot as plt\n",
    "import ipyvolume as ipv\n",
    "%matplotlib inline\n",
    "\n",
    "from tyssue import Sheet, SheetGeometry, Monolayer, config, MonolayerGeometry\n",
    "from tyssue.solvers.sheet_vertex_solver import Solver\n",
    "from tyssue.draw import sheet_view\n",
    "from tyssue.io import hdf5\n",
    "\n",
    "from tyssue.solvers import QSSolver\n",
    "from tyssue.dynamics import model_factory, effectors\n",
    "\n",
    "from tyssue import collisions\n",
    "from tyssue.collisions.solvers import (solve_sheet_collisions,\n",
    "                                       solve_bulk_collisions)\n",
    "from tyssue import version\n",
    "print('tyssue version: ', version.full_version)\n",
    "\n",
    "from tyssue import config\n",
    "\n",
    "from tyssue import stores"
   ]
  },
  {
   "cell_type": "markdown",
   "metadata": {},
   "source": [
    "## Collision avoidance\n",
    "\n",
    "Inspired by this paper:\n",
    "\n",
    "Liu, J.-D., Ko, M.-T., & Chang, R.-C. (1998). _A simple self-collision avoidance for cloth animation_. Computers & Graphics, 22(1), 117–128. [DOI](https://doi.org/doi:10.1016/s0097-8493(97)00087-3)\n"
   ]
  },
  {
   "cell_type": "code",
   "execution_count": 2,
   "metadata": {},
   "outputs": [
    {
     "data": {
      "image/png": "[encoded data removed]",
      "text/plain": [
       "<Figure size 432x288 with 2 Axes>"
      ]
     },
     "metadata": {
      "needs_background": "light"
     },
     "output_type": "display_data"
    }
   ],
   "source": [
    "\n",
    "sheet = Sheet('crossed', hdf5.load_datasets(Path(stores.stores_dir)/\"sheet6x5.hf5\"))\n",
    "\n",
    "sheet.vert_df.z = 5 * sheet.vert_df.x**2\n",
    "sheet.vert_df[sheet.coords] += np.random.normal(scale=0.001, size=(sheet.Nv, 3))\n",
    "    \n",
    "\n",
    "SheetGeometry.update_all(sheet)\n",
    "\n",
    "\n",
    "fig, axes = plt.subplots(1, 2, sharex=True)\n",
    "fig, ax = sheet_view(sheet, coords=['x', 'y'], mode='quick', ax=axes[0])\n",
    "fig, ax = sheet_view(sheet, coords=['x', 'z'], mode='quick', ax=axes[1])\n",
    "\n"
   ]
  },
  {
   "cell_type": "code",
   "execution_count": 3,
   "metadata": {},
   "outputs": [
    {
     "name": "stderr",
     "output_type": "stream",
     "text": [
      "/home/guillaume/miniconda3/envs/py37/lib/python3.7/site-packages/numpy/core/fromnumeric.py:2389: FutureWarning: Method .ptp is deprecated and will be removed in a future version. Use numpy.ptp instead.\n",
      "  return ptp(axis=axis, out=out, **kwargs)\n"
     ]
    },
    {
     "data": {
      "application/vnd.jupyter.widget-view+json": {
       "model_id": "b75ba752a878471fba30ef07f72e30cf",
       "version_major": 2,
       "version_minor": 0
      },
      "text/plain": [
       "Figure(camera=PerspectiveCamera(fov=46.0, position=(0.0, 0.0, 2.0), quaternion=(0.0, 0.0, 0.0, 1.0), scale=(1.…"
      ]
     },
     "metadata": {},
     "output_type": "display_data"
    }
   ],
   "source": [
    "position_buffer = sheet.vert_df[sheet.coords].copy()\n",
    "\n",
    "sheet.vert_df.x -=  35*(sheet.vert_df.x/2)**3\n",
    "SheetGeometry.update_all(sheet)\n",
    "\n",
    "ipv.clear()\n",
    "fig, mesh = sheet_view(sheet, mode='3D')\n",
    "fig"
   ]
  },
  {
   "cell_type": "code",
   "execution_count": 4,
   "metadata": {},
   "outputs": [
    {
     "data": {
      "application/vnd.jupyter.widget-view+json": {
       "model_id": "368733c8b2744481a7a3d6f729514bb9",
       "version_major": 2,
       "version_minor": 0
      },
      "text/plain": [
       "VBox(children=(Figure(camera=PerspectiveCamera(fov=46.0, position=(0.0, 0.0, 2.0), quaternion=(0.0, 0.0, 0.0, …"
      ]
     },
     "metadata": {},
     "output_type": "display_data"
    }
   ],
   "source": [
    "sheet.settings['shyness'] = 0.1\n",
    "solve_sheet_collisions(sheet, position_buffer)\n",
    "SheetGeometry.update_all(sheet)\n",
    "ipv.clear()\n",
    "sheet_view(sheet, mode='3D')\n",
    "ipv.squarelim()\n",
    "ipv.show()"
   ]
  },
  {
   "cell_type": "code",
   "execution_count": 5,
   "metadata": {},
   "outputs": [],
   "source": [
    "datasets =  hdf5.load_datasets(Path(stores.stores_dir)/'small_ellipsoid.hf5',\n",
    "                               data_names=['vert', 'edge', 'face', 'cell'])\n",
    "\n",
    "ellipso = Monolayer(\n",
    "    'ellipso', datasets,\n",
    "    config.geometry.bulk_spec())\n"
   ]
  },
  {
   "cell_type": "code",
   "execution_count": 6,
   "metadata": {},
   "outputs": [],
   "source": [
    "from tyssue import ClosedMonolayerGeometry, MonolayerGeometry"
   ]
  },
  {
   "cell_type": "code",
   "execution_count": 7,
   "metadata": {},
   "outputs": [],
   "source": [
    "ClosedMonolayerGeometry.update_all(ellipso)"
   ]
  },
  {
   "cell_type": "code",
   "execution_count": 8,
   "metadata": {},
   "outputs": [
    {
     "data": {
      "application/vnd.jupyter.widget-view+json": {
       "model_id": "d08aafd9d8cd4ab4aff203e073477ffe",
       "version_major": 2,
       "version_minor": 0
      },
      "text/plain": [
       "VBox(children=(Figure(camera=PerspectiveCamera(fov=46.0, position=(0.0, 0.0, 2.0), quaternion=(0.0, 0.0, 0.0, …"
      ]
     },
     "metadata": {},
     "output_type": "display_data"
    }
   ],
   "source": [
    "ipv.clear()\n",
    "sheet_view(ellipso, mode='3D', face={\"visible\": True, \"color\": ellipso.face_df.area})\n",
    "ipv.squarelim()\n",
    "ipv.show()"
   ]
  },
  {
   "cell_type": "code",
   "execution_count": 10,
   "metadata": {},
   "outputs": [
    {
     "data": {
      "text/plain": [
       "False"
      ]
     },
     "execution_count": 10,
     "metadata": {},
     "output_type": "execute_result"
    }
   ],
   "source": [
    "position_buffer = ellipso.vert_df[ellipso.coords]\n",
    "solve_bulk_collisions(ellipso, position_buffer)"
   ]
  },
  {
   "cell_type": "code",
   "execution_count": 9,
   "metadata": {},
   "outputs": [
    {
     "data": {
      "text/plain": [
       "<tyssue.core.monolayer.Monolayer at 0x7f4b3534aa90>"
      ]
     },
     "execution_count": 9,
     "metadata": {},
     "output_type": "execute_result"
    }
   ],
   "source": [
    "ellipso"
   ]
  },
  {
   "cell_type": "code",
   "execution_count": 21,
   "metadata": {},
   "outputs": [
    {
     "name": "stdout",
     "output_type": "stream",
     "text": [
      "115 µs ± 2.83 µs per loop (mean ± std. dev. of 7 runs, 10000 loops each)\n",
      "193 µs ± 4.62 µs per loop (mean ± std. dev. of 7 runs, 10000 loops each)\n"
     ]
    }
   ],
   "source": [
    "idx = ellipso.face_df.index.get_indexer(ellipso.edge_df['face'])\n",
    "\n",
    "\n",
    "%timeit a = ellipso.face_df['area']._take(idx)\n",
    "\n",
    "%timeit a = ellipso.upcast_face(\"area\")"
   ]
  },
  {
   "cell_type": "code",
   "execution_count": 23,
   "metadata": {},
   "outputs": [
    {
     "name": "stdout",
     "output_type": "stream",
     "text": [
      "113 µs ± 1.33 µs per loop (mean ± std. dev. of 7 runs, 10000 loops each)\n",
      "200 µs ± 15.3 µs per loop (mean ± std. dev. of 7 runs, 1000 loops each)\n"
     ]
    }
   ],
   "source": [
    "%timeit a = ellipso.face_df['area']._take(idx)\n",
    "\n",
    "%timeit a = ellipso.upcast_face(\"area\")"
   ]
  },
  {
   "cell_type": "code",
   "execution_count": 1,
   "metadata": {},
   "outputs": [
    {
     "name": "stdout",
     "output_type": "stream",
     "text": [
      "tyssue version:  0.3.3rc1\n"
     ]
    }
   ],
   "source": [
    "import numpy as np, pandas as pd\n",
    "import ipyvolume as ipv\n",
    "import matplotlib.pyplot as plt\n",
    "%matplotlib inline\n",
    "\n",
    "from tyssue import Epithelium, Monolayer\n",
    "from tyssue import MonolayerGeometry\n",
    "from tyssue import Sheet, SheetGeometry\n",
    "from tyssue.config.geometry import bulk_spec\n",
    "from tyssue.generation import three_faces_sheet\n",
    "from tyssue.generation import extrude\n",
    "from tyssue.draw import sheet_view, highlight_cells\n",
    "\n",
    "from tyssue.topology.bulk_topology import IH_transition, HI_transition\n",
    "\n",
    "from tyssue import Sheet, SheetGeometry, Monolayer, config, MonolayerGeometry\n",
    "from tyssue.solvers.sheet_vertex_solver import Solver\n",
    "from tyssue.draw import sheet_view\n",
    "from tyssue.io import hdf5\n",
    "\n",
    "from tyssue.solvers import QSSolver\n",
    "from tyssue.dynamics import model_factory, effectors\n",
    "\n",
    "from tyssue import collisions\n",
    "from tyssue.collisions.solvers import (solve_sheet_collisions,\n",
    "                                       solve_bulk_collisions)\n",
    "from tyssue import version\n",
    "print('tyssue version: ', version.full_version)\n",
    "\n",
    "from tyssue import config\n",
    "\n",
    "from tyssue import stores\n",
    "\n",
    "\n"
   ]
  },
  {
   "cell_type": "code",
   "execution_count": 2,
   "metadata": {},
   "outputs": [
    {
     "name": "stderr",
     "output_type": "stream",
     "text": [
      "/home/guillaume/miniconda3/envs/py37/lib/python3.7/site-packages/numpy/core/fromnumeric.py:2389: FutureWarning: Method .ptp is deprecated and will be removed in a future version. Use numpy.ptp instead.\n",
      "  return ptp(axis=axis, out=out, **kwargs)\n"
     ]
    },
    {
     "data": {
      "application/vnd.jupyter.widget-view+json": {
       "model_id": "790c9fece7a4459f8525b7430bd71507",
       "version_major": 2,
       "version_minor": 0
      },
      "text/plain": [
       "VBox(children=(Figure(camera=PerspectiveCamera(fov=46.0, position=(0.0, 0.0, 2.0), quaternion=(0.0, 0.0, 0.0, …"
      ]
     },
     "metadata": {},
     "output_type": "display_data"
    }
   ],
   "source": [
    "draw_spec = {'face': {'visible': True}}\n",
    "\n",
    "sheet = Sheet.planar_sheet_3d('sheet', 5, 5, 1, 1)\n",
    "sheet.sanitize(trim_borders=True)\n",
    "SheetGeometry.center(sheet)\n",
    "datasets = extrude(sheet.datasets, method='translation')\n",
    "\n",
    "eptm = Monolayer('20faces_3D', datasets, bulk_spec())\n",
    "MonolayerGeometry.update_all(eptm)\n",
    "ipv.clear()\n",
    "\n",
    "sheet_view(\n",
    "    eptm, mode='3D',\n",
    "    face={\"visible\": True,\n",
    "          \"color\": eptm.face_df.area}\n",
    ")\n",
    "\n",
    "ipv.squarelim()\n",
    "ipv.show()"
   ]
  },
  {
   "cell_type": "code",
   "execution_count": 3,
   "metadata": {},
   "outputs": [],
   "source": [
    "from tyssue.draw.plt_draw import plot_forces\n",
    "from tyssue.solvers import QSSolver\n",
    "\n",
    "geom = MonolayerGeometry\n",
    "i = 0\n",
    "\n",
    "class Compression(effectors.AbstractEffector):\n",
    "\n",
    "    label = \"Compression\"\n",
    "    element = \"vert\"  # cell, face, edge or vert\n",
    "    specs = {\n",
    "        \"vert\": {\n",
    "            \"compression\": 0\n",
    "        },\n",
    "        \"settings\":{\n",
    "            \"compression_axis\":\"x\"\n",
    "        }\n",
    "    }\n",
    "\n",
    "    @staticmethod\n",
    "    def energy(eptm):\n",
    "        ax = eptm.settings.get(\"compression_axis\", \"x\")\n",
    "        return eptm.vert_df.eval(f\"0.5 * compression * {ax}**2\")\n",
    "        \n",
    "    @staticmethod\n",
    "    def gradient(eptm):\n",
    "        ax = eptm.settings.get(\"compression_axis\", \"x\")\n",
    "        grad = pd.DataFrame(\n",
    "            np.zeros((eptm.Nv, 3)),\n",
    "            index=eptm.vert_df.index,\n",
    "            columns=[\"gx\", \"gy\", \"gz\"])\n",
    "        grad['gx'] = eptm.vert_df.eval(f\"compression * {ax}\")\n",
    "        return grad, None\n",
    "        \n",
    "\n",
    "model = model_factory([\n",
    "    Compression,\n",
    "    effectors.SurfaceTension,\n",
    "    effectors.CellAreaElasticity,\n",
    "    effectors.CellVolumeElasticity\n",
    "    ],effectors.CellVolumeElasticity)\n",
    "\n",
    "dyn_specs = {\n",
    "    \"vert\": {\n",
    "        \"compression\": 0., #1e-3,\n",
    "    },\n",
    "    \"face\": {\n",
    "        \"surface_tension\": 1e-3,\n",
    "    },\n",
    "    \"edge\": {\n",
    "        \"ux\": 0,\n",
    "        \"uy\": 0,\n",
    "        \"uz\": 0,\n",
    "        \"line_tension\": 0.01,\n",
    "    },\n",
    "    \"cell\": {\n",
    "        \"prefered_vol\" : eptm.cell_df.vol.mean(),\n",
    "        \"vol_elasticity\" : 1,\n",
    "        \"prefered_area\" : eptm.cell_df.area.mean(),\n",
    "        \"area_elasticity\" : 1,\n",
    "    }\n",
    "}\n",
    "eptm.update_specs(dyn_specs)\n",
    "eptm.face_df.loc[eptm.apical_faces, \"surface_tension\"] = 1e-2\n",
    "eptm.face_df.loc[eptm.basal_faces, \"surface_tension\"] = 1e-2\n",
    "\n",
    "eptm.reset_topo()\n",
    "U = model.compute_gradient(eptm)\n",
    "\n",
    "\n"
   ]
  },
  {
   "cell_type": "code",
   "execution_count": 4,
   "metadata": {
    "scrolled": false
   },
   "outputs": [
    {
     "data": {
      "image/png": "[encoded data removed]",
      "text/plain": [
       "<Figure size 720x720 with 1 Axes>"
      ]
     },
     "metadata": {
      "needs_background": "light"
     },
     "output_type": "display_data"
    }
   ],
   "source": [
    "fig, ax = plot_forces(eptm, geom, model, coords=list(\"xy\"), scaling=1)\n",
    "fig.set_size_inches(10, 10)"
   ]
  },
  {
   "cell_type": "code",
   "execution_count": 5,
   "metadata": {},
   "outputs": [
    {
     "name": "stdout",
     "output_type": "stream",
     "text": [
      "Automatic pdb calling has been turned ON\n"
     ]
    }
   ],
   "source": [
    "%pdb"
   ]
  },
  {
   "cell_type": "code",
   "execution_count": 6,
   "metadata": {
    "scrolled": true
   },
   "outputs": [
    {
     "name": "stdout",
     "output_type": "stream",
     "text": [
      "T1\n",
      "T3\n",
      "T1\n",
      "T3\n",
      "T1\n",
      "T3\n",
      "T1\n",
      "T3\n",
      "T1\n",
      "T3\n",
      "T1\n",
      "T3\n",
      "T1\n",
      "T3\n",
      "T1\n",
      "T3\n",
      "T1\n",
      "T3\n",
      "T1\n",
      "T3\n",
      "T1\n",
      "T3\n",
      "T1\n",
      "T3\n",
      "T1\n",
      "T3\n",
      "T1\n",
      "T3\n",
      "T1\n",
      "T3\n",
      "T1\n",
      "T3\n",
      "T1\n",
      "T3\n",
      "T1\n",
      "T3\n",
      "T1\n",
      "T3\n",
      "T1\n",
      "T3\n",
      "T1\n",
      "T3\n"
     ]
    }
   ],
   "source": [
    "eptm.settings['threshold_length'] = 1e-2\n",
    "solver = QSSolver(with_collisions=False, with_t1=True, with_t3=True)\n",
    "res = solver.find_energy_min(eptm, geom, model)"
   ]
  },
  {
   "cell_type": "code",
   "execution_count": 7,
   "metadata": {},
   "outputs": [],
   "source": [
    "eptm.settings['threshold_length'] = 1e-2\n",
    "eptm.settings['shyness'] = 1.2e-2\n",
    "solver = QSSolver(with_collisions=True, with_t1=False, with_t3=False)\n",
    "res = solver.find_energy_min(eptm, geom, model)"
   ]
  },
  {
   "cell_type": "code",
   "execution_count": 8,
   "metadata": {},
   "outputs": [],
   "source": [
    "eptm_bck = eptm.copy()"
   ]
  },
  {
   "cell_type": "code",
   "execution_count": 9,
   "metadata": {},
   "outputs": [],
   "source": [
    "eptm = eptm_bck.copy()\n",
    "eptm.vert_df.loc[eptm.apical_verts, \"compression\"] = 0.2\n",
    "eptm.vert_df.loc[eptm.basal_verts, \"compression\"] = 0.01\n"
   ]
  },
  {
   "cell_type": "code",
   "execution_count": 14,
   "metadata": {},
   "outputs": [
    {
     "data": {
      "text/plain": [
       "True"
      ]
     },
     "execution_count": 14,
     "metadata": {},
     "output_type": "execute_result"
    }
   ],
   "source": [
    "np.all(np.isfinite(eptm.vert_df[eptm.coords]))"
   ]
  },
  {
   "cell_type": "code",
   "execution_count": 11,
   "metadata": {
    "scrolled": true
   },
   "outputs": [
    {
     "name": "stderr",
     "output_type": "stream",
     "text": [
      "Plane Not Found\n",
      "Plane Not Found\n",
      "Plane Not Found\n",
      "Plane Not Found\n",
      "Plane Not Found\n"
     ]
    },
    {
     "name": "stdout",
     "output_type": "stream",
     "text": [
      "collision avoided\n"
     ]
    },
    {
     "name": "stderr",
     "output_type": "stream",
     "text": [
      "Plane Not Found\n",
      "Plane Not Found\n",
      "Plane Not Found\n"
     ]
    },
    {
     "name": "stdout",
     "output_type": "stream",
     "text": [
      "collision avoided\n"
     ]
    },
    {
     "name": "stderr",
     "output_type": "stream",
     "text": [
      "Plane Not Found\n"
     ]
    },
    {
     "name": "stdout",
     "output_type": "stream",
     "text": [
      "collision avoided\n"
     ]
    },
    {
     "name": "stderr",
     "output_type": "stream",
     "text": [
      "Plane Not Found\n",
      "Plane Not Found\n",
      "Plane Not Found\n",
      "Plane Not Found\n"
     ]
    },
    {
     "name": "stdout",
     "output_type": "stream",
     "text": [
      "collision avoided\n"
     ]
    },
    {
     "name": "stderr",
     "output_type": "stream",
     "text": [
      "Plane Not Found\n",
      "Plane Not Found\n",
      "Plane Not Found\n",
      "Plane Not Found\n"
     ]
    },
    {
     "name": "stdout",
     "output_type": "stream",
     "text": [
      "collision avoided\n"
     ]
    },
    {
     "name": "stderr",
     "output_type": "stream",
     "text": [
      "Plane Not Found\n",
      "Plane Not Found\n",
      "Plane Not Found\n",
      "Plane Not Found\n",
      "Plane Not Found\n",
      "Plane Not Found\n"
     ]
    },
    {
     "name": "stdout",
     "output_type": "stream",
     "text": [
      "collision avoided\n"
     ]
    },
    {
     "name": "stderr",
     "output_type": "stream",
     "text": [
      "Plane Not Found\n",
      "Plane Not Found\n",
      "Plane Not Found\n",
      "Plane Not Found\n",
      "Plane Not Found\n"
     ]
    },
    {
     "name": "stdout",
     "output_type": "stream",
     "text": [
      "collision avoided\n"
     ]
    },
    {
     "name": "stderr",
     "output_type": "stream",
     "text": [
      "Plane Not Found\n",
      "Plane Not Found\n",
      "Plane Not Found\n",
      "Plane Not Found\n",
      "Plane Not Found\n",
      "Plane Not Found\n",
      "Plane Not Found\n",
      "Plane Not Found\n",
      "Plane Not Found\n",
      "Plane Not Found\n",
      "Plane Not Found\n",
      "Plane Not Found\n"
     ]
    },
    {
     "name": "stdout",
     "output_type": "stream",
     "text": [
      "collision avoided\n"
     ]
    },
    {
     "name": "stderr",
     "output_type": "stream",
     "text": [
      "Plane Not Found\n",
      "Plane Not Found\n",
      "Plane Not Found\n",
      "Plane Not Found\n",
      "Plane Not Found\n",
      "Plane Not Found\n",
      "Plane Not Found\n",
      "Plane Not Found\n",
      "Plane Not Found\n",
      "Plane Not Found\n",
      "Plane Not Found\n",
      "Plane Not Found\n"
     ]
    },
    {
     "name": "stdout",
     "output_type": "stream",
     "text": [
      "collision avoided\n"
     ]
    },
    {
     "name": "stderr",
     "output_type": "stream",
     "text": [
      "Plane Not Found\n",
      "Plane Not Found\n",
      "Plane Not Found\n",
      "Plane Not Found\n",
      "Plane Not Found\n",
      "Plane Not Found\n",
      "Plane Not Found\n",
      "Plane Not Found\n",
      "Plane Not Found\n",
      "Plane Not Found\n",
      "Plane Not Found\n",
      "Plane Not Found\n"
     ]
    },
    {
     "name": "stdout",
     "output_type": "stream",
     "text": [
      "collision avoided\n"
     ]
    },
    {
     "name": "stderr",
     "output_type": "stream",
     "text": [
      "Plane Not Found\n",
      "Plane Not Found\n",
      "Plane Not Found\n",
      "Plane Not Found\n",
      "Plane Not Found\n",
      "Plane Not Found\n",
      "Plane Not Found\n",
      "Plane Not Found\n",
      "Plane Not Found\n",
      "Plane Not Found\n",
      "Plane Not Found\n"
     ]
    },
    {
     "name": "stdout",
     "output_type": "stream",
     "text": [
      "collision avoided\n"
     ]
    },
    {
     "name": "stderr",
     "output_type": "stream",
     "text": [
      "Plane Not Found\n",
      "Plane Not Found\n",
      "Plane Not Found\n",
      "Plane Not Found\n",
      "Plane Not Found\n",
      "Plane Not Found\n",
      "Plane Not Found\n",
      "Plane Not Found\n"
     ]
    },
    {
     "name": "stdout",
     "output_type": "stream",
     "text": [
      "collision avoided\n"
     ]
    },
    {
     "name": "stderr",
     "output_type": "stream",
     "text": [
      "Plane Not Found\n",
      "Plane Not Found\n",
      "Plane Not Found\n",
      "Plane Not Found\n",
      "Plane Not Found\n",
      "Plane Not Found\n"
     ]
    },
    {
     "name": "stdout",
     "output_type": "stream",
     "text": [
      "collision avoided\n"
     ]
    },
    {
     "name": "stderr",
     "output_type": "stream",
     "text": [
      "Plane Not Found\n",
      "Plane Not Found\n",
      "Plane Not Found\n",
      "Plane Not Found\n",
      "Plane Not Found\n",
      "Plane Not Found\n"
     ]
    },
    {
     "name": "stdout",
     "output_type": "stream",
     "text": [
      "collision avoided\n"
     ]
    },
    {
     "name": "stderr",
     "output_type": "stream",
     "text": [
      "Plane Not Found\n",
      "Plane Not Found\n",
      "Plane Not Found\n",
      "Plane Not Found\n",
      "Plane Not Found\n",
      "Plane Not Found\n"
     ]
    },
    {
     "name": "stdout",
     "output_type": "stream",
     "text": [
      "collision avoided\n"
     ]
    },
    {
     "name": "stderr",
     "output_type": "stream",
     "text": [
      "Plane Not Found\n",
      "Plane Not Found\n",
      "Plane Not Found\n",
      "Plane Not Found\n"
     ]
    },
    {
     "name": "stdout",
     "output_type": "stream",
     "text": [
      "collision avoided\n"
     ]
    },
    {
     "name": "stderr",
     "output_type": "stream",
     "text": [
      "Plane Not Found\n",
      "Plane Not Found\n",
      "Plane Not Found\n",
      "Plane Not Found\n"
     ]
    },
    {
     "name": "stdout",
     "output_type": "stream",
     "text": [
      "collision avoided\n"
     ]
    },
    {
     "name": "stderr",
     "output_type": "stream",
     "text": [
      "Plane Not Found\n",
      "Plane Not Found\n",
      "Plane Not Found\n"
     ]
    },
    {
     "name": "stdout",
     "output_type": "stream",
     "text": [
      "collision avoided\n"
     ]
    },
    {
     "name": "stderr",
     "output_type": "stream",
     "text": [
      "Plane Not Found\n",
      "Plane Not Found\n",
      "Plane Not Found\n"
     ]
    },
    {
     "name": "stdout",
     "output_type": "stream",
     "text": [
      "collision avoided\n"
     ]
    },
    {
     "name": "stderr",
     "output_type": "stream",
     "text": [
      "Plane Not Found\n",
      "Plane Not Found\n",
      "Plane Not Found\n"
     ]
    },
    {
     "name": "stdout",
     "output_type": "stream",
     "text": [
      "collision avoided\n"
     ]
    },
    {
     "name": "stderr",
     "output_type": "stream",
     "text": [
      "Plane Not Found\n",
      "Plane Not Found\n",
      "Plane Not Found\n"
     ]
    },
    {
     "name": "stdout",
     "output_type": "stream",
     "text": [
      "collision avoided\n"
     ]
    },
    {
     "name": "stderr",
     "output_type": "stream",
     "text": [
      "Plane Not Found\n",
      "Plane Not Found\n",
      "Plane Not Found\n",
      "Plane Not Found\n",
      "Plane Not Found\n"
     ]
    },
    {
     "name": "stdout",
     "output_type": "stream",
     "text": [
      "collision avoided\n"
     ]
    },
    {
     "name": "stderr",
     "output_type": "stream",
     "text": [
      "Plane Not Found\n",
      "Plane Not Found\n",
      "Plane Not Found\n"
     ]
    },
    {
     "name": "stdout",
     "output_type": "stream",
     "text": [
      "collision avoided\n"
     ]
    },
    {
     "name": "stderr",
     "output_type": "stream",
     "text": [
      "Plane Not Found\n",
      "Plane Not Found\n",
      "Plane Not Found\n",
      "Plane Not Found\n"
     ]
    },
    {
     "name": "stdout",
     "output_type": "stream",
     "text": [
      "collision avoided\n"
     ]
    },
    {
     "name": "stderr",
     "output_type": "stream",
     "text": [
      "Plane Not Found\n",
      "Plane Not Found\n",
      "Plane Not Found\n",
      "Plane Not Found\n",
      "Plane Not Found\n",
      "Plane Not Found\n"
     ]
    },
    {
     "name": "stdout",
     "output_type": "stream",
     "text": [
      "collision avoided\n"
     ]
    },
    {
     "name": "stderr",
     "output_type": "stream",
     "text": [
      "Plane Not Found\n",
      "Plane Not Found\n",
      "Plane Not Found\n"
     ]
    },
    {
     "name": "stdout",
     "output_type": "stream",
     "text": [
      "collision avoided\n"
     ]
    },
    {
     "name": "stderr",
     "output_type": "stream",
     "text": [
      "Plane Not Found\n",
      "Plane Not Found\n",
      "Plane Not Found\n"
     ]
    },
    {
     "name": "stdout",
     "output_type": "stream",
     "text": [
      "collision avoided\n"
     ]
    },
    {
     "name": "stderr",
     "output_type": "stream",
     "text": [
      "Plane Not Found\n",
      "Plane Not Found\n",
      "Plane Not Found\n",
      "Plane Not Found\n"
     ]
    },
    {
     "name": "stdout",
     "output_type": "stream",
     "text": [
      "collision avoided\n"
     ]
    },
    {
     "name": "stderr",
     "output_type": "stream",
     "text": [
      "Plane Not Found\n",
      "Plane Not Found\n"
     ]
    },
    {
     "name": "stdout",
     "output_type": "stream",
     "text": [
      "collision avoided\n"
     ]
    },
    {
     "name": "stderr",
     "output_type": "stream",
     "text": [
      "Plane Not Found\n",
      "Plane Not Found\n"
     ]
    },
    {
     "name": "stdout",
     "output_type": "stream",
     "text": [
      "collision avoided\n"
     ]
    },
    {
     "name": "stderr",
     "output_type": "stream",
     "text": [
      "Plane Not Found\n"
     ]
    },
    {
     "name": "stdout",
     "output_type": "stream",
     "text": [
      "collision avoided\n"
     ]
    },
    {
     "name": "stderr",
     "output_type": "stream",
     "text": [
      "Plane Not Found\n"
     ]
    },
    {
     "name": "stdout",
     "output_type": "stream",
     "text": [
      "collision avoided\n"
     ]
    },
    {
     "name": "stderr",
     "output_type": "stream",
     "text": [
      "Plane Not Found\n",
      "Plane Not Found\n"
     ]
    },
    {
     "name": "stdout",
     "output_type": "stream",
     "text": [
      "collision avoided\n"
     ]
    },
    {
     "name": "stderr",
     "output_type": "stream",
     "text": [
      "Plane Not Found\n",
      "Plane Not Found\n"
     ]
    },
    {
     "name": "stdout",
     "output_type": "stream",
     "text": [
      "collision avoided\n"
     ]
    },
    {
     "name": "stderr",
     "output_type": "stream",
     "text": [
      "Plane Not Found\n",
      "Plane Not Found\n"
     ]
    },
    {
     "name": "stdout",
     "output_type": "stream",
     "text": [
      "collision avoided\n"
     ]
    },
    {
     "name": "stderr",
     "output_type": "stream",
     "text": [
      "Plane Not Found\n",
      "Plane Not Found\n"
     ]
    },
    {
     "name": "stdout",
     "output_type": "stream",
     "text": [
      "collision avoided\n"
     ]
    },
    {
     "name": "stderr",
     "output_type": "stream",
     "text": [
      "Plane Not Found\n",
      "Plane Not Found\n"
     ]
    },
    {
     "name": "stdout",
     "output_type": "stream",
     "text": [
      "collision avoided\n"
     ]
    },
    {
     "name": "stderr",
     "output_type": "stream",
     "text": [
      "Plane Not Found\n",
      "Plane Not Found\n"
     ]
    },
    {
     "name": "stdout",
     "output_type": "stream",
     "text": [
      "collision avoided\n"
     ]
    },
    {
     "name": "stderr",
     "output_type": "stream",
     "text": [
      "Plane Not Found\n",
      "Plane Not Found\n"
     ]
    },
    {
     "name": "stdout",
     "output_type": "stream",
     "text": [
      "collision avoided\n"
     ]
    },
    {
     "name": "stderr",
     "output_type": "stream",
     "text": [
      "Plane Not Found\n",
      "Plane Not Found\n"
     ]
    },
    {
     "name": "stdout",
     "output_type": "stream",
     "text": [
      "collision avoided\n"
     ]
    },
    {
     "name": "stderr",
     "output_type": "stream",
     "text": [
      "Plane Not Found\n",
      "Plane Not Found\n"
     ]
    },
    {
     "name": "stdout",
     "output_type": "stream",
     "text": [
      "collision avoided\n"
     ]
    },
    {
     "name": "stderr",
     "output_type": "stream",
     "text": [
      "Plane Not Found\n",
      "Plane Not Found\n"
     ]
    },
    {
     "name": "stdout",
     "output_type": "stream",
     "text": [
      "collision avoided\n"
     ]
    },
    {
     "name": "stderr",
     "output_type": "stream",
     "text": [
      "Plane Not Found\n",
      "Plane Not Found\n"
     ]
    },
    {
     "name": "stdout",
     "output_type": "stream",
     "text": [
      "collision avoided\n"
     ]
    },
    {
     "name": "stderr",
     "output_type": "stream",
     "text": [
      "Plane Not Found\n",
      "Plane Not Found\n"
     ]
    },
    {
     "name": "stdout",
     "output_type": "stream",
     "text": [
      "collision avoided\n"
     ]
    },
    {
     "name": "stderr",
     "output_type": "stream",
     "text": [
      "Plane Not Found\n",
      "Plane Not Found\n",
      "Plane Not Found\n",
      "Plane Not Found\n"
     ]
    },
    {
     "name": "stdout",
     "output_type": "stream",
     "text": [
      "collision avoided\n"
     ]
    },
    {
     "name": "stderr",
     "output_type": "stream",
     "text": [
      "Plane Not Found\n",
      "Plane Not Found\n",
      "Plane Not Found\n"
     ]
    },
    {
     "name": "stdout",
     "output_type": "stream",
     "text": [
      "collision avoided\n"
     ]
    },
    {
     "name": "stderr",
     "output_type": "stream",
     "text": [
      "Plane Not Found\n",
      "Plane Not Found\n",
      "Plane Not Found\n"
     ]
    },
    {
     "name": "stdout",
     "output_type": "stream",
     "text": [
      "collision avoided\n"
     ]
    },
    {
     "name": "stderr",
     "output_type": "stream",
     "text": [
      "Plane Not Found\n"
     ]
    },
    {
     "name": "stdout",
     "output_type": "stream",
     "text": [
      "collision avoided\n"
     ]
    },
    {
     "name": "stderr",
     "output_type": "stream",
     "text": [
      "Plane Not Found\n",
      "Plane Not Found\n",
      "Plane Not Found\n",
      "Plane Not Found\n",
      "Plane Not Found\n"
     ]
    },
    {
     "name": "stdout",
     "output_type": "stream",
     "text": [
      "collision avoided\n"
     ]
    },
    {
     "name": "stderr",
     "output_type": "stream",
     "text": [
      "Plane Not Found\n",
      "Plane Not Found\n",
      "Plane Not Found\n",
      "Plane Not Found\n",
      "Plane Not Found\n",
      "Plane Not Found\n",
      "Plane Not Found\n"
     ]
    },
    {
     "name": "stdout",
     "output_type": "stream",
     "text": [
      "collision avoided\n"
     ]
    },
    {
     "name": "stderr",
     "output_type": "stream",
     "text": [
      "Plane Not Found\n",
      "Plane Not Found\n",
      "Plane Not Found\n"
     ]
    },
    {
     "name": "stdout",
     "output_type": "stream",
     "text": [
      "collision avoided\n"
     ]
    },
    {
     "name": "stderr",
     "output_type": "stream",
     "text": [
      "Plane Not Found\n"
     ]
    },
    {
     "name": "stdout",
     "output_type": "stream",
     "text": [
      "collision avoided\n"
     ]
    },
    {
     "name": "stderr",
     "output_type": "stream",
     "text": [
      "Plane Not Found\n",
      "Plane Not Found\n",
      "Plane Not Found\n",
      "Plane Not Found\n",
      "Plane Not Found\n",
      "Plane Not Found\n",
      "Plane Not Found\n",
      "Plane Not Found\n",
      "Plane Not Found\n",
      "Plane Not Found\n",
      "Plane Not Found\n",
      "Plane Not Found\n"
     ]
    },
    {
     "name": "stdout",
     "output_type": "stream",
     "text": [
      "collision avoided\n"
     ]
    },
    {
     "name": "stderr",
     "output_type": "stream",
     "text": [
      "Plane Not Found\n",
      "Plane Not Found\n",
      "Plane Not Found\n",
      "Plane Not Found\n",
      "Plane Not Found\n",
      "Plane Not Found\n",
      "Plane Not Found\n",
      "Plane Not Found\n",
      "Plane Not Found\n"
     ]
    },
    {
     "name": "stdout",
     "output_type": "stream",
     "text": [
      "collision avoided\n"
     ]
    },
    {
     "name": "stderr",
     "output_type": "stream",
     "text": [
      "Plane Not Found\n",
      "Plane Not Found\n",
      "Plane Not Found\n",
      "Plane Not Found\n"
     ]
    },
    {
     "name": "stdout",
     "output_type": "stream",
     "text": [
      "collision avoided\n"
     ]
    },
    {
     "name": "stderr",
     "output_type": "stream",
     "text": [
      "Plane Not Found\n",
      "Plane Not Found\n",
      "Plane Not Found\n"
     ]
    },
    {
     "name": "stdout",
     "output_type": "stream",
     "text": [
      "collision avoided\n"
     ]
    },
    {
     "name": "stderr",
     "output_type": "stream",
     "text": [
      "Plane Not Found\n",
      "Plane Not Found\n",
      "Plane Not Found\n"
     ]
    },
    {
     "name": "stdout",
     "output_type": "stream",
     "text": [
      "collision avoided\n"
     ]
    },
    {
     "name": "stderr",
     "output_type": "stream",
     "text": [
      "Plane Not Found\n"
     ]
    },
    {
     "name": "stdout",
     "output_type": "stream",
     "text": [
      "collision avoided\n"
     ]
    },
    {
     "name": "stderr",
     "output_type": "stream",
     "text": [
      "Plane Not Found\n",
      "Plane Not Found\n",
      "Plane Not Found\n",
      "Plane Not Found\n",
      "Plane Not Found\n",
      "Plane Not Found\n",
      "Plane Not Found\n",
      "Plane Not Found\n",
      "Plane Not Found\n",
      "Plane Not Found\n",
      "Plane Not Found\n",
      "Plane Not Found\n"
     ]
    },
    {
     "name": "stdout",
     "output_type": "stream",
     "text": [
      "collision avoided\n"
     ]
    },
    {
     "name": "stderr",
     "output_type": "stream",
     "text": [
      "Plane Not Found\n",
      "Plane Not Found\n",
      "Plane Not Found\n",
      "Plane Not Found\n",
      "Plane Not Found\n",
      "Plane Not Found\n",
      "Plane Not Found\n",
      "Plane Not Found\n",
      "Plane Not Found\n",
      "Plane Not Found\n"
     ]
    },
    {
     "name": "stdout",
     "output_type": "stream",
     "text": [
      "collision avoided\n"
     ]
    },
    {
     "name": "stderr",
     "output_type": "stream",
     "text": [
      "Plane Not Found\n",
      "Plane Not Found\n",
      "Plane Not Found\n",
      "Plane Not Found\n",
      "Plane Not Found\n",
      "Plane Not Found\n",
      "Plane Not Found\n",
      "Plane Not Found\n"
     ]
    },
    {
     "name": "stdout",
     "output_type": "stream",
     "text": [
      "collision avoided\n"
     ]
    },
    {
     "name": "stderr",
     "output_type": "stream",
     "text": [
      "Plane Not Found\n",
      "Plane Not Found\n",
      "Plane Not Found\n",
      "Plane Not Found\n",
      "Plane Not Found\n",
      "Plane Not Found\n",
      "Plane Not Found\n"
     ]
    },
    {
     "name": "stdout",
     "output_type": "stream",
     "text": [
      "collision avoided\n"
     ]
    },
    {
     "name": "stderr",
     "output_type": "stream",
     "text": [
      "Plane Not Found\n",
      "Plane Not Found\n",
      "Plane Not Found\n",
      "Plane Not Found\n",
      "Plane Not Found\n",
      "Plane Not Found\n"
     ]
    },
    {
     "name": "stdout",
     "output_type": "stream",
     "text": [
      "collision avoided\n"
     ]
    },
    {
     "name": "stderr",
     "output_type": "stream",
     "text": [
      "Plane Not Found\n",
      "Plane Not Found\n",
      "Plane Not Found\n"
     ]
    },
    {
     "name": "stdout",
     "output_type": "stream",
     "text": [
      "collision avoided\n"
     ]
    },
    {
     "name": "stderr",
     "output_type": "stream",
     "text": [
      "Plane Not Found\n"
     ]
    },
    {
     "name": "stdout",
     "output_type": "stream",
     "text": [
      "collision avoided\n"
     ]
    },
    {
     "name": "stderr",
     "output_type": "stream",
     "text": [
      "Plane Not Found\n"
     ]
    },
    {
     "name": "stdout",
     "output_type": "stream",
     "text": [
      "collision avoided\n"
     ]
    },
    {
     "name": "stderr",
     "output_type": "stream",
     "text": [
      "Plane Not Found\n"
     ]
    },
    {
     "name": "stdout",
     "output_type": "stream",
     "text": [
      "collision avoided\n"
     ]
    },
    {
     "name": "stderr",
     "output_type": "stream",
     "text": [
      "Plane Not Found\n"
     ]
    },
    {
     "name": "stdout",
     "output_type": "stream",
     "text": [
      "collision avoided\n"
     ]
    },
    {
     "name": "stderr",
     "output_type": "stream",
     "text": [
      "Plane Not Found\n",
      "Plane Not Found\n",
      "Plane Not Found\n",
      "Plane Not Found\n",
      "Plane Not Found\n",
      "Plane Not Found\n",
      "Plane Not Found\n"
     ]
    },
    {
     "name": "stdout",
     "output_type": "stream",
     "text": [
      "collision avoided\n"
     ]
    },
    {
     "name": "stderr",
     "output_type": "stream",
     "text": [
      "Plane Not Found\n",
      "Plane Not Found\n",
      "Plane Not Found\n"
     ]
    },
    {
     "name": "stdout",
     "output_type": "stream",
     "text": [
      "collision avoided\n"
     ]
    },
    {
     "name": "stderr",
     "output_type": "stream",
     "text": [
      "Plane Not Found\n",
      "Plane Not Found\n",
      "Plane Not Found\n"
     ]
    },
    {
     "name": "stdout",
     "output_type": "stream",
     "text": [
      "collision avoided\n"
     ]
    },
    {
     "name": "stderr",
     "output_type": "stream",
     "text": [
      "Plane Not Found\n",
      "Plane Not Found\n",
      "Plane Not Found\n"
     ]
    },
    {
     "name": "stdout",
     "output_type": "stream",
     "text": [
      "collision avoided\n"
     ]
    },
    {
     "name": "stderr",
     "output_type": "stream",
     "text": [
      "Plane Not Found\n",
      "Plane Not Found\n",
      "Plane Not Found\n",
      "Plane Not Found\n",
      "Plane Not Found\n",
      "Plane Not Found\n",
      "Plane Not Found\n",
      "Plane Not Found\n",
      "Plane Not Found\n",
      "Plane Not Found\n"
     ]
    },
    {
     "name": "stdout",
     "output_type": "stream",
     "text": [
      "collision avoided\n"
     ]
    },
    {
     "name": "stderr",
     "output_type": "stream",
     "text": [
      "Plane Not Found\n",
      "Plane Not Found\n",
      "Plane Not Found\n"
     ]
    },
    {
     "name": "stdout",
     "output_type": "stream",
     "text": [
      "collision avoided\n"
     ]
    },
    {
     "name": "stderr",
     "output_type": "stream",
     "text": [
      "Plane Not Found\n",
      "Plane Not Found\n",
      "Plane Not Found\n"
     ]
    },
    {
     "name": "stdout",
     "output_type": "stream",
     "text": [
      "collision avoided\n"
     ]
    },
    {
     "name": "stderr",
     "output_type": "stream",
     "text": [
      "Plane Not Found\n",
      "Plane Not Found\n",
      "Plane Not Found\n"
     ]
    },
    {
     "name": "stdout",
     "output_type": "stream",
     "text": [
      "collision avoided\n"
     ]
    },
    {
     "name": "stderr",
     "output_type": "stream",
     "text": [
      "Plane Not Found\n",
      "Plane Not Found\n",
      "Plane Not Found\n"
     ]
    },
    {
     "name": "stdout",
     "output_type": "stream",
     "text": [
      "collision avoided\n"
     ]
    },
    {
     "name": "stderr",
     "output_type": "stream",
     "text": [
      "Plane Not Found\n",
      "Plane Not Found\n",
      "Plane Not Found\n"
     ]
    },
    {
     "name": "stdout",
     "output_type": "stream",
     "text": [
      "collision avoided\n"
     ]
    },
    {
     "name": "stderr",
     "output_type": "stream",
     "text": [
      "Plane Not Found\n",
      "Plane Not Found\n",
      "Plane Not Found\n"
     ]
    },
    {
     "name": "stdout",
     "output_type": "stream",
     "text": [
      "collision avoided\n"
     ]
    },
    {
     "name": "stderr",
     "output_type": "stream",
     "text": [
      "Plane Not Found\n",
      "Plane Not Found\n",
      "Plane Not Found\n"
     ]
    },
    {
     "name": "stdout",
     "output_type": "stream",
     "text": [
      "collision avoided\n"
     ]
    },
    {
     "name": "stderr",
     "output_type": "stream",
     "text": [
      "Plane Not Found\n",
      "Plane Not Found\n",
      "Plane Not Found\n"
     ]
    },
    {
     "name": "stdout",
     "output_type": "stream",
     "text": [
      "collision avoided\n"
     ]
    },
    {
     "name": "stderr",
     "output_type": "stream",
     "text": [
      "Plane Not Found\n",
      "Plane Not Found\n",
      "Plane Not Found\n"
     ]
    },
    {
     "name": "stdout",
     "output_type": "stream",
     "text": [
      "collision avoided\n"
     ]
    },
    {
     "name": "stderr",
     "output_type": "stream",
     "text": [
      "Plane Not Found\n",
      "Plane Not Found\n",
      "Plane Not Found\n",
      "Plane Not Found\n"
     ]
    },
    {
     "name": "stdout",
     "output_type": "stream",
     "text": [
      "collision avoided\n"
     ]
    },
    {
     "name": "stderr",
     "output_type": "stream",
     "text": [
      "Plane Not Found\n",
      "Plane Not Found\n",
      "Plane Not Found\n",
      "Plane Not Found\n",
      "Plane Not Found\n"
     ]
    },
    {
     "name": "stdout",
     "output_type": "stream",
     "text": [
      "collision avoided\n"
     ]
    },
    {
     "name": "stderr",
     "output_type": "stream",
     "text": [
      "Plane Not Found\n",
      "Plane Not Found\n",
      "Plane Not Found\n",
      "Plane Not Found\n",
      "Plane Not Found\n",
      "Plane Not Found\n",
      "Plane Not Found\n",
      "Plane Not Found\n",
      "Plane Not Found\n"
     ]
    },
    {
     "name": "stdout",
     "output_type": "stream",
     "text": [
      "collision avoided\n"
     ]
    },
    {
     "name": "stderr",
     "output_type": "stream",
     "text": [
      "Plane Not Found\n",
      "Plane Not Found\n",
      "Plane Not Found\n"
     ]
    },
    {
     "name": "stdout",
     "output_type": "stream",
     "text": [
      "collision avoided\n"
     ]
    },
    {
     "name": "stderr",
     "output_type": "stream",
     "text": [
      "Plane Not Found\n"
     ]
    },
    {
     "name": "stdout",
     "output_type": "stream",
     "text": [
      "collision avoided\n"
     ]
    },
    {
     "name": "stderr",
     "output_type": "stream",
     "text": [
      "Plane Not Found\n"
     ]
    },
    {
     "name": "stdout",
     "output_type": "stream",
     "text": [
      "collision avoided\n"
     ]
    },
    {
     "name": "stderr",
     "output_type": "stream",
     "text": [
      "Plane Not Found\n",
      "Plane Not Found\n",
      "Plane Not Found\n"
     ]
    },
    {
     "name": "stdout",
     "output_type": "stream",
     "text": [
      "collision avoided\n"
     ]
    },
    {
     "name": "stderr",
     "output_type": "stream",
     "text": [
      "Plane Not Found\n",
      "Plane Not Found\n",
      "Plane Not Found\n"
     ]
    },
    {
     "name": "stdout",
     "output_type": "stream",
     "text": [
      "collision avoided\n"
     ]
    },
    {
     "name": "stderr",
     "output_type": "stream",
     "text": [
      "Plane Not Found\n",
      "Plane Not Found\n"
     ]
    },
    {
     "name": "stdout",
     "output_type": "stream",
     "text": [
      "collision avoided\n"
     ]
    },
    {
     "name": "stderr",
     "output_type": "stream",
     "text": [
      "Plane Not Found\n",
      "Plane Not Found\n"
     ]
    },
    {
     "name": "stdout",
     "output_type": "stream",
     "text": [
      "collision avoided\n"
     ]
    },
    {
     "name": "stderr",
     "output_type": "stream",
     "text": [
      "Plane Not Found\n",
      "Plane Not Found\n",
      "Plane Not Found\n"
     ]
    },
    {
     "name": "stdout",
     "output_type": "stream",
     "text": [
      "collision avoided\n"
     ]
    },
    {
     "name": "stderr",
     "output_type": "stream",
     "text": [
      "Plane Not Found\n"
     ]
    },
    {
     "name": "stdout",
     "output_type": "stream",
     "text": [
      "collision avoided\n"
     ]
    },
    {
     "name": "stderr",
     "output_type": "stream",
     "text": [
      "Plane Not Found\n"
     ]
    },
    {
     "name": "stdout",
     "output_type": "stream",
     "text": [
      "collision avoided\n"
     ]
    },
    {
     "name": "stderr",
     "output_type": "stream",
     "text": [
      "Plane Not Found\n"
     ]
    },
    {
     "name": "stdout",
     "output_type": "stream",
     "text": [
      "collision avoided\n"
     ]
    },
    {
     "name": "stderr",
     "output_type": "stream",
     "text": [
      "Plane Not Found\n",
      "Plane Not Found\n"
     ]
    },
    {
     "name": "stdout",
     "output_type": "stream",
     "text": [
      "collision avoided\n"
     ]
    },
    {
     "name": "stderr",
     "output_type": "stream",
     "text": [
      "Plane Not Found\n",
      "Plane Not Found\n"
     ]
    },
    {
     "name": "stdout",
     "output_type": "stream",
     "text": [
      "collision avoided\n"
     ]
    },
    {
     "name": "stderr",
     "output_type": "stream",
     "text": [
      "Plane Not Found\n"
     ]
    },
    {
     "name": "stdout",
     "output_type": "stream",
     "text": [
      "collision avoided\n"
     ]
    },
    {
     "name": "stderr",
     "output_type": "stream",
     "text": [
      "Plane Not Found\n"
     ]
    },
    {
     "name": "stdout",
     "output_type": "stream",
     "text": [
      "collision avoided\n"
     ]
    },
    {
     "name": "stderr",
     "output_type": "stream",
     "text": [
      "Plane Not Found\n"
     ]
    },
    {
     "name": "stdout",
     "output_type": "stream",
     "text": [
      "collision avoided\n"
     ]
    },
    {
     "name": "stderr",
     "output_type": "stream",
     "text": [
      "Plane Not Found\n"
     ]
    },
    {
     "name": "stdout",
     "output_type": "stream",
     "text": [
      "collision avoided\n"
     ]
    },
    {
     "name": "stderr",
     "output_type": "stream",
     "text": [
      "Plane Not Found\n"
     ]
    },
    {
     "name": "stdout",
     "output_type": "stream",
     "text": [
      "collision avoided\n"
     ]
    },
    {
     "name": "stderr",
     "output_type": "stream",
     "text": [
      "Plane Not Found\n"
     ]
    },
    {
     "name": "stdout",
     "output_type": "stream",
     "text": [
      "collision avoided\n"
     ]
    },
    {
     "name": "stderr",
     "output_type": "stream",
     "text": [
      "Plane Not Found\n"
     ]
    },
    {
     "name": "stdout",
     "output_type": "stream",
     "text": [
      "collision avoided\n"
     ]
    },
    {
     "name": "stderr",
     "output_type": "stream",
     "text": [
      "Plane Not Found\n"
     ]
    },
    {
     "name": "stdout",
     "output_type": "stream",
     "text": [
      "collision avoided\n"
     ]
    },
    {
     "name": "stderr",
     "output_type": "stream",
     "text": [
      "Plane Not Found\n",
      "Plane Not Found\n",
      "Plane Not Found\n"
     ]
    },
    {
     "name": "stdout",
     "output_type": "stream",
     "text": [
      "collision avoided\n"
     ]
    },
    {
     "name": "stderr",
     "output_type": "stream",
     "text": [
      "Plane Not Found\n",
      "Plane Not Found\n"
     ]
    },
    {
     "name": "stdout",
     "output_type": "stream",
     "text": [
      "collision avoided\n"
     ]
    },
    {
     "name": "stderr",
     "output_type": "stream",
     "text": [
      "Plane Not Found\n",
      "Plane Not Found\n"
     ]
    },
    {
     "name": "stdout",
     "output_type": "stream",
     "text": [
      "collision avoided\n"
     ]
    },
    {
     "name": "stderr",
     "output_type": "stream",
     "text": [
      "Plane Not Found\n"
     ]
    },
    {
     "name": "stdout",
     "output_type": "stream",
     "text": [
      "collision avoided\n"
     ]
    },
    {
     "name": "stderr",
     "output_type": "stream",
     "text": [
      "Plane Not Found\n"
     ]
    },
    {
     "name": "stdout",
     "output_type": "stream",
     "text": [
      "collision avoided\n"
     ]
    },
    {
     "name": "stderr",
     "output_type": "stream",
     "text": [
      "Plane Not Found\n"
     ]
    },
    {
     "name": "stdout",
     "output_type": "stream",
     "text": [
      "collision avoided\n"
     ]
    },
    {
     "name": "stderr",
     "output_type": "stream",
     "text": [
      "Plane Not Found\n"
     ]
    },
    {
     "name": "stdout",
     "output_type": "stream",
     "text": [
      "collision avoided\n"
     ]
    },
    {
     "name": "stderr",
     "output_type": "stream",
     "text": [
      "Plane Not Found\n"
     ]
    },
    {
     "name": "stdout",
     "output_type": "stream",
     "text": [
      "collision avoided\n"
     ]
    },
    {
     "name": "stderr",
     "output_type": "stream",
     "text": [
      "Plane Not Found\n"
     ]
    },
    {
     "name": "stdout",
     "output_type": "stream",
     "text": [
      "collision avoided\n"
     ]
    },
    {
     "name": "stderr",
     "output_type": "stream",
     "text": [
      "Plane Not Found\n",
      "Plane Not Found\n",
      "Plane Not Found\n",
      "Plane Not Found\n",
      "Plane Not Found\n",
      "Plane Not Found\n",
      "Plane Not Found\n",
      "Plane Not Found\n",
      "Plane Not Found\n",
      "Plane Not Found\n"
     ]
    },
    {
     "name": "stdout",
     "output_type": "stream",
     "text": [
      "collision avoided\n"
     ]
    },
    {
     "name": "stderr",
     "output_type": "stream",
     "text": [
      "Plane Not Found\n",
      "Plane Not Found\n"
     ]
    },
    {
     "name": "stdout",
     "output_type": "stream",
     "text": [
      "collision avoided\n"
     ]
    },
    {
     "name": "stderr",
     "output_type": "stream",
     "text": [
      "Plane Not Found\n",
      "Plane Not Found\n"
     ]
    },
    {
     "name": "stdout",
     "output_type": "stream",
     "text": [
      "collision avoided\n"
     ]
    },
    {
     "name": "stderr",
     "output_type": "stream",
     "text": [
      "Plane Not Found\n",
      "Plane Not Found\n"
     ]
    },
    {
     "name": "stdout",
     "output_type": "stream",
     "text": [
      "collision avoided\n"
     ]
    },
    {
     "name": "stderr",
     "output_type": "stream",
     "text": [
      "Plane Not Found\n",
      "Plane Not Found\n",
      "Plane Not Found\n"
     ]
    },
    {
     "name": "stdout",
     "output_type": "stream",
     "text": [
      "collision avoided\n"
     ]
    },
    {
     "name": "stderr",
     "output_type": "stream",
     "text": [
      "Plane Not Found\n",
      "Plane Not Found\n",
      "Plane Not Found\n"
     ]
    },
    {
     "name": "stdout",
     "output_type": "stream",
     "text": [
      "collision avoided\n"
     ]
    },
    {
     "name": "stderr",
     "output_type": "stream",
     "text": [
      "Plane Not Found\n",
      "Plane Not Found\n"
     ]
    },
    {
     "name": "stdout",
     "output_type": "stream",
     "text": [
      "collision avoided\n"
     ]
    },
    {
     "name": "stderr",
     "output_type": "stream",
     "text": [
      "Plane Not Found\n",
      "Plane Not Found\n",
      "Plane Not Found\n",
      "Plane Not Found\n",
      "Plane Not Found\n",
      "Plane Not Found\n",
      "Plane Not Found\n",
      "Plane Not Found\n",
      "Plane Not Found\n",
      "Plane Not Found\n",
      "Plane Not Found\n"
     ]
    },
    {
     "name": "stdout",
     "output_type": "stream",
     "text": [
      "collision avoided\n"
     ]
    },
    {
     "name": "stderr",
     "output_type": "stream",
     "text": [
      "Plane Not Found\n",
      "Plane Not Found\n",
      "Plane Not Found\n",
      "Plane Not Found\n",
      "Plane Not Found\n",
      "Plane Not Found\n",
      "Plane Not Found\n",
      "Plane Not Found\n",
      "Plane Not Found\n",
      "Plane Not Found\n"
     ]
    },
    {
     "name": "stdout",
     "output_type": "stream",
     "text": [
      "collision avoided\n"
     ]
    },
    {
     "name": "stderr",
     "output_type": "stream",
     "text": [
      "Plane Not Found\n",
      "Plane Not Found\n",
      "Plane Not Found\n",
      "Plane Not Found\n",
      "Plane Not Found\n",
      "Plane Not Found\n",
      "Plane Not Found\n",
      "Plane Not Found\n",
      "Plane Not Found\n",
      "Plane Not Found\n"
     ]
    },
    {
     "name": "stdout",
     "output_type": "stream",
     "text": [
      "collision avoided\n"
     ]
    },
    {
     "name": "stderr",
     "output_type": "stream",
     "text": [
      "Plane Not Found\n",
      "Plane Not Found\n",
      "Plane Not Found\n",
      "Plane Not Found\n"
     ]
    },
    {
     "name": "stdout",
     "output_type": "stream",
     "text": [
      "collision avoided\n"
     ]
    },
    {
     "name": "stderr",
     "output_type": "stream",
     "text": [
      "Plane Not Found\n",
      "Plane Not Found\n",
      "Plane Not Found\n",
      "Plane Not Found\n",
      "Plane Not Found\n",
      "Plane Not Found\n"
     ]
    },
    {
     "name": "stdout",
     "output_type": "stream",
     "text": [
      "collision avoided\n"
     ]
    },
    {
     "name": "stderr",
     "output_type": "stream",
     "text": [
      "Plane Not Found\n",
      "Plane Not Found\n",
      "Plane Not Found\n",
      "Plane Not Found\n"
     ]
    },
    {
     "name": "stdout",
     "output_type": "stream",
     "text": [
      "collision avoided\n"
     ]
    },
    {
     "name": "stderr",
     "output_type": "stream",
     "text": [
      "Plane Not Found\n",
      "Plane Not Found\n",
      "Plane Not Found\n"
     ]
    },
    {
     "name": "stdout",
     "output_type": "stream",
     "text": [
      "collision avoided\n"
     ]
    },
    {
     "name": "stderr",
     "output_type": "stream",
     "text": [
      "Plane Not Found\n",
      "Plane Not Found\n"
     ]
    },
    {
     "name": "stdout",
     "output_type": "stream",
     "text": [
      "collision avoided\n"
     ]
    },
    {
     "name": "stderr",
     "output_type": "stream",
     "text": [
      "Plane Not Found\n",
      "Plane Not Found\n"
     ]
    },
    {
     "name": "stdout",
     "output_type": "stream",
     "text": [
      "collision avoided\n"
     ]
    },
    {
     "name": "stderr",
     "output_type": "stream",
     "text": [
      "Plane Not Found\n",
      "Plane Not Found\n"
     ]
    },
    {
     "name": "stdout",
     "output_type": "stream",
     "text": [
      "collision avoided\n"
     ]
    },
    {
     "name": "stderr",
     "output_type": "stream",
     "text": [
      "Plane Not Found\n",
      "Plane Not Found\n",
      "Plane Not Found\n",
      "Plane Not Found\n",
      "Plane Not Found\n",
      "Plane Not Found\n",
      "Plane Not Found\n",
      "Plane Not Found\n",
      "Plane Not Found\n",
      "Plane Not Found\n",
      "Plane Not Found\n",
      "Plane Not Found\n",
      "Plane Not Found\n",
      "Plane Not Found\n",
      "Plane Not Found\n",
      "Plane Not Found\n",
      "Plane Not Found\n"
     ]
    },
    {
     "name": "stdout",
     "output_type": "stream",
     "text": [
      "collision avoided\n"
     ]
    },
    {
     "name": "stderr",
     "output_type": "stream",
     "text": [
      "Plane Not Found\n",
      "Plane Not Found\n",
      "Plane Not Found\n",
      "Plane Not Found\n",
      "Plane Not Found\n"
     ]
    },
    {
     "name": "stdout",
     "output_type": "stream",
     "text": [
      "collision avoided\n"
     ]
    },
    {
     "name": "stderr",
     "output_type": "stream",
     "text": [
      "Plane Not Found\n",
      "Plane Not Found\n",
      "Plane Not Found\n"
     ]
    },
    {
     "name": "stdout",
     "output_type": "stream",
     "text": [
      "collision avoided\n"
     ]
    },
    {
     "name": "stderr",
     "output_type": "stream",
     "text": [
      "Plane Not Found\n",
      "Plane Not Found\n",
      "Plane Not Found\n"
     ]
    },
    {
     "name": "stdout",
     "output_type": "stream",
     "text": [
      "collision avoided\n"
     ]
    },
    {
     "name": "stderr",
     "output_type": "stream",
     "text": [
      "Plane Not Found\n",
      "Plane Not Found\n",
      "Plane Not Found\n"
     ]
    },
    {
     "name": "stdout",
     "output_type": "stream",
     "text": [
      "collision avoided\n"
     ]
    },
    {
     "name": "stderr",
     "output_type": "stream",
     "text": [
      "Plane Not Found\n",
      "Plane Not Found\n"
     ]
    },
    {
     "name": "stdout",
     "output_type": "stream",
     "text": [
      "collision avoided\n"
     ]
    },
    {
     "name": "stderr",
     "output_type": "stream",
     "text": [
      "Plane Not Found\n",
      "Plane Not Found\n",
      "Plane Not Found\n"
     ]
    },
    {
     "name": "stdout",
     "output_type": "stream",
     "text": [
      "collision avoided\n"
     ]
    },
    {
     "name": "stderr",
     "output_type": "stream",
     "text": [
      "Plane Not Found\n",
      "Plane Not Found\n"
     ]
    },
    {
     "name": "stdout",
     "output_type": "stream",
     "text": [
      "collision avoided\n"
     ]
    },
    {
     "name": "stderr",
     "output_type": "stream",
     "text": [
      "Plane Not Found\n",
      "Plane Not Found\n"
     ]
    },
    {
     "name": "stdout",
     "output_type": "stream",
     "text": [
      "collision avoided\n"
     ]
    },
    {
     "name": "stderr",
     "output_type": "stream",
     "text": [
      "Plane Not Found\n",
      "Plane Not Found\n"
     ]
    },
    {
     "name": "stdout",
     "output_type": "stream",
     "text": [
      "collision avoided\n"
     ]
    },
    {
     "name": "stderr",
     "output_type": "stream",
     "text": [
      "Plane Not Found\n"
     ]
    },
    {
     "name": "stdout",
     "output_type": "stream",
     "text": [
      "collision avoided\n"
     ]
    },
    {
     "name": "stderr",
     "output_type": "stream",
     "text": [
      "Plane Not Found\n",
      "Plane Not Found\n",
      "Plane Not Found\n"
     ]
    },
    {
     "name": "stdout",
     "output_type": "stream",
     "text": [
      "collision avoided\n"
     ]
    },
    {
     "name": "stderr",
     "output_type": "stream",
     "text": [
      "Plane Not Found\n",
      "Plane Not Found\n"
     ]
    },
    {
     "name": "stdout",
     "output_type": "stream",
     "text": [
      "collision avoided\n"
     ]
    },
    {
     "name": "stderr",
     "output_type": "stream",
     "text": [
      "Plane Not Found\n"
     ]
    },
    {
     "name": "stdout",
     "output_type": "stream",
     "text": [
      "collision avoided\n"
     ]
    },
    {
     "name": "stderr",
     "output_type": "stream",
     "text": [
      "Plane Not Found\n"
     ]
    },
    {
     "name": "stdout",
     "output_type": "stream",
     "text": [
      "collision avoided\n"
     ]
    },
    {
     "name": "stderr",
     "output_type": "stream",
     "text": [
      "Plane Not Found\n"
     ]
    },
    {
     "name": "stdout",
     "output_type": "stream",
     "text": [
      "collision avoided\n"
     ]
    },
    {
     "name": "stderr",
     "output_type": "stream",
     "text": [
      "Plane Not Found\n",
      "Plane Not Found\n"
     ]
    },
    {
     "name": "stdout",
     "output_type": "stream",
     "text": [
      "collision avoided\n"
     ]
    },
    {
     "name": "stderr",
     "output_type": "stream",
     "text": [
      "Plane Not Found\n",
      "Plane Not Found\n"
     ]
    },
    {
     "name": "stdout",
     "output_type": "stream",
     "text": [
      "collision avoided\n"
     ]
    },
    {
     "name": "stderr",
     "output_type": "stream",
     "text": [
      "Plane Not Found\n"
     ]
    },
    {
     "name": "stdout",
     "output_type": "stream",
     "text": [
      "collision avoided\n"
     ]
    },
    {
     "name": "stderr",
     "output_type": "stream",
     "text": [
      "Plane Not Found\n",
      "Plane Not Found\n",
      "Plane Not Found\n"
     ]
    },
    {
     "name": "stdout",
     "output_type": "stream",
     "text": [
      "collision avoided\n"
     ]
    },
    {
     "name": "stderr",
     "output_type": "stream",
     "text": [
      "Plane Not Found\n",
      "Plane Not Found\n",
      "Plane Not Found\n"
     ]
    },
    {
     "name": "stdout",
     "output_type": "stream",
     "text": [
      "collision avoided\n"
     ]
    },
    {
     "name": "stderr",
     "output_type": "stream",
     "text": [
      "Plane Not Found\n"
     ]
    },
    {
     "name": "stdout",
     "output_type": "stream",
     "text": [
      "collision avoided\n"
     ]
    },
    {
     "name": "stderr",
     "output_type": "stream",
     "text": [
      "Plane Not Found\n"
     ]
    },
    {
     "name": "stdout",
     "output_type": "stream",
     "text": [
      "collision avoided\n"
     ]
    },
    {
     "name": "stderr",
     "output_type": "stream",
     "text": [
      "Plane Not Found\n"
     ]
    },
    {
     "name": "stdout",
     "output_type": "stream",
     "text": [
      "collision avoided\n"
     ]
    },
    {
     "name": "stderr",
     "output_type": "stream",
     "text": [
      "Plane Not Found\n"
     ]
    },
    {
     "name": "stdout",
     "output_type": "stream",
     "text": [
      "collision avoided\n"
     ]
    },
    {
     "name": "stderr",
     "output_type": "stream",
     "text": [
      "Plane Not Found\n",
      "Plane Not Found\n"
     ]
    },
    {
     "name": "stdout",
     "output_type": "stream",
     "text": [
      "collision avoided\n"
     ]
    },
    {
     "name": "stderr",
     "output_type": "stream",
     "text": [
      "Plane Not Found\n",
      "Plane Not Found\n"
     ]
    },
    {
     "name": "stdout",
     "output_type": "stream",
     "text": [
      "collision avoided\n"
     ]
    },
    {
     "name": "stderr",
     "output_type": "stream",
     "text": [
      "Plane Not Found\n",
      "Plane Not Found\n"
     ]
    },
    {
     "name": "stdout",
     "output_type": "stream",
     "text": [
      "collision avoided\n"
     ]
    },
    {
     "name": "stderr",
     "output_type": "stream",
     "text": [
      "Plane Not Found\n",
      "Plane Not Found\n",
      "Plane Not Found\n"
     ]
    },
    {
     "name": "stdout",
     "output_type": "stream",
     "text": [
      "collision avoided\n"
     ]
    },
    {
     "name": "stderr",
     "output_type": "stream",
     "text": [
      "Plane Not Found\n",
      "Plane Not Found\n",
      "Plane Not Found\n"
     ]
    },
    {
     "name": "stdout",
     "output_type": "stream",
     "text": [
      "collision avoided\n"
     ]
    },
    {
     "name": "stderr",
     "output_type": "stream",
     "text": [
      "Plane Not Found\n",
      "Plane Not Found\n",
      "Plane Not Found\n"
     ]
    },
    {
     "name": "stdout",
     "output_type": "stream",
     "text": [
      "collision avoided\n"
     ]
    },
    {
     "name": "stderr",
     "output_type": "stream",
     "text": [
      "Plane Not Found\n",
      "Plane Not Found\n"
     ]
    },
    {
     "name": "stdout",
     "output_type": "stream",
     "text": [
      "collision avoided\n"
     ]
    },
    {
     "name": "stderr",
     "output_type": "stream",
     "text": [
      "Plane Not Found\n"
     ]
    },
    {
     "name": "stdout",
     "output_type": "stream",
     "text": [
      "collision avoided\n"
     ]
    },
    {
     "name": "stderr",
     "output_type": "stream",
     "text": [
      "Plane Not Found\n",
      "Plane Not Found\n",
      "Plane Not Found\n",
      "Plane Not Found\n",
      "Plane Not Found\n"
     ]
    },
    {
     "name": "stdout",
     "output_type": "stream",
     "text": [
      "collision avoided\n"
     ]
    },
    {
     "name": "stderr",
     "output_type": "stream",
     "text": [
      "Plane Not Found\n"
     ]
    },
    {
     "name": "stdout",
     "output_type": "stream",
     "text": [
      "collision avoided\n"
     ]
    },
    {
     "name": "stderr",
     "output_type": "stream",
     "text": [
      "Plane Not Found\n",
      "Plane Not Found\n",
      "Plane Not Found\n",
      "Plane Not Found\n",
      "Plane Not Found\n",
      "Plane Not Found\n",
      "Plane Not Found\n",
      "Plane Not Found\n"
     ]
    },
    {
     "name": "stdout",
     "output_type": "stream",
     "text": [
      "collision avoided\n"
     ]
    },
    {
     "name": "stderr",
     "output_type": "stream",
     "text": [
      "Plane Not Found\n",
      "Plane Not Found\n",
      "Plane Not Found\n"
     ]
    },
    {
     "name": "stdout",
     "output_type": "stream",
     "text": [
      "collision avoided\n"
     ]
    },
    {
     "name": "stderr",
     "output_type": "stream",
     "text": [
      "Plane Not Found\n",
      "Plane Not Found\n"
     ]
    },
    {
     "name": "stdout",
     "output_type": "stream",
     "text": [
      "collision avoided\n"
     ]
    },
    {
     "name": "stderr",
     "output_type": "stream",
     "text": [
      "Plane Not Found\n"
     ]
    },
    {
     "name": "stdout",
     "output_type": "stream",
     "text": [
      "collision avoided\n"
     ]
    },
    {
     "name": "stderr",
     "output_type": "stream",
     "text": [
      "Plane Not Found\n"
     ]
    },
    {
     "name": "stdout",
     "output_type": "stream",
     "text": [
      "collision avoided\n"
     ]
    },
    {
     "name": "stderr",
     "output_type": "stream",
     "text": [
      "Plane Not Found\n"
     ]
    },
    {
     "name": "stdout",
     "output_type": "stream",
     "text": [
      "collision avoided\n"
     ]
    },
    {
     "name": "stderr",
     "output_type": "stream",
     "text": [
      "Plane Not Found\n",
      "Plane Not Found\n"
     ]
    },
    {
     "name": "stdout",
     "output_type": "stream",
     "text": [
      "collision avoided\n"
     ]
    },
    {
     "name": "stderr",
     "output_type": "stream",
     "text": [
      "Plane Not Found\n",
      "Plane Not Found\n",
      "Plane Not Found\n"
     ]
    },
    {
     "name": "stdout",
     "output_type": "stream",
     "text": [
      "collision avoided\n"
     ]
    },
    {
     "name": "stderr",
     "output_type": "stream",
     "text": [
      "Plane Not Found\n"
     ]
    },
    {
     "name": "stdout",
     "output_type": "stream",
     "text": [
      "collision avoided\n"
     ]
    },
    {
     "name": "stderr",
     "output_type": "stream",
     "text": [
      "Plane Not Found\n"
     ]
    },
    {
     "name": "stdout",
     "output_type": "stream",
     "text": [
      "collision avoided\n"
     ]
    },
    {
     "name": "stderr",
     "output_type": "stream",
     "text": [
      "Plane Not Found\n"
     ]
    },
    {
     "name": "stdout",
     "output_type": "stream",
     "text": [
      "collision avoided\n"
     ]
    },
    {
     "name": "stderr",
     "output_type": "stream",
     "text": [
      "Plane Not Found\n"
     ]
    },
    {
     "name": "stdout",
     "output_type": "stream",
     "text": [
      "collision avoided\n"
     ]
    },
    {
     "name": "stderr",
     "output_type": "stream",
     "text": [
      "Plane Not Found\n"
     ]
    },
    {
     "name": "stdout",
     "output_type": "stream",
     "text": [
      "collision avoided\n"
     ]
    },
    {
     "name": "stderr",
     "output_type": "stream",
     "text": [
      "Plane Not Found\n",
      "Plane Not Found\n"
     ]
    },
    {
     "name": "stdout",
     "output_type": "stream",
     "text": [
      "collision avoided\n"
     ]
    },
    {
     "name": "stderr",
     "output_type": "stream",
     "text": [
      "Plane Not Found\n",
      "Plane Not Found\n",
      "Plane Not Found\n"
     ]
    },
    {
     "name": "stdout",
     "output_type": "stream",
     "text": [
      "collision avoided\n"
     ]
    },
    {
     "name": "stderr",
     "output_type": "stream",
     "text": [
      "Plane Not Found\n",
      "Plane Not Found\n"
     ]
    },
    {
     "name": "stdout",
     "output_type": "stream",
     "text": [
      "collision avoided\n"
     ]
    },
    {
     "name": "stderr",
     "output_type": "stream",
     "text": [
      "Plane Not Found\n",
      "Plane Not Found\n"
     ]
    },
    {
     "name": "stdout",
     "output_type": "stream",
     "text": [
      "collision avoided\n"
     ]
    },
    {
     "name": "stderr",
     "output_type": "stream",
     "text": [
      "Plane Not Found\n"
     ]
    },
    {
     "name": "stdout",
     "output_type": "stream",
     "text": [
      "collision avoided\n"
     ]
    },
    {
     "name": "stderr",
     "output_type": "stream",
     "text": [
      "Plane Not Found\n"
     ]
    },
    {
     "name": "stdout",
     "output_type": "stream",
     "text": [
      "collision avoided\n"
     ]
    },
    {
     "name": "stderr",
     "output_type": "stream",
     "text": [
      "Plane Not Found\n"
     ]
    },
    {
     "name": "stdout",
     "output_type": "stream",
     "text": [
      "collision avoided\n"
     ]
    },
    {
     "name": "stderr",
     "output_type": "stream",
     "text": [
      "Plane Not Found\n"
     ]
    },
    {
     "name": "stdout",
     "output_type": "stream",
     "text": [
      "collision avoided\n"
     ]
    },
    {
     "name": "stderr",
     "output_type": "stream",
     "text": [
      "Plane Not Found\n"
     ]
    },
    {
     "name": "stdout",
     "output_type": "stream",
     "text": [
      "collision avoided\n"
     ]
    },
    {
     "name": "stderr",
     "output_type": "stream",
     "text": [
      "Plane Not Found\n"
     ]
    },
    {
     "name": "stdout",
     "output_type": "stream",
     "text": [
      "collision avoided\n"
     ]
    },
    {
     "name": "stderr",
     "output_type": "stream",
     "text": [
      "Plane Not Found\n"
     ]
    },
    {
     "name": "stdout",
     "output_type": "stream",
     "text": [
      "collision avoided\n"
     ]
    },
    {
     "name": "stderr",
     "output_type": "stream",
     "text": [
      "Plane Not Found\n"
     ]
    },
    {
     "name": "stdout",
     "output_type": "stream",
     "text": [
      "collision avoided\n"
     ]
    },
    {
     "name": "stderr",
     "output_type": "stream",
     "text": [
      "Plane Not Found\n",
      "Plane Not Found\n",
      "Plane Not Found\n",
      "Plane Not Found\n",
      "Plane Not Found\n"
     ]
    },
    {
     "name": "stdout",
     "output_type": "stream",
     "text": [
      "collision avoided\n"
     ]
    },
    {
     "name": "stderr",
     "output_type": "stream",
     "text": [
      "Plane Not Found\n",
      "Plane Not Found\n"
     ]
    },
    {
     "name": "stdout",
     "output_type": "stream",
     "text": [
      "collision avoided\n"
     ]
    },
    {
     "name": "stderr",
     "output_type": "stream",
     "text": [
      "Plane Not Found\n",
      "Plane Not Found\n"
     ]
    },
    {
     "name": "stdout",
     "output_type": "stream",
     "text": [
      "collision avoided\n"
     ]
    },
    {
     "name": "stderr",
     "output_type": "stream",
     "text": [
      "Plane Not Found\n"
     ]
    },
    {
     "name": "stdout",
     "output_type": "stream",
     "text": [
      "collision avoided\n"
     ]
    },
    {
     "name": "stderr",
     "output_type": "stream",
     "text": [
      "Plane Not Found\n"
     ]
    },
    {
     "name": "stdout",
     "output_type": "stream",
     "text": [
      "collision avoided\n"
     ]
    },
    {
     "name": "stderr",
     "output_type": "stream",
     "text": [
      "Plane Not Found\n"
     ]
    },
    {
     "name": "stdout",
     "output_type": "stream",
     "text": [
      "collision avoided\n"
     ]
    },
    {
     "name": "stderr",
     "output_type": "stream",
     "text": [
      "Plane Not Found\n"
     ]
    },
    {
     "name": "stdout",
     "output_type": "stream",
     "text": [
      "collision avoided\n"
     ]
    },
    {
     "name": "stderr",
     "output_type": "stream",
     "text": [
      "Plane Not Found\n"
     ]
    },
    {
     "name": "stdout",
     "output_type": "stream",
     "text": [
      "collision avoided\n"
     ]
    },
    {
     "name": "stderr",
     "output_type": "stream",
     "text": [
      "Plane Not Found\n"
     ]
    },
    {
     "name": "stdout",
     "output_type": "stream",
     "text": [
      "collision avoided\n"
     ]
    },
    {
     "name": "stderr",
     "output_type": "stream",
     "text": [
      "Plane Not Found\n"
     ]
    },
    {
     "name": "stdout",
     "output_type": "stream",
     "text": [
      "collision avoided\n"
     ]
    },
    {
     "name": "stderr",
     "output_type": "stream",
     "text": [
      "Plane Not Found\n",
      "Plane Not Found\n",
      "Plane Not Found\n",
      "Plane Not Found\n"
     ]
    },
    {
     "name": "stdout",
     "output_type": "stream",
     "text": [
      "collision avoided\n"
     ]
    },
    {
     "name": "stderr",
     "output_type": "stream",
     "text": [
      "Plane Not Found\n",
      "Plane Not Found\n",
      "Plane Not Found\n",
      "Plane Not Found\n",
      "Plane Not Found\n",
      "Plane Not Found\n",
      "Plane Not Found\n"
     ]
    },
    {
     "name": "stdout",
     "output_type": "stream",
     "text": [
      "collision avoided\n"
     ]
    },
    {
     "name": "stderr",
     "output_type": "stream",
     "text": [
      "Plane Not Found\n",
      "Plane Not Found\n",
      "Plane Not Found\n",
      "Plane Not Found\n",
      "Plane Not Found\n",
      "Plane Not Found\n"
     ]
    },
    {
     "name": "stdout",
     "output_type": "stream",
     "text": [
      "collision avoided\n"
     ]
    },
    {
     "name": "stderr",
     "output_type": "stream",
     "text": [
      "Plane Not Found\n"
     ]
    },
    {
     "name": "stdout",
     "output_type": "stream",
     "text": [
      "collision avoided\n"
     ]
    },
    {
     "name": "stderr",
     "output_type": "stream",
     "text": [
      "Plane Not Found\n",
      "Plane Not Found\n"
     ]
    },
    {
     "name": "stdout",
     "output_type": "stream",
     "text": [
      "collision avoided\n"
     ]
    },
    {
     "name": "stderr",
     "output_type": "stream",
     "text": [
      "Plane Not Found\n",
      "Plane Not Found\n",
      "Plane Not Found\n"
     ]
    },
    {
     "name": "stdout",
     "output_type": "stream",
     "text": [
      "collision avoided\n"
     ]
    },
    {
     "name": "stderr",
     "output_type": "stream",
     "text": [
      "Plane Not Found\n",
      "Plane Not Found\n"
     ]
    },
    {
     "name": "stdout",
     "output_type": "stream",
     "text": [
      "collision avoided\n"
     ]
    },
    {
     "name": "stderr",
     "output_type": "stream",
     "text": [
      "Plane Not Found\n",
      "Plane Not Found\n"
     ]
    },
    {
     "name": "stdout",
     "output_type": "stream",
     "text": [
      "collision avoided\n"
     ]
    },
    {
     "name": "stderr",
     "output_type": "stream",
     "text": [
      "Plane Not Found\n",
      "Plane Not Found\n",
      "Plane Not Found\n"
     ]
    },
    {
     "name": "stdout",
     "output_type": "stream",
     "text": [
      "collision avoided\n"
     ]
    },
    {
     "name": "stderr",
     "output_type": "stream",
     "text": [
      "Plane Not Found\n",
      "Plane Not Found\n",
      "Plane Not Found\n"
     ]
    },
    {
     "name": "stdout",
     "output_type": "stream",
     "text": [
      "collision avoided\n"
     ]
    },
    {
     "name": "stderr",
     "output_type": "stream",
     "text": [
      "Plane Not Found\n",
      "Plane Not Found\n",
      "Plane Not Found\n"
     ]
    },
    {
     "name": "stdout",
     "output_type": "stream",
     "text": [
      "collision avoided\n"
     ]
    },
    {
     "name": "stderr",
     "output_type": "stream",
     "text": [
      "Plane Not Found\n",
      "Plane Not Found\n",
      "Plane Not Found\n"
     ]
    },
    {
     "name": "stdout",
     "output_type": "stream",
     "text": [
      "collision avoided\n"
     ]
    },
    {
     "name": "stderr",
     "output_type": "stream",
     "text": [
      "Plane Not Found\n",
      "Plane Not Found\n",
      "Plane Not Found\n"
     ]
    },
    {
     "name": "stdout",
     "output_type": "stream",
     "text": [
      "collision avoided\n"
     ]
    },
    {
     "name": "stderr",
     "output_type": "stream",
     "text": [
      "Plane Not Found\n",
      "Plane Not Found\n",
      "Plane Not Found\n"
     ]
    },
    {
     "name": "stdout",
     "output_type": "stream",
     "text": [
      "collision avoided\n"
     ]
    },
    {
     "name": "stderr",
     "output_type": "stream",
     "text": [
      "Plane Not Found\n",
      "Plane Not Found\n"
     ]
    },
    {
     "name": "stdout",
     "output_type": "stream",
     "text": [
      "collision avoided\n"
     ]
    },
    {
     "name": "stderr",
     "output_type": "stream",
     "text": [
      "Plane Not Found\n",
      "Plane Not Found\n"
     ]
    },
    {
     "name": "stdout",
     "output_type": "stream",
     "text": [
      "collision avoided\n"
     ]
    },
    {
     "name": "stderr",
     "output_type": "stream",
     "text": [
      "Plane Not Found\n",
      "Plane Not Found\n"
     ]
    },
    {
     "name": "stdout",
     "output_type": "stream",
     "text": [
      "collision avoided\n"
     ]
    },
    {
     "name": "stderr",
     "output_type": "stream",
     "text": [
      "Plane Not Found\n",
      "Plane Not Found\n"
     ]
    },
    {
     "name": "stdout",
     "output_type": "stream",
     "text": [
      "collision avoided\n"
     ]
    },
    {
     "name": "stderr",
     "output_type": "stream",
     "text": [
      "Plane Not Found\n",
      "Plane Not Found\n",
      "Plane Not Found\n"
     ]
    },
    {
     "name": "stdout",
     "output_type": "stream",
     "text": [
      "collision avoided\n"
     ]
    },
    {
     "name": "stderr",
     "output_type": "stream",
     "text": [
      "Plane Not Found\n",
      "Plane Not Found\n",
      "Plane Not Found\n"
     ]
    },
    {
     "name": "stdout",
     "output_type": "stream",
     "text": [
      "collision avoided\n"
     ]
    },
    {
     "name": "stderr",
     "output_type": "stream",
     "text": [
      "Plane Not Found\n",
      "Plane Not Found\n",
      "Plane Not Found\n"
     ]
    },
    {
     "name": "stdout",
     "output_type": "stream",
     "text": [
      "collision avoided\n"
     ]
    },
    {
     "name": "stderr",
     "output_type": "stream",
     "text": [
      "Plane Not Found\n",
      "Plane Not Found\n",
      "Plane Not Found\n",
      "Plane Not Found\n",
      "Plane Not Found\n"
     ]
    },
    {
     "name": "stdout",
     "output_type": "stream",
     "text": [
      "collision avoided\n"
     ]
    },
    {
     "name": "stderr",
     "output_type": "stream",
     "text": [
      "Plane Not Found\n",
      "Plane Not Found\n"
     ]
    },
    {
     "name": "stdout",
     "output_type": "stream",
     "text": [
      "collision avoided\n"
     ]
    },
    {
     "name": "stderr",
     "output_type": "stream",
     "text": [
      "Plane Not Found\n",
      "Plane Not Found\n"
     ]
    },
    {
     "name": "stdout",
     "output_type": "stream",
     "text": [
      "collision avoided\n"
     ]
    },
    {
     "name": "stderr",
     "output_type": "stream",
     "text": [
      "Plane Not Found\n",
      "Plane Not Found\n"
     ]
    },
    {
     "name": "stdout",
     "output_type": "stream",
     "text": [
      "collision avoided\n"
     ]
    },
    {
     "name": "stderr",
     "output_type": "stream",
     "text": [
      "Plane Not Found\n",
      "Plane Not Found\n"
     ]
    },
    {
     "name": "stdout",
     "output_type": "stream",
     "text": [
      "collision avoided\n"
     ]
    },
    {
     "name": "stderr",
     "output_type": "stream",
     "text": [
      "Plane Not Found\n"
     ]
    },
    {
     "name": "stdout",
     "output_type": "stream",
     "text": [
      "collision avoided\n"
     ]
    },
    {
     "name": "stderr",
     "output_type": "stream",
     "text": [
      "Plane Not Found\n",
      "Plane Not Found\n"
     ]
    },
    {
     "name": "stdout",
     "output_type": "stream",
     "text": [
      "collision avoided\n"
     ]
    },
    {
     "name": "stderr",
     "output_type": "stream",
     "text": [
      "Plane Not Found\n",
      "Plane Not Found\n"
     ]
    },
    {
     "name": "stdout",
     "output_type": "stream",
     "text": [
      "collision avoided\n"
     ]
    },
    {
     "name": "stderr",
     "output_type": "stream",
     "text": [
      "Plane Not Found\n",
      "Plane Not Found\n"
     ]
    },
    {
     "name": "stdout",
     "output_type": "stream",
     "text": [
      "collision avoided\n"
     ]
    },
    {
     "name": "stderr",
     "output_type": "stream",
     "text": [
      "Plane Not Found\n",
      "Plane Not Found\n"
     ]
    },
    {
     "name": "stdout",
     "output_type": "stream",
     "text": [
      "collision avoided\n"
     ]
    },
    {
     "name": "stderr",
     "output_type": "stream",
     "text": [
      "Plane Not Found\n",
      "Plane Not Found\n"
     ]
    },
    {
     "name": "stdout",
     "output_type": "stream",
     "text": [
      "collision avoided\n"
     ]
    },
    {
     "name": "stderr",
     "output_type": "stream",
     "text": [
      "Plane Not Found\n",
      "Plane Not Found\n"
     ]
    },
    {
     "name": "stdout",
     "output_type": "stream",
     "text": [
      "collision avoided\n"
     ]
    },
    {
     "name": "stderr",
     "output_type": "stream",
     "text": [
      "Plane Not Found\n"
     ]
    },
    {
     "name": "stdout",
     "output_type": "stream",
     "text": [
      "collision avoided\n"
     ]
    },
    {
     "name": "stderr",
     "output_type": "stream",
     "text": [
      "Plane Not Found\n",
      "Plane Not Found\n",
      "Plane Not Found\n",
      "Plane Not Found\n"
     ]
    },
    {
     "name": "stdout",
     "output_type": "stream",
     "text": [
      "collision avoided\n"
     ]
    },
    {
     "name": "stderr",
     "output_type": "stream",
     "text": [
      "Plane Not Found\n",
      "Plane Not Found\n"
     ]
    },
    {
     "name": "stdout",
     "output_type": "stream",
     "text": [
      "collision avoided\n"
     ]
    },
    {
     "name": "stderr",
     "output_type": "stream",
     "text": [
      "Plane Not Found\n",
      "Plane Not Found\n"
     ]
    },
    {
     "name": "stdout",
     "output_type": "stream",
     "text": [
      "collision avoided\n"
     ]
    },
    {
     "name": "stderr",
     "output_type": "stream",
     "text": [
      "Plane Not Found\n",
      "Plane Not Found\n"
     ]
    },
    {
     "name": "stdout",
     "output_type": "stream",
     "text": [
      "collision avoided\n"
     ]
    },
    {
     "name": "stderr",
     "output_type": "stream",
     "text": [
      "Plane Not Found\n",
      "Plane Not Found\n"
     ]
    },
    {
     "name": "stdout",
     "output_type": "stream",
     "text": [
      "collision avoided\n"
     ]
    },
    {
     "name": "stderr",
     "output_type": "stream",
     "text": [
      "Plane Not Found\n",
      "Plane Not Found\n"
     ]
    },
    {
     "name": "stdout",
     "output_type": "stream",
     "text": [
      "collision avoided\n"
     ]
    },
    {
     "name": "stderr",
     "output_type": "stream",
     "text": [
      "Plane Not Found\n",
      "Plane Not Found\n"
     ]
    },
    {
     "name": "stdout",
     "output_type": "stream",
     "text": [
      "collision avoided\n"
     ]
    },
    {
     "name": "stderr",
     "output_type": "stream",
     "text": [
      "Plane Not Found\n",
      "Plane Not Found\n"
     ]
    },
    {
     "name": "stdout",
     "output_type": "stream",
     "text": [
      "collision avoided\n"
     ]
    },
    {
     "name": "stderr",
     "output_type": "stream",
     "text": [
      "Plane Not Found\n",
      "Plane Not Found\n"
     ]
    },
    {
     "name": "stdout",
     "output_type": "stream",
     "text": [
      "collision avoided\n"
     ]
    },
    {
     "name": "stderr",
     "output_type": "stream",
     "text": [
      "Plane Not Found\n",
      "Plane Not Found\n"
     ]
    },
    {
     "name": "stdout",
     "output_type": "stream",
     "text": [
      "collision avoided\n"
     ]
    },
    {
     "name": "stderr",
     "output_type": "stream",
     "text": [
      "Plane Not Found\n",
      "Plane Not Found\n",
      "Plane Not Found\n"
     ]
    },
    {
     "name": "stdout",
     "output_type": "stream",
     "text": [
      "collision avoided\n"
     ]
    },
    {
     "name": "stderr",
     "output_type": "stream",
     "text": [
      "Plane Not Found\n"
     ]
    },
    {
     "name": "stdout",
     "output_type": "stream",
     "text": [
      "collision avoided\n"
     ]
    },
    {
     "name": "stderr",
     "output_type": "stream",
     "text": [
      "Plane Not Found\n"
     ]
    },
    {
     "name": "stdout",
     "output_type": "stream",
     "text": [
      "collision avoided\n"
     ]
    },
    {
     "name": "stderr",
     "output_type": "stream",
     "text": [
      "Plane Not Found\n",
      "Plane Not Found\n",
      "Plane Not Found\n",
      "Plane Not Found\n",
      "Plane Not Found\n",
      "Plane Not Found\n",
      "Plane Not Found\n",
      "Plane Not Found\n",
      "Plane Not Found\n"
     ]
    },
    {
     "name": "stdout",
     "output_type": "stream",
     "text": [
      "collision avoided\n"
     ]
    },
    {
     "name": "stderr",
     "output_type": "stream",
     "text": [
      "Plane Not Found\n",
      "Plane Not Found\n",
      "Plane Not Found\n",
      "Plane Not Found\n",
      "Plane Not Found\n"
     ]
    },
    {
     "name": "stdout",
     "output_type": "stream",
     "text": [
      "collision avoided\n"
     ]
    },
    {
     "name": "stderr",
     "output_type": "stream",
     "text": [
      "Plane Not Found\n",
      "Plane Not Found\n"
     ]
    },
    {
     "name": "stdout",
     "output_type": "stream",
     "text": [
      "collision avoided\n"
     ]
    },
    {
     "name": "stderr",
     "output_type": "stream",
     "text": [
      "Plane Not Found\n",
      "Plane Not Found\n"
     ]
    },
    {
     "name": "stdout",
     "output_type": "stream",
     "text": [
      "collision avoided\n"
     ]
    },
    {
     "name": "stderr",
     "output_type": "stream",
     "text": [
      "Plane Not Found\n",
      "Plane Not Found\n",
      "Plane Not Found\n",
      "Plane Not Found\n",
      "Plane Not Found\n",
      "Plane Not Found\n"
     ]
    },
    {
     "name": "stdout",
     "output_type": "stream",
     "text": [
      "collision avoided\n"
     ]
    },
    {
     "name": "stderr",
     "output_type": "stream",
     "text": [
      "Plane Not Found\n",
      "Plane Not Found\n",
      "Plane Not Found\n",
      "Plane Not Found\n",
      "Plane Not Found\n",
      "Plane Not Found\n"
     ]
    },
    {
     "name": "stdout",
     "output_type": "stream",
     "text": [
      "collision avoided\n"
     ]
    },
    {
     "name": "stderr",
     "output_type": "stream",
     "text": [
      "Plane Not Found\n",
      "Plane Not Found\n"
     ]
    },
    {
     "name": "stdout",
     "output_type": "stream",
     "text": [
      "collision avoided\n"
     ]
    },
    {
     "name": "stderr",
     "output_type": "stream",
     "text": [
      "Plane Not Found\n",
      "Plane Not Found\n"
     ]
    },
    {
     "name": "stdout",
     "output_type": "stream",
     "text": [
      "collision avoided\n"
     ]
    },
    {
     "name": "stderr",
     "output_type": "stream",
     "text": [
      "Plane Not Found\n",
      "Plane Not Found\n",
      "Plane Not Found\n",
      "Plane Not Found\n",
      "Plane Not Found\n",
      "Plane Not Found\n",
      "Plane Not Found\n",
      "Plane Not Found\n",
      "Plane Not Found\n",
      "Plane Not Found\n",
      "Plane Not Found\n",
      "Plane Not Found\n",
      "Plane Not Found\n"
     ]
    },
    {
     "name": "stdout",
     "output_type": "stream",
     "text": [
      "collision avoided\n"
     ]
    },
    {
     "name": "stderr",
     "output_type": "stream",
     "text": [
      "Plane Not Found\n",
      "Plane Not Found\n",
      "Plane Not Found\n",
      "Plane Not Found\n"
     ]
    },
    {
     "name": "stdout",
     "output_type": "stream",
     "text": [
      "collision avoided\n"
     ]
    },
    {
     "name": "stderr",
     "output_type": "stream",
     "text": [
      "Plane Not Found\n",
      "Plane Not Found\n"
     ]
    },
    {
     "name": "stdout",
     "output_type": "stream",
     "text": [
      "collision avoided\n"
     ]
    },
    {
     "name": "stderr",
     "output_type": "stream",
     "text": [
      "Plane Not Found\n",
      "Plane Not Found\n",
      "Plane Not Found\n",
      "Plane Not Found\n",
      "Plane Not Found\n",
      "Plane Not Found\n",
      "Plane Not Found\n",
      "Plane Not Found\n",
      "Plane Not Found\n",
      "Plane Not Found\n",
      "Plane Not Found\n",
      "Plane Not Found\n",
      "Plane Not Found\n"
     ]
    },
    {
     "name": "stdout",
     "output_type": "stream",
     "text": [
      "collision avoided\n"
     ]
    },
    {
     "name": "stderr",
     "output_type": "stream",
     "text": [
      "Plane Not Found\n",
      "Plane Not Found\n",
      "Plane Not Found\n",
      "Plane Not Found\n",
      "Plane Not Found\n",
      "Plane Not Found\n",
      "Plane Not Found\n",
      "Plane Not Found\n",
      "Plane Not Found\n",
      "Plane Not Found\n"
     ]
    },
    {
     "name": "stdout",
     "output_type": "stream",
     "text": [
      "collision avoided\n"
     ]
    },
    {
     "name": "stderr",
     "output_type": "stream",
     "text": [
      "Plane Not Found\n",
      "Plane Not Found\n",
      "Plane Not Found\n",
      "Plane Not Found\n",
      "Plane Not Found\n"
     ]
    },
    {
     "name": "stdout",
     "output_type": "stream",
     "text": [
      "collision avoided\n"
     ]
    },
    {
     "name": "stderr",
     "output_type": "stream",
     "text": [
      "Plane Not Found\n",
      "Plane Not Found\n",
      "Plane Not Found\n",
      "Plane Not Found\n",
      "Plane Not Found\n"
     ]
    },
    {
     "name": "stdout",
     "output_type": "stream",
     "text": [
      "collision avoided\n"
     ]
    },
    {
     "name": "stderr",
     "output_type": "stream",
     "text": [
      "Plane Not Found\n",
      "Plane Not Found\n",
      "Plane Not Found\n",
      "Plane Not Found\n"
     ]
    },
    {
     "name": "stdout",
     "output_type": "stream",
     "text": [
      "collision avoided\n"
     ]
    },
    {
     "name": "stderr",
     "output_type": "stream",
     "text": [
      "Plane Not Found\n",
      "Plane Not Found\n"
     ]
    },
    {
     "name": "stdout",
     "output_type": "stream",
     "text": [
      "collision avoided\n"
     ]
    },
    {
     "name": "stderr",
     "output_type": "stream",
     "text": [
      "Plane Not Found\n"
     ]
    },
    {
     "name": "stdout",
     "output_type": "stream",
     "text": [
      "collision avoided\n"
     ]
    },
    {
     "name": "stderr",
     "output_type": "stream",
     "text": [
      "Plane Not Found\n"
     ]
    },
    {
     "name": "stdout",
     "output_type": "stream",
     "text": [
      "collision avoided\n"
     ]
    },
    {
     "name": "stderr",
     "output_type": "stream",
     "text": [
      "Plane Not Found\n",
      "Plane Not Found\n",
      "Plane Not Found\n",
      "Plane Not Found\n",
      "Plane Not Found\n",
      "Plane Not Found\n",
      "Plane Not Found\n",
      "Plane Not Found\n",
      "Plane Not Found\n",
      "Plane Not Found\n",
      "Plane Not Found\n",
      "Plane Not Found\n",
      "Plane Not Found\n",
      "Plane Not Found\n",
      "Plane Not Found\n",
      "Plane Not Found\n"
     ]
    },
    {
     "name": "stdout",
     "output_type": "stream",
     "text": [
      "collision avoided\n"
     ]
    },
    {
     "name": "stderr",
     "output_type": "stream",
     "text": [
      "Plane Not Found\n",
      "Plane Not Found\n",
      "Plane Not Found\n",
      "Plane Not Found\n",
      "Plane Not Found\n",
      "Plane Not Found\n",
      "Plane Not Found\n",
      "Plane Not Found\n",
      "Plane Not Found\n",
      "Plane Not Found\n",
      "Plane Not Found\n",
      "Plane Not Found\n",
      "Plane Not Found\n",
      "Plane Not Found\n",
      "Plane Not Found\n"
     ]
    },
    {
     "name": "stdout",
     "output_type": "stream",
     "text": [
      "collision avoided\n"
     ]
    },
    {
     "name": "stderr",
     "output_type": "stream",
     "text": [
      "Plane Not Found\n",
      "Plane Not Found\n",
      "Plane Not Found\n",
      "Plane Not Found\n",
      "Plane Not Found\n",
      "Plane Not Found\n",
      "Plane Not Found\n",
      "Plane Not Found\n",
      "Plane Not Found\n",
      "Plane Not Found\n",
      "Plane Not Found\n",
      "Plane Not Found\n"
     ]
    },
    {
     "name": "stdout",
     "output_type": "stream",
     "text": [
      "collision avoided\n"
     ]
    },
    {
     "name": "stderr",
     "output_type": "stream",
     "text": [
      "Plane Not Found\n",
      "Plane Not Found\n",
      "Plane Not Found\n",
      "Plane Not Found\n",
      "Plane Not Found\n",
      "Plane Not Found\n",
      "Plane Not Found\n"
     ]
    },
    {
     "name": "stdout",
     "output_type": "stream",
     "text": [
      "collision avoided\n"
     ]
    },
    {
     "name": "stderr",
     "output_type": "stream",
     "text": [
      "Plane Not Found\n",
      "Plane Not Found\n",
      "Plane Not Found\n",
      "Plane Not Found\n",
      "Plane Not Found\n",
      "Plane Not Found\n",
      "Plane Not Found\n"
     ]
    },
    {
     "name": "stdout",
     "output_type": "stream",
     "text": [
      "collision avoided\n"
     ]
    },
    {
     "name": "stderr",
     "output_type": "stream",
     "text": [
      "Plane Not Found\n",
      "Plane Not Found\n",
      "Plane Not Found\n",
      "Plane Not Found\n"
     ]
    },
    {
     "name": "stdout",
     "output_type": "stream",
     "text": [
      "collision avoided\n"
     ]
    },
    {
     "name": "stderr",
     "output_type": "stream",
     "text": [
      "Plane Not Found\n",
      "Plane Not Found\n",
      "Plane Not Found\n",
      "Plane Not Found\n"
     ]
    },
    {
     "name": "stdout",
     "output_type": "stream",
     "text": [
      "collision avoided\n"
     ]
    },
    {
     "name": "stderr",
     "output_type": "stream",
     "text": [
      "Plane Not Found\n",
      "Plane Not Found\n",
      "Plane Not Found\n",
      "Plane Not Found\n"
     ]
    },
    {
     "name": "stdout",
     "output_type": "stream",
     "text": [
      "collision avoided\n"
     ]
    },
    {
     "name": "stderr",
     "output_type": "stream",
     "text": [
      "Plane Not Found\n",
      "Plane Not Found\n"
     ]
    },
    {
     "name": "stdout",
     "output_type": "stream",
     "text": [
      "collision avoided\n"
     ]
    },
    {
     "name": "stderr",
     "output_type": "stream",
     "text": [
      "Plane Not Found\n",
      "Plane Not Found\n"
     ]
    },
    {
     "name": "stdout",
     "output_type": "stream",
     "text": [
      "collision avoided\n"
     ]
    },
    {
     "name": "stderr",
     "output_type": "stream",
     "text": [
      "Plane Not Found\n",
      "Plane Not Found\n",
      "Plane Not Found\n",
      "Plane Not Found\n",
      "Plane Not Found\n",
      "Plane Not Found\n",
      "Plane Not Found\n"
     ]
    },
    {
     "name": "stdout",
     "output_type": "stream",
     "text": [
      "collision avoided\n"
     ]
    },
    {
     "name": "stderr",
     "output_type": "stream",
     "text": [
      "Plane Not Found\n",
      "Plane Not Found\n",
      "Plane Not Found\n",
      "Plane Not Found\n",
      "Plane Not Found\n",
      "Plane Not Found\n",
      "Plane Not Found\n"
     ]
    },
    {
     "name": "stdout",
     "output_type": "stream",
     "text": [
      "collision avoided\n"
     ]
    },
    {
     "name": "stderr",
     "output_type": "stream",
     "text": [
      "Plane Not Found\n",
      "Plane Not Found\n",
      "Plane Not Found\n"
     ]
    },
    {
     "name": "stdout",
     "output_type": "stream",
     "text": [
      "collision avoided\n"
     ]
    },
    {
     "name": "stderr",
     "output_type": "stream",
     "text": [
      "Plane Not Found\n",
      "Plane Not Found\n"
     ]
    },
    {
     "name": "stdout",
     "output_type": "stream",
     "text": [
      "collision avoided\n"
     ]
    },
    {
     "name": "stderr",
     "output_type": "stream",
     "text": [
      "Plane Not Found\n",
      "Plane Not Found\n"
     ]
    },
    {
     "name": "stdout",
     "output_type": "stream",
     "text": [
      "collision avoided\n"
     ]
    },
    {
     "name": "stderr",
     "output_type": "stream",
     "text": [
      "Plane Not Found\n",
      "Plane Not Found\n"
     ]
    },
    {
     "name": "stdout",
     "output_type": "stream",
     "text": [
      "collision avoided\n"
     ]
    },
    {
     "name": "stderr",
     "output_type": "stream",
     "text": [
      "Plane Not Found\n",
      "Plane Not Found\n"
     ]
    },
    {
     "name": "stdout",
     "output_type": "stream",
     "text": [
      "collision avoided\n",
      "b'ABNORMAL_TERMINATION_IN_LNSRCH'\n"
     ]
    }
   ],
   "source": [
    "eptm.settings['shyness'] = 2e-1\n",
    "eptm.settings['thershold_length'] = 1e-2\n",
    "\n",
    "solver = QSSolver(with_collisions=True, with_t1=False, with_t3=False)\n",
    "res = solver.find_energy_min(eptm, geom, model)\n",
    "print(res['message'])\n"
   ]
  },
  {
   "cell_type": "code",
   "execution_count": 50,
   "metadata": {},
   "outputs": [
    {
     "name": "stdout",
     "output_type": "stream",
     "text": [
      "Automatic pdb calling has been turned ON\n"
     ]
    }
   ],
   "source": [
    "%pdb"
   ]
  },
  {
   "cell_type": "code",
   "execution_count": 17,
   "metadata": {
    "scrolled": false
   },
   "outputs": [
    {
     "name": "stderr",
     "output_type": "stream",
     "text": [
      "/home/guillaume/miniconda3/envs/py37/lib/python3.7/site-packages/numpy/core/fromnumeric.py:2389: FutureWarning: Method .ptp is deprecated and will be removed in a future version. Use numpy.ptp instead.\n",
      "  return ptp(axis=axis, out=out, **kwargs)\n"
     ]
    },
    {
     "data": {
      "application/vnd.jupyter.widget-view+json": {
       "model_id": "6cb37d72f80f41ccbcff6b650d1dc9ca",
       "version_major": 2,
       "version_minor": 0
      },
      "text/plain": [
       "VBox(children=(Figure(camera=PerspectiveCamera(fov=46.0, position=(0.0, 0.0, 2.0), quaternion=(0.0, 0.0, 0.0, …"
      ]
     },
     "metadata": {},
     "output_type": "display_data"
    }
   ],
   "source": [
    "ipv.clear()\n",
    "eptm.reset_index()\n",
    "eptm.reset_topo()\n",
    "\n",
    "\n",
    "eptm.face_df['visible'] = False\n",
    "eptm.face_df.loc[eptm.apical_faces, 'visible'] = True\n",
    "\n",
    "sheet_view(\n",
    "    eptm, mode='3D',\n",
    "    face={\"visible\": True,\n",
    "          \"color\": eptm.face_df.area}\n",
    ")\n",
    "\n",
    "ipv.squarelim()\n",
    "ipv.show()"
   ]
  },
  {
   "cell_type": "code",
   "execution_count": 16,
   "metadata": {
    "scrolled": true
   },
   "outputs": [
    {
     "name": "stderr",
     "output_type": "stream",
     "text": [
      "Edge 369 has adjacent triangular faces can't perform IH transition, aborting\n",
      "Edge 369 has adjacent triangular faces can't perform IH transition, aborting\n",
      "Edge 370 has adjacent triangular faces can't perform IH transition, aborting\n",
      "Edge 370 has adjacent triangular faces can't perform IH transition, aborting\n",
      "Edge 369 has adjacent triangular faces can't perform IH transition, aborting\n",
      "Edge 370 has adjacent triangular faces can't perform IH transition, aborting\n",
      "Edge 371 has adjacent triangular faces can't perform IH transition, aborting\n"
     ]
    },
    {
     "name": "stdout",
     "output_type": "stream",
     "text": [
      "out T1 changed buffer\n",
      "T1\n"
     ]
    },
    {
     "name": "stderr",
     "output_type": "stream",
     "text": [
      "/home/guillaume/miniconda3/envs/py37/lib/python3.7/site-packages/tyssue-0.3.3rc1-py3.7-linux-x86_64.egg/tyssue/topology/bulk_topology.py:416: UserWarning: Invalid topology for a HI transition, aborting\n",
      "  warnings.warn(\"Invalid topology for a HI transition, aborting\")\n",
      "/home/guillaume/miniconda3/envs/py37/lib/python3.7/site-packages/tyssue-0.3.3rc1-py3.7-linux-x86_64.egg/tyssue/topology/bulk_topology.py:416: UserWarning: Invalid topology for a HI transition, aborting\n",
      "  warnings.warn(\"Invalid topology for a HI transition, aborting\")\n",
      "/home/guillaume/miniconda3/envs/py37/lib/python3.7/site-packages/tyssue-0.3.3rc1-py3.7-linux-x86_64.egg/tyssue/topology/bulk_topology.py:416: UserWarning: Invalid topology for a HI transition, aborting\n",
      "  warnings.warn(\"Invalid topology for a HI transition, aborting\")\n",
      "/home/guillaume/miniconda3/envs/py37/lib/python3.7/site-packages/tyssue-0.3.3rc1-py3.7-linux-x86_64.egg/tyssue/topology/bulk_topology.py:416: UserWarning: Invalid topology for a HI transition, aborting\n",
      "  warnings.warn(\"Invalid topology for a HI transition, aborting\")\n",
      "/home/guillaume/miniconda3/envs/py37/lib/python3.7/site-packages/tyssue-0.3.3rc1-py3.7-linux-x86_64.egg/tyssue/topology/bulk_topology.py:416: UserWarning: Invalid topology for a HI transition, aborting\n",
      "  warnings.warn(\"Invalid topology for a HI transition, aborting\")\n",
      "/home/guillaume/miniconda3/envs/py37/lib/python3.7/site-packages/tyssue-0.3.3rc1-py3.7-linux-x86_64.egg/tyssue/topology/bulk_topology.py:416: UserWarning: Invalid topology for a HI transition, aborting\n",
      "  warnings.warn(\"Invalid topology for a HI transition, aborting\")\n",
      "/home/guillaume/miniconda3/envs/py37/lib/python3.7/site-packages/tyssue-0.3.3rc1-py3.7-linux-x86_64.egg/tyssue/topology/bulk_topology.py:416: UserWarning: Invalid topology for a HI transition, aborting\n",
      "  warnings.warn(\"Invalid topology for a HI transition, aborting\")\n",
      "/home/guillaume/miniconda3/envs/py37/lib/python3.7/site-packages/tyssue-0.3.3rc1-py3.7-linux-x86_64.egg/tyssue/topology/bulk_topology.py:416: UserWarning: Invalid topology for a HI transition, aborting\n",
      "  warnings.warn(\"Invalid topology for a HI transition, aborting\")\n",
      "/home/guillaume/miniconda3/envs/py37/lib/python3.7/site-packages/tyssue-0.3.3rc1-py3.7-linux-x86_64.egg/tyssue/topology/bulk_topology.py:416: UserWarning: Invalid topology for a HI transition, aborting\n",
      "  warnings.warn(\"Invalid topology for a HI transition, aborting\")\n",
      "/home/guillaume/miniconda3/envs/py37/lib/python3.7/site-packages/tyssue-0.3.3rc1-py3.7-linux-x86_64.egg/tyssue/topology/bulk_topology.py:416: UserWarning: Invalid topology for a HI transition, aborting\n",
      "  warnings.warn(\"Invalid topology for a HI transition, aborting\")\n",
      "Edge 354 has adjacent triangular faces can't perform IH transition, aborting\n"
     ]
    },
    {
     "name": "stdout",
     "output_type": "stream",
     "text": [
      "out T3 changed buffer\n",
      "T3\n"
     ]
    },
    {
     "name": "stderr",
     "output_type": "stream",
     "text": [
      "Edge 354 has adjacent triangular faces can't perform IH transition, aborting\n",
      "Edge 355 is not a valid junction to perform IH transition, aborting\n",
      "Edge 353 has adjacent triangular faces can't perform IH transition, aborting\n",
      "Edge 353 has adjacent triangular faces can't perform IH transition, aborting\n",
      "Edge 353 has adjacent triangular faces can't perform IH transition, aborting\n",
      "Edge 353 has adjacent triangular faces can't perform IH transition, aborting\n",
      "Edge 355 is not a valid junction to perform IH transition, aborting\n",
      "Edge 354 has adjacent triangular faces can't perform IH transition, aborting\n",
      "Edge 353 has adjacent triangular faces can't perform IH transition, aborting\n",
      "Edge 355 is not a valid junction to perform IH transition, aborting\n"
     ]
    },
    {
     "name": "stdout",
     "output_type": "stream",
     "text": [
      "out T1 changed buffer\n",
      "T1\n"
     ]
    },
    {
     "name": "stderr",
     "output_type": "stream",
     "text": [
      "/home/guillaume/miniconda3/envs/py37/lib/python3.7/site-packages/tyssue-0.3.3rc1-py3.7-linux-x86_64.egg/tyssue/topology/bulk_topology.py:416: UserWarning: Invalid topology for a HI transition, aborting\n",
      "  warnings.warn(\"Invalid topology for a HI transition, aborting\")\n",
      "/home/guillaume/miniconda3/envs/py37/lib/python3.7/site-packages/tyssue-0.3.3rc1-py3.7-linux-x86_64.egg/tyssue/topology/bulk_topology.py:416: UserWarning: Invalid topology for a HI transition, aborting\n",
      "  warnings.warn(\"Invalid topology for a HI transition, aborting\")\n",
      "/home/guillaume/miniconda3/envs/py37/lib/python3.7/site-packages/tyssue-0.3.3rc1-py3.7-linux-x86_64.egg/tyssue/topology/bulk_topology.py:416: UserWarning: Invalid topology for a HI transition, aborting\n",
      "  warnings.warn(\"Invalid topology for a HI transition, aborting\")\n",
      "/home/guillaume/miniconda3/envs/py37/lib/python3.7/site-packages/tyssue-0.3.3rc1-py3.7-linux-x86_64.egg/tyssue/topology/bulk_topology.py:416: UserWarning: Invalid topology for a HI transition, aborting\n",
      "  warnings.warn(\"Invalid topology for a HI transition, aborting\")\n",
      "/home/guillaume/miniconda3/envs/py37/lib/python3.7/site-packages/tyssue-0.3.3rc1-py3.7-linux-x86_64.egg/tyssue/topology/bulk_topology.py:416: UserWarning: Invalid topology for a HI transition, aborting\n",
      "  warnings.warn(\"Invalid topology for a HI transition, aborting\")\n",
      "/home/guillaume/miniconda3/envs/py37/lib/python3.7/site-packages/tyssue-0.3.3rc1-py3.7-linux-x86_64.egg/tyssue/topology/bulk_topology.py:416: UserWarning: Invalid topology for a HI transition, aborting\n",
      "  warnings.warn(\"Invalid topology for a HI transition, aborting\")\n",
      "/home/guillaume/miniconda3/envs/py37/lib/python3.7/site-packages/tyssue-0.3.3rc1-py3.7-linux-x86_64.egg/tyssue/topology/bulk_topology.py:416: UserWarning: Invalid topology for a HI transition, aborting\n",
      "  warnings.warn(\"Invalid topology for a HI transition, aborting\")\n",
      "/home/guillaume/miniconda3/envs/py37/lib/python3.7/site-packages/tyssue-0.3.3rc1-py3.7-linux-x86_64.egg/tyssue/topology/bulk_topology.py:416: UserWarning: Invalid topology for a HI transition, aborting\n",
      "  warnings.warn(\"Invalid topology for a HI transition, aborting\")\n",
      "/home/guillaume/miniconda3/envs/py37/lib/python3.7/site-packages/tyssue-0.3.3rc1-py3.7-linux-x86_64.egg/tyssue/topology/bulk_topology.py:416: UserWarning: Invalid topology for a HI transition, aborting\n",
      "  warnings.warn(\"Invalid topology for a HI transition, aborting\")\n",
      "/home/guillaume/miniconda3/envs/py37/lib/python3.7/site-packages/tyssue-0.3.3rc1-py3.7-linux-x86_64.egg/tyssue/topology/bulk_topology.py:416: UserWarning: Invalid topology for a HI transition, aborting\n",
      "  warnings.warn(\"Invalid topology for a HI transition, aborting\")\n",
      "/home/guillaume/miniconda3/envs/py37/lib/python3.7/site-packages/tyssue-0.3.3rc1-py3.7-linux-x86_64.egg/tyssue/topology/bulk_topology.py:416: UserWarning: Invalid topology for a HI transition, aborting\n",
      "  warnings.warn(\"Invalid topology for a HI transition, aborting\")\n",
      "Edge 354 has adjacent triangular faces can't perform IH transition, aborting\n"
     ]
    },
    {
     "name": "stdout",
     "output_type": "stream",
     "text": [
      "out T3 changed buffer\n",
      "T3\n"
     ]
    },
    {
     "name": "stderr",
     "output_type": "stream",
     "text": [
      "Edge 354 has adjacent triangular faces can't perform IH transition, aborting\n",
      "Edge 355 is not a valid junction to perform IH transition, aborting\n",
      "Edge 354 has adjacent triangular faces can't perform IH transition, aborting\n",
      "Edge 353 has adjacent triangular faces can't perform IH transition, aborting\n",
      "Edge 353 has adjacent triangular faces can't perform IH transition, aborting\n",
      "Edge 353 has adjacent triangular faces can't perform IH transition, aborting\n",
      "Edge 354 has adjacent triangular faces can't perform IH transition, aborting\n",
      "Edge 354 has adjacent triangular faces can't perform IH transition, aborting\n",
      "Edge 353 has adjacent triangular faces can't perform IH transition, aborting\n",
      "Edge 354 has adjacent triangular faces can't perform IH transition, aborting\n",
      "/home/guillaume/miniconda3/envs/py37/lib/python3.7/site-packages/tyssue-0.3.3rc1-py3.7-linux-x86_64.egg/tyssue/topology/bulk_topology.py:416: UserWarning: Invalid topology for a HI transition, aborting\n",
      "  warnings.warn(\"Invalid topology for a HI transition, aborting\")\n"
     ]
    },
    {
     "name": "stdout",
     "output_type": "stream",
     "text": [
      "out T1 changed buffer\n",
      "T1\n"
     ]
    },
    {
     "name": "stderr",
     "output_type": "stream",
     "text": [
      "/home/guillaume/miniconda3/envs/py37/lib/python3.7/site-packages/tyssue-0.3.3rc1-py3.7-linux-x86_64.egg/tyssue/topology/bulk_topology.py:416: UserWarning: Invalid topology for a HI transition, aborting\n",
      "  warnings.warn(\"Invalid topology for a HI transition, aborting\")\n",
      "/home/guillaume/miniconda3/envs/py37/lib/python3.7/site-packages/tyssue-0.3.3rc1-py3.7-linux-x86_64.egg/tyssue/topology/bulk_topology.py:416: UserWarning: Invalid topology for a HI transition, aborting\n",
      "  warnings.warn(\"Invalid topology for a HI transition, aborting\")\n",
      "/home/guillaume/miniconda3/envs/py37/lib/python3.7/site-packages/tyssue-0.3.3rc1-py3.7-linux-x86_64.egg/tyssue/topology/bulk_topology.py:416: UserWarning: Invalid topology for a HI transition, aborting\n",
      "  warnings.warn(\"Invalid topology for a HI transition, aborting\")\n",
      "/home/guillaume/miniconda3/envs/py37/lib/python3.7/site-packages/tyssue-0.3.3rc1-py3.7-linux-x86_64.egg/tyssue/topology/bulk_topology.py:416: UserWarning: Invalid topology for a HI transition, aborting\n",
      "  warnings.warn(\"Invalid topology for a HI transition, aborting\")\n",
      "/home/guillaume/miniconda3/envs/py37/lib/python3.7/site-packages/tyssue-0.3.3rc1-py3.7-linux-x86_64.egg/tyssue/topology/bulk_topology.py:416: UserWarning: Invalid topology for a HI transition, aborting\n",
      "  warnings.warn(\"Invalid topology for a HI transition, aborting\")\n",
      "/home/guillaume/miniconda3/envs/py37/lib/python3.7/site-packages/tyssue-0.3.3rc1-py3.7-linux-x86_64.egg/tyssue/topology/bulk_topology.py:416: UserWarning: Invalid topology for a HI transition, aborting\n",
      "  warnings.warn(\"Invalid topology for a HI transition, aborting\")\n",
      "/home/guillaume/miniconda3/envs/py37/lib/python3.7/site-packages/tyssue-0.3.3rc1-py3.7-linux-x86_64.egg/tyssue/topology/bulk_topology.py:416: UserWarning: Invalid topology for a HI transition, aborting\n",
      "  warnings.warn(\"Invalid topology for a HI transition, aborting\")\n",
      "/home/guillaume/miniconda3/envs/py37/lib/python3.7/site-packages/tyssue-0.3.3rc1-py3.7-linux-x86_64.egg/tyssue/topology/bulk_topology.py:416: UserWarning: Invalid topology for a HI transition, aborting\n",
      "  warnings.warn(\"Invalid topology for a HI transition, aborting\")\n",
      "/home/guillaume/miniconda3/envs/py37/lib/python3.7/site-packages/tyssue-0.3.3rc1-py3.7-linux-x86_64.egg/tyssue/topology/bulk_topology.py:416: UserWarning: Invalid topology for a HI transition, aborting\n",
      "  warnings.warn(\"Invalid topology for a HI transition, aborting\")\n",
      "/home/guillaume/miniconda3/envs/py37/lib/python3.7/site-packages/tyssue-0.3.3rc1-py3.7-linux-x86_64.egg/tyssue/topology/bulk_topology.py:416: UserWarning: Invalid topology for a HI transition, aborting\n",
      "  warnings.warn(\"Invalid topology for a HI transition, aborting\")\n",
      "Edge 355 is not a valid junction to perform IH transition, aborting\n"
     ]
    },
    {
     "name": "stdout",
     "output_type": "stream",
     "text": [
      "out T3 changed buffer\n",
      "T3\n"
     ]
    },
    {
     "name": "stderr",
     "output_type": "stream",
     "text": [
      "Edge 354 has adjacent triangular faces can't perform IH transition, aborting\n",
      "Edge 355 is not a valid junction to perform IH transition, aborting\n",
      "Edge 354 has adjacent triangular faces can't perform IH transition, aborting\n",
      "Edge 353 has adjacent triangular faces can't perform IH transition, aborting\n",
      "Edge 353 has adjacent triangular faces can't perform IH transition, aborting\n",
      "Edge 355 is not a valid junction to perform IH transition, aborting\n",
      "Edge 353 has adjacent triangular faces can't perform IH transition, aborting\n",
      "Edge 353 has adjacent triangular faces can't perform IH transition, aborting\n",
      "Edge 354 has adjacent triangular faces can't perform IH transition, aborting\n",
      "Edge 353 has adjacent triangular faces can't perform IH transition, aborting\n"
     ]
    },
    {
     "name": "stdout",
     "output_type": "stream",
     "text": [
      "out T1 changed buffer\n",
      "T1\n"
     ]
    },
    {
     "name": "stderr",
     "output_type": "stream",
     "text": [
      "/home/guillaume/miniconda3/envs/py37/lib/python3.7/site-packages/tyssue-0.3.3rc1-py3.7-linux-x86_64.egg/tyssue/topology/bulk_topology.py:416: UserWarning: Invalid topology for a HI transition, aborting\n",
      "  warnings.warn(\"Invalid topology for a HI transition, aborting\")\n",
      "/home/guillaume/miniconda3/envs/py37/lib/python3.7/site-packages/tyssue-0.3.3rc1-py3.7-linux-x86_64.egg/tyssue/topology/bulk_topology.py:416: UserWarning: Invalid topology for a HI transition, aborting\n",
      "  warnings.warn(\"Invalid topology for a HI transition, aborting\")\n",
      "/home/guillaume/miniconda3/envs/py37/lib/python3.7/site-packages/tyssue-0.3.3rc1-py3.7-linux-x86_64.egg/tyssue/topology/bulk_topology.py:416: UserWarning: Invalid topology for a HI transition, aborting\n",
      "  warnings.warn(\"Invalid topology for a HI transition, aborting\")\n",
      "/home/guillaume/miniconda3/envs/py37/lib/python3.7/site-packages/tyssue-0.3.3rc1-py3.7-linux-x86_64.egg/tyssue/topology/bulk_topology.py:416: UserWarning: Invalid topology for a HI transition, aborting\n",
      "  warnings.warn(\"Invalid topology for a HI transition, aborting\")\n",
      "/home/guillaume/miniconda3/envs/py37/lib/python3.7/site-packages/tyssue-0.3.3rc1-py3.7-linux-x86_64.egg/tyssue/topology/bulk_topology.py:416: UserWarning: Invalid topology for a HI transition, aborting\n",
      "  warnings.warn(\"Invalid topology for a HI transition, aborting\")\n",
      "/home/guillaume/miniconda3/envs/py37/lib/python3.7/site-packages/tyssue-0.3.3rc1-py3.7-linux-x86_64.egg/tyssue/topology/bulk_topology.py:416: UserWarning: Invalid topology for a HI transition, aborting\n",
      "  warnings.warn(\"Invalid topology for a HI transition, aborting\")\n",
      "/home/guillaume/miniconda3/envs/py37/lib/python3.7/site-packages/tyssue-0.3.3rc1-py3.7-linux-x86_64.egg/tyssue/topology/bulk_topology.py:416: UserWarning: Invalid topology for a HI transition, aborting\n",
      "  warnings.warn(\"Invalid topology for a HI transition, aborting\")\n",
      "/home/guillaume/miniconda3/envs/py37/lib/python3.7/site-packages/tyssue-0.3.3rc1-py3.7-linux-x86_64.egg/tyssue/topology/bulk_topology.py:416: UserWarning: Invalid topology for a HI transition, aborting\n",
      "  warnings.warn(\"Invalid topology for a HI transition, aborting\")\n",
      "/home/guillaume/miniconda3/envs/py37/lib/python3.7/site-packages/tyssue-0.3.3rc1-py3.7-linux-x86_64.egg/tyssue/topology/bulk_topology.py:416: UserWarning: Invalid topology for a HI transition, aborting\n",
      "  warnings.warn(\"Invalid topology for a HI transition, aborting\")\n",
      "/home/guillaume/miniconda3/envs/py37/lib/python3.7/site-packages/tyssue-0.3.3rc1-py3.7-linux-x86_64.egg/tyssue/topology/bulk_topology.py:416: UserWarning: Invalid topology for a HI transition, aborting\n",
      "  warnings.warn(\"Invalid topology for a HI transition, aborting\")\n",
      "/home/guillaume/miniconda3/envs/py37/lib/python3.7/site-packages/tyssue-0.3.3rc1-py3.7-linux-x86_64.egg/tyssue/topology/bulk_topology.py:416: UserWarning: Invalid topology for a HI transition, aborting\n",
      "  warnings.warn(\"Invalid topology for a HI transition, aborting\")\n",
      "Edge 354 has adjacent triangular faces can't perform IH transition, aborting\n"
     ]
    },
    {
     "name": "stdout",
     "output_type": "stream",
     "text": [
      "out T3 changed buffer\n",
      "T3\n"
     ]
    },
    {
     "name": "stderr",
     "output_type": "stream",
     "text": [
      "Edge 355 is not a valid junction to perform IH transition, aborting\n",
      "Edge 353 has adjacent triangular faces can't perform IH transition, aborting\n",
      "Edge 355 is not a valid junction to perform IH transition, aborting\n",
      "Edge 354 has adjacent triangular faces can't perform IH transition, aborting\n",
      "Edge 355 is not a valid junction to perform IH transition, aborting\n",
      "Edge 353 has adjacent triangular faces can't perform IH transition, aborting\n",
      "Edge 355 is not a valid junction to perform IH transition, aborting\n",
      "Edge 354 has adjacent triangular faces can't perform IH transition, aborting\n",
      "Edge 354 has adjacent triangular faces can't perform IH transition, aborting\n",
      "Edge 353 has adjacent triangular faces can't perform IH transition, aborting\n"
     ]
    },
    {
     "name": "stdout",
     "output_type": "stream",
     "text": [
      "out T1 changed buffer\n",
      "T1\n"
     ]
    },
    {
     "name": "stderr",
     "output_type": "stream",
     "text": [
      "/home/guillaume/miniconda3/envs/py37/lib/python3.7/site-packages/tyssue-0.3.3rc1-py3.7-linux-x86_64.egg/tyssue/topology/bulk_topology.py:416: UserWarning: Invalid topology for a HI transition, aborting\n",
      "  warnings.warn(\"Invalid topology for a HI transition, aborting\")\n",
      "/home/guillaume/miniconda3/envs/py37/lib/python3.7/site-packages/tyssue-0.3.3rc1-py3.7-linux-x86_64.egg/tyssue/topology/bulk_topology.py:416: UserWarning: Invalid topology for a HI transition, aborting\n",
      "  warnings.warn(\"Invalid topology for a HI transition, aborting\")\n",
      "/home/guillaume/miniconda3/envs/py37/lib/python3.7/site-packages/tyssue-0.3.3rc1-py3.7-linux-x86_64.egg/tyssue/topology/bulk_topology.py:416: UserWarning: Invalid topology for a HI transition, aborting\n",
      "  warnings.warn(\"Invalid topology for a HI transition, aborting\")\n",
      "/home/guillaume/miniconda3/envs/py37/lib/python3.7/site-packages/tyssue-0.3.3rc1-py3.7-linux-x86_64.egg/tyssue/topology/bulk_topology.py:416: UserWarning: Invalid topology for a HI transition, aborting\n",
      "  warnings.warn(\"Invalid topology for a HI transition, aborting\")\n",
      "/home/guillaume/miniconda3/envs/py37/lib/python3.7/site-packages/tyssue-0.3.3rc1-py3.7-linux-x86_64.egg/tyssue/topology/bulk_topology.py:416: UserWarning: Invalid topology for a HI transition, aborting\n",
      "  warnings.warn(\"Invalid topology for a HI transition, aborting\")\n",
      "/home/guillaume/miniconda3/envs/py37/lib/python3.7/site-packages/tyssue-0.3.3rc1-py3.7-linux-x86_64.egg/tyssue/topology/bulk_topology.py:416: UserWarning: Invalid topology for a HI transition, aborting\n",
      "  warnings.warn(\"Invalid topology for a HI transition, aborting\")\n",
      "/home/guillaume/miniconda3/envs/py37/lib/python3.7/site-packages/tyssue-0.3.3rc1-py3.7-linux-x86_64.egg/tyssue/topology/bulk_topology.py:416: UserWarning: Invalid topology for a HI transition, aborting\n",
      "  warnings.warn(\"Invalid topology for a HI transition, aborting\")\n",
      "/home/guillaume/miniconda3/envs/py37/lib/python3.7/site-packages/tyssue-0.3.3rc1-py3.7-linux-x86_64.egg/tyssue/topology/bulk_topology.py:416: UserWarning: Invalid topology for a HI transition, aborting\n",
      "  warnings.warn(\"Invalid topology for a HI transition, aborting\")\n",
      "/home/guillaume/miniconda3/envs/py37/lib/python3.7/site-packages/tyssue-0.3.3rc1-py3.7-linux-x86_64.egg/tyssue/topology/bulk_topology.py:416: UserWarning: Invalid topology for a HI transition, aborting\n",
      "  warnings.warn(\"Invalid topology for a HI transition, aborting\")\n",
      "/home/guillaume/miniconda3/envs/py37/lib/python3.7/site-packages/tyssue-0.3.3rc1-py3.7-linux-x86_64.egg/tyssue/topology/bulk_topology.py:416: UserWarning: Invalid topology for a HI transition, aborting\n",
      "  warnings.warn(\"Invalid topology for a HI transition, aborting\")\n",
      "/home/guillaume/miniconda3/envs/py37/lib/python3.7/site-packages/tyssue-0.3.3rc1-py3.7-linux-x86_64.egg/tyssue/topology/bulk_topology.py:416: UserWarning: Invalid topology for a HI transition, aborting\n",
      "  warnings.warn(\"Invalid topology for a HI transition, aborting\")\n",
      "Edge 355 is not a valid junction to perform IH transition, aborting\n"
     ]
    },
    {
     "name": "stdout",
     "output_type": "stream",
     "text": [
      "out T3 changed buffer\n",
      "T3\n"
     ]
    },
    {
     "name": "stderr",
     "output_type": "stream",
     "text": [
      "Edge 353 has adjacent triangular faces can't perform IH transition, aborting\n",
      "Edge 353 has adjacent triangular faces can't perform IH transition, aborting\n",
      "Edge 355 is not a valid junction to perform IH transition, aborting\n",
      "Edge 353 has adjacent triangular faces can't perform IH transition, aborting\n",
      "Edge 355 is not a valid junction to perform IH transition, aborting\n",
      "Edge 353 has adjacent triangular faces can't perform IH transition, aborting\n",
      "Edge 353 has adjacent triangular faces can't perform IH transition, aborting\n",
      "Edge 353 has adjacent triangular faces can't perform IH transition, aborting\n",
      "Edge 355 is not a valid junction to perform IH transition, aborting\n",
      "Edge 353 has adjacent triangular faces can't perform IH transition, aborting\n"
     ]
    },
    {
     "name": "stdout",
     "output_type": "stream",
     "text": [
      "out T1 changed buffer\n",
      "T1\n"
     ]
    },
    {
     "name": "stderr",
     "output_type": "stream",
     "text": [
      "/home/guillaume/miniconda3/envs/py37/lib/python3.7/site-packages/tyssue-0.3.3rc1-py3.7-linux-x86_64.egg/tyssue/topology/bulk_topology.py:416: UserWarning: Invalid topology for a HI transition, aborting\n",
      "  warnings.warn(\"Invalid topology for a HI transition, aborting\")\n",
      "/home/guillaume/miniconda3/envs/py37/lib/python3.7/site-packages/tyssue-0.3.3rc1-py3.7-linux-x86_64.egg/tyssue/topology/bulk_topology.py:416: UserWarning: Invalid topology for a HI transition, aborting\n",
      "  warnings.warn(\"Invalid topology for a HI transition, aborting\")\n",
      "/home/guillaume/miniconda3/envs/py37/lib/python3.7/site-packages/tyssue-0.3.3rc1-py3.7-linux-x86_64.egg/tyssue/topology/bulk_topology.py:416: UserWarning: Invalid topology for a HI transition, aborting\n",
      "  warnings.warn(\"Invalid topology for a HI transition, aborting\")\n",
      "/home/guillaume/miniconda3/envs/py37/lib/python3.7/site-packages/tyssue-0.3.3rc1-py3.7-linux-x86_64.egg/tyssue/topology/bulk_topology.py:416: UserWarning: Invalid topology for a HI transition, aborting\n",
      "  warnings.warn(\"Invalid topology for a HI transition, aborting\")\n",
      "/home/guillaume/miniconda3/envs/py37/lib/python3.7/site-packages/tyssue-0.3.3rc1-py3.7-linux-x86_64.egg/tyssue/topology/bulk_topology.py:416: UserWarning: Invalid topology for a HI transition, aborting\n",
      "  warnings.warn(\"Invalid topology for a HI transition, aborting\")\n",
      "/home/guillaume/miniconda3/envs/py37/lib/python3.7/site-packages/tyssue-0.3.3rc1-py3.7-linux-x86_64.egg/tyssue/topology/bulk_topology.py:416: UserWarning: Invalid topology for a HI transition, aborting\n",
      "  warnings.warn(\"Invalid topology for a HI transition, aborting\")\n",
      "/home/guillaume/miniconda3/envs/py37/lib/python3.7/site-packages/tyssue-0.3.3rc1-py3.7-linux-x86_64.egg/tyssue/topology/bulk_topology.py:416: UserWarning: Invalid topology for a HI transition, aborting\n",
      "  warnings.warn(\"Invalid topology for a HI transition, aborting\")\n",
      "/home/guillaume/miniconda3/envs/py37/lib/python3.7/site-packages/tyssue-0.3.3rc1-py3.7-linux-x86_64.egg/tyssue/topology/bulk_topology.py:416: UserWarning: Invalid topology for a HI transition, aborting\n",
      "  warnings.warn(\"Invalid topology for a HI transition, aborting\")\n",
      "/home/guillaume/miniconda3/envs/py37/lib/python3.7/site-packages/tyssue-0.3.3rc1-py3.7-linux-x86_64.egg/tyssue/topology/bulk_topology.py:416: UserWarning: Invalid topology for a HI transition, aborting\n",
      "  warnings.warn(\"Invalid topology for a HI transition, aborting\")\n",
      "/home/guillaume/miniconda3/envs/py37/lib/python3.7/site-packages/tyssue-0.3.3rc1-py3.7-linux-x86_64.egg/tyssue/topology/bulk_topology.py:416: UserWarning: Invalid topology for a HI transition, aborting\n",
      "  warnings.warn(\"Invalid topology for a HI transition, aborting\")\n",
      "/home/guillaume/miniconda3/envs/py37/lib/python3.7/site-packages/tyssue-0.3.3rc1-py3.7-linux-x86_64.egg/tyssue/topology/bulk_topology.py:416: UserWarning: Invalid topology for a HI transition, aborting\n",
      "  warnings.warn(\"Invalid topology for a HI transition, aborting\")\n",
      "Edge 353 has adjacent triangular faces can't perform IH transition, aborting\n"
     ]
    },
    {
     "name": "stdout",
     "output_type": "stream",
     "text": [
      "out T3 changed buffer\n",
      "T3\n"
     ]
    },
    {
     "name": "stderr",
     "output_type": "stream",
     "text": [
      "Edge 353 has adjacent triangular faces can't perform IH transition, aborting\n",
      "Edge 355 is not a valid junction to perform IH transition, aborting\n",
      "Edge 354 has adjacent triangular faces can't perform IH transition, aborting\n",
      "Edge 354 has adjacent triangular faces can't perform IH transition, aborting\n",
      "Edge 353 has adjacent triangular faces can't perform IH transition, aborting\n",
      "Edge 354 has adjacent triangular faces can't perform IH transition, aborting\n",
      "Edge 354 has adjacent triangular faces can't perform IH transition, aborting\n",
      "Edge 354 has adjacent triangular faces can't perform IH transition, aborting\n",
      "Edge 353 has adjacent triangular faces can't perform IH transition, aborting\n",
      "Edge 353 has adjacent triangular faces can't perform IH transition, aborting\n",
      "/home/guillaume/miniconda3/envs/py37/lib/python3.7/site-packages/tyssue-0.3.3rc1-py3.7-linux-x86_64.egg/tyssue/topology/bulk_topology.py:416: UserWarning: Invalid topology for a HI transition, aborting\n",
      "  warnings.warn(\"Invalid topology for a HI transition, aborting\")\n"
     ]
    },
    {
     "name": "stdout",
     "output_type": "stream",
     "text": [
      "out T1 changed buffer\n",
      "T1\n"
     ]
    },
    {
     "name": "stderr",
     "output_type": "stream",
     "text": [
      "/home/guillaume/miniconda3/envs/py37/lib/python3.7/site-packages/tyssue-0.3.3rc1-py3.7-linux-x86_64.egg/tyssue/topology/bulk_topology.py:416: UserWarning: Invalid topology for a HI transition, aborting\n",
      "  warnings.warn(\"Invalid topology for a HI transition, aborting\")\n",
      "/home/guillaume/miniconda3/envs/py37/lib/python3.7/site-packages/tyssue-0.3.3rc1-py3.7-linux-x86_64.egg/tyssue/topology/bulk_topology.py:416: UserWarning: Invalid topology for a HI transition, aborting\n",
      "  warnings.warn(\"Invalid topology for a HI transition, aborting\")\n",
      "/home/guillaume/miniconda3/envs/py37/lib/python3.7/site-packages/tyssue-0.3.3rc1-py3.7-linux-x86_64.egg/tyssue/topology/bulk_topology.py:416: UserWarning: Invalid topology for a HI transition, aborting\n",
      "  warnings.warn(\"Invalid topology for a HI transition, aborting\")\n",
      "/home/guillaume/miniconda3/envs/py37/lib/python3.7/site-packages/tyssue-0.3.3rc1-py3.7-linux-x86_64.egg/tyssue/topology/bulk_topology.py:416: UserWarning: Invalid topology for a HI transition, aborting\n",
      "  warnings.warn(\"Invalid topology for a HI transition, aborting\")\n",
      "/home/guillaume/miniconda3/envs/py37/lib/python3.7/site-packages/tyssue-0.3.3rc1-py3.7-linux-x86_64.egg/tyssue/topology/bulk_topology.py:416: UserWarning: Invalid topology for a HI transition, aborting\n",
      "  warnings.warn(\"Invalid topology for a HI transition, aborting\")\n",
      "/home/guillaume/miniconda3/envs/py37/lib/python3.7/site-packages/tyssue-0.3.3rc1-py3.7-linux-x86_64.egg/tyssue/topology/bulk_topology.py:416: UserWarning: Invalid topology for a HI transition, aborting\n",
      "  warnings.warn(\"Invalid topology for a HI transition, aborting\")\n",
      "/home/guillaume/miniconda3/envs/py37/lib/python3.7/site-packages/tyssue-0.3.3rc1-py3.7-linux-x86_64.egg/tyssue/topology/bulk_topology.py:416: UserWarning: Invalid topology for a HI transition, aborting\n",
      "  warnings.warn(\"Invalid topology for a HI transition, aborting\")\n",
      "/home/guillaume/miniconda3/envs/py37/lib/python3.7/site-packages/tyssue-0.3.3rc1-py3.7-linux-x86_64.egg/tyssue/topology/bulk_topology.py:416: UserWarning: Invalid topology for a HI transition, aborting\n",
      "  warnings.warn(\"Invalid topology for a HI transition, aborting\")\n",
      "/home/guillaume/miniconda3/envs/py37/lib/python3.7/site-packages/tyssue-0.3.3rc1-py3.7-linux-x86_64.egg/tyssue/topology/bulk_topology.py:416: UserWarning: Invalid topology for a HI transition, aborting\n",
      "  warnings.warn(\"Invalid topology for a HI transition, aborting\")\n",
      "/home/guillaume/miniconda3/envs/py37/lib/python3.7/site-packages/tyssue-0.3.3rc1-py3.7-linux-x86_64.egg/tyssue/topology/bulk_topology.py:416: UserWarning: Invalid topology for a HI transition, aborting\n",
      "  warnings.warn(\"Invalid topology for a HI transition, aborting\")\n",
      "Edge 354 has adjacent triangular faces can't perform IH transition, aborting\n"
     ]
    },
    {
     "name": "stdout",
     "output_type": "stream",
     "text": [
      "out T3 changed buffer\n",
      "T3\n"
     ]
    },
    {
     "name": "stderr",
     "output_type": "stream",
     "text": [
      "Edge 354 has adjacent triangular faces can't perform IH transition, aborting\n",
      "Edge 355 is not a valid junction to perform IH transition, aborting\n",
      "Edge 353 has adjacent triangular faces can't perform IH transition, aborting\n",
      "Edge 354 has adjacent triangular faces can't perform IH transition, aborting\n",
      "Edge 355 is not a valid junction to perform IH transition, aborting\n",
      "Edge 354 has adjacent triangular faces can't perform IH transition, aborting\n",
      "Edge 355 is not a valid junction to perform IH transition, aborting\n",
      "Edge 353 has adjacent triangular faces can't perform IH transition, aborting\n",
      "Edge 355 is not a valid junction to perform IH transition, aborting\n",
      "Edge 354 has adjacent triangular faces can't perform IH transition, aborting\n",
      "/home/guillaume/miniconda3/envs/py37/lib/python3.7/site-packages/tyssue-0.3.3rc1-py3.7-linux-x86_64.egg/tyssue/topology/bulk_topology.py:416: UserWarning: Invalid topology for a HI transition, aborting\n",
      "  warnings.warn(\"Invalid topology for a HI transition, aborting\")\n"
     ]
    },
    {
     "name": "stdout",
     "output_type": "stream",
     "text": [
      "out T1 changed buffer\n",
      "T1\n"
     ]
    },
    {
     "name": "stderr",
     "output_type": "stream",
     "text": [
      "/home/guillaume/miniconda3/envs/py37/lib/python3.7/site-packages/tyssue-0.3.3rc1-py3.7-linux-x86_64.egg/tyssue/topology/bulk_topology.py:416: UserWarning: Invalid topology for a HI transition, aborting\n",
      "  warnings.warn(\"Invalid topology for a HI transition, aborting\")\n",
      "/home/guillaume/miniconda3/envs/py37/lib/python3.7/site-packages/tyssue-0.3.3rc1-py3.7-linux-x86_64.egg/tyssue/topology/bulk_topology.py:416: UserWarning: Invalid topology for a HI transition, aborting\n",
      "  warnings.warn(\"Invalid topology for a HI transition, aborting\")\n",
      "/home/guillaume/miniconda3/envs/py37/lib/python3.7/site-packages/tyssue-0.3.3rc1-py3.7-linux-x86_64.egg/tyssue/topology/bulk_topology.py:416: UserWarning: Invalid topology for a HI transition, aborting\n",
      "  warnings.warn(\"Invalid topology for a HI transition, aborting\")\n",
      "/home/guillaume/miniconda3/envs/py37/lib/python3.7/site-packages/tyssue-0.3.3rc1-py3.7-linux-x86_64.egg/tyssue/topology/bulk_topology.py:416: UserWarning: Invalid topology for a HI transition, aborting\n",
      "  warnings.warn(\"Invalid topology for a HI transition, aborting\")\n",
      "/home/guillaume/miniconda3/envs/py37/lib/python3.7/site-packages/tyssue-0.3.3rc1-py3.7-linux-x86_64.egg/tyssue/topology/bulk_topology.py:416: UserWarning: Invalid topology for a HI transition, aborting\n",
      "  warnings.warn(\"Invalid topology for a HI transition, aborting\")\n",
      "/home/guillaume/miniconda3/envs/py37/lib/python3.7/site-packages/tyssue-0.3.3rc1-py3.7-linux-x86_64.egg/tyssue/topology/bulk_topology.py:416: UserWarning: Invalid topology for a HI transition, aborting\n",
      "  warnings.warn(\"Invalid topology for a HI transition, aborting\")\n",
      "/home/guillaume/miniconda3/envs/py37/lib/python3.7/site-packages/tyssue-0.3.3rc1-py3.7-linux-x86_64.egg/tyssue/topology/bulk_topology.py:416: UserWarning: Invalid topology for a HI transition, aborting\n",
      "  warnings.warn(\"Invalid topology for a HI transition, aborting\")\n",
      "/home/guillaume/miniconda3/envs/py37/lib/python3.7/site-packages/tyssue-0.3.3rc1-py3.7-linux-x86_64.egg/tyssue/topology/bulk_topology.py:416: UserWarning: Invalid topology for a HI transition, aborting\n",
      "  warnings.warn(\"Invalid topology for a HI transition, aborting\")\n",
      "/home/guillaume/miniconda3/envs/py37/lib/python3.7/site-packages/tyssue-0.3.3rc1-py3.7-linux-x86_64.egg/tyssue/topology/bulk_topology.py:416: UserWarning: Invalid topology for a HI transition, aborting\n",
      "  warnings.warn(\"Invalid topology for a HI transition, aborting\")\n",
      "/home/guillaume/miniconda3/envs/py37/lib/python3.7/site-packages/tyssue-0.3.3rc1-py3.7-linux-x86_64.egg/tyssue/topology/bulk_topology.py:416: UserWarning: Invalid topology for a HI transition, aborting\n",
      "  warnings.warn(\"Invalid topology for a HI transition, aborting\")\n",
      "Edge 355 is not a valid junction to perform IH transition, aborting\n"
     ]
    },
    {
     "name": "stdout",
     "output_type": "stream",
     "text": [
      "out T3 changed buffer\n",
      "T3\n"
     ]
    },
    {
     "name": "stderr",
     "output_type": "stream",
     "text": [
      "Edge 353 has adjacent triangular faces can't perform IH transition, aborting\n",
      "Edge 355 is not a valid junction to perform IH transition, aborting\n",
      "Edge 353 has adjacent triangular faces can't perform IH transition, aborting\n",
      "Edge 354 has adjacent triangular faces can't perform IH transition, aborting\n",
      "Edge 355 is not a valid junction to perform IH transition, aborting\n",
      "Edge 353 has adjacent triangular faces can't perform IH transition, aborting\n",
      "Edge 355 is not a valid junction to perform IH transition, aborting\n",
      "Edge 353 has adjacent triangular faces can't perform IH transition, aborting\n",
      "Edge 355 is not a valid junction to perform IH transition, aborting\n",
      "Edge 354 has adjacent triangular faces can't perform IH transition, aborting\n",
      "/home/guillaume/miniconda3/envs/py37/lib/python3.7/site-packages/tyssue-0.3.3rc1-py3.7-linux-x86_64.egg/tyssue/topology/bulk_topology.py:416: UserWarning: Invalid topology for a HI transition, aborting\n",
      "  warnings.warn(\"Invalid topology for a HI transition, aborting\")\n"
     ]
    },
    {
     "name": "stdout",
     "output_type": "stream",
     "text": [
      "out T1 changed buffer\n",
      "T1\n"
     ]
    },
    {
     "name": "stderr",
     "output_type": "stream",
     "text": [
      "/home/guillaume/miniconda3/envs/py37/lib/python3.7/site-packages/tyssue-0.3.3rc1-py3.7-linux-x86_64.egg/tyssue/topology/bulk_topology.py:416: UserWarning: Invalid topology for a HI transition, aborting\n",
      "  warnings.warn(\"Invalid topology for a HI transition, aborting\")\n",
      "/home/guillaume/miniconda3/envs/py37/lib/python3.7/site-packages/tyssue-0.3.3rc1-py3.7-linux-x86_64.egg/tyssue/topology/bulk_topology.py:416: UserWarning: Invalid topology for a HI transition, aborting\n",
      "  warnings.warn(\"Invalid topology for a HI transition, aborting\")\n",
      "/home/guillaume/miniconda3/envs/py37/lib/python3.7/site-packages/tyssue-0.3.3rc1-py3.7-linux-x86_64.egg/tyssue/topology/bulk_topology.py:416: UserWarning: Invalid topology for a HI transition, aborting\n",
      "  warnings.warn(\"Invalid topology for a HI transition, aborting\")\n",
      "/home/guillaume/miniconda3/envs/py37/lib/python3.7/site-packages/tyssue-0.3.3rc1-py3.7-linux-x86_64.egg/tyssue/topology/bulk_topology.py:416: UserWarning: Invalid topology for a HI transition, aborting\n",
      "  warnings.warn(\"Invalid topology for a HI transition, aborting\")\n",
      "/home/guillaume/miniconda3/envs/py37/lib/python3.7/site-packages/tyssue-0.3.3rc1-py3.7-linux-x86_64.egg/tyssue/topology/bulk_topology.py:416: UserWarning: Invalid topology for a HI transition, aborting\n",
      "  warnings.warn(\"Invalid topology for a HI transition, aborting\")\n",
      "/home/guillaume/miniconda3/envs/py37/lib/python3.7/site-packages/tyssue-0.3.3rc1-py3.7-linux-x86_64.egg/tyssue/topology/bulk_topology.py:416: UserWarning: Invalid topology for a HI transition, aborting\n",
      "  warnings.warn(\"Invalid topology for a HI transition, aborting\")\n",
      "/home/guillaume/miniconda3/envs/py37/lib/python3.7/site-packages/tyssue-0.3.3rc1-py3.7-linux-x86_64.egg/tyssue/topology/bulk_topology.py:416: UserWarning: Invalid topology for a HI transition, aborting\n",
      "  warnings.warn(\"Invalid topology for a HI transition, aborting\")\n",
      "/home/guillaume/miniconda3/envs/py37/lib/python3.7/site-packages/tyssue-0.3.3rc1-py3.7-linux-x86_64.egg/tyssue/topology/bulk_topology.py:416: UserWarning: Invalid topology for a HI transition, aborting\n",
      "  warnings.warn(\"Invalid topology for a HI transition, aborting\")\n",
      "/home/guillaume/miniconda3/envs/py37/lib/python3.7/site-packages/tyssue-0.3.3rc1-py3.7-linux-x86_64.egg/tyssue/topology/bulk_topology.py:416: UserWarning: Invalid topology for a HI transition, aborting\n",
      "  warnings.warn(\"Invalid topology for a HI transition, aborting\")\n",
      "/home/guillaume/miniconda3/envs/py37/lib/python3.7/site-packages/tyssue-0.3.3rc1-py3.7-linux-x86_64.egg/tyssue/topology/bulk_topology.py:416: UserWarning: Invalid topology for a HI transition, aborting\n",
      "  warnings.warn(\"Invalid topology for a HI transition, aborting\")\n",
      "Edge 354 has adjacent triangular faces can't perform IH transition, aborting\n"
     ]
    },
    {
     "name": "stdout",
     "output_type": "stream",
     "text": [
      "out T3 changed buffer\n",
      "T3\n"
     ]
    },
    {
     "name": "stderr",
     "output_type": "stream",
     "text": [
      "Edge 355 is not a valid junction to perform IH transition, aborting\n",
      "Edge 354 has adjacent triangular faces can't perform IH transition, aborting\n",
      "Edge 354 has adjacent triangular faces can't perform IH transition, aborting\n",
      "Edge 355 is not a valid junction to perform IH transition, aborting\n",
      "Edge 353 has adjacent triangular faces can't perform IH transition, aborting\n",
      "Edge 354 has adjacent triangular faces can't perform IH transition, aborting\n",
      "Edge 355 is not a valid junction to perform IH transition, aborting\n",
      "Edge 353 has adjacent triangular faces can't perform IH transition, aborting\n",
      "Edge 354 has adjacent triangular faces can't perform IH transition, aborting\n",
      "Edge 354 has adjacent triangular faces can't perform IH transition, aborting\n",
      "/home/guillaume/miniconda3/envs/py37/lib/python3.7/site-packages/tyssue-0.3.3rc1-py3.7-linux-x86_64.egg/tyssue/topology/bulk_topology.py:416: UserWarning: Invalid topology for a HI transition, aborting\n",
      "  warnings.warn(\"Invalid topology for a HI transition, aborting\")\n"
     ]
    },
    {
     "name": "stdout",
     "output_type": "stream",
     "text": [
      "out T1 changed buffer\n",
      "T1\n"
     ]
    },
    {
     "name": "stderr",
     "output_type": "stream",
     "text": [
      "/home/guillaume/miniconda3/envs/py37/lib/python3.7/site-packages/tyssue-0.3.3rc1-py3.7-linux-x86_64.egg/tyssue/topology/bulk_topology.py:416: UserWarning: Invalid topology for a HI transition, aborting\n",
      "  warnings.warn(\"Invalid topology for a HI transition, aborting\")\n",
      "/home/guillaume/miniconda3/envs/py37/lib/python3.7/site-packages/tyssue-0.3.3rc1-py3.7-linux-x86_64.egg/tyssue/topology/bulk_topology.py:416: UserWarning: Invalid topology for a HI transition, aborting\n",
      "  warnings.warn(\"Invalid topology for a HI transition, aborting\")\n",
      "/home/guillaume/miniconda3/envs/py37/lib/python3.7/site-packages/tyssue-0.3.3rc1-py3.7-linux-x86_64.egg/tyssue/topology/bulk_topology.py:416: UserWarning: Invalid topology for a HI transition, aborting\n",
      "  warnings.warn(\"Invalid topology for a HI transition, aborting\")\n",
      "/home/guillaume/miniconda3/envs/py37/lib/python3.7/site-packages/tyssue-0.3.3rc1-py3.7-linux-x86_64.egg/tyssue/topology/bulk_topology.py:416: UserWarning: Invalid topology for a HI transition, aborting\n",
      "  warnings.warn(\"Invalid topology for a HI transition, aborting\")\n",
      "/home/guillaume/miniconda3/envs/py37/lib/python3.7/site-packages/tyssue-0.3.3rc1-py3.7-linux-x86_64.egg/tyssue/topology/bulk_topology.py:416: UserWarning: Invalid topology for a HI transition, aborting\n",
      "  warnings.warn(\"Invalid topology for a HI transition, aborting\")\n",
      "/home/guillaume/miniconda3/envs/py37/lib/python3.7/site-packages/tyssue-0.3.3rc1-py3.7-linux-x86_64.egg/tyssue/topology/bulk_topology.py:416: UserWarning: Invalid topology for a HI transition, aborting\n",
      "  warnings.warn(\"Invalid topology for a HI transition, aborting\")\n",
      "/home/guillaume/miniconda3/envs/py37/lib/python3.7/site-packages/tyssue-0.3.3rc1-py3.7-linux-x86_64.egg/tyssue/topology/bulk_topology.py:416: UserWarning: Invalid topology for a HI transition, aborting\n",
      "  warnings.warn(\"Invalid topology for a HI transition, aborting\")\n",
      "/home/guillaume/miniconda3/envs/py37/lib/python3.7/site-packages/tyssue-0.3.3rc1-py3.7-linux-x86_64.egg/tyssue/topology/bulk_topology.py:416: UserWarning: Invalid topology for a HI transition, aborting\n",
      "  warnings.warn(\"Invalid topology for a HI transition, aborting\")\n",
      "/home/guillaume/miniconda3/envs/py37/lib/python3.7/site-packages/tyssue-0.3.3rc1-py3.7-linux-x86_64.egg/tyssue/topology/bulk_topology.py:416: UserWarning: Invalid topology for a HI transition, aborting\n",
      "  warnings.warn(\"Invalid topology for a HI transition, aborting\")\n",
      "/home/guillaume/miniconda3/envs/py37/lib/python3.7/site-packages/tyssue-0.3.3rc1-py3.7-linux-x86_64.egg/tyssue/topology/bulk_topology.py:416: UserWarning: Invalid topology for a HI transition, aborting\n",
      "  warnings.warn(\"Invalid topology for a HI transition, aborting\")\n",
      "Edge 355 is not a valid junction to perform IH transition, aborting\n"
     ]
    },
    {
     "name": "stdout",
     "output_type": "stream",
     "text": [
      "out T3 changed buffer\n",
      "T3\n"
     ]
    },
    {
     "name": "stderr",
     "output_type": "stream",
     "text": [
      "Edge 353 has adjacent triangular faces can't perform IH transition, aborting\n",
      "Edge 354 has adjacent triangular faces can't perform IH transition, aborting\n",
      "Edge 354 has adjacent triangular faces can't perform IH transition, aborting\n",
      "Edge 354 has adjacent triangular faces can't perform IH transition, aborting\n",
      "Edge 354 has adjacent triangular faces can't perform IH transition, aborting\n",
      "Edge 353 has adjacent triangular faces can't perform IH transition, aborting\n",
      "Edge 353 has adjacent triangular faces can't perform IH transition, aborting\n",
      "Edge 353 has adjacent triangular faces can't perform IH transition, aborting\n",
      "Edge 355 is not a valid junction to perform IH transition, aborting\n",
      "Edge 354 has adjacent triangular faces can't perform IH transition, aborting\n",
      "/home/guillaume/miniconda3/envs/py37/lib/python3.7/site-packages/tyssue-0.3.3rc1-py3.7-linux-x86_64.egg/tyssue/topology/bulk_topology.py:416: UserWarning: Invalid topology for a HI transition, aborting\n",
      "  warnings.warn(\"Invalid topology for a HI transition, aborting\")\n"
     ]
    },
    {
     "name": "stdout",
     "output_type": "stream",
     "text": [
      "out T1 changed buffer\n",
      "T1\n"
     ]
    },
    {
     "name": "stderr",
     "output_type": "stream",
     "text": [
      "/home/guillaume/miniconda3/envs/py37/lib/python3.7/site-packages/tyssue-0.3.3rc1-py3.7-linux-x86_64.egg/tyssue/topology/bulk_topology.py:416: UserWarning: Invalid topology for a HI transition, aborting\n",
      "  warnings.warn(\"Invalid topology for a HI transition, aborting\")\n",
      "/home/guillaume/miniconda3/envs/py37/lib/python3.7/site-packages/tyssue-0.3.3rc1-py3.7-linux-x86_64.egg/tyssue/topology/bulk_topology.py:416: UserWarning: Invalid topology for a HI transition, aborting\n",
      "  warnings.warn(\"Invalid topology for a HI transition, aborting\")\n",
      "/home/guillaume/miniconda3/envs/py37/lib/python3.7/site-packages/tyssue-0.3.3rc1-py3.7-linux-x86_64.egg/tyssue/topology/bulk_topology.py:416: UserWarning: Invalid topology for a HI transition, aborting\n",
      "  warnings.warn(\"Invalid topology for a HI transition, aborting\")\n",
      "/home/guillaume/miniconda3/envs/py37/lib/python3.7/site-packages/tyssue-0.3.3rc1-py3.7-linux-x86_64.egg/tyssue/topology/bulk_topology.py:416: UserWarning: Invalid topology for a HI transition, aborting\n",
      "  warnings.warn(\"Invalid topology for a HI transition, aborting\")\n",
      "/home/guillaume/miniconda3/envs/py37/lib/python3.7/site-packages/tyssue-0.3.3rc1-py3.7-linux-x86_64.egg/tyssue/topology/bulk_topology.py:416: UserWarning: Invalid topology for a HI transition, aborting\n",
      "  warnings.warn(\"Invalid topology for a HI transition, aborting\")\n",
      "/home/guillaume/miniconda3/envs/py37/lib/python3.7/site-packages/tyssue-0.3.3rc1-py3.7-linux-x86_64.egg/tyssue/topology/bulk_topology.py:416: UserWarning: Invalid topology for a HI transition, aborting\n",
      "  warnings.warn(\"Invalid topology for a HI transition, aborting\")\n",
      "/home/guillaume/miniconda3/envs/py37/lib/python3.7/site-packages/tyssue-0.3.3rc1-py3.7-linux-x86_64.egg/tyssue/topology/bulk_topology.py:416: UserWarning: Invalid topology for a HI transition, aborting\n",
      "  warnings.warn(\"Invalid topology for a HI transition, aborting\")\n",
      "/home/guillaume/miniconda3/envs/py37/lib/python3.7/site-packages/tyssue-0.3.3rc1-py3.7-linux-x86_64.egg/tyssue/topology/bulk_topology.py:416: UserWarning: Invalid topology for a HI transition, aborting\n",
      "  warnings.warn(\"Invalid topology for a HI transition, aborting\")\n",
      "/home/guillaume/miniconda3/envs/py37/lib/python3.7/site-packages/tyssue-0.3.3rc1-py3.7-linux-x86_64.egg/tyssue/topology/bulk_topology.py:416: UserWarning: Invalid topology for a HI transition, aborting\n",
      "  warnings.warn(\"Invalid topology for a HI transition, aborting\")\n",
      "/home/guillaume/miniconda3/envs/py37/lib/python3.7/site-packages/tyssue-0.3.3rc1-py3.7-linux-x86_64.egg/tyssue/topology/bulk_topology.py:416: UserWarning: Invalid topology for a HI transition, aborting\n",
      "  warnings.warn(\"Invalid topology for a HI transition, aborting\")\n",
      "Edge 355 is not a valid junction to perform IH transition, aborting\n"
     ]
    },
    {
     "name": "stdout",
     "output_type": "stream",
     "text": [
      "out T3 changed buffer\n",
      "T3\n"
     ]
    },
    {
     "name": "stderr",
     "output_type": "stream",
     "text": [
      "Edge 354 has adjacent triangular faces can't perform IH transition, aborting\n",
      "Edge 355 is not a valid junction to perform IH transition, aborting\n",
      "Edge 354 has adjacent triangular faces can't perform IH transition, aborting\n",
      "Edge 355 is not a valid junction to perform IH transition, aborting\n",
      "Edge 353 has adjacent triangular faces can't perform IH transition, aborting\n",
      "Edge 355 is not a valid junction to perform IH transition, aborting\n",
      "Edge 353 has adjacent triangular faces can't perform IH transition, aborting\n",
      "Edge 353 has adjacent triangular faces can't perform IH transition, aborting\n",
      "Edge 354 has adjacent triangular faces can't perform IH transition, aborting\n",
      "Edge 355 is not a valid junction to perform IH transition, aborting\n",
      "/home/guillaume/miniconda3/envs/py37/lib/python3.7/site-packages/tyssue-0.3.3rc1-py3.7-linux-x86_64.egg/tyssue/topology/bulk_topology.py:416: UserWarning: Invalid topology for a HI transition, aborting\n",
      "  warnings.warn(\"Invalid topology for a HI transition, aborting\")\n"
     ]
    },
    {
     "name": "stdout",
     "output_type": "stream",
     "text": [
      "out T1 changed buffer\n",
      "T1\n"
     ]
    },
    {
     "name": "stderr",
     "output_type": "stream",
     "text": [
      "/home/guillaume/miniconda3/envs/py37/lib/python3.7/site-packages/tyssue-0.3.3rc1-py3.7-linux-x86_64.egg/tyssue/topology/bulk_topology.py:416: UserWarning: Invalid topology for a HI transition, aborting\n",
      "  warnings.warn(\"Invalid topology for a HI transition, aborting\")\n",
      "/home/guillaume/miniconda3/envs/py37/lib/python3.7/site-packages/tyssue-0.3.3rc1-py3.7-linux-x86_64.egg/tyssue/topology/bulk_topology.py:416: UserWarning: Invalid topology for a HI transition, aborting\n",
      "  warnings.warn(\"Invalid topology for a HI transition, aborting\")\n",
      "/home/guillaume/miniconda3/envs/py37/lib/python3.7/site-packages/tyssue-0.3.3rc1-py3.7-linux-x86_64.egg/tyssue/topology/bulk_topology.py:416: UserWarning: Invalid topology for a HI transition, aborting\n",
      "  warnings.warn(\"Invalid topology for a HI transition, aborting\")\n",
      "/home/guillaume/miniconda3/envs/py37/lib/python3.7/site-packages/tyssue-0.3.3rc1-py3.7-linux-x86_64.egg/tyssue/topology/bulk_topology.py:416: UserWarning: Invalid topology for a HI transition, aborting\n",
      "  warnings.warn(\"Invalid topology for a HI transition, aborting\")\n",
      "/home/guillaume/miniconda3/envs/py37/lib/python3.7/site-packages/tyssue-0.3.3rc1-py3.7-linux-x86_64.egg/tyssue/topology/bulk_topology.py:416: UserWarning: Invalid topology for a HI transition, aborting\n",
      "  warnings.warn(\"Invalid topology for a HI transition, aborting\")\n",
      "/home/guillaume/miniconda3/envs/py37/lib/python3.7/site-packages/tyssue-0.3.3rc1-py3.7-linux-x86_64.egg/tyssue/topology/bulk_topology.py:416: UserWarning: Invalid topology for a HI transition, aborting\n",
      "  warnings.warn(\"Invalid topology for a HI transition, aborting\")\n",
      "/home/guillaume/miniconda3/envs/py37/lib/python3.7/site-packages/tyssue-0.3.3rc1-py3.7-linux-x86_64.egg/tyssue/topology/bulk_topology.py:416: UserWarning: Invalid topology for a HI transition, aborting\n",
      "  warnings.warn(\"Invalid topology for a HI transition, aborting\")\n",
      "/home/guillaume/miniconda3/envs/py37/lib/python3.7/site-packages/tyssue-0.3.3rc1-py3.7-linux-x86_64.egg/tyssue/topology/bulk_topology.py:416: UserWarning: Invalid topology for a HI transition, aborting\n",
      "  warnings.warn(\"Invalid topology for a HI transition, aborting\")\n",
      "/home/guillaume/miniconda3/envs/py37/lib/python3.7/site-packages/tyssue-0.3.3rc1-py3.7-linux-x86_64.egg/tyssue/topology/bulk_topology.py:416: UserWarning: Invalid topology for a HI transition, aborting\n",
      "  warnings.warn(\"Invalid topology for a HI transition, aborting\")\n",
      "/home/guillaume/miniconda3/envs/py37/lib/python3.7/site-packages/tyssue-0.3.3rc1-py3.7-linux-x86_64.egg/tyssue/topology/bulk_topology.py:416: UserWarning: Invalid topology for a HI transition, aborting\n",
      "  warnings.warn(\"Invalid topology for a HI transition, aborting\")\n",
      "Edge 354 has adjacent triangular faces can't perform IH transition, aborting\n"
     ]
    },
    {
     "name": "stdout",
     "output_type": "stream",
     "text": [
      "out T3 changed buffer\n",
      "T3\n"
     ]
    },
    {
     "name": "stderr",
     "output_type": "stream",
     "text": [
      "Edge 353 has adjacent triangular faces can't perform IH transition, aborting\n",
      "Edge 355 is not a valid junction to perform IH transition, aborting\n",
      "Edge 354 has adjacent triangular faces can't perform IH transition, aborting\n",
      "Edge 353 has adjacent triangular faces can't perform IH transition, aborting\n",
      "Edge 353 has adjacent triangular faces can't perform IH transition, aborting\n",
      "Edge 354 has adjacent triangular faces can't perform IH transition, aborting\n",
      "Edge 353 has adjacent triangular faces can't perform IH transition, aborting\n",
      "Edge 353 has adjacent triangular faces can't perform IH transition, aborting\n",
      "Edge 353 has adjacent triangular faces can't perform IH transition, aborting\n",
      "Edge 353 has adjacent triangular faces can't perform IH transition, aborting\n",
      "/home/guillaume/miniconda3/envs/py37/lib/python3.7/site-packages/tyssue-0.3.3rc1-py3.7-linux-x86_64.egg/tyssue/topology/bulk_topology.py:416: UserWarning: Invalid topology for a HI transition, aborting\n",
      "  warnings.warn(\"Invalid topology for a HI transition, aborting\")\n"
     ]
    },
    {
     "name": "stdout",
     "output_type": "stream",
     "text": [
      "out T1 changed buffer\n",
      "T1\n"
     ]
    },
    {
     "name": "stderr",
     "output_type": "stream",
     "text": [
      "/home/guillaume/miniconda3/envs/py37/lib/python3.7/site-packages/tyssue-0.3.3rc1-py3.7-linux-x86_64.egg/tyssue/topology/bulk_topology.py:416: UserWarning: Invalid topology for a HI transition, aborting\n",
      "  warnings.warn(\"Invalid topology for a HI transition, aborting\")\n",
      "/home/guillaume/miniconda3/envs/py37/lib/python3.7/site-packages/tyssue-0.3.3rc1-py3.7-linux-x86_64.egg/tyssue/topology/bulk_topology.py:416: UserWarning: Invalid topology for a HI transition, aborting\n",
      "  warnings.warn(\"Invalid topology for a HI transition, aborting\")\n",
      "/home/guillaume/miniconda3/envs/py37/lib/python3.7/site-packages/tyssue-0.3.3rc1-py3.7-linux-x86_64.egg/tyssue/topology/bulk_topology.py:416: UserWarning: Invalid topology for a HI transition, aborting\n",
      "  warnings.warn(\"Invalid topology for a HI transition, aborting\")\n",
      "/home/guillaume/miniconda3/envs/py37/lib/python3.7/site-packages/tyssue-0.3.3rc1-py3.7-linux-x86_64.egg/tyssue/topology/bulk_topology.py:416: UserWarning: Invalid topology for a HI transition, aborting\n",
      "  warnings.warn(\"Invalid topology for a HI transition, aborting\")\n",
      "/home/guillaume/miniconda3/envs/py37/lib/python3.7/site-packages/tyssue-0.3.3rc1-py3.7-linux-x86_64.egg/tyssue/topology/bulk_topology.py:416: UserWarning: Invalid topology for a HI transition, aborting\n",
      "  warnings.warn(\"Invalid topology for a HI transition, aborting\")\n",
      "/home/guillaume/miniconda3/envs/py37/lib/python3.7/site-packages/tyssue-0.3.3rc1-py3.7-linux-x86_64.egg/tyssue/topology/bulk_topology.py:416: UserWarning: Invalid topology for a HI transition, aborting\n",
      "  warnings.warn(\"Invalid topology for a HI transition, aborting\")\n",
      "/home/guillaume/miniconda3/envs/py37/lib/python3.7/site-packages/tyssue-0.3.3rc1-py3.7-linux-x86_64.egg/tyssue/topology/bulk_topology.py:416: UserWarning: Invalid topology for a HI transition, aborting\n",
      "  warnings.warn(\"Invalid topology for a HI transition, aborting\")\n",
      "/home/guillaume/miniconda3/envs/py37/lib/python3.7/site-packages/tyssue-0.3.3rc1-py3.7-linux-x86_64.egg/tyssue/topology/bulk_topology.py:416: UserWarning: Invalid topology for a HI transition, aborting\n",
      "  warnings.warn(\"Invalid topology for a HI transition, aborting\")\n",
      "/home/guillaume/miniconda3/envs/py37/lib/python3.7/site-packages/tyssue-0.3.3rc1-py3.7-linux-x86_64.egg/tyssue/topology/bulk_topology.py:416: UserWarning: Invalid topology for a HI transition, aborting\n",
      "  warnings.warn(\"Invalid topology for a HI transition, aborting\")\n",
      "/home/guillaume/miniconda3/envs/py37/lib/python3.7/site-packages/tyssue-0.3.3rc1-py3.7-linux-x86_64.egg/tyssue/topology/bulk_topology.py:416: UserWarning: Invalid topology for a HI transition, aborting\n",
      "  warnings.warn(\"Invalid topology for a HI transition, aborting\")\n",
      "Edge 353 has adjacent triangular faces can't perform IH transition, aborting\n"
     ]
    },
    {
     "name": "stdout",
     "output_type": "stream",
     "text": [
      "out T3 changed buffer\n",
      "T3\n"
     ]
    },
    {
     "name": "stderr",
     "output_type": "stream",
     "text": [
      "Edge 355 is not a valid junction to perform IH transition, aborting\n",
      "Edge 354 has adjacent triangular faces can't perform IH transition, aborting\n",
      "Edge 354 has adjacent triangular faces can't perform IH transition, aborting\n",
      "Edge 354 has adjacent triangular faces can't perform IH transition, aborting\n",
      "Edge 354 has adjacent triangular faces can't perform IH transition, aborting\n",
      "Edge 354 has adjacent triangular faces can't perform IH transition, aborting\n",
      "Edge 354 has adjacent triangular faces can't perform IH transition, aborting\n",
      "Edge 354 has adjacent triangular faces can't perform IH transition, aborting\n",
      "Edge 353 has adjacent triangular faces can't perform IH transition, aborting\n",
      "Edge 355 is not a valid junction to perform IH transition, aborting\n",
      "/home/guillaume/miniconda3/envs/py37/lib/python3.7/site-packages/tyssue-0.3.3rc1-py3.7-linux-x86_64.egg/tyssue/topology/bulk_topology.py:416: UserWarning: Invalid topology for a HI transition, aborting\n",
      "  warnings.warn(\"Invalid topology for a HI transition, aborting\")\n"
     ]
    },
    {
     "name": "stdout",
     "output_type": "stream",
     "text": [
      "out T1 changed buffer\n",
      "T1\n"
     ]
    },
    {
     "name": "stderr",
     "output_type": "stream",
     "text": [
      "/home/guillaume/miniconda3/envs/py37/lib/python3.7/site-packages/tyssue-0.3.3rc1-py3.7-linux-x86_64.egg/tyssue/topology/bulk_topology.py:416: UserWarning: Invalid topology for a HI transition, aborting\n",
      "  warnings.warn(\"Invalid topology for a HI transition, aborting\")\n",
      "/home/guillaume/miniconda3/envs/py37/lib/python3.7/site-packages/tyssue-0.3.3rc1-py3.7-linux-x86_64.egg/tyssue/topology/bulk_topology.py:416: UserWarning: Invalid topology for a HI transition, aborting\n",
      "  warnings.warn(\"Invalid topology for a HI transition, aborting\")\n",
      "/home/guillaume/miniconda3/envs/py37/lib/python3.7/site-packages/tyssue-0.3.3rc1-py3.7-linux-x86_64.egg/tyssue/topology/bulk_topology.py:416: UserWarning: Invalid topology for a HI transition, aborting\n",
      "  warnings.warn(\"Invalid topology for a HI transition, aborting\")\n",
      "/home/guillaume/miniconda3/envs/py37/lib/python3.7/site-packages/tyssue-0.3.3rc1-py3.7-linux-x86_64.egg/tyssue/topology/bulk_topology.py:416: UserWarning: Invalid topology for a HI transition, aborting\n",
      "  warnings.warn(\"Invalid topology for a HI transition, aborting\")\n",
      "/home/guillaume/miniconda3/envs/py37/lib/python3.7/site-packages/tyssue-0.3.3rc1-py3.7-linux-x86_64.egg/tyssue/topology/bulk_topology.py:416: UserWarning: Invalid topology for a HI transition, aborting\n",
      "  warnings.warn(\"Invalid topology for a HI transition, aborting\")\n",
      "/home/guillaume/miniconda3/envs/py37/lib/python3.7/site-packages/tyssue-0.3.3rc1-py3.7-linux-x86_64.egg/tyssue/topology/bulk_topology.py:416: UserWarning: Invalid topology for a HI transition, aborting\n",
      "  warnings.warn(\"Invalid topology for a HI transition, aborting\")\n",
      "/home/guillaume/miniconda3/envs/py37/lib/python3.7/site-packages/tyssue-0.3.3rc1-py3.7-linux-x86_64.egg/tyssue/topology/bulk_topology.py:416: UserWarning: Invalid topology for a HI transition, aborting\n",
      "  warnings.warn(\"Invalid topology for a HI transition, aborting\")\n",
      "/home/guillaume/miniconda3/envs/py37/lib/python3.7/site-packages/tyssue-0.3.3rc1-py3.7-linux-x86_64.egg/tyssue/topology/bulk_topology.py:416: UserWarning: Invalid topology for a HI transition, aborting\n",
      "  warnings.warn(\"Invalid topology for a HI transition, aborting\")\n",
      "/home/guillaume/miniconda3/envs/py37/lib/python3.7/site-packages/tyssue-0.3.3rc1-py3.7-linux-x86_64.egg/tyssue/topology/bulk_topology.py:416: UserWarning: Invalid topology for a HI transition, aborting\n",
      "  warnings.warn(\"Invalid topology for a HI transition, aborting\")\n",
      "/home/guillaume/miniconda3/envs/py37/lib/python3.7/site-packages/tyssue-0.3.3rc1-py3.7-linux-x86_64.egg/tyssue/topology/bulk_topology.py:416: UserWarning: Invalid topology for a HI transition, aborting\n",
      "  warnings.warn(\"Invalid topology for a HI transition, aborting\")\n",
      "Edge 353 has adjacent triangular faces can't perform IH transition, aborting\n"
     ]
    },
    {
     "name": "stdout",
     "output_type": "stream",
     "text": [
      "out T3 changed buffer\n",
      "T3\n"
     ]
    },
    {
     "name": "stderr",
     "output_type": "stream",
     "text": [
      "Edge 354 has adjacent triangular faces can't perform IH transition, aborting\n",
      "Edge 353 has adjacent triangular faces can't perform IH transition, aborting\n",
      "Edge 353 has adjacent triangular faces can't perform IH transition, aborting\n",
      "Edge 353 has adjacent triangular faces can't perform IH transition, aborting\n",
      "Edge 353 has adjacent triangular faces can't perform IH transition, aborting\n",
      "Edge 355 is not a valid junction to perform IH transition, aborting\n",
      "Edge 353 has adjacent triangular faces can't perform IH transition, aborting\n",
      "Edge 353 has adjacent triangular faces can't perform IH transition, aborting\n",
      "Edge 353 has adjacent triangular faces can't perform IH transition, aborting\n",
      "Edge 354 has adjacent triangular faces can't perform IH transition, aborting\n",
      "/home/guillaume/miniconda3/envs/py37/lib/python3.7/site-packages/tyssue-0.3.3rc1-py3.7-linux-x86_64.egg/tyssue/topology/bulk_topology.py:416: UserWarning: Invalid topology for a HI transition, aborting\n",
      "  warnings.warn(\"Invalid topology for a HI transition, aborting\")\n"
     ]
    },
    {
     "name": "stdout",
     "output_type": "stream",
     "text": [
      "out T1 changed buffer\n",
      "T1\n"
     ]
    },
    {
     "name": "stderr",
     "output_type": "stream",
     "text": [
      "/home/guillaume/miniconda3/envs/py37/lib/python3.7/site-packages/tyssue-0.3.3rc1-py3.7-linux-x86_64.egg/tyssue/topology/bulk_topology.py:416: UserWarning: Invalid topology for a HI transition, aborting\n",
      "  warnings.warn(\"Invalid topology for a HI transition, aborting\")\n",
      "/home/guillaume/miniconda3/envs/py37/lib/python3.7/site-packages/tyssue-0.3.3rc1-py3.7-linux-x86_64.egg/tyssue/topology/bulk_topology.py:416: UserWarning: Invalid topology for a HI transition, aborting\n",
      "  warnings.warn(\"Invalid topology for a HI transition, aborting\")\n",
      "/home/guillaume/miniconda3/envs/py37/lib/python3.7/site-packages/tyssue-0.3.3rc1-py3.7-linux-x86_64.egg/tyssue/topology/bulk_topology.py:416: UserWarning: Invalid topology for a HI transition, aborting\n",
      "  warnings.warn(\"Invalid topology for a HI transition, aborting\")\n",
      "/home/guillaume/miniconda3/envs/py37/lib/python3.7/site-packages/tyssue-0.3.3rc1-py3.7-linux-x86_64.egg/tyssue/topology/bulk_topology.py:416: UserWarning: Invalid topology for a HI transition, aborting\n",
      "  warnings.warn(\"Invalid topology for a HI transition, aborting\")\n",
      "/home/guillaume/miniconda3/envs/py37/lib/python3.7/site-packages/tyssue-0.3.3rc1-py3.7-linux-x86_64.egg/tyssue/topology/bulk_topology.py:416: UserWarning: Invalid topology for a HI transition, aborting\n",
      "  warnings.warn(\"Invalid topology for a HI transition, aborting\")\n",
      "/home/guillaume/miniconda3/envs/py37/lib/python3.7/site-packages/tyssue-0.3.3rc1-py3.7-linux-x86_64.egg/tyssue/topology/bulk_topology.py:416: UserWarning: Invalid topology for a HI transition, aborting\n",
      "  warnings.warn(\"Invalid topology for a HI transition, aborting\")\n",
      "/home/guillaume/miniconda3/envs/py37/lib/python3.7/site-packages/tyssue-0.3.3rc1-py3.7-linux-x86_64.egg/tyssue/topology/bulk_topology.py:416: UserWarning: Invalid topology for a HI transition, aborting\n",
      "  warnings.warn(\"Invalid topology for a HI transition, aborting\")\n",
      "/home/guillaume/miniconda3/envs/py37/lib/python3.7/site-packages/tyssue-0.3.3rc1-py3.7-linux-x86_64.egg/tyssue/topology/bulk_topology.py:416: UserWarning: Invalid topology for a HI transition, aborting\n",
      "  warnings.warn(\"Invalid topology for a HI transition, aborting\")\n",
      "/home/guillaume/miniconda3/envs/py37/lib/python3.7/site-packages/tyssue-0.3.3rc1-py3.7-linux-x86_64.egg/tyssue/topology/bulk_topology.py:416: UserWarning: Invalid topology for a HI transition, aborting\n",
      "  warnings.warn(\"Invalid topology for a HI transition, aborting\")\n",
      "/home/guillaume/miniconda3/envs/py37/lib/python3.7/site-packages/tyssue-0.3.3rc1-py3.7-linux-x86_64.egg/tyssue/topology/bulk_topology.py:416: UserWarning: Invalid topology for a HI transition, aborting\n",
      "  warnings.warn(\"Invalid topology for a HI transition, aborting\")\n",
      "Edge 354 has adjacent triangular faces can't perform IH transition, aborting\n"
     ]
    },
    {
     "name": "stdout",
     "output_type": "stream",
     "text": [
      "out T3 changed buffer\n",
      "T3\n"
     ]
    },
    {
     "name": "stderr",
     "output_type": "stream",
     "text": [
      "Edge 353 has adjacent triangular faces can't perform IH transition, aborting\n",
      "Edge 353 has adjacent triangular faces can't perform IH transition, aborting\n",
      "Edge 353 has adjacent triangular faces can't perform IH transition, aborting\n",
      "Edge 353 has adjacent triangular faces can't perform IH transition, aborting\n",
      "Edge 354 has adjacent triangular faces can't perform IH transition, aborting\n",
      "Edge 353 has adjacent triangular faces can't perform IH transition, aborting\n",
      "Edge 355 is not a valid junction to perform IH transition, aborting\n",
      "Edge 354 has adjacent triangular faces can't perform IH transition, aborting\n",
      "Edge 355 is not a valid junction to perform IH transition, aborting\n",
      "Edge 353 has adjacent triangular faces can't perform IH transition, aborting\n",
      "/home/guillaume/miniconda3/envs/py37/lib/python3.7/site-packages/tyssue-0.3.3rc1-py3.7-linux-x86_64.egg/tyssue/topology/bulk_topology.py:416: UserWarning: Invalid topology for a HI transition, aborting\n",
      "  warnings.warn(\"Invalid topology for a HI transition, aborting\")\n"
     ]
    },
    {
     "name": "stdout",
     "output_type": "stream",
     "text": [
      "out T1 changed buffer\n",
      "T1\n"
     ]
    },
    {
     "name": "stderr",
     "output_type": "stream",
     "text": [
      "/home/guillaume/miniconda3/envs/py37/lib/python3.7/site-packages/tyssue-0.3.3rc1-py3.7-linux-x86_64.egg/tyssue/topology/bulk_topology.py:416: UserWarning: Invalid topology for a HI transition, aborting\n",
      "  warnings.warn(\"Invalid topology for a HI transition, aborting\")\n",
      "/home/guillaume/miniconda3/envs/py37/lib/python3.7/site-packages/tyssue-0.3.3rc1-py3.7-linux-x86_64.egg/tyssue/topology/bulk_topology.py:416: UserWarning: Invalid topology for a HI transition, aborting\n",
      "  warnings.warn(\"Invalid topology for a HI transition, aborting\")\n",
      "/home/guillaume/miniconda3/envs/py37/lib/python3.7/site-packages/tyssue-0.3.3rc1-py3.7-linux-x86_64.egg/tyssue/topology/bulk_topology.py:416: UserWarning: Invalid topology for a HI transition, aborting\n",
      "  warnings.warn(\"Invalid topology for a HI transition, aborting\")\n",
      "/home/guillaume/miniconda3/envs/py37/lib/python3.7/site-packages/tyssue-0.3.3rc1-py3.7-linux-x86_64.egg/tyssue/topology/bulk_topology.py:416: UserWarning: Invalid topology for a HI transition, aborting\n",
      "  warnings.warn(\"Invalid topology for a HI transition, aborting\")\n",
      "/home/guillaume/miniconda3/envs/py37/lib/python3.7/site-packages/tyssue-0.3.3rc1-py3.7-linux-x86_64.egg/tyssue/topology/bulk_topology.py:416: UserWarning: Invalid topology for a HI transition, aborting\n",
      "  warnings.warn(\"Invalid topology for a HI transition, aborting\")\n",
      "/home/guillaume/miniconda3/envs/py37/lib/python3.7/site-packages/tyssue-0.3.3rc1-py3.7-linux-x86_64.egg/tyssue/topology/bulk_topology.py:416: UserWarning: Invalid topology for a HI transition, aborting\n",
      "  warnings.warn(\"Invalid topology for a HI transition, aborting\")\n",
      "/home/guillaume/miniconda3/envs/py37/lib/python3.7/site-packages/tyssue-0.3.3rc1-py3.7-linux-x86_64.egg/tyssue/topology/bulk_topology.py:416: UserWarning: Invalid topology for a HI transition, aborting\n",
      "  warnings.warn(\"Invalid topology for a HI transition, aborting\")\n",
      "/home/guillaume/miniconda3/envs/py37/lib/python3.7/site-packages/tyssue-0.3.3rc1-py3.7-linux-x86_64.egg/tyssue/topology/bulk_topology.py:416: UserWarning: Invalid topology for a HI transition, aborting\n",
      "  warnings.warn(\"Invalid topology for a HI transition, aborting\")\n",
      "/home/guillaume/miniconda3/envs/py37/lib/python3.7/site-packages/tyssue-0.3.3rc1-py3.7-linux-x86_64.egg/tyssue/topology/bulk_topology.py:416: UserWarning: Invalid topology for a HI transition, aborting\n",
      "  warnings.warn(\"Invalid topology for a HI transition, aborting\")\n",
      "/home/guillaume/miniconda3/envs/py37/lib/python3.7/site-packages/tyssue-0.3.3rc1-py3.7-linux-x86_64.egg/tyssue/topology/bulk_topology.py:416: UserWarning: Invalid topology for a HI transition, aborting\n",
      "  warnings.warn(\"Invalid topology for a HI transition, aborting\")\n",
      "Edge 353 has adjacent triangular faces can't perform IH transition, aborting\n"
     ]
    },
    {
     "name": "stdout",
     "output_type": "stream",
     "text": [
      "out T3 changed buffer\n",
      "T3\n"
     ]
    },
    {
     "name": "stderr",
     "output_type": "stream",
     "text": [
      "Edge 354 has adjacent triangular faces can't perform IH transition, aborting\n",
      "Edge 353 has adjacent triangular faces can't perform IH transition, aborting\n",
      "Edge 354 has adjacent triangular faces can't perform IH transition, aborting\n",
      "Edge 353 has adjacent triangular faces can't perform IH transition, aborting\n",
      "Edge 354 has adjacent triangular faces can't perform IH transition, aborting\n",
      "Edge 353 has adjacent triangular faces can't perform IH transition, aborting\n",
      "Edge 354 has adjacent triangular faces can't perform IH transition, aborting\n",
      "Edge 354 has adjacent triangular faces can't perform IH transition, aborting\n",
      "Edge 355 is not a valid junction to perform IH transition, aborting\n",
      "Edge 353 has adjacent triangular faces can't perform IH transition, aborting\n",
      "/home/guillaume/miniconda3/envs/py37/lib/python3.7/site-packages/tyssue-0.3.3rc1-py3.7-linux-x86_64.egg/tyssue/topology/bulk_topology.py:416: UserWarning: Invalid topology for a HI transition, aborting\n",
      "  warnings.warn(\"Invalid topology for a HI transition, aborting\")\n"
     ]
    },
    {
     "name": "stdout",
     "output_type": "stream",
     "text": [
      "out T1 changed buffer\n",
      "T1\n"
     ]
    },
    {
     "name": "stderr",
     "output_type": "stream",
     "text": [
      "/home/guillaume/miniconda3/envs/py37/lib/python3.7/site-packages/tyssue-0.3.3rc1-py3.7-linux-x86_64.egg/tyssue/topology/bulk_topology.py:416: UserWarning: Invalid topology for a HI transition, aborting\n",
      "  warnings.warn(\"Invalid topology for a HI transition, aborting\")\n",
      "/home/guillaume/miniconda3/envs/py37/lib/python3.7/site-packages/tyssue-0.3.3rc1-py3.7-linux-x86_64.egg/tyssue/topology/bulk_topology.py:416: UserWarning: Invalid topology for a HI transition, aborting\n",
      "  warnings.warn(\"Invalid topology for a HI transition, aborting\")\n",
      "/home/guillaume/miniconda3/envs/py37/lib/python3.7/site-packages/tyssue-0.3.3rc1-py3.7-linux-x86_64.egg/tyssue/topology/bulk_topology.py:416: UserWarning: Invalid topology for a HI transition, aborting\n",
      "  warnings.warn(\"Invalid topology for a HI transition, aborting\")\n",
      "/home/guillaume/miniconda3/envs/py37/lib/python3.7/site-packages/tyssue-0.3.3rc1-py3.7-linux-x86_64.egg/tyssue/topology/bulk_topology.py:416: UserWarning: Invalid topology for a HI transition, aborting\n",
      "  warnings.warn(\"Invalid topology for a HI transition, aborting\")\n",
      "/home/guillaume/miniconda3/envs/py37/lib/python3.7/site-packages/tyssue-0.3.3rc1-py3.7-linux-x86_64.egg/tyssue/topology/bulk_topology.py:416: UserWarning: Invalid topology for a HI transition, aborting\n",
      "  warnings.warn(\"Invalid topology for a HI transition, aborting\")\n",
      "/home/guillaume/miniconda3/envs/py37/lib/python3.7/site-packages/tyssue-0.3.3rc1-py3.7-linux-x86_64.egg/tyssue/topology/bulk_topology.py:416: UserWarning: Invalid topology for a HI transition, aborting\n",
      "  warnings.warn(\"Invalid topology for a HI transition, aborting\")\n",
      "/home/guillaume/miniconda3/envs/py37/lib/python3.7/site-packages/tyssue-0.3.3rc1-py3.7-linux-x86_64.egg/tyssue/topology/bulk_topology.py:416: UserWarning: Invalid topology for a HI transition, aborting\n",
      "  warnings.warn(\"Invalid topology for a HI transition, aborting\")\n",
      "/home/guillaume/miniconda3/envs/py37/lib/python3.7/site-packages/tyssue-0.3.3rc1-py3.7-linux-x86_64.egg/tyssue/topology/bulk_topology.py:416: UserWarning: Invalid topology for a HI transition, aborting\n",
      "  warnings.warn(\"Invalid topology for a HI transition, aborting\")\n",
      "/home/guillaume/miniconda3/envs/py37/lib/python3.7/site-packages/tyssue-0.3.3rc1-py3.7-linux-x86_64.egg/tyssue/topology/bulk_topology.py:416: UserWarning: Invalid topology for a HI transition, aborting\n",
      "  warnings.warn(\"Invalid topology for a HI transition, aborting\")\n",
      "/home/guillaume/miniconda3/envs/py37/lib/python3.7/site-packages/tyssue-0.3.3rc1-py3.7-linux-x86_64.egg/tyssue/topology/bulk_topology.py:416: UserWarning: Invalid topology for a HI transition, aborting\n",
      "  warnings.warn(\"Invalid topology for a HI transition, aborting\")\n",
      "Edge 354 has adjacent triangular faces can't perform IH transition, aborting\n"
     ]
    },
    {
     "name": "stdout",
     "output_type": "stream",
     "text": [
      "out T3 changed buffer\n",
      "T3\n"
     ]
    },
    {
     "name": "stderr",
     "output_type": "stream",
     "text": [
      "Edge 354 has adjacent triangular faces can't perform IH transition, aborting\n",
      "Edge 355 is not a valid junction to perform IH transition, aborting\n",
      "Edge 354 has adjacent triangular faces can't perform IH transition, aborting\n",
      "Edge 353 has adjacent triangular faces can't perform IH transition, aborting\n",
      "Edge 353 has adjacent triangular faces can't perform IH transition, aborting\n",
      "Edge 353 has adjacent triangular faces can't perform IH transition, aborting\n",
      "Edge 354 has adjacent triangular faces can't perform IH transition, aborting\n",
      "Edge 354 has adjacent triangular faces can't perform IH transition, aborting\n",
      "Edge 354 has adjacent triangular faces can't perform IH transition, aborting\n",
      "Edge 353 has adjacent triangular faces can't perform IH transition, aborting\n",
      "/home/guillaume/miniconda3/envs/py37/lib/python3.7/site-packages/tyssue-0.3.3rc1-py3.7-linux-x86_64.egg/tyssue/topology/bulk_topology.py:416: UserWarning: Invalid topology for a HI transition, aborting\n",
      "  warnings.warn(\"Invalid topology for a HI transition, aborting\")\n"
     ]
    },
    {
     "name": "stdout",
     "output_type": "stream",
     "text": [
      "out T1 changed buffer\n",
      "T1\n"
     ]
    },
    {
     "name": "stderr",
     "output_type": "stream",
     "text": [
      "/home/guillaume/miniconda3/envs/py37/lib/python3.7/site-packages/tyssue-0.3.3rc1-py3.7-linux-x86_64.egg/tyssue/topology/bulk_topology.py:416: UserWarning: Invalid topology for a HI transition, aborting\n",
      "  warnings.warn(\"Invalid topology for a HI transition, aborting\")\n",
      "/home/guillaume/miniconda3/envs/py37/lib/python3.7/site-packages/tyssue-0.3.3rc1-py3.7-linux-x86_64.egg/tyssue/topology/bulk_topology.py:416: UserWarning: Invalid topology for a HI transition, aborting\n",
      "  warnings.warn(\"Invalid topology for a HI transition, aborting\")\n",
      "/home/guillaume/miniconda3/envs/py37/lib/python3.7/site-packages/tyssue-0.3.3rc1-py3.7-linux-x86_64.egg/tyssue/topology/bulk_topology.py:416: UserWarning: Invalid topology for a HI transition, aborting\n",
      "  warnings.warn(\"Invalid topology for a HI transition, aborting\")\n",
      "/home/guillaume/miniconda3/envs/py37/lib/python3.7/site-packages/tyssue-0.3.3rc1-py3.7-linux-x86_64.egg/tyssue/topology/bulk_topology.py:416: UserWarning: Invalid topology for a HI transition, aborting\n",
      "  warnings.warn(\"Invalid topology for a HI transition, aborting\")\n",
      "/home/guillaume/miniconda3/envs/py37/lib/python3.7/site-packages/tyssue-0.3.3rc1-py3.7-linux-x86_64.egg/tyssue/topology/bulk_topology.py:416: UserWarning: Invalid topology for a HI transition, aborting\n",
      "  warnings.warn(\"Invalid topology for a HI transition, aborting\")\n",
      "/home/guillaume/miniconda3/envs/py37/lib/python3.7/site-packages/tyssue-0.3.3rc1-py3.7-linux-x86_64.egg/tyssue/topology/bulk_topology.py:416: UserWarning: Invalid topology for a HI transition, aborting\n",
      "  warnings.warn(\"Invalid topology for a HI transition, aborting\")\n",
      "/home/guillaume/miniconda3/envs/py37/lib/python3.7/site-packages/tyssue-0.3.3rc1-py3.7-linux-x86_64.egg/tyssue/topology/bulk_topology.py:416: UserWarning: Invalid topology for a HI transition, aborting\n",
      "  warnings.warn(\"Invalid topology for a HI transition, aborting\")\n",
      "/home/guillaume/miniconda3/envs/py37/lib/python3.7/site-packages/tyssue-0.3.3rc1-py3.7-linux-x86_64.egg/tyssue/topology/bulk_topology.py:416: UserWarning: Invalid topology for a HI transition, aborting\n",
      "  warnings.warn(\"Invalid topology for a HI transition, aborting\")\n",
      "/home/guillaume/miniconda3/envs/py37/lib/python3.7/site-packages/tyssue-0.3.3rc1-py3.7-linux-x86_64.egg/tyssue/topology/bulk_topology.py:416: UserWarning: Invalid topology for a HI transition, aborting\n",
      "  warnings.warn(\"Invalid topology for a HI transition, aborting\")\n",
      "/home/guillaume/miniconda3/envs/py37/lib/python3.7/site-packages/tyssue-0.3.3rc1-py3.7-linux-x86_64.egg/tyssue/topology/bulk_topology.py:416: UserWarning: Invalid topology for a HI transition, aborting\n",
      "  warnings.warn(\"Invalid topology for a HI transition, aborting\")\n",
      "Edge 355 is not a valid junction to perform IH transition, aborting\n"
     ]
    },
    {
     "name": "stdout",
     "output_type": "stream",
     "text": [
      "out T3 changed buffer\n",
      "T3\n"
     ]
    },
    {
     "name": "stderr",
     "output_type": "stream",
     "text": [
      "Edge 354 has adjacent triangular faces can't perform IH transition, aborting\n",
      "Edge 354 has adjacent triangular faces can't perform IH transition, aborting\n",
      "Edge 355 is not a valid junction to perform IH transition, aborting\n",
      "Edge 354 has adjacent triangular faces can't perform IH transition, aborting\n",
      "Edge 354 has adjacent triangular faces can't perform IH transition, aborting\n",
      "Edge 355 is not a valid junction to perform IH transition, aborting\n",
      "Edge 353 has adjacent triangular faces can't perform IH transition, aborting\n",
      "Edge 353 has adjacent triangular faces can't perform IH transition, aborting\n",
      "Edge 355 is not a valid junction to perform IH transition, aborting\n",
      "Edge 353 has adjacent triangular faces can't perform IH transition, aborting\n",
      "/home/guillaume/miniconda3/envs/py37/lib/python3.7/site-packages/tyssue-0.3.3rc1-py3.7-linux-x86_64.egg/tyssue/topology/bulk_topology.py:416: UserWarning: Invalid topology for a HI transition, aborting\n",
      "  warnings.warn(\"Invalid topology for a HI transition, aborting\")\n"
     ]
    },
    {
     "name": "stdout",
     "output_type": "stream",
     "text": [
      "out T1 changed buffer\n",
      "T1\n"
     ]
    },
    {
     "name": "stderr",
     "output_type": "stream",
     "text": [
      "/home/guillaume/miniconda3/envs/py37/lib/python3.7/site-packages/tyssue-0.3.3rc1-py3.7-linux-x86_64.egg/tyssue/topology/bulk_topology.py:416: UserWarning: Invalid topology for a HI transition, aborting\n",
      "  warnings.warn(\"Invalid topology for a HI transition, aborting\")\n",
      "/home/guillaume/miniconda3/envs/py37/lib/python3.7/site-packages/tyssue-0.3.3rc1-py3.7-linux-x86_64.egg/tyssue/topology/bulk_topology.py:416: UserWarning: Invalid topology for a HI transition, aborting\n",
      "  warnings.warn(\"Invalid topology for a HI transition, aborting\")\n",
      "/home/guillaume/miniconda3/envs/py37/lib/python3.7/site-packages/tyssue-0.3.3rc1-py3.7-linux-x86_64.egg/tyssue/topology/bulk_topology.py:416: UserWarning: Invalid topology for a HI transition, aborting\n",
      "  warnings.warn(\"Invalid topology for a HI transition, aborting\")\n",
      "/home/guillaume/miniconda3/envs/py37/lib/python3.7/site-packages/tyssue-0.3.3rc1-py3.7-linux-x86_64.egg/tyssue/topology/bulk_topology.py:416: UserWarning: Invalid topology for a HI transition, aborting\n",
      "  warnings.warn(\"Invalid topology for a HI transition, aborting\")\n",
      "/home/guillaume/miniconda3/envs/py37/lib/python3.7/site-packages/tyssue-0.3.3rc1-py3.7-linux-x86_64.egg/tyssue/topology/bulk_topology.py:416: UserWarning: Invalid topology for a HI transition, aborting\n",
      "  warnings.warn(\"Invalid topology for a HI transition, aborting\")\n",
      "/home/guillaume/miniconda3/envs/py37/lib/python3.7/site-packages/tyssue-0.3.3rc1-py3.7-linux-x86_64.egg/tyssue/topology/bulk_topology.py:416: UserWarning: Invalid topology for a HI transition, aborting\n",
      "  warnings.warn(\"Invalid topology for a HI transition, aborting\")\n",
      "/home/guillaume/miniconda3/envs/py37/lib/python3.7/site-packages/tyssue-0.3.3rc1-py3.7-linux-x86_64.egg/tyssue/topology/bulk_topology.py:416: UserWarning: Invalid topology for a HI transition, aborting\n",
      "  warnings.warn(\"Invalid topology for a HI transition, aborting\")\n",
      "/home/guillaume/miniconda3/envs/py37/lib/python3.7/site-packages/tyssue-0.3.3rc1-py3.7-linux-x86_64.egg/tyssue/topology/bulk_topology.py:416: UserWarning: Invalid topology for a HI transition, aborting\n",
      "  warnings.warn(\"Invalid topology for a HI transition, aborting\")\n",
      "/home/guillaume/miniconda3/envs/py37/lib/python3.7/site-packages/tyssue-0.3.3rc1-py3.7-linux-x86_64.egg/tyssue/topology/bulk_topology.py:416: UserWarning: Invalid topology for a HI transition, aborting\n",
      "  warnings.warn(\"Invalid topology for a HI transition, aborting\")\n",
      "/home/guillaume/miniconda3/envs/py37/lib/python3.7/site-packages/tyssue-0.3.3rc1-py3.7-linux-x86_64.egg/tyssue/topology/bulk_topology.py:416: UserWarning: Invalid topology for a HI transition, aborting\n",
      "  warnings.warn(\"Invalid topology for a HI transition, aborting\")\n",
      "Edge 354 has adjacent triangular faces can't perform IH transition, aborting\n"
     ]
    },
    {
     "name": "stdout",
     "output_type": "stream",
     "text": [
      "out T3 changed buffer\n",
      "T3\n"
     ]
    },
    {
     "name": "stderr",
     "output_type": "stream",
     "text": [
      "Edge 355 is not a valid junction to perform IH transition, aborting\n",
      "Edge 353 has adjacent triangular faces can't perform IH transition, aborting\n",
      "Edge 353 has adjacent triangular faces can't perform IH transition, aborting\n",
      "Edge 355 is not a valid junction to perform IH transition, aborting\n",
      "Edge 354 has adjacent triangular faces can't perform IH transition, aborting\n",
      "Edge 353 has adjacent triangular faces can't perform IH transition, aborting\n",
      "Edge 353 has adjacent triangular faces can't perform IH transition, aborting\n",
      "Edge 353 has adjacent triangular faces can't perform IH transition, aborting\n",
      "Edge 354 has adjacent triangular faces can't perform IH transition, aborting\n",
      "Edge 354 has adjacent triangular faces can't perform IH transition, aborting\n",
      "/home/guillaume/miniconda3/envs/py37/lib/python3.7/site-packages/tyssue-0.3.3rc1-py3.7-linux-x86_64.egg/tyssue/topology/bulk_topology.py:416: UserWarning: Invalid topology for a HI transition, aborting\n",
      "  warnings.warn(\"Invalid topology for a HI transition, aborting\")\n"
     ]
    },
    {
     "name": "stdout",
     "output_type": "stream",
     "text": [
      "out T1 changed buffer\n",
      "T1\n"
     ]
    },
    {
     "name": "stderr",
     "output_type": "stream",
     "text": [
      "/home/guillaume/miniconda3/envs/py37/lib/python3.7/site-packages/tyssue-0.3.3rc1-py3.7-linux-x86_64.egg/tyssue/topology/bulk_topology.py:416: UserWarning: Invalid topology for a HI transition, aborting\n",
      "  warnings.warn(\"Invalid topology for a HI transition, aborting\")\n",
      "/home/guillaume/miniconda3/envs/py37/lib/python3.7/site-packages/tyssue-0.3.3rc1-py3.7-linux-x86_64.egg/tyssue/topology/bulk_topology.py:416: UserWarning: Invalid topology for a HI transition, aborting\n",
      "  warnings.warn(\"Invalid topology for a HI transition, aborting\")\n",
      "/home/guillaume/miniconda3/envs/py37/lib/python3.7/site-packages/tyssue-0.3.3rc1-py3.7-linux-x86_64.egg/tyssue/topology/bulk_topology.py:416: UserWarning: Invalid topology for a HI transition, aborting\n",
      "  warnings.warn(\"Invalid topology for a HI transition, aborting\")\n",
      "/home/guillaume/miniconda3/envs/py37/lib/python3.7/site-packages/tyssue-0.3.3rc1-py3.7-linux-x86_64.egg/tyssue/topology/bulk_topology.py:416: UserWarning: Invalid topology for a HI transition, aborting\n",
      "  warnings.warn(\"Invalid topology for a HI transition, aborting\")\n",
      "/home/guillaume/miniconda3/envs/py37/lib/python3.7/site-packages/tyssue-0.3.3rc1-py3.7-linux-x86_64.egg/tyssue/topology/bulk_topology.py:416: UserWarning: Invalid topology for a HI transition, aborting\n",
      "  warnings.warn(\"Invalid topology for a HI transition, aborting\")\n",
      "/home/guillaume/miniconda3/envs/py37/lib/python3.7/site-packages/tyssue-0.3.3rc1-py3.7-linux-x86_64.egg/tyssue/topology/bulk_topology.py:416: UserWarning: Invalid topology for a HI transition, aborting\n",
      "  warnings.warn(\"Invalid topology for a HI transition, aborting\")\n",
      "/home/guillaume/miniconda3/envs/py37/lib/python3.7/site-packages/tyssue-0.3.3rc1-py3.7-linux-x86_64.egg/tyssue/topology/bulk_topology.py:416: UserWarning: Invalid topology for a HI transition, aborting\n",
      "  warnings.warn(\"Invalid topology for a HI transition, aborting\")\n",
      "/home/guillaume/miniconda3/envs/py37/lib/python3.7/site-packages/tyssue-0.3.3rc1-py3.7-linux-x86_64.egg/tyssue/topology/bulk_topology.py:416: UserWarning: Invalid topology for a HI transition, aborting\n",
      "  warnings.warn(\"Invalid topology for a HI transition, aborting\")\n",
      "/home/guillaume/miniconda3/envs/py37/lib/python3.7/site-packages/tyssue-0.3.3rc1-py3.7-linux-x86_64.egg/tyssue/topology/bulk_topology.py:416: UserWarning: Invalid topology for a HI transition, aborting\n",
      "  warnings.warn(\"Invalid topology for a HI transition, aborting\")\n",
      "/home/guillaume/miniconda3/envs/py37/lib/python3.7/site-packages/tyssue-0.3.3rc1-py3.7-linux-x86_64.egg/tyssue/topology/bulk_topology.py:416: UserWarning: Invalid topology for a HI transition, aborting\n",
      "  warnings.warn(\"Invalid topology for a HI transition, aborting\")\n",
      "Edge 355 is not a valid junction to perform IH transition, aborting\n"
     ]
    },
    {
     "name": "stdout",
     "output_type": "stream",
     "text": [
      "out T3 changed buffer\n",
      "T3\n"
     ]
    },
    {
     "name": "stderr",
     "output_type": "stream",
     "text": [
      "Edge 354 has adjacent triangular faces can't perform IH transition, aborting\n",
      "Edge 355 is not a valid junction to perform IH transition, aborting\n",
      "Edge 354 has adjacent triangular faces can't perform IH transition, aborting\n",
      "Edge 353 has adjacent triangular faces can't perform IH transition, aborting\n",
      "Edge 353 has adjacent triangular faces can't perform IH transition, aborting\n",
      "Edge 355 is not a valid junction to perform IH transition, aborting\n",
      "Edge 354 has adjacent triangular faces can't perform IH transition, aborting\n",
      "Edge 353 has adjacent triangular faces can't perform IH transition, aborting\n",
      "Edge 354 has adjacent triangular faces can't perform IH transition, aborting\n",
      "Edge 353 has adjacent triangular faces can't perform IH transition, aborting\n",
      "/home/guillaume/miniconda3/envs/py37/lib/python3.7/site-packages/tyssue-0.3.3rc1-py3.7-linux-x86_64.egg/tyssue/topology/bulk_topology.py:416: UserWarning: Invalid topology for a HI transition, aborting\n",
      "  warnings.warn(\"Invalid topology for a HI transition, aborting\")\n"
     ]
    },
    {
     "name": "stdout",
     "output_type": "stream",
     "text": [
      "out T1 changed buffer\n",
      "T1\n"
     ]
    },
    {
     "name": "stderr",
     "output_type": "stream",
     "text": [
      "/home/guillaume/miniconda3/envs/py37/lib/python3.7/site-packages/tyssue-0.3.3rc1-py3.7-linux-x86_64.egg/tyssue/topology/bulk_topology.py:416: UserWarning: Invalid topology for a HI transition, aborting\n",
      "  warnings.warn(\"Invalid topology for a HI transition, aborting\")\n",
      "/home/guillaume/miniconda3/envs/py37/lib/python3.7/site-packages/tyssue-0.3.3rc1-py3.7-linux-x86_64.egg/tyssue/topology/bulk_topology.py:416: UserWarning: Invalid topology for a HI transition, aborting\n",
      "  warnings.warn(\"Invalid topology for a HI transition, aborting\")\n",
      "/home/guillaume/miniconda3/envs/py37/lib/python3.7/site-packages/tyssue-0.3.3rc1-py3.7-linux-x86_64.egg/tyssue/topology/bulk_topology.py:416: UserWarning: Invalid topology for a HI transition, aborting\n",
      "  warnings.warn(\"Invalid topology for a HI transition, aborting\")\n",
      "/home/guillaume/miniconda3/envs/py37/lib/python3.7/site-packages/tyssue-0.3.3rc1-py3.7-linux-x86_64.egg/tyssue/topology/bulk_topology.py:416: UserWarning: Invalid topology for a HI transition, aborting\n",
      "  warnings.warn(\"Invalid topology for a HI transition, aborting\")\n",
      "/home/guillaume/miniconda3/envs/py37/lib/python3.7/site-packages/tyssue-0.3.3rc1-py3.7-linux-x86_64.egg/tyssue/topology/bulk_topology.py:416: UserWarning: Invalid topology for a HI transition, aborting\n",
      "  warnings.warn(\"Invalid topology for a HI transition, aborting\")\n",
      "/home/guillaume/miniconda3/envs/py37/lib/python3.7/site-packages/tyssue-0.3.3rc1-py3.7-linux-x86_64.egg/tyssue/topology/bulk_topology.py:416: UserWarning: Invalid topology for a HI transition, aborting\n",
      "  warnings.warn(\"Invalid topology for a HI transition, aborting\")\n",
      "/home/guillaume/miniconda3/envs/py37/lib/python3.7/site-packages/tyssue-0.3.3rc1-py3.7-linux-x86_64.egg/tyssue/topology/bulk_topology.py:416: UserWarning: Invalid topology for a HI transition, aborting\n",
      "  warnings.warn(\"Invalid topology for a HI transition, aborting\")\n",
      "/home/guillaume/miniconda3/envs/py37/lib/python3.7/site-packages/tyssue-0.3.3rc1-py3.7-linux-x86_64.egg/tyssue/topology/bulk_topology.py:416: UserWarning: Invalid topology for a HI transition, aborting\n",
      "  warnings.warn(\"Invalid topology for a HI transition, aborting\")\n",
      "/home/guillaume/miniconda3/envs/py37/lib/python3.7/site-packages/tyssue-0.3.3rc1-py3.7-linux-x86_64.egg/tyssue/topology/bulk_topology.py:416: UserWarning: Invalid topology for a HI transition, aborting\n",
      "  warnings.warn(\"Invalid topology for a HI transition, aborting\")\n",
      "/home/guillaume/miniconda3/envs/py37/lib/python3.7/site-packages/tyssue-0.3.3rc1-py3.7-linux-x86_64.egg/tyssue/topology/bulk_topology.py:416: UserWarning: Invalid topology for a HI transition, aborting\n",
      "  warnings.warn(\"Invalid topology for a HI transition, aborting\")\n",
      "Edge 355 is not a valid junction to perform IH transition, aborting\n"
     ]
    },
    {
     "name": "stdout",
     "output_type": "stream",
     "text": [
      "out T3 changed buffer\n",
      "T3\n"
     ]
    },
    {
     "name": "stderr",
     "output_type": "stream",
     "text": [
      "Edge 353 has adjacent triangular faces can't perform IH transition, aborting\n",
      "Edge 353 has adjacent triangular faces can't perform IH transition, aborting\n",
      "Edge 355 is not a valid junction to perform IH transition, aborting\n",
      "Edge 354 has adjacent triangular faces can't perform IH transition, aborting\n",
      "Edge 355 is not a valid junction to perform IH transition, aborting\n",
      "Edge 354 has adjacent triangular faces can't perform IH transition, aborting\n",
      "Edge 354 has adjacent triangular faces can't perform IH transition, aborting\n",
      "Edge 354 has adjacent triangular faces can't perform IH transition, aborting\n",
      "Edge 355 is not a valid junction to perform IH transition, aborting\n",
      "Edge 353 has adjacent triangular faces can't perform IH transition, aborting\n",
      "/home/guillaume/miniconda3/envs/py37/lib/python3.7/site-packages/tyssue-0.3.3rc1-py3.7-linux-x86_64.egg/tyssue/topology/bulk_topology.py:416: UserWarning: Invalid topology for a HI transition, aborting\n",
      "  warnings.warn(\"Invalid topology for a HI transition, aborting\")\n"
     ]
    },
    {
     "name": "stdout",
     "output_type": "stream",
     "text": [
      "out T1 changed buffer\n",
      "T1\n"
     ]
    },
    {
     "name": "stderr",
     "output_type": "stream",
     "text": [
      "/home/guillaume/miniconda3/envs/py37/lib/python3.7/site-packages/tyssue-0.3.3rc1-py3.7-linux-x86_64.egg/tyssue/topology/bulk_topology.py:416: UserWarning: Invalid topology for a HI transition, aborting\n",
      "  warnings.warn(\"Invalid topology for a HI transition, aborting\")\n",
      "/home/guillaume/miniconda3/envs/py37/lib/python3.7/site-packages/tyssue-0.3.3rc1-py3.7-linux-x86_64.egg/tyssue/topology/bulk_topology.py:416: UserWarning: Invalid topology for a HI transition, aborting\n",
      "  warnings.warn(\"Invalid topology for a HI transition, aborting\")\n",
      "/home/guillaume/miniconda3/envs/py37/lib/python3.7/site-packages/tyssue-0.3.3rc1-py3.7-linux-x86_64.egg/tyssue/topology/bulk_topology.py:416: UserWarning: Invalid topology for a HI transition, aborting\n",
      "  warnings.warn(\"Invalid topology for a HI transition, aborting\")\n",
      "/home/guillaume/miniconda3/envs/py37/lib/python3.7/site-packages/tyssue-0.3.3rc1-py3.7-linux-x86_64.egg/tyssue/topology/bulk_topology.py:416: UserWarning: Invalid topology for a HI transition, aborting\n",
      "  warnings.warn(\"Invalid topology for a HI transition, aborting\")\n",
      "/home/guillaume/miniconda3/envs/py37/lib/python3.7/site-packages/tyssue-0.3.3rc1-py3.7-linux-x86_64.egg/tyssue/topology/bulk_topology.py:416: UserWarning: Invalid topology for a HI transition, aborting\n",
      "  warnings.warn(\"Invalid topology for a HI transition, aborting\")\n",
      "/home/guillaume/miniconda3/envs/py37/lib/python3.7/site-packages/tyssue-0.3.3rc1-py3.7-linux-x86_64.egg/tyssue/topology/bulk_topology.py:416: UserWarning: Invalid topology for a HI transition, aborting\n",
      "  warnings.warn(\"Invalid topology for a HI transition, aborting\")\n",
      "/home/guillaume/miniconda3/envs/py37/lib/python3.7/site-packages/tyssue-0.3.3rc1-py3.7-linux-x86_64.egg/tyssue/topology/bulk_topology.py:416: UserWarning: Invalid topology for a HI transition, aborting\n",
      "  warnings.warn(\"Invalid topology for a HI transition, aborting\")\n",
      "/home/guillaume/miniconda3/envs/py37/lib/python3.7/site-packages/tyssue-0.3.3rc1-py3.7-linux-x86_64.egg/tyssue/topology/bulk_topology.py:416: UserWarning: Invalid topology for a HI transition, aborting\n",
      "  warnings.warn(\"Invalid topology for a HI transition, aborting\")\n",
      "/home/guillaume/miniconda3/envs/py37/lib/python3.7/site-packages/tyssue-0.3.3rc1-py3.7-linux-x86_64.egg/tyssue/topology/bulk_topology.py:416: UserWarning: Invalid topology for a HI transition, aborting\n",
      "  warnings.warn(\"Invalid topology for a HI transition, aborting\")\n",
      "/home/guillaume/miniconda3/envs/py37/lib/python3.7/site-packages/tyssue-0.3.3rc1-py3.7-linux-x86_64.egg/tyssue/topology/bulk_topology.py:416: UserWarning: Invalid topology for a HI transition, aborting\n",
      "  warnings.warn(\"Invalid topology for a HI transition, aborting\")\n",
      "Edge 353 has adjacent triangular faces can't perform IH transition, aborting\n"
     ]
    },
    {
     "name": "stdout",
     "output_type": "stream",
     "text": [
      "out T3 changed buffer\n",
      "T3\n"
     ]
    },
    {
     "name": "stderr",
     "output_type": "stream",
     "text": [
      "Edge 354 has adjacent triangular faces can't perform IH transition, aborting\n",
      "Edge 353 has adjacent triangular faces can't perform IH transition, aborting\n",
      "Edge 354 has adjacent triangular faces can't perform IH transition, aborting\n",
      "Edge 353 has adjacent triangular faces can't perform IH transition, aborting\n",
      "Edge 355 is not a valid junction to perform IH transition, aborting\n",
      "Edge 353 has adjacent triangular faces can't perform IH transition, aborting\n",
      "Edge 355 is not a valid junction to perform IH transition, aborting\n",
      "Edge 353 has adjacent triangular faces can't perform IH transition, aborting\n",
      "Edge 353 has adjacent triangular faces can't perform IH transition, aborting\n",
      "Edge 355 is not a valid junction to perform IH transition, aborting\n",
      "/home/guillaume/miniconda3/envs/py37/lib/python3.7/site-packages/tyssue-0.3.3rc1-py3.7-linux-x86_64.egg/tyssue/topology/bulk_topology.py:416: UserWarning: Invalid topology for a HI transition, aborting\n",
      "  warnings.warn(\"Invalid topology for a HI transition, aborting\")\n"
     ]
    },
    {
     "name": "stdout",
     "output_type": "stream",
     "text": [
      "out T1 changed buffer\n",
      "T1\n"
     ]
    },
    {
     "name": "stderr",
     "output_type": "stream",
     "text": [
      "/home/guillaume/miniconda3/envs/py37/lib/python3.7/site-packages/tyssue-0.3.3rc1-py3.7-linux-x86_64.egg/tyssue/topology/bulk_topology.py:416: UserWarning: Invalid topology for a HI transition, aborting\n",
      "  warnings.warn(\"Invalid topology for a HI transition, aborting\")\n",
      "/home/guillaume/miniconda3/envs/py37/lib/python3.7/site-packages/tyssue-0.3.3rc1-py3.7-linux-x86_64.egg/tyssue/topology/bulk_topology.py:416: UserWarning: Invalid topology for a HI transition, aborting\n",
      "  warnings.warn(\"Invalid topology for a HI transition, aborting\")\n",
      "/home/guillaume/miniconda3/envs/py37/lib/python3.7/site-packages/tyssue-0.3.3rc1-py3.7-linux-x86_64.egg/tyssue/topology/bulk_topology.py:416: UserWarning: Invalid topology for a HI transition, aborting\n",
      "  warnings.warn(\"Invalid topology for a HI transition, aborting\")\n",
      "/home/guillaume/miniconda3/envs/py37/lib/python3.7/site-packages/tyssue-0.3.3rc1-py3.7-linux-x86_64.egg/tyssue/topology/bulk_topology.py:416: UserWarning: Invalid topology for a HI transition, aborting\n",
      "  warnings.warn(\"Invalid topology for a HI transition, aborting\")\n",
      "/home/guillaume/miniconda3/envs/py37/lib/python3.7/site-packages/tyssue-0.3.3rc1-py3.7-linux-x86_64.egg/tyssue/topology/bulk_topology.py:416: UserWarning: Invalid topology for a HI transition, aborting\n",
      "  warnings.warn(\"Invalid topology for a HI transition, aborting\")\n",
      "/home/guillaume/miniconda3/envs/py37/lib/python3.7/site-packages/tyssue-0.3.3rc1-py3.7-linux-x86_64.egg/tyssue/topology/bulk_topology.py:416: UserWarning: Invalid topology for a HI transition, aborting\n",
      "  warnings.warn(\"Invalid topology for a HI transition, aborting\")\n",
      "/home/guillaume/miniconda3/envs/py37/lib/python3.7/site-packages/tyssue-0.3.3rc1-py3.7-linux-x86_64.egg/tyssue/topology/bulk_topology.py:416: UserWarning: Invalid topology for a HI transition, aborting\n",
      "  warnings.warn(\"Invalid topology for a HI transition, aborting\")\n",
      "/home/guillaume/miniconda3/envs/py37/lib/python3.7/site-packages/tyssue-0.3.3rc1-py3.7-linux-x86_64.egg/tyssue/topology/bulk_topology.py:416: UserWarning: Invalid topology for a HI transition, aborting\n",
      "  warnings.warn(\"Invalid topology for a HI transition, aborting\")\n",
      "/home/guillaume/miniconda3/envs/py37/lib/python3.7/site-packages/tyssue-0.3.3rc1-py3.7-linux-x86_64.egg/tyssue/topology/bulk_topology.py:416: UserWarning: Invalid topology for a HI transition, aborting\n",
      "  warnings.warn(\"Invalid topology for a HI transition, aborting\")\n",
      "/home/guillaume/miniconda3/envs/py37/lib/python3.7/site-packages/tyssue-0.3.3rc1-py3.7-linux-x86_64.egg/tyssue/topology/bulk_topology.py:416: UserWarning: Invalid topology for a HI transition, aborting\n",
      "  warnings.warn(\"Invalid topology for a HI transition, aborting\")\n",
      "Edge 354 has adjacent triangular faces can't perform IH transition, aborting\n"
     ]
    },
    {
     "name": "stdout",
     "output_type": "stream",
     "text": [
      "out T3 changed buffer\n",
      "T3\n"
     ]
    },
    {
     "name": "stderr",
     "output_type": "stream",
     "text": [
      "Edge 353 has adjacent triangular faces can't perform IH transition, aborting\n",
      "Edge 354 has adjacent triangular faces can't perform IH transition, aborting\n",
      "Edge 354 has adjacent triangular faces can't perform IH transition, aborting\n",
      "Edge 353 has adjacent triangular faces can't perform IH transition, aborting\n",
      "Edge 355 is not a valid junction to perform IH transition, aborting\n",
      "Edge 354 has adjacent triangular faces can't perform IH transition, aborting\n",
      "Edge 355 is not a valid junction to perform IH transition, aborting\n",
      "Edge 354 has adjacent triangular faces can't perform IH transition, aborting\n",
      "Edge 353 has adjacent triangular faces can't perform IH transition, aborting\n",
      "Edge 355 is not a valid junction to perform IH transition, aborting\n",
      "/home/guillaume/miniconda3/envs/py37/lib/python3.7/site-packages/tyssue-0.3.3rc1-py3.7-linux-x86_64.egg/tyssue/topology/bulk_topology.py:416: UserWarning: Invalid topology for a HI transition, aborting\n",
      "  warnings.warn(\"Invalid topology for a HI transition, aborting\")\n"
     ]
    },
    {
     "name": "stdout",
     "output_type": "stream",
     "text": [
      "out T1 changed buffer\n",
      "T1\n"
     ]
    },
    {
     "name": "stderr",
     "output_type": "stream",
     "text": [
      "/home/guillaume/miniconda3/envs/py37/lib/python3.7/site-packages/tyssue-0.3.3rc1-py3.7-linux-x86_64.egg/tyssue/topology/bulk_topology.py:416: UserWarning: Invalid topology for a HI transition, aborting\n",
      "  warnings.warn(\"Invalid topology for a HI transition, aborting\")\n",
      "/home/guillaume/miniconda3/envs/py37/lib/python3.7/site-packages/tyssue-0.3.3rc1-py3.7-linux-x86_64.egg/tyssue/topology/bulk_topology.py:416: UserWarning: Invalid topology for a HI transition, aborting\n",
      "  warnings.warn(\"Invalid topology for a HI transition, aborting\")\n",
      "/home/guillaume/miniconda3/envs/py37/lib/python3.7/site-packages/tyssue-0.3.3rc1-py3.7-linux-x86_64.egg/tyssue/topology/bulk_topology.py:416: UserWarning: Invalid topology for a HI transition, aborting\n",
      "  warnings.warn(\"Invalid topology for a HI transition, aborting\")\n",
      "/home/guillaume/miniconda3/envs/py37/lib/python3.7/site-packages/tyssue-0.3.3rc1-py3.7-linux-x86_64.egg/tyssue/topology/bulk_topology.py:416: UserWarning: Invalid topology for a HI transition, aborting\n",
      "  warnings.warn(\"Invalid topology for a HI transition, aborting\")\n",
      "/home/guillaume/miniconda3/envs/py37/lib/python3.7/site-packages/tyssue-0.3.3rc1-py3.7-linux-x86_64.egg/tyssue/topology/bulk_topology.py:416: UserWarning: Invalid topology for a HI transition, aborting\n",
      "  warnings.warn(\"Invalid topology for a HI transition, aborting\")\n",
      "/home/guillaume/miniconda3/envs/py37/lib/python3.7/site-packages/tyssue-0.3.3rc1-py3.7-linux-x86_64.egg/tyssue/topology/bulk_topology.py:416: UserWarning: Invalid topology for a HI transition, aborting\n",
      "  warnings.warn(\"Invalid topology for a HI transition, aborting\")\n",
      "/home/guillaume/miniconda3/envs/py37/lib/python3.7/site-packages/tyssue-0.3.3rc1-py3.7-linux-x86_64.egg/tyssue/topology/bulk_topology.py:416: UserWarning: Invalid topology for a HI transition, aborting\n",
      "  warnings.warn(\"Invalid topology for a HI transition, aborting\")\n",
      "/home/guillaume/miniconda3/envs/py37/lib/python3.7/site-packages/tyssue-0.3.3rc1-py3.7-linux-x86_64.egg/tyssue/topology/bulk_topology.py:416: UserWarning: Invalid topology for a HI transition, aborting\n",
      "  warnings.warn(\"Invalid topology for a HI transition, aborting\")\n",
      "/home/guillaume/miniconda3/envs/py37/lib/python3.7/site-packages/tyssue-0.3.3rc1-py3.7-linux-x86_64.egg/tyssue/topology/bulk_topology.py:416: UserWarning: Invalid topology for a HI transition, aborting\n",
      "  warnings.warn(\"Invalid topology for a HI transition, aborting\")\n",
      "/home/guillaume/miniconda3/envs/py37/lib/python3.7/site-packages/tyssue-0.3.3rc1-py3.7-linux-x86_64.egg/tyssue/topology/bulk_topology.py:416: UserWarning: Invalid topology for a HI transition, aborting\n",
      "  warnings.warn(\"Invalid topology for a HI transition, aborting\")\n",
      "Edge 353 has adjacent triangular faces can't perform IH transition, aborting\n"
     ]
    },
    {
     "name": "stdout",
     "output_type": "stream",
     "text": [
      "out T3 changed buffer\n",
      "T3\n"
     ]
    },
    {
     "name": "stderr",
     "output_type": "stream",
     "text": [
      "Edge 355 is not a valid junction to perform IH transition, aborting\n",
      "Edge 354 has adjacent triangular faces can't perform IH transition, aborting\n",
      "Edge 354 has adjacent triangular faces can't perform IH transition, aborting\n",
      "Edge 353 has adjacent triangular faces can't perform IH transition, aborting\n",
      "Edge 353 has adjacent triangular faces can't perform IH transition, aborting\n",
      "Edge 353 has adjacent triangular faces can't perform IH transition, aborting\n",
      "Edge 355 is not a valid junction to perform IH transition, aborting\n",
      "Edge 353 has adjacent triangular faces can't perform IH transition, aborting\n",
      "Edge 355 is not a valid junction to perform IH transition, aborting\n",
      "Edge 354 has adjacent triangular faces can't perform IH transition, aborting\n",
      "/home/guillaume/miniconda3/envs/py37/lib/python3.7/site-packages/tyssue-0.3.3rc1-py3.7-linux-x86_64.egg/tyssue/topology/bulk_topology.py:416: UserWarning: Invalid topology for a HI transition, aborting\n",
      "  warnings.warn(\"Invalid topology for a HI transition, aborting\")\n"
     ]
    },
    {
     "name": "stdout",
     "output_type": "stream",
     "text": [
      "out T1 changed buffer\n",
      "T1\n"
     ]
    },
    {
     "name": "stderr",
     "output_type": "stream",
     "text": [
      "/home/guillaume/miniconda3/envs/py37/lib/python3.7/site-packages/tyssue-0.3.3rc1-py3.7-linux-x86_64.egg/tyssue/topology/bulk_topology.py:416: UserWarning: Invalid topology for a HI transition, aborting\n",
      "  warnings.warn(\"Invalid topology for a HI transition, aborting\")\n",
      "/home/guillaume/miniconda3/envs/py37/lib/python3.7/site-packages/tyssue-0.3.3rc1-py3.7-linux-x86_64.egg/tyssue/topology/bulk_topology.py:416: UserWarning: Invalid topology for a HI transition, aborting\n",
      "  warnings.warn(\"Invalid topology for a HI transition, aborting\")\n",
      "/home/guillaume/miniconda3/envs/py37/lib/python3.7/site-packages/tyssue-0.3.3rc1-py3.7-linux-x86_64.egg/tyssue/topology/bulk_topology.py:416: UserWarning: Invalid topology for a HI transition, aborting\n",
      "  warnings.warn(\"Invalid topology for a HI transition, aborting\")\n",
      "/home/guillaume/miniconda3/envs/py37/lib/python3.7/site-packages/tyssue-0.3.3rc1-py3.7-linux-x86_64.egg/tyssue/topology/bulk_topology.py:416: UserWarning: Invalid topology for a HI transition, aborting\n",
      "  warnings.warn(\"Invalid topology for a HI transition, aborting\")\n",
      "/home/guillaume/miniconda3/envs/py37/lib/python3.7/site-packages/tyssue-0.3.3rc1-py3.7-linux-x86_64.egg/tyssue/topology/bulk_topology.py:416: UserWarning: Invalid topology for a HI transition, aborting\n",
      "  warnings.warn(\"Invalid topology for a HI transition, aborting\")\n",
      "/home/guillaume/miniconda3/envs/py37/lib/python3.7/site-packages/tyssue-0.3.3rc1-py3.7-linux-x86_64.egg/tyssue/topology/bulk_topology.py:416: UserWarning: Invalid topology for a HI transition, aborting\n",
      "  warnings.warn(\"Invalid topology for a HI transition, aborting\")\n",
      "/home/guillaume/miniconda3/envs/py37/lib/python3.7/site-packages/tyssue-0.3.3rc1-py3.7-linux-x86_64.egg/tyssue/topology/bulk_topology.py:416: UserWarning: Invalid topology for a HI transition, aborting\n",
      "  warnings.warn(\"Invalid topology for a HI transition, aborting\")\n",
      "/home/guillaume/miniconda3/envs/py37/lib/python3.7/site-packages/tyssue-0.3.3rc1-py3.7-linux-x86_64.egg/tyssue/topology/bulk_topology.py:416: UserWarning: Invalid topology for a HI transition, aborting\n",
      "  warnings.warn(\"Invalid topology for a HI transition, aborting\")\n",
      "/home/guillaume/miniconda3/envs/py37/lib/python3.7/site-packages/tyssue-0.3.3rc1-py3.7-linux-x86_64.egg/tyssue/topology/bulk_topology.py:416: UserWarning: Invalid topology for a HI transition, aborting\n",
      "  warnings.warn(\"Invalid topology for a HI transition, aborting\")\n",
      "/home/guillaume/miniconda3/envs/py37/lib/python3.7/site-packages/tyssue-0.3.3rc1-py3.7-linux-x86_64.egg/tyssue/topology/bulk_topology.py:416: UserWarning: Invalid topology for a HI transition, aborting\n",
      "  warnings.warn(\"Invalid topology for a HI transition, aborting\")\n",
      "Edge 353 has adjacent triangular faces can't perform IH transition, aborting\n"
     ]
    },
    {
     "name": "stdout",
     "output_type": "stream",
     "text": [
      "out T3 changed buffer\n",
      "T3\n"
     ]
    },
    {
     "name": "stderr",
     "output_type": "stream",
     "text": [
      "Edge 353 has adjacent triangular faces can't perform IH transition, aborting\n",
      "Edge 355 is not a valid junction to perform IH transition, aborting\n",
      "Edge 354 has adjacent triangular faces can't perform IH transition, aborting\n",
      "Edge 353 has adjacent triangular faces can't perform IH transition, aborting\n",
      "Edge 354 has adjacent triangular faces can't perform IH transition, aborting\n",
      "Edge 353 has adjacent triangular faces can't perform IH transition, aborting\n",
      "Edge 353 has adjacent triangular faces can't perform IH transition, aborting\n",
      "Edge 355 is not a valid junction to perform IH transition, aborting\n",
      "Edge 353 has adjacent triangular faces can't perform IH transition, aborting\n",
      "Edge 354 has adjacent triangular faces can't perform IH transition, aborting\n",
      "/home/guillaume/miniconda3/envs/py37/lib/python3.7/site-packages/tyssue-0.3.3rc1-py3.7-linux-x86_64.egg/tyssue/topology/bulk_topology.py:416: UserWarning: Invalid topology for a HI transition, aborting\n",
      "  warnings.warn(\"Invalid topology for a HI transition, aborting\")\n"
     ]
    },
    {
     "name": "stdout",
     "output_type": "stream",
     "text": [
      "out T1 changed buffer\n",
      "T1\n"
     ]
    },
    {
     "name": "stderr",
     "output_type": "stream",
     "text": [
      "/home/guillaume/miniconda3/envs/py37/lib/python3.7/site-packages/tyssue-0.3.3rc1-py3.7-linux-x86_64.egg/tyssue/topology/bulk_topology.py:416: UserWarning: Invalid topology for a HI transition, aborting\n",
      "  warnings.warn(\"Invalid topology for a HI transition, aborting\")\n",
      "/home/guillaume/miniconda3/envs/py37/lib/python3.7/site-packages/tyssue-0.3.3rc1-py3.7-linux-x86_64.egg/tyssue/topology/bulk_topology.py:416: UserWarning: Invalid topology for a HI transition, aborting\n",
      "  warnings.warn(\"Invalid topology for a HI transition, aborting\")\n",
      "/home/guillaume/miniconda3/envs/py37/lib/python3.7/site-packages/tyssue-0.3.3rc1-py3.7-linux-x86_64.egg/tyssue/topology/bulk_topology.py:416: UserWarning: Invalid topology for a HI transition, aborting\n",
      "  warnings.warn(\"Invalid topology for a HI transition, aborting\")\n",
      "/home/guillaume/miniconda3/envs/py37/lib/python3.7/site-packages/tyssue-0.3.3rc1-py3.7-linux-x86_64.egg/tyssue/topology/bulk_topology.py:416: UserWarning: Invalid topology for a HI transition, aborting\n",
      "  warnings.warn(\"Invalid topology for a HI transition, aborting\")\n",
      "/home/guillaume/miniconda3/envs/py37/lib/python3.7/site-packages/tyssue-0.3.3rc1-py3.7-linux-x86_64.egg/tyssue/topology/bulk_topology.py:416: UserWarning: Invalid topology for a HI transition, aborting\n",
      "  warnings.warn(\"Invalid topology for a HI transition, aborting\")\n",
      "/home/guillaume/miniconda3/envs/py37/lib/python3.7/site-packages/tyssue-0.3.3rc1-py3.7-linux-x86_64.egg/tyssue/topology/bulk_topology.py:416: UserWarning: Invalid topology for a HI transition, aborting\n",
      "  warnings.warn(\"Invalid topology for a HI transition, aborting\")\n",
      "/home/guillaume/miniconda3/envs/py37/lib/python3.7/site-packages/tyssue-0.3.3rc1-py3.7-linux-x86_64.egg/tyssue/topology/bulk_topology.py:416: UserWarning: Invalid topology for a HI transition, aborting\n",
      "  warnings.warn(\"Invalid topology for a HI transition, aborting\")\n",
      "/home/guillaume/miniconda3/envs/py37/lib/python3.7/site-packages/tyssue-0.3.3rc1-py3.7-linux-x86_64.egg/tyssue/topology/bulk_topology.py:416: UserWarning: Invalid topology for a HI transition, aborting\n",
      "  warnings.warn(\"Invalid topology for a HI transition, aborting\")\n",
      "/home/guillaume/miniconda3/envs/py37/lib/python3.7/site-packages/tyssue-0.3.3rc1-py3.7-linux-x86_64.egg/tyssue/topology/bulk_topology.py:416: UserWarning: Invalid topology for a HI transition, aborting\n",
      "  warnings.warn(\"Invalid topology for a HI transition, aborting\")\n",
      "/home/guillaume/miniconda3/envs/py37/lib/python3.7/site-packages/tyssue-0.3.3rc1-py3.7-linux-x86_64.egg/tyssue/topology/bulk_topology.py:416: UserWarning: Invalid topology for a HI transition, aborting\n",
      "  warnings.warn(\"Invalid topology for a HI transition, aborting\")\n",
      "Edge 354 has adjacent triangular faces can't perform IH transition, aborting\n"
     ]
    },
    {
     "name": "stdout",
     "output_type": "stream",
     "text": [
      "out T3 changed buffer\n",
      "T3\n"
     ]
    },
    {
     "name": "stderr",
     "output_type": "stream",
     "text": [
      "Edge 355 is not a valid junction to perform IH transition, aborting\n",
      "Edge 353 has adjacent triangular faces can't perform IH transition, aborting\n",
      "Edge 354 has adjacent triangular faces can't perform IH transition, aborting\n",
      "Edge 353 has adjacent triangular faces can't perform IH transition, aborting\n",
      "Edge 355 is not a valid junction to perform IH transition, aborting\n",
      "Edge 353 has adjacent triangular faces can't perform IH transition, aborting\n",
      "Edge 353 has adjacent triangular faces can't perform IH transition, aborting\n",
      "Edge 355 is not a valid junction to perform IH transition, aborting\n",
      "Edge 354 has adjacent triangular faces can't perform IH transition, aborting\n",
      "Edge 353 has adjacent triangular faces can't perform IH transition, aborting\n",
      "/home/guillaume/miniconda3/envs/py37/lib/python3.7/site-packages/tyssue-0.3.3rc1-py3.7-linux-x86_64.egg/tyssue/topology/bulk_topology.py:416: UserWarning: Invalid topology for a HI transition, aborting\n",
      "  warnings.warn(\"Invalid topology for a HI transition, aborting\")\n"
     ]
    },
    {
     "name": "stdout",
     "output_type": "stream",
     "text": [
      "out T1 changed buffer\n",
      "T1\n"
     ]
    },
    {
     "name": "stderr",
     "output_type": "stream",
     "text": [
      "/home/guillaume/miniconda3/envs/py37/lib/python3.7/site-packages/tyssue-0.3.3rc1-py3.7-linux-x86_64.egg/tyssue/topology/bulk_topology.py:416: UserWarning: Invalid topology for a HI transition, aborting\n",
      "  warnings.warn(\"Invalid topology for a HI transition, aborting\")\n",
      "/home/guillaume/miniconda3/envs/py37/lib/python3.7/site-packages/tyssue-0.3.3rc1-py3.7-linux-x86_64.egg/tyssue/topology/bulk_topology.py:416: UserWarning: Invalid topology for a HI transition, aborting\n",
      "  warnings.warn(\"Invalid topology for a HI transition, aborting\")\n",
      "/home/guillaume/miniconda3/envs/py37/lib/python3.7/site-packages/tyssue-0.3.3rc1-py3.7-linux-x86_64.egg/tyssue/topology/bulk_topology.py:416: UserWarning: Invalid topology for a HI transition, aborting\n",
      "  warnings.warn(\"Invalid topology for a HI transition, aborting\")\n",
      "/home/guillaume/miniconda3/envs/py37/lib/python3.7/site-packages/tyssue-0.3.3rc1-py3.7-linux-x86_64.egg/tyssue/topology/bulk_topology.py:416: UserWarning: Invalid topology for a HI transition, aborting\n",
      "  warnings.warn(\"Invalid topology for a HI transition, aborting\")\n",
      "/home/guillaume/miniconda3/envs/py37/lib/python3.7/site-packages/tyssue-0.3.3rc1-py3.7-linux-x86_64.egg/tyssue/topology/bulk_topology.py:416: UserWarning: Invalid topology for a HI transition, aborting\n",
      "  warnings.warn(\"Invalid topology for a HI transition, aborting\")\n",
      "/home/guillaume/miniconda3/envs/py37/lib/python3.7/site-packages/tyssue-0.3.3rc1-py3.7-linux-x86_64.egg/tyssue/topology/bulk_topology.py:416: UserWarning: Invalid topology for a HI transition, aborting\n",
      "  warnings.warn(\"Invalid topology for a HI transition, aborting\")\n",
      "/home/guillaume/miniconda3/envs/py37/lib/python3.7/site-packages/tyssue-0.3.3rc1-py3.7-linux-x86_64.egg/tyssue/topology/bulk_topology.py:416: UserWarning: Invalid topology for a HI transition, aborting\n",
      "  warnings.warn(\"Invalid topology for a HI transition, aborting\")\n",
      "/home/guillaume/miniconda3/envs/py37/lib/python3.7/site-packages/tyssue-0.3.3rc1-py3.7-linux-x86_64.egg/tyssue/topology/bulk_topology.py:416: UserWarning: Invalid topology for a HI transition, aborting\n",
      "  warnings.warn(\"Invalid topology for a HI transition, aborting\")\n",
      "/home/guillaume/miniconda3/envs/py37/lib/python3.7/site-packages/tyssue-0.3.3rc1-py3.7-linux-x86_64.egg/tyssue/topology/bulk_topology.py:416: UserWarning: Invalid topology for a HI transition, aborting\n",
      "  warnings.warn(\"Invalid topology for a HI transition, aborting\")\n",
      "/home/guillaume/miniconda3/envs/py37/lib/python3.7/site-packages/tyssue-0.3.3rc1-py3.7-linux-x86_64.egg/tyssue/topology/bulk_topology.py:416: UserWarning: Invalid topology for a HI transition, aborting\n",
      "  warnings.warn(\"Invalid topology for a HI transition, aborting\")\n",
      "Edge 355 is not a valid junction to perform IH transition, aborting\n"
     ]
    },
    {
     "name": "stdout",
     "output_type": "stream",
     "text": [
      "out T3 changed buffer\n",
      "T3\n"
     ]
    },
    {
     "name": "stderr",
     "output_type": "stream",
     "text": [
      "Edge 353 has adjacent triangular faces can't perform IH transition, aborting\n",
      "Edge 355 is not a valid junction to perform IH transition, aborting\n",
      "Edge 353 has adjacent triangular faces can't perform IH transition, aborting\n",
      "Edge 353 has adjacent triangular faces can't perform IH transition, aborting\n",
      "Edge 355 is not a valid junction to perform IH transition, aborting\n",
      "Edge 354 has adjacent triangular faces can't perform IH transition, aborting\n",
      "Edge 354 has adjacent triangular faces can't perform IH transition, aborting\n",
      "Edge 353 has adjacent triangular faces can't perform IH transition, aborting\n",
      "Edge 353 has adjacent triangular faces can't perform IH transition, aborting\n",
      "Edge 353 has adjacent triangular faces can't perform IH transition, aborting\n",
      "/home/guillaume/miniconda3/envs/py37/lib/python3.7/site-packages/tyssue-0.3.3rc1-py3.7-linux-x86_64.egg/tyssue/topology/bulk_topology.py:416: UserWarning: Invalid topology for a HI transition, aborting\n",
      "  warnings.warn(\"Invalid topology for a HI transition, aborting\")\n"
     ]
    },
    {
     "name": "stdout",
     "output_type": "stream",
     "text": [
      "out T1 changed buffer\n",
      "T1\n"
     ]
    },
    {
     "name": "stderr",
     "output_type": "stream",
     "text": [
      "/home/guillaume/miniconda3/envs/py37/lib/python3.7/site-packages/tyssue-0.3.3rc1-py3.7-linux-x86_64.egg/tyssue/topology/bulk_topology.py:416: UserWarning: Invalid topology for a HI transition, aborting\n",
      "  warnings.warn(\"Invalid topology for a HI transition, aborting\")\n",
      "/home/guillaume/miniconda3/envs/py37/lib/python3.7/site-packages/tyssue-0.3.3rc1-py3.7-linux-x86_64.egg/tyssue/topology/bulk_topology.py:416: UserWarning: Invalid topology for a HI transition, aborting\n",
      "  warnings.warn(\"Invalid topology for a HI transition, aborting\")\n",
      "/home/guillaume/miniconda3/envs/py37/lib/python3.7/site-packages/tyssue-0.3.3rc1-py3.7-linux-x86_64.egg/tyssue/topology/bulk_topology.py:416: UserWarning: Invalid topology for a HI transition, aborting\n",
      "  warnings.warn(\"Invalid topology for a HI transition, aborting\")\n",
      "/home/guillaume/miniconda3/envs/py37/lib/python3.7/site-packages/tyssue-0.3.3rc1-py3.7-linux-x86_64.egg/tyssue/topology/bulk_topology.py:416: UserWarning: Invalid topology for a HI transition, aborting\n",
      "  warnings.warn(\"Invalid topology for a HI transition, aborting\")\n",
      "/home/guillaume/miniconda3/envs/py37/lib/python3.7/site-packages/tyssue-0.3.3rc1-py3.7-linux-x86_64.egg/tyssue/topology/bulk_topology.py:416: UserWarning: Invalid topology for a HI transition, aborting\n",
      "  warnings.warn(\"Invalid topology for a HI transition, aborting\")\n",
      "/home/guillaume/miniconda3/envs/py37/lib/python3.7/site-packages/tyssue-0.3.3rc1-py3.7-linux-x86_64.egg/tyssue/topology/bulk_topology.py:416: UserWarning: Invalid topology for a HI transition, aborting\n",
      "  warnings.warn(\"Invalid topology for a HI transition, aborting\")\n",
      "/home/guillaume/miniconda3/envs/py37/lib/python3.7/site-packages/tyssue-0.3.3rc1-py3.7-linux-x86_64.egg/tyssue/topology/bulk_topology.py:416: UserWarning: Invalid topology for a HI transition, aborting\n",
      "  warnings.warn(\"Invalid topology for a HI transition, aborting\")\n",
      "/home/guillaume/miniconda3/envs/py37/lib/python3.7/site-packages/tyssue-0.3.3rc1-py3.7-linux-x86_64.egg/tyssue/topology/bulk_topology.py:416: UserWarning: Invalid topology for a HI transition, aborting\n",
      "  warnings.warn(\"Invalid topology for a HI transition, aborting\")\n",
      "/home/guillaume/miniconda3/envs/py37/lib/python3.7/site-packages/tyssue-0.3.3rc1-py3.7-linux-x86_64.egg/tyssue/topology/bulk_topology.py:416: UserWarning: Invalid topology for a HI transition, aborting\n",
      "  warnings.warn(\"Invalid topology for a HI transition, aborting\")\n",
      "/home/guillaume/miniconda3/envs/py37/lib/python3.7/site-packages/tyssue-0.3.3rc1-py3.7-linux-x86_64.egg/tyssue/topology/bulk_topology.py:416: UserWarning: Invalid topology for a HI transition, aborting\n",
      "  warnings.warn(\"Invalid topology for a HI transition, aborting\")\n",
      "Edge 355 is not a valid junction to perform IH transition, aborting\n"
     ]
    },
    {
     "name": "stdout",
     "output_type": "stream",
     "text": [
      "out T3 changed buffer\n",
      "T3\n"
     ]
    },
    {
     "name": "stderr",
     "output_type": "stream",
     "text": [
      "Edge 353 has adjacent triangular faces can't perform IH transition, aborting\n",
      "Edge 355 is not a valid junction to perform IH transition, aborting\n",
      "Edge 353 has adjacent triangular faces can't perform IH transition, aborting\n",
      "Edge 353 has adjacent triangular faces can't perform IH transition, aborting\n",
      "Edge 354 has adjacent triangular faces can't perform IH transition, aborting\n",
      "Edge 353 has adjacent triangular faces can't perform IH transition, aborting\n",
      "Edge 354 has adjacent triangular faces can't perform IH transition, aborting\n",
      "Edge 355 is not a valid junction to perform IH transition, aborting\n",
      "Edge 354 has adjacent triangular faces can't perform IH transition, aborting\n",
      "Edge 353 has adjacent triangular faces can't perform IH transition, aborting\n",
      "/home/guillaume/miniconda3/envs/py37/lib/python3.7/site-packages/tyssue-0.3.3rc1-py3.7-linux-x86_64.egg/tyssue/topology/bulk_topology.py:416: UserWarning: Invalid topology for a HI transition, aborting\n",
      "  warnings.warn(\"Invalid topology for a HI transition, aborting\")\n"
     ]
    },
    {
     "name": "stdout",
     "output_type": "stream",
     "text": [
      "out T1 changed buffer\n",
      "T1\n"
     ]
    },
    {
     "name": "stderr",
     "output_type": "stream",
     "text": [
      "/home/guillaume/miniconda3/envs/py37/lib/python3.7/site-packages/tyssue-0.3.3rc1-py3.7-linux-x86_64.egg/tyssue/topology/bulk_topology.py:416: UserWarning: Invalid topology for a HI transition, aborting\n",
      "  warnings.warn(\"Invalid topology for a HI transition, aborting\")\n",
      "/home/guillaume/miniconda3/envs/py37/lib/python3.7/site-packages/tyssue-0.3.3rc1-py3.7-linux-x86_64.egg/tyssue/topology/bulk_topology.py:416: UserWarning: Invalid topology for a HI transition, aborting\n",
      "  warnings.warn(\"Invalid topology for a HI transition, aborting\")\n",
      "/home/guillaume/miniconda3/envs/py37/lib/python3.7/site-packages/tyssue-0.3.3rc1-py3.7-linux-x86_64.egg/tyssue/topology/bulk_topology.py:416: UserWarning: Invalid topology for a HI transition, aborting\n",
      "  warnings.warn(\"Invalid topology for a HI transition, aborting\")\n",
      "/home/guillaume/miniconda3/envs/py37/lib/python3.7/site-packages/tyssue-0.3.3rc1-py3.7-linux-x86_64.egg/tyssue/topology/bulk_topology.py:416: UserWarning: Invalid topology for a HI transition, aborting\n",
      "  warnings.warn(\"Invalid topology for a HI transition, aborting\")\n",
      "/home/guillaume/miniconda3/envs/py37/lib/python3.7/site-packages/tyssue-0.3.3rc1-py3.7-linux-x86_64.egg/tyssue/topology/bulk_topology.py:416: UserWarning: Invalid topology for a HI transition, aborting\n",
      "  warnings.warn(\"Invalid topology for a HI transition, aborting\")\n",
      "/home/guillaume/miniconda3/envs/py37/lib/python3.7/site-packages/tyssue-0.3.3rc1-py3.7-linux-x86_64.egg/tyssue/topology/bulk_topology.py:416: UserWarning: Invalid topology for a HI transition, aborting\n",
      "  warnings.warn(\"Invalid topology for a HI transition, aborting\")\n",
      "/home/guillaume/miniconda3/envs/py37/lib/python3.7/site-packages/tyssue-0.3.3rc1-py3.7-linux-x86_64.egg/tyssue/topology/bulk_topology.py:416: UserWarning: Invalid topology for a HI transition, aborting\n",
      "  warnings.warn(\"Invalid topology for a HI transition, aborting\")\n",
      "/home/guillaume/miniconda3/envs/py37/lib/python3.7/site-packages/tyssue-0.3.3rc1-py3.7-linux-x86_64.egg/tyssue/topology/bulk_topology.py:416: UserWarning: Invalid topology for a HI transition, aborting\n",
      "  warnings.warn(\"Invalid topology for a HI transition, aborting\")\n",
      "/home/guillaume/miniconda3/envs/py37/lib/python3.7/site-packages/tyssue-0.3.3rc1-py3.7-linux-x86_64.egg/tyssue/topology/bulk_topology.py:416: UserWarning: Invalid topology for a HI transition, aborting\n",
      "  warnings.warn(\"Invalid topology for a HI transition, aborting\")\n",
      "/home/guillaume/miniconda3/envs/py37/lib/python3.7/site-packages/tyssue-0.3.3rc1-py3.7-linux-x86_64.egg/tyssue/topology/bulk_topology.py:416: UserWarning: Invalid topology for a HI transition, aborting\n",
      "  warnings.warn(\"Invalid topology for a HI transition, aborting\")\n",
      "Edge 353 has adjacent triangular faces can't perform IH transition, aborting\n"
     ]
    },
    {
     "name": "stdout",
     "output_type": "stream",
     "text": [
      "out T3 changed buffer\n",
      "T3\n"
     ]
    },
    {
     "name": "stderr",
     "output_type": "stream",
     "text": [
      "Edge 354 has adjacent triangular faces can't perform IH transition, aborting\n",
      "Edge 354 has adjacent triangular faces can't perform IH transition, aborting\n",
      "Edge 353 has adjacent triangular faces can't perform IH transition, aborting\n",
      "Edge 355 is not a valid junction to perform IH transition, aborting\n",
      "Edge 354 has adjacent triangular faces can't perform IH transition, aborting\n",
      "Edge 353 has adjacent triangular faces can't perform IH transition, aborting\n",
      "Edge 353 has adjacent triangular faces can't perform IH transition, aborting\n",
      "Edge 354 has adjacent triangular faces can't perform IH transition, aborting\n",
      "Edge 353 has adjacent triangular faces can't perform IH transition, aborting\n",
      "Edge 355 is not a valid junction to perform IH transition, aborting\n",
      "/home/guillaume/miniconda3/envs/py37/lib/python3.7/site-packages/tyssue-0.3.3rc1-py3.7-linux-x86_64.egg/tyssue/topology/bulk_topology.py:416: UserWarning: Invalid topology for a HI transition, aborting\n",
      "  warnings.warn(\"Invalid topology for a HI transition, aborting\")\n"
     ]
    },
    {
     "name": "stdout",
     "output_type": "stream",
     "text": [
      "out T1 changed buffer\n",
      "T1\n"
     ]
    },
    {
     "name": "stderr",
     "output_type": "stream",
     "text": [
      "/home/guillaume/miniconda3/envs/py37/lib/python3.7/site-packages/tyssue-0.3.3rc1-py3.7-linux-x86_64.egg/tyssue/topology/bulk_topology.py:416: UserWarning: Invalid topology for a HI transition, aborting\n",
      "  warnings.warn(\"Invalid topology for a HI transition, aborting\")\n",
      "/home/guillaume/miniconda3/envs/py37/lib/python3.7/site-packages/tyssue-0.3.3rc1-py3.7-linux-x86_64.egg/tyssue/topology/bulk_topology.py:416: UserWarning: Invalid topology for a HI transition, aborting\n",
      "  warnings.warn(\"Invalid topology for a HI transition, aborting\")\n",
      "/home/guillaume/miniconda3/envs/py37/lib/python3.7/site-packages/tyssue-0.3.3rc1-py3.7-linux-x86_64.egg/tyssue/topology/bulk_topology.py:416: UserWarning: Invalid topology for a HI transition, aborting\n",
      "  warnings.warn(\"Invalid topology for a HI transition, aborting\")\n",
      "/home/guillaume/miniconda3/envs/py37/lib/python3.7/site-packages/tyssue-0.3.3rc1-py3.7-linux-x86_64.egg/tyssue/topology/bulk_topology.py:416: UserWarning: Invalid topology for a HI transition, aborting\n",
      "  warnings.warn(\"Invalid topology for a HI transition, aborting\")\n",
      "/home/guillaume/miniconda3/envs/py37/lib/python3.7/site-packages/tyssue-0.3.3rc1-py3.7-linux-x86_64.egg/tyssue/topology/bulk_topology.py:416: UserWarning: Invalid topology for a HI transition, aborting\n",
      "  warnings.warn(\"Invalid topology for a HI transition, aborting\")\n",
      "/home/guillaume/miniconda3/envs/py37/lib/python3.7/site-packages/tyssue-0.3.3rc1-py3.7-linux-x86_64.egg/tyssue/topology/bulk_topology.py:416: UserWarning: Invalid topology for a HI transition, aborting\n",
      "  warnings.warn(\"Invalid topology for a HI transition, aborting\")\n",
      "/home/guillaume/miniconda3/envs/py37/lib/python3.7/site-packages/tyssue-0.3.3rc1-py3.7-linux-x86_64.egg/tyssue/topology/bulk_topology.py:416: UserWarning: Invalid topology for a HI transition, aborting\n",
      "  warnings.warn(\"Invalid topology for a HI transition, aborting\")\n",
      "/home/guillaume/miniconda3/envs/py37/lib/python3.7/site-packages/tyssue-0.3.3rc1-py3.7-linux-x86_64.egg/tyssue/topology/bulk_topology.py:416: UserWarning: Invalid topology for a HI transition, aborting\n",
      "  warnings.warn(\"Invalid topology for a HI transition, aborting\")\n",
      "/home/guillaume/miniconda3/envs/py37/lib/python3.7/site-packages/tyssue-0.3.3rc1-py3.7-linux-x86_64.egg/tyssue/topology/bulk_topology.py:416: UserWarning: Invalid topology for a HI transition, aborting\n",
      "  warnings.warn(\"Invalid topology for a HI transition, aborting\")\n",
      "/home/guillaume/miniconda3/envs/py37/lib/python3.7/site-packages/tyssue-0.3.3rc1-py3.7-linux-x86_64.egg/tyssue/topology/bulk_topology.py:416: UserWarning: Invalid topology for a HI transition, aborting\n",
      "  warnings.warn(\"Invalid topology for a HI transition, aborting\")\n",
      "Edge 353 has adjacent triangular faces can't perform IH transition, aborting\n"
     ]
    },
    {
     "name": "stdout",
     "output_type": "stream",
     "text": [
      "out T3 changed buffer\n",
      "T3\n"
     ]
    },
    {
     "name": "stderr",
     "output_type": "stream",
     "text": [
      "Edge 355 is not a valid junction to perform IH transition, aborting\n",
      "Edge 354 has adjacent triangular faces can't perform IH transition, aborting\n",
      "Edge 354 has adjacent triangular faces can't perform IH transition, aborting\n",
      "Edge 354 has adjacent triangular faces can't perform IH transition, aborting\n",
      "Edge 354 has adjacent triangular faces can't perform IH transition, aborting\n",
      "Edge 355 is not a valid junction to perform IH transition, aborting\n",
      "Edge 354 has adjacent triangular faces can't perform IH transition, aborting\n",
      "Edge 353 has adjacent triangular faces can't perform IH transition, aborting\n",
      "Edge 353 has adjacent triangular faces can't perform IH transition, aborting\n",
      "Edge 355 is not a valid junction to perform IH transition, aborting\n",
      "/home/guillaume/miniconda3/envs/py37/lib/python3.7/site-packages/tyssue-0.3.3rc1-py3.7-linux-x86_64.egg/tyssue/topology/bulk_topology.py:416: UserWarning: Invalid topology for a HI transition, aborting\n",
      "  warnings.warn(\"Invalid topology for a HI transition, aborting\")\n"
     ]
    },
    {
     "name": "stdout",
     "output_type": "stream",
     "text": [
      "out T1 changed buffer\n",
      "T1\n"
     ]
    },
    {
     "name": "stderr",
     "output_type": "stream",
     "text": [
      "/home/guillaume/miniconda3/envs/py37/lib/python3.7/site-packages/tyssue-0.3.3rc1-py3.7-linux-x86_64.egg/tyssue/topology/bulk_topology.py:416: UserWarning: Invalid topology for a HI transition, aborting\n",
      "  warnings.warn(\"Invalid topology for a HI transition, aborting\")\n",
      "/home/guillaume/miniconda3/envs/py37/lib/python3.7/site-packages/tyssue-0.3.3rc1-py3.7-linux-x86_64.egg/tyssue/topology/bulk_topology.py:416: UserWarning: Invalid topology for a HI transition, aborting\n",
      "  warnings.warn(\"Invalid topology for a HI transition, aborting\")\n",
      "/home/guillaume/miniconda3/envs/py37/lib/python3.7/site-packages/tyssue-0.3.3rc1-py3.7-linux-x86_64.egg/tyssue/topology/bulk_topology.py:416: UserWarning: Invalid topology for a HI transition, aborting\n",
      "  warnings.warn(\"Invalid topology for a HI transition, aborting\")\n",
      "/home/guillaume/miniconda3/envs/py37/lib/python3.7/site-packages/tyssue-0.3.3rc1-py3.7-linux-x86_64.egg/tyssue/topology/bulk_topology.py:416: UserWarning: Invalid topology for a HI transition, aborting\n",
      "  warnings.warn(\"Invalid topology for a HI transition, aborting\")\n",
      "/home/guillaume/miniconda3/envs/py37/lib/python3.7/site-packages/tyssue-0.3.3rc1-py3.7-linux-x86_64.egg/tyssue/topology/bulk_topology.py:416: UserWarning: Invalid topology for a HI transition, aborting\n",
      "  warnings.warn(\"Invalid topology for a HI transition, aborting\")\n",
      "/home/guillaume/miniconda3/envs/py37/lib/python3.7/site-packages/tyssue-0.3.3rc1-py3.7-linux-x86_64.egg/tyssue/topology/bulk_topology.py:416: UserWarning: Invalid topology for a HI transition, aborting\n",
      "  warnings.warn(\"Invalid topology for a HI transition, aborting\")\n",
      "/home/guillaume/miniconda3/envs/py37/lib/python3.7/site-packages/tyssue-0.3.3rc1-py3.7-linux-x86_64.egg/tyssue/topology/bulk_topology.py:416: UserWarning: Invalid topology for a HI transition, aborting\n",
      "  warnings.warn(\"Invalid topology for a HI transition, aborting\")\n",
      "/home/guillaume/miniconda3/envs/py37/lib/python3.7/site-packages/tyssue-0.3.3rc1-py3.7-linux-x86_64.egg/tyssue/topology/bulk_topology.py:416: UserWarning: Invalid topology for a HI transition, aborting\n",
      "  warnings.warn(\"Invalid topology for a HI transition, aborting\")\n",
      "/home/guillaume/miniconda3/envs/py37/lib/python3.7/site-packages/tyssue-0.3.3rc1-py3.7-linux-x86_64.egg/tyssue/topology/bulk_topology.py:416: UserWarning: Invalid topology for a HI transition, aborting\n",
      "  warnings.warn(\"Invalid topology for a HI transition, aborting\")\n",
      "/home/guillaume/miniconda3/envs/py37/lib/python3.7/site-packages/tyssue-0.3.3rc1-py3.7-linux-x86_64.egg/tyssue/topology/bulk_topology.py:416: UserWarning: Invalid topology for a HI transition, aborting\n",
      "  warnings.warn(\"Invalid topology for a HI transition, aborting\")\n",
      "Edge 353 has adjacent triangular faces can't perform IH transition, aborting\n"
     ]
    },
    {
     "name": "stdout",
     "output_type": "stream",
     "text": [
      "out T3 changed buffer\n",
      "T3\n"
     ]
    },
    {
     "name": "stderr",
     "output_type": "stream",
     "text": [
      "Edge 354 has adjacent triangular faces can't perform IH transition, aborting\n",
      "Edge 353 has adjacent triangular faces can't perform IH transition, aborting\n",
      "Edge 355 is not a valid junction to perform IH transition, aborting\n",
      "Edge 353 has adjacent triangular faces can't perform IH transition, aborting\n",
      "Edge 355 is not a valid junction to perform IH transition, aborting\n",
      "Edge 354 has adjacent triangular faces can't perform IH transition, aborting\n",
      "Edge 353 has adjacent triangular faces can't perform IH transition, aborting\n",
      "Edge 354 has adjacent triangular faces can't perform IH transition, aborting\n",
      "Edge 354 has adjacent triangular faces can't perform IH transition, aborting\n",
      "Edge 354 has adjacent triangular faces can't perform IH transition, aborting\n",
      "/home/guillaume/miniconda3/envs/py37/lib/python3.7/site-packages/tyssue-0.3.3rc1-py3.7-linux-x86_64.egg/tyssue/topology/bulk_topology.py:416: UserWarning: Invalid topology for a HI transition, aborting\n",
      "  warnings.warn(\"Invalid topology for a HI transition, aborting\")\n"
     ]
    },
    {
     "name": "stdout",
     "output_type": "stream",
     "text": [
      "out T1 changed buffer\n",
      "T1\n"
     ]
    },
    {
     "name": "stderr",
     "output_type": "stream",
     "text": [
      "/home/guillaume/miniconda3/envs/py37/lib/python3.7/site-packages/tyssue-0.3.3rc1-py3.7-linux-x86_64.egg/tyssue/topology/bulk_topology.py:416: UserWarning: Invalid topology for a HI transition, aborting\n",
      "  warnings.warn(\"Invalid topology for a HI transition, aborting\")\n",
      "/home/guillaume/miniconda3/envs/py37/lib/python3.7/site-packages/tyssue-0.3.3rc1-py3.7-linux-x86_64.egg/tyssue/topology/bulk_topology.py:416: UserWarning: Invalid topology for a HI transition, aborting\n",
      "  warnings.warn(\"Invalid topology for a HI transition, aborting\")\n",
      "/home/guillaume/miniconda3/envs/py37/lib/python3.7/site-packages/tyssue-0.3.3rc1-py3.7-linux-x86_64.egg/tyssue/topology/bulk_topology.py:416: UserWarning: Invalid topology for a HI transition, aborting\n",
      "  warnings.warn(\"Invalid topology for a HI transition, aborting\")\n",
      "/home/guillaume/miniconda3/envs/py37/lib/python3.7/site-packages/tyssue-0.3.3rc1-py3.7-linux-x86_64.egg/tyssue/topology/bulk_topology.py:416: UserWarning: Invalid topology for a HI transition, aborting\n",
      "  warnings.warn(\"Invalid topology for a HI transition, aborting\")\n",
      "/home/guillaume/miniconda3/envs/py37/lib/python3.7/site-packages/tyssue-0.3.3rc1-py3.7-linux-x86_64.egg/tyssue/topology/bulk_topology.py:416: UserWarning: Invalid topology for a HI transition, aborting\n",
      "  warnings.warn(\"Invalid topology for a HI transition, aborting\")\n",
      "/home/guillaume/miniconda3/envs/py37/lib/python3.7/site-packages/tyssue-0.3.3rc1-py3.7-linux-x86_64.egg/tyssue/topology/bulk_topology.py:416: UserWarning: Invalid topology for a HI transition, aborting\n",
      "  warnings.warn(\"Invalid topology for a HI transition, aborting\")\n",
      "/home/guillaume/miniconda3/envs/py37/lib/python3.7/site-packages/tyssue-0.3.3rc1-py3.7-linux-x86_64.egg/tyssue/topology/bulk_topology.py:416: UserWarning: Invalid topology for a HI transition, aborting\n",
      "  warnings.warn(\"Invalid topology for a HI transition, aborting\")\n",
      "/home/guillaume/miniconda3/envs/py37/lib/python3.7/site-packages/tyssue-0.3.3rc1-py3.7-linux-x86_64.egg/tyssue/topology/bulk_topology.py:416: UserWarning: Invalid topology for a HI transition, aborting\n",
      "  warnings.warn(\"Invalid topology for a HI transition, aborting\")\n",
      "/home/guillaume/miniconda3/envs/py37/lib/python3.7/site-packages/tyssue-0.3.3rc1-py3.7-linux-x86_64.egg/tyssue/topology/bulk_topology.py:416: UserWarning: Invalid topology for a HI transition, aborting\n",
      "  warnings.warn(\"Invalid topology for a HI transition, aborting\")\n",
      "/home/guillaume/miniconda3/envs/py37/lib/python3.7/site-packages/tyssue-0.3.3rc1-py3.7-linux-x86_64.egg/tyssue/topology/bulk_topology.py:416: UserWarning: Invalid topology for a HI transition, aborting\n",
      "  warnings.warn(\"Invalid topology for a HI transition, aborting\")\n",
      "Edge 355 is not a valid junction to perform IH transition, aborting\n"
     ]
    },
    {
     "name": "stdout",
     "output_type": "stream",
     "text": [
      "out T3 changed buffer\n",
      "T3\n"
     ]
    },
    {
     "name": "stderr",
     "output_type": "stream",
     "text": [
      "Edge 353 has adjacent triangular faces can't perform IH transition, aborting\n",
      "Edge 353 has adjacent triangular faces can't perform IH transition, aborting\n",
      "Edge 353 has adjacent triangular faces can't perform IH transition, aborting\n",
      "Edge 353 has adjacent triangular faces can't perform IH transition, aborting\n",
      "Edge 353 has adjacent triangular faces can't perform IH transition, aborting\n",
      "Edge 355 is not a valid junction to perform IH transition, aborting\n",
      "Edge 354 has adjacent triangular faces can't perform IH transition, aborting\n",
      "Edge 355 is not a valid junction to perform IH transition, aborting\n",
      "Edge 354 has adjacent triangular faces can't perform IH transition, aborting\n",
      "Edge 353 has adjacent triangular faces can't perform IH transition, aborting\n",
      "/home/guillaume/miniconda3/envs/py37/lib/python3.7/site-packages/tyssue-0.3.3rc1-py3.7-linux-x86_64.egg/tyssue/topology/bulk_topology.py:416: UserWarning: Invalid topology for a HI transition, aborting\n",
      "  warnings.warn(\"Invalid topology for a HI transition, aborting\")\n"
     ]
    },
    {
     "name": "stdout",
     "output_type": "stream",
     "text": [
      "out T1 changed buffer\n",
      "T1\n"
     ]
    },
    {
     "name": "stderr",
     "output_type": "stream",
     "text": [
      "/home/guillaume/miniconda3/envs/py37/lib/python3.7/site-packages/tyssue-0.3.3rc1-py3.7-linux-x86_64.egg/tyssue/topology/bulk_topology.py:416: UserWarning: Invalid topology for a HI transition, aborting\n",
      "  warnings.warn(\"Invalid topology for a HI transition, aborting\")\n",
      "/home/guillaume/miniconda3/envs/py37/lib/python3.7/site-packages/tyssue-0.3.3rc1-py3.7-linux-x86_64.egg/tyssue/topology/bulk_topology.py:416: UserWarning: Invalid topology for a HI transition, aborting\n",
      "  warnings.warn(\"Invalid topology for a HI transition, aborting\")\n",
      "/home/guillaume/miniconda3/envs/py37/lib/python3.7/site-packages/tyssue-0.3.3rc1-py3.7-linux-x86_64.egg/tyssue/topology/bulk_topology.py:416: UserWarning: Invalid topology for a HI transition, aborting\n",
      "  warnings.warn(\"Invalid topology for a HI transition, aborting\")\n",
      "/home/guillaume/miniconda3/envs/py37/lib/python3.7/site-packages/tyssue-0.3.3rc1-py3.7-linux-x86_64.egg/tyssue/topology/bulk_topology.py:416: UserWarning: Invalid topology for a HI transition, aborting\n",
      "  warnings.warn(\"Invalid topology for a HI transition, aborting\")\n",
      "/home/guillaume/miniconda3/envs/py37/lib/python3.7/site-packages/tyssue-0.3.3rc1-py3.7-linux-x86_64.egg/tyssue/topology/bulk_topology.py:416: UserWarning: Invalid topology for a HI transition, aborting\n",
      "  warnings.warn(\"Invalid topology for a HI transition, aborting\")\n",
      "/home/guillaume/miniconda3/envs/py37/lib/python3.7/site-packages/tyssue-0.3.3rc1-py3.7-linux-x86_64.egg/tyssue/topology/bulk_topology.py:416: UserWarning: Invalid topology for a HI transition, aborting\n",
      "  warnings.warn(\"Invalid topology for a HI transition, aborting\")\n",
      "/home/guillaume/miniconda3/envs/py37/lib/python3.7/site-packages/tyssue-0.3.3rc1-py3.7-linux-x86_64.egg/tyssue/topology/bulk_topology.py:416: UserWarning: Invalid topology for a HI transition, aborting\n",
      "  warnings.warn(\"Invalid topology for a HI transition, aborting\")\n",
      "/home/guillaume/miniconda3/envs/py37/lib/python3.7/site-packages/tyssue-0.3.3rc1-py3.7-linux-x86_64.egg/tyssue/topology/bulk_topology.py:416: UserWarning: Invalid topology for a HI transition, aborting\n",
      "  warnings.warn(\"Invalid topology for a HI transition, aborting\")\n",
      "/home/guillaume/miniconda3/envs/py37/lib/python3.7/site-packages/tyssue-0.3.3rc1-py3.7-linux-x86_64.egg/tyssue/topology/bulk_topology.py:416: UserWarning: Invalid topology for a HI transition, aborting\n",
      "  warnings.warn(\"Invalid topology for a HI transition, aborting\")\n",
      "/home/guillaume/miniconda3/envs/py37/lib/python3.7/site-packages/tyssue-0.3.3rc1-py3.7-linux-x86_64.egg/tyssue/topology/bulk_topology.py:416: UserWarning: Invalid topology for a HI transition, aborting\n",
      "  warnings.warn(\"Invalid topology for a HI transition, aborting\")\n",
      "Edge 354 has adjacent triangular faces can't perform IH transition, aborting\n"
     ]
    },
    {
     "name": "stdout",
     "output_type": "stream",
     "text": [
      "out T3 changed buffer\n",
      "T3\n"
     ]
    },
    {
     "name": "stderr",
     "output_type": "stream",
     "text": [
      "Edge 354 has adjacent triangular faces can't perform IH transition, aborting\n",
      "Edge 354 has adjacent triangular faces can't perform IH transition, aborting\n",
      "Edge 355 is not a valid junction to perform IH transition, aborting\n",
      "Edge 353 has adjacent triangular faces can't perform IH transition, aborting\n",
      "Edge 353 has adjacent triangular faces can't perform IH transition, aborting\n",
      "Edge 355 is not a valid junction to perform IH transition, aborting\n",
      "Edge 353 has adjacent triangular faces can't perform IH transition, aborting\n",
      "Edge 355 is not a valid junction to perform IH transition, aborting\n",
      "Edge 353 has adjacent triangular faces can't perform IH transition, aborting\n",
      "Edge 353 has adjacent triangular faces can't perform IH transition, aborting\n",
      "/home/guillaume/miniconda3/envs/py37/lib/python3.7/site-packages/tyssue-0.3.3rc1-py3.7-linux-x86_64.egg/tyssue/topology/bulk_topology.py:416: UserWarning: Invalid topology for a HI transition, aborting\n",
      "  warnings.warn(\"Invalid topology for a HI transition, aborting\")\n"
     ]
    },
    {
     "name": "stdout",
     "output_type": "stream",
     "text": [
      "out T1 changed buffer\n",
      "T1\n"
     ]
    },
    {
     "name": "stderr",
     "output_type": "stream",
     "text": [
      "/home/guillaume/miniconda3/envs/py37/lib/python3.7/site-packages/tyssue-0.3.3rc1-py3.7-linux-x86_64.egg/tyssue/topology/bulk_topology.py:416: UserWarning: Invalid topology for a HI transition, aborting\n",
      "  warnings.warn(\"Invalid topology for a HI transition, aborting\")\n",
      "/home/guillaume/miniconda3/envs/py37/lib/python3.7/site-packages/tyssue-0.3.3rc1-py3.7-linux-x86_64.egg/tyssue/topology/bulk_topology.py:416: UserWarning: Invalid topology for a HI transition, aborting\n",
      "  warnings.warn(\"Invalid topology for a HI transition, aborting\")\n",
      "/home/guillaume/miniconda3/envs/py37/lib/python3.7/site-packages/tyssue-0.3.3rc1-py3.7-linux-x86_64.egg/tyssue/topology/bulk_topology.py:416: UserWarning: Invalid topology for a HI transition, aborting\n",
      "  warnings.warn(\"Invalid topology for a HI transition, aborting\")\n",
      "/home/guillaume/miniconda3/envs/py37/lib/python3.7/site-packages/tyssue-0.3.3rc1-py3.7-linux-x86_64.egg/tyssue/topology/bulk_topology.py:416: UserWarning: Invalid topology for a HI transition, aborting\n",
      "  warnings.warn(\"Invalid topology for a HI transition, aborting\")\n",
      "/home/guillaume/miniconda3/envs/py37/lib/python3.7/site-packages/tyssue-0.3.3rc1-py3.7-linux-x86_64.egg/tyssue/topology/bulk_topology.py:416: UserWarning: Invalid topology for a HI transition, aborting\n",
      "  warnings.warn(\"Invalid topology for a HI transition, aborting\")\n",
      "/home/guillaume/miniconda3/envs/py37/lib/python3.7/site-packages/tyssue-0.3.3rc1-py3.7-linux-x86_64.egg/tyssue/topology/bulk_topology.py:416: UserWarning: Invalid topology for a HI transition, aborting\n",
      "  warnings.warn(\"Invalid topology for a HI transition, aborting\")\n",
      "/home/guillaume/miniconda3/envs/py37/lib/python3.7/site-packages/tyssue-0.3.3rc1-py3.7-linux-x86_64.egg/tyssue/topology/bulk_topology.py:416: UserWarning: Invalid topology for a HI transition, aborting\n",
      "  warnings.warn(\"Invalid topology for a HI transition, aborting\")\n",
      "/home/guillaume/miniconda3/envs/py37/lib/python3.7/site-packages/tyssue-0.3.3rc1-py3.7-linux-x86_64.egg/tyssue/topology/bulk_topology.py:416: UserWarning: Invalid topology for a HI transition, aborting\n",
      "  warnings.warn(\"Invalid topology for a HI transition, aborting\")\n",
      "/home/guillaume/miniconda3/envs/py37/lib/python3.7/site-packages/tyssue-0.3.3rc1-py3.7-linux-x86_64.egg/tyssue/topology/bulk_topology.py:416: UserWarning: Invalid topology for a HI transition, aborting\n",
      "  warnings.warn(\"Invalid topology for a HI transition, aborting\")\n",
      "/home/guillaume/miniconda3/envs/py37/lib/python3.7/site-packages/tyssue-0.3.3rc1-py3.7-linux-x86_64.egg/tyssue/topology/bulk_topology.py:416: UserWarning: Invalid topology for a HI transition, aborting\n",
      "  warnings.warn(\"Invalid topology for a HI transition, aborting\")\n",
      "Edge 353 has adjacent triangular faces can't perform IH transition, aborting\n"
     ]
    },
    {
     "name": "stdout",
     "output_type": "stream",
     "text": [
      "out T3 changed buffer\n",
      "T3\n"
     ]
    },
    {
     "name": "stderr",
     "output_type": "stream",
     "text": [
      "Edge 355 is not a valid junction to perform IH transition, aborting\n",
      "Edge 354 has adjacent triangular faces can't perform IH transition, aborting\n",
      "Edge 354 has adjacent triangular faces can't perform IH transition, aborting\n",
      "Edge 354 has adjacent triangular faces can't perform IH transition, aborting\n",
      "Edge 353 has adjacent triangular faces can't perform IH transition, aborting\n",
      "Edge 353 has adjacent triangular faces can't perform IH transition, aborting\n",
      "Edge 355 is not a valid junction to perform IH transition, aborting\n",
      "Edge 354 has adjacent triangular faces can't perform IH transition, aborting\n",
      "Edge 353 has adjacent triangular faces can't perform IH transition, aborting\n",
      "Edge 353 has adjacent triangular faces can't perform IH transition, aborting\n",
      "/home/guillaume/miniconda3/envs/py37/lib/python3.7/site-packages/tyssue-0.3.3rc1-py3.7-linux-x86_64.egg/tyssue/topology/bulk_topology.py:416: UserWarning: Invalid topology for a HI transition, aborting\n",
      "  warnings.warn(\"Invalid topology for a HI transition, aborting\")\n"
     ]
    },
    {
     "name": "stdout",
     "output_type": "stream",
     "text": [
      "out T1 changed buffer\n",
      "T1\n"
     ]
    },
    {
     "name": "stderr",
     "output_type": "stream",
     "text": [
      "/home/guillaume/miniconda3/envs/py37/lib/python3.7/site-packages/tyssue-0.3.3rc1-py3.7-linux-x86_64.egg/tyssue/topology/bulk_topology.py:416: UserWarning: Invalid topology for a HI transition, aborting\n",
      "  warnings.warn(\"Invalid topology for a HI transition, aborting\")\n",
      "/home/guillaume/miniconda3/envs/py37/lib/python3.7/site-packages/tyssue-0.3.3rc1-py3.7-linux-x86_64.egg/tyssue/topology/bulk_topology.py:416: UserWarning: Invalid topology for a HI transition, aborting\n",
      "  warnings.warn(\"Invalid topology for a HI transition, aborting\")\n",
      "/home/guillaume/miniconda3/envs/py37/lib/python3.7/site-packages/tyssue-0.3.3rc1-py3.7-linux-x86_64.egg/tyssue/topology/bulk_topology.py:416: UserWarning: Invalid topology for a HI transition, aborting\n",
      "  warnings.warn(\"Invalid topology for a HI transition, aborting\")\n",
      "/home/guillaume/miniconda3/envs/py37/lib/python3.7/site-packages/tyssue-0.3.3rc1-py3.7-linux-x86_64.egg/tyssue/topology/bulk_topology.py:416: UserWarning: Invalid topology for a HI transition, aborting\n",
      "  warnings.warn(\"Invalid topology for a HI transition, aborting\")\n",
      "/home/guillaume/miniconda3/envs/py37/lib/python3.7/site-packages/tyssue-0.3.3rc1-py3.7-linux-x86_64.egg/tyssue/topology/bulk_topology.py:416: UserWarning: Invalid topology for a HI transition, aborting\n",
      "  warnings.warn(\"Invalid topology for a HI transition, aborting\")\n",
      "/home/guillaume/miniconda3/envs/py37/lib/python3.7/site-packages/tyssue-0.3.3rc1-py3.7-linux-x86_64.egg/tyssue/topology/bulk_topology.py:416: UserWarning: Invalid topology for a HI transition, aborting\n",
      "  warnings.warn(\"Invalid topology for a HI transition, aborting\")\n",
      "/home/guillaume/miniconda3/envs/py37/lib/python3.7/site-packages/tyssue-0.3.3rc1-py3.7-linux-x86_64.egg/tyssue/topology/bulk_topology.py:416: UserWarning: Invalid topology for a HI transition, aborting\n",
      "  warnings.warn(\"Invalid topology for a HI transition, aborting\")\n",
      "/home/guillaume/miniconda3/envs/py37/lib/python3.7/site-packages/tyssue-0.3.3rc1-py3.7-linux-x86_64.egg/tyssue/topology/bulk_topology.py:416: UserWarning: Invalid topology for a HI transition, aborting\n",
      "  warnings.warn(\"Invalid topology for a HI transition, aborting\")\n",
      "/home/guillaume/miniconda3/envs/py37/lib/python3.7/site-packages/tyssue-0.3.3rc1-py3.7-linux-x86_64.egg/tyssue/topology/bulk_topology.py:416: UserWarning: Invalid topology for a HI transition, aborting\n",
      "  warnings.warn(\"Invalid topology for a HI transition, aborting\")\n",
      "/home/guillaume/miniconda3/envs/py37/lib/python3.7/site-packages/tyssue-0.3.3rc1-py3.7-linux-x86_64.egg/tyssue/topology/bulk_topology.py:416: UserWarning: Invalid topology for a HI transition, aborting\n",
      "  warnings.warn(\"Invalid topology for a HI transition, aborting\")\n",
      "Edge 354 has adjacent triangular faces can't perform IH transition, aborting\n"
     ]
    },
    {
     "name": "stdout",
     "output_type": "stream",
     "text": [
      "out T3 changed buffer\n",
      "T3\n"
     ]
    },
    {
     "name": "stderr",
     "output_type": "stream",
     "text": [
      "Edge 354 has adjacent triangular faces can't perform IH transition, aborting\n",
      "Edge 354 has adjacent triangular faces can't perform IH transition, aborting\n",
      "Edge 353 has adjacent triangular faces can't perform IH transition, aborting\n",
      "Edge 355 is not a valid junction to perform IH transition, aborting\n",
      "Edge 354 has adjacent triangular faces can't perform IH transition, aborting\n",
      "Edge 353 has adjacent triangular faces can't perform IH transition, aborting\n",
      "Edge 353 has adjacent triangular faces can't perform IH transition, aborting\n",
      "Edge 355 is not a valid junction to perform IH transition, aborting\n",
      "Edge 354 has adjacent triangular faces can't perform IH transition, aborting\n",
      "Edge 354 has adjacent triangular faces can't perform IH transition, aborting\n",
      "/home/guillaume/miniconda3/envs/py37/lib/python3.7/site-packages/tyssue-0.3.3rc1-py3.7-linux-x86_64.egg/tyssue/topology/bulk_topology.py:416: UserWarning: Invalid topology for a HI transition, aborting\n",
      "  warnings.warn(\"Invalid topology for a HI transition, aborting\")\n"
     ]
    },
    {
     "name": "stdout",
     "output_type": "stream",
     "text": [
      "out T1 changed buffer\n",
      "T1\n"
     ]
    },
    {
     "name": "stderr",
     "output_type": "stream",
     "text": [
      "/home/guillaume/miniconda3/envs/py37/lib/python3.7/site-packages/tyssue-0.3.3rc1-py3.7-linux-x86_64.egg/tyssue/topology/bulk_topology.py:416: UserWarning: Invalid topology for a HI transition, aborting\n",
      "  warnings.warn(\"Invalid topology for a HI transition, aborting\")\n",
      "/home/guillaume/miniconda3/envs/py37/lib/python3.7/site-packages/tyssue-0.3.3rc1-py3.7-linux-x86_64.egg/tyssue/topology/bulk_topology.py:416: UserWarning: Invalid topology for a HI transition, aborting\n",
      "  warnings.warn(\"Invalid topology for a HI transition, aborting\")\n",
      "/home/guillaume/miniconda3/envs/py37/lib/python3.7/site-packages/tyssue-0.3.3rc1-py3.7-linux-x86_64.egg/tyssue/topology/bulk_topology.py:416: UserWarning: Invalid topology for a HI transition, aborting\n",
      "  warnings.warn(\"Invalid topology for a HI transition, aborting\")\n",
      "/home/guillaume/miniconda3/envs/py37/lib/python3.7/site-packages/tyssue-0.3.3rc1-py3.7-linux-x86_64.egg/tyssue/topology/bulk_topology.py:416: UserWarning: Invalid topology for a HI transition, aborting\n",
      "  warnings.warn(\"Invalid topology for a HI transition, aborting\")\n",
      "/home/guillaume/miniconda3/envs/py37/lib/python3.7/site-packages/tyssue-0.3.3rc1-py3.7-linux-x86_64.egg/tyssue/topology/bulk_topology.py:416: UserWarning: Invalid topology for a HI transition, aborting\n",
      "  warnings.warn(\"Invalid topology for a HI transition, aborting\")\n",
      "/home/guillaume/miniconda3/envs/py37/lib/python3.7/site-packages/tyssue-0.3.3rc1-py3.7-linux-x86_64.egg/tyssue/topology/bulk_topology.py:416: UserWarning: Invalid topology for a HI transition, aborting\n",
      "  warnings.warn(\"Invalid topology for a HI transition, aborting\")\n",
      "/home/guillaume/miniconda3/envs/py37/lib/python3.7/site-packages/tyssue-0.3.3rc1-py3.7-linux-x86_64.egg/tyssue/topology/bulk_topology.py:416: UserWarning: Invalid topology for a HI transition, aborting\n",
      "  warnings.warn(\"Invalid topology for a HI transition, aborting\")\n",
      "/home/guillaume/miniconda3/envs/py37/lib/python3.7/site-packages/tyssue-0.3.3rc1-py3.7-linux-x86_64.egg/tyssue/topology/bulk_topology.py:416: UserWarning: Invalid topology for a HI transition, aborting\n",
      "  warnings.warn(\"Invalid topology for a HI transition, aborting\")\n",
      "/home/guillaume/miniconda3/envs/py37/lib/python3.7/site-packages/tyssue-0.3.3rc1-py3.7-linux-x86_64.egg/tyssue/topology/bulk_topology.py:416: UserWarning: Invalid topology for a HI transition, aborting\n",
      "  warnings.warn(\"Invalid topology for a HI transition, aborting\")\n",
      "/home/guillaume/miniconda3/envs/py37/lib/python3.7/site-packages/tyssue-0.3.3rc1-py3.7-linux-x86_64.egg/tyssue/topology/bulk_topology.py:416: UserWarning: Invalid topology for a HI transition, aborting\n",
      "  warnings.warn(\"Invalid topology for a HI transition, aborting\")\n",
      "Edge 353 has adjacent triangular faces can't perform IH transition, aborting\n"
     ]
    },
    {
     "name": "stdout",
     "output_type": "stream",
     "text": [
      "out T3 changed buffer\n",
      "T3\n"
     ]
    },
    {
     "name": "stderr",
     "output_type": "stream",
     "text": [
      "Edge 354 has adjacent triangular faces can't perform IH transition, aborting\n",
      "Edge 355 is not a valid junction to perform IH transition, aborting\n",
      "Edge 354 has adjacent triangular faces can't perform IH transition, aborting\n",
      "Edge 354 has adjacent triangular faces can't perform IH transition, aborting\n",
      "Edge 353 has adjacent triangular faces can't perform IH transition, aborting\n",
      "Edge 353 has adjacent triangular faces can't perform IH transition, aborting\n",
      "Edge 355 is not a valid junction to perform IH transition, aborting\n",
      "Edge 353 has adjacent triangular faces can't perform IH transition, aborting\n",
      "Edge 355 is not a valid junction to perform IH transition, aborting\n",
      "Edge 353 has adjacent triangular faces can't perform IH transition, aborting\n",
      "/home/guillaume/miniconda3/envs/py37/lib/python3.7/site-packages/tyssue-0.3.3rc1-py3.7-linux-x86_64.egg/tyssue/topology/bulk_topology.py:416: UserWarning: Invalid topology for a HI transition, aborting\n",
      "  warnings.warn(\"Invalid topology for a HI transition, aborting\")\n"
     ]
    },
    {
     "name": "stdout",
     "output_type": "stream",
     "text": [
      "out T1 changed buffer\n",
      "T1\n"
     ]
    },
    {
     "name": "stderr",
     "output_type": "stream",
     "text": [
      "/home/guillaume/miniconda3/envs/py37/lib/python3.7/site-packages/tyssue-0.3.3rc1-py3.7-linux-x86_64.egg/tyssue/topology/bulk_topology.py:416: UserWarning: Invalid topology for a HI transition, aborting\n",
      "  warnings.warn(\"Invalid topology for a HI transition, aborting\")\n",
      "/home/guillaume/miniconda3/envs/py37/lib/python3.7/site-packages/tyssue-0.3.3rc1-py3.7-linux-x86_64.egg/tyssue/topology/bulk_topology.py:416: UserWarning: Invalid topology for a HI transition, aborting\n",
      "  warnings.warn(\"Invalid topology for a HI transition, aborting\")\n",
      "/home/guillaume/miniconda3/envs/py37/lib/python3.7/site-packages/tyssue-0.3.3rc1-py3.7-linux-x86_64.egg/tyssue/topology/bulk_topology.py:416: UserWarning: Invalid topology for a HI transition, aborting\n",
      "  warnings.warn(\"Invalid topology for a HI transition, aborting\")\n",
      "/home/guillaume/miniconda3/envs/py37/lib/python3.7/site-packages/tyssue-0.3.3rc1-py3.7-linux-x86_64.egg/tyssue/topology/bulk_topology.py:416: UserWarning: Invalid topology for a HI transition, aborting\n",
      "  warnings.warn(\"Invalid topology for a HI transition, aborting\")\n",
      "/home/guillaume/miniconda3/envs/py37/lib/python3.7/site-packages/tyssue-0.3.3rc1-py3.7-linux-x86_64.egg/tyssue/topology/bulk_topology.py:416: UserWarning: Invalid topology for a HI transition, aborting\n",
      "  warnings.warn(\"Invalid topology for a HI transition, aborting\")\n",
      "/home/guillaume/miniconda3/envs/py37/lib/python3.7/site-packages/tyssue-0.3.3rc1-py3.7-linux-x86_64.egg/tyssue/topology/bulk_topology.py:416: UserWarning: Invalid topology for a HI transition, aborting\n",
      "  warnings.warn(\"Invalid topology for a HI transition, aborting\")\n",
      "/home/guillaume/miniconda3/envs/py37/lib/python3.7/site-packages/tyssue-0.3.3rc1-py3.7-linux-x86_64.egg/tyssue/topology/bulk_topology.py:416: UserWarning: Invalid topology for a HI transition, aborting\n",
      "  warnings.warn(\"Invalid topology for a HI transition, aborting\")\n",
      "/home/guillaume/miniconda3/envs/py37/lib/python3.7/site-packages/tyssue-0.3.3rc1-py3.7-linux-x86_64.egg/tyssue/topology/bulk_topology.py:416: UserWarning: Invalid topology for a HI transition, aborting\n",
      "  warnings.warn(\"Invalid topology for a HI transition, aborting\")\n",
      "/home/guillaume/miniconda3/envs/py37/lib/python3.7/site-packages/tyssue-0.3.3rc1-py3.7-linux-x86_64.egg/tyssue/topology/bulk_topology.py:416: UserWarning: Invalid topology for a HI transition, aborting\n",
      "  warnings.warn(\"Invalid topology for a HI transition, aborting\")\n",
      "/home/guillaume/miniconda3/envs/py37/lib/python3.7/site-packages/tyssue-0.3.3rc1-py3.7-linux-x86_64.egg/tyssue/topology/bulk_topology.py:416: UserWarning: Invalid topology for a HI transition, aborting\n",
      "  warnings.warn(\"Invalid topology for a HI transition, aborting\")\n",
      "Edge 353 has adjacent triangular faces can't perform IH transition, aborting\n"
     ]
    },
    {
     "name": "stdout",
     "output_type": "stream",
     "text": [
      "out T3 changed buffer\n",
      "T3\n"
     ]
    },
    {
     "name": "stderr",
     "output_type": "stream",
     "text": [
      "Edge 354 has adjacent triangular faces can't perform IH transition, aborting\n",
      "Edge 353 has adjacent triangular faces can't perform IH transition, aborting\n",
      "Edge 354 has adjacent triangular faces can't perform IH transition, aborting\n",
      "Edge 355 is not a valid junction to perform IH transition, aborting\n",
      "Edge 353 has adjacent triangular faces can't perform IH transition, aborting\n",
      "Edge 355 is not a valid junction to perform IH transition, aborting\n",
      "Edge 354 has adjacent triangular faces can't perform IH transition, aborting\n",
      "Edge 354 has adjacent triangular faces can't perform IH transition, aborting\n",
      "Edge 353 has adjacent triangular faces can't perform IH transition, aborting\n",
      "Edge 353 has adjacent triangular faces can't perform IH transition, aborting\n",
      "/home/guillaume/miniconda3/envs/py37/lib/python3.7/site-packages/tyssue-0.3.3rc1-py3.7-linux-x86_64.egg/tyssue/topology/bulk_topology.py:416: UserWarning: Invalid topology for a HI transition, aborting\n",
      "  warnings.warn(\"Invalid topology for a HI transition, aborting\")\n"
     ]
    },
    {
     "name": "stdout",
     "output_type": "stream",
     "text": [
      "out T1 changed buffer\n",
      "T1\n"
     ]
    },
    {
     "name": "stderr",
     "output_type": "stream",
     "text": [
      "/home/guillaume/miniconda3/envs/py37/lib/python3.7/site-packages/tyssue-0.3.3rc1-py3.7-linux-x86_64.egg/tyssue/topology/bulk_topology.py:416: UserWarning: Invalid topology for a HI transition, aborting\n",
      "  warnings.warn(\"Invalid topology for a HI transition, aborting\")\n",
      "/home/guillaume/miniconda3/envs/py37/lib/python3.7/site-packages/tyssue-0.3.3rc1-py3.7-linux-x86_64.egg/tyssue/topology/bulk_topology.py:416: UserWarning: Invalid topology for a HI transition, aborting\n",
      "  warnings.warn(\"Invalid topology for a HI transition, aborting\")\n",
      "/home/guillaume/miniconda3/envs/py37/lib/python3.7/site-packages/tyssue-0.3.3rc1-py3.7-linux-x86_64.egg/tyssue/topology/bulk_topology.py:416: UserWarning: Invalid topology for a HI transition, aborting\n",
      "  warnings.warn(\"Invalid topology for a HI transition, aborting\")\n",
      "/home/guillaume/miniconda3/envs/py37/lib/python3.7/site-packages/tyssue-0.3.3rc1-py3.7-linux-x86_64.egg/tyssue/topology/bulk_topology.py:416: UserWarning: Invalid topology for a HI transition, aborting\n",
      "  warnings.warn(\"Invalid topology for a HI transition, aborting\")\n",
      "/home/guillaume/miniconda3/envs/py37/lib/python3.7/site-packages/tyssue-0.3.3rc1-py3.7-linux-x86_64.egg/tyssue/topology/bulk_topology.py:416: UserWarning: Invalid topology for a HI transition, aborting\n",
      "  warnings.warn(\"Invalid topology for a HI transition, aborting\")\n",
      "/home/guillaume/miniconda3/envs/py37/lib/python3.7/site-packages/tyssue-0.3.3rc1-py3.7-linux-x86_64.egg/tyssue/topology/bulk_topology.py:416: UserWarning: Invalid topology for a HI transition, aborting\n",
      "  warnings.warn(\"Invalid topology for a HI transition, aborting\")\n",
      "/home/guillaume/miniconda3/envs/py37/lib/python3.7/site-packages/tyssue-0.3.3rc1-py3.7-linux-x86_64.egg/tyssue/topology/bulk_topology.py:416: UserWarning: Invalid topology for a HI transition, aborting\n",
      "  warnings.warn(\"Invalid topology for a HI transition, aborting\")\n",
      "/home/guillaume/miniconda3/envs/py37/lib/python3.7/site-packages/tyssue-0.3.3rc1-py3.7-linux-x86_64.egg/tyssue/topology/bulk_topology.py:416: UserWarning: Invalid topology for a HI transition, aborting\n",
      "  warnings.warn(\"Invalid topology for a HI transition, aborting\")\n",
      "/home/guillaume/miniconda3/envs/py37/lib/python3.7/site-packages/tyssue-0.3.3rc1-py3.7-linux-x86_64.egg/tyssue/topology/bulk_topology.py:416: UserWarning: Invalid topology for a HI transition, aborting\n",
      "  warnings.warn(\"Invalid topology for a HI transition, aborting\")\n",
      "/home/guillaume/miniconda3/envs/py37/lib/python3.7/site-packages/tyssue-0.3.3rc1-py3.7-linux-x86_64.egg/tyssue/topology/bulk_topology.py:416: UserWarning: Invalid topology for a HI transition, aborting\n",
      "  warnings.warn(\"Invalid topology for a HI transition, aborting\")\n",
      "Edge 354 has adjacent triangular faces can't perform IH transition, aborting\n"
     ]
    },
    {
     "name": "stdout",
     "output_type": "stream",
     "text": [
      "out T3 changed buffer\n",
      "T3\n"
     ]
    },
    {
     "name": "stderr",
     "output_type": "stream",
     "text": [
      "Edge 354 has adjacent triangular faces can't perform IH transition, aborting\n",
      "Edge 355 is not a valid junction to perform IH transition, aborting\n",
      "Edge 354 has adjacent triangular faces can't perform IH transition, aborting\n",
      "Edge 353 has adjacent triangular faces can't perform IH transition, aborting\n",
      "Edge 354 has adjacent triangular faces can't perform IH transition, aborting\n",
      "Edge 353 has adjacent triangular faces can't perform IH transition, aborting\n",
      "Edge 353 has adjacent triangular faces can't perform IH transition, aborting\n",
      "Edge 354 has adjacent triangular faces can't perform IH transition, aborting\n",
      "Edge 354 has adjacent triangular faces can't perform IH transition, aborting\n",
      "Edge 353 has adjacent triangular faces can't perform IH transition, aborting\n",
      "/home/guillaume/miniconda3/envs/py37/lib/python3.7/site-packages/tyssue-0.3.3rc1-py3.7-linux-x86_64.egg/tyssue/topology/bulk_topology.py:416: UserWarning: Invalid topology for a HI transition, aborting\n",
      "  warnings.warn(\"Invalid topology for a HI transition, aborting\")\n"
     ]
    },
    {
     "name": "stdout",
     "output_type": "stream",
     "text": [
      "out T1 changed buffer\n",
      "T1\n"
     ]
    },
    {
     "name": "stderr",
     "output_type": "stream",
     "text": [
      "/home/guillaume/miniconda3/envs/py37/lib/python3.7/site-packages/tyssue-0.3.3rc1-py3.7-linux-x86_64.egg/tyssue/topology/bulk_topology.py:416: UserWarning: Invalid topology for a HI transition, aborting\n",
      "  warnings.warn(\"Invalid topology for a HI transition, aborting\")\n",
      "/home/guillaume/miniconda3/envs/py37/lib/python3.7/site-packages/tyssue-0.3.3rc1-py3.7-linux-x86_64.egg/tyssue/topology/bulk_topology.py:416: UserWarning: Invalid topology for a HI transition, aborting\n",
      "  warnings.warn(\"Invalid topology for a HI transition, aborting\")\n",
      "/home/guillaume/miniconda3/envs/py37/lib/python3.7/site-packages/tyssue-0.3.3rc1-py3.7-linux-x86_64.egg/tyssue/topology/bulk_topology.py:416: UserWarning: Invalid topology for a HI transition, aborting\n",
      "  warnings.warn(\"Invalid topology for a HI transition, aborting\")\n",
      "/home/guillaume/miniconda3/envs/py37/lib/python3.7/site-packages/tyssue-0.3.3rc1-py3.7-linux-x86_64.egg/tyssue/topology/bulk_topology.py:416: UserWarning: Invalid topology for a HI transition, aborting\n",
      "  warnings.warn(\"Invalid topology for a HI transition, aborting\")\n",
      "/home/guillaume/miniconda3/envs/py37/lib/python3.7/site-packages/tyssue-0.3.3rc1-py3.7-linux-x86_64.egg/tyssue/topology/bulk_topology.py:416: UserWarning: Invalid topology for a HI transition, aborting\n",
      "  warnings.warn(\"Invalid topology for a HI transition, aborting\")\n",
      "/home/guillaume/miniconda3/envs/py37/lib/python3.7/site-packages/tyssue-0.3.3rc1-py3.7-linux-x86_64.egg/tyssue/topology/bulk_topology.py:416: UserWarning: Invalid topology for a HI transition, aborting\n",
      "  warnings.warn(\"Invalid topology for a HI transition, aborting\")\n",
      "/home/guillaume/miniconda3/envs/py37/lib/python3.7/site-packages/tyssue-0.3.3rc1-py3.7-linux-x86_64.egg/tyssue/topology/bulk_topology.py:416: UserWarning: Invalid topology for a HI transition, aborting\n",
      "  warnings.warn(\"Invalid topology for a HI transition, aborting\")\n",
      "/home/guillaume/miniconda3/envs/py37/lib/python3.7/site-packages/tyssue-0.3.3rc1-py3.7-linux-x86_64.egg/tyssue/topology/bulk_topology.py:416: UserWarning: Invalid topology for a HI transition, aborting\n",
      "  warnings.warn(\"Invalid topology for a HI transition, aborting\")\n",
      "/home/guillaume/miniconda3/envs/py37/lib/python3.7/site-packages/tyssue-0.3.3rc1-py3.7-linux-x86_64.egg/tyssue/topology/bulk_topology.py:416: UserWarning: Invalid topology for a HI transition, aborting\n",
      "  warnings.warn(\"Invalid topology for a HI transition, aborting\")\n",
      "/home/guillaume/miniconda3/envs/py37/lib/python3.7/site-packages/tyssue-0.3.3rc1-py3.7-linux-x86_64.egg/tyssue/topology/bulk_topology.py:416: UserWarning: Invalid topology for a HI transition, aborting\n",
      "  warnings.warn(\"Invalid topology for a HI transition, aborting\")\n",
      "Edge 355 is not a valid junction to perform IH transition, aborting\n"
     ]
    },
    {
     "name": "stdout",
     "output_type": "stream",
     "text": [
      "out T3 changed buffer\n",
      "T3\n"
     ]
    },
    {
     "name": "stderr",
     "output_type": "stream",
     "text": [
      "Edge 354 has adjacent triangular faces can't perform IH transition, aborting\n",
      "Edge 353 has adjacent triangular faces can't perform IH transition, aborting\n",
      "Edge 354 has adjacent triangular faces can't perform IH transition, aborting\n",
      "Edge 355 is not a valid junction to perform IH transition, aborting\n",
      "Edge 354 has adjacent triangular faces can't perform IH transition, aborting\n",
      "Edge 353 has adjacent triangular faces can't perform IH transition, aborting\n",
      "Edge 354 has adjacent triangular faces can't perform IH transition, aborting\n",
      "Edge 354 has adjacent triangular faces can't perform IH transition, aborting\n",
      "Edge 353 has adjacent triangular faces can't perform IH transition, aborting\n",
      "Edge 355 is not a valid junction to perform IH transition, aborting\n"
     ]
    },
    {
     "name": "stdout",
     "output_type": "stream",
     "text": [
      "out T1 changed buffer\n",
      "T1\n"
     ]
    },
    {
     "name": "stderr",
     "output_type": "stream",
     "text": [
      "/home/guillaume/miniconda3/envs/py37/lib/python3.7/site-packages/tyssue-0.3.3rc1-py3.7-linux-x86_64.egg/tyssue/topology/bulk_topology.py:416: UserWarning: Invalid topology for a HI transition, aborting\n",
      "  warnings.warn(\"Invalid topology for a HI transition, aborting\")\n",
      "/home/guillaume/miniconda3/envs/py37/lib/python3.7/site-packages/tyssue-0.3.3rc1-py3.7-linux-x86_64.egg/tyssue/topology/bulk_topology.py:416: UserWarning: Invalid topology for a HI transition, aborting\n",
      "  warnings.warn(\"Invalid topology for a HI transition, aborting\")\n",
      "/home/guillaume/miniconda3/envs/py37/lib/python3.7/site-packages/tyssue-0.3.3rc1-py3.7-linux-x86_64.egg/tyssue/topology/bulk_topology.py:416: UserWarning: Invalid topology for a HI transition, aborting\n",
      "  warnings.warn(\"Invalid topology for a HI transition, aborting\")\n",
      "/home/guillaume/miniconda3/envs/py37/lib/python3.7/site-packages/tyssue-0.3.3rc1-py3.7-linux-x86_64.egg/tyssue/topology/bulk_topology.py:416: UserWarning: Invalid topology for a HI transition, aborting\n",
      "  warnings.warn(\"Invalid topology for a HI transition, aborting\")\n",
      "/home/guillaume/miniconda3/envs/py37/lib/python3.7/site-packages/tyssue-0.3.3rc1-py3.7-linux-x86_64.egg/tyssue/topology/bulk_topology.py:416: UserWarning: Invalid topology for a HI transition, aborting\n",
      "  warnings.warn(\"Invalid topology for a HI transition, aborting\")\n",
      "/home/guillaume/miniconda3/envs/py37/lib/python3.7/site-packages/tyssue-0.3.3rc1-py3.7-linux-x86_64.egg/tyssue/topology/bulk_topology.py:416: UserWarning: Invalid topology for a HI transition, aborting\n",
      "  warnings.warn(\"Invalid topology for a HI transition, aborting\")\n",
      "/home/guillaume/miniconda3/envs/py37/lib/python3.7/site-packages/tyssue-0.3.3rc1-py3.7-linux-x86_64.egg/tyssue/topology/bulk_topology.py:416: UserWarning: Invalid topology for a HI transition, aborting\n",
      "  warnings.warn(\"Invalid topology for a HI transition, aborting\")\n",
      "/home/guillaume/miniconda3/envs/py37/lib/python3.7/site-packages/tyssue-0.3.3rc1-py3.7-linux-x86_64.egg/tyssue/topology/bulk_topology.py:416: UserWarning: Invalid topology for a HI transition, aborting\n",
      "  warnings.warn(\"Invalid topology for a HI transition, aborting\")\n",
      "/home/guillaume/miniconda3/envs/py37/lib/python3.7/site-packages/tyssue-0.3.3rc1-py3.7-linux-x86_64.egg/tyssue/topology/bulk_topology.py:416: UserWarning: Invalid topology for a HI transition, aborting\n",
      "  warnings.warn(\"Invalid topology for a HI transition, aborting\")\n",
      "/home/guillaume/miniconda3/envs/py37/lib/python3.7/site-packages/tyssue-0.3.3rc1-py3.7-linux-x86_64.egg/tyssue/topology/bulk_topology.py:416: UserWarning: Invalid topology for a HI transition, aborting\n",
      "  warnings.warn(\"Invalid topology for a HI transition, aborting\")\n",
      "/home/guillaume/miniconda3/envs/py37/lib/python3.7/site-packages/tyssue-0.3.3rc1-py3.7-linux-x86_64.egg/tyssue/topology/bulk_topology.py:416: UserWarning: Invalid topology for a HI transition, aborting\n",
      "  warnings.warn(\"Invalid topology for a HI transition, aborting\")\n",
      "Edge 354 has adjacent triangular faces can't perform IH transition, aborting\n"
     ]
    },
    {
     "name": "stdout",
     "output_type": "stream",
     "text": [
      "out T3 changed buffer\n",
      "T3\n"
     ]
    },
    {
     "name": "stderr",
     "output_type": "stream",
     "text": [
      "Edge 355 is not a valid junction to perform IH transition, aborting\n",
      "Edge 353 has adjacent triangular faces can't perform IH transition, aborting\n",
      "Edge 354 has adjacent triangular faces can't perform IH transition, aborting\n",
      "Edge 354 has adjacent triangular faces can't perform IH transition, aborting\n",
      "Edge 354 has adjacent triangular faces can't perform IH transition, aborting\n",
      "Edge 354 has adjacent triangular faces can't perform IH transition, aborting\n",
      "Edge 353 has adjacent triangular faces can't perform IH transition, aborting\n",
      "Edge 354 has adjacent triangular faces can't perform IH transition, aborting\n",
      "Edge 353 has adjacent triangular faces can't perform IH transition, aborting\n",
      "Edge 354 has adjacent triangular faces can't perform IH transition, aborting\n",
      "/home/guillaume/miniconda3/envs/py37/lib/python3.7/site-packages/tyssue-0.3.3rc1-py3.7-linux-x86_64.egg/tyssue/topology/bulk_topology.py:416: UserWarning: Invalid topology for a HI transition, aborting\n",
      "  warnings.warn(\"Invalid topology for a HI transition, aborting\")\n"
     ]
    },
    {
     "name": "stdout",
     "output_type": "stream",
     "text": [
      "out T1 changed buffer\n",
      "T1\n"
     ]
    },
    {
     "name": "stderr",
     "output_type": "stream",
     "text": [
      "/home/guillaume/miniconda3/envs/py37/lib/python3.7/site-packages/tyssue-0.3.3rc1-py3.7-linux-x86_64.egg/tyssue/topology/bulk_topology.py:416: UserWarning: Invalid topology for a HI transition, aborting\n",
      "  warnings.warn(\"Invalid topology for a HI transition, aborting\")\n",
      "/home/guillaume/miniconda3/envs/py37/lib/python3.7/site-packages/tyssue-0.3.3rc1-py3.7-linux-x86_64.egg/tyssue/topology/bulk_topology.py:416: UserWarning: Invalid topology for a HI transition, aborting\n",
      "  warnings.warn(\"Invalid topology for a HI transition, aborting\")\n",
      "/home/guillaume/miniconda3/envs/py37/lib/python3.7/site-packages/tyssue-0.3.3rc1-py3.7-linux-x86_64.egg/tyssue/topology/bulk_topology.py:416: UserWarning: Invalid topology for a HI transition, aborting\n",
      "  warnings.warn(\"Invalid topology for a HI transition, aborting\")\n",
      "/home/guillaume/miniconda3/envs/py37/lib/python3.7/site-packages/tyssue-0.3.3rc1-py3.7-linux-x86_64.egg/tyssue/topology/bulk_topology.py:416: UserWarning: Invalid topology for a HI transition, aborting\n",
      "  warnings.warn(\"Invalid topology for a HI transition, aborting\")\n",
      "/home/guillaume/miniconda3/envs/py37/lib/python3.7/site-packages/tyssue-0.3.3rc1-py3.7-linux-x86_64.egg/tyssue/topology/bulk_topology.py:416: UserWarning: Invalid topology for a HI transition, aborting\n",
      "  warnings.warn(\"Invalid topology for a HI transition, aborting\")\n",
      "/home/guillaume/miniconda3/envs/py37/lib/python3.7/site-packages/tyssue-0.3.3rc1-py3.7-linux-x86_64.egg/tyssue/topology/bulk_topology.py:416: UserWarning: Invalid topology for a HI transition, aborting\n",
      "  warnings.warn(\"Invalid topology for a HI transition, aborting\")\n",
      "/home/guillaume/miniconda3/envs/py37/lib/python3.7/site-packages/tyssue-0.3.3rc1-py3.7-linux-x86_64.egg/tyssue/topology/bulk_topology.py:416: UserWarning: Invalid topology for a HI transition, aborting\n",
      "  warnings.warn(\"Invalid topology for a HI transition, aborting\")\n",
      "/home/guillaume/miniconda3/envs/py37/lib/python3.7/site-packages/tyssue-0.3.3rc1-py3.7-linux-x86_64.egg/tyssue/topology/bulk_topology.py:416: UserWarning: Invalid topology for a HI transition, aborting\n",
      "  warnings.warn(\"Invalid topology for a HI transition, aborting\")\n",
      "/home/guillaume/miniconda3/envs/py37/lib/python3.7/site-packages/tyssue-0.3.3rc1-py3.7-linux-x86_64.egg/tyssue/topology/bulk_topology.py:416: UserWarning: Invalid topology for a HI transition, aborting\n",
      "  warnings.warn(\"Invalid topology for a HI transition, aborting\")\n",
      "/home/guillaume/miniconda3/envs/py37/lib/python3.7/site-packages/tyssue-0.3.3rc1-py3.7-linux-x86_64.egg/tyssue/topology/bulk_topology.py:416: UserWarning: Invalid topology for a HI transition, aborting\n",
      "  warnings.warn(\"Invalid topology for a HI transition, aborting\")\n",
      "Edge 354 has adjacent triangular faces can't perform IH transition, aborting\n"
     ]
    },
    {
     "name": "stdout",
     "output_type": "stream",
     "text": [
      "out T3 changed buffer\n",
      "T3\n"
     ]
    },
    {
     "name": "stderr",
     "output_type": "stream",
     "text": [
      "Edge 353 has adjacent triangular faces can't perform IH transition, aborting\n",
      "Edge 353 has adjacent triangular faces can't perform IH transition, aborting\n",
      "Edge 354 has adjacent triangular faces can't perform IH transition, aborting\n",
      "Edge 353 has adjacent triangular faces can't perform IH transition, aborting\n",
      "Edge 353 has adjacent triangular faces can't perform IH transition, aborting\n",
      "Edge 355 is not a valid junction to perform IH transition, aborting\n",
      "Edge 354 has adjacent triangular faces can't perform IH transition, aborting\n",
      "Edge 354 has adjacent triangular faces can't perform IH transition, aborting\n",
      "Edge 355 is not a valid junction to perform IH transition, aborting\n",
      "Edge 354 has adjacent triangular faces can't perform IH transition, aborting\n",
      "/home/guillaume/miniconda3/envs/py37/lib/python3.7/site-packages/tyssue-0.3.3rc1-py3.7-linux-x86_64.egg/tyssue/topology/bulk_topology.py:416: UserWarning: Invalid topology for a HI transition, aborting\n",
      "  warnings.warn(\"Invalid topology for a HI transition, aborting\")\n"
     ]
    },
    {
     "name": "stdout",
     "output_type": "stream",
     "text": [
      "out T1 changed buffer\n",
      "T1\n"
     ]
    },
    {
     "name": "stderr",
     "output_type": "stream",
     "text": [
      "/home/guillaume/miniconda3/envs/py37/lib/python3.7/site-packages/tyssue-0.3.3rc1-py3.7-linux-x86_64.egg/tyssue/topology/bulk_topology.py:416: UserWarning: Invalid topology for a HI transition, aborting\n",
      "  warnings.warn(\"Invalid topology for a HI transition, aborting\")\n",
      "/home/guillaume/miniconda3/envs/py37/lib/python3.7/site-packages/tyssue-0.3.3rc1-py3.7-linux-x86_64.egg/tyssue/topology/bulk_topology.py:416: UserWarning: Invalid topology for a HI transition, aborting\n",
      "  warnings.warn(\"Invalid topology for a HI transition, aborting\")\n",
      "/home/guillaume/miniconda3/envs/py37/lib/python3.7/site-packages/tyssue-0.3.3rc1-py3.7-linux-x86_64.egg/tyssue/topology/bulk_topology.py:416: UserWarning: Invalid topology for a HI transition, aborting\n",
      "  warnings.warn(\"Invalid topology for a HI transition, aborting\")\n",
      "/home/guillaume/miniconda3/envs/py37/lib/python3.7/site-packages/tyssue-0.3.3rc1-py3.7-linux-x86_64.egg/tyssue/topology/bulk_topology.py:416: UserWarning: Invalid topology for a HI transition, aborting\n",
      "  warnings.warn(\"Invalid topology for a HI transition, aborting\")\n",
      "/home/guillaume/miniconda3/envs/py37/lib/python3.7/site-packages/tyssue-0.3.3rc1-py3.7-linux-x86_64.egg/tyssue/topology/bulk_topology.py:416: UserWarning: Invalid topology for a HI transition, aborting\n",
      "  warnings.warn(\"Invalid topology for a HI transition, aborting\")\n",
      "/home/guillaume/miniconda3/envs/py37/lib/python3.7/site-packages/tyssue-0.3.3rc1-py3.7-linux-x86_64.egg/tyssue/topology/bulk_topology.py:416: UserWarning: Invalid topology for a HI transition, aborting\n",
      "  warnings.warn(\"Invalid topology for a HI transition, aborting\")\n",
      "/home/guillaume/miniconda3/envs/py37/lib/python3.7/site-packages/tyssue-0.3.3rc1-py3.7-linux-x86_64.egg/tyssue/topology/bulk_topology.py:416: UserWarning: Invalid topology for a HI transition, aborting\n",
      "  warnings.warn(\"Invalid topology for a HI transition, aborting\")\n",
      "/home/guillaume/miniconda3/envs/py37/lib/python3.7/site-packages/tyssue-0.3.3rc1-py3.7-linux-x86_64.egg/tyssue/topology/bulk_topology.py:416: UserWarning: Invalid topology for a HI transition, aborting\n",
      "  warnings.warn(\"Invalid topology for a HI transition, aborting\")\n",
      "/home/guillaume/miniconda3/envs/py37/lib/python3.7/site-packages/tyssue-0.3.3rc1-py3.7-linux-x86_64.egg/tyssue/topology/bulk_topology.py:416: UserWarning: Invalid topology for a HI transition, aborting\n",
      "  warnings.warn(\"Invalid topology for a HI transition, aborting\")\n",
      "/home/guillaume/miniconda3/envs/py37/lib/python3.7/site-packages/tyssue-0.3.3rc1-py3.7-linux-x86_64.egg/tyssue/topology/bulk_topology.py:416: UserWarning: Invalid topology for a HI transition, aborting\n",
      "  warnings.warn(\"Invalid topology for a HI transition, aborting\")\n",
      "Edge 355 is not a valid junction to perform IH transition, aborting\n"
     ]
    },
    {
     "name": "stdout",
     "output_type": "stream",
     "text": [
      "out T3 changed buffer\n",
      "T3\n"
     ]
    },
    {
     "name": "stderr",
     "output_type": "stream",
     "text": [
      "Edge 354 has adjacent triangular faces can't perform IH transition, aborting\n",
      "Edge 354 has adjacent triangular faces can't perform IH transition, aborting\n",
      "Edge 354 has adjacent triangular faces can't perform IH transition, aborting\n",
      "Edge 354 has adjacent triangular faces can't perform IH transition, aborting\n",
      "Edge 355 is not a valid junction to perform IH transition, aborting\n",
      "Edge 354 has adjacent triangular faces can't perform IH transition, aborting\n",
      "Edge 354 has adjacent triangular faces can't perform IH transition, aborting\n",
      "Edge 355 is not a valid junction to perform IH transition, aborting\n",
      "Edge 354 has adjacent triangular faces can't perform IH transition, aborting\n",
      "Edge 355 is not a valid junction to perform IH transition, aborting\n",
      "/home/guillaume/miniconda3/envs/py37/lib/python3.7/site-packages/tyssue-0.3.3rc1-py3.7-linux-x86_64.egg/tyssue/topology/bulk_topology.py:416: UserWarning: Invalid topology for a HI transition, aborting\n",
      "  warnings.warn(\"Invalid topology for a HI transition, aborting\")\n"
     ]
    },
    {
     "name": "stdout",
     "output_type": "stream",
     "text": [
      "out T1 changed buffer\n",
      "T1\n"
     ]
    },
    {
     "name": "stderr",
     "output_type": "stream",
     "text": [
      "/home/guillaume/miniconda3/envs/py37/lib/python3.7/site-packages/tyssue-0.3.3rc1-py3.7-linux-x86_64.egg/tyssue/topology/bulk_topology.py:416: UserWarning: Invalid topology for a HI transition, aborting\n",
      "  warnings.warn(\"Invalid topology for a HI transition, aborting\")\n",
      "/home/guillaume/miniconda3/envs/py37/lib/python3.7/site-packages/tyssue-0.3.3rc1-py3.7-linux-x86_64.egg/tyssue/topology/bulk_topology.py:416: UserWarning: Invalid topology for a HI transition, aborting\n",
      "  warnings.warn(\"Invalid topology for a HI transition, aborting\")\n",
      "/home/guillaume/miniconda3/envs/py37/lib/python3.7/site-packages/tyssue-0.3.3rc1-py3.7-linux-x86_64.egg/tyssue/topology/bulk_topology.py:416: UserWarning: Invalid topology for a HI transition, aborting\n",
      "  warnings.warn(\"Invalid topology for a HI transition, aborting\")\n",
      "/home/guillaume/miniconda3/envs/py37/lib/python3.7/site-packages/tyssue-0.3.3rc1-py3.7-linux-x86_64.egg/tyssue/topology/bulk_topology.py:416: UserWarning: Invalid topology for a HI transition, aborting\n",
      "  warnings.warn(\"Invalid topology for a HI transition, aborting\")\n",
      "/home/guillaume/miniconda3/envs/py37/lib/python3.7/site-packages/tyssue-0.3.3rc1-py3.7-linux-x86_64.egg/tyssue/topology/bulk_topology.py:416: UserWarning: Invalid topology for a HI transition, aborting\n",
      "  warnings.warn(\"Invalid topology for a HI transition, aborting\")\n",
      "/home/guillaume/miniconda3/envs/py37/lib/python3.7/site-packages/tyssue-0.3.3rc1-py3.7-linux-x86_64.egg/tyssue/topology/bulk_topology.py:416: UserWarning: Invalid topology for a HI transition, aborting\n",
      "  warnings.warn(\"Invalid topology for a HI transition, aborting\")\n",
      "/home/guillaume/miniconda3/envs/py37/lib/python3.7/site-packages/tyssue-0.3.3rc1-py3.7-linux-x86_64.egg/tyssue/topology/bulk_topology.py:416: UserWarning: Invalid topology for a HI transition, aborting\n",
      "  warnings.warn(\"Invalid topology for a HI transition, aborting\")\n",
      "/home/guillaume/miniconda3/envs/py37/lib/python3.7/site-packages/tyssue-0.3.3rc1-py3.7-linux-x86_64.egg/tyssue/topology/bulk_topology.py:416: UserWarning: Invalid topology for a HI transition, aborting\n",
      "  warnings.warn(\"Invalid topology for a HI transition, aborting\")\n",
      "/home/guillaume/miniconda3/envs/py37/lib/python3.7/site-packages/tyssue-0.3.3rc1-py3.7-linux-x86_64.egg/tyssue/topology/bulk_topology.py:416: UserWarning: Invalid topology for a HI transition, aborting\n",
      "  warnings.warn(\"Invalid topology for a HI transition, aborting\")\n",
      "/home/guillaume/miniconda3/envs/py37/lib/python3.7/site-packages/tyssue-0.3.3rc1-py3.7-linux-x86_64.egg/tyssue/topology/bulk_topology.py:416: UserWarning: Invalid topology for a HI transition, aborting\n",
      "  warnings.warn(\"Invalid topology for a HI transition, aborting\")\n",
      "Edge 354 has adjacent triangular faces can't perform IH transition, aborting\n"
     ]
    },
    {
     "name": "stdout",
     "output_type": "stream",
     "text": [
      "out T3 changed buffer\n",
      "T3\n"
     ]
    },
    {
     "name": "stderr",
     "output_type": "stream",
     "text": [
      "Edge 353 has adjacent triangular faces can't perform IH transition, aborting\n",
      "Edge 354 has adjacent triangular faces can't perform IH transition, aborting\n",
      "Edge 353 has adjacent triangular faces can't perform IH transition, aborting\n",
      "Edge 354 has adjacent triangular faces can't perform IH transition, aborting\n",
      "Edge 355 is not a valid junction to perform IH transition, aborting\n",
      "Edge 354 has adjacent triangular faces can't perform IH transition, aborting\n",
      "Edge 353 has adjacent triangular faces can't perform IH transition, aborting\n",
      "Edge 354 has adjacent triangular faces can't perform IH transition, aborting\n",
      "Edge 353 has adjacent triangular faces can't perform IH transition, aborting\n",
      "Edge 355 is not a valid junction to perform IH transition, aborting\n",
      "/home/guillaume/miniconda3/envs/py37/lib/python3.7/site-packages/tyssue-0.3.3rc1-py3.7-linux-x86_64.egg/tyssue/topology/bulk_topology.py:416: UserWarning: Invalid topology for a HI transition, aborting\n",
      "  warnings.warn(\"Invalid topology for a HI transition, aborting\")\n"
     ]
    },
    {
     "name": "stdout",
     "output_type": "stream",
     "text": [
      "out T1 changed buffer\n",
      "T1\n"
     ]
    },
    {
     "name": "stderr",
     "output_type": "stream",
     "text": [
      "/home/guillaume/miniconda3/envs/py37/lib/python3.7/site-packages/tyssue-0.3.3rc1-py3.7-linux-x86_64.egg/tyssue/topology/bulk_topology.py:416: UserWarning: Invalid topology for a HI transition, aborting\n",
      "  warnings.warn(\"Invalid topology for a HI transition, aborting\")\n",
      "/home/guillaume/miniconda3/envs/py37/lib/python3.7/site-packages/tyssue-0.3.3rc1-py3.7-linux-x86_64.egg/tyssue/topology/bulk_topology.py:416: UserWarning: Invalid topology for a HI transition, aborting\n",
      "  warnings.warn(\"Invalid topology for a HI transition, aborting\")\n",
      "/home/guillaume/miniconda3/envs/py37/lib/python3.7/site-packages/tyssue-0.3.3rc1-py3.7-linux-x86_64.egg/tyssue/topology/bulk_topology.py:416: UserWarning: Invalid topology for a HI transition, aborting\n",
      "  warnings.warn(\"Invalid topology for a HI transition, aborting\")\n",
      "/home/guillaume/miniconda3/envs/py37/lib/python3.7/site-packages/tyssue-0.3.3rc1-py3.7-linux-x86_64.egg/tyssue/topology/bulk_topology.py:416: UserWarning: Invalid topology for a HI transition, aborting\n",
      "  warnings.warn(\"Invalid topology for a HI transition, aborting\")\n",
      "/home/guillaume/miniconda3/envs/py37/lib/python3.7/site-packages/tyssue-0.3.3rc1-py3.7-linux-x86_64.egg/tyssue/topology/bulk_topology.py:416: UserWarning: Invalid topology for a HI transition, aborting\n",
      "  warnings.warn(\"Invalid topology for a HI transition, aborting\")\n",
      "/home/guillaume/miniconda3/envs/py37/lib/python3.7/site-packages/tyssue-0.3.3rc1-py3.7-linux-x86_64.egg/tyssue/topology/bulk_topology.py:416: UserWarning: Invalid topology for a HI transition, aborting\n",
      "  warnings.warn(\"Invalid topology for a HI transition, aborting\")\n",
      "/home/guillaume/miniconda3/envs/py37/lib/python3.7/site-packages/tyssue-0.3.3rc1-py3.7-linux-x86_64.egg/tyssue/topology/bulk_topology.py:416: UserWarning: Invalid topology for a HI transition, aborting\n",
      "  warnings.warn(\"Invalid topology for a HI transition, aborting\")\n",
      "/home/guillaume/miniconda3/envs/py37/lib/python3.7/site-packages/tyssue-0.3.3rc1-py3.7-linux-x86_64.egg/tyssue/topology/bulk_topology.py:416: UserWarning: Invalid topology for a HI transition, aborting\n",
      "  warnings.warn(\"Invalid topology for a HI transition, aborting\")\n",
      "/home/guillaume/miniconda3/envs/py37/lib/python3.7/site-packages/tyssue-0.3.3rc1-py3.7-linux-x86_64.egg/tyssue/topology/bulk_topology.py:416: UserWarning: Invalid topology for a HI transition, aborting\n",
      "  warnings.warn(\"Invalid topology for a HI transition, aborting\")\n",
      "/home/guillaume/miniconda3/envs/py37/lib/python3.7/site-packages/tyssue-0.3.3rc1-py3.7-linux-x86_64.egg/tyssue/topology/bulk_topology.py:416: UserWarning: Invalid topology for a HI transition, aborting\n",
      "  warnings.warn(\"Invalid topology for a HI transition, aborting\")\n",
      "Edge 354 has adjacent triangular faces can't perform IH transition, aborting\n"
     ]
    },
    {
     "name": "stdout",
     "output_type": "stream",
     "text": [
      "out T3 changed buffer\n",
      "T3\n"
     ]
    },
    {
     "name": "stderr",
     "output_type": "stream",
     "text": [
      "Edge 353 has adjacent triangular faces can't perform IH transition, aborting\n",
      "Edge 354 has adjacent triangular faces can't perform IH transition, aborting\n",
      "Edge 353 has adjacent triangular faces can't perform IH transition, aborting\n",
      "Edge 354 has adjacent triangular faces can't perform IH transition, aborting\n",
      "Edge 355 is not a valid junction to perform IH transition, aborting\n",
      "Edge 353 has adjacent triangular faces can't perform IH transition, aborting\n",
      "Edge 354 has adjacent triangular faces can't perform IH transition, aborting\n",
      "Edge 354 has adjacent triangular faces can't perform IH transition, aborting\n",
      "Edge 353 has adjacent triangular faces can't perform IH transition, aborting\n",
      "Edge 353 has adjacent triangular faces can't perform IH transition, aborting\n",
      "/home/guillaume/miniconda3/envs/py37/lib/python3.7/site-packages/tyssue-0.3.3rc1-py3.7-linux-x86_64.egg/tyssue/topology/bulk_topology.py:416: UserWarning: Invalid topology for a HI transition, aborting\n",
      "  warnings.warn(\"Invalid topology for a HI transition, aborting\")\n"
     ]
    },
    {
     "name": "stdout",
     "output_type": "stream",
     "text": [
      "out T1 changed buffer\n",
      "T1\n"
     ]
    },
    {
     "name": "stderr",
     "output_type": "stream",
     "text": [
      "/home/guillaume/miniconda3/envs/py37/lib/python3.7/site-packages/tyssue-0.3.3rc1-py3.7-linux-x86_64.egg/tyssue/topology/bulk_topology.py:416: UserWarning: Invalid topology for a HI transition, aborting\n",
      "  warnings.warn(\"Invalid topology for a HI transition, aborting\")\n",
      "/home/guillaume/miniconda3/envs/py37/lib/python3.7/site-packages/tyssue-0.3.3rc1-py3.7-linux-x86_64.egg/tyssue/topology/bulk_topology.py:416: UserWarning: Invalid topology for a HI transition, aborting\n",
      "  warnings.warn(\"Invalid topology for a HI transition, aborting\")\n",
      "/home/guillaume/miniconda3/envs/py37/lib/python3.7/site-packages/tyssue-0.3.3rc1-py3.7-linux-x86_64.egg/tyssue/topology/bulk_topology.py:416: UserWarning: Invalid topology for a HI transition, aborting\n",
      "  warnings.warn(\"Invalid topology for a HI transition, aborting\")\n",
      "/home/guillaume/miniconda3/envs/py37/lib/python3.7/site-packages/tyssue-0.3.3rc1-py3.7-linux-x86_64.egg/tyssue/topology/bulk_topology.py:416: UserWarning: Invalid topology for a HI transition, aborting\n",
      "  warnings.warn(\"Invalid topology for a HI transition, aborting\")\n",
      "/home/guillaume/miniconda3/envs/py37/lib/python3.7/site-packages/tyssue-0.3.3rc1-py3.7-linux-x86_64.egg/tyssue/topology/bulk_topology.py:416: UserWarning: Invalid topology for a HI transition, aborting\n",
      "  warnings.warn(\"Invalid topology for a HI transition, aborting\")\n",
      "/home/guillaume/miniconda3/envs/py37/lib/python3.7/site-packages/tyssue-0.3.3rc1-py3.7-linux-x86_64.egg/tyssue/topology/bulk_topology.py:416: UserWarning: Invalid topology for a HI transition, aborting\n",
      "  warnings.warn(\"Invalid topology for a HI transition, aborting\")\n",
      "/home/guillaume/miniconda3/envs/py37/lib/python3.7/site-packages/tyssue-0.3.3rc1-py3.7-linux-x86_64.egg/tyssue/topology/bulk_topology.py:416: UserWarning: Invalid topology for a HI transition, aborting\n",
      "  warnings.warn(\"Invalid topology for a HI transition, aborting\")\n",
      "/home/guillaume/miniconda3/envs/py37/lib/python3.7/site-packages/tyssue-0.3.3rc1-py3.7-linux-x86_64.egg/tyssue/topology/bulk_topology.py:416: UserWarning: Invalid topology for a HI transition, aborting\n",
      "  warnings.warn(\"Invalid topology for a HI transition, aborting\")\n",
      "/home/guillaume/miniconda3/envs/py37/lib/python3.7/site-packages/tyssue-0.3.3rc1-py3.7-linux-x86_64.egg/tyssue/topology/bulk_topology.py:416: UserWarning: Invalid topology for a HI transition, aborting\n",
      "  warnings.warn(\"Invalid topology for a HI transition, aborting\")\n",
      "/home/guillaume/miniconda3/envs/py37/lib/python3.7/site-packages/tyssue-0.3.3rc1-py3.7-linux-x86_64.egg/tyssue/topology/bulk_topology.py:416: UserWarning: Invalid topology for a HI transition, aborting\n",
      "  warnings.warn(\"Invalid topology for a HI transition, aborting\")\n",
      "Edge 354 has adjacent triangular faces can't perform IH transition, aborting\n"
     ]
    },
    {
     "name": "stdout",
     "output_type": "stream",
     "text": [
      "out T3 changed buffer\n",
      "T3\n"
     ]
    },
    {
     "name": "stderr",
     "output_type": "stream",
     "text": [
      "Edge 354 has adjacent triangular faces can't perform IH transition, aborting\n",
      "Edge 353 has adjacent triangular faces can't perform IH transition, aborting\n",
      "Edge 355 is not a valid junction to perform IH transition, aborting\n",
      "Edge 353 has adjacent triangular faces can't perform IH transition, aborting\n",
      "Edge 355 is not a valid junction to perform IH transition, aborting\n",
      "Edge 353 has adjacent triangular faces can't perform IH transition, aborting\n",
      "Edge 353 has adjacent triangular faces can't perform IH transition, aborting\n",
      "Edge 353 has adjacent triangular faces can't perform IH transition, aborting\n",
      "Edge 354 has adjacent triangular faces can't perform IH transition, aborting\n",
      "Edge 353 has adjacent triangular faces can't perform IH transition, aborting\n",
      "/home/guillaume/miniconda3/envs/py37/lib/python3.7/site-packages/tyssue-0.3.3rc1-py3.7-linux-x86_64.egg/tyssue/topology/bulk_topology.py:416: UserWarning: Invalid topology for a HI transition, aborting\n",
      "  warnings.warn(\"Invalid topology for a HI transition, aborting\")\n"
     ]
    },
    {
     "name": "stdout",
     "output_type": "stream",
     "text": [
      "out T1 changed buffer\n",
      "T1\n"
     ]
    },
    {
     "name": "stderr",
     "output_type": "stream",
     "text": [
      "/home/guillaume/miniconda3/envs/py37/lib/python3.7/site-packages/tyssue-0.3.3rc1-py3.7-linux-x86_64.egg/tyssue/topology/bulk_topology.py:416: UserWarning: Invalid topology for a HI transition, aborting\n",
      "  warnings.warn(\"Invalid topology for a HI transition, aborting\")\n",
      "/home/guillaume/miniconda3/envs/py37/lib/python3.7/site-packages/tyssue-0.3.3rc1-py3.7-linux-x86_64.egg/tyssue/topology/bulk_topology.py:416: UserWarning: Invalid topology for a HI transition, aborting\n",
      "  warnings.warn(\"Invalid topology for a HI transition, aborting\")\n",
      "/home/guillaume/miniconda3/envs/py37/lib/python3.7/site-packages/tyssue-0.3.3rc1-py3.7-linux-x86_64.egg/tyssue/topology/bulk_topology.py:416: UserWarning: Invalid topology for a HI transition, aborting\n",
      "  warnings.warn(\"Invalid topology for a HI transition, aborting\")\n",
      "/home/guillaume/miniconda3/envs/py37/lib/python3.7/site-packages/tyssue-0.3.3rc1-py3.7-linux-x86_64.egg/tyssue/topology/bulk_topology.py:416: UserWarning: Invalid topology for a HI transition, aborting\n",
      "  warnings.warn(\"Invalid topology for a HI transition, aborting\")\n",
      "/home/guillaume/miniconda3/envs/py37/lib/python3.7/site-packages/tyssue-0.3.3rc1-py3.7-linux-x86_64.egg/tyssue/topology/bulk_topology.py:416: UserWarning: Invalid topology for a HI transition, aborting\n",
      "  warnings.warn(\"Invalid topology for a HI transition, aborting\")\n",
      "/home/guillaume/miniconda3/envs/py37/lib/python3.7/site-packages/tyssue-0.3.3rc1-py3.7-linux-x86_64.egg/tyssue/topology/bulk_topology.py:416: UserWarning: Invalid topology for a HI transition, aborting\n",
      "  warnings.warn(\"Invalid topology for a HI transition, aborting\")\n",
      "/home/guillaume/miniconda3/envs/py37/lib/python3.7/site-packages/tyssue-0.3.3rc1-py3.7-linux-x86_64.egg/tyssue/topology/bulk_topology.py:416: UserWarning: Invalid topology for a HI transition, aborting\n",
      "  warnings.warn(\"Invalid topology for a HI transition, aborting\")\n",
      "/home/guillaume/miniconda3/envs/py37/lib/python3.7/site-packages/tyssue-0.3.3rc1-py3.7-linux-x86_64.egg/tyssue/topology/bulk_topology.py:416: UserWarning: Invalid topology for a HI transition, aborting\n",
      "  warnings.warn(\"Invalid topology for a HI transition, aborting\")\n",
      "/home/guillaume/miniconda3/envs/py37/lib/python3.7/site-packages/tyssue-0.3.3rc1-py3.7-linux-x86_64.egg/tyssue/topology/bulk_topology.py:416: UserWarning: Invalid topology for a HI transition, aborting\n",
      "  warnings.warn(\"Invalid topology for a HI transition, aborting\")\n",
      "/home/guillaume/miniconda3/envs/py37/lib/python3.7/site-packages/tyssue-0.3.3rc1-py3.7-linux-x86_64.egg/tyssue/topology/bulk_topology.py:416: UserWarning: Invalid topology for a HI transition, aborting\n",
      "  warnings.warn(\"Invalid topology for a HI transition, aborting\")\n",
      "Edge 354 has adjacent triangular faces can't perform IH transition, aborting\n"
     ]
    },
    {
     "name": "stdout",
     "output_type": "stream",
     "text": [
      "out T3 changed buffer\n",
      "T3\n"
     ]
    },
    {
     "name": "stderr",
     "output_type": "stream",
     "text": [
      "Edge 354 has adjacent triangular faces can't perform IH transition, aborting\n",
      "Edge 353 has adjacent triangular faces can't perform IH transition, aborting\n",
      "Edge 354 has adjacent triangular faces can't perform IH transition, aborting\n",
      "Edge 353 has adjacent triangular faces can't perform IH transition, aborting\n",
      "Edge 353 has adjacent triangular faces can't perform IH transition, aborting\n",
      "Edge 353 has adjacent triangular faces can't perform IH transition, aborting\n",
      "Edge 353 has adjacent triangular faces can't perform IH transition, aborting\n",
      "Edge 353 has adjacent triangular faces can't perform IH transition, aborting\n",
      "Edge 354 has adjacent triangular faces can't perform IH transition, aborting\n",
      "Edge 354 has adjacent triangular faces can't perform IH transition, aborting\n",
      "/home/guillaume/miniconda3/envs/py37/lib/python3.7/site-packages/tyssue-0.3.3rc1-py3.7-linux-x86_64.egg/tyssue/topology/bulk_topology.py:416: UserWarning: Invalid topology for a HI transition, aborting\n",
      "  warnings.warn(\"Invalid topology for a HI transition, aborting\")\n"
     ]
    },
    {
     "name": "stdout",
     "output_type": "stream",
     "text": [
      "out T1 changed buffer\n",
      "T1\n"
     ]
    },
    {
     "name": "stderr",
     "output_type": "stream",
     "text": [
      "/home/guillaume/miniconda3/envs/py37/lib/python3.7/site-packages/tyssue-0.3.3rc1-py3.7-linux-x86_64.egg/tyssue/topology/bulk_topology.py:416: UserWarning: Invalid topology for a HI transition, aborting\n",
      "  warnings.warn(\"Invalid topology for a HI transition, aborting\")\n",
      "/home/guillaume/miniconda3/envs/py37/lib/python3.7/site-packages/tyssue-0.3.3rc1-py3.7-linux-x86_64.egg/tyssue/topology/bulk_topology.py:416: UserWarning: Invalid topology for a HI transition, aborting\n",
      "  warnings.warn(\"Invalid topology for a HI transition, aborting\")\n",
      "/home/guillaume/miniconda3/envs/py37/lib/python3.7/site-packages/tyssue-0.3.3rc1-py3.7-linux-x86_64.egg/tyssue/topology/bulk_topology.py:416: UserWarning: Invalid topology for a HI transition, aborting\n",
      "  warnings.warn(\"Invalid topology for a HI transition, aborting\")\n",
      "/home/guillaume/miniconda3/envs/py37/lib/python3.7/site-packages/tyssue-0.3.3rc1-py3.7-linux-x86_64.egg/tyssue/topology/bulk_topology.py:416: UserWarning: Invalid topology for a HI transition, aborting\n",
      "  warnings.warn(\"Invalid topology for a HI transition, aborting\")\n",
      "/home/guillaume/miniconda3/envs/py37/lib/python3.7/site-packages/tyssue-0.3.3rc1-py3.7-linux-x86_64.egg/tyssue/topology/bulk_topology.py:416: UserWarning: Invalid topology for a HI transition, aborting\n",
      "  warnings.warn(\"Invalid topology for a HI transition, aborting\")\n",
      "/home/guillaume/miniconda3/envs/py37/lib/python3.7/site-packages/tyssue-0.3.3rc1-py3.7-linux-x86_64.egg/tyssue/topology/bulk_topology.py:416: UserWarning: Invalid topology for a HI transition, aborting\n",
      "  warnings.warn(\"Invalid topology for a HI transition, aborting\")\n",
      "/home/guillaume/miniconda3/envs/py37/lib/python3.7/site-packages/tyssue-0.3.3rc1-py3.7-linux-x86_64.egg/tyssue/topology/bulk_topology.py:416: UserWarning: Invalid topology for a HI transition, aborting\n",
      "  warnings.warn(\"Invalid topology for a HI transition, aborting\")\n",
      "/home/guillaume/miniconda3/envs/py37/lib/python3.7/site-packages/tyssue-0.3.3rc1-py3.7-linux-x86_64.egg/tyssue/topology/bulk_topology.py:416: UserWarning: Invalid topology for a HI transition, aborting\n",
      "  warnings.warn(\"Invalid topology for a HI transition, aborting\")\n",
      "/home/guillaume/miniconda3/envs/py37/lib/python3.7/site-packages/tyssue-0.3.3rc1-py3.7-linux-x86_64.egg/tyssue/topology/bulk_topology.py:416: UserWarning: Invalid topology for a HI transition, aborting\n",
      "  warnings.warn(\"Invalid topology for a HI transition, aborting\")\n",
      "/home/guillaume/miniconda3/envs/py37/lib/python3.7/site-packages/tyssue-0.3.3rc1-py3.7-linux-x86_64.egg/tyssue/topology/bulk_topology.py:416: UserWarning: Invalid topology for a HI transition, aborting\n",
      "  warnings.warn(\"Invalid topology for a HI transition, aborting\")\n",
      "Edge 354 has adjacent triangular faces can't perform IH transition, aborting\n"
     ]
    },
    {
     "name": "stdout",
     "output_type": "stream",
     "text": [
      "out T3 changed buffer\n",
      "T3\n"
     ]
    },
    {
     "name": "stderr",
     "output_type": "stream",
     "text": [
      "Edge 354 has adjacent triangular faces can't perform IH transition, aborting\n",
      "Edge 353 has adjacent triangular faces can't perform IH transition, aborting\n",
      "Edge 353 has adjacent triangular faces can't perform IH transition, aborting\n",
      "Edge 354 has adjacent triangular faces can't perform IH transition, aborting\n",
      "Edge 354 has adjacent triangular faces can't perform IH transition, aborting\n",
      "Edge 354 has adjacent triangular faces can't perform IH transition, aborting\n",
      "Edge 355 is not a valid junction to perform IH transition, aborting\n",
      "Edge 354 has adjacent triangular faces can't perform IH transition, aborting\n",
      "Edge 353 has adjacent triangular faces can't perform IH transition, aborting\n",
      "Edge 353 has adjacent triangular faces can't perform IH transition, aborting\n",
      "/home/guillaume/miniconda3/envs/py37/lib/python3.7/site-packages/tyssue-0.3.3rc1-py3.7-linux-x86_64.egg/tyssue/topology/bulk_topology.py:416: UserWarning: Invalid topology for a HI transition, aborting\n",
      "  warnings.warn(\"Invalid topology for a HI transition, aborting\")\n"
     ]
    },
    {
     "name": "stdout",
     "output_type": "stream",
     "text": [
      "out T1 changed buffer\n",
      "T1\n"
     ]
    },
    {
     "name": "stderr",
     "output_type": "stream",
     "text": [
      "/home/guillaume/miniconda3/envs/py37/lib/python3.7/site-packages/tyssue-0.3.3rc1-py3.7-linux-x86_64.egg/tyssue/topology/bulk_topology.py:416: UserWarning: Invalid topology for a HI transition, aborting\n",
      "  warnings.warn(\"Invalid topology for a HI transition, aborting\")\n",
      "/home/guillaume/miniconda3/envs/py37/lib/python3.7/site-packages/tyssue-0.3.3rc1-py3.7-linux-x86_64.egg/tyssue/topology/bulk_topology.py:416: UserWarning: Invalid topology for a HI transition, aborting\n",
      "  warnings.warn(\"Invalid topology for a HI transition, aborting\")\n",
      "/home/guillaume/miniconda3/envs/py37/lib/python3.7/site-packages/tyssue-0.3.3rc1-py3.7-linux-x86_64.egg/tyssue/topology/bulk_topology.py:416: UserWarning: Invalid topology for a HI transition, aborting\n",
      "  warnings.warn(\"Invalid topology for a HI transition, aborting\")\n",
      "/home/guillaume/miniconda3/envs/py37/lib/python3.7/site-packages/tyssue-0.3.3rc1-py3.7-linux-x86_64.egg/tyssue/topology/bulk_topology.py:416: UserWarning: Invalid topology for a HI transition, aborting\n",
      "  warnings.warn(\"Invalid topology for a HI transition, aborting\")\n",
      "/home/guillaume/miniconda3/envs/py37/lib/python3.7/site-packages/tyssue-0.3.3rc1-py3.7-linux-x86_64.egg/tyssue/topology/bulk_topology.py:416: UserWarning: Invalid topology for a HI transition, aborting\n",
      "  warnings.warn(\"Invalid topology for a HI transition, aborting\")\n",
      "/home/guillaume/miniconda3/envs/py37/lib/python3.7/site-packages/tyssue-0.3.3rc1-py3.7-linux-x86_64.egg/tyssue/topology/bulk_topology.py:416: UserWarning: Invalid topology for a HI transition, aborting\n",
      "  warnings.warn(\"Invalid topology for a HI transition, aborting\")\n",
      "/home/guillaume/miniconda3/envs/py37/lib/python3.7/site-packages/tyssue-0.3.3rc1-py3.7-linux-x86_64.egg/tyssue/topology/bulk_topology.py:416: UserWarning: Invalid topology for a HI transition, aborting\n",
      "  warnings.warn(\"Invalid topology for a HI transition, aborting\")\n",
      "/home/guillaume/miniconda3/envs/py37/lib/python3.7/site-packages/tyssue-0.3.3rc1-py3.7-linux-x86_64.egg/tyssue/topology/bulk_topology.py:416: UserWarning: Invalid topology for a HI transition, aborting\n",
      "  warnings.warn(\"Invalid topology for a HI transition, aborting\")\n",
      "/home/guillaume/miniconda3/envs/py37/lib/python3.7/site-packages/tyssue-0.3.3rc1-py3.7-linux-x86_64.egg/tyssue/topology/bulk_topology.py:416: UserWarning: Invalid topology for a HI transition, aborting\n",
      "  warnings.warn(\"Invalid topology for a HI transition, aborting\")\n",
      "/home/guillaume/miniconda3/envs/py37/lib/python3.7/site-packages/tyssue-0.3.3rc1-py3.7-linux-x86_64.egg/tyssue/topology/bulk_topology.py:416: UserWarning: Invalid topology for a HI transition, aborting\n",
      "  warnings.warn(\"Invalid topology for a HI transition, aborting\")\n",
      "Edge 354 has adjacent triangular faces can't perform IH transition, aborting\n"
     ]
    },
    {
     "name": "stdout",
     "output_type": "stream",
     "text": [
      "out T3 changed buffer\n",
      "T3\n"
     ]
    },
    {
     "name": "stderr",
     "output_type": "stream",
     "text": [
      "Edge 354 has adjacent triangular faces can't perform IH transition, aborting\n",
      "Edge 353 has adjacent triangular faces can't perform IH transition, aborting\n",
      "Edge 353 has adjacent triangular faces can't perform IH transition, aborting\n",
      "Edge 355 is not a valid junction to perform IH transition, aborting\n",
      "Edge 354 has adjacent triangular faces can't perform IH transition, aborting\n",
      "Edge 353 has adjacent triangular faces can't perform IH transition, aborting\n",
      "Edge 355 is not a valid junction to perform IH transition, aborting\n",
      "Edge 353 has adjacent triangular faces can't perform IH transition, aborting\n",
      "Edge 355 is not a valid junction to perform IH transition, aborting\n",
      "Edge 353 has adjacent triangular faces can't perform IH transition, aborting\n",
      "/home/guillaume/miniconda3/envs/py37/lib/python3.7/site-packages/tyssue-0.3.3rc1-py3.7-linux-x86_64.egg/tyssue/topology/bulk_topology.py:416: UserWarning: Invalid topology for a HI transition, aborting\n",
      "  warnings.warn(\"Invalid topology for a HI transition, aborting\")\n"
     ]
    },
    {
     "name": "stdout",
     "output_type": "stream",
     "text": [
      "out T1 changed buffer\n",
      "T1\n"
     ]
    },
    {
     "name": "stderr",
     "output_type": "stream",
     "text": [
      "/home/guillaume/miniconda3/envs/py37/lib/python3.7/site-packages/tyssue-0.3.3rc1-py3.7-linux-x86_64.egg/tyssue/topology/bulk_topology.py:416: UserWarning: Invalid topology for a HI transition, aborting\n",
      "  warnings.warn(\"Invalid topology for a HI transition, aborting\")\n",
      "/home/guillaume/miniconda3/envs/py37/lib/python3.7/site-packages/tyssue-0.3.3rc1-py3.7-linux-x86_64.egg/tyssue/topology/bulk_topology.py:416: UserWarning: Invalid topology for a HI transition, aborting\n",
      "  warnings.warn(\"Invalid topology for a HI transition, aborting\")\n",
      "/home/guillaume/miniconda3/envs/py37/lib/python3.7/site-packages/tyssue-0.3.3rc1-py3.7-linux-x86_64.egg/tyssue/topology/bulk_topology.py:416: UserWarning: Invalid topology for a HI transition, aborting\n",
      "  warnings.warn(\"Invalid topology for a HI transition, aborting\")\n",
      "/home/guillaume/miniconda3/envs/py37/lib/python3.7/site-packages/tyssue-0.3.3rc1-py3.7-linux-x86_64.egg/tyssue/topology/bulk_topology.py:416: UserWarning: Invalid topology for a HI transition, aborting\n",
      "  warnings.warn(\"Invalid topology for a HI transition, aborting\")\n",
      "/home/guillaume/miniconda3/envs/py37/lib/python3.7/site-packages/tyssue-0.3.3rc1-py3.7-linux-x86_64.egg/tyssue/topology/bulk_topology.py:416: UserWarning: Invalid topology for a HI transition, aborting\n",
      "  warnings.warn(\"Invalid topology for a HI transition, aborting\")\n",
      "/home/guillaume/miniconda3/envs/py37/lib/python3.7/site-packages/tyssue-0.3.3rc1-py3.7-linux-x86_64.egg/tyssue/topology/bulk_topology.py:416: UserWarning: Invalid topology for a HI transition, aborting\n",
      "  warnings.warn(\"Invalid topology for a HI transition, aborting\")\n",
      "/home/guillaume/miniconda3/envs/py37/lib/python3.7/site-packages/tyssue-0.3.3rc1-py3.7-linux-x86_64.egg/tyssue/topology/bulk_topology.py:416: UserWarning: Invalid topology for a HI transition, aborting\n",
      "  warnings.warn(\"Invalid topology for a HI transition, aborting\")\n",
      "/home/guillaume/miniconda3/envs/py37/lib/python3.7/site-packages/tyssue-0.3.3rc1-py3.7-linux-x86_64.egg/tyssue/topology/bulk_topology.py:416: UserWarning: Invalid topology for a HI transition, aborting\n",
      "  warnings.warn(\"Invalid topology for a HI transition, aborting\")\n",
      "/home/guillaume/miniconda3/envs/py37/lib/python3.7/site-packages/tyssue-0.3.3rc1-py3.7-linux-x86_64.egg/tyssue/topology/bulk_topology.py:416: UserWarning: Invalid topology for a HI transition, aborting\n",
      "  warnings.warn(\"Invalid topology for a HI transition, aborting\")\n",
      "/home/guillaume/miniconda3/envs/py37/lib/python3.7/site-packages/tyssue-0.3.3rc1-py3.7-linux-x86_64.egg/tyssue/topology/bulk_topology.py:416: UserWarning: Invalid topology for a HI transition, aborting\n",
      "  warnings.warn(\"Invalid topology for a HI transition, aborting\")\n",
      "Edge 353 has adjacent triangular faces can't perform IH transition, aborting\n"
     ]
    },
    {
     "name": "stdout",
     "output_type": "stream",
     "text": [
      "out T3 changed buffer\n",
      "T3\n"
     ]
    },
    {
     "name": "stderr",
     "output_type": "stream",
     "text": [
      "Edge 353 has adjacent triangular faces can't perform IH transition, aborting\n",
      "Edge 355 is not a valid junction to perform IH transition, aborting\n",
      "Edge 354 has adjacent triangular faces can't perform IH transition, aborting\n",
      "Edge 353 has adjacent triangular faces can't perform IH transition, aborting\n",
      "Edge 355 is not a valid junction to perform IH transition, aborting\n",
      "Edge 354 has adjacent triangular faces can't perform IH transition, aborting\n",
      "Edge 355 is not a valid junction to perform IH transition, aborting\n",
      "Edge 354 has adjacent triangular faces can't perform IH transition, aborting\n",
      "Edge 354 has adjacent triangular faces can't perform IH transition, aborting\n",
      "Edge 355 is not a valid junction to perform IH transition, aborting\n",
      "/home/guillaume/miniconda3/envs/py37/lib/python3.7/site-packages/tyssue-0.3.3rc1-py3.7-linux-x86_64.egg/tyssue/topology/bulk_topology.py:416: UserWarning: Invalid topology for a HI transition, aborting\n",
      "  warnings.warn(\"Invalid topology for a HI transition, aborting\")\n"
     ]
    },
    {
     "name": "stdout",
     "output_type": "stream",
     "text": [
      "out T1 changed buffer\n",
      "T1\n"
     ]
    },
    {
     "name": "stderr",
     "output_type": "stream",
     "text": [
      "/home/guillaume/miniconda3/envs/py37/lib/python3.7/site-packages/tyssue-0.3.3rc1-py3.7-linux-x86_64.egg/tyssue/topology/bulk_topology.py:416: UserWarning: Invalid topology for a HI transition, aborting\n",
      "  warnings.warn(\"Invalid topology for a HI transition, aborting\")\n",
      "/home/guillaume/miniconda3/envs/py37/lib/python3.7/site-packages/tyssue-0.3.3rc1-py3.7-linux-x86_64.egg/tyssue/topology/bulk_topology.py:416: UserWarning: Invalid topology for a HI transition, aborting\n",
      "  warnings.warn(\"Invalid topology for a HI transition, aborting\")\n",
      "/home/guillaume/miniconda3/envs/py37/lib/python3.7/site-packages/tyssue-0.3.3rc1-py3.7-linux-x86_64.egg/tyssue/topology/bulk_topology.py:416: UserWarning: Invalid topology for a HI transition, aborting\n",
      "  warnings.warn(\"Invalid topology for a HI transition, aborting\")\n",
      "/home/guillaume/miniconda3/envs/py37/lib/python3.7/site-packages/tyssue-0.3.3rc1-py3.7-linux-x86_64.egg/tyssue/topology/bulk_topology.py:416: UserWarning: Invalid topology for a HI transition, aborting\n",
      "  warnings.warn(\"Invalid topology for a HI transition, aborting\")\n",
      "/home/guillaume/miniconda3/envs/py37/lib/python3.7/site-packages/tyssue-0.3.3rc1-py3.7-linux-x86_64.egg/tyssue/topology/bulk_topology.py:416: UserWarning: Invalid topology for a HI transition, aborting\n",
      "  warnings.warn(\"Invalid topology for a HI transition, aborting\")\n",
      "/home/guillaume/miniconda3/envs/py37/lib/python3.7/site-packages/tyssue-0.3.3rc1-py3.7-linux-x86_64.egg/tyssue/topology/bulk_topology.py:416: UserWarning: Invalid topology for a HI transition, aborting\n",
      "  warnings.warn(\"Invalid topology for a HI transition, aborting\")\n",
      "/home/guillaume/miniconda3/envs/py37/lib/python3.7/site-packages/tyssue-0.3.3rc1-py3.7-linux-x86_64.egg/tyssue/topology/bulk_topology.py:416: UserWarning: Invalid topology for a HI transition, aborting\n",
      "  warnings.warn(\"Invalid topology for a HI transition, aborting\")\n",
      "/home/guillaume/miniconda3/envs/py37/lib/python3.7/site-packages/tyssue-0.3.3rc1-py3.7-linux-x86_64.egg/tyssue/topology/bulk_topology.py:416: UserWarning: Invalid topology for a HI transition, aborting\n",
      "  warnings.warn(\"Invalid topology for a HI transition, aborting\")\n",
      "/home/guillaume/miniconda3/envs/py37/lib/python3.7/site-packages/tyssue-0.3.3rc1-py3.7-linux-x86_64.egg/tyssue/topology/bulk_topology.py:416: UserWarning: Invalid topology for a HI transition, aborting\n",
      "  warnings.warn(\"Invalid topology for a HI transition, aborting\")\n",
      "/home/guillaume/miniconda3/envs/py37/lib/python3.7/site-packages/tyssue-0.3.3rc1-py3.7-linux-x86_64.egg/tyssue/topology/bulk_topology.py:416: UserWarning: Invalid topology for a HI transition, aborting\n",
      "  warnings.warn(\"Invalid topology for a HI transition, aborting\")\n"
     ]
    },
    {
     "name": "stdout",
     "output_type": "stream",
     "text": [
      "out T3 changed buffer\n",
      "T3\n",
      "Not Started\n"
     ]
    }
   ],
   "source": [
    "solver = QSSolver(with_collisions=False, with_t1=True, with_t3=True)\n",
    "res = solver.find_energy_min(eptm, geom, model)\n",
    "print(res['message'])\n"
   ]
  },
  {
   "cell_type": "code",
   "execution_count": null,
   "metadata": {},
   "outputs": [],
   "source": [
    "eptm.topo_changed"
   ]
  },
  {
   "cell_type": "code",
   "execution_count": 15,
   "metadata": {},
   "outputs": [
    {
     "data": {
      "text/plain": [
       "True"
      ]
     },
     "execution_count": 15,
     "metadata": {},
     "output_type": "execute_result"
    }
   ],
   "source": [
    "eptm.validate()"
   ]
  },
  {
   "cell_type": "code",
   "execution_count": 22,
   "metadata": {},
   "outputs": [
    {
     "data": {
      "text/plain": [
       "0.002063248202297611"
      ]
     },
     "execution_count": 22,
     "metadata": {},
     "output_type": "execute_result"
    }
   ],
   "source": [
    "eptm.edge_df.length.min()"
   ]
  },
  {
   "cell_type": "code",
   "execution_count": 24,
   "metadata": {
    "scrolled": false
   },
   "outputs": [
    {
     "data": {
      "text/plain": [
       "array([], shape=(0, 2), dtype=int64)"
      ]
     },
     "execution_count": 24,
     "metadata": {},
     "output_type": "execute_result"
    }
   ],
   "source": [
    "from tyssue.collisions.solvers import self_intersections, CollidingBoxes, _face_bbox, solve_bulk_collisions\n",
    "from tyssue.core.sheet import get_outer_sheet\n",
    "\n",
    "position_buffer = eptm.vert_df[eptm.coords].copy()\n",
    "\n",
    "\n",
    "sub_sheet = get_outer_sheet(eptm)\n",
    "pos_idx = sub_sheet.vert_df.index.copy()\n",
    "sub_sheet.reset_index()\n",
    "sub_buffer = pd.DataFrame(\n",
    "    position_buffer.loc[pos_idx].values,\n",
    "    index=sub_sheet.vert_df.index,\n",
    "    columns=sub_sheet.coords,\n",
    ")\n",
    "\n",
    "\n",
    "intersecting_edges = self_intersections(sub_sheet)\n",
    "\n",
    "boxes = CollidingBoxes(sub_sheet, sub_buffer, intersecting_edges)\n",
    "\n",
    "boxes.face_pairs\n",
    "\n",
    "boxes.edge_pairs"
   ]
  },
  {
   "cell_type": "code",
   "execution_count": 25,
   "metadata": {},
   "outputs": [
    {
     "data": {
      "image/png": "[encoded data removed]",
      "text/plain": [
       "<Figure size 1440x720 with 2 Axes>"
      ]
     },
     "metadata": {
      "needs_background": "light"
     },
     "output_type": "display_data"
    }
   ],
   "source": [
    "fig, (ax1, ax) = plt.subplots(2, 1, sharex=True)\n",
    "\n",
    "\n",
    "fig, ax1 = sheet_view(\n",
    "    eptm,\n",
    "    coords=list(\"xz\"),\n",
    "    mode=\"quick\",\n",
    "    edge={\"lw\": 0.2},\n",
    "    ax=ax1)\n",
    "fig.set_size_inches(10, 10)\n",
    "\n",
    "for i, e in sub_sheet.edge_df.loc[boxes.edge_pairs.ravel()].iterrows():\n",
    "    \n",
    "    ax1.plot(e.loc[[\"sx\", \"tx\"]].values, e.loc[[\"sz\", \"tz\"]], \"b-o\", ms=20, lw=4, alpha=0.2)\n",
    "    ax1.plot(e.loc[[\"fx\", \"sx\"]].values, e.loc[[\"fz\", \"sz\"]], \"k-\", ms=20, lw=1, alpha=0.5)\n",
    "    ax1.plot(e.loc[[\"fx\", \"tx\"]].values, e.loc[[\"fz\", \"tz\"]], \"k-\", ms=20, lw=1, alpha=0.5)\n",
    "\n",
    "\n",
    "\n",
    "fig.set_size_inches(20, 10)\n",
    "\n",
    "fig, ax = sheet_view(\n",
    "    eptm,\n",
    "    coords=list(\"xy\"),\n",
    "    mode=\"quick\",\n",
    "    edge={\"lw\": 0.2},\n",
    "    ax=ax\n",
    "    )\n",
    "\n",
    "for i, e in sub_sheet.edge_df.loc[boxes.edge_pairs.ravel()].iterrows():\n",
    "    \n",
    "    ax.plot(e.loc[[\"sx\", \"tx\"]].values, e.loc[[\"sy\", \"ty\"]], \"b-o\", ms=20, lw=4, alpha=0.2)\n",
    "    ax.plot(e.loc[[\"fx\", \"sx\"]].values, e.loc[[\"fy\", \"sy\"]], \"k-\", ms=20, lw=1, alpha=0.5)\n",
    "    ax.plot(e.loc[[\"fx\", \"tx\"]].values, e.loc[[\"fy\", \"ty\"]], \"k-\", ms=20, lw=1, alpha=0.5)\n",
    "\n",
    "\n"
   ]
  },
  {
   "cell_type": "code",
   "execution_count": 53,
   "metadata": {},
   "outputs": [
    {
     "data": {
      "text/plain": [
       "edge\n",
       "11    1.340079\n",
       "18    0.523438\n",
       "12    1.340079\n",
       "18    0.523438\n",
       "9     1.225350\n",
       "18    0.523438\n",
       "10    1.225350\n",
       "17    0.523438\n",
       "10    1.225350\n",
       "18    0.523438\n",
       "Name: length, dtype: float64"
      ]
     },
     "execution_count": 53,
     "metadata": {},
     "output_type": "execute_result"
    }
   ],
   "source": [
    "sub_sheet.edge_df.loc[boxes.edge_pairs.ravel(), \"length\"]"
   ]
  },
  {
   "cell_type": "code",
   "execution_count": 54,
   "metadata": {},
   "outputs": [],
   "source": [
    "face_pair = 169, 182"
   ]
  },
  {
   "cell_type": "code",
   "execution_count": 34,
   "metadata": {},
   "outputs": [],
   "source": [
    "self = boxes\n",
    "shyness = 1e-2"
   ]
  },
  {
   "cell_type": "code",
   "execution_count": 31,
   "metadata": {},
   "outputs": [],
   "source": [
    "f0, f1 = boxes.face_pairs[0]\n",
    "\n",
    "fe0c = self.sheet.edge_df[self.sheet.edge_df[\"face\"] == f0].copy()\n",
    "fe1c = self.sheet.edge_df[self.sheet.edge_df[\"face\"] == f1].copy()\n",
    "fe0p = self.edge_buffer[self.sheet.edge_df[\"face\"] == f0].copy()\n",
    "fe1p = self.edge_buffer[self.sheet.edge_df[\"face\"] == f1].copy()\n"
   ]
  },
  {
   "cell_type": "code",
   "execution_count": 32,
   "metadata": {},
   "outputs": [],
   "source": [
    "bb0c = _face_bbox(fe0c)\n",
    "bb1c = _face_bbox(fe1c)\n",
    "bb0p = _face_bbox(fe0p)\n",
    "bb1p = _face_bbox(fe1p)\n"
   ]
  },
  {
   "cell_type": "code",
   "execution_count": 52,
   "metadata": {},
   "outputs": [],
   "source": [
    "shyness = 0.1\n",
    "\n",
    "lower_bound = pd.DataFrame(\n",
    "    index=pd.concat((fe0c.srce, fe1c.srce)), columns=list(\"xyz\")\n",
    ")\n",
    "upper_bound = pd.DataFrame(\n",
    "    index=pd.concat((fe0c.srce, fe1c.srce)), columns=list(\"xyz\")\n",
    ")\n",
    "for c in list(\"xyz\"):\n",
    "    b0 = bb0c.loc[c]\n",
    "    b1 = bb1c.loc[c]\n",
    "    left, right = (fe0c, fe1c) if (b0.mean() < b1.mean()) else (fe1c, fe0c)\n",
    "\n",
    "    lim = (left[f\"s{c}\"].max() + right[f\"s{c}\"].min()) / 2\n",
    "    upper_bound.loc[left.srce, c] = lim - shyness / 2\n",
    "    upper_bound.loc[right.srce, c] = right[f\"s{c}\"].max()\n",
    "\n",
    "    lower_bound.loc[right.srce, c] = lim + shyness / 2\n",
    "    lower_bound.loc[left.srce, c] = left[f\"s{c}\"].min()\n",
    "        \n",
    "    "
   ]
  },
  {
   "cell_type": "code",
   "execution_count": 53,
   "metadata": {},
   "outputs": [
    {
     "data": {
      "text/plain": [
       "edge\n",
       "12   -0.069227\n",
       "20   -0.069235\n",
       "27    0.097498\n",
       "36    0.399908\n",
       "38    0.105875\n",
       "41    0.700321\n",
       "Name: sx, dtype: float64"
      ]
     },
     "execution_count": 53,
     "metadata": {},
     "output_type": "execute_result"
    }
   ],
   "source": [
    "right.sx\n"
   ]
  },
  {
   "cell_type": "code",
   "execution_count": 51,
   "metadata": {},
   "outputs": [
    {
     "data": {
      "text/html": [
       "<div>\n",
       "<style scoped>\n",
       "    .dataframe tbody tr th:only-of-type {\n",
       "        vertical-align: middle;\n",
       "    }\n",
       "\n",
       "    .dataframe tbody tr th {\n",
       "        vertical-align: top;\n",
       "    }\n",
       "\n",
       "    .dataframe thead th {\n",
       "        text-align: right;\n",
       "    }\n",
       "</style>\n",
       "<table border=\"1\" class=\"dataframe\">\n",
       "  <thead>\n",
       "    <tr style=\"text-align: right;\">\n",
       "      <th></th>\n",
       "      <th>l</th>\n",
       "      <th>h</th>\n",
       "    </tr>\n",
       "  </thead>\n",
       "  <tbody>\n",
       "    <tr>\n",
       "      <th>x</th>\n",
       "      <td>-0.069235</td>\n",
       "      <td>0.700321</td>\n",
       "    </tr>\n",
       "    <tr>\n",
       "      <th>y</th>\n",
       "      <td>-0.449709</td>\n",
       "      <td>0.455829</td>\n",
       "    </tr>\n",
       "    <tr>\n",
       "      <th>z</th>\n",
       "      <td>0.153990</td>\n",
       "      <td>0.366268</td>\n",
       "    </tr>\n",
       "  </tbody>\n",
       "</table>\n",
       "</div>"
      ],
      "text/plain": [
       "          l         h\n",
       "x -0.069235  0.700321\n",
       "y -0.449709  0.455829\n",
       "z  0.153990  0.366268"
      ]
     },
     "execution_count": 51,
     "metadata": {},
     "output_type": "execute_result"
    }
   ],
   "source": [
    "bb0c"
   ]
  },
  {
   "cell_type": "code",
   "execution_count": 47,
   "metadata": {},
   "outputs": [
    {
     "data": {
      "text/plain": [
       "edge\n",
       "24     14\n",
       "30     37\n",
       "39     13\n",
       "42     39\n",
       "145    36\n",
       "147    38\n",
       "Name: srce, dtype: int64"
      ]
     },
     "execution_count": 47,
     "metadata": {},
     "output_type": "execute_result"
    }
   ],
   "source": [
    "left.srce"
   ]
  },
  {
   "cell_type": "code",
   "execution_count": null,
   "metadata": {},
   "outputs": [],
   "source": [
    "right"
   ]
  },
  {
   "cell_type": "code",
   "execution_count": 54,
   "metadata": {},
   "outputs": [
    {
     "data": {
      "text/html": [
       "<div>\n",
       "<style scoped>\n",
       "    .dataframe tbody tr th:only-of-type {\n",
       "        vertical-align: middle;\n",
       "    }\n",
       "\n",
       "    .dataframe tbody tr th {\n",
       "        vertical-align: top;\n",
       "    }\n",
       "\n",
       "    .dataframe thead th {\n",
       "        text-align: right;\n",
       "    }\n",
       "</style>\n",
       "<table border=\"1\" class=\"dataframe\">\n",
       "  <thead>\n",
       "    <tr style=\"text-align: right;\">\n",
       "      <th></th>\n",
       "      <th>x</th>\n",
       "      <th>y</th>\n",
       "      <th>z</th>\n",
       "    </tr>\n",
       "    <tr>\n",
       "      <th>srce</th>\n",
       "      <th></th>\n",
       "      <th></th>\n",
       "      <th></th>\n",
       "    </tr>\n",
       "  </thead>\n",
       "  <tbody>\n",
       "    <tr>\n",
       "      <th>10</th>\n",
       "      <td>0.417915</td>\n",
       "      <td>0.455829</td>\n",
       "      <td>0.366268</td>\n",
       "    </tr>\n",
       "    <tr>\n",
       "      <th>4</th>\n",
       "      <td>0.417915</td>\n",
       "      <td>0.455829</td>\n",
       "      <td>0.366268</td>\n",
       "    </tr>\n",
       "    <tr>\n",
       "      <th>11</th>\n",
       "      <td>0.417915</td>\n",
       "      <td>0.455829</td>\n",
       "      <td>0.366268</td>\n",
       "    </tr>\n",
       "    <tr>\n",
       "      <th>39</th>\n",
       "      <td>1.477</td>\n",
       "      <td>0.455829</td>\n",
       "      <td>0.366268</td>\n",
       "    </tr>\n",
       "    <tr>\n",
       "      <th>17</th>\n",
       "      <td>0.417915</td>\n",
       "      <td>0.455829</td>\n",
       "      <td>0.366268</td>\n",
       "    </tr>\n",
       "    <tr>\n",
       "      <th>36</th>\n",
       "      <td>1.477</td>\n",
       "      <td>0.455829</td>\n",
       "      <td>0.366268</td>\n",
       "    </tr>\n",
       "    <tr>\n",
       "      <th>14</th>\n",
       "      <td>1.477</td>\n",
       "      <td>-0.104798</td>\n",
       "      <td>0.151229</td>\n",
       "    </tr>\n",
       "    <tr>\n",
       "      <th>37</th>\n",
       "      <td>1.477</td>\n",
       "      <td>-0.104798</td>\n",
       "      <td>0.151229</td>\n",
       "    </tr>\n",
       "    <tr>\n",
       "      <th>13</th>\n",
       "      <td>1.477</td>\n",
       "      <td>-0.104798</td>\n",
       "      <td>0.151229</td>\n",
       "    </tr>\n",
       "    <tr>\n",
       "      <th>39</th>\n",
       "      <td>1.477</td>\n",
       "      <td>0.455829</td>\n",
       "      <td>0.366268</td>\n",
       "    </tr>\n",
       "    <tr>\n",
       "      <th>36</th>\n",
       "      <td>1.477</td>\n",
       "      <td>0.455829</td>\n",
       "      <td>0.366268</td>\n",
       "    </tr>\n",
       "    <tr>\n",
       "      <th>38</th>\n",
       "      <td>1.477</td>\n",
       "      <td>-0.104798</td>\n",
       "      <td>0.151229</td>\n",
       "    </tr>\n",
       "  </tbody>\n",
       "</table>\n",
       "</div>"
      ],
      "text/plain": [
       "             x         y         z\n",
       "srce                              \n",
       "10    0.417915  0.455829  0.366268\n",
       "4     0.417915  0.455829  0.366268\n",
       "11    0.417915  0.455829  0.366268\n",
       "39       1.477  0.455829  0.366268\n",
       "17    0.417915  0.455829  0.366268\n",
       "36       1.477  0.455829  0.366268\n",
       "14       1.477 -0.104798  0.151229\n",
       "37       1.477 -0.104798  0.151229\n",
       "13       1.477 -0.104798  0.151229\n",
       "39       1.477  0.455829  0.366268\n",
       "36       1.477  0.455829  0.366268\n",
       "38       1.477 -0.104798  0.151229"
      ]
     },
     "execution_count": 54,
     "metadata": {},
     "output_type": "execute_result"
    }
   ],
   "source": [
    "upper_bound"
   ]
  },
  {
   "cell_type": "code",
   "execution_count": 109,
   "metadata": {},
   "outputs": [
    {
     "data": {
      "text/plain": [
       "edge\n",
       "18    -5.546031\n",
       "22    -5.046683\n",
       "159   -5.490565\n",
       "162   -4.546923\n",
       "164   -4.546263\n",
       "165   -4.867467\n",
       "Name: sx, dtype: float64"
      ]
     },
     "execution_count": 109,
     "metadata": {},
     "output_type": "execute_result"
    }
   ],
   "source": [
    "fe0c.sx"
   ]
  },
  {
   "cell_type": "code",
   "execution_count": 70,
   "metadata": {},
   "outputs": [
    {
     "data": {
      "text/html": [
       "<div>\n",
       "<style scoped>\n",
       "    .dataframe tbody tr th:only-of-type {\n",
       "        vertical-align: middle;\n",
       "    }\n",
       "\n",
       "    .dataframe tbody tr th {\n",
       "        vertical-align: top;\n",
       "    }\n",
       "\n",
       "    .dataframe thead th {\n",
       "        text-align: right;\n",
       "    }\n",
       "</style>\n",
       "<table border=\"1\" class=\"dataframe\">\n",
       "  <thead>\n",
       "    <tr style=\"text-align: right;\">\n",
       "      <th></th>\n",
       "      <th>l</th>\n",
       "      <th>h</th>\n",
       "      <th>c</th>\n",
       "    </tr>\n",
       "  </thead>\n",
       "  <tbody>\n",
       "    <tr>\n",
       "      <th>x</th>\n",
       "      <td>-6.704158</td>\n",
       "      <td>-5.482137</td>\n",
       "      <td>-6.093147</td>\n",
       "    </tr>\n",
       "    <tr>\n",
       "      <th>y</th>\n",
       "      <td>5.467833</td>\n",
       "      <td>6.825194</td>\n",
       "      <td>6.146513</td>\n",
       "    </tr>\n",
       "    <tr>\n",
       "      <th>z</th>\n",
       "      <td>-0.024543</td>\n",
       "      <td>0.031226</td>\n",
       "      <td>0.003342</td>\n",
       "    </tr>\n",
       "  </tbody>\n",
       "</table>\n",
       "</div>"
      ],
      "text/plain": [
       "          l         h         c\n",
       "x -6.704158 -5.482137 -6.093147\n",
       "y  5.467833  6.825194  6.146513\n",
       "z -0.024543  0.031226  0.003342"
      ]
     },
     "execution_count": 70,
     "metadata": {},
     "output_type": "execute_result"
    }
   ],
   "source": [
    "bb1c"
   ]
  },
  {
   "cell_type": "code",
   "execution_count": 72,
   "metadata": {},
   "outputs": [
    {
     "ename": "ValueError",
     "evalue": "The collision was already present or its axis could not be determined",
     "output_type": "error",
     "traceback": [
      "\u001b[0;31m---------------------------------------------------------------------------\u001b[0m",
      "\u001b[0;31mValueError\u001b[0m                                Traceback (most recent call last)",
      "\u001b[0;32m<ipython-input-72-5cc13bfdd3c9>\u001b[0m in \u001b[0;36m<module>\u001b[0;34m\u001b[0m\n\u001b[0;32m----> 1\u001b[0;31m \u001b[0mboxes\u001b[0m\u001b[0;34m.\u001b[0m\u001b[0m_collision_plane\u001b[0m\u001b[0;34m(\u001b[0m\u001b[0mface_pair\u001b[0m\u001b[0;34m,\u001b[0m \u001b[0;36m0.01\u001b[0m\u001b[0;34m)\u001b[0m\u001b[0;34m\u001b[0m\u001b[0;34m\u001b[0m\u001b[0m\n\u001b[0m",
      "\u001b[0;32m~/miniconda3/envs/py37/lib/python3.7/site-packages/tyssue-0.3.3rc1-py3.7-linux-x86_64.egg/tyssue/collisions/solvers.py\u001b[0m in \u001b[0;36m_collision_plane\u001b[0;34m(self, face_pair, shyness)\u001b[0m\n\u001b[1;32m    261\u001b[0m \u001b[0;34m\u001b[0m\u001b[0m\n\u001b[1;32m    262\u001b[0m             raise ValueError(\n\u001b[0;32m--> 263\u001b[0;31m                 \u001b[0;34m\"\"\"The collision was already present or its axis could not be determined\"\"\"\u001b[0m\u001b[0;34m\u001b[0m\u001b[0;34m\u001b[0m\u001b[0m\n\u001b[0m\u001b[1;32m    264\u001b[0m             )\n\u001b[1;32m    265\u001b[0m             \u001b[0;32mreturn\u001b[0m \u001b[0;32mNone\u001b[0m\u001b[0;34m,\u001b[0m \u001b[0;32mNone\u001b[0m\u001b[0;34m\u001b[0m\u001b[0;34m\u001b[0m\u001b[0m\n",
      "\u001b[0;31mValueError\u001b[0m: The collision was already present or its axis could not be determined"
     ]
    }
   ],
   "source": [
    "boxes._collision_plane(face_pair, 0.01)"
   ]
  },
  {
   "cell_type": "code",
   "execution_count": null,
   "metadata": {},
   "outputs": [],
   "source": [
    "for coord in list(\"xyz\"):\n",
    "    \n",
    "    "
   ]
  }
 ],
 "metadata": {
  "kernelspec": {
   "display_name": "Python 3",
   "language": "python",
   "name": "python3"
  },
  "language_info": {
   "codemirror_mode": {
    "name": "ipython",
    "version": 3
   },
   "file_extension": ".py",
   "mimetype": "text/x-python",
   "name": "python",
   "nbconvert_exporter": "python",
   "pygments_lexer": "ipython3",
   "version": "3.7.3"
  }
 },
 "nbformat": 4,
 "nbformat_minor": 2
}
