{
 "cells": [
  {
   "cell_type": "code",
   "execution_count": 1,
   "metadata": {},
   "outputs": [
    {
     "name": "stdout",
     "output_type": "stream",
     "text": [
      "3.7.1 | packaged by conda-forge | (default, Nov 13 2018, 18:15:35) \n",
      "[GCC 4.8.2 20140120 (Red Hat 4.8.2-15)]\n",
      "tyssue version:  0.3.1.dev0+Unknown\n"
     ]
    }
   ],
   "source": [
    "import sys\n",
    "print(sys.version)\n",
    "from pathlib import Path\n",
    "\n",
    "import numpy as np\n",
    "import pandas as pd\n",
    "import matplotlib.pyplot as plt\n",
    "import ipyvolume as ipv\n",
    "%matplotlib inline\n",
    "\n",
    "from tyssue import Sheet, SheetGeometry, Monolayer, config, MonolayerGeometry\n",
    "from tyssue.solvers.sheet_vertex_solver import Solver\n",
    "from tyssue.draw import sheet_view\n",
    "from tyssue.io import hdf5\n",
    "\n",
    "from tyssue.solvers import QSSolver\n",
    "from tyssue.dynamics import model_factory, effectors\n",
    "\n",
    "from tyssue import collisions\n",
    "from tyssue.collisions.solvers import (solve_sheet_collisions,\n",
    "                                       solve_monolayer_collisions)\n",
    "from tyssue import version\n",
    "print('tyssue version: ', version.full_version)\n",
    "\n",
    "from tyssue import config\n",
    "\n",
    "from tyssue import stores"
   ]
  },
  {
   "cell_type": "markdown",
   "metadata": {},
   "source": [
    "## Collision avoidance\n",
    "\n",
    "Inspired by this paper:\n",
    "\n",
    "Liu, J.-D., Ko, M.-T., & Chang, R.-C. (1998). _A simple self-collision avoidance for cloth animation_. Computers & Graphics, 22(1), 117–128. [DOI](https://doi.org/doi:10.1016/s0097-8493(97)00087-3)\n"
   ]
  },
  {
   "cell_type": "code",
   "execution_count": 2,
   "metadata": {},
   "outputs": [
    {
     "data": {
      "image/png": "[encoded data removed]",
      "text/plain": [
       "<Figure size 432x288 with 2 Axes>"
      ]
     },
     "metadata": {
      "needs_background": "light"
     },
     "output_type": "display_data"
    }
   ],
   "source": [
    "\n",
    "sheet = Sheet('crossed', hdf5.load_datasets(Path(stores.stores_dir)/\"sheet6x5.hf5\"))\n",
    "\n",
    "sheet.vert_df.z = 5 * sheet.vert_df.x**2\n",
    "sheet.vert_df[sheet.coords] += np.random.normal(scale=0.001, size=(sheet.Nv, 3))\n",
    "    \n",
    "\n",
    "SheetGeometry.update_all(sheet)\n",
    "\n",
    "\n",
    "fig, axes = plt.subplots(1, 2, sharex=True)\n",
    "fig, ax = sheet_view(sheet, coords=['x', 'y'], mode='quick', ax=axes[0])\n",
    "fig, ax = sheet_view(sheet, coords=['x', 'z'], mode='quick', ax=axes[1])\n",
    "\n"
   ]
  },
  {
   "cell_type": "code",
   "execution_count": 3,
   "metadata": {},
   "outputs": [
    {
     "data": {
      "application/vnd.jupyter.widget-view+json": {
       "model_id": "8a0e3f8cfe55442d86a26d934eab5300",
       "version_major": 2,
       "version_minor": 0
      },
      "text/plain": [
       "Figure(camera=PerspectiveCamera(fov=46.0, position=(0.0, 0.0, 2.0), quaternion=(0.0, 0.0, 0.0, 1.0), scale=(1.…"
      ]
     },
     "metadata": {},
     "output_type": "display_data"
    }
   ],
   "source": [
    "position_buffer = sheet.vert_df[sheet.coords].copy()\n",
    "\n",
    "sheet.vert_df.x -=  35*(sheet.vert_df.x/2)**3\n",
    "SheetGeometry.update_all(sheet)\n",
    "\n",
    "ipv.clear()\n",
    "fig, mesh = sheet_view(sheet, mode='3D')\n",
    "fig"
   ]
  },
  {
   "cell_type": "code",
   "execution_count": 4,
   "metadata": {},
   "outputs": [
    {
     "data": {
      "application/vnd.jupyter.widget-view+json": {
       "model_id": "5c98a366af9443f59650b5d355ea13c4",
       "version_major": 2,
       "version_minor": 0
      },
      "text/plain": [
       "VBox(children=(Figure(camera=PerspectiveCamera(fov=46.0, position=(0.0, 0.0, 2.0), quaternion=(0.0, 0.0, 0.0, …"
      ]
     },
     "metadata": {},
     "output_type": "display_data"
    }
   ],
   "source": [
    "sheet.settings['shyness'] = 0.1\n",
    "solve_sheet_collisions(sheet, position_buffer)\n",
    "SheetGeometry.update_all(sheet)\n",
    "ipv.clear()\n",
    "sheet_view(sheet, mode='3D')\n",
    "ipv.squarelim()\n",
    "ipv.show()"
   ]
  },
  {
   "cell_type": "code",
   "execution_count": 5,
   "metadata": {},
   "outputs": [],
   "source": [
    "datasets =  hdf5.load_datasets(Path(stores.stores_dir)/'small_ellipsoid.hf5',\n",
    "                               data_names=['vert', 'edge', 'face', 'cell'])\n",
    "\n",
    "ellipso = Monolayer(\n",
    "    'ellipso', datasets,\n",
    "    config.geometry.bulk_spec())\n"
   ]
  },
  {
   "cell_type": "code",
   "execution_count": null,
   "metadata": {},
   "outputs": [],
   "source": []
  },
  {
   "cell_type": "code",
   "execution_count": 6,
   "metadata": {},
   "outputs": [
    {
     "data": {
      "application/vnd.jupyter.widget-view+json": {
       "model_id": "0c46d41ab4424947b52077cb8758822f",
       "version_major": 2,
       "version_minor": 0
      },
      "text/plain": [
       "VBox(children=(Figure(camera=PerspectiveCamera(fov=46.0, position=(0.0, 0.0, 2.0), quaternion=(0.0, 0.0, 0.0, …"
      ]
     },
     "metadata": {},
     "output_type": "display_data"
    }
   ],
   "source": [
    "ipv.clear()\n",
    "sheet_view(ellipso, mode='3D')\n",
    "ipv.squarelim()\n",
    "ipv.show()"
   ]
  },
  {
   "cell_type": "code",
   "execution_count": 7,
   "metadata": {},
   "outputs": [],
   "source": [
    "position_buffer = ellipso.vert_df[ellipso.coords]\n",
    "solve_monolayer_collisions(ellipso, position_buffer)"
   ]
  },
  {
   "cell_type": "code",
   "execution_count": 8,
   "metadata": {},
   "outputs": [
    {
     "data": {
      "text/plain": [
       "<tyssue.core.monolayer.Monolayer at 0x7fd8f82a57f0>"
      ]
     },
     "execution_count": 8,
     "metadata": {},
     "output_type": "execute_result"
    }
   ],
   "source": [
    "ellipso"
   ]
  },
  {
   "cell_type": "code",
   "execution_count": null,
   "metadata": {},
   "outputs": [],
   "source": []
  }
 ],
 "metadata": {
  "kernelspec": {
   "display_name": "Python 3",
   "language": "python",
   "name": "python3"
  },
  "language_info": {
   "codemirror_mode": {
    "name": "ipython",
    "version": 3
   },
   "file_extension": ".py",
   "mimetype": "text/x-python",
   "name": "python",
   "nbconvert_exporter": "python",
   "pygments_lexer": "ipython3",
   "version": "3.7.1"
  }
 },
 "nbformat": 4,
 "nbformat_minor": 2
}
