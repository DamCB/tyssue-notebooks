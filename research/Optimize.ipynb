{
 "cells": [
  {
   "cell_type": "code",
   "execution_count": 1,
   "metadata": {},
   "outputs": [],
   "source": [
    "%load_ext snakeviz\n",
    "from tyssue import Sheet, SheetGeometry, config\n",
    "from tyssue.dynamics import SheetModel\n",
    "from tyssue.solvers.sheet_vertex_solver import Solver\n",
    "from tyssue.io.hdf5 import load_datasets\n"
   ]
  },
  {
   "cell_type": "code",
   "execution_count": 2,
   "metadata": {},
   "outputs": [
    {
     "name": "stdout",
     "output_type": "stream",
     "text": [
      "before_apoptosis_anchors.hf5  ellipsoid_sheet_init.hf5  small_ellipsoid.hf5\r\n",
      "before_apoptosis.hf5          fullerene.hf5             small_hexagonal.hf5\r\n",
      "ellipsoid.hf5                 lemon.hf5                 small_organo.hf5\r\n",
      "ellipsoid_sheet_5k.hf5        organo.hf5\r\n",
      "ellipsoid_sheet.hf5           small_cylindrical.hf5\r\n"
     ]
    }
   ],
   "source": [
    "ls ../data/hf5/"
   ]
  },
  {
   "cell_type": "code",
   "execution_count": 3,
   "metadata": {},
   "outputs": [],
   "source": [
    "\n",
    "sheet = Sheet('optim', load_datasets('../data/hf5/before_apoptosis.hf5'),\n",
    "              config.geometry.cylindrical_sheet())\n",
    "\n",
    "nd_specs = config.dynamics.quasistatic_sheet_spec()\n",
    "d_specs = SheetModel.dimensionalize(nd_specs)\n",
    "sheet.update_specs(d_specs)"
   ]
  },
  {
   "cell_type": "code",
   "execution_count": 4,
   "metadata": {},
   "outputs": [
    {
     "name": "stdout",
     "output_type": "stream",
     "text": [
      " \n",
      "*** Profile stats marshalled to file '/tmp/tmpkdmjmjw9'. \n"
     ]
    }
   ],
   "source": [
    "%%snakeviz\n",
    "Solver.find_energy_min(sheet, SheetGeometry, SheetModel)"
   ]
  },
  {
   "cell_type": "code",
   "execution_count": 9,
   "metadata": {},
   "outputs": [],
   "source": [
    "import tyssue"
   ]
  },
  {
   "cell_type": "code",
   "execution_count": 11,
   "metadata": {},
   "outputs": [
    {
     "data": {
      "text/plain": [
       "'0.2.2.dev0+2f9600e'"
      ]
     },
     "execution_count": 11,
     "metadata": {},
     "output_type": "execute_result"
    }
   ],
   "source": [
    "tyssue.version.full_version"
   ]
  },
  {
   "cell_type": "code",
   "execution_count": 12,
   "metadata": {},
   "outputs": [],
   "source": [
    "!cp /tmp/tmpkdmjmjw9 ../data/optim/opt_2f9600e.prof"
   ]
  },
  {
   "cell_type": "code",
   "execution_count": 13,
   "metadata": {},
   "outputs": [
    {
     "name": "stdout",
     "output_type": "stream",
     "text": [
      "42.5 ms ± 917 µs per loop (mean ± std. dev. of 7 runs, 10 loops each)\n"
     ]
    }
   ],
   "source": [
    "%timeit SheetGeometry.update_all(sheet)"
   ]
  },
  {
   "cell_type": "markdown",
   "metadata": {},
   "source": [
    "* Before optimisation : \n",
    "\n",
    "> SheetGeometry.update_all(sheet) : 83.4 ms\n",
    "\n",
    "* After optimisation of the `_upcast` attribute:\n",
    "\n",
    "> SheetGeometry.update_all(sheet) : 42.1 ms\n",
    "\n",
    "* After writing the upcast in edge_df (not sure same computer)\n",
    "\n",
    "> SheetGeometry.update_all(sheet) : 50.5 ms ± 1.57 ms per loop (mean ± std. dev. of 7 runs, 10 loops each)\n",
    "\n",
    "* With less calls to set_items:\n",
    "\n",
    "> SheetGeometry.update_all(sheet) : 36.2 ms ± 238 µs per loop (mean ± std. dev. of 7 runs, 10 loops each)\n"
   ]
  },
  {
   "cell_type": "code",
   "execution_count": 14,
   "metadata": {},
   "outputs": [
    {
     "name": "stdout",
     "output_type": "stream",
     "text": [
      " \n",
      "*** Profile stats marshalled to file '/tmp/tmpuqit2fc4'. \n"
     ]
    }
   ],
   "source": [
    "%%snakeviz\n",
    "Solver.find_energy_min(sheet, SheetGeometry, SheetModel)"
   ]
  },
  {
   "cell_type": "code",
   "execution_count": 24,
   "metadata": {},
   "outputs": [
    {
     "ename": "TypeError",
     "evalue": "cacher() missing 1 required positional argument: 'func'",
     "output_type": "error",
     "traceback": [
      "\u001b[0;31m---------------------------------------------------------------------------\u001b[0m",
      "\u001b[0;31mTypeError\u001b[0m                                 Traceback (most recent call last)",
      "\u001b[0;32m<ipython-input-24-a9c0240e3171>\u001b[0m in \u001b[0;36m<module>\u001b[0;34m()\u001b[0m\n\u001b[1;32m      2\u001b[0m \u001b[0;32mfrom\u001b[0m \u001b[0mtyssue\u001b[0m \u001b[0;32mimport\u001b[0m \u001b[0mEpithelium\u001b[0m\u001b[0;34m\u001b[0m\u001b[0m\n\u001b[1;32m      3\u001b[0m \u001b[0;34m\u001b[0m\u001b[0m\n\u001b[0;32m----> 4\u001b[0;31m \u001b[0;32mclass\u001b[0m \u001b[0mCachedSheet\u001b[0m\u001b[0;34m(\u001b[0m\u001b[0mSheet\u001b[0m\u001b[0;34m)\u001b[0m\u001b[0;34m:\u001b[0m\u001b[0;34m\u001b[0m\u001b[0m\n\u001b[0m\u001b[1;32m      5\u001b[0m \u001b[0;34m\u001b[0m\u001b[0m\n\u001b[1;32m      6\u001b[0m     \u001b[0;32mdef\u001b[0m \u001b[0m__init__\u001b[0m\u001b[0;34m(\u001b[0m\u001b[0mself\u001b[0m\u001b[0;34m,\u001b[0m \u001b[0;34m*\u001b[0m\u001b[0margs\u001b[0m\u001b[0;34m,\u001b[0m \u001b[0;34m**\u001b[0m\u001b[0mkwargs\u001b[0m\u001b[0;34m)\u001b[0m\u001b[0;34m:\u001b[0m\u001b[0;34m\u001b[0m\u001b[0m\n",
      "\u001b[0;32m<ipython-input-24-a9c0240e3171>\u001b[0m in \u001b[0;36mCachedSheet\u001b[0;34m()\u001b[0m\n\u001b[1;32m     21\u001b[0m                 \u001b[0mself\u001b[0m\u001b[0;34m.\u001b[0m\u001b[0m_cached_upcast\u001b[0m\u001b[0;34m[\u001b[0m\u001b[0mh\u001b[0m\u001b[0;34m]\u001b[0m \u001b[0;34m=\u001b[0m \u001b[0mres\u001b[0m\u001b[0;34m\u001b[0m\u001b[0m\n\u001b[1;32m     22\u001b[0m \u001b[0;34m\u001b[0m\u001b[0m\n\u001b[0;32m---> 23\u001b[0;31m     \u001b[0;34m@\u001b[0m\u001b[0mcacher\u001b[0m\u001b[0;34m\u001b[0m\u001b[0m\n\u001b[0m\u001b[1;32m     24\u001b[0m     \u001b[0;32mdef\u001b[0m \u001b[0mupcast_srce\u001b[0m\u001b[0;34m(\u001b[0m\u001b[0mself\u001b[0m\u001b[0;34m,\u001b[0m \u001b[0;34m*\u001b[0m\u001b[0margs\u001b[0m\u001b[0;34m,\u001b[0m \u001b[0;34m**\u001b[0m\u001b[0mkwargs\u001b[0m\u001b[0;34m)\u001b[0m\u001b[0;34m:\u001b[0m\u001b[0;34m\u001b[0m\u001b[0m\n\u001b[1;32m     25\u001b[0m         \u001b[0;32mreturn\u001b[0m \u001b[0msuper\u001b[0m\u001b[0;34m(\u001b[0m\u001b[0;34m)\u001b[0m\u001b[0;34m.\u001b[0m\u001b[0mupcast_srce\u001b[0m\u001b[0;34m(\u001b[0m\u001b[0mself\u001b[0m\u001b[0;34m,\u001b[0m \u001b[0;34m*\u001b[0m\u001b[0margs\u001b[0m\u001b[0;34m,\u001b[0m \u001b[0;34m**\u001b[0m\u001b[0mkwargs\u001b[0m\u001b[0;34m)\u001b[0m\u001b[0;34m\u001b[0m\u001b[0m\n",
      "\u001b[0;31mTypeError\u001b[0m: cacher() missing 1 required positional argument: 'func'"
     ]
    }
   ],
   "source": [
    "from functools import wraps\n",
    "from tyssue import Epithelium\n",
    "\n",
    "class CachedSheet(Sheet):\n",
    "    \n",
    "    def __init__(self, *args, **kwargs):\n",
    "        self._cached_upcast = {}\n",
    "        super().__init__(self, *args, **kwargs)\n",
    "    \n",
    "    def cacher(self, func, *args, **kwargs):\n",
    "        @wraps(func)\n",
    "        def cached_func(*args, **kwargs):\n",
    "            h = hash((func, args[0]))\n",
    "            if h in self._cached_upcast:\n",
    "                print('from cache')\n",
    "                return self._cached_upcast[h]\n",
    "            else:\n",
    "                print('set cache')\n",
    "                res = func(*args, **kwargs)\n",
    "                self._cached_upcast[h] = res\n",
    "    \n",
    "    @cacher\n",
    "    def upcast_srce(self, *args, **kwargs):\n",
    "        return super().upcast_srce(self, *args, **kwargs)\n",
    "        \n",
    "\n",
    "\n"
   ]
  },
  {
   "cell_type": "code",
   "execution_count": 21,
   "metadata": {},
   "outputs": [
    {
     "ename": "NameError",
     "evalue": "name 'CachedSheet' is not defined",
     "output_type": "error",
     "traceback": [
      "\u001b[0;31m---------------------------------------------------------------------------\u001b[0m",
      "\u001b[0;31mNameError\u001b[0m                                 Traceback (most recent call last)",
      "\u001b[0;32m<ipython-input-21-5e20d98e3f22>\u001b[0m in \u001b[0;36m<module>\u001b[0;34m()\u001b[0m\n\u001b[1;32m      1\u001b[0m \u001b[0;34m\u001b[0m\u001b[0m\n\u001b[0;32m----> 2\u001b[0;31m sheet = CachedSheet('optim', load_datasets('data/hf5/before_apoptosis.hf5'),\n\u001b[0m\u001b[1;32m      3\u001b[0m                     config.geometry.cylindrical_sheet())\n\u001b[1;32m      4\u001b[0m \u001b[0;34m\u001b[0m\u001b[0m\n\u001b[1;32m      5\u001b[0m \u001b[0mnd_specs\u001b[0m \u001b[0;34m=\u001b[0m \u001b[0mconfig\u001b[0m\u001b[0;34m.\u001b[0m\u001b[0mdynamics\u001b[0m\u001b[0;34m.\u001b[0m\u001b[0mquasistatic_sheet_spec\u001b[0m\u001b[0;34m(\u001b[0m\u001b[0;34m)\u001b[0m\u001b[0;34m\u001b[0m\u001b[0m\n",
      "\u001b[0;31mNameError\u001b[0m: name 'CachedSheet' is not defined"
     ]
    }
   ],
   "source": [
    "\n",
    "sheet = CachedSheet('optim', load_datasets('data/hf5/before_apoptosis.hf5'),\n",
    "                    config.geometry.cylindrical_sheet())\n",
    "\n",
    "nd_specs = config.dynamics.quasistatic_sheet_spec()\n",
    "d_specs = SheetModel.dimentionalize(nd_specs)\n",
    "sheet.update_specs(d_specs)"
   ]
  },
  {
   "cell_type": "code",
   "execution_count": null,
   "metadata": {
    "collapsed": true
   },
   "outputs": [],
   "source": []
  }
 ],
 "metadata": {
  "anaconda-cloud": {},
  "kernelspec": {
   "display_name": "Python 3",
   "language": "python",
   "name": "python3"
  },
  "language_info": {
   "codemirror_mode": {
    "name": "ipython",
    "version": 3
   },
   "file_extension": ".py",
   "mimetype": "text/x-python",
   "name": "python",
   "nbconvert_exporter": "python",
   "pygments_lexer": "ipython3",
   "version": "3.6.5"
  }
 },
 "nbformat": 4,
 "nbformat_minor": 2
}
