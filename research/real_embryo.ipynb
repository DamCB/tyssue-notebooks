{
 "cells": [
  {
   "cell_type": "code",
   "execution_count": 1,
   "metadata": {},
   "outputs": [],
   "source": [
    "mat_file = '/media/data/Sophie/Microscopie/drosophila_fused.mat'\n"
   ]
  },
  {
   "cell_type": "code",
   "execution_count": 2,
   "metadata": {},
   "outputs": [],
   "source": [
    "from scipy.io import loadmat\n",
    "import ipyvolume as ipv\n",
    "import numpy as np\n",
    "import pandas as pd\n",
    "import matplotlib.pyplot as plt\n",
    "\n",
    "from scipy.spatial import Voronoi\n",
    "from tyssue import Epithelium, BulkGeometry, config\n",
    "from tyssue.generation import from_3d_voronoi, single_cell\n",
    "from tyssue.draw import sheet_view\n",
    "\n",
    "%matplotlib inline\n"
   ]
  },
  {
   "cell_type": "code",
   "execution_count": 3,
   "metadata": {},
   "outputs": [
    {
     "data": {
      "text/plain": [
       "[<matplotlib.lines.Line2D at 0x7f7d702c2710>]"
      ]
     },
     "execution_count": 3,
     "metadata": {},
     "output_type": "execute_result"
    },
    {
     "data": {
      "image/png": "[encoded data removed]",
      "text/plain": [
       "<Figure size 432x288 with 1 Axes>"
      ]
     },
     "metadata": {
      "needs_background": "light"
     },
     "output_type": "display_data"
    }
   ],
   "source": [
    "mat_db = loadmat(mat_file)\n",
    "embryo = mat_db['embryo']\n",
    "n_nuc = np.array([em[0].shape[0] for em in embryo])\n",
    "\n",
    "fig, ax = plt.subplots()\n",
    "\n",
    "ax.plot(n_nuc)"
   ]
  },
  {
   "cell_type": "code",
   "execution_count": 4,
   "metadata": {},
   "outputs": [
    {
     "data": {
      "application/vnd.jupyter.widget-view+json": {
       "model_id": "36ae1ee0a6274aa0aacc1d29bd763158",
       "version_major": 2,
       "version_minor": 0
      },
      "text/plain": [
       "VBox(children=(Figure(camera=PerspectiveCamera(fov=46.0, position=(0.0, 0.0, 2.0), quaternion=(0.0, 0.0, 0.0, …"
      ]
     },
     "metadata": {},
     "output_type": "display_data"
    }
   ],
   "source": [
    "frame = 10\n",
    "\n",
    "nuclei = (embryo[frame][0] - embryo[frame][0].mean(axis=0)[np.newaxis, :])[:, :3]\n",
    "s, u, v = np.linalg.svd(nuclei)\n",
    "nuclei = np.dot(nuclei, v.T)\n",
    "\n",
    "ipv.clear()\n",
    "ipv.scatter(x=nuclei[:, 0],\n",
    "            y=nuclei[:, 1],\n",
    "            z=nuclei[:, 2],\n",
    "            size=0.5,\n",
    "            marker='sphere')\n",
    "ipv.xyzlim(-700, 700)\n",
    "ipv.show()\n",
    "\n"
   ]
  },
  {
   "cell_type": "code",
   "execution_count": 7,
   "metadata": {},
   "outputs": [
    {
     "data": {
      "text/html": [
       "<div>\n",
       "<style scoped>\n",
       "    .dataframe tbody tr th:only-of-type {\n",
       "        vertical-align: middle;\n",
       "    }\n",
       "\n",
       "    .dataframe tbody tr th {\n",
       "        vertical-align: top;\n",
       "    }\n",
       "\n",
       "    .dataframe thead th {\n",
       "        text-align: right;\n",
       "    }\n",
       "</style>\n",
       "<table border=\"1\" class=\"dataframe\">\n",
       "  <thead>\n",
       "    <tr style=\"text-align: right;\">\n",
       "      <th></th>\n",
       "      <th>x</th>\n",
       "      <th>y</th>\n",
       "      <th>z</th>\n",
       "    </tr>\n",
       "  </thead>\n",
       "  <tbody>\n",
       "    <tr>\n",
       "      <th>0</th>\n",
       "      <td>80.572556</td>\n",
       "      <td>126.053101</td>\n",
       "      <td>-542.126038</td>\n",
       "    </tr>\n",
       "    <tr>\n",
       "      <th>1</th>\n",
       "      <td>35.749638</td>\n",
       "      <td>258.621704</td>\n",
       "      <td>37.653030</td>\n",
       "    </tr>\n",
       "    <tr>\n",
       "      <th>2</th>\n",
       "      <td>264.182739</td>\n",
       "      <td>-24.815388</td>\n",
       "      <td>-199.798203</td>\n",
       "    </tr>\n",
       "    <tr>\n",
       "      <th>3</th>\n",
       "      <td>225.751053</td>\n",
       "      <td>-33.792004</td>\n",
       "      <td>-367.799438</td>\n",
       "    </tr>\n",
       "    <tr>\n",
       "      <th>4</th>\n",
       "      <td>204.805725</td>\n",
       "      <td>40.540703</td>\n",
       "      <td>487.680450</td>\n",
       "    </tr>\n",
       "  </tbody>\n",
       "</table>\n",
       "</div>"
      ],
      "text/plain": [
       "            x           y           z\n",
       "0   80.572556  126.053101 -542.126038\n",
       "1   35.749638  258.621704   37.653030\n",
       "2  264.182739  -24.815388 -199.798203\n",
       "3  225.751053  -33.792004 -367.799438\n",
       "4  204.805725   40.540703  487.680450"
      ]
     },
     "execution_count": 7,
     "metadata": {},
     "output_type": "execute_result"
    }
   ],
   "source": [
    "centers[['x', 'y', 'z']].head()"
   ]
  },
  {
   "cell_type": "code",
   "execution_count": 10,
   "metadata": {},
   "outputs": [
    {
     "data": {
      "text/plain": [
       "array([ 559.0358 ,  550.38464, 1359.9974 ], dtype=float32)"
      ]
     },
     "execution_count": 10,
     "metadata": {},
     "output_type": "execute_result"
    }
   ],
   "source": [
    "np.ptp(centers[['x', 'y', 'z']].values, axis=0)"
   ]
  },
  {
   "cell_type": "code",
   "execution_count": null,
   "metadata": {},
   "outputs": [],
   "source": [
    "np.ptp()"
   ]
  },
  {
   "cell_type": "code",
   "execution_count": 13,
   "metadata": {},
   "outputs": [],
   "source": [
    "\n",
    "centers = pd.DataFrame(nuclei, columns=list('zxy'))\n",
    "centers['theta'] = 0.\n",
    "centers['phi'] = 0.\n",
    "a, b, c = np.ptp(centers[['x', 'y', 'z']].values, axis=0)\n",
    "\n",
    "centers = centers.append(pd.Series(\n",
    "    {'x':0, 'y':0, 'z':0,\n",
    "     'theta':0, 'phi':0,}),\n",
    "     ignore_index=True)\n",
    "\n",
    "centers['x'] /= a\n",
    "centers['y'] /= b\n",
    "centers['z'] /= c\n",
    "\n",
    "vor3d = Voronoi(centers[list('xyz')].values)\n",
    "vor3d.close()\n",
    "dsets = from_3d_voronoi(vor3d)\n",
    "\n",
    "\n",
    "veptm = Epithelium('v', dsets, config.geometry.bulk_spec())\n",
    "eptm = single_cell(veptm, veptm.cell_df.shape[0]-1)\n",
    "\n",
    "eptm.vert_df['rho'] = np.linalg.norm(eptm.vert_df[eptm.coords], axis=1)\n",
    "eptm.vert_df['theta'] = np.arcsin(eptm.vert_df.eval('z/rho'))\n",
    "eptm.vert_df['phi'] = np.arctan2(eptm.vert_df['y'], eptm.vert_df['x'])\n",
    "\n",
    "eptm.vert_df['x'] = a * (np.cos(eptm.vert_df['theta'])\n",
    "                         * np.cos(eptm.vert_df['phi']))\n",
    "eptm.vert_df['y'] = b * (np.cos(eptm.vert_df['theta'])\n",
    "                         * np.sin(eptm.vert_df['phi']))\n",
    "eptm.vert_df['z'] = c * np.sin(eptm.vert_df['theta'])\n",
    "eptm.settings['abc'] = [a, b, c]\n",
    "BulkGeometry.update_all(eptm)\n"
   ]
  },
  {
   "cell_type": "code",
   "execution_count": 12,
   "metadata": {},
   "outputs": [],
   "source": [
    "np.sum?"
   ]
  },
  {
   "cell_type": "code",
   "execution_count": 14,
   "metadata": {},
   "outputs": [
    {
     "name": "stderr",
     "output_type": "stream",
     "text": [
      "/home/guillaume/miniconda3/envs/py37/lib/python3.7/site-packages/numpy/core/fromnumeric.py:2389: FutureWarning: Method .ptp is deprecated and will be removed in a future version. Use numpy.ptp instead.\n",
      "  return ptp(axis=axis, out=out, **kwargs)\n"
     ]
    },
    {
     "data": {
      "application/vnd.jupyter.widget-view+json": {
       "model_id": "dc360f3cdfec421a86bf92bd4d863981",
       "version_major": 2,
       "version_minor": 0
      },
      "text/plain": [
       "Figure(camera=PerspectiveCamera(fov=46.0, position=(0.0, 0.0, 2.0), quaternion=(0.0, 0.0, 0.0, 1.0), scale=(1.…"
      ]
     },
     "metadata": {},
     "output_type": "display_data"
    }
   ],
   "source": [
    "ipv.clear()\n",
    "fig, meshes = sheet_view(eptm, mode='3D', coords=['z', 'x', 'y'])\n",
    "\n",
    "fig"
   ]
  },
  {
   "cell_type": "code",
   "execution_count": 82,
   "metadata": {},
   "outputs": [
    {
     "data": {
      "text/plain": [
       "array([   0,    1,    2, ..., 5884, 5885, 5886])"
      ]
     },
     "execution_count": 82,
     "metadata": {},
     "output_type": "execute_result"
    }
   ],
   "source": [
    "veptm.edge_df['cell']"
   ]
  },
  {
   "cell_type": "code",
   "execution_count": null,
   "metadata": {},
   "outputs": [],
   "source": []
  }
 ],
 "metadata": {
  "kernelspec": {
   "display_name": "Python 3",
   "language": "python",
   "name": "python3"
  },
  "language_info": {
   "codemirror_mode": {
    "name": "ipython",
    "version": 3
   },
   "file_extension": ".py",
   "mimetype": "text/x-python",
   "name": "python",
   "nbconvert_exporter": "python",
   "pygments_lexer": "ipython3",
   "version": "3.7.1"
  }
 },
 "nbformat": 4,
 "nbformat_minor": 2
}
