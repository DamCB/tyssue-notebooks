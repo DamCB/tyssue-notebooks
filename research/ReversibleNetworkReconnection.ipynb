{
 "cells": [
  {
   "cell_type": "markdown",
   "metadata": {},
   "source": [
    "# Reversible Network Reconnection Model\n",
    "\n",
    "Attempt at implementing the RNR model as described in Okuda et al. 2012:\n",
    "\n",
    ">_Reversible network reconnection model for simulating large deformation in dynamic tissue morphogenesis_, Satoru Okuda, Yasuhiro Inoue, Mototsugu Eiraku, Yoshiki Sasai and Taiji Adachi Biomech Model Mechanobiol (2013) 12:627–644 [DOI 10.1007/s10237-012-0430-7](http://link.springer.com/article/10.1007%2Fs10237-012-0430-7)\n",
    "\n",
    "\n",
    "The authors give 4 conditions which we detail and implement bellow.\n",
    "\n",
    "\n",
    "\n",
    "\n",
    "## Condition 1 - Center of a face\n",
    "\n",
    "The center of a face is defined by the average position of the face's edges midpoints, weighted by their lengths.\n",
    "\n",
    "$$ \\mathbf{r}_{\\alpha} = \\frac{\\sum_{ij\\alpha}\\ell_{ij} (\\mathbf{r}_i + \\mathbf{r}_j)/2}{\\sum_{ij\\alpha}\\ell_{ij}}$$\n"
   ]
  },
  {
   "cell_type": "code",
   "execution_count": 1,
   "metadata": {
    "scrolled": false
   },
   "outputs": [
    {
     "name": "stdout",
     "output_type": "stream",
     "text": [
      "Number of \n",
      "\tcells: 16, \n",
      "\tfaces: 110, \n",
      "\tedges: 468, \n",
      "\tvertices: 60\n"
     ]
    },
    {
     "name": "stderr",
     "output_type": "stream",
     "text": [
      "/home/guillaume/miniconda3/envs/py37/lib/python3.7/site-packages/numpy/core/fromnumeric.py:2389: FutureWarning: Method .ptp is deprecated and will be removed in a future version. Use numpy.ptp instead.\n",
      "  return ptp(axis=axis, out=out, **kwargs)\n"
     ]
    },
    {
     "data": {
      "application/vnd.jupyter.widget-view+json": {
       "model_id": "6d7db15aba914f79b10a98f498ceaf1b",
       "version_major": 2,
       "version_minor": 0
      },
      "text/plain": [
       "Figure(camera=PerspectiveCamera(fov=46.0, position=(0.0, 0.0, 2.0), quaternion=(0.0, 0.0, 0.0, 1.0), scale=(1.…"
      ]
     },
     "metadata": {},
     "output_type": "display_data"
    }
   ],
   "source": [
    "import numpy as np, pandas as pd\n",
    "import ipyvolume as ipv\n",
    "import matplotlib.pyplot as plt\n",
    "%matplotlib inline\n",
    "\n",
    "from tyssue import Epithelium, Monolayer\n",
    "from tyssue import BulkGeometry, RNRGeometry\n",
    "from tyssue import Sheet\n",
    "from tyssue.config.geometry import bulk_spec\n",
    "from tyssue.generation import three_faces_sheet\n",
    "from tyssue.generation import extrude\n",
    "from tyssue.draw import sheet_view, highlight_cells\n",
    "\n",
    "from tyssue.topology.bulk_topology import IH_transition, HI_transition\n",
    "\n",
    "\n",
    "\n",
    "\n",
    "draw_spec = {'face': {'visible': True}}\n",
    "\n",
    "sheet = Sheet.planar_sheet_3d('sheet', 5, 6, 1, 1)\n",
    "sheet.sanitize(trim_borders=True)\n",
    "\n",
    "datasets = extrude(sheet.datasets, method='translation')\n",
    "\n",
    "eptm = Monolayer('20faces_3D', datasets, bulk_spec())\n",
    "RNRGeometry.update_all(eptm)\n",
    "RNRGeometry.center(eptm)\n",
    "RNRGeometry.update_all(eptm)\n",
    "\n",
    "\n",
    "eptm.settings['threshold_length'] = 1e-4\n",
    "eptm.settings['shyness'] = 0.01\n",
    "print(f\"Number of \\n\\tcells: {eptm.Nc}, \\n\\tfaces: {eptm.Nf}, \\n\\tedges: {eptm.Ne}, \\n\\tvertices: {eptm.Nv}\")\n",
    "draw_spec['face']['color'] = eptm.face_df.area\n",
    "draw_spec['face']['color_range'] = (0, 1)\n",
    "\n",
    "ipv.clear()\n",
    "fig, meshes = sheet_view(eptm, mode='3D', **draw_spec)\n",
    "fig"
   ]
  },
  {
   "cell_type": "markdown",
   "metadata": {},
   "source": [
    "```py\n",
    "import logging\n",
    "import sys\n",
    "logger = logging.getLogger(\"tyssue\")\n",
    "handler = logging.FileHandler(\"tyssue.log\")\n",
    "formatter = logging.Formatter('%(asctime)s - %(name)s - %(levelname)s - %(message)s')\n",
    "handler.setFormatter(formatter)\n",
    "logger.setLevel(logging.DEBUG)\n",
    "\n",
    "logger.addHandler(handler)\n",
    "```\n"
   ]
  },
  {
   "cell_type": "markdown",
   "metadata": {},
   "source": [
    "## I→H transition\n",
    "\n",
    "![IH transition in a bulk and a RNR](../data/png/IH_transition.png)\n",
    "\n"
   ]
  },
  {
   "cell_type": "code",
   "execution_count": 2,
   "metadata": {
    "scrolled": false
   },
   "outputs": [
    {
     "name": "stderr",
     "output_type": "stream",
     "text": [
      "/home/guillaume/miniconda3/envs/py37/lib/python3.7/site-packages/numpy/core/fromnumeric.py:2389: FutureWarning: Method .ptp is deprecated and will be removed in a future version. Use numpy.ptp instead.\n",
      "  return ptp(axis=axis, out=out, **kwargs)\n"
     ]
    },
    {
     "data": {
      "application/vnd.jupyter.widget-view+json": {
       "model_id": "813c591b4cac4525a87b3cdd8d9bdd65",
       "version_major": 2,
       "version_minor": 0
      },
      "text/plain": [
       "Figure(camera=PerspectiveCamera(fov=46.0, position=(0.0, 0.0, 2.0), quaternion=(0.0, 0.0, 0.0, 1.0), scale=(1.…"
      ]
     },
     "metadata": {},
     "output_type": "display_data"
    }
   ],
   "source": [
    "e_1011 = 60\n",
    "eptm.settings['threshold_length'] = 0.5\n",
    "\n",
    "srce, trgt, face, cell = eptm.edge_df.loc[e_1011,\n",
    "                                          ['srce', 'trgt',\n",
    "                                           'face', 'cell']]\n",
    "\n",
    "IH_transition(eptm, e_1011)\n",
    "RNRGeometry.update_all(eptm)\n",
    "\n",
    "highlight_cells(eptm, cell, reset_visible=True)\n",
    "draw_spec['face']['color'] = eptm.face_df.area\n",
    "\n",
    "eptm.settings['threshold_length'] = 1e-3\n",
    "\n",
    "ipv.clear()\n",
    "fig, meshes = sheet_view(eptm, mode='3D', **draw_spec)\n",
    "fig"
   ]
  },
  {
   "cell_type": "markdown",
   "metadata": {},
   "source": [
    "# H → I transition"
   ]
  },
  {
   "cell_type": "code",
   "execution_count": 3,
   "metadata": {},
   "outputs": [
    {
     "data": {
      "application/vnd.jupyter.widget-view+json": {
       "model_id": "2ada4344ee214eefbfa8c6077662ae8f",
       "version_major": 2,
       "version_minor": 0
      },
      "text/plain": [
       "Figure(camera=PerspectiveCamera(fov=46.0, position=(0.0, 0.0, 2.0), quaternion=(0.0, 0.0, 0.0, 1.0), scale=(1.…"
      ]
     },
     "metadata": {},
     "output_type": "display_data"
    }
   ],
   "source": [
    "fa = 110\n",
    "\n",
    "eptm.settings['threshold_length'] = 0.5\n",
    "\n",
    "HI_transition(eptm, fa)\n",
    "RNRGeometry.update_all(eptm)\n",
    "\n",
    "highlight_cells(eptm, cell, reset_visible=False)\n",
    "ipv.clear()\n",
    "draw_spec['face']['color'] = eptm.face_df.area\n",
    "\n",
    "eptm.settings['threshold_length'] = 1e-3\n",
    "\n",
    "\n",
    "fig, meshes = sheet_view(eptm, mode='3D', **draw_spec)\n",
    "fig"
   ]
  },
  {
   "cell_type": "markdown",
   "metadata": {},
   "source": [
    "### Testing for I→H / H →I transition triggers"
   ]
  },
  {
   "cell_type": "code",
   "execution_count": 4,
   "metadata": {},
   "outputs": [],
   "source": [
    "\n",
    "eptm.settings['threshold_length'] = 1e-3\n",
    "#eptm.settings['threshold_length'] = eptm.edge_df.length.min()+1e-3"
   ]
  },
  {
   "cell_type": "code",
   "execution_count": 5,
   "metadata": {
    "scrolled": true
   },
   "outputs": [
    {
     "data": {
      "text/plain": [
       "[]"
      ]
     },
     "execution_count": 5,
     "metadata": {},
     "output_type": "execute_result"
    }
   ],
   "source": [
    "from tyssue.topology.bulk_topology import find_rearangements\n",
    "find_rearangements(eptm)"
   ]
  },
  {
   "cell_type": "markdown",
   "metadata": {},
   "source": [
    "### Condition 3\n",
    "\n",
    "This condition is satisfied if `eptm.settings['threshold_length']`\n",
    "is well defined, i.e, small with respect to the unit length or the\n",
    "average edge length.\n",
    "\n",
    "### Condition 4\n",
    "\n",
    "* (i)  Two edges never share two vertices simultaneously.\n",
    "\n",
    "_In our half-edge architecture, this is not as straight forward. But I think the condition can\n",
    "be reformulated as:_ Two edges **from the same face** never share two edges simultanously.\n",
    "I don't know how to demonstrate this, but I think these are equivalent (to get two edges together, you need to \"squeeze\" one face between those two.\n",
    "\n",
    "* (ii) Two polygonal faces never share two or more edges simultaneously.\n"
   ]
  },
  {
   "cell_type": "code",
   "execution_count": 6,
   "metadata": {},
   "outputs": [],
   "source": [
    "from tyssue.topology.base_topology import condition_4i, condition_4ii"
   ]
  },
  {
   "cell_type": "code",
   "execution_count": 7,
   "metadata": {},
   "outputs": [
    {
     "data": {
      "text/plain": [
       "(Int64Index([], dtype='int64', name='face'), [])"
      ]
     },
     "execution_count": 7,
     "metadata": {},
     "output_type": "execute_result"
    }
   ],
   "source": [
    "condition_4i(eptm), condition_4ii(eptm)"
   ]
  },
  {
   "cell_type": "code",
   "execution_count": 8,
   "metadata": {},
   "outputs": [],
   "source": [
    "invalid = eptm.get_invalid()\n",
    "assert np.alltrue(1 - invalid)\n",
    "assert np.alltrue(eptm.edge_df['sub_vol'] > 0)"
   ]
  },
  {
   "cell_type": "markdown",
   "metadata": {
    "collapsed": true
   },
   "source": [
    "## Mechanical model & computation of friction coefficient\n",
    "\n",
    "From the paper _Vertex dynamics simulations of viscosity-dependent deformation during tissue morphogenesis_, S. Okuda et al. Biomech Model Mechanobiol, 2014, [DOI 10.1007/s10237-014-0613-5](https://doi.org/10.1007/s10237-014-0613-5), assuming extra-cellular materials exert no velocity ($\\mathbf{v}^{\\mathrm{ext}}_j = 0 \\,\\forall\\, j$), after simplifying a bit the notation:\n",
    "\n",
    "$$\n",
    "\\eta_i\\left(\\dot{\\mathbf{r}_i} - \\mathbf{v}_i\\right) = -\\nabla_i U\n",
    "$$\n",
    "\n",
    "$$\n",
    "\\eta_i = \\sum_{e \\ni i} \\eta_e\n",
    "$$\n",
    "\n",
    "\n",
    "\n",
    "$$\n",
    "\\mathbf{v}_i = \\frac{\\sum_{e \\ni i} \\eta_e \\mathbf{v}_e}{\\sum_{e \\ni i} \\eta_e}\n",
    "$$\n",
    "\n",
    "$$\n",
    "\\mathbf{v}_e = \\frac{1}{n_e} \\sum_{j \\in e} \\dot{\\mathbf{r}_j}\n",
    "$$\n",
    "\n",
    "\n",
    "This translates as a system of coupled ODEs:\n",
    "\n",
    "$$ (\\mathbb{E} - \\mathbb{V}) \\cdot \\dot{\\mathbf{R}}  = -\\mathbf{\\nabla U} $$\n",
    "\n",
    "Where $\\mathbb{E}$ is the $(N_v, N_v)$ diagonal matrix with $\\mathbb{E}(i,i) = \\eta_i$ , $\\mathbb{V}$ the connectivity matrix obtained from the two previous equations (see bellow), $\\dot{\\mathbf{R}}$ the $(N_v, 3)$ vertex speeds to compute and $\\mathbf{\\nabla U}$ the $(N_v, 3)$ gradient of the potential over the verices.\n",
    "This in turn can be expressed in the form $y'(t) = f(t, y)$:\n",
    "$$\n",
    " \\dot{\\mathbf{R}}  = (\\mathbb{V} - \\mathbb{E})^{-1} \\cdot \\mathbf{\\nabla U}(\\mathbf{R}, t)\n",
    "$$\n",
    "\n",
    "\n",
    "\n",
    "An element $v_{ij}$ of $\\mathbb{V}$ is non zero if vertices $i$ and $j$ share at least an element (i.e a half-edge, a face or a cell). Then we have:\n",
    "\n",
    "\n",
    "$$v_{ij} = \\sum_{e \\ni (i, k)}\\frac{\\eta_e}{n_e}$$\n",
    "\n",
    "Note that $\\mathbb{V}$ et $\\mathbb{E}$ only change if viscosities changes (as they are a property of the material, this must be rare) or when topology changes (through division or IH transitions for example). The $(\\mathbb{V} - \\mathbb{E})$ matrix is only inverted in those occasions.\n",
    "\n",
    "\n"
   ]
  },
  {
   "cell_type": "code",
   "execution_count": 9,
   "metadata": {},
   "outputs": [],
   "source": [
    "from scipy import sparse\n",
    "\n",
    "from tyssue.dynamics import model_factory, effectors\n",
    "from scipy.integrate import solve_ivp\n",
    "from scipy.sparse.linalg import inv as sparse_inv\n",
    "from numpy.linalg import inv\n",
    "from tyssue.draw.plt_draw import plot_forces\n",
    "from tyssue.solvers import QSSolver\n",
    "\n",
    "geom = RNRGeometry\n",
    "\n",
    "\n",
    "model = model_factory([\n",
    "#    effectors.LineTension,\n",
    "    effectors.SurfaceTension,\n",
    "    effectors.CellAreaElasticity,\n",
    "    effectors.CellVolumeElasticity\n",
    "    ],effectors.CellVolumeElasticity)\n",
    "\n",
    "dyn_specs = {\n",
    "    \"face\": {\n",
    "        \"surface_tension\": 1e-3,\n",
    "    },\n",
    "    \"edge\": {\n",
    "        \"ux\": 0,\n",
    "        \"uy\": 0,\n",
    "        \"uz\": 0,\n",
    "        \"line_tension\": 0.01,\n",
    "    },\n",
    "    \"cell\": {\n",
    "        \"prefered_vol\" : eptm.cell_df.vol.mean(),\n",
    "        \"vol_elasticity\" : 1,\n",
    "        \"prefered_area\" : eptm.cell_df.area.mean(),\n",
    "        \"area_elasticity\" : 1,\n",
    "    }\n",
    "}\n",
    "eptm.update_specs(dyn_specs)\n",
    "eptm.face_df.loc[eptm.apical_faces, \"surface_tension\"] = 1e-2\n",
    "eptm.face_df.loc[eptm.basal_faces, \"surface_tension\"] = 1e-2\n",
    "\n",
    "eptm.reset_topo()\n",
    "U = model.compute_gradient(eptm)\n"
   ]
  },
  {
   "cell_type": "code",
   "execution_count": null,
   "metadata": {},
   "outputs": [],
   "source": []
  },
  {
   "cell_type": "code",
   "execution_count": 10,
   "metadata": {},
   "outputs": [
    {
     "name": "stderr",
     "output_type": "stream",
     "text": [
      "/home/guillaume/miniconda3/envs/py37/lib/python3.7/site-packages/numpy/core/fromnumeric.py:2389: FutureWarning: Method .ptp is deprecated and will be removed in a future version. Use numpy.ptp instead.\n",
      "  return ptp(axis=axis, out=out, **kwargs)\n"
     ]
    },
    {
     "data": {
      "application/vnd.jupyter.widget-view+json": {
       "model_id": "2c2858de9dba4fcc9045d5214b0ad394",
       "version_major": 2,
       "version_minor": 0
      },
      "text/plain": [
       "Figure(camera=PerspectiveCamera(fov=46.0, position=(0.0, 0.0, 2.0), quaternion=(0.0, 0.0, 0.0, 1.0), scale=(1.…"
      ]
     },
     "metadata": {},
     "output_type": "display_data"
    }
   ],
   "source": [
    "qs_solver = QSSolver(with_t1=True, with_t3=True, with_collisions=False)\n",
    "res = qs_solver.find_energy_min(eptm, geom, model)\n",
    "\n",
    "\n",
    "ipv.clear()\n",
    "fig, mesh = sheet_view(\n",
    "    eptm,\n",
    "    face={\"visible\": True,\n",
    "          \"color\": eptm.face_df.z},\n",
    "    edge={\"color\": eptm.edge_df.fz},\n",
    "    mode=\"3D\"\n",
    ")\n",
    "\n",
    "fig"
   ]
  },
  {
   "cell_type": "code",
   "execution_count": 11,
   "metadata": {},
   "outputs": [],
   "source": [
    "from itertools import count\n",
    "\n",
    "from tyssue.collisions import auto_collisions\n",
    "from tyssue.topology import auto_t1, auto_t3\n",
    "from tyssue import History\n",
    "from tyssue.solvers.base import set_pos\n",
    "from tyssue.solvers.base import TopologyChangeError\n",
    "\n",
    "\n",
    "MAX_ITER = 10\n",
    "\n",
    "\n",
    "for dset in eptm.datasets.values():\n",
    "    dset['viscosity'] = 0.1\n",
    "\n",
    "def update_viscosity(eptm):\n",
    "    eptm.cell_df[\"num_ridges\"] = eptm.edge_df.groupby('cell').apply(lambda df: len(set(df['srce'])))\n",
    "    eptm.edge_df[\"fvisco\"] = eptm.upcast_face(eptm.face_df.eval(\"viscosity / num_sides\"))\n",
    "    eptm.edge_df[\"cvisco\"] = eptm.upcast_cell(eptm.cell_df.eval(\"viscosity / num_ridges\"))\n",
    "    eptm.vert_df['visosity'] = eptm.edge_df.groupby('srce')[['viscosity', 'fvisco', 'cvisco']].sum().sum(axis=1)\n",
    "\n",
    "\n",
    "def connect_(df):\n",
    "    idx_i, idx_j = np.meshgrid(df['srce'], df['trgt'])\n",
    "    return pd.DataFrame(\n",
    "        {\"srce\": idx_i.ravel(),\n",
    "         \"trgt\": idx_j.ravel()})\n",
    "\n",
    "\n",
    "def get_coo_matrix(connect, shape, weights_col=None):\n",
    "    if weights_col in connect:\n",
    "        data = connect[weights_col]\n",
    "    else:\n",
    "        data = np.ones(connect.shape[0])\n",
    "    mat = sparse.coo_matrix(\n",
    "        (\n",
    "            data,\n",
    "            (\n",
    "                connect['srce'],\n",
    "                connect['trgt']\n",
    "            )\n",
    "        ),\n",
    "        shape=shape\n",
    "    )\n",
    "    return mat\n",
    "\n",
    "\n",
    "def get_ode_mat(eptm):\n",
    "\n",
    "    update_viscosity(eptm)\n",
    "    square_v = (eptm.Nv, eptm.Nv)\n",
    "\n",
    "    edge_connect = get_coo_matrix(\n",
    "        eptm.edge_df,\n",
    "        square_v,\n",
    "        weights_col='viscosity'\n",
    "    )\n",
    "\n",
    "    face_connect = get_coo_matrix(\n",
    "        eptm.edge_df.groupby(\"face\").apply(connect_),\n",
    "        square_v,\n",
    "        weights_col='fvisco'\n",
    "    )\n",
    "\n",
    "    cell_connect = get_coo_matrix(\n",
    "        eptm.edge_df.groupby(\"cell\").apply(connect_),\n",
    "        square_v,\n",
    "        weights_col='cvisco'\n",
    "    )\n",
    "\n",
    "    visco = np.diag(eptm.vert_df['viscosity'])\n",
    "\n",
    "    mat = -visco # + (\n",
    "#       edge_connect \n",
    "#       + face_connect\n",
    "#       cell_connect\n",
    "#    ).toarray() \n",
    "\n",
    "    return inv(mat)\n",
    "\n",
    "\n",
    "\n",
    "class ViscousSolver:\n",
    "\n",
    "    def __init__(self, eptm, geom, model,\n",
    "                 with_collisions=False, with_t1=False, with_t3=False):\n",
    "        \n",
    "        self._set_pos = set_pos\n",
    "        if with_collisions:\n",
    "            self._set_pos = auto_collisions(self._set_pos)\n",
    "        if with_t1:\n",
    "            self._set_pos = auto_t1(self._set_pos)\n",
    "        if with_t3:\n",
    "            self._set_pos = auto_t3(self._set_pos)\n",
    "        self.rearange = with_t1 or with_t3\n",
    "        self.eptm = eptm\n",
    "        self.geom = geom\n",
    "        self.model = model\n",
    "        self.history = History(eptm)\n",
    "        self.prev_t = 0\n",
    "        self.ode_mat = get_ode_mat(eptm)\n",
    "        self.solver_t = np.empty((0,))\n",
    "        \n",
    "    def set_pos(self, pos):\n",
    "        return self._set_pos(self.eptm, self.geom, pos)\n",
    "        \n",
    "    def ode_func(self, t, pos):\n",
    "        self.set_pos(pos)\n",
    "        self.history.record(to_record=[\"vert\", \"edge\", \"face\", \"cell\"], time_stamp=t)\n",
    "        grad_U = self.model.compute_gradient(self.eptm)\n",
    "        return (self.ode_mat @ grad_U.values).ravel()\n",
    "\n",
    "    def solve(self, t):\n",
    "        res = {\"message\": \"Not started\", \"success\": False}\n",
    "        for i in count():\n",
    "            if i == MAX_ITER:\n",
    "                res['message'] = res['message'] + \"\\nMax number of iterations reached!\"\n",
    "                return res\n",
    "            try:\n",
    "                _prev_t = self.prev_t\n",
    "                self.prev_t = t\n",
    "                pos0 = self.eptm.vert_df[eptm.coords].values.ravel()\n",
    "                res = solve_ivp(self.ode_func, (_prev_t, t), pos0)\n",
    "                self.solver_t = np.concatenate((self.solver_t, res['t']))\n",
    "                return res\n",
    "            except TopologyChangeError:\n",
    "                print(f\"Topology changed at time {t}\")\n",
    "                self.ode_mat = get_ode_mat(eptm)\n"
   ]
  },
  {
   "cell_type": "code",
   "execution_count": 12,
   "metadata": {},
   "outputs": [],
   "source": [
    "eptm.topo_changed = False\n",
    "solver = ViscousSolver(eptm, geom, model, with_collisions=True)\n",
    "eptm.face_df.loc[eptm.apical_faces, \"surface_tension\"] /= 2\n"
   ]
  },
  {
   "cell_type": "code",
   "execution_count": 20,
   "metadata": {},
   "outputs": [
    {
     "name": "stderr",
     "output_type": "stream",
     "text": [
      "/home/guillaume/miniconda3/envs/py37/lib/python3.7/site-packages/numpy/linalg/linalg.py:2480: RuntimeWarning: overflow encountered in multiply\n",
      "  s = (x.conj() * x).real\n",
      "/home/guillaume/miniconda3/envs/py37/lib/python3.7/site-packages/ipykernel_launcher.py:111: RuntimeWarning: invalid value encountered in matmul\n"
     ]
    }
   ],
   "source": [
    "res = solver.solve(1)"
   ]
  },
  {
   "cell_type": "code",
   "execution_count": 14,
   "metadata": {},
   "outputs": [
    {
     "data": {
      "text/plain": [
       "(180, 803)"
      ]
     },
     "execution_count": 14,
     "metadata": {},
     "output_type": "execute_result"
    }
   ],
   "source": [
    "res['y'].shape"
   ]
  },
  {
   "cell_type": "code",
   "execution_count": 18,
   "metadata": {},
   "outputs": [
    {
     "data": {
      "text/plain": [
       "(805,)"
      ]
     },
     "execution_count": 18,
     "metadata": {},
     "output_type": "execute_result"
    }
   ],
   "source": [
    "res.t.shape"
   ]
  },
  {
   "cell_type": "code",
   "execution_count": null,
   "metadata": {},
   "outputs": [],
   "source": []
  },
  {
   "cell_type": "code",
   "execution_count": 22,
   "metadata": {},
   "outputs": [
    {
     "data": {
      "text/plain": [
       "[<matplotlib.lines.Line2D at 0x7f1741bdd5c0>]"
      ]
     },
     "execution_count": 22,
     "metadata": {},
     "output_type": "execute_result"
    },
    {
     "data": {
      "image/png": "[encoded data removed]",
      "text/plain": [
       "<Figure size 432x288 with 1 Axes>"
      ]
     },
     "metadata": {
      "needs_background": "light"
     },
     "output_type": "display_data"
    }
   ],
   "source": [
    "pos_h = res['y'].reshape((-1, 3, res['y'].shape[1]))\n",
    "\n",
    "fig, ax = plt.subplots()\n",
    "\n",
    "ax.plot(res.t, pos_h[0,0,:])"
   ]
  },
  {
   "cell_type": "code",
   "execution_count": 43,
   "metadata": {},
   "outputs": [],
   "source": []
  },
  {
   "cell_type": "code",
   "execution_count": 30,
   "metadata": {},
   "outputs": [],
   "source": [
    "solver.set_pos(res['y'][:, -1])"
   ]
  },
  {
   "cell_type": "code",
   "execution_count": 20,
   "metadata": {},
   "outputs": [
    {
     "data": {
      "text/plain": [
       "121"
      ]
     },
     "execution_count": 20,
     "metadata": {},
     "output_type": "execute_result"
    }
   ],
   "source": [
    "np.unique(np.array(solver.history.time_index)).shape[0] // 50"
   ]
  },
  {
   "cell_type": "code",
   "execution_count": 32,
   "metadata": {},
   "outputs": [],
   "source": [
    "for t, mono in solver.history:\n",
    "    if t % 50 != 0:\n",
    "        continue\n",
    "    fig, ax = sheet_view(mono, mode=\"quick\", coords=list(\"xy\"))\n",
    "    fig.savefig(mono.identifier+'.png')\n",
    "    plt.close(fig)"
   ]
  },
  {
   "cell_type": "code",
   "execution_count": 20,
   "metadata": {},
   "outputs": [
    {
     "name": "stdout",
     "output_type": "stream",
     "text": [
      "Automatic pdb calling has been turned ON\n"
     ]
    }
   ],
   "source": [
    "%pdb"
   ]
  },
  {
   "cell_type": "code",
   "execution_count": null,
   "metadata": {},
   "outputs": [],
   "source": []
  },
  {
   "cell_type": "code",
   "execution_count": 21,
   "metadata": {},
   "outputs": [],
   "source": [
    "from tyssue.draw import highlight_cells"
   ]
  },
  {
   "cell_type": "code",
   "execution_count": 23,
   "metadata": {},
   "outputs": [
    {
     "data": {
      "application/vnd.jupyter.widget-view+json": {
       "model_id": "fd21e03ed05e4aa8a4c42d7073eb31f4",
       "version_major": 2,
       "version_minor": 0
      },
      "text/plain": [
       "Figure(camera=PerspectiveCamera(fov=46.0, position=(0.0, 0.0, 2.0), quaternion=(0.0, 0.0, 0.0, 1.0), scale=(1.…"
      ]
     },
     "metadata": {},
     "output_type": "display_data"
    }
   ],
   "source": [
    "ipv.clear()\n",
    "fig, mesh = sheet_view(eptm, face={\"visible\": True}, mode=\"3D\")\n",
    "\n",
    "\n",
    "fig"
   ]
  },
  {
   "cell_type": "code",
   "execution_count": null,
   "metadata": {},
   "outputs": [],
   "source": [
    " # Verify the segment key word for new vertices\n",
    "    srce_face_orbits = eptm.get_orbits(\"srce\", \"face\")\n",
    "    for v in [v7, v8, v9]:\n",
    "        if len(srce_face_orbits[v]) == 12:\n",
    "            eptm.vert_df.loc[v, [\"segment\"]] = \"lateral\"\n",
    "\n",
    "        elif \"apical\" in eptm.edge_df[eptm.edge_df.srce == v].segment.unique():\n",
    "            eptm.vert_df.loc[v, [\"segment\"]] = \"apical\"\n",
    "        else:\n",
    "            eptm.vert_df.loc[v, [\"segment\"]] = \"basal\"\n",
    "\n",
    "    # Verify the segment key word for new faces\n",
    "    face_srce_orbits = eptm.get_orbits(\"face\", \"srce\")\n",
    "    nb_unique_segment_position = len(\n",
    "        eptm.vert_df.loc[face_srce_orbits[fa]].segment.unique()\n",
    "    )\n",
    "    if nb_unique_segment_position == 2:\n",
    "        new_segment = \"lateral\"\n",
    "    else:\n",
    "        new_segment = eptm.vert_df.loc[face_srce_orbits[fa]].segment.unique()\n",
    "  #  eptm.face_df.loc[fa, [\"segment\"]] = new_segment\n",
    "  #  eptm.face_df.loc[fb, [\"segment\"]] = new_segment\n",
    "\n",
    "    eptm.reset_index()\n",
    "eptm.reset_topo()"
   ]
  },
  {
   "cell_type": "code",
   "execution_count": 24,
   "metadata": {},
   "outputs": [],
   "source": [
    "eptm.face_df[\"visible\"] = False\n",
    "highlight_cells(eptm, [5])"
   ]
  },
  {
   "cell_type": "code",
   "execution_count": 18,
   "metadata": {},
   "outputs": [
    {
     "data": {
      "image/png": "[encoded data removed]",
      "text/plain": [
       "<Figure size 1296x432 with 2 Axes>"
      ]
     },
     "metadata": {
      "needs_background": "light"
     },
     "output_type": "display_data"
    }
   ],
   "source": [
    "fig, (ax, bx) = plt.subplots(1, 2, sharex=True)\n",
    "speed0 = solver.ode_func(0, eptm.vert_df[eptm.coords].values.ravel()).reshape((-1, 3))\n",
    "\n",
    "fig, ax = sheet_view(eptm, mode=\"quick\", coords=list('xy'), ax=ax)\n",
    "fig, ax = plot_forces(eptm, geom, model, list('xy'), scaling=100, ax=ax)\n",
    "quivers = ax.quiver(\n",
    "    eptm.vert_df.x.values,\n",
    "    eptm.vert_df.y.values,\n",
    "    speed0[:, 0],\n",
    "    speed0[:, 1], color='red'\n",
    ")\n",
    "fig, ax = sheet_view(eptm, mode=\"quick\", coords=list('zy'), ax=bx)\n",
    "fig, bx = plot_forces(eptm, geom, model, list('zy'), scaling=100, ax=bx)\n",
    "quivers = bx.quiver(\n",
    "    eptm.vert_df.z.values,\n",
    "    eptm.vert_df.y.values,\n",
    "    speed0[:, 2],\n",
    "    speed0[:, 1], color='red'\n",
    ")\n",
    "\n",
    "\n",
    "fig.set_size_inches(18, 6)\n",
    "\n"
   ]
  },
  {
   "cell_type": "code",
   "execution_count": 19,
   "metadata": {
    "scrolled": true
   },
   "outputs": [
    {
     "data": {
      "application/vnd.jupyter.widget-view+json": {
       "model_id": "00967ef11e7b46298d3da5b0e7172fb8",
       "version_major": 2,
       "version_minor": 0
      },
      "text/plain": [
       "Figure(camera=PerspectiveCamera(fov=46.0, position=(0.0, 0.0, 2.0), quaternion=(0.0, 0.0, 0.0, 1.0), scale=(1.…"
      ]
     },
     "metadata": {},
     "output_type": "display_data"
    }
   ],
   "source": [
    "\n",
    "ipv.clear()\n",
    "\n",
    "eptm.face_df['visible'] = True\n",
    "eptm.get_opposite_faces()\n",
    "outer = eptm.face_df[eptm.face_df[\"opposite\"]==-1].index\n",
    "eptm.face_df.loc[outer, \"visible\"] = False\n",
    "\n",
    "fig, mesh = sheet_view(eptm, mode=\"3D\", face={\"visible\": True, \"color\":eptm.face_df['area']})\n",
    "fig"
   ]
  },
  {
   "cell_type": "code",
   "execution_count": 97,
   "metadata": {},
   "outputs": [],
   "source": []
  },
  {
   "cell_type": "code",
   "execution_count": null,
   "metadata": {},
   "outputs": [],
   "source": [
    "1.1 ** 100"
   ]
  },
  {
   "cell_type": "code",
   "execution_count": 98,
   "metadata": {},
   "outputs": [],
   "source": [
    "history = History(eptm)\n",
    "\n"
   ]
  },
  {
   "cell_type": "code",
   "execution_count": 123,
   "metadata": {},
   "outputs": [],
   "source": []
  },
  {
   "cell_type": "code",
   "execution_count": null,
   "metadata": {},
   "outputs": [],
   "source": []
  }
 ],
 "metadata": {
  "anaconda-cloud": {},
  "kernelspec": {
   "display_name": "Python 3",
   "language": "python",
   "name": "python3"
  },
  "language_info": {
   "codemirror_mode": {
    "name": "ipython",
    "version": 3
   },
   "file_extension": ".py",
   "mimetype": "text/x-python",
   "name": "python",
   "nbconvert_exporter": "python",
   "pygments_lexer": "ipython3",
   "version": "3.7.1"
  },
  "widgets": {
   "state": {
    "2071d16c0db447cb9f98bb491bf52bad": {
     "views": [
      {
       "cell_index": 2
      }
     ]
    },
    "4db4a0e7a4f047df8f900b6faa25afe9": {
     "views": [
      {
       "cell_index": 13
      }
     ]
    },
    "57b8348131ba47a2a18f23920a8e2a9b": {
     "views": [
      {
       "cell_index": 6
      }
     ]
    },
    "d9373ebfbb5542c695d896381b0aeefd": {
     "views": [
      {
       "cell_index": 4
      }
     ]
    }
   },
   "version": "1.2.0"
  }
 },
 "nbformat": 4,
 "nbformat_minor": 1
}
