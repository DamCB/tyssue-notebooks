{
 "cells": [
  {
   "cell_type": "markdown",
   "metadata": {},
   "source": [
    "# Reversible Network Reconnection Model\n",
    "\n",
    "Attempt at implementing the RNR model as described in Okuda et al. 2012:\n",
    "\n",
    ">_Reversible network reconnection model for simulating large deformation in dynamic tissue morphogenesis_, Satoru Okuda, Yasuhiro Inoue, Mototsugu Eiraku, Yoshiki Sasai and Taiji Adachi Biomech Model Mechanobiol (2013) 12:627–644 [DOI 10.1007/s10237-012-0430-7](http://link.springer.com/article/10.1007%2Fs10237-012-0430-7)\n",
    "\n",
    "\n",
    "The authors give 4 conditions which we detail and implement bellow.\n",
    "\n",
    "\n"
   ]
  },
  {
   "cell_type": "markdown",
   "metadata": {},
   "source": [
    "## Condition 1 - Center of a face\n",
    "\n",
    "The center of a face is defined by the average position of the face's edges midpoints, weighted by their lengths.\n",
    "\n",
    "$$ \\mathbf{r}_{\\alpha} = \\frac{\\sum_{ij\\alpha}\\ell_{ij} (\\mathbf{r}_i + \\mathbf{r}_j)/2}{\\sum_{ij\\alpha}\\ell_{ij}}$$\n"
   ]
  },
  {
   "cell_type": "code",
   "execution_count": 1,
   "metadata": {},
   "outputs": [
    {
     "name": "stdout",
     "output_type": "stream",
     "text": [
      "93 414 70\n"
     ]
    }
   ],
   "source": [
    "import numpy as np, pandas as pd\n",
    "from IPython.display import display\n",
    "import matplotlib.pyplot as plt\n",
    "%matplotlib inline\n",
    "\n",
    "from tyssue import Epithelium\n",
    "from tyssue import BulkGeometry, RNRGeometry\n",
    "from tyssue import Sheet\n",
    "from tyssue.config.geometry import bulk_spec\n",
    "from tyssue.utils.utils import _to_3d \n",
    "from tyssue.core.generation import three_faces_sheet\n",
    "from tyssue.core.generation import extrude\n",
    "from tyssue.draw.threejs_draw import view_3js, highlight_faces, highlight_cells\n",
    "from tyssue.draw.plt_draw import quick_edge_draw\n",
    "from tyssue.topology.bulk_topology import IH_transition, HI_transition\n",
    "\n",
    "\n",
    "\n",
    "draw_spec = {'face': {'visible': True}}\n",
    "\n",
    "\n",
    "\n",
    "sheet = Sheet.planar_sheet_3d('sheet', 5, 5, 1, 1)\n",
    "sheet.sanitize()\n",
    "datasets = extrude(sheet.datasets, method='translation')\n",
    "\n",
    "eptm = Epithelium('20faces_3D', datasets, bulk_spec())\n",
    "RNRGeometry.update_all(eptm)\n",
    "RNRGeometry.center(eptm)\n",
    "RNRGeometry.update_all(eptm)\n",
    "\n",
    "\n",
    "eptm.settings['threshold_length'] = 1e-4\n",
    "print(eptm.Nf, eptm.Ne, eptm.Nv)\n",
    "\n",
    "render, line = view_3js(eptm, **draw_spec)\n",
    "display(render)"
   ]
  },
  {
   "cell_type": "markdown",
   "metadata": {},
   "source": [
    "## I→H transition\n",
    "\n",
    "![IH transition in a bulk and a RNR](../data/png/IH_transition.png)\n",
    "\n"
   ]
  },
  {
   "cell_type": "code",
   "execution_count": 2,
   "metadata": {},
   "outputs": [],
   "source": [
    "\n",
    "e_1011 = 26\n",
    "eptm.settings['threshold_length'] = 0.5\n",
    "\n",
    "srce, trgt, face, cell = eptm.edge_df.loc[e_1011,\n",
    "                                          ['srce', 'trgt',\n",
    "                                           'face', 'cell']]\n",
    "\n",
    "IH_transition(eptm, e_1011)\n",
    "RNRGeometry.update_all(eptm)\n",
    "\n",
    "\n",
    "highlight_cells(eptm, cell,\n",
    "                reset_visible=True)\n",
    "render, line = view_3js(eptm, **draw_spec)\n",
    "display(render)"
   ]
  },
  {
   "cell_type": "markdown",
   "metadata": {},
   "source": [
    "# H → I transition"
   ]
  },
  {
   "cell_type": "code",
   "execution_count": 4,
   "metadata": {},
   "outputs": [],
   "source": [
    "fa = 93\n",
    "\n",
    "\n",
    "HI_transition(eptm, fa)\n",
    "RNRGeometry.update_all(eptm)\n",
    "\n",
    "highlight_cell(eptm, cell, reset_visible=False)\n",
    "render, line = view_3js(eptm, **draw_spec)\n",
    "display(render)"
   ]
  },
  {
   "cell_type": "markdown",
   "metadata": {},
   "source": [
    "### Testing for I→H / H →I transition triggers"
   ]
  },
  {
   "cell_type": "code",
   "execution_count": 4,
   "metadata": {},
   "outputs": [],
   "source": [
    "eptm.settings['threshold_length'] = 1e-3"
   ]
  },
  {
   "cell_type": "code",
   "execution_count": 5,
   "metadata": {
    "scrolled": true
   },
   "outputs": [
    {
     "data": {
      "text/plain": [
       "(set(), set())"
      ]
     },
     "execution_count": 5,
     "metadata": {},
     "output_type": "execute_result"
    }
   ],
   "source": [
    "def find_rearangements(eptm):\n",
    "    l_th = eptm.settings['threshold_length']\n",
    "    up_num_sides = eptm.upcast_face(eptm.face_df['num_sides'])   \n",
    "    shorts = eptm.edge_df[eptm.edge_df['length'] < l_th]\n",
    "    non_triangular = up_num_sides[up_num_sides > 4 ].index\n",
    "    edges_IH = set(shorts.index).intersection(non_triangular)\n",
    "\n",
    "    max_f_length = shorts.groupby('face')['length'].apply(max)\n",
    "    short_faces = max_f_length[max_f_length < l_th].index\n",
    "    three_faces = eptm.face_df[eptm.face_df['num_sides'] == 3].index\n",
    "    faces_HI = set(three_faces).intersection(short_faces)\n",
    "    return edges_IH, faces_HI\n",
    "\n",
    "find_rearangements(eptm)"
   ]
  },
  {
   "cell_type": "markdown",
   "metadata": {},
   "source": [
    "### Condition 3\n",
    "\n",
    "This condition is satisfied if `eptm.settings['threshold_length']`\n",
    "is well defined, i.e, small with respect to the unit length or the\n",
    "average edge length.\n",
    "\n",
    "### Condition 4\n",
    "\n",
    "* (i)  Two edges never share two vertices simultaneously.\n",
    "\n",
    "_In our half-edge architecture, this is not as straight forward. But I think the condition can\n",
    "be reformulated as:_ Two edges **from the same face** never share two edges simultanously.\n",
    "I don't know how to demonstrate this, but I think these are equivalent (to get two edges together, you need to \"squeeze\" one face between those two.\n",
    "\n",
    "* (ii) Two polygonal faces never share two or more edges simultaneously.\n"
   ]
  },
  {
   "cell_type": "code",
   "execution_count": 6,
   "metadata": {
    "collapsed": true
   },
   "outputs": [],
   "source": [
    "from tyssue.topology.base_topology import condition_4i, condition_4ii"
   ]
  },
  {
   "cell_type": "code",
   "execution_count": 7,
   "metadata": {},
   "outputs": [
    {
     "data": {
      "text/plain": [
       "(Int64Index([], dtype='int64', name='face'), [])"
      ]
     },
     "execution_count": 7,
     "metadata": {},
     "output_type": "execute_result"
    }
   ],
   "source": [
    "condition_4i(eptm), condition_4ii(eptm)"
   ]
  },
  {
   "cell_type": "code",
   "execution_count": 8,
   "metadata": {
    "collapsed": true
   },
   "outputs": [],
   "source": [
    "eptm.settings['threshold_length'] = 0.5\n",
    "\n",
    "IH_transition(eptm, eptm.edge_df.index[-1])\n",
    "RNRGeometry.update_all(eptm)\n",
    "\n",
    "render, line = view_3js(eptm)\n",
    "display(render)"
   ]
  },
  {
   "cell_type": "code",
   "execution_count": 10,
   "metadata": {},
   "outputs": [
    {
     "ename": "TypeError",
     "evalue": "cannot use label indexing with a null key",
     "output_type": "error",
     "traceback": [
      "\u001b[0;31m---------------------------------------------------------------------------\u001b[0m",
      "\u001b[0;31mTypeError\u001b[0m                                 Traceback (most recent call last)",
      "\u001b[0;32m<ipython-input-10-fb788e786d6d>\u001b[0m in \u001b[0;36m<module>\u001b[0;34m()\u001b[0m\n\u001b[0;32m----> 1\u001b[0;31m \u001b[0mIH_transition\u001b[0m\u001b[0;34m(\u001b[0m\u001b[0meptm\u001b[0m\u001b[0;34m,\u001b[0m \u001b[0meptm\u001b[0m\u001b[0;34m.\u001b[0m\u001b[0medge_df\u001b[0m\u001b[0;34m.\u001b[0m\u001b[0mindex\u001b[0m\u001b[0;34m[\u001b[0m\u001b[0;34m-\u001b[0m\u001b[0;36m1\u001b[0m\u001b[0;34m]\u001b[0m\u001b[0;34m)\u001b[0m\u001b[0;34m\u001b[0m\u001b[0m\n\u001b[0m",
      "\u001b[0;32m/home/guillaume/miniconda3/envs/tyssue/lib/python3.5/site-packages/tyssue-0.0.2-py3.5.egg/tyssue/topology/bulk_topology.py\u001b[0m in \u001b[0;36mwith_bckup\u001b[0;34m(*args, **kwargs)\u001b[0m\n\u001b[1;32m     23\u001b[0m         \u001b[0;32mexcept\u001b[0m \u001b[0mException\u001b[0m \u001b[0;32mas\u001b[0m \u001b[0merr\u001b[0m\u001b[0;34m:\u001b[0m\u001b[0;34m\u001b[0m\u001b[0m\n\u001b[1;32m     24\u001b[0m             \u001b[0meptm\u001b[0m \u001b[0;34m=\u001b[0m \u001b[0mbck_eptm\u001b[0m\u001b[0;34m\u001b[0m\u001b[0m\n\u001b[0;32m---> 25\u001b[0;31m             \u001b[0;32mraise\u001b[0m \u001b[0merr\u001b[0m\u001b[0;34m\u001b[0m\u001b[0m\n\u001b[0m\u001b[1;32m     26\u001b[0m     \u001b[0;32mreturn\u001b[0m \u001b[0mwith_bckup\u001b[0m\u001b[0;34m\u001b[0m\u001b[0m\n\u001b[1;32m     27\u001b[0m \u001b[0;34m\u001b[0m\u001b[0m\n",
      "\u001b[0;32m/home/guillaume/miniconda3/envs/tyssue/lib/python3.5/site-packages/tyssue-0.0.2-py3.5.egg/tyssue/topology/bulk_topology.py\u001b[0m in \u001b[0;36mwith_bckup\u001b[0;34m(*args, **kwargs)\u001b[0m\n\u001b[1;32m     20\u001b[0m         \u001b[0mbck_eptm\u001b[0m \u001b[0;34m=\u001b[0m \u001b[0meptm\u001b[0m\u001b[0;34m.\u001b[0m\u001b[0mcopy\u001b[0m\u001b[0;34m(\u001b[0m\u001b[0;34m)\u001b[0m\u001b[0;34m\u001b[0m\u001b[0m\n\u001b[1;32m     21\u001b[0m         \u001b[0;32mtry\u001b[0m\u001b[0;34m:\u001b[0m\u001b[0;34m\u001b[0m\u001b[0m\n\u001b[0;32m---> 22\u001b[0;31m             \u001b[0;32mreturn\u001b[0m \u001b[0mfunc\u001b[0m\u001b[0;34m(\u001b[0m\u001b[0;34m*\u001b[0m\u001b[0margs\u001b[0m\u001b[0;34m,\u001b[0m \u001b[0;34m**\u001b[0m\u001b[0mkwargs\u001b[0m\u001b[0;34m)\u001b[0m\u001b[0;34m\u001b[0m\u001b[0m\n\u001b[0m\u001b[1;32m     23\u001b[0m         \u001b[0;32mexcept\u001b[0m \u001b[0mException\u001b[0m \u001b[0;32mas\u001b[0m \u001b[0merr\u001b[0m\u001b[0;34m:\u001b[0m\u001b[0;34m\u001b[0m\u001b[0m\n\u001b[1;32m     24\u001b[0m             \u001b[0meptm\u001b[0m \u001b[0;34m=\u001b[0m \u001b[0mbck_eptm\u001b[0m\u001b[0;34m\u001b[0m\u001b[0m\n",
      "\u001b[0;32m/home/guillaume/miniconda3/envs/tyssue/lib/python3.5/site-packages/tyssue-0.0.2-py3.5.egg/tyssue/topology/bulk_topology.py\u001b[0m in \u001b[0;36mIH_transition\u001b[0;34m(eptm, e_1011)\u001b[0m\n\u001b[1;32m    179\u001b[0m \u001b[0;34m\u001b[0m\u001b[0m\n\u001b[1;32m    180\u001b[0m     \u001b[0mv10\u001b[0m\u001b[0;34m,\u001b[0m \u001b[0mv11\u001b[0m \u001b[0;34m=\u001b[0m \u001b[0meptm\u001b[0m\u001b[0;34m.\u001b[0m\u001b[0medge_df\u001b[0m\u001b[0;34m.\u001b[0m\u001b[0mloc\u001b[0m\u001b[0;34m[\u001b[0m\u001b[0me_1011\u001b[0m\u001b[0;34m,\u001b[0m \u001b[0;34m[\u001b[0m\u001b[0;34m'srce'\u001b[0m\u001b[0;34m,\u001b[0m \u001b[0;34m'trgt'\u001b[0m\u001b[0;34m]\u001b[0m\u001b[0;34m]\u001b[0m\u001b[0;34m\u001b[0m\u001b[0m\n\u001b[0;32m--> 181\u001b[0;31m     \u001b[0mv_pairs\u001b[0m \u001b[0;34m=\u001b[0m \u001b[0m_get_vertex_pairs_IH\u001b[0m\u001b[0;34m(\u001b[0m\u001b[0meptm\u001b[0m\u001b[0;34m,\u001b[0m \u001b[0me_1011\u001b[0m\u001b[0;34m)\u001b[0m\u001b[0;34m\u001b[0m\u001b[0m\n\u001b[0m\u001b[1;32m    182\u001b[0m     \u001b[0;32mtry\u001b[0m\u001b[0;34m:\u001b[0m\u001b[0;34m\u001b[0m\u001b[0m\n\u001b[1;32m    183\u001b[0m         \u001b[0;34m(\u001b[0m\u001b[0mv1\u001b[0m\u001b[0;34m,\u001b[0m \u001b[0mv4\u001b[0m\u001b[0;34m)\u001b[0m\u001b[0;34m,\u001b[0m \u001b[0;34m(\u001b[0m\u001b[0mv2\u001b[0m\u001b[0;34m,\u001b[0m \u001b[0mv5\u001b[0m\u001b[0;34m)\u001b[0m\u001b[0;34m,\u001b[0m \u001b[0;34m(\u001b[0m\u001b[0mv3\u001b[0m\u001b[0;34m,\u001b[0m \u001b[0mv6\u001b[0m\u001b[0;34m)\u001b[0m \u001b[0;34m=\u001b[0m \u001b[0mv_pairs\u001b[0m\u001b[0;34m\u001b[0m\u001b[0m\n",
      "\u001b[0;32m/home/guillaume/miniconda3/envs/tyssue/lib/python3.5/site-packages/tyssue-0.0.2-py3.5.egg/tyssue/topology/bulk_topology.py\u001b[0m in \u001b[0;36m_get_vertex_pairs_IH\u001b[0;34m(eptm, e_1011)\u001b[0m\n\u001b[1;32m    448\u001b[0m     \u001b[0mv10_out\u001b[0m \u001b[0;34m=\u001b[0m \u001b[0mset\u001b[0m\u001b[0;34m(\u001b[0m\u001b[0meptm\u001b[0m\u001b[0;34m.\u001b[0m\u001b[0medge_df\u001b[0m\u001b[0;34m[\u001b[0m\u001b[0meptm\u001b[0m\u001b[0;34m.\u001b[0m\u001b[0medge_df\u001b[0m\u001b[0;34m[\u001b[0m\u001b[0;34m'srce'\u001b[0m\u001b[0;34m]\u001b[0m \u001b[0;34m==\u001b[0m \u001b[0mv10\u001b[0m\u001b[0;34m]\u001b[0m\u001b[0;34m[\u001b[0m\u001b[0;34m'trgt'\u001b[0m\u001b[0;34m]\u001b[0m\u001b[0;34m)\u001b[0m \u001b[0;34m-\u001b[0m \u001b[0;34m{\u001b[0m\u001b[0mv11\u001b[0m\u001b[0;34m}\u001b[0m\u001b[0;34m\u001b[0m\u001b[0m\n\u001b[1;32m    449\u001b[0m     faces_123 = {v: set(srce_face_orbits.loc[v])\n\u001b[0;32m--> 450\u001b[0;31m                  for v in v10_out}\n\u001b[0m\u001b[1;32m    451\u001b[0m \u001b[0;34m\u001b[0m\u001b[0m\n\u001b[1;32m    452\u001b[0m     \u001b[0mv11_out\u001b[0m \u001b[0;34m=\u001b[0m \u001b[0mset\u001b[0m\u001b[0;34m(\u001b[0m\u001b[0meptm\u001b[0m\u001b[0;34m.\u001b[0m\u001b[0medge_df\u001b[0m\u001b[0;34m[\u001b[0m\u001b[0meptm\u001b[0m\u001b[0;34m.\u001b[0m\u001b[0medge_df\u001b[0m\u001b[0;34m[\u001b[0m\u001b[0;34m'srce'\u001b[0m\u001b[0;34m]\u001b[0m \u001b[0;34m==\u001b[0m \u001b[0mv11\u001b[0m\u001b[0;34m]\u001b[0m\u001b[0;34m[\u001b[0m\u001b[0;34m'trgt'\u001b[0m\u001b[0;34m]\u001b[0m\u001b[0;34m)\u001b[0m \u001b[0;34m-\u001b[0m \u001b[0;34m{\u001b[0m\u001b[0mv10\u001b[0m\u001b[0;34m}\u001b[0m\u001b[0;34m\u001b[0m\u001b[0m\n",
      "\u001b[0;32m/home/guillaume/miniconda3/envs/tyssue/lib/python3.5/site-packages/tyssue-0.0.2-py3.5.egg/tyssue/topology/bulk_topology.py\u001b[0m in \u001b[0;36m<dictcomp>\u001b[0;34m(.0)\u001b[0m\n\u001b[1;32m    448\u001b[0m     \u001b[0mv10_out\u001b[0m \u001b[0;34m=\u001b[0m \u001b[0mset\u001b[0m\u001b[0;34m(\u001b[0m\u001b[0meptm\u001b[0m\u001b[0;34m.\u001b[0m\u001b[0medge_df\u001b[0m\u001b[0;34m[\u001b[0m\u001b[0meptm\u001b[0m\u001b[0;34m.\u001b[0m\u001b[0medge_df\u001b[0m\u001b[0;34m[\u001b[0m\u001b[0;34m'srce'\u001b[0m\u001b[0;34m]\u001b[0m \u001b[0;34m==\u001b[0m \u001b[0mv10\u001b[0m\u001b[0;34m]\u001b[0m\u001b[0;34m[\u001b[0m\u001b[0;34m'trgt'\u001b[0m\u001b[0;34m]\u001b[0m\u001b[0;34m)\u001b[0m \u001b[0;34m-\u001b[0m \u001b[0;34m{\u001b[0m\u001b[0mv11\u001b[0m\u001b[0;34m}\u001b[0m\u001b[0;34m\u001b[0m\u001b[0m\n\u001b[1;32m    449\u001b[0m     faces_123 = {v: set(srce_face_orbits.loc[v])\n\u001b[0;32m--> 450\u001b[0;31m                  for v in v10_out}\n\u001b[0m\u001b[1;32m    451\u001b[0m \u001b[0;34m\u001b[0m\u001b[0m\n\u001b[1;32m    452\u001b[0m     \u001b[0mv11_out\u001b[0m \u001b[0;34m=\u001b[0m \u001b[0mset\u001b[0m\u001b[0;34m(\u001b[0m\u001b[0meptm\u001b[0m\u001b[0;34m.\u001b[0m\u001b[0medge_df\u001b[0m\u001b[0;34m[\u001b[0m\u001b[0meptm\u001b[0m\u001b[0;34m.\u001b[0m\u001b[0medge_df\u001b[0m\u001b[0;34m[\u001b[0m\u001b[0;34m'srce'\u001b[0m\u001b[0;34m]\u001b[0m \u001b[0;34m==\u001b[0m \u001b[0mv11\u001b[0m\u001b[0;34m]\u001b[0m\u001b[0;34m[\u001b[0m\u001b[0;34m'trgt'\u001b[0m\u001b[0;34m]\u001b[0m\u001b[0;34m)\u001b[0m \u001b[0;34m-\u001b[0m \u001b[0;34m{\u001b[0m\u001b[0mv10\u001b[0m\u001b[0;34m}\u001b[0m\u001b[0;34m\u001b[0m\u001b[0m\n",
      "\u001b[0;32m/home/guillaume/miniconda3/envs/tyssue/lib/python3.5/site-packages/pandas/core/indexing.py\u001b[0m in \u001b[0;36m__getitem__\u001b[0;34m(self, key)\u001b[0m\n\u001b[1;32m   1310\u001b[0m             \u001b[0;32mreturn\u001b[0m \u001b[0mself\u001b[0m\u001b[0;34m.\u001b[0m\u001b[0m_getitem_tuple\u001b[0m\u001b[0;34m(\u001b[0m\u001b[0mkey\u001b[0m\u001b[0;34m)\u001b[0m\u001b[0;34m\u001b[0m\u001b[0m\n\u001b[1;32m   1311\u001b[0m         \u001b[0;32melse\u001b[0m\u001b[0;34m:\u001b[0m\u001b[0;34m\u001b[0m\u001b[0m\n\u001b[0;32m-> 1312\u001b[0;31m             \u001b[0;32mreturn\u001b[0m \u001b[0mself\u001b[0m\u001b[0;34m.\u001b[0m\u001b[0m_getitem_axis\u001b[0m\u001b[0;34m(\u001b[0m\u001b[0mkey\u001b[0m\u001b[0;34m,\u001b[0m \u001b[0maxis\u001b[0m\u001b[0;34m=\u001b[0m\u001b[0;36m0\u001b[0m\u001b[0;34m)\u001b[0m\u001b[0;34m\u001b[0m\u001b[0m\n\u001b[0m\u001b[1;32m   1313\u001b[0m \u001b[0;34m\u001b[0m\u001b[0m\n\u001b[1;32m   1314\u001b[0m     \u001b[0;32mdef\u001b[0m \u001b[0m_getitem_axis\u001b[0m\u001b[0;34m(\u001b[0m\u001b[0mself\u001b[0m\u001b[0;34m,\u001b[0m \u001b[0mkey\u001b[0m\u001b[0;34m,\u001b[0m \u001b[0maxis\u001b[0m\u001b[0;34m=\u001b[0m\u001b[0;36m0\u001b[0m\u001b[0;34m)\u001b[0m\u001b[0;34m:\u001b[0m\u001b[0;34m\u001b[0m\u001b[0m\n",
      "\u001b[0;32m/home/guillaume/miniconda3/envs/tyssue/lib/python3.5/site-packages/pandas/core/indexing.py\u001b[0m in \u001b[0;36m_getitem_axis\u001b[0;34m(self, key, axis)\u001b[0m\n\u001b[1;32m   1480\u001b[0m \u001b[0;34m\u001b[0m\u001b[0m\n\u001b[1;32m   1481\u001b[0m         \u001b[0;31m# fall thru to straight lookup\u001b[0m\u001b[0;34m\u001b[0m\u001b[0;34m\u001b[0m\u001b[0m\n\u001b[0;32m-> 1482\u001b[0;31m         \u001b[0mself\u001b[0m\u001b[0;34m.\u001b[0m\u001b[0m_has_valid_type\u001b[0m\u001b[0;34m(\u001b[0m\u001b[0mkey\u001b[0m\u001b[0;34m,\u001b[0m \u001b[0maxis\u001b[0m\u001b[0;34m)\u001b[0m\u001b[0;34m\u001b[0m\u001b[0m\n\u001b[0m\u001b[1;32m   1483\u001b[0m         \u001b[0;32mreturn\u001b[0m \u001b[0mself\u001b[0m\u001b[0;34m.\u001b[0m\u001b[0m_get_label\u001b[0m\u001b[0;34m(\u001b[0m\u001b[0mkey\u001b[0m\u001b[0;34m,\u001b[0m \u001b[0maxis\u001b[0m\u001b[0;34m=\u001b[0m\u001b[0maxis\u001b[0m\u001b[0;34m)\u001b[0m\u001b[0;34m\u001b[0m\u001b[0m\n\u001b[1;32m   1484\u001b[0m \u001b[0;34m\u001b[0m\u001b[0m\n",
      "\u001b[0;32m/home/guillaume/miniconda3/envs/tyssue/lib/python3.5/site-packages/pandas/core/indexing.py\u001b[0m in \u001b[0;36m_has_valid_type\u001b[0;34m(self, key, axis)\u001b[0m\n\u001b[1;32m   1409\u001b[0m                 \u001b[0mkey\u001b[0m \u001b[0;34m=\u001b[0m \u001b[0mself\u001b[0m\u001b[0;34m.\u001b[0m\u001b[0m_convert_scalar_indexer\u001b[0m\u001b[0;34m(\u001b[0m\u001b[0mkey\u001b[0m\u001b[0;34m,\u001b[0m \u001b[0maxis\u001b[0m\u001b[0;34m)\u001b[0m\u001b[0;34m\u001b[0m\u001b[0m\n\u001b[1;32m   1410\u001b[0m                 \u001b[0;32mif\u001b[0m \u001b[0mkey\u001b[0m \u001b[0;32mnot\u001b[0m \u001b[0;32min\u001b[0m \u001b[0max\u001b[0m\u001b[0;34m:\u001b[0m\u001b[0;34m\u001b[0m\u001b[0m\n\u001b[0;32m-> 1411\u001b[0;31m                     \u001b[0merror\u001b[0m\u001b[0;34m(\u001b[0m\u001b[0;34m)\u001b[0m\u001b[0;34m\u001b[0m\u001b[0m\n\u001b[0m\u001b[1;32m   1412\u001b[0m             \u001b[0;32mexcept\u001b[0m \u001b[0mTypeError\u001b[0m \u001b[0;32mas\u001b[0m \u001b[0me\u001b[0m\u001b[0;34m:\u001b[0m\u001b[0;34m\u001b[0m\u001b[0m\n\u001b[1;32m   1413\u001b[0m \u001b[0;34m\u001b[0m\u001b[0m\n",
      "\u001b[0;32m/home/guillaume/miniconda3/envs/tyssue/lib/python3.5/site-packages/pandas/core/indexing.py\u001b[0m in \u001b[0;36merror\u001b[0;34m()\u001b[0m\n\u001b[1;32m   1401\u001b[0m             \u001b[0;32mdef\u001b[0m \u001b[0merror\u001b[0m\u001b[0;34m(\u001b[0m\u001b[0;34m)\u001b[0m\u001b[0;34m:\u001b[0m\u001b[0;34m\u001b[0m\u001b[0m\n\u001b[1;32m   1402\u001b[0m                 \u001b[0;32mif\u001b[0m \u001b[0misnull\u001b[0m\u001b[0;34m(\u001b[0m\u001b[0mkey\u001b[0m\u001b[0;34m)\u001b[0m\u001b[0;34m:\u001b[0m\u001b[0;34m\u001b[0m\u001b[0m\n\u001b[0;32m-> 1403\u001b[0;31m                     raise TypeError(\"cannot use label indexing with a null \"\n\u001b[0m\u001b[1;32m   1404\u001b[0m                                     \"key\")\n\u001b[1;32m   1405\u001b[0m                 raise KeyError(\"the label [%s] is not in the [%s]\" %\n",
      "\u001b[0;31mTypeError\u001b[0m: cannot use label indexing with a null key"
     ]
    }
   ],
   "source": [
    "IH_transition(eptm, eptm.edge_df.index[-1])\n"
   ]
  },
  {
   "cell_type": "code",
   "execution_count": 7,
   "metadata": {},
   "outputs": [
    {
     "ename": "AssertionError",
     "evalue": "",
     "output_type": "error",
     "traceback": [
      "\u001b[0;31m---------------------------------------------------------------------------\u001b[0m",
      "\u001b[0;31mAssertionError\u001b[0m                            Traceback (most recent call last)",
      "\u001b[0;32m<ipython-input-7-a766e7287d83>\u001b[0m in \u001b[0;36m<module>\u001b[0;34m()\u001b[0m\n\u001b[1;32m      1\u001b[0m \u001b[0minvalid\u001b[0m \u001b[0;34m=\u001b[0m \u001b[0meptm\u001b[0m\u001b[0;34m.\u001b[0m\u001b[0mget_invalid\u001b[0m\u001b[0;34m(\u001b[0m\u001b[0;34m)\u001b[0m\u001b[0;34m\u001b[0m\u001b[0m\n\u001b[0;32m----> 2\u001b[0;31m \u001b[0;32massert\u001b[0m \u001b[0mnp\u001b[0m\u001b[0;34m.\u001b[0m\u001b[0malltrue\u001b[0m\u001b[0;34m(\u001b[0m\u001b[0;36m1\u001b[0m \u001b[0;34m-\u001b[0m \u001b[0minvalid\u001b[0m\u001b[0;34m)\u001b[0m\u001b[0;34m\u001b[0m\u001b[0m\n\u001b[0m\u001b[1;32m      3\u001b[0m \u001b[0;32massert\u001b[0m \u001b[0mnp\u001b[0m\u001b[0;34m.\u001b[0m\u001b[0malltrue\u001b[0m\u001b[0;34m(\u001b[0m\u001b[0meptm\u001b[0m\u001b[0;34m.\u001b[0m\u001b[0medge_df\u001b[0m\u001b[0;34m[\u001b[0m\u001b[0;34m'sub_vol'\u001b[0m\u001b[0;34m]\u001b[0m \u001b[0;34m>\u001b[0m \u001b[0;36m0\u001b[0m\u001b[0;34m)\u001b[0m\u001b[0;34m\u001b[0m\u001b[0m\n",
      "\u001b[0;31mAssertionError\u001b[0m: "
     ]
    }
   ],
   "source": [
    "invalid = eptm.get_invalid()\n",
    "assert np.alltrue(1 - invalid)\n",
    "assert np.alltrue(eptm.edge_df['sub_vol'] > 0)"
   ]
  },
  {
   "cell_type": "code",
   "execution_count": 10,
   "metadata": {},
   "outputs": [
    {
     "name": "stdout",
     "output_type": "stream",
     "text": [
      "Automatic pdb calling has been turned ON\n"
     ]
    }
   ],
   "source": [
    "%pdb"
   ]
  },
  {
   "cell_type": "code",
   "execution_count": null,
   "metadata": {
    "collapsed": true
   },
   "outputs": [],
   "source": []
  }
 ],
 "metadata": {
  "anaconda-cloud": {},
  "kernelspec": {
   "display_name": "Python 3",
   "language": "python",
   "name": "python3"
  },
  "language_info": {
   "codemirror_mode": {
    "name": "ipython",
    "version": 3
   },
   "file_extension": ".py",
   "mimetype": "text/x-python",
   "name": "python",
   "nbconvert_exporter": "python",
   "pygments_lexer": "ipython3",
   "version": "3.6.4"
  },
  "widgets": {
   "state": {
    "2071d16c0db447cb9f98bb491bf52bad": {
     "views": [
      {
       "cell_index": 2
      }
     ]
    },
    "4db4a0e7a4f047df8f900b6faa25afe9": {
     "views": [
      {
       "cell_index": 13
      }
     ]
    },
    "57b8348131ba47a2a18f23920a8e2a9b": {
     "views": [
      {
       "cell_index": 6
      }
     ]
    },
    "d9373ebfbb5542c695d896381b0aeefd": {
     "views": [
      {
       "cell_index": 4
      }
     ]
    }
   },
   "version": "1.2.0"
  }
 },
 "nbformat": 4,
 "nbformat_minor": 1
}
