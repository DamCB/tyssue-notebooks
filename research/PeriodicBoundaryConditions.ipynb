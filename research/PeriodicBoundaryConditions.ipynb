{
 "cells": [
  {
   "cell_type": "markdown",
   "metadata": {},
   "source": [
    "```bash\n",
    "sudo apt install cmake build-essential\n",
    "git clone git@github.com:glyg/cgal4py.git\n",
    "sudo apt install libeigen3-dev libboost-dev libghc-opengl-dev\n",
    "wget https://github.com/CGAL/cgal/releases/download/releases%2FCGAL-4.12/CGAL-4.12.tar.xz\n",
    "tar -xvvf CGAL-4.12.tar.xz \n",
    "cd CGAL-4.12\n",
    "cmake .\n",
    "make && sudo make install\n",
    "```\n",
    "\n"
   ]
  },
  {
   "cell_type": "code",
   "execution_count": 89,
   "metadata": {},
   "outputs": [
    {
     "ename": "ModuleNotFoundError",
     "evalue": "No module named 'cgal4py'",
     "output_type": "error",
     "traceback": [
      "\u001b[0;31m---------------------------------------------------------------------------\u001b[0m",
      "\u001b[0;31mModuleNotFoundError\u001b[0m                       Traceback (most recent call last)",
      "\u001b[0;32m<ipython-input-1-394e0594f394>\u001b[0m in \u001b[0;36m<module>\u001b[0;34m()\u001b[0m\n\u001b[1;32m      9\u001b[0m \u001b[0;32mfrom\u001b[0m \u001b[0mtyssue\u001b[0m\u001b[0;34m.\u001b[0m\u001b[0mdraw\u001b[0m\u001b[0;34m.\u001b[0m\u001b[0mplt_draw\u001b[0m \u001b[0;32mimport\u001b[0m \u001b[0mquick_edge_draw\u001b[0m\u001b[0;34m\u001b[0m\u001b[0m\n\u001b[1;32m     10\u001b[0m \u001b[0;34m\u001b[0m\u001b[0m\n\u001b[0;32m---> 11\u001b[0;31m \u001b[0;32mfrom\u001b[0m \u001b[0mcgal4py\u001b[0m\u001b[0;34m.\u001b[0m\u001b[0mdelaunay\u001b[0m \u001b[0;32mimport\u001b[0m \u001b[0mDelaunay2\u001b[0m\u001b[0;34m,\u001b[0m \u001b[0mPeriodicDelaunay2\u001b[0m\u001b[0;34m\u001b[0m\u001b[0m\n\u001b[0m",
      "\u001b[0;31mModuleNotFoundError\u001b[0m: No module named 'cgal4py'"
     ]
    }
   ],
   "source": [
    "from scipy.spatial import Voronoi\n",
    "import pandas as pd\n",
    "import numpy as np\n",
    "import matplotlib.pyplot as plt\n",
    "import sys, os\n",
    "%matplotlib inline\n",
    "from tyssue.generation import hexa_grid2d\n",
    "from tyssue import config, Sheet\n",
    "from tyssue import SheetGeometry, PlanarGeometry\n",
    "from tyssue.io import hdf5\n",
    "\n",
    "from tyssue.draw.plt_draw import quick_edge_draw\n",
    "\n",
    "from cgal4py.delaunay import Delaunay2, PeriodicDelaunay2"
   ]
  },
  {
   "cell_type": "code",
   "execution_count": 2,
   "metadata": {},
   "outputs": [],
   "source": [
    "def periodic_boundaries_sheet(points, boundaries, specs=None):\n",
    "\n",
    "    \n",
    "    left_edge = np.array([boundary[0] for boundary in boundaries.values()], dtype=np.float64)\n",
    "    right_edge = np.array([boundary[1] for boundary in boundaries.values()], dtype=np.float64)\n",
    "    \n",
    "    T = PeriodicDelaunay2()\n",
    "    T.set_domain(left_edge=left_edge, right_edge=right_edge)\n",
    "\n",
    "    T.insert(np.ascontiguousarray(points))\n",
    "\n",
    "    vert_df = pd.DataFrame(\n",
    "        [(frozenset(v.index for v in c.incident_vertices()),\n",
    "         c.circumcenter[0], c.circumcenter[1])\n",
    "         for c in T.all_cells],\n",
    "        index=pd.RangeIndex(stop=T.num_cells),\n",
    "        columns=['triangle', 'x', 'y'])\n",
    "\n",
    "    vert_df['id'] = vert_df.index\n",
    "    vert_df.set_index('triangle', inplace=True)\n",
    "\n",
    "    face_df = pd.DataFrame(index=pd.RangeIndex(stop=T.num_verts),\n",
    "                           columns=['x', 'y'])\n",
    "    edge_df = pd.DataFrame(index=pd.RangeIndex(stop=T.num_edges*2),\n",
    "                           columns=['face', 'srce', 'trgt'])\n",
    "    e = 0\n",
    "    for v in T.all_verts:\n",
    "        face_df.loc[v.index] = v.point\n",
    "\n",
    "        verts = [frozenset(k.index for k in c.incident_vertices())\n",
    "                 for c in v.incident_cells()]\n",
    "        nv = len(verts)\n",
    "        edge_df.loc[e: e+nv-1, 'srce'] = vert_df.loc[verts, 'id'].values\n",
    "        edge_df.loc[e: e+nv-1, 'trgt'] = np.roll(vert_df.loc[verts, 'id'], -1)\n",
    "        edge_df.loc[e: e+nv-1, 'face'] = np.ones(nv) * v.index\n",
    "        e += nv\n",
    "\n",
    "    edge_df.dropna(inplace=True)\n",
    "    edge_df = edge_df.astype(np.int)\n",
    "    vert_df.set_index('id', inplace=True)\n",
    "    vert_df.index.name = 'vert'\n",
    "    \n",
    "\n",
    "    for u in ['x', 'y']:\n",
    "        edge_df['s'+u] = 0.\n",
    "        edge_df['t'+u] = 0.\n",
    "    datasets = {'vert': vert_df,\n",
    "                'face': face_df,\n",
    "                'edge': edge_df}\n",
    "    \n",
    "    sheet = Sheet('period', datasets, specs)\n",
    "    sheet.settings['boundaries'] = boundaries\n",
    "    sheet.sanitize()\n",
    "    sheet.reset_index()\n",
    "    sheet.reset_topo()\n",
    "    return sheet\n",
    "\n",
    "\n"
   ]
  },
  {
   "cell_type": "code",
   "execution_count": 3,
   "metadata": {},
   "outputs": [
    {
     "name": "stdout",
     "output_type": "stream",
     "text": [
      "Automatic pdb calling has been turned ON\n"
     ]
    }
   ],
   "source": [
    "%pdb"
   ]
  },
  {
   "cell_type": "code",
   "execution_count": 9,
   "metadata": {},
   "outputs": [],
   "source": [
    "h2d = hexa_grid2d(8, 8, 1, 1, noise=None)\n",
    "sheet = periodic_boundaries_sheet(\n",
    "    h2d, {'x': [-0.1, 8], 'y': [-0.1, 8]},\n",
    "    specs=config.geometry.planar_sheet())\n"
   ]
  },
  {
   "cell_type": "code",
   "execution_count": 11,
   "metadata": {},
   "outputs": [],
   "source": [
    "PlanarGeometry.update_all(sheet)"
   ]
  },
  {
   "cell_type": "code",
   "execution_count": 12,
   "metadata": {},
   "outputs": [
    {
     "data": {
      "image/png": "[encoded data removed]",
      "text/plain": [
       "<Figure size 432x288 with 1 Axes>"
      ]
     },
     "metadata": {},
     "output_type": "display_data"
    }
   ],
   "source": [
    "fig, ax = plt.subplots()\n",
    "\n",
    "x, y = sheet.coords[:2]\n",
    "srce_x = sheet.edge_df['s'+x].values\n",
    "srce_y = sheet.edge_df['s'+y].values\n",
    "trgt_x = sheet.edge_df['t'+x].values\n",
    "trgt_y = sheet.edge_df['t'+y].values\n",
    "\n",
    "lines_x, lines_y = np.zeros(2 * sheet.Ne), np.zeros(2 * sheet.Ne)\n",
    "lines_x[::2] = srce_x\n",
    "lines_x[1::2] = trgt_x\n",
    "lines_y[::2] = srce_y\n",
    "lines_y[1::2] = trgt_y\n",
    "# Trick from https://github.com/matplotlib/\n",
    "# matplotlib/blob/master/lib/matplotlib/tri/triplot.py#L65\n",
    "lines_x = np.insert(lines_x, slice(None, None, 2), np.nan)\n",
    "lines_y = np.insert(lines_y, slice(None, None, 2), np.nan)\n",
    "\n",
    "(x_min, x_max), (y_min, y_max) = (sheet.settings['boundaries']['x'], \n",
    "                                  sheet.settings['boundaries']['y'])\n",
    "square = (np.array([x_min, x_max, x_max, x_min, x_min]),\n",
    "          np.array([y_min, y_min, y_max, y_max, y_min]))\n",
    "\n",
    "ax.plot(square[0], square[1], 'k-', alpha=0.4)\n",
    "ax.plot(lines_x, lines_y)\n",
    "ax.set_aspect('equal')\n"
   ]
  },
  {
   "cell_type": "code",
   "execution_count": 13,
   "metadata": {},
   "outputs": [],
   "source": []
  },
  {
   "cell_type": "code",
   "execution_count": null,
   "metadata": {},
   "outputs": [],
   "source": []
  }
 ],
 "metadata": {
  "kernelspec": {
   "display_name": "Python 3",
   "language": "python",
   "name": "python3"
  },
  "language_info": {
   "codemirror_mode": {
    "name": "ipython",
    "version": 3
   },
   "file_extension": ".py",
   "mimetype": "text/x-python",
   "name": "python",
   "nbconvert_exporter": "python",
   "pygments_lexer": "ipython3",
   "version": "3.6.5"
  }
 },
 "nbformat": 4,
 "nbformat_minor": 1
}
