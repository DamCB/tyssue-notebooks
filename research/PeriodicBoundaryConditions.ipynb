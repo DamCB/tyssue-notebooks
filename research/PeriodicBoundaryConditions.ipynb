{
 "cells": [
  {
   "cell_type": "markdown",
   "metadata": {},
   "source": [
    "```bash\n",
    "sudo apt install cmake build-essential\n",
    "git clone git@github.com:glyg/cgal4py.git\n",
    "sudo apt install libeigen3-dev libboost-dev libghc-opengl-dev\n",
    "wget https://github.com/CGAL/cgal/releases/download/releases%2FCGAL-4.12/CGAL-4.12.tar.xz\n",
    "tar -xvvf CGAL-4.12.tar.xz \n",
    "cd CGAL-4.12\n",
    "cmake .\n",
    "make && sudo make install\n",
    "```\n",
    "\n"
   ]
  },
  {
   "cell_type": "code",
   "execution_count": 1,
   "metadata": {},
   "outputs": [
    {
     "ename": "ModuleNotFoundError",
     "evalue": "No module named 'cgal4py'",
     "output_type": "error",
     "traceback": [
      "\u001b[0;31m---------------------------------------------------------------------------\u001b[0m",
      "\u001b[0;31mModuleNotFoundError\u001b[0m                       Traceback (most recent call last)",
      "\u001b[0;32m<ipython-input-1-394e0594f394>\u001b[0m in \u001b[0;36m<module>\u001b[0;34m()\u001b[0m\n\u001b[1;32m      9\u001b[0m \u001b[0;32mfrom\u001b[0m \u001b[0mtyssue\u001b[0m\u001b[0;34m.\u001b[0m\u001b[0mdraw\u001b[0m\u001b[0;34m.\u001b[0m\u001b[0mplt_draw\u001b[0m \u001b[0;32mimport\u001b[0m \u001b[0mquick_edge_draw\u001b[0m\u001b[0;34m\u001b[0m\u001b[0m\n\u001b[1;32m     10\u001b[0m \u001b[0;34m\u001b[0m\u001b[0m\n\u001b[0;32m---> 11\u001b[0;31m \u001b[0;32mfrom\u001b[0m \u001b[0mcgal4py\u001b[0m\u001b[0;34m.\u001b[0m\u001b[0mdelaunay\u001b[0m \u001b[0;32mimport\u001b[0m \u001b[0mDelaunay2\u001b[0m\u001b[0;34m,\u001b[0m \u001b[0mPeriodicDelaunay2\u001b[0m\u001b[0;34m\u001b[0m\u001b[0m\n\u001b[0m",
      "\u001b[0;31mModuleNotFoundError\u001b[0m: No module named 'cgal4py'"
     ]
    }
   ],
   "source": [
    "from scipy.spatial import Voronoi\n",
    "import pandas as pd\n",
    "import numpy as np\n",
    "import sys, os\n",
    "%matplotlib inline\n",
    "from tyssue.generation import hexa_grid2d\n",
    "from tyssue import Sheet\n",
    "\n",
    "from tyssue.draw.plt_draw import quick_edge_draw\n",
    "\n",
    "from cgal4py.delaunay import Delaunay2, PeriodicDelaunay2"
   ]
  },
  {
   "cell_type": "code",
   "execution_count": 2,
   "metadata": {},
   "outputs": [],
   "source": []
  },
  {
   "cell_type": "code",
   "execution_count": 193,
   "metadata": {},
   "outputs": [],
   "source": [
    "def periodic_boundaries_sheet(points, boundaries):\n",
    "\n",
    "    \n",
    "    left_edge = np.array([boundary[0] for boundary in boundaries.values()], dtype=np.float64)\n",
    "    right_edge = np.array([boundary[1] for boundary in boundaries.values()], dtype=np.float64)\n",
    "    \n",
    "    T = PeriodicDelaunay2()\n",
    "    T.set_domain(left_edge=left_edge, right_edge=right_edge)\n",
    "\n",
    "    T.insert(np.ascontiguousarray(points))\n",
    "\n",
    "    vert_df = pd.DataFrame(\n",
    "        [(frozenset(v.index for v in c.incident_vertices()),\n",
    "         c.circumcenter[0], c.circumcenter[1])\n",
    "         for c in T.all_cells],\n",
    "        index=pd.RangeIndex(stop=T.num_cells),\n",
    "        columns=['triangle', 'x', 'y'])\n",
    "\n",
    "    vert_df['id'] = vert_df.index\n",
    "    vert_df.set_index('triangle', inplace=True)\n",
    "\n",
    "    face_df = pd.DataFrame(index=pd.RangeIndex(stop=T.num_verts),\n",
    "                           columns=['x', 'y'])\n",
    "    edge_df = pd.DataFrame(index=pd.RangeIndex(stop=T.num_edges*2),\n",
    "                           columns=['face', 'srce', 'trgt'])\n",
    "    e = 0\n",
    "    for v in T.all_verts:\n",
    "        face_df.loc[v.index] = v.point\n",
    "\n",
    "        verts = [frozenset(k.index for k in c.incident_vertices())\n",
    "                 for c in v.incident_cells()]\n",
    "        nv = len(verts)\n",
    "        edge_df.loc[e: e+nv-1, 'srce'] = vert_df.loc[verts, 'id'].values\n",
    "        edge_df.loc[e: e+nv-1, 'trgt'] = np.roll(vert_df.loc[verts, 'id'], -1)\n",
    "        edge_df.loc[e: e+nv-1, 'face'] = np.ones(nv) * v.index\n",
    "        e += nv\n",
    "\n",
    "    edge_df.dropna(inplace=True)\n",
    "    edge_df = edge_df.astype(np.int)\n",
    "    vert_df.set_index('id', inplace=True)\n",
    "    vert_df.index.name = 'vert'\n",
    "    \n",
    "\n",
    "    for u in ['x', 'y']:\n",
    "        edge_df['s'+u] = 0.\n",
    "        edge_df['t'+u] = 0.\n",
    "    datasets = {'vert': vert_df,\n",
    "                'face': face_df,\n",
    "                'edge': edge_df}\n",
    "    \n",
    "    sheet = Sheet('period', datasets)\n",
    "    sheet.settings['boundaries'] = boundaries\n",
    "    sheet.sanitize()\n",
    "    sheet.reset_index()\n",
    "    sheet.reset_topo()\n",
    "    return sheet\n",
    "\n",
    "from tyssue import SheetGeometry, PlanarGeometry\n",
    "\n",
    "\n",
    "class PeriodicSheetGeometry(PlanarGeometry):\n",
    "    \n",
    "    @staticmethod\n",
    "    def update_dcoords(sheet):\n",
    "        \n",
    "        for u, boundary in sheet.settings['boundaries'].items():\n",
    "            period = boundary[1] - boundary[0]\n",
    "            shift = period * (-(sheet.vert_df[u] > boundary[1]).astype(float)\n",
    "                              +(sheet.vert_df[u] <=  boundary[0]).astype(float))\n",
    "            sheet.vert_df[u] = sheet.vert_df[u] + shift\n",
    "        \n",
    "        srce_pos = sheet.upcast_srce(sheet.vert_df[sheet.coords])\n",
    "        trgt_pos = sheet.upcast_trgt(sheet.vert_df[sheet.coords])\n",
    "        sheet.edge_df[['s'+u for u in sheet.coords]] = srce_pos\n",
    "        sheet.edge_df[['t'+u for u in sheet.coords]] = trgt_pos\n",
    "        \n",
    "        sheet.edge_df[sheet.dcoords] = (trgt_pos - srce_pos)\n",
    "        \n",
    "        for u, boundary in sheet.settings['boundaries'].items():\n",
    "            period = boundary[1] - boundary[0]\n",
    "            shift = period * (-(sheet.edge_df['d'+u] >= period/2).astype(float)\n",
    "                              +(sheet.edge_df['d'+u] < -period/2).astype(float))\n",
    "            sheet.edge_df['d'+u] = sheet.edge_df['d'+u] + shift\n",
    "            sheet.edge_df[f'at_{u}_boundary'] = (shift != 0)\n",
    "        \n",
    "        sheet.edge_df = sheet.edge_df.groupby('face').apply(_shift_face, sheet)\n",
    "\n",
    "    @staticmethod\n",
    "    def update_centroid(sheet):\n",
    "        s_coords = ['s'+u for u in sheet.coords]\n",
    "        sheet.face_df[sheet.coords] = sheet.edge_df.groupby('face')[s_coords].mean()\n",
    "    \n",
    "    \n",
    "    @staticmethod\n",
    "    def update_normals(sheet):\n",
    "        pass\n",
    "    \n",
    "        \n",
    "def _shift_face(face, sheet):\n",
    "    \n",
    "    for u, boundary in sheet.settings['boundaries'].items():\n",
    "        if not np.any(face[f'at_{u}_boundary']):\n",
    "            continue\n",
    "        period = (boundary[1] - boundary[0])\n",
    "        center = boundary[1] - period/2\n",
    "        face['s'+u] = face['s'+u] + period * (face['s'+u] < center)\n",
    "        face['t'+u] = face['t'+u] + period * (face['t'+u] < center)\n",
    "    return face"
   ]
  },
  {
   "cell_type": "code",
   "execution_count": 180,
   "metadata": {},
   "outputs": [
    {
     "name": "stdout",
     "output_type": "stream",
     "text": [
      "Automatic pdb calling has been turned ON\n"
     ]
    }
   ],
   "source": [
    "%pdb"
   ]
  },
  {
   "cell_type": "code",
   "execution_count": 194,
   "metadata": {},
   "outputs": [],
   "source": [
    "h2d = hexa_grid2d(12, 12, 1, 1, noise=None)\n",
    "sheet = periodic_boundaries_sheet(h2d, {'x': [-0.1, 12], 'y': [-0.1, 12]})\n"
   ]
  },
  {
   "cell_type": "code",
   "execution_count": 182,
   "metadata": {},
   "outputs": [],
   "source": [
    "def boundary_verts(sheet, edges, u):\n",
    "    v = set(sheet.coords).difference({u})\n",
    "    "
   ]
  },
  {
   "cell_type": "code",
   "execution_count": 195,
   "metadata": {},
   "outputs": [],
   "source": [
    "geom = PeriodicSheetGeometry()"
   ]
  },
  {
   "cell_type": "code",
   "execution_count": 196,
   "metadata": {},
   "outputs": [],
   "source": [
    "geom.update_all(sheet)"
   ]
  },
  {
   "cell_type": "code",
   "execution_count": 197,
   "metadata": {
    "scrolled": true
   },
   "outputs": [
    {
     "data": {
      "text/plain": [
       "0.5500000000000007"
      ]
     },
     "execution_count": 197,
     "metadata": {},
     "output_type": "execute_result"
    }
   ],
   "source": [
    "(sheet.edge_df['tx'] - sheet.edge_df['sx']).max()"
   ]
  },
  {
   "cell_type": "code",
   "execution_count": 198,
   "metadata": {},
   "outputs": [
    {
     "data": {
      "image/png": "[encoded data removed]",
      "text/plain": [
       "<Figure size 432x288 with 1 Axes>"
      ]
     },
     "metadata": {},
     "output_type": "display_data"
    }
   ],
   "source": [
    "fig, ax = plt.subplots()\n",
    "\n",
    "x, y = sheet.coords\n",
    "srce_x = sheet.edge_df['s'+x].values\n",
    "srce_y = sheet.edge_df['s'+y].values\n",
    "trgt_x = sheet.edge_df['t'+x].values\n",
    "trgt_y = sheet.edge_df['t'+y].values\n",
    "\n",
    "lines_x, lines_y = np.zeros(2 * sheet.Ne), np.zeros(2 * sheet.Ne)\n",
    "lines_x[::2] = srce_x\n",
    "lines_x[1::2] = trgt_x\n",
    "lines_y[::2] = srce_y\n",
    "lines_y[1::2] = trgt_y\n",
    "# Trick from https://github.com/matplotlib/\n",
    "# matplotlib/blob/master/lib/matplotlib/tri/triplot.py#L65\n",
    "lines_x = np.insert(lines_x, slice(None, None, 2), np.nan)\n",
    "lines_y = np.insert(lines_y, slice(None, None, 2), np.nan)\n",
    "ax.plot(lines_x, lines_y)\n",
    "ax.set_aspect('equal')\n"
   ]
  },
  {
   "cell_type": "code",
   "execution_count": 153,
   "metadata": {},
   "outputs": [
    {
     "data": {
      "text/html": [
       "<div>\n",
       "<style scoped>\n",
       "    .dataframe tbody tr th:only-of-type {\n",
       "        vertical-align: middle;\n",
       "    }\n",
       "\n",
       "    .dataframe tbody tr th {\n",
       "        vertical-align: top;\n",
       "    }\n",
       "\n",
       "    .dataframe thead th {\n",
       "        text-align: right;\n",
       "    }\n",
       "</style>\n",
       "<table border=\"1\" class=\"dataframe\">\n",
       "  <thead>\n",
       "    <tr style=\"text-align: right;\">\n",
       "      <th></th>\n",
       "      <th>x</th>\n",
       "      <th>y</th>\n",
       "      <th>z</th>\n",
       "      <th>is_active</th>\n",
       "      <th>rho</th>\n",
       "      <th>height</th>\n",
       "      <th>basal_shift</th>\n",
       "    </tr>\n",
       "    <tr>\n",
       "      <th>vert</th>\n",
       "      <th></th>\n",
       "      <th></th>\n",
       "      <th></th>\n",
       "      <th></th>\n",
       "      <th></th>\n",
       "      <th></th>\n",
       "      <th></th>\n",
       "    </tr>\n",
       "  </thead>\n",
       "  <tbody>\n",
       "    <tr>\n",
       "      <th>86</th>\n",
       "      <td>-0.05</td>\n",
       "      <td>0.350</td>\n",
       "      <td>0.0</td>\n",
       "      <td>1</td>\n",
       "      <td>0.0</td>\n",
       "      <td>0.0</td>\n",
       "      <td>4.0</td>\n",
       "    </tr>\n",
       "    <tr>\n",
       "      <th>84</th>\n",
       "      <td>10.50</td>\n",
       "      <td>5.375</td>\n",
       "      <td>0.0</td>\n",
       "      <td>1</td>\n",
       "      <td>0.0</td>\n",
       "      <td>0.0</td>\n",
       "      <td>4.0</td>\n",
       "    </tr>\n",
       "    <tr>\n",
       "      <th>38</th>\n",
       "      <td>2.50</td>\n",
       "      <td>10.625</td>\n",
       "      <td>0.0</td>\n",
       "      <td>1</td>\n",
       "      <td>0.0</td>\n",
       "      <td>0.0</td>\n",
       "      <td>4.0</td>\n",
       "    </tr>\n",
       "  </tbody>\n",
       "</table>\n",
       "</div>"
      ],
      "text/plain": [
       "          x       y    z  is_active  rho  height  basal_shift\n",
       "vert                                                         \n",
       "86    -0.05   0.350  0.0          1  0.0     0.0          4.0\n",
       "84    10.50   5.375  0.0          1  0.0     0.0          4.0\n",
       "38     2.50  10.625  0.0          1  0.0     0.0          4.0"
      ]
     },
     "execution_count": 153,
     "metadata": {},
     "output_type": "execute_result"
    }
   ],
   "source": [
    "sheet.vert_df.loc[[86, 84, 38]]"
   ]
  },
  {
   "cell_type": "code",
   "execution_count": 154,
   "metadata": {},
   "outputs": [
    {
     "data": {
      "text/html": [
       "<div>\n",
       "<style scoped>\n",
       "    .dataframe tbody tr th:only-of-type {\n",
       "        vertical-align: middle;\n",
       "    }\n",
       "\n",
       "    .dataframe tbody tr th {\n",
       "        vertical-align: top;\n",
       "    }\n",
       "\n",
       "    .dataframe thead th {\n",
       "        text-align: right;\n",
       "    }\n",
       "</style>\n",
       "<table border=\"1\" class=\"dataframe\">\n",
       "  <thead>\n",
       "    <tr style=\"text-align: right;\">\n",
       "      <th></th>\n",
       "      <th>face</th>\n",
       "      <th>srce</th>\n",
       "      <th>trgt</th>\n",
       "      <th>sx</th>\n",
       "      <th>tx</th>\n",
       "      <th>sy</th>\n",
       "      <th>ty</th>\n",
       "      <th>dx</th>\n",
       "      <th>dy</th>\n",
       "      <th>dz</th>\n",
       "      <th>nx</th>\n",
       "      <th>ny</th>\n",
       "      <th>nz</th>\n",
       "      <th>length</th>\n",
       "      <th>is_valid</th>\n",
       "      <th>at_x_boundary</th>\n",
       "      <th>at_y_boundary</th>\n",
       "      <th>sub_area</th>\n",
       "    </tr>\n",
       "    <tr>\n",
       "      <th>edge</th>\n",
       "      <th></th>\n",
       "      <th></th>\n",
       "      <th></th>\n",
       "      <th></th>\n",
       "      <th></th>\n",
       "      <th></th>\n",
       "      <th></th>\n",
       "      <th></th>\n",
       "      <th></th>\n",
       "      <th></th>\n",
       "      <th></th>\n",
       "      <th></th>\n",
       "      <th></th>\n",
       "      <th></th>\n",
       "      <th></th>\n",
       "      <th></th>\n",
       "      <th></th>\n",
       "      <th></th>\n",
       "    </tr>\n",
       "  </thead>\n",
       "  <tbody>\n",
       "    <tr>\n",
       "      <th>0</th>\n",
       "      <td>13</td>\n",
       "      <td>88</td>\n",
       "      <td>37</td>\n",
       "      <td>0.5</td>\n",
       "      <td>1.0</td>\n",
       "      <td>0.625</td>\n",
       "      <td>0.375</td>\n",
       "      <td>0.5</td>\n",
       "      <td>-0.25</td>\n",
       "      <td>0.0</td>\n",
       "      <td>0.0</td>\n",
       "      <td>0.0</td>\n",
       "      <td>1.0</td>\n",
       "      <td>0.559017</td>\n",
       "      <td>True</td>\n",
       "      <td>False</td>\n",
       "      <td>False</td>\n",
       "      <td>0.5</td>\n",
       "    </tr>\n",
       "    <tr>\n",
       "      <th>1</th>\n",
       "      <td>13</td>\n",
       "      <td>37</td>\n",
       "      <td>87</td>\n",
       "      <td>1.0</td>\n",
       "      <td>1.5</td>\n",
       "      <td>0.375</td>\n",
       "      <td>0.625</td>\n",
       "      <td>0.5</td>\n",
       "      <td>0.25</td>\n",
       "      <td>0.0</td>\n",
       "      <td>0.0</td>\n",
       "      <td>0.0</td>\n",
       "      <td>1.0</td>\n",
       "      <td>0.559017</td>\n",
       "      <td>True</td>\n",
       "      <td>False</td>\n",
       "      <td>False</td>\n",
       "      <td>0.5</td>\n",
       "    </tr>\n",
       "    <tr>\n",
       "      <th>2</th>\n",
       "      <td>13</td>\n",
       "      <td>87</td>\n",
       "      <td>20</td>\n",
       "      <td>1.5</td>\n",
       "      <td>1.5</td>\n",
       "      <td>0.625</td>\n",
       "      <td>1.375</td>\n",
       "      <td>0.0</td>\n",
       "      <td>0.75</td>\n",
       "      <td>0.0</td>\n",
       "      <td>0.0</td>\n",
       "      <td>0.0</td>\n",
       "      <td>1.0</td>\n",
       "      <td>0.750000</td>\n",
       "      <td>True</td>\n",
       "      <td>False</td>\n",
       "      <td>False</td>\n",
       "      <td>0.5</td>\n",
       "    </tr>\n",
       "    <tr>\n",
       "      <th>3</th>\n",
       "      <td>13</td>\n",
       "      <td>20</td>\n",
       "      <td>93</td>\n",
       "      <td>1.5</td>\n",
       "      <td>1.0</td>\n",
       "      <td>1.375</td>\n",
       "      <td>1.625</td>\n",
       "      <td>-0.5</td>\n",
       "      <td>0.25</td>\n",
       "      <td>0.0</td>\n",
       "      <td>0.0</td>\n",
       "      <td>0.0</td>\n",
       "      <td>1.0</td>\n",
       "      <td>0.559017</td>\n",
       "      <td>True</td>\n",
       "      <td>False</td>\n",
       "      <td>False</td>\n",
       "      <td>0.5</td>\n",
       "    </tr>\n",
       "    <tr>\n",
       "      <th>4</th>\n",
       "      <td>13</td>\n",
       "      <td>93</td>\n",
       "      <td>3</td>\n",
       "      <td>1.0</td>\n",
       "      <td>0.5</td>\n",
       "      <td>1.625</td>\n",
       "      <td>1.375</td>\n",
       "      <td>-0.5</td>\n",
       "      <td>-0.25</td>\n",
       "      <td>0.0</td>\n",
       "      <td>0.0</td>\n",
       "      <td>0.0</td>\n",
       "      <td>1.0</td>\n",
       "      <td>0.559017</td>\n",
       "      <td>True</td>\n",
       "      <td>False</td>\n",
       "      <td>False</td>\n",
       "      <td>0.5</td>\n",
       "    </tr>\n",
       "  </tbody>\n",
       "</table>\n",
       "</div>"
      ],
      "text/plain": [
       "      face  srce  trgt   sx   tx     sy     ty   dx    dy   dz   nx   ny   nz  \\\n",
       "edge                                                                            \n",
       "0       13    88    37  0.5  1.0  0.625  0.375  0.5 -0.25  0.0  0.0  0.0  1.0   \n",
       "1       13    37    87  1.0  1.5  0.375  0.625  0.5  0.25  0.0  0.0  0.0  1.0   \n",
       "2       13    87    20  1.5  1.5  0.625  1.375  0.0  0.75  0.0  0.0  0.0  1.0   \n",
       "3       13    20    93  1.5  1.0  1.375  1.625 -0.5  0.25  0.0  0.0  0.0  1.0   \n",
       "4       13    93     3  1.0  0.5  1.625  1.375 -0.5 -0.25  0.0  0.0  0.0  1.0   \n",
       "\n",
       "        length  is_valid  at_x_boundary  at_y_boundary  sub_area  \n",
       "edge                                                              \n",
       "0     0.559017      True          False          False       0.5  \n",
       "1     0.559017      True          False          False       0.5  \n",
       "2     0.750000      True          False          False       0.5  \n",
       "3     0.559017      True          False          False       0.5  \n",
       "4     0.559017      True          False          False       0.5  "
      ]
     },
     "execution_count": 154,
     "metadata": {},
     "output_type": "execute_result"
    }
   ],
   "source": []
  },
  {
   "cell_type": "code",
   "execution_count": 134,
   "metadata": {},
   "outputs": [
    {
     "data": {
      "text/plain": [
       "(array([506.,  22.,  48.,   0.,   0.,  20.,   0., 220.,   4.,  44.]),\n",
       " array([0.54922936, 0.57544279, 0.60165622, 0.62786964, 0.65408307,\n",
       "        0.6802965 , 0.70650993, 0.73272335, 0.75893678, 0.78515021,\n",
       "        0.81136364]),\n",
       " <a list of 10 Patch objects>)"
      ]
     },
     "execution_count": 134,
     "metadata": {},
     "output_type": "execute_result"
    },
    {
     "data": {
      "image/png": "[encoded data removed]",
      "text/plain": [
       "<Figure size 432x288 with 1 Axes>"
      ]
     },
     "metadata": {},
     "output_type": "display_data"
    }
   ],
   "source": [
    "import matplotlib.pyplot as plt\n",
    "\n",
    "fig, ax = plt.subplots()\n",
    "\n",
    "ax.hist((sheet.edge_df.dx**2+sheet.edge_df.dy**2)**0.5)"
   ]
  },
  {
   "cell_type": "code",
   "execution_count": null,
   "metadata": {},
   "outputs": [],
   "source": []
  }
 ],
 "metadata": {
  "kernelspec": {
   "display_name": "Python 3",
   "language": "python",
   "name": "python3"
  },
  "language_info": {
   "codemirror_mode": {
    "name": "ipython",
    "version": 3
   },
   "file_extension": ".py",
   "mimetype": "text/x-python",
   "name": "python",
   "nbconvert_exporter": "python",
   "pygments_lexer": "ipython3",
   "version": "3.6.5"
  }
 },
 "nbformat": 4,
 "nbformat_minor": 1
}
