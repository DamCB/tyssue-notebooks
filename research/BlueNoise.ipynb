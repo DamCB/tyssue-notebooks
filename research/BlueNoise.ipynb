{
 "cells": [
  {
   "cell_type": "markdown",
   "metadata": {},
   "source": [
    "Implementation of the points generation procedure copied from Nicolas Rougier here:\n",
    "\n",
    "https://github.com/rougier/recursive-voronoi\n",
    "\n",
    "and originally by Johannes Dollinger, see https://github.com/emulbreh/bridson\n",
    "\n",
    "The algorithm is described in this exerpt from the original paper:\n",
    "\n",
    "The algorithm takes as input the extent of the sample domain in $R^n$, the minimum distancer between samples, and a constant `k`  as the limit of samples to choose before rejection in the algorithm (typically `k` = 30).\n",
    "\n",
    "### Step 0.\n",
    "Initialize an $n$-dimensional background grid for storing samples and accelerating spatial searches.\n",
    "\n",
    "We pick the cell size to be bounded by $r/\\sqrt{n}$, so that each grid cell will contain at most one sample, and thus the grid can be implemented as a simple $n$-dimensional array of integers: the default -1 indicates no sample, a non-negative integer gives the index of the sample located in a cell. \n",
    "\n",
    "### Step 1.\n",
    "\n",
    "Select the initial sample, $x_0$, randomly chosen uniformly from the domain. Insert it into the background grid, and initialize the “active list” (an array of sample indices) with this index (zero).\n",
    "\n",
    "### Step 2.\n",
    "\n",
    "While the active list is not empty, choose a random index from it (say $i$). Generate up to `k` points chosen uniformly from the spherical annulus between radius $r$ and $2r$ around $x_i$. For each point in turn, check if it is within distance $r$ of existing samples (using the background grid to only test nearby samples). If a point is adequately far from existing samples, emit it as the next sample and add it to the active list. If after `k` attempts no such point is found, instead remove $i$ from the active list.\n"
   ]
  },
  {
   "cell_type": "code",
   "execution_count": 298,
   "metadata": {},
   "outputs": [],
   "source": [
    "import numpy as np\n",
    "from math import tau, cos, sin, sqrt, ceil, floor\n",
    "from scipy.spatial import distance\n",
    "\n",
    "import matplotlib.pyplot as plt\n",
    "\n",
    "from tyssue.generation.shapes import sheet_from_cell_centers"
   ]
  },
  {
   "cell_type": "code",
   "execution_count": 303,
   "metadata": {
    "scrolled": true
   },
   "outputs": [],
   "source": [
    "def blue_noise(width, height, radius, periodic=False, metric=\"euclidiean\", k=30, seed=None):    \n",
    "    \"\"\"\n",
    "    Generate blue noise over a two-dimensional rectangle of size (width, height)\n",
    "    Parameters\n",
    "    ----------\n",
    "    width, height : floats\n",
    "        Two-dimensional domain (width x height) \n",
    "    radius : float\n",
    "        Minimum distance between samples\n",
    "    k : int, optional\n",
    "        Limit of samples to choose before rejection (typically k = 30)\n",
    "    seed : int, optional\n",
    "        If provided, this will set the random seed before generating noise,\n",
    "        for valid pseudo-random comparisons.\n",
    "    References\n",
    "    ----------\n",
    "    .. [1] Fast Poisson Disk Sampling in Arbitrary Dimensions, Robert Bridson,\n",
    "           Siggraph, 2007. :DOI:`10.1145/1278780.1278807`\n",
    "    Implementation by Johannes Dollinger,\n",
    "    see https://github.com/emulbreh/bridson\n",
    "\n",
    "    .. [2] \n",
    "    http://kucg.korea.ac.kr/new/seminar/2006/src/PA-06-31.pdf\n",
    "\n",
    "    \"\"\"\n",
    "    # When given a seed, we use a private random generator in order to not\n",
    "    # disturb the default global random generator\n",
    "    if seed is not None:\n",
    "        from numpy.random.mtrand import RandomState\n",
    "        rng = RandomState(seed=seed)\n",
    "    else:\n",
    "        rng = np.random\n",
    "\n",
    "\n",
    "    grid_step = radius / sqrt(2)\n",
    "    grid_shape = ceil(width/grid_step), ceil(height/grid_step)\n",
    "    \n",
    "    grid = -np.ones(grid_shape, dtype=int)\n",
    "    points = []\n",
    "    actives = []\n",
    "    p0 = rng.random(size=2) * np.array([width, height])\n",
    "    points.append(p0)\n",
    "    actives.append(p0)\n",
    "    i, j = np.floor(p0/grid_step).astype(int)\n",
    "    \n",
    "    grid[i, j] = 0\n",
    "    n = 0\n",
    "    N, M = grid.shape\n",
    "\n",
    "    while actives:\n",
    "        #rng.shuffle(actives)\n",
    "        point = actives[-1]\n",
    "        rhos = rng.uniform(radius, 4*radius, size=k)\n",
    "        thetas = rng.uniform(0, tau, size=k)\n",
    "        new_points = np.vstack([\n",
    "                rhos * np.cos(thetas) + point[0],\n",
    "                rhos * np.sin(thetas) + point[1]\n",
    "        ]).T\n",
    "        for new_point in new_points:\n",
    "            i, j = np.floor(new_point/grid_step).astype(int)\n",
    "            N, M = grid.shape\n",
    "            if not ((0 <= i < N) and (0 <= j < M)):\n",
    "                continue\n",
    "            local = get_local(i, j, N, M, periodic=periodic, s=2)\n",
    "            if fits(new_point, local, points, grid, radius, metric=metric):\n",
    "                n += 1\n",
    "                grid[i, j] = n\n",
    "                actives.append(new_point)\n",
    "                points.append(new_point)\n",
    "                break\n",
    "        else:\n",
    "            actives.pop()\n",
    "    return np.array(points)\n",
    "\n",
    "\n",
    "def spherical_dist(u, v, r=1):\n",
    "    \n",
    "    theta1, phi1 = u\n",
    "    theta2, phi2 = v\n",
    "    dtheta, dphi = v - u\n",
    "\n",
    "    dsigma = 2 * np.arcsin(\n",
    "        np.sqrt(\n",
    "            (\n",
    "                np.sin(dphi/2)**2 \n",
    "                + np.cos(phi1) * np.cos(phi2)\n",
    "                * np.sin(dtheta/2)**2\n",
    "            )\n",
    "        )\n",
    "    )\n",
    "    return r*dsigma\n",
    "\n",
    "\n",
    "def get_local(i, j, N, M, periodic=False, s=2):\n",
    "    \n",
    "    if not periodic:\n",
    "        return (\n",
    "            slice(max(i-s, 0), min(i+s+1, N)),\n",
    "            slice(max(j-s, 0), min(j+s+1, M))\n",
    "        )\n",
    "    else:\n",
    "        r_i = np.arange(i-s, i+s+1)\n",
    "        r_i[r_i < 0] = r_i[r_i < 0] + N\n",
    "        r_i[r_i >= N] = r_i[r_i >= N] - N\n",
    "\n",
    "        r_j = np.arange(j-s, j+s+1)\n",
    "        r_j[r_j < 0] = r_j[r_j < 0] + M\n",
    "        r_j[r_j >= M] = r_j[r_j >= M] - M\n",
    "        return tuple(np.meshgrid(r_i.ravel(), r_j.ravel()))\n",
    "    \n",
    "        \n",
    "def fits(new_point, local, points, grid, radius, metric=\"euclidean\"):\n",
    "\n",
    "    neighbs = grid[local].flatten()\n",
    "    if not neighbs.size:\n",
    "        return False\n",
    "    \n",
    "    neighbs = neighbs[neighbs >= 0]\n",
    "    if not neighbs.size:\n",
    "        return True\n",
    "    else:\n",
    "        distances = distance.cdist(\n",
    "            new_point[None, :], np.array(points)[neighbs], metric=metric)\n",
    "        if distances.min() > radius:\n",
    "            return True\n",
    "        else:\n",
    "            return False"
   ]
  },
  {
   "cell_type": "code",
   "execution_count": 319,
   "metadata": {
    "scrolled": true
   },
   "outputs": [],
   "source": [
    "k = 30\n",
    "\n",
    "width, height = tau/2, tau\n",
    "\n",
    "num_points = 600\n",
    "area = 2 * tau\n",
    "\n",
    "radius = np.sqrt(area / num_points)\n",
    "points = blue_noise(width, height, radius, periodic=True, metric=spherical_dist)"
   ]
  },
  {
   "cell_type": "code",
   "execution_count": null,
   "metadata": {},
   "outputs": [],
   "source": [
    "from "
   ]
  },
  {
   "cell_type": "code",
   "execution_count": 320,
   "metadata": {},
   "outputs": [
    {
     "data": {
      "text/plain": [
       "(431, 2)"
      ]
     },
     "execution_count": 320,
     "metadata": {},
     "output_type": "execute_result"
    }
   ],
   "source": [
    "points.shape\n"
   ]
  },
  {
   "cell_type": "code",
   "execution_count": 321,
   "metadata": {},
   "outputs": [
    {
     "name": "stdout",
     "output_type": "stream",
     "text": [
      "0.14472025091165353\n"
     ]
    }
   ],
   "source": [
    "print(radius)"
   ]
  },
  {
   "cell_type": "code",
   "execution_count": 322,
   "metadata": {},
   "outputs": [
    {
     "name": "stdout",
     "output_type": "stream",
     "text": [
      "3.141592653589793 6.283185307179586\n"
     ]
    }
   ],
   "source": [
    "print(width, height)"
   ]
  },
  {
   "cell_type": "code",
   "execution_count": 324,
   "metadata": {},
   "outputs": [
    {
     "data": {
      "image/png": "[encoded data removed]",
      "text/plain": [
       "<Figure size 864x864 with 1 Axes>"
      ]
     },
     "metadata": {
      "needs_background": "light"
     },
     "output_type": "display_data"
    }
   ],
   "source": [
    "\n",
    "\n",
    "fig, ax = plt.subplots()\n",
    "\n",
    "ax.plot(points[:, 0], points[:, 1], 'k+', ms=2)\n",
    "ax.plot(points[:, 0], points[:, 1]+tau, 'g+', ms=2)\n",
    "ax.plot(points[:, 0], points[:, 1]-tau, 'g+', ms=2)\n",
    "ax.plot(points[:, 0]-tau/2, points[:, 1], 'g+', ms=2)\n",
    "ax.plot(points[:, 0]+tau/2, points[:, 1], 'g+', ms=2)\n",
    "\n",
    "\n",
    "ax.set_aspect('equal')\n",
    "ax.set_xlim(-0.1, 4)\n",
    "ax.set_ylim(-0.1, 7)\n",
    "fig.set_size_inches(12, 12)"
   ]
  },
  {
   "cell_type": "code",
   "execution_count": null,
   "metadata": {},
   "outputs": [],
   "source": []
  },
  {
   "cell_type": "code",
   "execution_count": 325,
   "metadata": {},
   "outputs": [],
   "source": [
    "\n",
    "x = np.cos(points[:, 0]) * np.cos(points[:, 1])\n",
    "y = np.sin(points[:, 0]) * np.cos(points[:, 1])\n",
    "z = np.sin(points[:, 1])"
   ]
  },
  {
   "cell_type": "code",
   "execution_count": 326,
   "metadata": {},
   "outputs": [
    {
     "data": {
      "application/vnd.jupyter.widget-view+json": {
       "model_id": "dd64f3178e344b21a5a1084b0b800c0b",
       "version_major": 2,
       "version_minor": 0
      },
      "text/plain": [
       "VBox(children=(Figure(camera=PerspectiveCamera(fov=46.0, position=(0.0, 0.0, 2.0), quaternion=(0.0, 0.0, 0.0, …"
      ]
     },
     "metadata": {},
     "output_type": "display_data"
    }
   ],
   "source": [
    "import ipyvolume as ipv\n",
    "ipv.clear()\n",
    "ipv.scatter(x, y, z)\n",
    "ipv.squarelim()\n",
    "ipv.show()"
   ]
  },
  {
   "cell_type": "code",
   "execution_count": 327,
   "metadata": {},
   "outputs": [],
   "source": [
    "sheet = sheet_from_cell_centers(np.vstack([x, y, z]).T)"
   ]
  },
  {
   "cell_type": "code",
   "execution_count": 328,
   "metadata": {},
   "outputs": [
    {
     "data": {
      "application/vnd.jupyter.widget-view+json": {
       "model_id": "8759798b069c4d98991ce8118a652f51",
       "version_major": 2,
       "version_minor": 0
      },
      "text/plain": [
       "Figure(camera=PerspectiveCamera(fov=46.0, position=(0.0, 0.0, 2.0), quaternion=(0.0, 0.0, 0.0, 1.0), scale=(1.…"
      ]
     },
     "metadata": {},
     "output_type": "display_data"
    }
   ],
   "source": [
    "from tyssue.draw import sheet_view\n",
    "ipv.clear()\n",
    "fig, mesh = sheet_view(sheet, mode=\"3D\", face={\"visible\": True, \"color\": sheet.face_df[\"area\"]})\n",
    "fig"
   ]
  },
  {
   "cell_type": "code",
   "execution_count": 330,
   "metadata": {},
   "outputs": [
    {
     "data": {
      "image/png": "[encoded data removed]",
      "text/plain": [
       "<Figure size 432x288 with 1 Axes>"
      ]
     },
     "metadata": {
      "needs_background": "light"
     },
     "output_type": "display_data"
    }
   ],
   "source": [
    "dists = distance.pdist(points, metric=spherical_dist)\n",
    "H = plt.hist(dists, bins=256)"
   ]
  },
  {
   "cell_type": "code",
   "execution_count": 336,
   "metadata": {},
   "outputs": [
    {
     "data": {
      "image/png": "[encoded data removed]",
      "text/plain": [
       "<Figure size 432x288 with 1 Axes>"
      ]
     },
     "metadata": {
      "needs_background": "light"
     },
     "output_type": "display_data"
    }
   ],
   "source": [
    "dists = distance.pdist(np.vstack([x, y, z]).T)\n",
    "H = plt.hist(dists, bins=256)"
   ]
  },
  {
   "cell_type": "code",
   "execution_count": 344,
   "metadata": {},
   "outputs": [
    {
     "data": {
      "text/plain": [
       "(431, 431)"
      ]
     },
     "execution_count": 344,
     "metadata": {},
     "output_type": "execute_result"
    }
   ],
   "source": [
    "distance.squareform(dists).shape"
   ]
  },
  {
   "cell_type": "code",
   "execution_count": 338,
   "metadata": {},
   "outputs": [
    {
     "data": {
      "text/plain": [
       "(431, 2)"
      ]
     },
     "execution_count": 338,
     "metadata": {},
     "output_type": "execute_result"
    }
   ],
   "source": [
    "points.shape"
   ]
  },
  {
   "cell_type": "code",
   "execution_count": null,
   "metadata": {},
   "outputs": [],
   "source": [
    "92665"
   ]
  },
  {
   "cell_type": "code",
   "execution_count": 343,
   "metadata": {},
   "outputs": [
    {
     "data": {
      "text/plain": [
       "92665.0"
      ]
     },
     "execution_count": 343,
     "metadata": {},
     "output_type": "execute_result"
    }
   ],
   "source": [
    "(431 * 430) / 2"
   ]
  },
  {
   "cell_type": "code",
   "execution_count": 75,
   "metadata": {},
   "outputs": [],
   "source": [
    "from tyssue import ClosedSheetGeometry as sgeom\n",
    "from tyssue import ClosedMonolayerGeometry as geom\n",
    "from tyssue.solvers import QSSolver\n",
    "from tyssue.generation import extrude\n",
    "from tyssue.dynamics import effectors, model_factory\n"
   ]
  },
  {
   "cell_type": "code",
   "execution_count": 76,
   "metadata": {},
   "outputs": [],
   "source": [
    "sgeom.update_all(sheet)"
   ]
  },
  {
   "cell_type": "code",
   "execution_count": 78,
   "metadata": {},
   "outputs": [
    {
     "data": {
      "text/plain": [
       "0.0551682108035031"
      ]
     },
     "execution_count": 78,
     "metadata": {},
     "output_type": "execute_result"
    }
   ],
   "source": [
    "sheet.face_df.area.mean()"
   ]
  },
  {
   "cell_type": "code",
   "execution_count": 80,
   "metadata": {},
   "outputs": [
    {
     "name": "stdout",
     "output_type": "stream",
     "text": [
      "1.0000000000000004\n"
     ]
    }
   ],
   "source": [
    "for i in range(10):\n",
    "    sgeom.scale(sheet, sheet.face_df.area.mean()**-0.5, coords=list('xyz'))\n",
    "    sgeom.update_all(sheet)\n",
    "\n",
    "print(sheet.face_df.area.mean())\n"
   ]
  },
  {
   "cell_type": "code",
   "execution_count": 86,
   "metadata": {},
   "outputs": [
    {
     "name": "stderr",
     "output_type": "stream",
     "text": [
      "Reseting column area_elasticity of the face dataset with new specs\n",
      "Reseting column prefered_area of the face dataset with new specs\n",
      "Reseting column line_tension of the edge dataset with new specs\n"
     ]
    }
   ],
   "source": [
    "smodel = model_factory(\n",
    "    [\n",
    "        effectors.FaceAreaElasticity,\n",
    "        effectors.LumenVolumeElasticity,\n",
    "        effectors.LineTension\n",
    "    ]\n",
    ")\n",
    "\n",
    "specs = {\n",
    "    \"face\" : {\n",
    "        \"area_elasticity\": 1.0,\n",
    "        \"prefered_area\": 1.0,\n",
    "    },\n",
    "    \"edge\" : {\n",
    "        \"line_tension\": 1e-3\n",
    "    },\n",
    "    \"settings\": {\n",
    "        \"lumen_prefered_vol\" : sheet.settings['lumen_vol'],\n",
    "        \"lumen_vol_elasticity\" : 1e-4,\n",
    "    }\n",
    "}\n",
    "\n",
    "sheet.update_specs(specs, reset=True)\n"
   ]
  },
  {
   "cell_type": "code",
   "execution_count": 87,
   "metadata": {},
   "outputs": [],
   "source": [
    "solver = QSSolver()\n"
   ]
  },
  {
   "cell_type": "code",
   "execution_count": 89,
   "metadata": {},
   "outputs": [],
   "source": [
    "\n",
    "res = solver.find_energy_min(sheet, sgeom, smodel)"
   ]
  },
  {
   "cell_type": "code",
   "execution_count": 90,
   "metadata": {},
   "outputs": [
    {
     "name": "stderr",
     "output_type": "stream",
     "text": [
      "/home/guillaume/miniconda3/envs/tyssue/lib/python3.7/site-packages/numpy/core/fromnumeric.py:2389: FutureWarning: Method .ptp is deprecated and will be removed in a future version. Use numpy.ptp instead.\n",
      "  return ptp(axis=axis, out=out, **kwargs)\n"
     ]
    },
    {
     "data": {
      "application/vnd.jupyter.widget-view+json": {
       "model_id": "aec3b5b9c9ce498ca5202afc3946a298",
       "version_major": 2,
       "version_minor": 0
      },
      "text/plain": [
       "Figure(camera=PerspectiveCamera(fov=46.0, position=(0.0, 0.0, 2.0), quaternion=(0.0, 0.0, 0.0, 1.0), scale=(1.…"
      ]
     },
     "metadata": {},
     "output_type": "display_data"
    }
   ],
   "source": [
    "from tyssue.draw import sheet_view\n",
    "ipv.clear()\n",
    "fig, mesh = sheet_view(sheet, mode=\"3D\")\n",
    "fig"
   ]
  },
  {
   "cell_type": "code",
   "execution_count": null,
   "metadata": {},
   "outputs": [],
   "source": []
  }
 ],
 "metadata": {
  "kernelspec": {
   "display_name": "Python 3",
   "language": "python",
   "name": "python3"
  },
  "language_info": {
   "codemirror_mode": {
    "name": "ipython",
    "version": 3
   },
   "file_extension": ".py",
   "mimetype": "text/x-python",
   "name": "python",
   "nbconvert_exporter": "python",
   "pygments_lexer": "ipython3",
   "version": "3.7.3"
  }
 },
 "nbformat": 4,
 "nbformat_minor": 2
}
