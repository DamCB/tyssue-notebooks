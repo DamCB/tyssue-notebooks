{
 "cells": [
  {
   "cell_type": "markdown",
   "metadata": {},
   "source": [
    "Implementation of the points generation procedure copied from Nicolas Rougier here:\n",
    "\n",
    "https://github.com/rougier/recursive-voronoi\n",
    "\n",
    "and originally by Johannes Dollinger, see https://github.com/emulbreh/bridson\n",
    "\n",
    "The algorithm is described in this exerpt from the original paper:\n",
    "\n",
    "The algorithm takes as input the extent of the sample domain in $R^n$, the minimum distancer between samples, and a constant `k`  as the limit of samples to choose before rejection in the algorithm (typically `k` = 30).\n",
    "\n",
    "### Step 0.\n",
    "Initialize an $n$-dimensional background grid for storing samples and accelerating spatial searches.\n",
    "\n",
    "We pick the cell size to be bounded by $r/\\sqrt{n}$, so that each grid cell will contain at most one sample, and thus the grid can be implemented as a simple $n$-dimensional array of integers: the default -1 indicates no sample, a non-negative integer gives the index of the sample located in a cell. \n",
    "\n",
    "### Step 1.\n",
    "\n",
    "Select the initial sample, $x_0$, randomly chosen uniformly from the domain. Insert it into the background grid, and initialize the “active list” (an array of sample indices) with this index (zero).\n",
    "\n",
    "### Step 2.\n",
    "\n",
    "While the active list is not empty, choose a random index from it (say $i$). Generate up to `k` points chosen uniformly from the spherical annulus between radius $r$ and $2r$ around $x_i$. For each point in turn, check if it is within distance $r$ of existing samples (using the background grid to only test nearby samples). If a point is adequately far from existing samples, emit it as the next sample and add it to the active list. If after `k` attempts no such point is found, instead remove $i$ from the active list.\n"
   ]
  },
  {
   "cell_type": "code",
   "execution_count": 5,
   "metadata": {},
   "outputs": [],
   "source": [
    "import numpy as np\n",
    "from math import tau, cos, sin, sqrt, ceil, floor\n",
    "import matplotlib.pyplot as plt"
   ]
  },
  {
   "cell_type": "code",
   "execution_count": 40,
   "metadata": {},
   "outputs": [
    {
     "data": {
      "text/plain": [
       "[2, 1, 3]"
      ]
     },
     "execution_count": 40,
     "metadata": {},
     "output_type": "execute_result"
    }
   ],
   "source": [
    "a = [1, 2, 3]\n",
    "\n",
    "np.random.shuffle(a)\n",
    "a"
   ]
  },
  {
   "cell_type": "code",
   "execution_count": 41,
   "metadata": {},
   "outputs": [
    {
     "data": {
      "text/plain": [
       "list"
      ]
     },
     "execution_count": 41,
     "metadata": {},
     "output_type": "execute_result"
    }
   ],
   "source": [
    "type(a)"
   ]
  },
  {
   "cell_type": "code",
   "execution_count": 48,
   "metadata": {},
   "outputs": [
    {
     "data": {
      "text/plain": [
       "array([2.97576716, 0.05799503])"
      ]
     },
     "execution_count": 48,
     "metadata": {},
     "output_type": "execute_result"
    }
   ],
   "source": [
    "point"
   ]
  },
  {
   "cell_type": "code",
   "execution_count": 53,
   "metadata": {},
   "outputs": [
    {
     "data": {
      "text/plain": [
       "array([21,  1])"
      ]
     },
     "execution_count": 53,
     "metadata": {},
     "output_type": "execute_result"
    }
   ],
   "source": [
    "np.ceil(point/grid_step).astype(int).clip(\n",
    "    [0, 0], np.array(grid_shape)-1)"
   ]
  },
  {
   "cell_type": "code",
   "execution_count": 59,
   "metadata": {},
   "outputs": [
    {
     "data": {
      "text/plain": [
       "array([19,  5])"
      ]
     },
     "execution_count": 59,
     "metadata": {},
     "output_type": "execute_result"
    }
   ],
   "source": [
    "np.mod(np.array([-2, 48]),  np.array(grid_shape)-1)"
   ]
  },
  {
   "cell_type": "code",
   "execution_count": 60,
   "metadata": {},
   "outputs": [
    {
     "data": {
      "text/plain": [
       "(22, 44)"
      ]
     },
     "execution_count": 60,
     "metadata": {},
     "output_type": "execute_result"
    }
   ],
   "source": [
    "grid_shape"
   ]
  },
  {
   "cell_type": "code",
   "execution_count": 187,
   "metadata": {
    "scrolled": true
   },
   "outputs": [],
   "source": [
    "def blue_noise(width, height, radius, k=30, seed=None):    \n",
    "    \"\"\"\n",
    "    Generate blue noise over a two-dimensional rectangle of size (width, height)\n",
    "    Parameters\n",
    "    ----------\n",
    "    width, height : floats\n",
    "        Two-dimensional domain (width x height) \n",
    "    radius : float\n",
    "        Minimum distance between samples\n",
    "    k : int, optional\n",
    "        Limit of samples to choose before rejection (typically k = 30)\n",
    "    seed : int, optional\n",
    "        If provided, this will set the random seed before generating noise,\n",
    "        for valid pseudo-random comparisons.\n",
    "    References\n",
    "    ----------\n",
    "    .. [1] Fast Poisson Disk Sampling in Arbitrary Dimensions, Robert Bridson,\n",
    "           Siggraph, 2007. :DOI:`10.1145/1278780.1278807`\n",
    "    Implementation by Johannes Dollinger,\n",
    "    see https://github.com/emulbreh/bridson\n",
    "\n",
    "    \"\"\"\n",
    "    # When given a seed, we use a private random generator in order to not\n",
    "    # disturb the default global random generator\n",
    "    if seed is not None:\n",
    "        from numpy.random.mtrand import RandomState\n",
    "        rng = RandomState(seed=seed)\n",
    "    else:\n",
    "        rng = np.random\n",
    "\n",
    "\n",
    "    grid_step = radius / sqrt(2)\n",
    "\n",
    "    grid_shape = ceil(width/grid_step), ceil(height/grid_step)\n",
    "    N, M = grid_shape\n",
    "    \n",
    "    \n",
    "    grid = -np.ones(grid_shape, dtype=int)\n",
    "    points = []\n",
    "    actives = []\n",
    "    p0 = rng.random(size=2) * np.array([width, height])\n",
    "    points.append(p0)\n",
    "    actives.append(p0)\n",
    "    i, j = np.floor(p0/grid_step).astype(int)\n",
    "    \n",
    "    grid[i, j] = 0\n",
    "    n = 0\n",
    "\n",
    "    while actives:\n",
    "\n",
    "        rng.shuffle(actives)\n",
    "        point = actives[-1]\n",
    "\n",
    "        rhos = rng.uniform(radius, 2*radius, size=k)\n",
    "        thetas = rng.uniform(0, tau, size=k)\n",
    "        new_points = np.vstack([rhos * np.cos(thetas),\n",
    "                                rhos * np.sin(thetas)]) + point[:, None]\n",
    "        #new_points = new_points.clip(min=0, max=np.array([width, height])[:, None]) \n",
    "        for p in new_points.T:\n",
    "            i, j = np.floor(p/grid_step).astype(int)\n",
    "            if not ((0 <= i < N) and (0 <= j < M)):\n",
    "                continue\n",
    "            local = (\n",
    "                slice(max(i-1, 0), min(i+1, N)),\n",
    "                slice(max(j-1, 0), min(j+1, M))\n",
    "            )\n",
    "            if not np.all(grid[local].shape):\n",
    "                continue\n",
    "            if grid[local].max() < 0:\n",
    "                n += 1\n",
    "                grid[i, j] = n\n",
    "                actives.append(p)\n",
    "                points.append(p)\n",
    "                break\n",
    "        else:\n",
    "            actives.pop()\n",
    "    return np.array(points)"
   ]
  },
  {
   "cell_type": "code",
   "execution_count": 188,
   "metadata": {},
   "outputs": [
    {
     "name": "stdout",
     "output_type": "stream",
     "text": [
      "0.6472086375185664\n"
     ]
    }
   ],
   "source": [
    "print(radius)"
   ]
  },
  {
   "cell_type": "code",
   "execution_count": 189,
   "metadata": {},
   "outputs": [
    {
     "name": "stdout",
     "output_type": "stream",
     "text": [
      "Automatic pdb calling has been turned ON\n"
     ]
    }
   ],
   "source": [
    "%pdb"
   ]
  },
  {
   "cell_type": "code",
   "execution_count": 198,
   "metadata": {},
   "outputs": [],
   "source": [
    "k = 30\n",
    "\n",
    "width, height = tau/2, tau\n",
    "\n",
    "num_points = 300\n",
    "area = 2 * tau\n",
    "\n",
    "radius = np.sqrt(area / num_points)\n",
    "\n",
    "points = blue_noise(width, height, radius)\n"
   ]
  },
  {
   "cell_type": "code",
   "execution_count": 196,
   "metadata": {},
   "outputs": [
    {
     "data": {
      "text/plain": [
       "(4203, 2)"
      ]
     },
     "execution_count": 196,
     "metadata": {},
     "output_type": "execute_result"
    }
   ],
   "source": [
    "points.shape\n"
   ]
  },
  {
   "cell_type": "code",
   "execution_count": 199,
   "metadata": {},
   "outputs": [
    {
     "data": {
      "image/png": "[encoded data removed]",
      "text/plain": [
       "<Figure size 432x288 with 1 Axes>"
      ]
     },
     "metadata": {
      "needs_background": "light"
     },
     "output_type": "display_data"
    }
   ],
   "source": [
    "\n",
    "\n",
    "fig, ax = plt.subplots()\n",
    "ax.plot(np.array(points)[:, 0]/grid_step-0.5, np.array(points)[:, 1]/grid_step-0.5, 'k+', ms=2)\n",
    "ax.set_aspect('equal')"
   ]
  },
  {
   "cell_type": "code",
   "execution_count": 200,
   "metadata": {},
   "outputs": [],
   "source": [
    "from scipy.spatial import distance"
   ]
  },
  {
   "cell_type": "code",
   "execution_count": 201,
   "metadata": {},
   "outputs": [],
   "source": [
    "pair_dists = distance.pdist(points)"
   ]
  },
  {
   "cell_type": "code",
   "execution_count": 202,
   "metadata": {},
   "outputs": [
    {
     "data": {
      "text/plain": [
       "2.601000518874657"
      ]
     },
     "execution_count": 202,
     "metadata": {},
     "output_type": "execute_result"
    }
   ],
   "source": [
    "pair_dists.mean()"
   ]
  },
  {
   "cell_type": "code",
   "execution_count": 203,
   "metadata": {},
   "outputs": [
    {
     "data": {
      "text/plain": [
       "0.016734270570912726"
      ]
     },
     "execution_count": 203,
     "metadata": {},
     "output_type": "execute_result"
    }
   ],
   "source": [
    "pair_dists.min()"
   ]
  },
  {
   "cell_type": "code",
   "execution_count": 205,
   "metadata": {},
   "outputs": [
    {
     "data": {
      "text/plain": [
       "0.2046653415892977"
      ]
     },
     "execution_count": 205,
     "metadata": {},
     "output_type": "execute_result"
    }
   ],
   "source": [
    "radius"
   ]
  },
  {
   "cell_type": "code",
   "execution_count": 204,
   "metadata": {},
   "outputs": [
    {
     "data": {
      "image/png": "[encoded data removed]",
      "text/plain": [
       "<Figure size 432x288 with 1 Axes>"
      ]
     },
     "metadata": {
      "needs_background": "light"
     },
     "output_type": "display_data"
    }
   ],
   "source": [
    "_ = plt.hist(pair_dists, bins=256)"
   ]
  },
  {
   "cell_type": "code",
   "execution_count": 103,
   "metadata": {},
   "outputs": [
    {
     "data": {
      "text/plain": [
       "0.2046653415892977"
      ]
     },
     "execution_count": 103,
     "metadata": {},
     "output_type": "execute_result"
    }
   ],
   "source": [
    "radius"
   ]
  },
  {
   "cell_type": "code",
   "execution_count": 105,
   "metadata": {},
   "outputs": [],
   "source": []
  },
  {
   "cell_type": "code",
   "execution_count": 106,
   "metadata": {},
   "outputs": [
    {
     "data": {
      "text/plain": [
       "(220, 2)"
      ]
     },
     "execution_count": 106,
     "metadata": {},
     "output_type": "execute_result"
    }
   ],
   "source": [
    "points.shape"
   ]
  },
  {
   "cell_type": "code",
   "execution_count": 86,
   "metadata": {},
   "outputs": [
    {
     "ename": "TypeError",
     "evalue": "list indices must be integers or slices, not tuple",
     "output_type": "error",
     "traceback": [
      "\u001b[0;31m-------------------------------------------------------------------------\u001b[0m",
      "\u001b[0;31mTypeError\u001b[0m                               Traceback (most recent call last)",
      "\u001b[0;32m<ipython-input-86-1d0f87b6ec1a>\u001b[0m in \u001b[0;36m<module>\u001b[0;34m\u001b[0m\n\u001b[1;32m      2\u001b[0m \u001b[0;34m\u001b[0m\u001b[0m\n\u001b[1;32m      3\u001b[0m \u001b[0;34m\u001b[0m\u001b[0m\n\u001b[0;32m----> 4\u001b[0;31m \u001b[0max\u001b[0m\u001b[0;34m.\u001b[0m\u001b[0mscatter\u001b[0m\u001b[0;34m(\u001b[0m\u001b[0mpoints\u001b[0m\u001b[0;34m[\u001b[0m\u001b[0;34m:\u001b[0m\u001b[0;34m,\u001b[0m \u001b[0;36m0\u001b[0m\u001b[0;34m]\u001b[0m\u001b[0;34m,\u001b[0m \u001b[0mpoints\u001b[0m\u001b[0;34m[\u001b[0m\u001b[0;34m:\u001b[0m\u001b[0;34m,\u001b[0m \u001b[0;36m1\u001b[0m\u001b[0;34m]\u001b[0m\u001b[0;34m)\u001b[0m\u001b[0;34m\u001b[0m\u001b[0;34m\u001b[0m\u001b[0m\n\u001b[0m\u001b[1;32m      5\u001b[0m \u001b[0max\u001b[0m\u001b[0;34m.\u001b[0m\u001b[0mset_aspect\u001b[0m\u001b[0;34m(\u001b[0m\u001b[0;34m\"equal\"\u001b[0m\u001b[0;34m)\u001b[0m\u001b[0;34m\u001b[0m\u001b[0;34m\u001b[0m\u001b[0m\n",
      "\u001b[0;31mTypeError\u001b[0m: list indices must be integers or slices, not tuple"
     ]
    },
    {
     "data": {
      "image/png": "[encoded data removed]",
      "text/plain": [
       "<Figure size 432x288 with 1 Axes>"
      ]
     },
     "metadata": {
      "needs_background": "light"
     },
     "output_type": "display_data"
    }
   ],
   "source": [
    "fig, ax = plt.subplots()\n",
    "\n",
    "\n",
    "ax.scatter(points[:, 0], points[:, 1])\n",
    "ax.set_aspect(\"equal\")"
   ]
  },
  {
   "cell_type": "code",
   "execution_count": 108,
   "metadata": {},
   "outputs": [],
   "source": [
    "from tyssue.generation.shapes import sheet_from_cell_centers"
   ]
  },
  {
   "cell_type": "code",
   "execution_count": 109,
   "metadata": {},
   "outputs": [],
   "source": [
    "\n",
    "x = np.cos(points[:, 0]) * np.cos(points[:, 1])\n",
    "y = np.sin(points[:, 0]) * np.cos(points[:, 1])\n",
    "z = np.sin(points[:, 1])"
   ]
  },
  {
   "cell_type": "code",
   "execution_count": 110,
   "metadata": {},
   "outputs": [],
   "source": [
    "points_ = np.vstack([x, y, z]).T"
   ]
  },
  {
   "cell_type": "code",
   "execution_count": 111,
   "metadata": {},
   "outputs": [
    {
     "data": {
      "application/vnd.jupyter.widget-view+json": {
       "model_id": "ea3cd0b12d504b1b804232ddf36e07f0",
       "version_major": 2,
       "version_minor": 0
      },
      "text/plain": [
       "VBox(children=(Figure(camera=PerspectiveCamera(fov=46.0, position=(0.0, 0.0, 2.0), quaternion=(0.0, 0.0, 0.0, …"
      ]
     },
     "metadata": {},
     "output_type": "display_data"
    }
   ],
   "source": [
    "import ipyvolume as ipv\n",
    "ipv.clear()\n",
    "ipv.scatter(x, y, z)\n",
    "ipv.squarelim()\n",
    "ipv.show()"
   ]
  },
  {
   "cell_type": "code",
   "execution_count": 70,
   "metadata": {},
   "outputs": [],
   "source": [
    "sheet = sheet_from_cell_centers(points_)"
   ]
  },
  {
   "cell_type": "code",
   "execution_count": 77,
   "metadata": {},
   "outputs": [
    {
     "name": "stderr",
     "output_type": "stream",
     "text": [
      "/home/guillaume/miniconda3/envs/tyssue/lib/python3.7/site-packages/numpy/core/fromnumeric.py:2389: FutureWarning: Method .ptp is deprecated and will be removed in a future version. Use numpy.ptp instead.\n",
      "  return ptp(axis=axis, out=out, **kwargs)\n"
     ]
    },
    {
     "data": {
      "application/vnd.jupyter.widget-view+json": {
       "model_id": "",
       "version_major": 2,
       "version_minor": 0
      },
      "text/plain": [
       "Figure(camera=PerspectiveCamera(fov=46.0, position=(0.0, 0.0, 2.0), quaternion=(0.0, 0.0, 0.0, 1.0), scale=(1.…"
      ]
     },
     "metadata": {},
     "output_type": "display_data"
    }
   ],
   "source": [
    "from tyssue.draw import sheet_view\n",
    "ipv.clear()\n",
    "fig, mesh = sheet_view(sheet, mode=\"3D\")\n",
    "fig"
   ]
  },
  {
   "cell_type": "code",
   "execution_count": 75,
   "metadata": {},
   "outputs": [],
   "source": [
    "from tyssue import ClosedSheetGeometry as sgeom\n",
    "\n",
    "from tyssue import ClosedMonolayerGeometry as geom\n",
    "from tyssue.solvers import QSSolver\n",
    "from tyssue.generation import extrude\n",
    "\n",
    "\n",
    "from tyssue.dynamics import effectors, model_factory\n",
    "\n"
   ]
  },
  {
   "cell_type": "code",
   "execution_count": 76,
   "metadata": {},
   "outputs": [],
   "source": [
    "sgeom.update_all(sheet)"
   ]
  },
  {
   "cell_type": "code",
   "execution_count": 78,
   "metadata": {},
   "outputs": [
    {
     "data": {
      "text/plain": [
       "0.0551682108035031"
      ]
     },
     "execution_count": 78,
     "metadata": {},
     "output_type": "execute_result"
    }
   ],
   "source": [
    "sheet.face_df.area.mean()"
   ]
  },
  {
   "cell_type": "code",
   "execution_count": 80,
   "metadata": {},
   "outputs": [
    {
     "name": "stdout",
     "output_type": "stream",
     "text": [
      "1.0000000000000004\n"
     ]
    }
   ],
   "source": [
    "for i in range(10):\n",
    "    sgeom.scale(sheet, sheet.face_df.area.mean()**-0.5, coords=list('xyz'))\n",
    "    sgeom.update_all(sheet)\n",
    "\n",
    "print(sheet.face_df.area.mean())\n"
   ]
  },
  {
   "cell_type": "code",
   "execution_count": 86,
   "metadata": {},
   "outputs": [
    {
     "name": "stderr",
     "output_type": "stream",
     "text": [
      "Reseting column area_elasticity of the face dataset with new specs\n",
      "Reseting column prefered_area of the face dataset with new specs\n",
      "Reseting column line_tension of the edge dataset with new specs\n"
     ]
    }
   ],
   "source": [
    "smodel = model_factory(\n",
    "    [\n",
    "        effectors.FaceAreaElasticity,\n",
    "        effectors.LumenVolumeElasticity,\n",
    "        effectors.LineTension\n",
    "    ]\n",
    ")\n",
    "\n",
    "specs = {\n",
    "    \"face\" : {\n",
    "        \"area_elasticity\": 1.0,\n",
    "        \"prefered_area\": 1.0,\n",
    "    },\n",
    "    \"edge\" : {\n",
    "        \"line_tension\": 1e-3\n",
    "    },\n",
    "    \"settings\": {\n",
    "        \"lumen_prefered_vol\" : sheet.settings['lumen_vol'],\n",
    "        \"lumen_vol_elasticity\" : 1e-4,\n",
    "    }\n",
    "}\n",
    "\n",
    "sheet.update_specs(specs, reset=True)\n"
   ]
  },
  {
   "cell_type": "code",
   "execution_count": 87,
   "metadata": {},
   "outputs": [],
   "source": [
    "solver = QSSolver()\n"
   ]
  },
  {
   "cell_type": "code",
   "execution_count": 89,
   "metadata": {},
   "outputs": [],
   "source": [
    "\n",
    "res = solver.find_energy_min(sheet, sgeom, smodel)"
   ]
  },
  {
   "cell_type": "code",
   "execution_count": 90,
   "metadata": {},
   "outputs": [
    {
     "name": "stderr",
     "output_type": "stream",
     "text": [
      "/home/guillaume/miniconda3/envs/tyssue/lib/python3.7/site-packages/numpy/core/fromnumeric.py:2389: FutureWarning: Method .ptp is deprecated and will be removed in a future version. Use numpy.ptp instead.\n",
      "  return ptp(axis=axis, out=out, **kwargs)\n"
     ]
    },
    {
     "data": {
      "application/vnd.jupyter.widget-view+json": {
       "model_id": "aec3b5b9c9ce498ca5202afc3946a298",
       "version_major": 2,
       "version_minor": 0
      },
      "text/plain": [
       "Figure(camera=PerspectiveCamera(fov=46.0, position=(0.0, 0.0, 2.0), quaternion=(0.0, 0.0, 0.0, 1.0), scale=(1.…"
      ]
     },
     "metadata": {},
     "output_type": "display_data"
    }
   ],
   "source": [
    "from tyssue.draw import sheet_view\n",
    "ipv.clear()\n",
    "fig, mesh = sheet_view(sheet, mode=\"3D\")\n",
    "fig"
   ]
  },
  {
   "cell_type": "code",
   "execution_count": null,
   "metadata": {},
   "outputs": [],
   "source": []
  }
 ],
 "metadata": {
  "kernelspec": {
   "display_name": "Python 3",
   "language": "python",
   "name": "python3"
  },
  "language_info": {
   "codemirror_mode": {
    "name": "ipython",
    "version": 3
   },
   "file_extension": ".py",
   "mimetype": "text/x-python",
   "name": "python",
   "nbconvert_exporter": "python",
   "pygments_lexer": "ipython3",
   "version": "3.7.3"
  }
 },
 "nbformat": 4,
 "nbformat_minor": 2
}
