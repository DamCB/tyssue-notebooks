{
 "cells": [
  {
   "cell_type": "markdown",
   "metadata": {},
   "source": [
    "### Rheology of a cellular vertex model\n",
    "\n",
    "Guillaume Gay, François Molino & Cyprien Gay\n",
    "\n",
    "The physics and maths for this work are detailed in the master report of Maxime Tortora, available [here](TORTORA_report.pdf).\n",
    "\n",
    "We write the equations for a generic junction in a 2D space. The geometric parameters can be defined on an agregate of 3 cells, as pictured bellow:\n",
    "\n",
    "![Geometric definitions](geometry.svg)\n",
    "\n",
    "\n",
    "#### The equations were written down on a blackboard, immortalized here:\n",
    "\n",
    "\n",
    "![tableau entier](00_tableau_entier.jpg)\n"
   ]
  },
  {
   "cell_type": "markdown",
   "metadata": {},
   "source": [
    "## Let's first write everything down in LateX"
   ]
  },
  {
   "cell_type": "markdown",
   "metadata": {},
   "source": [
    "\n",
    "## Equations\n",
    "\n",
    "- Laplace \n",
    "  $$\\Delta P_{BA} = (\\sigma_{ij} + \\sigma_{ji}) C_{ij}$$\n",
    "\n",
    "- curvature \n",
    "  $$ L_{ij}C_{ij} = 2\\alpha_{ij} $$\n",
    "\n",
    "- chord x \n",
    "  $$\\Delta x_{ij} =  2 a_{ij} \\cos{\\beta_{ji}}$$\n",
    "\n",
    "- chord y \n",
    "  $$\\Delta y_{ij} =  2 a_{ij} \\sin{\\beta_{ji}}$$\n",
    "\n",
    "- Volume : \n",
    "  $$ V_A = \\sum_{e_{ij} \\in C}\\left(\\frac{\\textbf{r}_{Ai} \\times \\textbf{r}_{Aj}}{2} + f_V(\\alpha_{ij})a_{ij}^2 \\right)$$\n",
    "with: $f_V(\\alpha) = \\left(\\alpha + 1/\\tan\\alpha\\right)/\\sin^2\\alpha$\n",
    "\n",
    "- plateau x: \n",
    "  $$ \\sum_{e_{ij}} \\left(\\sigma_{ij} \\cos(\\beta_{ij} - \\alpha_{ij})\\right) - \\sum_{e_{ji}} \\left(\\sigma_{ji} \\cos(\\beta_{ji} + \\alpha_{ji})\\right) = 0$$\n",
    "\n",
    "- plateau y:\n",
    "  $$ \\sum_{e_{ij}} \\left(\\sigma_{ij} \\sin(\\beta_{ij} - \\alpha_{ij})\\right) - \\sum_{e_{ji}} \\left(\\sigma_{ji} \\sin(\\beta_{ji} + \\alpha_{ji})\\right) = 0$$\n",
    "\n",
    "- arc length\n",
    "  $$ L_{ij} \\mbox{sinc}\\,\\alpha_{ij} = 2a_{ij}$$\n",
    "\n",
    "- rheology \n",
    "  $$ \\dot{L_{ij}} = L_{ij}\\left(\\frac{\\dot{\\sigma_{ij}}}{k_{ij}} + \\frac{\\sigma_{ij}}{\\eta_{ij}} - m_{ij}\\right) + v_c(e_{ij}) + v_c(e_{ji})$$\n",
    "\n",
    "- strain rate \n",
    "  $$ \\frac{\\dot{\\sigma_{ij}}}{k_{ij}} + \\frac{\\sigma_{ij}}{\\eta_{ij}} - m_{ij} - \\left(\\frac{\\dot{\\sigma_{ji}}}{k_{ji}}  + \\frac{\\sigma_{ji}}{\\eta_{ji}} - m_{ji}\\right) = 0$$\n",
    "   \n",
    "- fixed center of mass\n",
    "  $$ \\sum_i x_i = 0\\\\ \\sum_i y_i =0$$\n",
    "    \n",
    "- fixed orientation of the 0 - 1 junction\n",
    "  $$ \\beta_{01} = 0 $$\n",
    "  \n",
    "Not included in the final set of equations is the definition of the sagitta:\n",
    "  $$ h_{ij} \\cos{\\frac{\\alpha_{ij}}{2}} =  a_{ij} \\sin{\\frac{\\alpha_{ij}}{2}}$$\n",
    "  \n",
    "\n"
   ]
  },
  {
   "cell_type": "markdown",
   "metadata": {},
   "source": [
    "## Time differentials\n",
    "\n",
    "\n",
    "- Laplace\n",
    "$$\\dot{P}_B - \\dot{P}_A + (\\dot{\\sigma}_{ij} + \\dot{\\sigma}_{ji})C_{ij} + (\\sigma_{ij} + \\sigma_{ji})\\dot{C}_{ij} = 0$$\n",
    "\n",
    "- curvature\n",
    "$$\\dot{L}_{ij}C_{ij} + L_{ij}\\dot{C_{ij}} - 2\\dot{\\alpha}_{ij} = 0$$\n",
    "\n",
    "- center of mass\n",
    "$$ \\sum_i \\dot{x}_i = 0 \\\\ \\sum_i \\dot{y}_i = 0 $$\n",
    "\n",
    "- orientation\n",
    "$$ \\dot{\\beta}_{01} = 0$$\n",
    "\n",
    "- chord (_swiched $x_i$ and $x_j$ wrt to the blackboard here, right?_)\n",
    "$$\\dot{x}_j - \\dot{x}_i - 2 \\dot{a}_{ij} \\cos\\beta_{ij} - 2 a_{ij} \\dot{\\beta_{ij}} \\sin {\\beta_{ij}} = 0 \\quad (i \\neq 0)$$\n",
    "$$\\dot{y}_j - \\dot{y}_i - 2 \\dot{a}_{ij} \\sin\\beta_{ij} + 2 a_{ij} \\dot{\\beta_{ij}} \\cos {\\beta_{ij}} = 0$$\n",
    "\n",
    "- Volume\n",
    "$$ \\sum_{e_{ij} \\in A} \\left(2f_V(\\alpha_{ij})\\, \\dot{a}_{ij}\\,a_{ij} + \\dot{f}_V(\\alpha_{ij})\\,\\dot{\\alpha}_{ij} a_{ij}^2 + \\frac{1}{2}\\left(\\dot{x}_i y_{Aj} + x_{Ai} \\dot{y}_{j} - \\dot{x}_j y_{Ai} - x_{Aj} \\dot{y}_{i}\\right)\\right) = \\dot{V}_A$$\n",
    "\n",
    "with: $\\dot{f}_V(\\alpha) = 2\\left(1 - \\alpha / \\tan \\alpha \\right) / \\sin^2 \\alpha$\n",
    "\n",
    "- Plateau\n",
    "$$ \\sum_{e_{ij}} \\dot{\\sigma}_{ij}\\cos(\\beta_{ij} - \\alpha_{ij})- \\sigma_{ij}\\dot{\\beta}_{ij}\\sin(\\beta_{ij} - \\alpha_{ij}) + \\sigma_{ij}\\dot{\\alpha}_{ij}\\sin(\\beta_{ij} - \\alpha_{ij})\\\\+ \\sum_{e_{ji}} - \\dot{\\sigma}_{ji}\\cos(\\beta_{ji} + \\alpha_{ji}) + \\sigma_{ji}\\dot{\\beta}_{ji}\\sin(\\beta_{ji} + \\alpha_{ji}) + \\sigma_{ji}\\dot{\\alpha}_{ji}\\sin(\\beta_{ji} + \\alpha_{ji}) = 0 $$\n",
    "\n",
    "$$ \\sum_{e_{ij}} \\dot{\\sigma}_{ij}\\sin(\\beta_{ij} - \\alpha_{ij}) + \\sigma_{ij}\\dot{\\beta}_{ij}\\cos(\\beta_{ij} - \\alpha_{ij}) - \\sigma_{ij}\\dot{\\alpha}_{ij}\\cos(\\beta_{ij} - \\alpha_{ij})\\\\ + \\sum_{e_{ji}} - \\dot{\\sigma}_{ji}\\sin(\\beta_{ji} + \\alpha_{ji}) - \\sigma_{ji}\\dot{\\beta}_{ji}\\cos(\\beta_{ji} + \\alpha_{ji}) - \\sigma_{ji}\\dot{\\alpha}_{ji}\\cos(\\beta_{ji} + \\alpha_{ji}) = 0 $$\n",
    "\n",
    "- arc length\n",
    "$$ \\dot{L}_{ij}\\,\\mbox{sinc}\\,\\alpha_{ij} + L_{ij}\\, \\frac{\\sin{\\alpha_{ij}} + \\alpha_{ij} \\cos{\\alpha_{ij}}}{\\alpha_{ij}^2}\\dot{\\alpha_{ij}} = 0 $$\n",
    "\n",
    "- rheology\n",
    "$$ \\dot{L}_{ij} - \\frac{L_{ij}}{k_{ij}}\\dot{\\sigma}_{ij} = L_{ij}\\frac{\\sigma_{ij}}{\\eta_{ij}} - m_{ij}L_{ij} + v_c(e_{ij}) + v_c(e_{ji}) $$\n",
    "\n",
    "- Strain rate\n",
    "$$ \\frac{\\dot{\\sigma}_{ij}}{k_{ij}} - \\frac{\\dot{\\sigma}_{ji}}{k_{ji}} = m_{ij} - m_{ji} - \\frac{\\sigma_{ij}}{\\eta_{ij}} + \\frac{\\sigma_{ji}}{\\eta_{ji}}$$\n",
    "\n",
    "There are 3 superfluous equations due to the center of mass and orientation added constraints.\n",
    "I guess it's legit to remove the chord orientation ones along $x$ for the 3 junctions of vertex 0. "
   ]
  },
  {
   "cell_type": "markdown",
   "metadata": {
    "collapsed": true
   },
   "source": [
    "### Order of the equations\n",
    "\n",
    "- $B$ is the number of cell Bodies (here faces)\n",
    "- $v$ is the number of vertices\n",
    "- $N_1$ is the number of full edges internal to the agregate,\n",
    "  corresponding to a pair of east/west half edges\n",
    "- $N_2$ is the number of half-edges external to the agregate\n",
    "\n",
    "In the limit of big agregates\n",
    "\n",
    "- $N_1 \\sim 3B$\n",
    "- $N_2 \\sim 0$\n",
    "- $v \\sim 2B$\n",
    "\n",
    "#### Order of the unknowns in the columns (number of columns):\n",
    "- $ P_A \\quad (B)$\n",
    "- $ C_{ij} \\quad (N_1+N_2 \\sim 3B)$\n",
    "- $ x_i, y_i \\quad (2v \\sim 4B)$\n",
    "- $ \\beta_{ij} \\quad (N_1 + N_2 \\sim 3B)$\n",
    "- $ \\alpha_{ij} \\quad (N_1+N_2 \\sim 3B)$\n",
    "- $ a_{ij} \\quad (N_1+N_2 \\sim 3B)$\n",
    "- $ L_{ij} \\quad (N_1+N_2 \\sim 3B)$\n",
    "- $ \\sigma_{ij} \\quad (2N_1+N_2 \\sim 6B)$\n",
    "\n",
    "#### Order of the equations in the rows (number of rows) :\n",
    "\n",
    "- Laplace $(N_1+N_2 \\sim 3B)$\n",
    "- Curvature $(N_1+N_2 \\sim 3B)$\n",
    "- Center of mass $(2 \\sim 0)$\n",
    "- Orientation $(1 \\sim 0)$\n",
    "- Chord $(2N_1+2N_2 - 3\\sim 6B)$\n",
    "- Volume $(B)$\n",
    "- Plateau $(2v \\sim 4B)$\n",
    "- arc length $(N_1+N_2 \\sim 3B)$\n",
    "- Rheology $(N_1+N_2 \\sim 3B)$\n",
    "- Strain rate $(N_1 \\sim 3B)$\n",
    "\n",
    "#### Resulting matrix shape:\n",
    "\n",
    "![Photo and cutting by François and Cyprien !](matrix.svg)\n"
   ]
  },
  {
   "cell_type": "markdown",
   "metadata": {},
   "source": [
    "# Implementation"
   ]
  },
  {
   "cell_type": "markdown",
   "metadata": {},
   "source": [
    "### The basic geometry is held by a `tyssue.core.sheet.Sheet` object\n",
    "\n"
   ]
  },
  {
   "cell_type": "code",
   "execution_count": 28,
   "metadata": {
    "collapsed": false
   },
   "outputs": [],
   "source": [
    "import tyssue\n",
    "\n",
    "import numpy as np\n",
    "import pandas as pd\n",
    "\n",
    "import matplotlib.pylab as plt\n",
    "# import seaborn as sns\n",
    "%matplotlib inline\n",
    "\n",
    "import tyssue as ty\n",
    "\n",
    "from tyssue import Sheet, PlanarGeometry\n",
    "from tyssue.draw.plt_draw import sheet_view, curved_view"
   ]
  },
  {
   "cell_type": "markdown",
   "metadata": {},
   "source": [
    "### Simple three cells geometry"
   ]
  },
  {
   "cell_type": "code",
   "execution_count": 29,
   "metadata": {
    "collapsed": true
   },
   "outputs": [],
   "source": [
    "datasets = {}\n",
    "\n",
    "tri_verts = [[0, 0],\n",
    "             [1, 0],\n",
    "             [-0.5, 3**0.5/2],\n",
    "             [-0.5, -3**0.5/2]]\n",
    "\n",
    "tri_edges = [[0, 1, 0],\n",
    "             [1, 2, 0],\n",
    "             [2, 0, 0],\n",
    "             [0, 3, 1],\n",
    "             [3, 1, 1],\n",
    "             [1, 0, 1],\n",
    "             [0, 2, 2],\n",
    "             [2, 3, 2],\n",
    "             [3, 0, 2]]\n",
    "\n",
    "datasets['edge'] = pd.DataFrame(data=np.array(tri_edges),\n",
    "                                columns=['srce', 'trgt', 'face'])\n",
    "datasets['edge'].index.name = 'edge'\n",
    "\n",
    "datasets['face'] = pd.DataFrame(data=np.zeros((3, 2)), columns=['x', 'y'])\n",
    "datasets['face'].index.name = 'face'\n",
    "\n",
    "datasets['vert'] = pd.DataFrame(data=np.array(tri_verts),\n",
    "                                columns=['x', 'y'])\n",
    "datasets['vert'].index.name = 'vert'\n"
   ]
  },
  {
   "cell_type": "markdown",
   "metadata": {},
   "source": [
    "### Model specifications"
   ]
  },
  {
   "cell_type": "code",
   "execution_count": 30,
   "metadata": {
    "collapsed": false
   },
   "outputs": [],
   "source": [
    "reo_specs = {\n",
    "    \"edge\": {\n",
    "        \"arc_length\": 1.0, # L\n",
    "        \"length\": 1.0, # 2a that's the chord length\n",
    "        \"arc_chord_angle\": np.pi/5, # alpha\n",
    "        \"sagitta\": 1.0, # h\n",
    "        \"chord_orient\": 1.0, # beta\n",
    "        \"curvature\": 0.1, # C\n",
    "        \"tension\": 1.0, # sigma surface tension\n",
    "        \"dx\": 0.0,\n",
    "        \"dy\": 0.0,\n",
    "        \"nz\": 0.0,\n",
    "        \"sub_area\": 0.0,\n",
    "        \"opposite\": -1,\n",
    "        \"modulus\": 0.0, # Young's\n",
    "        \"viscosity\": 1.0,\n",
    "        \"motor\": 1.0\n",
    "        },\n",
    "    \"face\": {\n",
    "        \"x\": 0.0,\n",
    "        \"y\": 0.0,\n",
    "        \"pressure\": 1.0,\n",
    "        \"area\": 0.0,\n",
    "        \"dot_area\": 0.0\n",
    "        },\n",
    "    \"vert\": {\n",
    "        \"x\": 0.0,\n",
    "        \"y\": 0.0\n",
    "        }\n",
    "    }\n"
   ]
  },
  {
   "cell_type": "markdown",
   "metadata": {},
   "source": [
    "### Curved edges specific geometry"
   ]
  },
  {
   "cell_type": "code",
   "execution_count": 31,
   "metadata": {
    "collapsed": false
   },
   "outputs": [],
   "source": [
    "\n",
    "def arc_area(alpha):\n",
    "    \"\"\"\n",
    "    fractional area of an arc with an arc-chord angle \n",
    "    alpha. The full (signed) area of the arc is given\n",
    "    by `arc_area(alpha) * length**2 / 4` where length\n",
    "    is the length of the chord\n",
    "    \"\"\"\n",
    "    alpha = np.asarray(alpha)\n",
    "    f_v = (1 / np.sinc(alpha/np.pi) - \n",
    "           np.cos(alpha)) / np.sin(alpha)\n",
    "    f_v[np.sin(alpha) == 0.0] = 0\n",
    "    return f_v\n",
    "\n",
    "\n",
    "class CurvedSheet(PlanarGeometry):\n",
    "\n",
    "    @classmethod\n",
    "    def update_all(cls, sheet):\n",
    "\n",
    "        cls.update_centroid(sheet)\n",
    "        cls.update_dcoords(sheet)\n",
    "        cls.update_length(sheet)\n",
    "        cls.update_opposites(sheet)\n",
    "        cls.update_sagitta(sheet)\n",
    "        cls.update_normals(sheet)\n",
    "        cls.update_areas(sheet)\n",
    "    \n",
    "    @staticmethod\n",
    "    def update_areas(sheet):\n",
    "        \n",
    "        sheet.edge_df['sub_area'] = np.abs(sheet.edge_df['nz']) / 2\n",
    "        fv_term = arc_area(sheet.edge_df['arc_chord_angle'])\n",
    "        sub_area = (sheet.edge_df['sub_area']\n",
    "                    + fv_term * sheet.edge_df['length']**2 / 4)\n",
    "        sheet.face_df['area'] = sheet.sum_face(sub_area)\n",
    "\n",
    "    @staticmethod\n",
    "    def update_opposites(sheet):\n",
    "        if not hasattr(sheet, 'west_edges'):\n",
    "            sheet.get_extra_indices()\n",
    "        \n",
    "        symmetric = ['arc_length', 'length']\n",
    "        sheet.edge_df.loc[sheet.west_edges,\n",
    "                          symmetric] = sheet.edge_df.loc[sheet.east_edges,\n",
    "                                                         symmetric].values\n",
    "        anti_symmetric = ['curvature', 'chord_orient', 'arc_chord_angle']\n",
    "        sheet.edge_df.loc[sheet.west_edges,\n",
    "                          anti_symmetric] = -sheet.edge_df.loc[sheet.east_edges,\n",
    "                                                               anti_symmetric].values\n",
    "    @staticmethod\n",
    "    def update_sagitta(sheet):\n",
    "        sheet.edge_df['sagitta'] = (sheet.edge_df['length']\n",
    "                                    * np.tan(sheet.edge_df['arc_chord_angle']/2)/2)\n",
    "    \n",
    "    @staticmethod\n",
    "    def update_arc_length(sheet):\n",
    "        \"\"\" explicit computation of the edge arc length\n",
    "        from the chord length and the arc-chord angle\n",
    "        \n",
    "        Initialization only, should not be ran while solving\n",
    "        \"\"\"\n",
    "    \n",
    "        sheet.edge_df['arc_length'] = (sheet.edge_df['length']\n",
    "                                       / np.sinc(sheet.edge_df['arc_chord_angle']/np.pi))\n",
    "\n",
    "    @staticmethod\n",
    "    def update_curvature(sheet):\n",
    "        \"\"\" explicit computation of the edge cutrvature\n",
    "        from the arc length and the arc-chord angle\n",
    "        \n",
    "        Initialization only, should not be ran while solving\n",
    "        \"\"\"\n",
    "        sheet.edge_df['curvature'] = 2 * (sheet.edge_df['arc_chord_angle'] \n",
    "                                          / sheet.edge_df['arc_length'])\n",
    "        \n",
    "    @staticmethod\n",
    "    def update_chord_orient(sheet):\n",
    "        \"\"\" explicit computation of the chord orientation :math:`\\beta_{ij}`\n",
    "        from the chord coordinates.\n",
    "        \n",
    "        Initialization only, should not be ran while solving\n",
    "        \"\"\"\n",
    "        sheet.edge_df['chord_orient'] = np.arctan2(sheet.edge_df['dy'], \n",
    "                                                   sheet.edge_df['dx'])\n",
    "\n",
    "\n",
    "        \n",
    "geom = CurvedSheet\n"
   ]
  },
  {
   "cell_type": "markdown",
   "metadata": {},
   "source": [
    "### The object itself"
   ]
  },
  {
   "cell_type": "code",
   "execution_count": 32,
   "metadata": {
    "collapsed": false
   },
   "outputs": [],
   "source": [
    "sheet = Sheet('tri_junction', datasets,\n",
    "              reo_specs, coords=['x', 'y'])\n",
    "\n",
    "geom.update_all(sheet)\n",
    "# Reorder edges (see explanations bellow)\n",
    "sheet.sort_edges_eastwest()\n",
    "\n"
   ]
  },
  {
   "cell_type": "markdown",
   "metadata": {},
   "source": [
    "### Initial conditions\n",
    "\n",
    "We choose to take homogenous values for the tensions, viscosities and \n",
    "pressure within the agregate. This way, we have a simple equilibrium condition,\n",
    "in the absence of motors, membrane velocity or volume change.\n",
    "\n",
    "\n"
   ]
  },
  {
   "cell_type": "code",
   "execution_count": 33,
   "metadata": {
    "collapsed": false
   },
   "outputs": [],
   "source": [
    "\n",
    "# verify Plateau\n",
    "sheet.edge_df.loc[sheet.free_edges, 'arc_chord_angle'] = np.ones(3) * np.pi / 2\n",
    "sheet.edge_df.loc[sheet.east_edges, 'arc_chord_angle'] = np.zeros(3)#np.array([0.2, 0.3, 0.1]) * np.pi / 2\n",
    "sheet.edge_df.loc[sheet.west_edges, 'arc_chord_angle'] = np.zeros(3)#-np.array([0.2, 0.3, 0.1]) * np.pi / 2\n",
    "\n",
    "# Initial beta, alpha and C from the arc-chord orientation\n",
    "geom.update_chord_orient(sheet)\n",
    "geom.update_arc_length(sheet)\n",
    "geom.update_curvature(sheet)\n",
    "\n",
    "sheet.edge_df['tension'] = 1.0\n",
    "sheet.edge_df['viscosity'] = 1.0\n",
    "sheet.edge_df['modulus'] = 1.0\n",
    "\n",
    "# Deduce pressures from Laplace\n",
    "faces = sheet.edge_df.loc[sheet.free_edges, 'face'].astype(np.int)\n",
    "sheet.face_df.loc[faces, 'pressure'] = sheet.edge_df.loc[sheet.free_edges,\n",
    "                                                        'curvature'].values\n",
    "# Deduce motors from rheology\n",
    "sheet.edge_df['motor'] = sheet.edge_df.eval('tension / viscosity')\n",
    "\n",
    "# update the geometry again\n",
    "geom.update_all(sheet)\n"
   ]
  },
  {
   "cell_type": "markdown",
   "metadata": {},
   "source": [
    "## Representation"
   ]
  },
  {
   "cell_type": "markdown",
   "metadata": {},
   "source": [
    "I cooked up a function to plot the curved edges. Code is in `tyssue.draw.plt_draw` if you're curious."
   ]
  },
  {
   "cell_type": "code",
   "execution_count": 34,
   "metadata": {
    "collapsed": false
   },
   "outputs": [
    {
     "data": {
      "image/png": "[encoded data removed]",
      "text/plain": [
       "<matplotlib.figure.Figure at 0x7fe07798ecc0>"
      ]
     },
     "metadata": {},
     "output_type": "display_data"
    }
   ],
   "source": [
    "fig, ax = curved_view(sheet)"
   ]
  },
  {
   "cell_type": "code",
   "execution_count": 35,
   "metadata": {
    "collapsed": false
   },
   "outputs": [
    {
     "data": {
      "image/png": "[encoded data removed]",
      "text/plain": [
       "<matplotlib.figure.Figure at 0x7fe077073c50>"
      ]
     },
     "metadata": {},
     "output_type": "display_data"
    }
   ],
   "source": [
    "from tyssue.particles.point_cloud import EdgeSubdiv\n",
    "\n",
    "def arc_y(t, curv):\n",
    "    return t * np.sinc(t * curv)\n",
    "\n",
    "def arc_x(t, curv):\n",
    "    tc2 = t * curv / 2\n",
    "    return t * np.sin(tc2) * np.sinc(tc2)\n",
    "\n",
    "\n",
    "\n",
    "subdiv = EdgeSubdiv(sheet.edge_df, density=30)\n",
    "subdiv.points['curvature'] = sheet.edge_df['curvature'].loc[subdiv.points['upcaster']].values\n",
    "subdiv.points['orient'] = sheet.edge_df.eval(\n",
    "    'chord_orient - arc_chord_angle').loc[subdiv.points['upcaster']].values\n",
    "\n",
    "for col in ['x', 'y']:\n",
    "    subdiv.points[col+'0'] = sheet.upcast_srce(sheet.vert_df[col]).loc[subdiv.points['upcaster']].values\n",
    "\n",
    "\n",
    "\n",
    "subdiv.points['arc_x'] = arc_x(subdiv.points[\"offset\"],\n",
    "                               subdiv.points[\"curvature\"])\n",
    "subdiv.points['arc_y'] = arc_y(subdiv.points[\"offset\"],\n",
    "                               subdiv.points[\"curvature\"])\n",
    "\n",
    "subdiv.points['x'] = (subdiv.points['arc_x'] * np.cos(subdiv.points[\"orient\"])\n",
    "                      - subdiv.points['arc_y'] * np.sin(subdiv.points[\"orient\"])) + subdiv.points[\"x0\"]\n",
    "subdiv.points['y'] = (subdiv.points['arc_x'] * np.sin(subdiv.points[\"orient\"])\n",
    "                      + subdiv.points['arc_y'] * np.cos(subdiv.points[\"orient\"])) + subdiv.points[\"y0\"]\n",
    "\n",
    "\n",
    "fig, ax = curved_view(sheet)\n",
    "ax.plot(subdiv.points['x'], subdiv.points['y'], '.', alpha=0.5)\n",
    "ax.set_aspect('equal')"
   ]
  },
  {
   "cell_type": "code",
   "execution_count": 36,
   "metadata": {
    "collapsed": false
   },
   "outputs": [
    {
     "data": {
      "text/plain": [
       "[<matplotlib.lines.Line2D at 0x7fe0770046a0>]"
      ]
     },
     "execution_count": 36,
     "metadata": {},
     "output_type": "execute_result"
    },
    {
     "data": {
      "image/png": "[encoded data removed]",
      "text/plain": [
       "<matplotlib.figure.Figure at 0x7fe0770e7a20>"
      ]
     },
     "metadata": {},
     "output_type": "display_data"
    }
   ],
   "source": [
    "fig, ax = plt.subplots()\n",
    "ax.plot(subdiv.points['arc_x'], subdiv.points['arc_y'], '.', alpha=0.5)\n"
   ]
  },
  {
   "cell_type": "markdown",
   "metadata": {},
   "source": [
    "#### Problem matrix\n",
    "\n",
    "\n",
    "\n",
    "First, we set up the matrix indexes based on the chosen equations and variables order"
   ]
  },
  {
   "cell_type": "code",
   "execution_count": 37,
   "metadata": {
    "collapsed": false
   },
   "outputs": [
    {
     "name": "stdout",
     "output_type": "stream",
     "text": [
      "Row indices: \n",
      "('laplace', array([0, 1, 2, 3, 4]))\n",
      "('curvature', array([ 5,  6,  7,  8,  9, 10]))\n",
      "('center', array([11, 12]))\n",
      "('orientation', array([13]))\n",
      "('chord_x', array([14, 15, 16, 17, 18, 19]))\n",
      "('chord_y', array([20, 21, 22, 23, 24, 25]))\n",
      "('volume', array([26, 27, 28]))\n",
      "('plateau_x', array([29, 30, 31]))\n",
      "('plateau_y', array([32, 33, 34]))\n",
      "('arc_length', array([35, 36, 37, 38, 39, 40]))\n",
      "('rheology', array([41, 42, 43, 44, 45, 46]))\n",
      "('strainrate', array([47, 48, 49]))\n",
      "\n",
      "\n",
      "Column indices: \n",
      "('pressure', array([0, 1, 2]))\n",
      "('curvature', array([3, 4, 5, 6, 7, 8]))\n",
      "('x', array([ 9, 10, 11, 12]))\n",
      "('y', array([13, 14, 15, 16]))\n",
      "('chord_orient', array([17, 18, 19, 20, 21, 22]))\n",
      "('arc_chord_angle', array([23, 24, 25, 26, 27, 28]))\n",
      "('length', array([29, 30, 31, 32, 33, 34]))\n",
      "('arc_length', array([35, 36, 37, 38, 39, 40]))\n",
      "('tension', array([41, 42, 43, 44, 45, 46, 47, 48, 49]))\n"
     ]
    }
   ],
   "source": [
    "from collections import OrderedDict\n",
    "from scipy import sparse\n",
    "\n",
    "class RheologyModel():\n",
    "    \n",
    "    variables = OrderedDict([('pressure', 'face'), ('curvature', 'edge'),\n",
    "                             ('x', 'vert'), ('y', 'vert'), \n",
    "                             ('chord_orient', 'edge'), ('arc_chord_angle', 'edge'),\n",
    "                             ('length', 'edge'), ('arc_length', 'edge'),\n",
    "                             ('tension', 'edge')])\n",
    "    equations = ['laplace', 'curvature', 'center', 'orientation', 'chord', 'volume',\n",
    "                 'plateau', 'arc_length', 'rheology', 'strainrate']\n",
    "    \n",
    "    def __init__(self, sheet):\n",
    "        \n",
    "        self.sheet = sheet\n",
    "        self.row_idxs, self.col_idxs = self.matrix_indices(sheet)\n",
    "        self.speed_idx = self.get_speed_index()\n",
    "        \n",
    "    \n",
    "    @staticmethod\n",
    "    def matrix_indices(sheet):\n",
    "        \n",
    "        nface = sheet.Nf\n",
    "        nvert = sheet.Nv\n",
    "        nedge = sheet.Ne\n",
    "        \n",
    "        nsgle = sheet.Ni + sheet.No\n",
    "        neast = sheet.Ni\n",
    "        \n",
    "        row_sizes = OrderedDict([\n",
    "                ('laplace', nsgle-1), # Drop first eq.\n",
    "                ('curvature', nsgle),\n",
    "                ('center', 2),\n",
    "                ('orientation', 1),\n",
    "                ('chord_x', nsgle),\n",
    "                ('chord_y', nsgle),\n",
    "                ('volume', nface),\n",
    "                ('plateau_x', nvert-1), # Drop first eq.\n",
    "                ('plateau_y', nvert-1), # Drop first eq.\n",
    "                ('arc_length', nsgle),\n",
    "                ('rheology', nsgle),\n",
    "                ('strainrate', neast)\n",
    "                ])\n",
    "        \n",
    "        col_sizes = OrderedDict([\n",
    "                ('pressure', nface),\n",
    "                ('curvature', nsgle),\n",
    "                ('x', nvert), ('y', nvert),\n",
    "                ('chord_orient', nsgle),\n",
    "                ('arc_chord_angle', nsgle),\n",
    "                ('length', nsgle),\n",
    "                ('arc_length', nsgle),\n",
    "                ('tension', nedge)\n",
    "                ])\n",
    "\n",
    "        row_sizes_ = [n for n in row_sizes.values()]\n",
    "        col_sizes_ = [n for n in col_sizes.values()]\n",
    "        \n",
    "        row_shifts = np.roll(np.cumsum(row_sizes_), 1)\n",
    "        row_shifts[0] = 0\n",
    "\n",
    "        col_shifts = np.roll(np.cumsum(col_sizes_), 1)\n",
    "        col_shifts[0] = 0\n",
    "\n",
    "        row_idxs = OrderedDict([(key, np.arange(shift, shift + size))\n",
    "                                for (key, size), shift in zip(row_sizes.items(),\n",
    "                                                              row_shifts)])\n",
    "        col_idxs = OrderedDict([(key, np.arange(shift, shift + size))\n",
    "                                for (key, size), shift in zip(col_sizes.items(),\n",
    "                                                              col_shifts)])\n",
    "        \n",
    "        return row_idxs, col_idxs\n",
    "    \n",
    "    def get_speed_index(self):\n",
    "        speed_idx = pd.MultiIndex.from_tuples([(v, i-idxs[0]) for v, idxs\n",
    "                                               in self.col_idxs.items()\n",
    "                                               for i in idxs])\n",
    "        return speed_idx\n",
    "    \n",
    "    @staticmethod\n",
    "    def get_dense_block(block):\n",
    "        \"\"\"\n",
    "        Small helper function to remove padding zeros\n",
    "        and get a view of a compact matrix block\n",
    "        \"\"\"\n",
    "        arr = sparse.coo_matrix((block[0],\n",
    "                                (block[1][0] - block[1][0].min(),\n",
    "                                 block[1][1] - block[1][1].min()))\n",
    "                               ).toarray()\n",
    "        return arr\n",
    "    \n",
    "    \n",
    "\n",
    "model = RheologyModel(sheet)\n",
    "\n",
    "row_idxs, col_idxs = model.row_idxs, model.col_idxs\n",
    "\n",
    "print('Row indices: ')\n",
    "print(*row_idxs.items(), sep='\\n')\n",
    "print('\\n')\n",
    "print('Column indices: ')\n",
    "print(*col_idxs.items(), sep='\\n')\n"
   ]
  },
  {
   "cell_type": "markdown",
   "metadata": {},
   "source": [
    "### Writting the matrix coefficients\n",
    "\n",
    "\n",
    "The `sheet.get_extra_indices()` method provides indexes over the edges depending\n",
    "on whether they are inside the agregate and have an opposite edge, or they are free,\n",
    "i.e at the agregate boundary. From the method's docstring, the method creates:\n",
    "\n",
    "- `sheet.free_edges`: half-edges at the epithelium boundary\n",
    "- `sheet.dble_edges`: half-edges inside the epithelium,\n",
    "  with an opposite\n",
    "- `sheet.east_edges`: half of the `dble_edges`, pointing east\n",
    "  (figuratively)\n",
    "- `sheet.west_edges`: half of the `dble_edges`, pointing west\n",
    "   (the order of the east and west edges is conserved, so that\n",
    "   the ith west half-edge is the opposite of the ith east half-edge)\n",
    "- `sheet.sgle_edges`: joint index over free and east edges, spanning\n",
    "   the entire graph without double edges\n",
    "- `sheet.wrpd_edges`: joint index over free edges followed by the\n",
    "   east edges twice, such that a vector over the whole half-edge\n",
    "    dataframe is wrapped over the single edges\n",
    "- `sheet.srtd_edges`: index over the whole half-edge sorted such that\n",
    "   the free edges come first, then the east, then the west\n",
    "\n",
    "It also computes:\n",
    "- `sheet.Ni`: the number of inside full edges\n",
    "  (i.e. `len(sheet.east_edges)`)\n",
    "- `sheet.No`: the number of outside full edges\n",
    "  (i.e. `len(sheet.free_edges)`)\n",
    "- `sheet.Nd`: the number of double half edges\n",
    "  (i.e. `len(sheet.dble_edges)`)\n",
    "- `sheet.anti_sym`: `pd.Series` with shape `(sheet.Ne,)`\n",
    "  with 1 at the free and east half-edges and -1\n",
    "  at the west half-edges.\n",
    "\n",
    "\n",
    "We'll use those indexes to write the matrix of speed coefficients from the problem's equations.\n",
    "We make use of the `sheet.sort_edges_eastwest` method to re-arrange the edges such that the\n",
    "free edges come first, then east, then west. This way, each subset is contiguous, and can be easily\n",
    "mapped to the matrix coefficients.\n",
    "\n",
    "Note that this re-ordering must be done only when topology changes.\n",
    "\n",
    "\n",
    "We use the indices defined above to populate the matrix. For each equation, variable pair, we \n",
    "we write three arrays: the values, their row index and their colummn index.\n",
    "\n",
    "\n",
    "The idea is to produce the coefficients as needed to instanciate a `scipy.sparse.coo_matrix`,\n",
    "as documented [here](http://docs.scipy.org/doc/scipy/reference/generated/scipy.sparse.coo_matrix.html#scipy.sparse.coo_matrix).\n",
    "\n",
    "Note that entries with the same (row, column) index pair are **added**, we take advantage of that for terms\n",
    "like $(\\sigma_{ij} + \\sigma_{ji})\\dot{C}_{ij}$.\n",
    "\n",
    "We'll use expressions like `row_idxs['laplace'][sheet.wrpd_edges]`. This will correspond to the\n",
    "indices of each $N_1$ equations wrapped over, so that the terms corresponding to the `west` edges\n",
    "are written on the equations corresponding to the opposite `east` ones. Thus the above term is written:\n",
    "\n",
    "```python\n",
    "    curvature_block = (\n",
    "        sheet.edge_df['tension'], # the data, over all the edges\n",
    "        (row_idxs['laplace'][sheet.wrpd_edges], # row indexed, wrapped\n",
    "         col_idxs['curvature'][sheet.wrpd_edges]), # column indexed, wrapped\n",
    "        )\n",
    "```\n"
   ]
  },
  {
   "cell_type": "code",
   "execution_count": 38,
   "metadata": {
    "collapsed": false
   },
   "outputs": [
    {
     "data": {
      "text/plain": [
       "Int64Index([0, 1, 2, 3, 4, 5, 3, 4, 5], dtype='int64', name='edge')"
      ]
     },
     "execution_count": 38,
     "metadata": {},
     "output_type": "execute_result"
    }
   ],
   "source": [
    "sheet.wrpd_edges"
   ]
  },
  {
   "cell_type": "code",
   "execution_count": 39,
   "metadata": {
    "collapsed": false
   },
   "outputs": [],
   "source": [
    "# Small utilities\n",
    "\n",
    "def dot_arc_area(alpha):\n",
    "    alpha = np.asanyarray(alpha)\n",
    "    dotf_v = (2 - 2*alpha / np.tan(alpha)) / np.sin(alpha)**2\n",
    "    dotf_v[alpha == 0.0] = 2/3.\n",
    "    return dotf_v\n",
    "\n",
    "def dot_sinc(alpha):\n",
    "    \"\"\"Time derivative of the sinus cardinal function\n",
    "    defined as sin(alpha)/alpha.\n",
    "    \"\"\"\n",
    "    alpha = np.asanyarray(alpha)\n",
    "    dsinc = (np.sin(alpha) + alpha*np.cos(alpha))/alpha**2\n",
    "    dsinc[alpha==0] = 0.\n",
    "    return dsinc\n",
    "\n",
    "\n",
    "# The equations themselves\n",
    "\n",
    "def laplace_eq(sheet, row_idxs, col_idxs):\n",
    "    \n",
    "    faces = sheet.edge_df.loc[1:, 'face'].astype(np.int)\n",
    "    row_idx = row_idxs['laplace'][sheet.wrpd_edges[1:]-1]\n",
    "    \n",
    "    pressure_block = (\n",
    "        - sheet.anti_sym.loc[1:], # 1 for the edge's face, -1 for the opposite\n",
    "        (row_idx, col_idxs['pressure'][faces])\n",
    "        )\n",
    "    \n",
    "    tension_block = (\n",
    "        sheet.edge_df.loc[sheet.wrpd_edges[1:], 'curvature'],\n",
    "        (row_idx, col_idxs['tension'][1:])\n",
    "        )\n",
    "    \n",
    "    curvature_block = (\n",
    "        sheet.edge_df.loc[1:, 'tension'],\n",
    "        (row_idx, col_idxs['curvature'][sheet.wrpd_edges[1:]])\n",
    "        )\n",
    "\n",
    "    return pressure_block, tension_block, curvature_block\n",
    "\n",
    "\n",
    "def curvature_eq(sheet, row_idxs, col_idxs):\n",
    "    \n",
    "    edge_df = sheet.edge_df.loc[sheet.sgle_edges]\n",
    "    \n",
    "    arc_length_block = (\n",
    "        edge_df['curvature'],\n",
    "        (row_idxs['curvature'],\n",
    "         col_idxs['arc_length'])\n",
    "        )\n",
    "\n",
    "    curvature_block = (\n",
    "        edge_df['arc_length'],\n",
    "        (row_idxs['curvature'],\n",
    "         col_idxs['curvature'])\n",
    "        )\n",
    "\n",
    "    angle_block = (\n",
    "        -2 * np.ones(sheet.Ni + sheet.No),\n",
    "        (row_idxs['curvature'],\n",
    "         col_idxs['arc_chord_angle'])\n",
    "        )\n",
    "    \n",
    "    return arc_length_block, curvature_block, angle_block\n",
    "   \n",
    "    \n",
    "def center_eq(sheet, row_idxs, col_idxs):\n",
    "    \n",
    "    ones = np.ones(sheet.Nv)\n",
    "    com_x_block = (\n",
    "        ones,\n",
    "        (ones*row_idxs['center'][0],\n",
    "         col_idxs['x'])\n",
    "        )\n",
    "    com_y_block = (\n",
    "        ones,\n",
    "        (ones*row_idxs['center'][1],\n",
    "        col_idxs['y'])\n",
    "        )\n",
    "    return com_x_block, com_y_block\n",
    "\n",
    "\n",
    "def orientation_eq(sheet, row_idxs, col_idxs):\n",
    "    \n",
    "    edge_01 = sheet.edge_df[(sheet.edge_df['srce']==0) &\n",
    "                            (sheet.edge_df['trgt']==1)].index\n",
    "    \n",
    "    return ([1,], (row_idxs['orientation'],\n",
    "                   col_idxs['chord_orient'][edge_01])),\n",
    "    \n",
    "    \n",
    "def chord_x_eq(sheet, row_idxs, col_idxs):\n",
    "    \n",
    "    edge_df = sheet.edge_df.loc[sheet.sgle_edges]\n",
    "    # Warning! this assumes vertex 0 is at a 3 way junction!\n",
    "    #edge_df = edge_df[(edge_df['srce'] != 0)\n",
    "    #              & (edge_df['trgt'] != 0)]\n",
    "    \n",
    "    srces = edge_df['srce'].astype(np.int)\n",
    "    trgts = edge_df['trgt'].astype(np.int)\n",
    "    edges = edge_df.index\n",
    "    \n",
    "    \n",
    "    x_trgt_block = (\n",
    "        np.ones(sheet.Ni + sheet.No),\n",
    "        (row_idxs['chord_x'],\n",
    "         col_idxs['x'][trgts])\n",
    "        )\n",
    "    \n",
    "    x_srce_block = (\n",
    "        - np.ones(sheet.Ni + sheet.No),\n",
    "        (row_idxs['chord_x'],\n",
    "         col_idxs['x'][srces])\n",
    "        )\n",
    "    \n",
    "    chord_block = (\n",
    "        - np.cos(edge_df['chord_orient']),\n",
    "        (row_idxs['chord_x'],\n",
    "         col_idxs['length'][edges])\n",
    "        )\n",
    "    \n",
    "    orient_block = (\n",
    "        - np.sin(edge_df['chord_orient']) * edge_df['length'],\n",
    "        (row_idxs['chord_x'],\n",
    "         col_idxs['chord_orient'][edges])\n",
    "        )\n",
    "    return x_trgt_block, x_srce_block, chord_block, orient_block\n",
    "\n",
    "\n",
    "def chord_y_eq(sheet, row_idxs, col_idxs):\n",
    "    \n",
    "    edge_df = sheet.edge_df.loc[sheet.sgle_edges]\n",
    "    srces = edge_df['srce'].astype(np.int)\n",
    "    trgts = edge_df['trgt'].astype(np.int)\n",
    "    \n",
    "    y_trgt_block = (\n",
    "        np.ones(sheet.Ni + sheet.No),\n",
    "        (row_idxs['chord_y'],\n",
    "         col_idxs['y'][trgts])\n",
    "        )\n",
    "    \n",
    "    y_srce_block = (\n",
    "        - np.ones(sheet.Ni + sheet.No),\n",
    "        (row_idxs['chord_y'],\n",
    "         col_idxs['y'][srces])\n",
    "        )\n",
    "    \n",
    "    chord_block = (\n",
    "        - np.sin(edge_df['chord_orient']),\n",
    "        (row_idxs['chord_y'],\n",
    "         col_idxs['length'])\n",
    "        )\n",
    "    \n",
    "    orient_block = (\n",
    "        np.cos(edge_df['chord_orient']) * edge_df['length'],\n",
    "        (row_idxs['chord_y'],\n",
    "         col_idxs['chord_orient'])\n",
    "        )\n",
    "    \n",
    "    return y_trgt_block, y_srce_block, chord_block, orient_block\n",
    "\n",
    "\n",
    "def volume_eq(sheet, row_idxs, col_idxs):\n",
    "    \n",
    "    # here we work over the whole halfedges set because\n",
    "    # terms are for every edges of a given face\n",
    "    \n",
    "    edge_df = sheet.edge_df\n",
    "\n",
    "    faces = edge_df['face'].astype(np.int)\n",
    "    srces = edge_df['srce'].astype(np.int)\n",
    "    trgts = edge_df['trgt'].astype(np.int)\n",
    "\n",
    "    fv_term = (arc_area(edge_df['arc_chord_angle']) *\n",
    "               edge_df['length'] / 2)\n",
    "    dot_fv_term = (dot_arc_area(edge_df['arc_chord_angle']) *\n",
    "                   edge_df['length']**2 / 4)\n",
    "    \n",
    "    up_face = sheet.upcast_face(sheet.face_df[sheet.coords])\n",
    "    r_Ai = (up_face - sheet.upcast_srce(sheet.vert_df[sheet.coords]))\n",
    "    r_Aj = (up_face - sheet.upcast_trgt(sheet.vert_df[sheet.coords]))\n",
    "    \n",
    "    wrpd_edges = sheet.wrpd_edges\n",
    "    row_idx = row_idxs['volume'][faces]\n",
    "    \n",
    "    chord_block = (\n",
    "        fv_term * sheet.anti_sym,\n",
    "        (row_idx, col_idxs['length'][wrpd_edges])\n",
    "        )\n",
    "\n",
    "    angle_block = (\n",
    "        dot_fv_term * sheet.anti_sym,\n",
    "        (row_idx, col_idxs['arc_chord_angle'][wrpd_edges])\n",
    "        )\n",
    "\n",
    "    # dx_i y_Aj\n",
    "    srce_x_block = (\n",
    "        r_Aj['y']/2,\n",
    "        (row_idx, col_idxs['x'][srces])\n",
    "        )\n",
    "\n",
    "    # x_Ai dy_j\n",
    "    trgt_y_block = (\n",
    "        r_Ai['x']/2,\n",
    "        (row_idx, col_idxs['y'][trgts])\n",
    "        )\n",
    "    \n",
    "    # -dx_j y_Ai\n",
    "    trgt_x_block = (\n",
    "        -r_Ai['y']/2,\n",
    "        (row_idx, col_idxs['x'][trgts])\n",
    "        )\n",
    "\n",
    "    # -x_Aj dy_i\n",
    "    srce_y_block = (\n",
    "        - r_Aj['x']/2,\n",
    "        (row_idx, col_idxs['y'][srces])\n",
    "        )\n",
    "    \n",
    "    return (chord_block, angle_block,\n",
    "            srce_x_block, srce_y_block,\n",
    "            trgt_x_block, trgt_y_block)\n",
    "\n",
    "\n",
    "def plateau_x_eq(sheet, row_idxs, col_idxs):\n",
    "    \n",
    "    wrpd_idx = sheet.wrpd_edges\n",
    "    edge_df = sheet.edge_df\n",
    "    \n",
    "    srce_not_0 = edge_df[edge_df['srce'] != 0].index\n",
    "    trgt_not_0 = edge_df[edge_df['trgt'] != 0].index\n",
    "    \n",
    "    srces = edge_df.loc[srce_not_0, 'srce'].astype(np.int)\n",
    "    trgts = edge_df.loc[trgt_not_0, 'trgt'].astype(np.int)\n",
    "    \n",
    "    srce_row_idx = row_idxs['plateau_x'][srces - 1]\n",
    "    trgt_row_idx = row_idxs['plateau_x'][trgts - 1]\n",
    "    \n",
    "    # All the terms are symmetrical wrt to changing alpha_ji to alpha_ij\n",
    "    \n",
    "    bma = edge_df.eval('chord_orient - arc_chord_angle')\n",
    "    cos_bma = np.cos(bma)\n",
    "    sin_bma = np.sin(bma) * edge_df['tension'] \n",
    "\n",
    "    bpa = sheet.edge_df.eval('chord_orient + arc_chord_angle')\n",
    "    cos_bpa = np.cos(bpa)\n",
    "    sin_bpa = np.sin(bpa) * edge_df['tension']\n",
    "    \n",
    "    tension_srce_block = (\n",
    "        cos_bma.loc[srce_not_0],\n",
    "        (srce_row_idx, col_idxs['tension'][srce_not_0])\n",
    "        )\n",
    "    \n",
    "    orient_srce_block = (\n",
    "        -sin_bma.loc[srce_not_0],\n",
    "        (srce_row_idx, col_idxs['chord_orient'][wrpd_idx[srce_not_0]])\n",
    "        )\n",
    "    \n",
    "    angle_srce_block = (\n",
    "        sin_bma.loc[srce_not_0],\n",
    "        (srce_row_idx, col_idxs['arc_chord_angle'][wrpd_idx[srce_not_0]])\n",
    "        )\n",
    "\n",
    "    tension_trgt_block = (\n",
    "        -cos_bpa.loc[trgt_not_0],\n",
    "        (trgt_row_idx, col_idxs['tension'][trgt_not_0])\n",
    "        )\n",
    "    \n",
    "    orient_trgt_block = (\n",
    "        sin_bpa.loc[trgt_not_0],\n",
    "        (trgt_row_idx, col_idxs['chord_orient'][wrpd_idx[trgt_not_0]])\n",
    "        )\n",
    "    \n",
    "    angle_trgt_block = (\n",
    "        sin_bpa.loc[trgt_not_0],\n",
    "        (trgt_row_idx, col_idxs['arc_chord_angle'][wrpd_idx[trgt_not_0]])\n",
    "        )\n",
    "\n",
    "    return (tension_srce_block, orient_srce_block, angle_srce_block,\n",
    "            tension_trgt_block, orient_trgt_block, angle_trgt_block,)\n",
    "\n",
    "def plateau_y_eq(sheet, row_idxs, col_idxs):\n",
    "    \n",
    "    wrpd_idx = sheet.wrpd_edges\n",
    "    edge_df = sheet.edge_df\n",
    "\n",
    "    srce_not_0 = edge_df[edge_df['srce'] != 0].index\n",
    "    trgt_not_0 = edge_df[edge_df['trgt'] != 0].index\n",
    "\n",
    "    \n",
    "    srces = edge_df.loc[srce_not_0, 'srce'].astype(np.int)\n",
    "    trgts = edge_df.loc[trgt_not_0, 'trgt'].astype(np.int)\n",
    "    srce_row_idx = row_idxs['plateau_y'][srces - 1]\n",
    "    trgt_row_idx = row_idxs['plateau_y'][trgts - 1]\n",
    " \n",
    "    # all the expression bellow are anti-symmetric\n",
    "    # must be taken into account for wrapped indexed vars\n",
    "    bma = edge_df.eval('chord_orient - arc_chord_angle')\n",
    "    cos_bma = np.cos(bma) * edge_df['tension'] * sheet.anti_sym\n",
    "    sin_bma = np.sin(bma) # only for tension, no need of anti_sym\n",
    "\n",
    "    bpa = sheet.edge_df.eval('chord_orient + arc_chord_angle')\n",
    "    cos_bpa = np.cos(bpa) * edge_df['tension'] * sheet.anti_sym\n",
    "    sin_bpa = np.sin(bpa)\n",
    "    \n",
    "    tension_srce_block = (\n",
    "        sin_bma.loc[srce_not_0],\n",
    "        (srce_row_idx, col_idxs['tension'][srce_not_0])\n",
    "        )\n",
    "    \n",
    "    orient_srce_block = (\n",
    "        cos_bma.loc[srce_not_0],\n",
    "        (srce_row_idx, col_idxs['chord_orient'][wrpd_idx[srce_not_0]])\n",
    "        )\n",
    "    \n",
    "    angle_srce_block = (\n",
    "        -cos_bma.loc[srce_not_0],\n",
    "        (srce_row_idx, col_idxs['arc_chord_angle'][wrpd_idx[srce_not_0]])\n",
    "        )\n",
    "\n",
    "    tension_trgt_block = (\n",
    "        -sin_bpa.loc[trgt_not_0],\n",
    "        (trgt_row_idx, col_idxs['tension'][trgt_not_0])\n",
    "        )\n",
    "\n",
    "    orient_trgt_block = (\n",
    "        -cos_bpa.loc[trgt_not_0],\n",
    "        (trgt_row_idx,\n",
    "         col_idxs['chord_orient'][wrpd_idx[trgt_not_0]])\n",
    "        )\n",
    "    \n",
    "    angle_trgt_block = (\n",
    "        -cos_bpa.loc[trgt_not_0],\n",
    "        (trgt_row_idx,\n",
    "         col_idxs['arc_chord_angle'][wrpd_idx[trgt_not_0]])\n",
    "        )\n",
    "\n",
    "    return (tension_srce_block, orient_srce_block, angle_srce_block,\n",
    "            tension_trgt_block, orient_trgt_block, angle_trgt_block,)\n",
    "\n",
    "\n",
    "def arc_length_eq(sheet, row_idxs, col_idxs):\n",
    "\n",
    "    edge_df = sheet.edge_df.loc[sheet.sgle_edges]\n",
    "\n",
    "    arc_length_block = (\n",
    "        np.sinc(edge_df['arc_chord_angle'] / np.pi),\n",
    "        (row_idxs['arc_length'], col_idxs['arc_length'])\n",
    "        )\n",
    "    \n",
    "    angle_block = (\n",
    "        edge_df['arc_length'] *\n",
    "        dot_sinc(edge_df['arc_chord_angle']),\n",
    "        (row_idxs['arc_length'],\n",
    "         col_idxs['arc_chord_angle'])\n",
    "        )\n",
    "    \n",
    "    return arc_length_block, angle_block\n",
    "    \n",
    "def rheology_eq(sheet, row_idxs, col_idxs):\n",
    "    \n",
    "    edge_df = sheet.edge_df.loc[sheet.sgle_edges]\n",
    "    \n",
    "    wrpd_idx = sheet.wrpd_edges\n",
    "    arc_length_block = (\n",
    "        np.ones(sheet.Ni + sheet.No),\n",
    "        (row_idxs['rheology'], col_idxs['arc_length'])\n",
    "        )\n",
    "\n",
    "    tension_block = (\n",
    "        edge_df.eval('- arc_length / modulus'),\n",
    "        (row_idxs['rheology'],\n",
    "         col_idxs['tension'][sheet.sgle_edges])\n",
    "        )\n",
    "    \n",
    "    return arc_length_block, tension_block\n",
    "\n",
    "def strainrate_eq(sheet, row_idxs, col_idxs):\n",
    "    \n",
    "    east_edge_df = sheet.edge_df.loc[sheet.east_edges]\n",
    "    west_edge_df = sheet.edge_df.loc[sheet.west_edges]\n",
    "    \n",
    "    east_block = (\n",
    "        1 / east_edge_df['modulus'],\n",
    "        (row_idxs['strainrate'],\n",
    "         col_idxs['tension'][sheet.east_edges])\n",
    "        )\n",
    "    west_block = (\n",
    "        -1 / west_edge_df['modulus'],\n",
    "        (row_idxs['strainrate'],\n",
    "         col_idxs['tension'][sheet.west_edges])\n",
    "        )\n",
    "    return east_block, west_block\n",
    "\n",
    "\n",
    "def right_hand_term(sheet, row_idxs, col_idxs,\n",
    "                    cortex_velocity=None):\n",
    "    \n",
    "    rht = np.zeros(row_idxs['strainrate'][-1]+1)\n",
    "    \n",
    "    # Volume\n",
    "    rht[row_idxs['volume']] = sheet.face_df['dot_area'].values\n",
    "   \n",
    "    # Rheology\n",
    "    rheology_term = sheet.edge_df.loc[sheet.sgle_edges].eval(\n",
    "        'arc_length * (tension / viscosity - motor)')\n",
    "    if cortex_velocity is not None:\n",
    "        rheology_term += cortex_velocity\n",
    "    rht[row_idxs['rheology']] = rheology_term.values\n",
    "\n",
    "    # Strain rate\n",
    "    strainrate_term = sheet.edge_df.eval('motor - tension/viscosity')\n",
    "    rht[row_idxs['strainrate']] = (strainrate_term[sheet.east_edges].values\n",
    "                                   - strainrate_term[sheet.west_edges].values)\n",
    "    \n",
    "    return rht\n",
    "    \n",
    "def get_equations():\n",
    "    return OrderedDict([\n",
    "    ('laplace', laplace_eq),\n",
    "    ('curvature', curvature_eq),\n",
    "    ('center', center_eq),\n",
    "    ('orientation', orientation_eq),\n",
    "    ('chord_x', chord_x_eq),\n",
    "    ('chord_y', chord_y_eq),\n",
    "    ('volume', volume_eq),\n",
    "    ('plateau_x',plateau_x_eq),\n",
    "    ('plateau_y', plateau_y_eq),\n",
    "    ('arc_length', arc_length_eq),\n",
    "    ('rheology', rheology_eq),\n",
    "    ('strainrate', strainrate_eq)\n",
    "    ])\n",
    "\n",
    "def concatenate_blocks(blocks):\n",
    "    \n",
    "    data = np.empty(0)\n",
    "    i, j = np.empty(0), np.empty(0)\n",
    "    for block in blocks:\n",
    "        data_, (i_, j_) = block\n",
    "        data = np.concatenate([data, data_])\n",
    "        i = np.concatenate([i, i_])\n",
    "        j = np.concatenate([j, j_])\n",
    "    return data, (i, j)\n",
    "\n",
    "def diff_equation(sheet, model):\n",
    "    \n",
    "    equations = get_equations()\n",
    "    blocks = sum((eq(sheet, model.row_idxs, model.col_idxs) \n",
    "                  for eq in equations.values()), ())\n",
    "\n",
    "    \n",
    "    mat = sparse.coo_matrix(concatenate_blocks(blocks))\n",
    "\n",
    "    rht = right_hand_term(sheet, row_idxs, col_idxs,\n",
    "                          cortex_velocity=None)\n",
    "    \n",
    "    return mat, rht\n",
    "    "
   ]
  },
  {
   "cell_type": "markdown",
   "metadata": {},
   "source": [
    "###  Check the individual equations\n",
    "\n",
    "We check for the shape of the outputs of every equations, and test wether all the\n",
    "elements are finite.\n",
    "\n",
    "#### Note:\n",
    "\n",
    "An individual block can be scrutinized with `RheologyModel.get_dense_block`"
   ]
  },
  {
   "cell_type": "code",
   "execution_count": 40,
   "metadata": {
    "collapsed": false
   },
   "outputs": [
    {
     "name": "stdout",
     "output_type": "stream",
     "text": [
      "laplace has duplicate entries\n",
      "volume has duplicate entries\n",
      "plateau_x has duplicate entries\n",
      "plateau_y has duplicate entries\n"
     ]
    }
   ],
   "source": [
    "for key, eq in get_equations().items():\n",
    "    data, (ii, jj) = concatenate_blocks(eq(sheet, row_idxs, col_idxs))\n",
    "    if not np.all(np.isfinite(data)):\n",
    "        raise ValueError('%s has non finite values' % key)\n",
    "\n",
    "    try:\n",
    "        sparse.coo_matrix((data, (ii, jj)))\n",
    "    except ValueError:\n",
    "        print(key+' failed:')\n",
    "        print(data.shape, ii.shape, jj.shape)\n",
    "        continue\n",
    "        \n",
    "    idxs = set([(i, j) for (i, j) in np.vstack([ii, jj]).T])\n",
    "    if len(idxs) != len(ii):\n",
    "        print(key+' has duplicate entries')\n",
    "    "
   ]
  },
  {
   "cell_type": "markdown",
   "metadata": {},
   "source": [
    "### Get the system of equations"
   ]
  },
  {
   "cell_type": "code",
   "execution_count": 41,
   "metadata": {
    "collapsed": false
   },
   "outputs": [
    {
     "name": "stdout",
     "output_type": "stream",
     "text": [
      "(50, 50)\n"
     ]
    }
   ],
   "source": [
    "mat, rht = diff_equation(sheet, model)\n",
    "print(mat.shape)"
   ]
  },
  {
   "cell_type": "markdown",
   "metadata": {
    "collapsed": false
   },
   "source": [
    "### Checking our blocks structure is the expected one"
   ]
  },
  {
   "cell_type": "code",
   "execution_count": 42,
   "metadata": {
    "collapsed": false
   },
   "outputs": [
    {
     "data": {
      "image/png": "[encoded data removed]",
      "text/plain": [
       "<matplotlib.figure.Figure at 0x7fe077088550>"
      ]
     },
     "metadata": {},
     "output_type": "display_data"
    }
   ],
   "source": [
    "blocks = {'laplace' : ['pressure', 'curvature', 'tension'],\n",
    "          'curvature': ['curvature', 'arc_chord_angle', 'arc_length'],\n",
    "          'center': ['x', 'y'],\n",
    "          'orientation': ['chord_orient'],\n",
    "          'chord_x': ['x', 'chord_orient', 'length'],\n",
    "          'chord_y': ['y', 'chord_orient', 'length'],\n",
    "          'volume': ['x', 'y', 'length', 'arc_chord_angle'],\n",
    "          'plateau_x': ['chord_orient', 'arc_chord_angle', 'tension'],\n",
    "          'plateau_y': ['chord_orient', 'arc_chord_angle', 'tension'],\n",
    "          'arc_length': ['arc_chord_angle', 'arc_length'],\n",
    "          'rheology': ['arc_length', 'tension'],\n",
    "          'strainrate': ['tension']}\n",
    "\n",
    "block_shapes = [(row_idxs[eq].size, col_idxs[var].size)\n",
    "                for eq, variables in blocks.items()\n",
    "                for var in variables]\n",
    "block_recs = [((col_idxs[var][0]-0.5, row_idxs[eq][0]-0.5),\n",
    "              col_idxs[var].size, row_idxs[eq].size)\n",
    "              for eq, variables in blocks.items()\n",
    "              for var in variables]\n",
    "\n",
    "\n",
    "from matplotlib.patches import Rectangle\n",
    "fig, ax = plt.subplots()\n",
    "ax.imshow(np.abs(mat.toarray())>0,\n",
    "          cmap='Greys',\n",
    "          interpolation='nearest')\n",
    "for rec in block_recs:\n",
    "    ax.add_patch(Rectangle(*rec, edgecolor='k',\n",
    "                           facecolor='grey', alpha=0.5))\n",
    "fig.set_size_inches((10, 10))"
   ]
  },
  {
   "cell_type": "markdown",
   "metadata": {},
   "source": [
    "### Solving"
   ]
  },
  {
   "cell_type": "code",
   "execution_count": 43,
   "metadata": {
    "collapsed": false
   },
   "outputs": [],
   "source": [
    "from scipy.sparse.linalg import spsolve\n",
    "mat = mat.tocsr()\n",
    "speeds = spsolve(mat, rht)\n",
    "\n",
    "\n",
    "speeds = pd.Series(speeds, index=model.speed_idx)"
   ]
  },
  {
   "cell_type": "code",
   "execution_count": 44,
   "metadata": {
    "collapsed": false
   },
   "outputs": [
    {
     "data": {
      "text/plain": [
       "pressure         0    0.0\n",
       "                 1   -0.0\n",
       "                 2   -0.0\n",
       "curvature        0    0.0\n",
       "                 1    0.0\n",
       "                 2    0.0\n",
       "                 3    0.0\n",
       "                 4    0.0\n",
       "                 5    0.0\n",
       "x                0    0.0\n",
       "                 1    0.0\n",
       "                 2    0.0\n",
       "                 3    0.0\n",
       "y                0    0.0\n",
       "                 1    0.0\n",
       "                 2    0.0\n",
       "                 3    0.0\n",
       "chord_orient     0    0.0\n",
       "                 1    0.0\n",
       "                 2    0.0\n",
       "                 3    0.0\n",
       "                 4    0.0\n",
       "                 5    0.0\n",
       "arc_chord_angle  0    0.0\n",
       "                 1    0.0\n",
       "                 2    0.0\n",
       "                 3    0.0\n",
       "                 4    0.0\n",
       "                 5    0.0\n",
       "length           0    0.0\n",
       "                 1    0.0\n",
       "                 2    0.0\n",
       "                 3    0.0\n",
       "                 4    0.0\n",
       "                 5    0.0\n",
       "arc_length       0    0.0\n",
       "                 1    0.0\n",
       "                 2    0.0\n",
       "                 3    0.0\n",
       "                 4    0.0\n",
       "                 5    0.0\n",
       "tension          0    0.0\n",
       "                 1    0.0\n",
       "                 2    0.0\n",
       "                 3    0.0\n",
       "                 4    0.0\n",
       "                 5    0.0\n",
       "                 6    0.0\n",
       "                 7    0.0\n",
       "                 8    0.0\n",
       "dtype: float64"
      ]
     },
     "execution_count": 44,
     "metadata": {},
     "output_type": "execute_result"
    }
   ],
   "source": [
    "speeds"
   ]
  },
  {
   "cell_type": "markdown",
   "metadata": {
    "collapsed": false
   },
   "source": [
    "### All the speeds should be zero\n"
   ]
  },
  {
   "cell_type": "code",
   "execution_count": 45,
   "metadata": {
    "collapsed": false
   },
   "outputs": [
    {
     "name": "stdout",
     "output_type": "stream",
     "text": [
      "Yeah!\n"
     ]
    }
   ],
   "source": [
    "if np.all(np.isfinite(speeds)) and (speeds**2).sum() < 1e-15:\n",
    "    print('Yeah!')\n",
    "else:\n",
    "    print('Booh!')"
   ]
  },
  {
   "cell_type": "code",
   "execution_count": 46,
   "metadata": {
    "collapsed": true
   },
   "outputs": [],
   "source": [
    "def solve(sheet, dt, model, geom):\n",
    "    \n",
    "    mat, rht = diff_equation(sheet, model)\n",
    "    mat = mat.tocsr()\n",
    "    speeds = spsolve(mat, rht)\n",
    "    if not np.all(np.isfinite(speeds)):\n",
    "        raise ValueError('Non finite values in the solution!')\n",
    "\n",
    "    if speeds.max() > 1e6:\n",
    "        raise ValueError('Diverging values in the solution!')\n",
    "\n",
    "        \n",
    "    speeds = pd.Series(speeds, index=model.speed_idx)\n",
    "    for var, df in model.variables.items():\n",
    "        var_speed = speeds[var]\n",
    "        df = sheet.datasets[df]\n",
    "        df.loc[var_speed.index, var] += var_speed.values * dt\n",
    "        \n",
    "    geom.update_all(sheet)"
   ]
  },
  {
   "cell_type": "code",
   "execution_count": 47,
   "metadata": {
    "collapsed": false
   },
   "outputs": [],
   "source": [
    "solve(sheet, 1, model, geom)"
   ]
  },
  {
   "cell_type": "markdown",
   "metadata": {},
   "source": [
    "### Simple growth"
   ]
  },
  {
   "cell_type": "code",
   "execution_count": 48,
   "metadata": {
    "collapsed": false
   },
   "outputs": [
    {
     "data": {
      "image/png": "[encoded data removed]",
      "text/plain": [
       "<matplotlib.figure.Figure at 0x7fe077048f98>"
      ]
     },
     "metadata": {},
     "output_type": "display_data"
    }
   ],
   "source": [
    "fig, ax = curved_view(sheet)\n"
   ]
  },
  {
   "cell_type": "code",
   "execution_count": 50,
   "metadata": {
    "collapsed": true
   },
   "outputs": [],
   "source": [
    "from tyssue.draw.plt_draw import quick_edge_draw"
   ]
  },
  {
   "cell_type": "code",
   "execution_count": 60,
   "metadata": {
    "collapsed": false
   },
   "outputs": [
    {
     "data": {
      "image/png": "[encoded data removed]",
      "text/plain": [
       "<matplotlib.figure.Figure at 0x7fe076996e80>"
      ]
     },
     "metadata": {},
     "output_type": "display_data"
    }
   ],
   "source": [
    "\n",
    "datasets = {}\n",
    "\n",
    "tri_verts = [[0, 0],\n",
    "             [1, 0],\n",
    "             [-0.5, 3**0.5/2],\n",
    "             [-0.5, -3**0.5/2]]\n",
    "\n",
    "tri_edges = [[0, 1, 0],\n",
    "             [1, 2, 0],\n",
    "             [2, 0, 0],\n",
    "             [0, 3, 1],\n",
    "             [3, 1, 1],\n",
    "             [1, 0, 1],\n",
    "             [0, 2, 2],\n",
    "             [2, 3, 2],\n",
    "             [3, 0, 2]]\n",
    "\n",
    "datasets['edge'] = pd.DataFrame(data=np.array(tri_edges),\n",
    "                                columns=['srce', 'trgt', 'face'])\n",
    "datasets['edge'].index.name = 'edge'\n",
    "\n",
    "datasets['face'] = pd.DataFrame(data=np.zeros((3, 2)), columns=['x', 'y'])\n",
    "datasets['face'].index.name = 'face'\n",
    "\n",
    "datasets['vert'] = pd.DataFrame(data=np.array(tri_verts),\n",
    "                                columns=['x', 'y'])\n",
    "datasets['vert'].index.name = 'vert'\n",
    "\n",
    "\n",
    "sheet = Sheet('tri_junction', datasets,\n",
    "              reo_specs, coords=['x', 'y'])\n",
    "\n",
    "geom.update_all(sheet)\n",
    "# Reorder edges (see explanations bellow)\n",
    "sheet.sort_edges_eastwest()\n",
    "\n",
    "\n",
    "\n",
    "# verify Plateau\n",
    "sheet.edge_df.loc[sheet.free_edges, 'arc_chord_angle'] = np.ones(3) * np.pi / 2\n",
    "sheet.edge_df.loc[sheet.east_edges, 'arc_chord_angle'] = np.zeros(3)#np.array([0.2, 0.3, 0.1]) * np.pi / 2\n",
    "sheet.edge_df.loc[sheet.west_edges, 'arc_chord_angle'] = np.zeros(3)#-np.array([0.2, 0.3, 0.1]) * np.pi / 2\n",
    "\n",
    "# Initial beta, alpha and C from the arc-chord orientation\n",
    "geom.update_chord_orient(sheet)\n",
    "geom.update_arc_length(sheet)\n",
    "geom.update_curvature(sheet)\n",
    "\n",
    "sheet.edge_df['tension'] = 1.0\n",
    "sheet.edge_df['viscosity'] = 1.0\n",
    "sheet.edge_df['modulus'] = 1.0\n",
    "\n",
    "# Deduce pressures from Laplace\n",
    "faces = sheet.edge_df.loc[sheet.free_edges, 'face'].astype(np.int)\n",
    "sheet.face_df.loc[faces, 'pressure'] = sheet.edge_df.loc[sheet.free_edges,\n",
    "                                                        'curvature'].values\n",
    "# Deduce motors from rheology\n",
    "sheet.edge_df['motor'] = sheet.edge_df.eval('tension / viscosity')\n",
    "\n",
    "# update the geometry again\n",
    "geom.update_all(sheet)\n",
    "\n",
    "\n",
    "fig, ax = curved_view(sheet)"
   ]
  },
  {
   "cell_type": "code",
   "execution_count": 61,
   "metadata": {
    "collapsed": false
   },
   "outputs": [
    {
     "data": {
      "image/png": "[encoded data removed]",
      "text/plain": [
       "<matplotlib.figure.Figure at 0x7fe076a1e320>"
      ]
     },
     "metadata": {},
     "output_type": "display_data"
    },
    {
     "data": {
      "image/png": "[encoded data removed]",
      "text/plain": [
       "<matplotlib.figure.Figure at 0x7fe076a42240>"
      ]
     },
     "metadata": {},
     "output_type": "display_data"
    }
   ],
   "source": [
    "times = np.arange(30)\n",
    "sheet.face_df['dot_area'] = np.array([-1, 0, 1]) * 0.01\n",
    "dt = 1.\n",
    "fig, ax = quick_edge_draw(sheet)\n",
    "for t in times:\n",
    "    solve(sheet, dt, model, geom)\n",
    "    fig, ax = quick_edge_draw(sheet)\n",
    "    ax.set_xlim(-2, 2)\n",
    "    ax.set_ylim(-2, 2)\n",
    "\n",
    "    plt.savefig('grow_{:03d}'.format(t))\n",
    "    plt.close()\n",
    "\n",
    "fig, ax = quick_edge_draw(sheet)"
   ]
  },
  {
   "cell_type": "code",
   "execution_count": 62,
   "metadata": {
    "collapsed": true
   },
   "outputs": [],
   "source": [
    "%%bash\n",
    "convert grow_*.png grow.gif"
   ]
  },
  {
   "cell_type": "markdown",
   "metadata": {},
   "source": [
    "![Grow](grow.gif)"
   ]
  },
  {
   "cell_type": "code",
   "execution_count": null,
   "metadata": {
    "collapsed": true
   },
   "outputs": [],
   "source": []
  }
 ],
 "metadata": {
  "kernelspec": {
   "display_name": "Python 3",
   "language": "python",
   "name": "python3"
  },
  "language_info": {
   "codemirror_mode": {
    "name": "ipython",
    "version": 3
   },
   "file_extension": ".py",
   "mimetype": "text/x-python",
   "name": "python",
   "nbconvert_exporter": "python",
   "pygments_lexer": "ipython3",
   "version": "3.5.1"
  }
 },
 "nbformat": 4,
 "nbformat_minor": 0
}
