{
 "cells": [
  {
   "cell_type": "markdown",
   "metadata": {},
   "source": [
    "# A collection of notebooks using tyssue\n",
    "\n",
    "> _Caveat_ Live developement is happening in these notebooks, lots of which\n",
    "> might be a bit rough around the edge.\n",
    "> For now, they only have a chance to work on the latest master branch from github\n",
    "\n",
    "\n",
    "### Installing tyssue:\n",
    "\n",
    "- Install miniconda from continuum analytics\n",
    "\n",
    "- clone tyssue\n",
    "```bash\n",
    "git clone git@github.com/DamCB/tyssue.git\n",
    "cd tyssue\n",
    "```\n",
    "- create the correct environment\n",
    "```bash\n",
    "conda env create -f environment.yaml\n",
    "```\n",
    "- activate the environment and install tyssue\n",
    "```bash\n",
    "source activate tyssue ## Mac OS / windows\n",
    "# activate tyssue ## Win\n",
    "python setup.py install\n",
    "```\n",
    "\n",
    "\n",
    "## visualisation:\n",
    "\n",
    "- [Using Vispy](visualisation/Using Vispy.ipynb)  &#10004;\n",
    "- [Using ThreeJS](visualisation/Using ThreeJS.ipynb)  &#10004;\n",
    "- [Using Matplotlib](visualisation/Using Matplotlib.ipynb)  &#10004;\n",
    "- [Particles systems](visualisation/Particles export.ipynb) *[needs work for 3D points]*\n",
    "<hr/>\n",
    "\n",
    "## dynamics:\n",
    "\n",
    "- [Energy minimization](dyanmics/Energy minimization.ipynb)\n",
    "- [Type 1 transition](dyanmics/Type 1 transition.ipynb)\n",
    "- [Boundary conditions](dyanmics/Boundary conditions.ipynb)\n",
    "- [Cell Division](dyanmics/Cell Division.ipynb)\n",
    "- [Apoptosis](dyanmics/Apoptosis.ipynb)\n",
    "<hr/>\n",
    "\n",
    "## Different geometries:\n",
    "\n",
    "- [Ellipsoid](core/Ellipsoid.ipynb) **[Needs fix for subsequent divisions - pbs. with energy min.]**\n",
    "- [Generation from regular polyhedra](core/Generation from regular polyhedra.ipynb)  &#10004;\n",
    "- [MultiSheet epithelium](core/MultiSheet epithelium.ipynb) **[Needs Fixing]** \n",
    "\n",
    "## Drosophila leg joint morphogenesis\n",
    "\n",
    "- [Fold formation in a Sheet](core/Fold formation - Sheet.ipynb)\n",
    "- [Parameter exploration](core/Parameter exploration.ipynb)\n",
    "- [Import data from leg-joint](core/Import data from leg-joint.ipynb)\n",
    "<hr/>\n",
    "\n",
    "\n",
    "\n",
    "## Rheology\n",
    "- [Rheology equations](Rheology/Equations.ipynb)\n",
    "- [2D_cell_chain](sympy/2D_cell_chain.ipynb)\n",
    "- [Modele CellChain](sympy/Modele_Maxime_CellChain.ipynb)\n",
    "- [TGG_MMS](sympy/TGG_MMS.ipynb)\n",
    "<hr/>\n",
    "\n"
   ]
  },
  {
   "cell_type": "code",
   "execution_count": null,
   "metadata": {
    "collapsed": true
   },
   "outputs": [],
   "source": []
  }
 ],
 "metadata": {
  "kernelspec": {
   "display_name": "Python 3",
   "language": "python",
   "name": "python3"
  },
  "language_info": {
   "codemirror_mode": {
    "name": "ipython",
    "version": 3
   },
   "file_extension": ".py",
   "mimetype": "text/x-python",
   "name": "python",
   "nbconvert_exporter": "python",
   "pygments_lexer": "ipython3",
   "version": "3.5.1"
  }
 },
 "nbformat": 4,
 "nbformat_minor": 0
}
