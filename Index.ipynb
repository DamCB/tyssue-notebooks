{
 "cells": [
  {
   "cell_type": "markdown",
   "metadata": {},
   "source": [
    "# A collection of notebooks using tyssue\n",
    "\n",
    "> _Caveat_ Live developement is happening in these notebooks, lots of which\n",
    "> might be a bit rough around the edges.\n",
    "\n",
    "> For now, they only have a chance to work on the latest master branch from github\n",
    "\n",
    "\n",
    "### Installing tyssue:\n",
    "\n",
    "Install Anaconda or miniconda from [continuum.io](https://conda.io/miniconda.html)\n",
    "for your operating system. Make sure to choose the **python 3.6** version.\n",
    "\n",
    "Tyssue is available from the `conda-forge` channel:\n",
    "\n",
    "```bash\n",
    "conda install -c conda-forge tyssue\n",
    "```\n",
    "\n",
    "\n",
    "## Visualisation:\n",
    "\n",
    "- [Using IPyvolume](visualisation/Using Ipyvolume.ipynb)  &#10004;\n",
    "- [Using Matplotlib](visualisation/Using Matplotlib.ipynb)  &#10004;\n",
    "- [Particles systems](visualisation/Particles export.ipynb) *[needs work for 3D points]*\n",
    "<hr/>\n",
    "\n",
    "## Dynamics:\n",
    "\n",
    "- [Energy minimization](dynamics/Energy minimization.ipynb)  &#10004;\n",
    "- [Type 1 transition](dynamics/Type 1 transition.ipynb)  &#10004;\n",
    "- [Cell Division](dynamics/Cell Division.ipynb) *[Needs checking strange behavior of division]*\n",
    "- [Apoptosis](dynamics/Apoptosis.ipynb)  &#10004;\n",
    "<hr/>\n",
    "\n",
    "## Different geometries:\n",
    "\n",
    "- [Ellipsoid](geometries/Ellipsoid.ipynb) **[Needs fix for subsequent divisions - pbs. with energy min.]**\n",
    "- [Generation from regular polyhedra](geometries/Generation from regular polyhedra.ipynb)  &#10004;\n",
    "- [MultiSheet epithelium](geometries/MultiSheet epithelium.ipynb) *[Needs work with parameter space]*\n",
    "<hr/>\n",
    "\n",
    "\n",
    "## Drosophila leg joint morphogenesis\n",
    "Reproduction of the results from [Monier et al. 2015](https://www.nature.com/articles/nature14152)\n",
    "- [Fold formation in a Sheet](leg_joint/Fold formation - Sheet.ipynb)  &#10004;\n",
    "<hr/>\n",
    "\n",
    "\n",
    "## Rheology\n",
    "- [Rheology equations](Rheology/Three 2D cells rheology equations.ipynb) *[Singular martix]*\n",
    "<hr/>\n",
    "\n",
    "\n",
    "**Happy hacking !**"
   ]
  },
  {
   "cell_type": "code",
   "execution_count": null,
   "metadata": {},
   "outputs": [],
   "source": []
  }
 ],
 "metadata": {
  "kernelspec": {
   "display_name": "Python 3",
   "language": "python",
   "name": "python3"
  },
  "language_info": {
   "codemirror_mode": {
    "name": "ipython",
    "version": 3
   },
   "file_extension": ".py",
   "mimetype": "text/x-python",
   "name": "python",
   "nbconvert_exporter": "python",
   "pygments_lexer": "ipython3",
   "version": "3.6.4"
  }
 },
 "nbformat": 4,
 "nbformat_minor": 1
}
