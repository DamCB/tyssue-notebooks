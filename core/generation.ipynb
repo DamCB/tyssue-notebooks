{
 "cells": [
  {
   "cell_type": "code",
   "execution_count": 4,
   "metadata": {
    "collapsed": false
   },
   "outputs": [],
   "source": [
    "import pandas as pd\n",
    "import numpy as np\n",
    "import json\n",
    "import matplotlib.pylab as plt\n",
    "%matplotlib inline\n",
    "from scipy import optimize\n",
    "\n",
    "from tyssue.core.generation import extrude\n",
    "from tyssue import config\n",
    "from tyssue.core.objects import get_opposite\n",
    "from tyssue.core.objects import Epithelium\n",
    "\n",
    "from tyssue.core.sheet import Sheet\n",
    "\n",
    "from tyssue.geometry.bulk_geometry import BulkGeometry as geom\n",
    "from tyssue.dynamics.sheet_vertex_model import SheetModel as model\n",
    "from tyssue.solvers.sheet_vertex_solver import Solver as solver\n",
    "from tyssue.geometry.sheet_geometry import SheetGeometry as sgeom\n",
    "\n",
    "from tyssue.draw.vispy_draw import vp_view\n",
    "from tyssue.topology.sheet_topology import type1_transition, remove_face\n",
    "\n",
    "from tyssue.draw.plt_draw import sheet_view\n",
    "import tyssue.draw.plt_draw as draw\n",
    "from tyssue.stores import load_datasets"
   ]
  },
  {
   "cell_type": "code",
   "execution_count": 5,
   "metadata": {
    "collapsed": true
   },
   "outputs": [],
   "source": [
    "def parse_polyhedron(fname):\n",
    "    '''\n",
    "    Parses a polynome description provided by Simon Tatham, retrieved frm\n",
    "    http://www.chiark.greenend.org.uk/~sgtatham/polyhedra/\n",
    "    \n",
    "    The software in this archive is copyright 2003,2004 Simon Tatham.\n",
    "\n",
    "    Permission is hereby granted, free of charge, to any person\n",
    "    obtaining a copy of this software and associated documentation files\n",
    "    (the \"Software\"), to deal in the Software without restriction,\n",
    "    including without limitation the rights to use, copy, modify, merge,\n",
    "    publish, distribute, sublicense, and/or sell copies of the Software,\n",
    "    and to permit persons to whom the Software is furnished to do so,\n",
    "    subject to the following conditions:\n",
    "\n",
    "    The above copyright notice and this permission notice shall be\n",
    "    included in all copies or substantial portions of the Software.\n",
    "\n",
    "    THE SOFTWARE IS PROVIDED \"AS IS\", WITHOUT WARRANTY OF ANY KIND,\n",
    "    EXPRESS OR IMPLIED, INCLUDING BUT NOT LIMITED TO THE WARRANTIES OF\n",
    "    MERCHANTABILITY, FITNESS FOR A PARTICULAR PURPOSE AND\n",
    "    NONINFRINGEMENT.  IN NO EVENT SHALL THE COPYRIGHT HOLDERS BE LIABLE\n",
    "    FOR ANY CLAIM, DAMAGES OR OTHER LIABILITY, WHETHER IN AN ACTION OF\n",
    "    CONTRACT, TORT OR OTHERWISE, ARISING FROM, OUT OF OR IN CONNECTION\n",
    "    WITH THE SOFTWARE OR THE USE OR OTHER DEALINGS IN THE SOFTWARE.\n",
    "    '''\n",
    "    \n",
    "    \n",
    "    with open(fname, 'r+') as th:\n",
    "        lines = th.readlines()\n",
    "\n",
    "    point_lines = [l.split(' ') for l in lines if l.startswith('point')]\n",
    "\n",
    "    points = np.array([[np.float(s) for s in p[-3:]] for p in point_lines])\n",
    "    point_ids = [p[1] for p in point_lines]\n",
    "\n",
    "    vert_df = pd.DataFrame(points, index=pd.Index(point_ids), columns=['x', 'y', 'z'])\n",
    "    vert_df['int_idx'] = np.arange(vert_df.shape[0])\n",
    "\n",
    "    face_lines = [l.split(' ')[1:3] for l in lines if l.startswith('face')]\n",
    "    prev = face_lines[0][0]\n",
    "    faces = []\n",
    "    cur = []\n",
    "    for ff, l in face_lines:\n",
    "        if ff != prev:\n",
    "            faces.append(cur)\n",
    "            cur = [l[:-1]]\n",
    "            prev = ff\n",
    "        else:\n",
    "            cur.append(l[:-1])\n",
    "\n",
    "    srces = []\n",
    "    trgts = []\n",
    "    face_idxs = []\n",
    "    for i, ff in enumerate(faces):\n",
    "        srces.extend(vert_df.loc[ff, 'int_idx'])\n",
    "        trgts.extend(vert_df.loc[np.roll(ff, 1), 'int_idx'])\n",
    "        face_idxs.extend(np.ones(len(ff))*i)\n",
    "\n",
    "    edge_df = pd.DataFrame(np.vstack([srces, trgts, face_idxs]).T.astype(np.int),\n",
    "                           columns=['srce', 'trgt', 'face'])\n",
    "    edge_df.index.name = 'edge'\n",
    "    vert_df.set_index('int_idx', drop=True, inplace=True)\n",
    "    vert_df.index.name = 'vert'\n",
    "    face_df = pd.DataFrame(index=pd.Index(range(len(faces)), name='face'),\n",
    "                           columns=['x', 'y', 'z'])\n",
    "\n",
    "    datasets = {'vert': vert_df,\n",
    "                'edge': edge_df,\n",
    "                'face': face_df}\n",
    "\n",
    "    # specs = load_default('geometry', 'sheet')\n",
    "    # sheet = Sheet('ti', datasets, specs)\n",
    "    # geom.update_all(sheet)\n",
    "    return datasets\n"
   ]
  },
  {
   "cell_type": "code",
   "execution_count": 37,
   "metadata": {
    "collapsed": false
   },
   "outputs": [
    {
     "name": "stdout",
     "output_type": "stream",
     "text": [
      "True\n"
     ]
    }
   ],
   "source": [
    "apical_datasets = parse_polyhedron('truncatedicosahedron')\n",
    "specs = config.geometry.sheet_spec()\n",
    "specs['settings']['geometry'] = 'spherical'\n",
    "\n",
    "sheet = Sheet('sphere', apical_datasets, specs)\n",
    "\n",
    "mod_specs = config.dynamics.quasistatic_sheet_spec()\n",
    "dim_specs = model.dimentionalize(mod_specs)\n",
    "\n",
    "sheet.update_specs(dim_specs)\n",
    "pref_area = dim_specs['face']['prefered_area']\n",
    "sgeom.scale(sheet, np.sqrt(pref_area), sheet.coords)\n",
    "sgeom.update_all(sheet)\n",
    "res = solver.find_energy_min(sheet, sgeom, model)\n",
    "print(res['success'])"
   ]
  },
  {
   "cell_type": "code",
   "execution_count": 7,
   "metadata": {
    "collapsed": false
   },
   "outputs": [],
   "source": [
    "apical_datasets = parse_polyhedron('truncatedicosahedron')\n",
    "datasets = extrude(apical_datasets)\n",
    "specs = config.geometry.sheet_spec()\n",
    "\n",
    "eptm = Epithelium('truncatedicosahedron', datasets, specs)\n",
    "geom.update_all(eptm)"
   ]
  },
  {
   "cell_type": "code",
   "execution_count": 8,
   "metadata": {
    "collapsed": false
   },
   "outputs": [
    {
     "data": {
      "text/plain": [
       "(<matplotlib.figure.Figure at 0x7f6442863358>,\n",
       " <matplotlib.axes._subplots.AxesSubplot at 0x7f6442843128>)"
      ]
     },
     "execution_count": 8,
     "metadata": {},
     "output_type": "execute_result"
    }
   ],
   "source": [
    "%matplotlib qt\n",
    "draw_specs = {'edge': {'head_width':0.01}}\n",
    "sheet_view(eptm, **draw_specs)"
   ]
  },
  {
   "cell_type": "code",
   "execution_count": 9,
   "metadata": {
    "collapsed": false
   },
   "outputs": [
    {
     "name": "stderr",
     "output_type": "stream",
     "text": [
      "/home/guillaume/anaconda3/envs/py35/lib/python3.5/site-packages/IPython/config.py:13: ShimWarning: The `IPython.config` package has been deprecated. You should import from traitlets.config instead.\n",
      "  \"You should import from traitlets.config instead.\", ShimWarning)\n"
     ]
    }
   ],
   "source": [
    "vp_view(eptm)"
   ]
  },
  {
   "cell_type": "code",
   "execution_count": 38,
   "metadata": {
    "collapsed": true
   },
   "outputs": [],
   "source": [
    "def division_time_table(sheet, mother,\n",
    "                        events, start_t=0):\n",
    "\n",
    "    n_steps = sheet.settings['growth_steps']\n",
    "    times = range(start_t,\n",
    "                  start_t+n_steps+1)\n",
    "\n",
    "    cell_time_idx = pd.MultiIndex.from_tuples(\n",
    "        [(t, mother) for t in times],\n",
    "        names=['t', 'face'])\n",
    "\n",
    "    time_table = pd.DataFrame(index=cell_time_idx,\n",
    "                              columns=events.keys())\n",
    "    pref_vols = np.linspace(1., 2., n_steps)\n",
    "    time_table.loc[start_t: start_t+n_steps-1, 'grow'] = pref_vols\n",
    "    time_table.loc[start_t+n_steps, 'divide'] = np.random.random() * np.pi\n",
    "    return times, time_table.sort_index()\n"
   ]
  },
  {
   "cell_type": "code",
   "execution_count": 39,
   "metadata": {
    "collapsed": false
   },
   "outputs": [
    {
     "ename": "NameError",
     "evalue": "name 'eptm' is not defined",
     "output_type": "error",
     "traceback": [
      "\u001b[1;31m---------------------------------------------------------------------------\u001b[0m",
      "\u001b[1;31mNameError\u001b[0m                                 Traceback (most recent call last)",
      "\u001b[1;32m<ipython-input-39-2c5dfb07481c>\u001b[0m in \u001b[0;36m<module>\u001b[1;34m()\u001b[0m\n\u001b[0;32m      1\u001b[0m \u001b[1;32mfrom\u001b[0m \u001b[0mtyssue\u001b[0m\u001b[1;33m.\u001b[0m\u001b[0mbehaviors\u001b[0m\u001b[1;33m.\u001b[0m\u001b[0msheet_events\u001b[0m \u001b[1;32mimport\u001b[0m \u001b[0mSheetEvents\u001b[0m\u001b[1;33m\u001b[0m\u001b[0m\n\u001b[0;32m      2\u001b[0m \u001b[1;33m\u001b[0m\u001b[0m\n\u001b[1;32m----> 3\u001b[1;33m \u001b[0mevents\u001b[0m \u001b[1;33m=\u001b[0m \u001b[0mSheetEvents\u001b[0m\u001b[1;33m(\u001b[0m\u001b[0meptm\u001b[0m\u001b[1;33m,\u001b[0m \u001b[0mmodel\u001b[0m\u001b[1;33m,\u001b[0m \u001b[0mgeom\u001b[0m\u001b[1;33m)\u001b[0m\u001b[1;33m.\u001b[0m\u001b[0mevents\u001b[0m\u001b[1;33m\u001b[0m\u001b[0m\n\u001b[0m",
      "\u001b[1;31mNameError\u001b[0m: name 'eptm' is not defined"
     ]
    }
   ],
   "source": [
    "from tyssue.behaviors.sheet_events import SheetEvents\n",
    "\n",
    "events = SheetEvents(eptm, model, geom).events"
   ]
  },
  {
   "cell_type": "code",
   "execution_count": 107,
   "metadata": {
    "collapsed": false
   },
   "outputs": [
    {
     "name": "stdout",
     "output_type": "stream",
     "text": [
      "Automatic pdb calling has been turned ON\n"
     ]
    }
   ],
   "source": [
    "%pdb"
   ]
  },
  {
   "cell_type": "code",
   "execution_count": 13,
   "metadata": {
    "collapsed": false
   },
   "outputs": [
    {
     "ename": "NameError",
     "evalue": "name 'sheet' is not defined",
     "output_type": "error",
     "traceback": [
      "\u001b[1;31m---------------------------------------------------------------------------\u001b[0m",
      "\u001b[1;31mNameError\u001b[0m                                 Traceback (most recent call last)",
      "\u001b[1;32m<ipython-input-13-4ed2af233355>\u001b[0m in \u001b[0;36m<module>\u001b[1;34m()\u001b[0m\n\u001b[0;32m      1\u001b[0m \u001b[0mn_steps\u001b[0m \u001b[1;33m=\u001b[0m \u001b[1;36m20\u001b[0m\u001b[1;33m\u001b[0m\u001b[0m\n\u001b[1;32m----> 2\u001b[1;33m \u001b[0msheet\u001b[0m\u001b[1;33m.\u001b[0m\u001b[0msettings\u001b[0m\u001b[1;33m[\u001b[0m\u001b[1;34m'growth_steps'\u001b[0m\u001b[1;33m]\u001b[0m \u001b[1;33m=\u001b[0m \u001b[0mn_steps\u001b[0m\u001b[1;33m\u001b[0m\u001b[0m\n\u001b[0m\u001b[0;32m      3\u001b[0m division_times = np.random.choice(np.arange(sheet.Nf * n_steps), \n\u001b[0;32m      4\u001b[0m                                   size=sheet.Nf)\n\u001b[0;32m      5\u001b[0m \u001b[1;33m\u001b[0m\u001b[0m\n",
      "\u001b[1;31mNameError\u001b[0m: name 'sheet' is not defined"
     ]
    }
   ],
   "source": [
    "n_steps = 20\n",
    "eptm.settings['growth_steps'] = n_steps\n",
    "division_times = np.random.choice(np.arange(eptm.Nc * n_steps), \n",
    "                                  size=eptm.Nc)\n",
    "\n",
    "time_tables = []\n",
    "for mother, div_time in zip(range(sheet.Nf), division_times):\n",
    "    times, time_table = division_time_table(sheet, mother,\n",
    "                                            events, start_t=0)\n",
    "    time_tables.append(time_table)"
   ]
  },
  {
   "cell_type": "code",
   "execution_count": 8,
   "metadata": {
    "collapsed": false
   },
   "outputs": [],
   "source": [
    "time_tables = pd.concat(time_tables)"
   ]
  },
  {
   "cell_type": "code",
   "execution_count": 10,
   "metadata": {
    "collapsed": false
   },
   "outputs": [],
   "source": [
    "min_settings = {\n",
    "    'minimize': {\n",
    "        'options': {\n",
    "            'disp': False,\n",
    "            'ftol': 1e-6,    \n",
    "            'gtol': 1e-6},\n",
    "        }\n",
    "    }\n",
    "\n",
    "nondim_specs = load_default('dynamics', 'sheet')\n",
    "dim_model_specs = model.dimentionalize(nondim_specs)\n",
    "\n",
    "sheet.set_model('sheet', dim_model_specs)\n",
    "\n",
    "res = solver.find_energy_min(sheet, geom, model, **min_settings)"
   ]
  },
  {
   "cell_type": "code",
   "execution_count": 14,
   "metadata": {
    "collapsed": false
   },
   "outputs": [
    {
     "data": {
      "image/png": "[encoded data removed]",
      "text/plain": [
       "<matplotlib.figure.Figure at 0x7f9e3e7775f8>"
      ]
     },
     "metadata": {},
     "output_type": "display_data"
    }
   ],
   "source": [
    "def leg_joint_view(sheet, coords=['z', 'x', 'y']):\n",
    "\n",
    "    x, y, z = coords\n",
    "    datasets = {}\n",
    "    \n",
    "    datasets['face'] = sheet.face_df.sort_values(z)\n",
    "    datasets['vert'] = sheet.vert_df.sort_values(z)\n",
    "    edge_z = 0.5 * (sheet.upcast_srce(sheet.vert_df[z]) +\n",
    "                    sheet.upcast_trgt(sheet.vert_df[z]))\n",
    "    datasets['edge'] = sheet.edge_df.copy()\n",
    "    datasets['edge'][z] = edge_z\n",
    "    datasets['edge'] = datasets['edge'].sort_values(z)\n",
    "    \n",
    "    tmp_sheet = Sheet('tmp', datasets,\n",
    "                      sheet.specs)\n",
    "    tmp_sheet.reset_index()\n",
    "    cmap = plt.cm.get_cmap('viridis')\n",
    "    \n",
    "    e_depth = (tmp_sheet.edge_df[z] -\n",
    "               tmp_sheet.edge_df[z].min()) / tmp_sheet.edge_df[z].ptp()\n",
    "    depth_cmap = cmap(e_depth)\n",
    "    draw_specs = {\n",
    "        'vert': {\n",
    "            'visible': False\n",
    "            },\n",
    "        'edge': {\n",
    "            'color': depth_cmap,\n",
    "            'head_width': 0.,\n",
    "            #'zorder': depth.values\n",
    "            }\n",
    "        }\n",
    "    \n",
    "    fig, ax = sheet_view(tmp_sheet, coords[:2], **draw_specs)\n",
    "    ax.set_xlim(-1, 1)\n",
    "    ax.set_ylim(-1, 1)\n",
    "    ax.set_axis_bgcolor('#404040')\n",
    "    ax.set_xticks([])\n",
    "    ax.set_yticks([])\n",
    "    #ax.set_frame_on(False)\n",
    "    fig.set_size_inches((16, 9))\n",
    "    fig.set_frameon(False)\n",
    "    fig.set_clip_box(ax.bbox)\n",
    "    return fig, ax\n",
    "\n",
    "fig, ax = leg_joint_view(sheet)\n",
    "plt.savefig('before.png', bbox_inches='tight')"
   ]
  },
  {
   "cell_type": "code",
   "execution_count": null,
   "metadata": {
    "collapsed": true
   },
   "outputs": [],
   "source": [
    "times = time_tables.index.labels[0]\n",
    "\n",
    "\n",
    "def time_step(face_events, events,\n",
    "              sheet, geom, model):\n",
    "\n",
    "    for face, evts in face_events.iterrows():\n",
    "        for event_name, event_arg in evts.dropna().items():\n",
    "            if ((not sheet.face_df.loc[face, 'is_alive']) or\n",
    "                np.isnan(sheet.face_df.loc[face, 'is_alive'])):\n",
    "                continue\n",
    "            events[event_name](face, event_arg)\n",
    "    res = solver.find_energy_min(sheet, geom, model, **settings)\n",
    "\n",
    "    \n",
    "for t in times:\n",
    "    face_events = time_table.loc[t]\n",
    "    time_step(face_events, events,\n",
    "              sheet, geom, model)\n",
    "    fig, ax = leg_joint_view(sheet)\n",
    "    figname = 'fold_formation_{:03d}.png'.format(t)\n",
    "    plt.savefig(figname, bbox_inches='tight')\n",
    "    plt.close(fig)"
   ]
  },
  {
   "cell_type": "code",
   "execution_count": 115,
   "metadata": {
    "collapsed": false
   },
   "outputs": [
    {
     "data": {
      "text/html": [
       "<div>\n",
       "<table border=\"1\" class=\"dataframe\">\n",
       "  <thead>\n",
       "    <tr style=\"text-align: right;\">\n",
       "      <th></th>\n",
       "      <th></th>\n",
       "      <th>divide</th>\n",
       "      <th>grow</th>\n",
       "      <th>ab_pull</th>\n",
       "      <th>type1_at_shorter</th>\n",
       "      <th>contract</th>\n",
       "      <th>shrink</th>\n",
       "      <th>type3</th>\n",
       "    </tr>\n",
       "    <tr>\n",
       "      <th>t</th>\n",
       "      <th>face</th>\n",
       "      <th></th>\n",
       "      <th></th>\n",
       "      <th></th>\n",
       "      <th></th>\n",
       "      <th></th>\n",
       "      <th></th>\n",
       "      <th></th>\n",
       "    </tr>\n",
       "  </thead>\n",
       "  <tbody>\n",
       "    <tr>\n",
       "      <th>0</th>\n",
       "      <th>0</th>\n",
       "      <td>NaN</td>\n",
       "      <td>1</td>\n",
       "      <td>NaN</td>\n",
       "      <td>NaN</td>\n",
       "      <td>NaN</td>\n",
       "      <td>NaN</td>\n",
       "      <td>NaN</td>\n",
       "    </tr>\n",
       "    <tr>\n",
       "      <th>1</th>\n",
       "      <th>0</th>\n",
       "      <td>NaN</td>\n",
       "      <td>1.05263</td>\n",
       "      <td>NaN</td>\n",
       "      <td>NaN</td>\n",
       "      <td>NaN</td>\n",
       "      <td>NaN</td>\n",
       "      <td>NaN</td>\n",
       "    </tr>\n",
       "    <tr>\n",
       "      <th>2</th>\n",
       "      <th>0</th>\n",
       "      <td>NaN</td>\n",
       "      <td>1.10526</td>\n",
       "      <td>NaN</td>\n",
       "      <td>NaN</td>\n",
       "      <td>NaN</td>\n",
       "      <td>NaN</td>\n",
       "      <td>NaN</td>\n",
       "    </tr>\n",
       "    <tr>\n",
       "      <th>3</th>\n",
       "      <th>0</th>\n",
       "      <td>NaN</td>\n",
       "      <td>1.15789</td>\n",
       "      <td>NaN</td>\n",
       "      <td>NaN</td>\n",
       "      <td>NaN</td>\n",
       "      <td>NaN</td>\n",
       "      <td>NaN</td>\n",
       "    </tr>\n",
       "    <tr>\n",
       "      <th>4</th>\n",
       "      <th>0</th>\n",
       "      <td>NaN</td>\n",
       "      <td>1.21053</td>\n",
       "      <td>NaN</td>\n",
       "      <td>NaN</td>\n",
       "      <td>NaN</td>\n",
       "      <td>NaN</td>\n",
       "      <td>NaN</td>\n",
       "    </tr>\n",
       "  </tbody>\n",
       "</table>\n",
       "</div>"
      ],
      "text/plain": [
       "       divide     grow ab_pull type1_at_shorter contract shrink type3\n",
       "t face                                                               \n",
       "0 0       NaN        1     NaN              NaN      NaN    NaN   NaN\n",
       "1 0       NaN  1.05263     NaN              NaN      NaN    NaN   NaN\n",
       "2 0       NaN  1.10526     NaN              NaN      NaN    NaN   NaN\n",
       "3 0       NaN  1.15789     NaN              NaN      NaN    NaN   NaN\n",
       "4 0       NaN  1.21053     NaN              NaN      NaN    NaN   NaN"
      ]
     },
     "execution_count": 115,
     "metadata": {},
     "output_type": "execute_result"
    }
   ],
   "source": [
    "time_tables.head()"
   ]
  },
  {
   "cell_type": "code",
   "execution_count": 100,
   "metadata": {
    "collapsed": false
   },
   "outputs": [
    {
     "data": {
      "text/plain": [
       "array([460, 275, 181, 115, 137, 499, 355, 168, 527, 441, 532, 396, 174,\n",
       "       615, 545, 567, 280, 169, 613, 280, 167, 104, 402, 291, 605,  99,\n",
       "       159, 198, 212, 263, 310])"
      ]
     },
     "execution_count": 100,
     "metadata": {},
     "output_type": "execute_result"
    }
   ],
   "source": [
    "division_times"
   ]
  },
  {
   "cell_type": "code",
   "execution_count": null,
   "metadata": {
    "collapsed": true
   },
   "outputs": [],
   "source": []
  }
 ],
 "metadata": {
  "kernelspec": {
   "display_name": "Python 3",
   "language": "python",
   "name": "python3"
  },
  "language_info": {
   "codemirror_mode": {
    "name": "ipython",
    "version": 3
   },
   "file_extension": ".py",
   "mimetype": "text/x-python",
   "name": "python",
   "nbconvert_exporter": "python",
   "pygments_lexer": "ipython3",
   "version": "3.5.1"
  }
 },
 "nbformat": 4,
 "nbformat_minor": 0
}
