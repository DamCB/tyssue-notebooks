{
 "cells": [
  {
   "cell_type": "markdown",
   "metadata": {},
   "source": [
    "# Reversible Network Reconnection Model\n",
    "\n",
    "Attempt at implementing the RNR model as described in Okuda et al. 2012:\n",
    "\n",
    ">_Reversible network reconnection model for simulating large deformation in dynamic tissue morphogenesis_, Satoru Okuda, Yasuhiro Inoue, Mototsugu Eiraku, Yoshiki Sasai and Taiji Adachi Biomech Model Mechanobiol (2013) 12:627–644 [DOI 10.1007/s10237-012-0430-7](http://link.springer.com/article/10.1007%2Fs10237-012-0430-7)\n",
    "\n",
    "\n",
    "The authors give 4 conditions which we detail and implement bellow.\n",
    "\n",
    "\n"
   ]
  },
  {
   "cell_type": "markdown",
   "metadata": {},
   "source": [
    "## Condition 1 - Center of a face\n",
    "\n",
    "The center of a face is defined by the average position of the face's edges midpoints, weighted by their lengths.\n",
    "\n",
    "$$ \\mathbf{r}_{\\alpha} = \\frac{\\sum_{ij\\alpha}\\ell_{ij} (\\mathbf{r}_i + \\mathbf{r}_j)/2}{\\sum_{ij\\alpha}\\ell_{ij}}$$\n"
   ]
  },
  {
   "cell_type": "code",
   "execution_count": 1,
   "metadata": {
    "collapsed": false
   },
   "outputs": [],
   "source": [
    "import numpy as np, pandas as pd\n",
    "from IPython.display import display\n",
    "import matplotlib.pyplot as plt\n",
    "\n",
    "from tyssue import Epithelium\n",
    "from tyssue import BulkGeometry\n",
    "from tyssue import Sheet\n",
    "from tyssue.config.geometry import bulk_spec\n",
    "\n",
    "from tyssue.core.generation import three_faces_sheet\n",
    "from tyssue.core.generation import extrude\n",
    "from tyssue.draw.threejs_draw import view_3js\n",
    "from tyssue.draw.plt_draw import quick_edge_draw\n",
    "\n",
    "class RNRGeometry(BulkGeometry):\n",
    "    \n",
    "    @staticmethod\n",
    "    def update_centroid(eptm):\n",
    "\n",
    "        srce_pos = eptm.upcast_srce(eptm.vert_df[eptm.coords])\n",
    "        trgt_pos = eptm.upcast_trgt(eptm.vert_df[eptm.coords])\n",
    "        mid_pos = (srce_pos + trgt_pos)/2\n",
    "        eptm.face_df[eptm.coords] = (eptm.sum_face(mid_pos).values /\n",
    "                                     eptm.face_df['perimeter'].values[:, np.newaxis])\n",
    "        srce_pos['cell'] = eptm.edge_df['cell']\n",
    "        eptm.cell_df[eptm.coords] = srce_pos.groupby('cell').mean()\n",
    "\n",
    "sheet = Sheet.planar_sheet_3d('sheet', 5, 5, 1, 1)\n",
    "sheet.sanitize()\n",
    "datasets = extrude(sheet.datasets, method='translation')\n",
    "\n",
    "eptm = Epithelium('20faces_3D', datasets, bulk_spec())\n",
    "#BulkGeometry.update_all(eptm)\n",
    "RNRGeometry.update_all(eptm)\n",
    "\n"
   ]
  },
  {
   "cell_type": "code",
   "execution_count": 2,
   "metadata": {
    "collapsed": false
   },
   "outputs": [
    {
     "data": {
      "text/html": [
       "<div>\n",
       "<table border=\"1\" class=\"dataframe\">\n",
       "  <thead>\n",
       "    <tr style=\"text-align: right;\">\n",
       "      <th></th>\n",
       "      <th>srce</th>\n",
       "      <th>dx</th>\n",
       "      <th>trgt</th>\n",
       "      <th>dy</th>\n",
       "      <th>length</th>\n",
       "      <th>face</th>\n",
       "      <th>nz</th>\n",
       "      <th>nx</th>\n",
       "      <th>ny</th>\n",
       "      <th>dz</th>\n",
       "      <th>segment</th>\n",
       "      <th>cell</th>\n",
       "      <th>sub_area</th>\n",
       "      <th>sub_vol</th>\n",
       "    </tr>\n",
       "    <tr>\n",
       "      <th>edge</th>\n",
       "      <th></th>\n",
       "      <th></th>\n",
       "      <th></th>\n",
       "      <th></th>\n",
       "      <th></th>\n",
       "      <th></th>\n",
       "      <th></th>\n",
       "      <th></th>\n",
       "      <th></th>\n",
       "      <th></th>\n",
       "      <th></th>\n",
       "      <th></th>\n",
       "      <th></th>\n",
       "      <th></th>\n",
       "    </tr>\n",
       "  </thead>\n",
       "  <tbody>\n",
       "    <tr>\n",
       "      <th>0</th>\n",
       "      <td>2</td>\n",
       "      <td>-1.25</td>\n",
       "      <td>0</td>\n",
       "      <td>-0.625</td>\n",
       "      <td>1.397542</td>\n",
       "      <td>4</td>\n",
       "      <td>0.589709</td>\n",
       "      <td>0.0</td>\n",
       "      <td>-0.0</td>\n",
       "      <td>0.0</td>\n",
       "      <td>apical</td>\n",
       "      <td>4</td>\n",
       "      <td>0.294855</td>\n",
       "      <td>0.049142</td>\n",
       "    </tr>\n",
       "    <tr>\n",
       "      <th>1</th>\n",
       "      <td>1</td>\n",
       "      <td>0.00</td>\n",
       "      <td>2</td>\n",
       "      <td>-0.750</td>\n",
       "      <td>0.750000</td>\n",
       "      <td>8</td>\n",
       "      <td>0.829475</td>\n",
       "      <td>0.0</td>\n",
       "      <td>0.0</td>\n",
       "      <td>0.0</td>\n",
       "      <td>apical</td>\n",
       "      <td>8</td>\n",
       "      <td>0.414737</td>\n",
       "      <td>0.069123</td>\n",
       "    </tr>\n",
       "    <tr>\n",
       "      <th>2</th>\n",
       "      <td>0</td>\n",
       "      <td>1.25</td>\n",
       "      <td>4</td>\n",
       "      <td>-0.625</td>\n",
       "      <td>1.397542</td>\n",
       "      <td>4</td>\n",
       "      <td>0.950928</td>\n",
       "      <td>0.0</td>\n",
       "      <td>0.0</td>\n",
       "      <td>0.0</td>\n",
       "      <td>apical</td>\n",
       "      <td>4</td>\n",
       "      <td>0.475464</td>\n",
       "      <td>0.079244</td>\n",
       "    </tr>\n",
       "    <tr>\n",
       "      <th>3</th>\n",
       "      <td>4</td>\n",
       "      <td>0.00</td>\n",
       "      <td>3</td>\n",
       "      <td>-0.750</td>\n",
       "      <td>0.750000</td>\n",
       "      <td>0</td>\n",
       "      <td>0.829475</td>\n",
       "      <td>0.0</td>\n",
       "      <td>0.0</td>\n",
       "      <td>0.0</td>\n",
       "      <td>apical</td>\n",
       "      <td>0</td>\n",
       "      <td>0.414737</td>\n",
       "      <td>0.069123</td>\n",
       "    </tr>\n",
       "    <tr>\n",
       "      <th>4</th>\n",
       "      <td>2</td>\n",
       "      <td>0.50</td>\n",
       "      <td>5</td>\n",
       "      <td>-0.250</td>\n",
       "      <td>0.559017</td>\n",
       "      <td>8</td>\n",
       "      <td>1.372941</td>\n",
       "      <td>0.0</td>\n",
       "      <td>0.0</td>\n",
       "      <td>0.0</td>\n",
       "      <td>apical</td>\n",
       "      <td>8</td>\n",
       "      <td>0.686471</td>\n",
       "      <td>0.114412</td>\n",
       "    </tr>\n",
       "  </tbody>\n",
       "</table>\n",
       "</div>"
      ],
      "text/plain": [
       "      srce    dx  trgt     dy    length  face        nz   nx   ny   dz  \\\n",
       "edge                                                                     \n",
       "0        2 -1.25     0 -0.625  1.397542     4  0.589709  0.0 -0.0  0.0   \n",
       "1        1  0.00     2 -0.750  0.750000     8  0.829475  0.0  0.0  0.0   \n",
       "2        0  1.25     4 -0.625  1.397542     4  0.950928  0.0  0.0  0.0   \n",
       "3        4  0.00     3 -0.750  0.750000     0  0.829475  0.0  0.0  0.0   \n",
       "4        2  0.50     5 -0.250  0.559017     8  1.372941  0.0  0.0  0.0   \n",
       "\n",
       "     segment  cell  sub_area   sub_vol  \n",
       "edge                                    \n",
       "0     apical     4  0.294855  0.049142  \n",
       "1     apical     8  0.414737  0.069123  \n",
       "2     apical     4  0.475464  0.079244  \n",
       "3     apical     0  0.414737  0.069123  \n",
       "4     apical     8  0.686471  0.114412  "
      ]
     },
     "execution_count": 2,
     "metadata": {},
     "output_type": "execute_result"
    }
   ],
   "source": [
    "eptm.edge_df.head()"
   ]
  },
  {
   "cell_type": "code",
   "execution_count": 3,
   "metadata": {
    "collapsed": false
   },
   "outputs": [],
   "source": [
    "render, line = view_3js(eptm)\n",
    "display(render)"
   ]
  },
  {
   "cell_type": "markdown",
   "metadata": {},
   "source": [
    "## I→H transition\n",
    "\n",
    "![IH transition in a bulk and a monolayer](../data/png/IH_transition.png)\n",
    "\n"
   ]
  },
  {
   "cell_type": "code",
   "execution_count": 10,
   "metadata": {
    "collapsed": false
   },
   "outputs": [],
   "source": [
    "srce_orbits = eptm.get_orbits('srce', 'face')"
   ]
  },
  {
   "cell_type": "code",
   "execution_count": 13,
   "metadata": {
    "collapsed": true
   },
   "outputs": [],
   "source": [
    "def IH_transition(eptm, e_1011):\n",
    "    \n",
    "    v_pairs, common_cells = get_vertex_pairs(eptm, e_1011)\n",
    "    \n",
    "    \n",
    "    try:\n",
    "        (v1, v4), (v2, v5), (v3, v6) = v_pairs\n",
    "    except ValueError:\n",
    "        print('Edge {} is not a valid junction to'\n",
    "              ' perform IH transition on, aborting'.format(e_1011))\n",
    "        return\n",
    "    new_vs = eptm.vert_df.loc[[v1, v2, v3]].copy()\n",
    "    eptm.vert_df.append(new_vs, ignore_index=True)\n",
    "    v7, v8, v9 = eptm.vert_df.index[-3:]\n",
    "    for pair, new in zip(v_pairs, (v7, v8, v9)):\n",
    "        \n",
    "        va, vb = pair\n",
    "        e_a10s = eptm.edge_df[(eptm.edge_df['srce'] == va) &\n",
    "                              (eptm.edge_df['trgt'] == v10)].index\n",
    "        eptm.edge_df.loc[e_a10s, 'trgt'] = new\n",
    "\n",
    "        e_10as = eptm.edge_df[(eptm.edge_df['srce'] == v10) &\n",
    "                              (eptm.edge_df['trgt'] == va)].index\n",
    "        eptm.edge_df.loc[e_10as, 'srce'] = new\n",
    "        \n",
    "        e_b11s = eptm.edge_df[(eptm.edge_df['srce'] == vb) &\n",
    "                              (eptm.edge_df['trgt'] == v11)].index\n",
    "        eptm.edge_df.loc[e_b11s, 'trgt'] = new\n",
    "\n",
    "        e_11bs = eptm.edge_df[(eptm.edge_df['srce'] == v11) &\n",
    "                              (eptm.edge_df['trgt'] == vb)].index\n",
    "        eptm.edge_df.loc[e_11bs, 'srce'] = new\n",
    "        \n",
    "    \n",
    "def get_vertex_pairs(eptm, e_1011):\n",
    "    \n",
    "    srce_orbits = eptm.get_orbits('srce', 'cell')\n",
    "        \n",
    "    v10, v11 = eptm.edge_df.loc[e_1011, ['srce', 'trgt']]\n",
    "    v10_out = set(eptm.edge_df[eptm.edge_df['srce']==v10]['trgt']) - {v11}\n",
    "    cells_123 = {v: set(srce_orbits.loc[v])\n",
    "                 for v in v10_out}\n",
    "    \n",
    "    v11_out = set(eptm.edge_df[eptm.edge_df['srce']==v11]['trgt']) - {v10}\n",
    "    cells_456 = {v: set(srce_orbits.loc[v])\n",
    "                 for v in v11_out}\n",
    "    v_pairs = []\n",
    "    common_cells = []\n",
    "    for vi in v10_out:\n",
    "        for vj in v11_out:\n",
    "            common_cell = cells_123[vi].intersection(cells_456[vj])\n",
    "            if len(common_cell) > 0:\n",
    "                v_pairs.append((vi, vj))\n",
    "                common_cells.append(common_cell)\n",
    "                break\n",
    "        else:\n",
    "            raise ValueError('No vertex for vertex %i' % vi)\n",
    "    return v_pairs, common_cells\n",
    "    \n",
    "    "
   ]
  },
  {
   "cell_type": "code",
   "execution_count": 14,
   "metadata": {
    "collapsed": false
   },
   "outputs": [
    {
     "data": {
      "text/plain": [
       "([(24, 66), (33, 66), (69, 66)], [{11}, {10}, {10, 11}])"
      ]
     },
     "execution_count": 14,
     "metadata": {},
     "output_type": "execute_result"
    }
   ],
   "source": [
    "edge = 56\n",
    "get_vertex_pairs(eptm, edge)"
   ]
  },
  {
   "cell_type": "code",
   "execution_count": null,
   "metadata": {
    "collapsed": true
   },
   "outputs": [],
   "source": []
  }
 ],
 "metadata": {
  "anaconda-cloud": {},
  "kernelspec": {
   "display_name": "Python [default]",
   "language": "python",
   "name": "python3"
  },
  "language_info": {
   "codemirror_mode": {
    "name": "ipython",
    "version": 3
   },
   "file_extension": ".py",
   "mimetype": "text/x-python",
   "name": "python",
   "nbconvert_exporter": "python",
   "pygments_lexer": "ipython3",
   "version": "3.5.2"
  },
  "widgets": {
   "state": {
    "80ae5ef2169d409da7079bd289bc92c6": {
     "views": [
      {
       "cell_index": 4
      }
     ]
    }
   },
   "version": "1.2.0"
  }
 },
 "nbformat": 4,
 "nbformat_minor": 0
}
