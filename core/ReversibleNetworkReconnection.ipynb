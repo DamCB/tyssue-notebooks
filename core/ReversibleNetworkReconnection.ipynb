{
 "cells": [
  {
   "cell_type": "markdown",
   "metadata": {
    "deletable": true,
    "editable": true
   },
   "source": [
    "# Reversible Network Reconnection Model\n",
    "\n",
    "Attempt at implementing the RNR model as described in Okuda et al. 2012:\n",
    "\n",
    ">_Reversible network reconnection model for simulating large deformation in dynamic tissue morphogenesis_, Satoru Okuda, Yasuhiro Inoue, Mototsugu Eiraku, Yoshiki Sasai and Taiji Adachi Biomech Model Mechanobiol (2013) 12:627–644 [DOI 10.1007/s10237-012-0430-7](http://link.springer.com/article/10.1007%2Fs10237-012-0430-7)\n",
    "\n",
    "\n",
    "The authors give 4 conditions which we detail and implement bellow.\n",
    "\n",
    "\n"
   ]
  },
  {
   "cell_type": "markdown",
   "metadata": {
    "deletable": true,
    "editable": true
   },
   "source": [
    "## Condition 1 - Center of a face\n",
    "\n",
    "The center of a face is defined by the average position of the face's edges midpoints, weighted by their lengths.\n",
    "\n",
    "$$ \\mathbf{r}_{\\alpha} = \\frac{\\sum_{ij\\alpha}\\ell_{ij} (\\mathbf{r}_i + \\mathbf{r}_j)/2}{\\sum_{ij\\alpha}\\ell_{ij}}$$\n"
   ]
  },
  {
   "cell_type": "code",
   "execution_count": 5,
   "metadata": {
    "collapsed": false,
    "deletable": true,
    "editable": true
   },
   "outputs": [
    {
     "name": "stdout",
     "output_type": "stream",
     "text": [
      "93 414 70\n"
     ]
    }
   ],
   "source": [
    "import numpy as np, pandas as pd\n",
    "from IPython.display import display\n",
    "import matplotlib.pyplot as plt\n",
    "%matplotlib inline\n",
    "\n",
    "from tyssue import Epithelium\n",
    "from tyssue import BulkGeometry, RNRGeometry\n",
    "from tyssue import Sheet\n",
    "from tyssue.config.geometry import bulk_spec\n",
    "from tyssue.utils.utils import _to_3d \n",
    "from tyssue.core.generation import three_faces_sheet\n",
    "from tyssue.core.generation import extrude\n",
    "from tyssue.draw.threejs_draw import view_3js, highlight_faces\n",
    "from tyssue.draw.plt_draw import quick_edge_draw\n",
    "from tyssue.topology.bulk_topology import IH_transition, HI_transition\n",
    "\n",
    "\n",
    "\n",
    "draw_spec = {'face': {'visible': True}}\n",
    "\n",
    "\n",
    "\n",
    "sheet = Sheet.planar_sheet_3d('sheet', 5, 5, 1, 1)\n",
    "sheet.sanitize()\n",
    "datasets = extrude(sheet.datasets, method='translation')\n",
    "\n",
    "eptm = Epithelium('20faces_3D', datasets, bulk_spec())\n",
    "RNRGeometry.update_all(eptm)\n",
    "RNRGeometry.center(eptm)\n",
    "RNRGeometry.update_all(eptm)\n",
    "\n",
    "\n",
    "eptm.settings['threshold_length'] = 1e-4\n",
    "print(eptm.Nf, eptm.Ne, eptm.Nv)\n",
    "\n",
    "render, line = view_3js(eptm, **draw_spec)\n",
    "display(render)"
   ]
  },
  {
   "cell_type": "markdown",
   "metadata": {
    "deletable": true,
    "editable": true
   },
   "source": [
    "## I→H transition\n",
    "\n",
    "![IH transition in a bulk and a RNR](../data/png/IH_transition.png)\n",
    "\n"
   ]
  },
  {
   "cell_type": "code",
   "execution_count": 6,
   "metadata": {
    "collapsed": false,
    "deletable": true,
    "editable": true
   },
   "outputs": [],
   "source": [
    "\n",
    "e_1011 = 26\n",
    "eptm.settings['threshold_length'] = 0.5\n",
    "\n",
    "srce, trgt, face, cell = eptm.edge_df.loc[e_1011, \n",
    "                                          ['srce', 'trgt',\n",
    "                                           'face', 'cell']]\n",
    "\n",
    "\n",
    "\n",
    "IH_transition(eptm, e_1011)\n",
    "RNRGeometry.update_all(eptm)\n",
    "\n",
    "\n",
    "cell_faces = eptm.edge_df[eptm.edge_df['cell']==cell]['face']\n",
    "\n",
    "highlight_faces(eptm.face_df, cell_faces, reset_visible=True)\n",
    "\n",
    "render, line = view_3js(eptm, **draw_spec)\n",
    "display(render)"
   ]
  },
  {
   "cell_type": "markdown",
   "metadata": {
    "deletable": true,
    "editable": true
   },
   "source": [
    "# H → I transition"
   ]
  },
  {
   "cell_type": "code",
   "execution_count": 7,
   "metadata": {
    "collapsed": false,
    "deletable": true,
    "editable": true
   },
   "outputs": [],
   "source": [
    "fa = 93\n",
    "\n",
    "\n",
    "HI_transition(eptm, fa)\n",
    "RNRGeometry.update_all(eptm)\n",
    "\n",
    "cell_faces = eptm.edge_df[eptm.edge_df['cell']==cell]['face']\n",
    "highlight_faces(eptm.face_df, cell_faces, reset_visible=False)\n",
    "\n",
    "\n",
    "render, line = view_3js(eptm, **draw_spec)\n",
    "display(render)"
   ]
  },
  {
   "cell_type": "markdown",
   "metadata": {
    "deletable": true,
    "editable": true
   },
   "source": [
    "### Testing for I→H / H →I transition triggers"
   ]
  },
  {
   "cell_type": "code",
   "execution_count": 8,
   "metadata": {
    "collapsed": false,
    "deletable": true,
    "editable": true
   },
   "outputs": [],
   "source": [
    "eptm.settings['threshold_length'] = 1e-3"
   ]
  },
  {
   "cell_type": "code",
   "execution_count": 9,
   "metadata": {
    "collapsed": false,
    "deletable": true,
    "editable": true,
    "scrolled": true
   },
   "outputs": [
    {
     "data": {
      "text/plain": [
       "(set(), set())"
      ]
     },
     "execution_count": 9,
     "metadata": {},
     "output_type": "execute_result"
    }
   ],
   "source": [
    "def find_rearangements(eptm):\n",
    "    l_th = eptm.settings['threshold_length']\n",
    "    up_num_sides = eptm.upcast_face(eptm.face_df['num_sides'])   \n",
    "    shorts = eptm.edge_df[eptm.edge_df['length'] < l_th]\n",
    "    non_triangular = up_num_sides[up_num_sides > 4 ].index\n",
    "    edges_IH = set(shorts.index).intersection(non_triangular)\n",
    "\n",
    "    max_f_length = shorts.groupby('face')['length'].apply(max)\n",
    "    short_faces = max_f_length[max_f_length < l_th].index\n",
    "    three_faces = eptm.face_df[eptm.face_df['num_sides'] == 3].index\n",
    "    faces_HI = set(three_faces).intersection(short_faces)\n",
    "    return edges_IH, faces_HI\n",
    "\n",
    "find_rearangements(eptm)"
   ]
  },
  {
   "cell_type": "markdown",
   "metadata": {
    "deletable": true,
    "editable": true
   },
   "source": [
    "### Condition 3\n",
    "\n",
    "This condition is satisfied if `eptm.settings['threshold_length']`\n",
    "is well defined, i.e, small with respect to the unit length or the\n",
    "average edge length.\n",
    "\n",
    "### Condition 4\n",
    "\n",
    "* (i)  Two edges never share two vertices simultaneously.\n",
    "\n",
    "_In our half-edge architecture, this is not as straight forward. But I think the condition can\n",
    "be reformulated as:_ Two edges **from the same face** never share two edges simultanously.\n",
    "I don't know how to demonstrate this, but I think these are equivalent (to get two edges together, you need to \"squeeze\" one face between those two.\n",
    "\n",
    "* (ii) Two polygonal faces never share two or more edges simultaneously.\n"
   ]
  },
  {
   "cell_type": "code",
   "execution_count": 10,
   "metadata": {
    "collapsed": true,
    "deletable": true,
    "editable": true
   },
   "outputs": [],
   "source": [
    "from tyssue.topology.base_topology import condition_4i, condition_4ii"
   ]
  },
  {
   "cell_type": "code",
   "execution_count": 11,
   "metadata": {
    "collapsed": false,
    "deletable": true,
    "editable": true
   },
   "outputs": [
    {
     "data": {
      "text/plain": [
       "(Int64Index([], dtype='int64', name='face'), [])"
      ]
     },
     "execution_count": 11,
     "metadata": {},
     "output_type": "execute_result"
    }
   ],
   "source": [
    "condition_4i(eptm), condition_4ii(eptm)"
   ]
  },
  {
   "cell_type": "code",
   "execution_count": 12,
   "metadata": {
    "collapsed": true,
    "deletable": true,
    "editable": true
   },
   "outputs": [],
   "source": [
    "eptm.settings['threshold_length'] = 0.5\n",
    "\n",
    "IH_transition(eptm, eptm.edge_df.index[-1])\n",
    "RNRGeometry.update_all(eptm)\n",
    "\n",
    "render, line = view_3js(eptm)\n",
    "display(render)"
   ]
  },
  {
   "cell_type": "code",
   "execution_count": 14,
   "metadata": {
    "collapsed": true,
    "deletable": true,
    "editable": true
   },
   "outputs": [],
   "source": [
    "invalid = eptm.get_invalid()\n",
    "assert np.alltrue(1 - invalid)\n",
    "assert np.alltrue(eptm.edge_df['sub_vol'] > 0)"
   ]
  },
  {
   "cell_type": "code",
   "execution_count": 10,
   "metadata": {
    "collapsed": false,
    "deletable": true,
    "editable": true
   },
   "outputs": [
    {
     "name": "stdout",
     "output_type": "stream",
     "text": [
      "Automatic pdb calling has been turned ON\n"
     ]
    }
   ],
   "source": [
    "%pdb"
   ]
  },
  {
   "cell_type": "code",
   "execution_count": null,
   "metadata": {
    "collapsed": true,
    "deletable": true,
    "editable": true
   },
   "outputs": [],
   "source": []
  }
 ],
 "metadata": {
  "anaconda-cloud": {},
  "kernelspec": {
   "display_name": "Python [default]",
   "language": "python",
   "name": "python3"
  },
  "language_info": {
   "codemirror_mode": {
    "name": "ipython",
    "version": 3
   },
   "file_extension": ".py",
   "mimetype": "text/x-python",
   "name": "python",
   "nbconvert_exporter": "python",
   "pygments_lexer": "ipython3",
   "version": "3.5.2"
  },
  "widgets": {
   "state": {
    "1a97fa705ec44784b14cc776b5808469": {
     "views": [
      {
       "cell_index": 13
      }
     ]
    },
    "340e721fce0b444dbfb286a7c6443237": {
     "views": [
      {
       "cell_index": 2
      }
     ]
    },
    "a2b318ba94074fb79406c092f4fc9128": {
     "views": [
      {
       "cell_index": 6
      }
     ]
    },
    "bad949daa4a44831ab127b78e472dbcf": {
     "views": [
      {
       "cell_index": 4
      }
     ]
    }
   },
   "version": "1.2.0"
  }
 },
 "nbformat": 4,
 "nbformat_minor": 0
}
