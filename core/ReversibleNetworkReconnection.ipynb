{
 "cells": [
  {
   "cell_type": "markdown",
   "metadata": {},
   "source": [
    "# Reversible Network Reconnection Model\n",
    "\n",
    "Attempt at implementing the RNR model as described in Okuda et al. 2012:\n",
    "\n",
    ">_Reversible network reconnection model for simulating large deformation in dynamic tissue morphogenesis_, Satoru Okuda, Yasuhiro Inoue, Mototsugu Eiraku, Yoshiki Sasai and Taiji Adachi Biomech Model Mechanobiol (2013) 12:627–644 [DOI 10.1007/s10237-012-0430-7](http://link.springer.com/article/10.1007%2Fs10237-012-0430-7)\n",
    "\n",
    "\n",
    "The authors give 4 conditions which we detail and implement bellow.\n",
    "\n",
    "\n"
   ]
  },
  {
   "cell_type": "markdown",
   "metadata": {},
   "source": [
    "## Condition 1 - Center of a face\n",
    "\n",
    "The center of a face is defined by the average position of the face's edges midpoints, weighted by their lengths.\n",
    "\n",
    "$$ \\mathbf{r}_{\\alpha} = \\frac{\\sum_{ij\\alpha}\\ell_{ij} (\\mathbf{r}_i + \\mathbf{r}_j)/2}{\\sum_{ij\\alpha}\\ell_{ij}}$$\n"
   ]
  },
  {
   "cell_type": "code",
   "execution_count": 29,
   "metadata": {
    "collapsed": false
   },
   "outputs": [
    {
     "name": "stdout",
     "output_type": "stream",
     "text": [
      "93 414 70\n"
     ]
    }
   ],
   "source": [
    "import numpy as np, pandas as pd\n",
    "from IPython.display import display\n",
    "import matplotlib.pyplot as plt\n",
    "%matplotlib inline\n",
    "\n",
    "from tyssue import Epithelium\n",
    "from tyssue import BulkGeometry\n",
    "from tyssue import Sheet\n",
    "from tyssue.config.geometry import bulk_spec\n",
    "from tyssue.utils.utils import _to_3d \n",
    "from tyssue.core.generation import three_faces_sheet\n",
    "from tyssue.core.generation import extrude\n",
    "from tyssue.draw.threejs_draw import view_3js\n",
    "from tyssue.draw.plt_draw import quick_edge_draw\n",
    "from tyssue.topology.bulk_topology import IH_transition, HI_transition\n",
    "\n",
    "    \n",
    "class RNRGeometry(BulkGeometry):\n",
    "    \n",
    "    @staticmethod\n",
    "    def update_centroid(eptm):\n",
    "\n",
    "        srce_pos = eptm.upcast_srce(eptm.vert_df[eptm.coords])\n",
    "        trgt_pos = eptm.upcast_trgt(eptm.vert_df[eptm.coords])\n",
    "        mid_pos = (srce_pos + trgt_pos)/2\n",
    "        \n",
    "        eptm.face_df[eptm.coords] = (eptm.sum_face(mid_pos * _to_3d(eptm.edge_df['length'])).values /\n",
    "                                     eptm.face_df['perimeter'].values[:, np.newaxis])\n",
    "        srce_pos['cell'] = eptm.edge_df['cell']\n",
    "        eptm.cell_df[eptm.coords] = srce_pos.groupby('cell').mean()\n",
    "\n",
    "sheet = Sheet.planar_sheet_3d('sheet', 5, 5, 1, 1)\n",
    "sheet.sanitize()\n",
    "datasets = extrude(sheet.datasets, method='translation')\n",
    "\n",
    "eptm = Epithelium('20faces_3D', datasets, bulk_spec())\n",
    "RNRGeometry.update_all(eptm)\n",
    "RNRGeometry.center(eptm)\n",
    "\n",
    "\n",
    "eptm.settings['threshold_length'] = 1e-4\n",
    "print(eptm.Nf, eptm.Ne, eptm.Nv)\n",
    "\n",
    "render, line = view_3js(eptm)\n",
    "display(render)"
   ]
  },
  {
   "cell_type": "markdown",
   "metadata": {},
   "source": [
    "## I→H transition\n",
    "\n",
    "![IH transition in a bulk and a monolayer](../data/png/IH_transition.png)\n",
    "\n"
   ]
  },
  {
   "cell_type": "code",
   "execution_count": 30,
   "metadata": {
    "collapsed": false
   },
   "outputs": [],
   "source": [
    "e_1011 = 26\n",
    "eptm.settings['threshold_length'] = 1\n",
    "\n",
    "IH_transition(eptm, e_1011)\n",
    "RNRGeometry.update_all(eptm)\n",
    "\n",
    "\n",
    "render, line = view_3js(eptm)\n",
    "display(render)"
   ]
  },
  {
   "cell_type": "markdown",
   "metadata": {},
   "source": [
    "# H → I transition"
   ]
  },
  {
   "cell_type": "code",
   "execution_count": 31,
   "metadata": {
    "collapsed": false
   },
   "outputs": [],
   "source": [
    "fa = 93\n",
    "\n",
    "HI_transition(eptm, fa)\n",
    "RNRGeometry.update_all(eptm)\n",
    "\n",
    "render, line = view_3js(eptm)\n",
    "display(render)"
   ]
  },
  {
   "cell_type": "markdown",
   "metadata": {},
   "source": [
    "### Testing for I→H / H →I transition triggers"
   ]
  },
  {
   "cell_type": "code",
   "execution_count": 32,
   "metadata": {
    "collapsed": false
   },
   "outputs": [],
   "source": [
    "eptm.settings['threshold_length'] = 1e-3"
   ]
  },
  {
   "cell_type": "code",
   "execution_count": 33,
   "metadata": {
    "collapsed": false,
    "scrolled": true
   },
   "outputs": [
    {
     "data": {
      "text/plain": [
       "(set(), set())"
      ]
     },
     "execution_count": 33,
     "metadata": {},
     "output_type": "execute_result"
    }
   ],
   "source": [
    "def find_rearangements(eptm):\n",
    "    l_th = eptm.settings['threshold_length']\n",
    "    up_num_sides = eptm.upcast_face(eptm.face_df['num_sides'])   \n",
    "    shorts = eptm.edge_df[eptm.edge_df['length'] < l_th]\n",
    "    non_triangular = up_num_sides[up_num_sides > 4 ].index\n",
    "    edges_IH = set(shorts.index).intersection(non_triangular)\n",
    "\n",
    "    max_f_length = shorts.groupby('face')['length'].apply(max)\n",
    "    short_faces = max_f_length[max_f_length < l_th].index\n",
    "    three_faces = eptm.face_df[eptm.face_df['num_sides'] == 3].index\n",
    "    faces_HI = set(three_faces).intersection(short_faces)\n",
    "    return edges_IH, faces_HI\n",
    "\n",
    "find_rearangements(eptm)"
   ]
  },
  {
   "cell_type": "markdown",
   "metadata": {},
   "source": [
    "### Condition 3\n",
    "\n",
    "This condition is satisfied if `eptm.settings['threshold_length']`\n",
    "is well defined, i.e, small with respect to the unit length or the\n",
    "average edge length.\n",
    "\n",
    "### Condition 4\n",
    "\n",
    "* (i)  Two edges never share two vertices simultaneously.\n",
    "\n",
    "_In our half-edge architecture, this is not as straight forward. But I think the condition can\n",
    "be reformulated as:_ Two edges **from the same face** never share two edges simultanously.\n",
    "I don't know how to demonstrate this, but I think these are equvalent (to get two edges together, you need to \"squeeze\" one face between those two.\n",
    "\n",
    "* (ii) Two polygonal faces never share two or more edges simultaneously.\n"
   ]
  },
  {
   "cell_type": "code",
   "execution_count": 81,
   "metadata": {
    "collapsed": true
   },
   "outputs": [],
   "source": [
    "def condition_4i(eptm):\n",
    "    \n",
    "    num_srces = eptm.edge_df.groupby('face')['srce'].apply(lambda s: len(set(s)))\n",
    "    num_sides = eptm.face_df['num_sides']\n",
    "    return eptm.face_df[num_srces != num_sides].index\n",
    "\n",
    "\n",
    "from itertools import combinations\n",
    "\n",
    "def get_neighbour_face_pairs(eptm):\n",
    "    pairs = []\n",
    "    eptm.edge_df['v_pair'] =  eptm.edge_df[['srce', 'trgt']].apply(frozenset, axis=1)\n",
    "\n",
    "    _ = eptm.edge_df.groupby('v_pair')['face'].apply(\n",
    "        lambda s: pairs.extend([frozenset((a, b)) for a, b in combinations(s.values, 2)]))\n",
    "    return pd.Series(pairs).drop_duplicates()\n",
    "\n",
    "def get_num_common_edges(eptm):\n",
    "    pairs = get_neighbour_face_pairs(eptm)\n",
    "    face_v_pair_orbit = eptm.edge_df.groupby('face').apply(\n",
    "        lambda df: frozenset(df['v_pair']))\n",
    "    n_common = [\n",
    "        len(face_v_pair_orbit.loc[fa].intersection(face_v_pair_orbit.loc[fb]))\n",
    "        if face_v_pair_orbit.loc[fb] != face_v_pair_orbit.loc[fa]\n",
    "        else -1 for fa, fb in pairs]\n",
    "    n_common = pd.Series(n_common, index=pd.Index(pairs, name='face_pairs'))\n",
    "    return n_common\n",
    "\n",
    "def condition_4ii(eptm):\n",
    "    n_common = get_num_common_edges(eptm)\n",
    "    return n_common[n_common >= 2]"
   ]
  },
  {
   "cell_type": "code",
   "execution_count": 82,
   "metadata": {
    "collapsed": false
   },
   "outputs": [
    {
     "data": {
      "text/plain": [
       "(Int64Index([], dtype='int64', name='face'), face_pairs\n",
       " (30, 31)    4\n",
       " (42, 43)    4\n",
       " dtype: int64)"
      ]
     },
     "execution_count": 82,
     "metadata": {},
     "output_type": "execute_result"
    }
   ],
   "source": [
    "condition_4i(eptm), condition_4ii(eptm)"
   ]
  },
  {
   "cell_type": "code",
   "execution_count": 36,
   "metadata": {
    "collapsed": true
   },
   "outputs": [],
   "source": [
    "eptm.settings['threshold_length'] = 0.5\n",
    "\n",
    "IH_transition(eptm, eptm.edge_df.index[-1])\n",
    "RNRGeometry.update_all(eptm)\n",
    "\n",
    "render, line = view_3js(eptm)\n",
    "display(render)"
   ]
  },
  {
   "cell_type": "code",
   "execution_count": 37,
   "metadata": {
    "collapsed": true
   },
   "outputs": [],
   "source": [
    "invalid = eptm.get_invalid()\n",
    "assert np.alltrue(1 - invalid)\n",
    "assert np.alltrue(eptm.edge_df['sub_vol'] > 0)"
   ]
  },
  {
   "cell_type": "code",
   "execution_count": 9,
   "metadata": {
    "collapsed": false
   },
   "outputs": [
    {
     "name": "stdout",
     "output_type": "stream",
     "text": [
      "Automatic pdb calling has been turned ON\n"
     ]
    }
   ],
   "source": [
    "%pdb"
   ]
  },
  {
   "cell_type": "code",
   "execution_count": 41,
   "metadata": {
    "collapsed": false
   },
   "outputs": [
    {
     "data": {
      "text/plain": [
       "[<matplotlib.lines.Line2D at 0x7f097a661438>]"
      ]
     },
     "execution_count": 41,
     "metadata": {},
     "output_type": "execute_result"
    },
    {
     "data": {
      "image/png": "[encoded data removed]",
      "text/plain": [
       "<matplotlib.figure.Figure at 0x7f097a51b6a0>"
      ]
     },
     "metadata": {},
     "output_type": "display_data"
    }
   ],
   "source": [
    "fig, ax = quick_edge_draw(eptm)\n",
    "e_1011 = eptm.edge_df.index[-7]\n",
    "vs_1011 = eptm.vert_df.loc[eptm.edge_df.loc[e_1011, ['srce', 'trgt']].values, eptm.coords]\n",
    "\n",
    "ax.plot(vs_1011.x, vs_1011.y, '-o')"
   ]
  },
  {
   "cell_type": "code",
   "execution_count": 42,
   "metadata": {
    "collapsed": false
   },
   "outputs": [],
   "source": [
    "IH_transition(eptm, e_1011)\n",
    "RNRGeometry.update_all(eptm)\n",
    "\n",
    "render, line = view_3js(eptm)\n",
    "display(render)"
   ]
  },
  {
   "cell_type": "code",
   "execution_count": 43,
   "metadata": {
    "collapsed": false
   },
   "outputs": [
    {
     "data": {
      "text/plain": [
       "Int64Index([], dtype='int64', name='face')"
      ]
     },
     "execution_count": 43,
     "metadata": {},
     "output_type": "execute_result"
    }
   ],
   "source": [
    "condition_4i(eptm)"
   ]
  },
  {
   "cell_type": "code",
   "execution_count": null,
   "metadata": {
    "collapsed": true
   },
   "outputs": [],
   "source": []
  }
 ],
 "metadata": {
  "anaconda-cloud": {},
  "kernelspec": {
   "display_name": "Python [default]",
   "language": "python",
   "name": "python3"
  },
  "language_info": {
   "codemirror_mode": {
    "name": "ipython",
    "version": 3
   },
   "file_extension": ".py",
   "mimetype": "text/x-python",
   "name": "python",
   "nbconvert_exporter": "python",
   "pygments_lexer": "ipython3",
   "version": "3.5.2"
  },
  "widgets": {
   "state": {
    "8b17d80328bc4b149ef866564fd2980b": {
     "views": [
      {
       "cell_index": 6
      }
     ]
    },
    "9bd5704b8f0249aa9ff3393f290f4ba2": {
     "views": [
      {
       "cell_index": 13
      }
     ]
    },
    "bc8429f467cf48cfb8179f0103dc9f33": {
     "views": [
      {
       "cell_index": 2
      }
     ]
    },
    "c32523aaf95a4a2f96b9da927cfc1c89": {
     "views": [
      {
       "cell_index": 4
      }
     ]
    },
    "d52d01540f6f47e69b3539274d610026": {
     "views": [
      {
       "cell_index": 17
      }
     ]
    }
   },
   "version": "1.2.0"
  }
 },
 "nbformat": 4,
 "nbformat_minor": 0
}
