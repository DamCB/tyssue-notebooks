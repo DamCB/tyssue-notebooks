{
 "cells": [
  {
   "cell_type": "markdown",
   "metadata": {},
   "source": [
    "# Reversible Network Reconnection Model\n",
    "\n",
    "Attempt at implementing the RNR model as described in Okuda et al. 2012:\n",
    "\n",
    ">_Reversible network reconnection model for simulating large deformation in dynamic tissue morphogenesis_, Satoru Okuda, Yasuhiro Inoue, Mototsugu Eiraku, Yoshiki Sasai and Taiji Adachi Biomech Model Mechanobiol (2013) 12:627–644 [DOI 10.1007/s10237-012-0430-7](http://link.springer.com/article/10.1007%2Fs10237-012-0430-7)\n",
    "\n",
    "\n",
    "The authors give 4 conditions which we detail and implement bellow.\n",
    "\n",
    "\n"
   ]
  },
  {
   "cell_type": "markdown",
   "metadata": {},
   "source": [
    "## Condition 1 - Center of a face\n",
    "\n",
    "The center of a face is defined by the average position of the face's edges midpoints, weighted by their lengths.\n",
    "\n",
    "$$ \\mathbf{r}_{\\alpha} = \\frac{\\sum_{ij\\alpha}\\ell_{ij} (\\mathbf{r}_i + \\mathbf{r}_j)/2}{\\sum_{ij\\alpha}\\ell_{ij}}$$\n"
   ]
  },
  {
   "cell_type": "code",
   "execution_count": 69,
   "metadata": {
    "collapsed": false
   },
   "outputs": [],
   "source": [
    "import numpy as np, pandas as pd\n",
    "from IPython.display import display\n",
    "import matplotlib.pyplot as plt\n",
    "\n",
    "from tyssue import Epithelium\n",
    "from tyssue import BulkGeometry\n",
    "\n",
    "from tyssue.core.generation import three_faces_sheet\n",
    "from tyssue.core.generation import extrude\n",
    "from tyssue.draw.threejs_draw import view_3js\n",
    "\n",
    "\n",
    "datasets_2d, specs = three_faces_sheet()\n",
    "datasets = extrude(datasets_2d, method='translation')\n",
    "eptm = Epithelium('3faces_3D', datasets)\n",
    "BulkGeometry.update_all(eptm)\n",
    "\n",
    "\n",
    "class RNRGeometry(BulkGeometry):\n",
    "    \n",
    "    @staticmethod\n",
    "    def update_centroid(eptm):\n",
    "\n",
    "        srce_pos = eptm.upcast_srce(eptm.vert_df[eptm.coords])\n",
    "        trgt_pos = eptm.upcast_trgt(eptm.vert_df[eptm.coords])\n",
    "        mid_pos = (srce_pos + trgt_pos)/2\n",
    "        eptm.face_df[eptm.coords] = (eptm.sum_face(mid_pos).values /\n",
    "                                     eptm.face_df['perimeter'].values[:, np.newaxis])\n",
    "        srce_pos['cell'] = eptm.edge_df['cell']\n",
    "        eptm.cell_df[eptm.coords] = srce_pos.groupby('cell').mean()\n",
    "        "
   ]
  },
  {
   "cell_type": "code",
   "execution_count": 71,
   "metadata": {
    "collapsed": false
   },
   "outputs": [
    {
     "data": {
      "text/html": [
       "<div>\n",
       "<table border=\"1\" class=\"dataframe\">\n",
       "  <thead>\n",
       "    <tr style=\"text-align: right;\">\n",
       "      <th></th>\n",
       "      <th>face</th>\n",
       "      <th>nx</th>\n",
       "      <th>dy</th>\n",
       "      <th>nz</th>\n",
       "      <th>trgt</th>\n",
       "      <th>ny</th>\n",
       "      <th>srce</th>\n",
       "      <th>dz</th>\n",
       "      <th>dx</th>\n",
       "      <th>length</th>\n",
       "      <th>segment</th>\n",
       "      <th>cell</th>\n",
       "      <th>sub_area</th>\n",
       "      <th>sub_vol</th>\n",
       "    </tr>\n",
       "    <tr>\n",
       "      <th>edge</th>\n",
       "      <th></th>\n",
       "      <th></th>\n",
       "      <th></th>\n",
       "      <th></th>\n",
       "      <th></th>\n",
       "      <th></th>\n",
       "      <th></th>\n",
       "      <th></th>\n",
       "      <th></th>\n",
       "      <th></th>\n",
       "      <th></th>\n",
       "      <th></th>\n",
       "      <th></th>\n",
       "      <th></th>\n",
       "    </tr>\n",
       "  </thead>\n",
       "  <tbody>\n",
       "    <tr>\n",
       "      <th>0</th>\n",
       "      <td>0</td>\n",
       "      <td>-0.0</td>\n",
       "      <td>0.000</td>\n",
       "      <td>0.866</td>\n",
       "      <td>1</td>\n",
       "      <td>0.0</td>\n",
       "      <td>0</td>\n",
       "      <td>0.0</td>\n",
       "      <td>1.0</td>\n",
       "      <td>1.000000</td>\n",
       "      <td>apical</td>\n",
       "      <td>0</td>\n",
       "      <td>0.433</td>\n",
       "      <td>0.072167</td>\n",
       "    </tr>\n",
       "    <tr>\n",
       "      <th>1</th>\n",
       "      <td>0</td>\n",
       "      <td>-0.0</td>\n",
       "      <td>0.866</td>\n",
       "      <td>0.866</td>\n",
       "      <td>2</td>\n",
       "      <td>0.0</td>\n",
       "      <td>1</td>\n",
       "      <td>0.0</td>\n",
       "      <td>0.5</td>\n",
       "      <td>0.999978</td>\n",
       "      <td>apical</td>\n",
       "      <td>0</td>\n",
       "      <td>0.433</td>\n",
       "      <td>0.072167</td>\n",
       "    </tr>\n",
       "    <tr>\n",
       "      <th>2</th>\n",
       "      <td>0</td>\n",
       "      <td>0.0</td>\n",
       "      <td>0.866</td>\n",
       "      <td>0.866</td>\n",
       "      <td>3</td>\n",
       "      <td>-0.0</td>\n",
       "      <td>2</td>\n",
       "      <td>0.0</td>\n",
       "      <td>-0.5</td>\n",
       "      <td>0.999978</td>\n",
       "      <td>apical</td>\n",
       "      <td>0</td>\n",
       "      <td>0.433</td>\n",
       "      <td>0.072167</td>\n",
       "    </tr>\n",
       "    <tr>\n",
       "      <th>3</th>\n",
       "      <td>0</td>\n",
       "      <td>0.0</td>\n",
       "      <td>0.000</td>\n",
       "      <td>0.866</td>\n",
       "      <td>4</td>\n",
       "      <td>-0.0</td>\n",
       "      <td>3</td>\n",
       "      <td>0.0</td>\n",
       "      <td>-1.0</td>\n",
       "      <td>1.000000</td>\n",
       "      <td>apical</td>\n",
       "      <td>0</td>\n",
       "      <td>0.433</td>\n",
       "      <td>0.072167</td>\n",
       "    </tr>\n",
       "    <tr>\n",
       "      <th>4</th>\n",
       "      <td>0</td>\n",
       "      <td>0.0</td>\n",
       "      <td>-0.866</td>\n",
       "      <td>0.866</td>\n",
       "      <td>5</td>\n",
       "      <td>0.0</td>\n",
       "      <td>4</td>\n",
       "      <td>0.0</td>\n",
       "      <td>-0.5</td>\n",
       "      <td>0.999978</td>\n",
       "      <td>apical</td>\n",
       "      <td>0</td>\n",
       "      <td>0.433</td>\n",
       "      <td>0.072167</td>\n",
       "    </tr>\n",
       "  </tbody>\n",
       "</table>\n",
       "</div>"
      ],
      "text/plain": [
       "      face   nx     dy     nz  trgt   ny  srce   dz   dx    length segment  \\\n",
       "edge                                                                         \n",
       "0        0 -0.0  0.000  0.866     1  0.0     0  0.0  1.0  1.000000  apical   \n",
       "1        0 -0.0  0.866  0.866     2  0.0     1  0.0  0.5  0.999978  apical   \n",
       "2        0  0.0  0.866  0.866     3 -0.0     2  0.0 -0.5  0.999978  apical   \n",
       "3        0  0.0  0.000  0.866     4 -0.0     3  0.0 -1.0  1.000000  apical   \n",
       "4        0  0.0 -0.866  0.866     5  0.0     4  0.0 -0.5  0.999978  apical   \n",
       "\n",
       "      cell  sub_area   sub_vol  \n",
       "edge                            \n",
       "0        0     0.433  0.072167  \n",
       "1        0     0.433  0.072167  \n",
       "2        0     0.433  0.072167  \n",
       "3        0     0.433  0.072167  \n",
       "4        0     0.433  0.072167  "
      ]
     },
     "execution_count": 71,
     "metadata": {},
     "output_type": "execute_result"
    }
   ],
   "source": [
    "eptm.edge_df.head()"
   ]
  },
  {
   "cell_type": "code",
   "execution_count": 13,
   "metadata": {
    "collapsed": false
   },
   "outputs": [],
   "source": [
    "\n",
    "RNRGeometry.update_all(eptm)"
   ]
  },
  {
   "cell_type": "code",
   "execution_count": 4,
   "metadata": {
    "collapsed": false
   },
   "outputs": [
    {
     "name": "stderr",
     "output_type": "stream",
     "text": [
      "Widget Javascript not detected.  It may not be installed properly. Did you enable the widgetsnbextension? If not, then run \"jupyter nbextension enable --py --sys-prefix widgetsnbextension\"\n"
     ]
    }
   ],
   "source": [
    "render, line = view_3js(eptm)\n",
    "display(render)"
   ]
  },
  {
   "cell_type": "code",
   "execution_count": 14,
   "metadata": {
    "collapsed": false
   },
   "outputs": [],
   "source": [
    "RNRGeometry.update_all(eptm)\n",
    "face_pos = eptm.face_df[eptm.coords].values\n",
    "\n",
    "BulkGeometry.update_all(eptm)\n",
    "np.testing.assert_almost_equal(eptm.face_df[eptm.coords].values,\n",
    "                               face_pos, decimal=4)"
   ]
  },
  {
   "cell_type": "code",
   "execution_count": 83,
   "metadata": {
    "collapsed": true
   },
   "outputs": [],
   "source": [
    "from tyssue import Sheet"
   ]
  },
  {
   "cell_type": "code",
   "execution_count": 95,
   "metadata": {
    "collapsed": false
   },
   "outputs": [],
   "source": [
    "sheet = Sheet.planar_sheet_3d('sheet', 5, 5, 1, 1)\n",
    "sheet.sanitize()\n",
    "datasets = extrude(sheet.datasets, method='translation')\n",
    "\n",
    "eptm = Epithelium('20faces_3D', datasets, bulk_spec())\n",
    "BulkGeometry.update_all(eptm)\n",
    "RNRGeometry.update_all(eptm)\n",
    "\n"
   ]
  },
  {
   "cell_type": "code",
   "execution_count": 96,
   "metadata": {
    "collapsed": false
   },
   "outputs": [
    {
     "name": "stderr",
     "output_type": "stream",
     "text": [
      "Widget Javascript not detected.  It may not be installed properly. Did you enable the widgetsnbextension? If not, then run \"jupyter nbextension enable --py --sys-prefix widgetsnbextension\"\n"
     ]
    }
   ],
   "source": [
    "render, line = view_3js(eptm)\n",
    "display(render)"
   ]
  },
  {
   "cell_type": "markdown",
   "metadata": {},
   "source": [
    "## I→H transition\n",
    "\n",
    "![IH transition in a bulk and a monolayer](../data/png/IH_transition.png)\n",
    "\n"
   ]
  },
  {
   "cell_type": "code",
   "execution_count": null,
   "metadata": {
    "collapsed": true
   },
   "outputs": [],
   "source": [
    "from tyssue.topology.bulk_topology import add_vert"
   ]
  },
  {
   "cell_type": "code",
   "execution_count": 75,
   "metadata": {
    "collapsed": false
   },
   "outputs": [],
   "source": [
    "srce_orbits = eptm.get_orbits('srce', 'face')"
   ]
  },
  {
   "cell_type": "code",
   "execution_count": 76,
   "metadata": {
    "collapsed": false
   },
   "outputs": [
    {
     "data": {
      "text/plain": [
       "srce  edge\n",
       "0     0        0\n",
       "      6        1\n",
       "      12       2\n",
       "      37       6\n",
       "      56      11\n",
       "Name: face, dtype: int64"
      ]
     },
     "execution_count": 76,
     "metadata": {},
     "output_type": "execute_result"
    }
   ],
   "source": [
    "srce_orbits.head()"
   ]
  },
  {
   "cell_type": "code",
   "execution_count": 77,
   "metadata": {
    "collapsed": true
   },
   "outputs": [],
   "source": [
    "def IH_transition(eptm, e_1011):\n",
    "    \n",
    "    v_pairs, common_faces = get_vertex_pairs(eptm, e_1011)\n",
    "    try:\n",
    "        (v1, v4), (v2, v5), (v3, v6) = v_pairs\n",
    "    except ValueError:\n",
    "        print('Edge {} is not a valid junction to'\n",
    "              ' perform IH transition on, aborting'.format(e_1011))\n",
    "        return\n",
    "    new_vs = eptm.vert_df.loc[[v1, v2, v3]].copy()\n",
    "    eptm.vert_df.append(new_vs, ignore_index=True)\n",
    "    v7, v8, v9 = eptm.vert_df.index[-3:]\n",
    "    for pair, new in zip(v_pairs, (v7, v8, v9)):\n",
    "        \n",
    "        va, vb = pair\n",
    "        e_a10s = eptm.edge_df[(eptm.edge_df['srce'] == va) &\n",
    "                              (eptm.edge_df['trgt'] == v10)].index\n",
    "        eptm.edge_df.loc[e_a10s, 'trgt'] = new\n",
    "\n",
    "        e_10as = eptm.edge_df[(eptm.edge_df['srce'] == v10) &\n",
    "                              (eptm.edge_df['trgt'] == va)].index\n",
    "        eptm.edge_df.loc[e_10as, 'srce'] = new\n",
    "        \n",
    "        e_b11s = eptm.edge_df[(eptm.edge_df['srce'] == vb) &\n",
    "                              (eptm.edge_df['trgt'] == v11)].index\n",
    "        eptm.edge_df.loc[e_b11s, 'trgt'] = new\n",
    "\n",
    "        e_11bs = eptm.edge_df[(eptm.edge_df['srce'] == v11) &\n",
    "                              (eptm.edge_df['trgt'] == vb)].index\n",
    "        eptm.edge_df.loc[e_11bs, 'srce'] = new\n",
    "        \n",
    "    \n",
    "    \n",
    "    \n",
    "    \n",
    "    \n",
    "def get_vertex_pairs(eptm, e_1011):\n",
    "    \n",
    "    srce_orbits = eptm.get_orbits('srce', 'face')\n",
    "        \n",
    "    v10, v11 = eptm.edge_df.loc[e_1011, ['srce', 'trgt']]\n",
    "    v10_out = set(eptm.edge_df[eptm.edge_df['srce']==v10]['trgt']) - {v11}\n",
    "    faces_123 = {v: frozenset(srce_orbits.loc[v])\n",
    "                 for v in v10_out}\n",
    "    \n",
    "    v11_out = set(eptm.edge_df[eptm.edge_df['srce']==v11]['trgt']) - {v10}\n",
    "    faces_456 = {v: frozenset(srce_orbits.loc[v])\n",
    "                 for v in v11_out}\n",
    "    v_pairs = []\n",
    "    common_faces = []\n",
    "    for vi in v10_out:\n",
    "        for vj in v11_out:\n",
    "            common_face = faces_123[vi].intersection(faces_456[vj])\n",
    "            if len(common_face) > 0:\n",
    "                v_pairs.append((vi, vj))\n",
    "                common_faces.append(common_face)\n",
    "                break\n",
    "        else:\n",
    "            raise ValueError('No vertex for vertex %i' % vi)\n",
    "    return v_pairs, common_faces\n",
    "    \n",
    "    "
   ]
  },
  {
   "cell_type": "code",
   "execution_count": 81,
   "metadata": {
    "collapsed": true
   },
   "outputs": [],
   "source": [
    "from tyssue.draw.plt_draw import quick_edge_draw"
   ]
  },
  {
   "cell_type": "code",
   "execution_count": 79,
   "metadata": {
    "collapsed": false
   },
   "outputs": [],
   "source": []
  },
  {
   "cell_type": "code",
   "execution_count": 102,
   "metadata": {
    "collapsed": false
   },
   "outputs": [
    {
     "data": {
      "text/plain": [
       "[(24, 28), (33, 29), (69, 66)]"
      ]
     },
     "execution_count": 102,
     "metadata": {},
     "output_type": "execute_result"
    }
   ],
   "source": [
    "edge = 56\n",
    "IH_transition(eptm, edge, srce_orbits=None)"
   ]
  },
  {
   "cell_type": "code",
   "execution_count": 82,
   "metadata": {
    "collapsed": false
   },
   "outputs": [
    {
     "data": {
      "text/plain": [
       "(<matplotlib.figure.Figure at 0x7f8988d8e9b0>,\n",
       " <matplotlib.axes._subplots.AxesSubplot at 0x7f8988d8b550>)"
      ]
     },
     "execution_count": 82,
     "metadata": {},
     "output_type": "execute_result"
    },
    {
     "data": {
      "image/png": "[encoded data removed]",
      "text/plain": [
       "<matplotlib.figure.Figure at 0x7f8988d8e9b0>"
      ]
     },
     "metadata": {},
     "output_type": "display_data"
    }
   ],
   "source": [
    "quick_edge_draw(eptm, )"
   ]
  },
  {
   "cell_type": "code",
   "execution_count": null,
   "metadata": {
    "collapsed": true
   },
   "outputs": [],
   "source": []
  }
 ],
 "metadata": {
  "kernelspec": {
   "display_name": "Python 3",
   "language": "python",
   "name": "python3"
  },
  "language_info": {
   "codemirror_mode": {
    "name": "ipython",
    "version": 3
   },
   "file_extension": ".py",
   "mimetype": "text/x-python",
   "name": "python",
   "nbconvert_exporter": "python",
   "pygments_lexer": "ipython3",
   "version": "3.5.1"
  },
  "widgets": {
   "state": {
    "5c07abfcb0e5490b92b1d3c4d7d9b1cd": {
     "views": [
      {
       "cell_index": 9
      }
     ]
    },
    "e5060105f3b54cd88120f8fcc351b6de": {
     "views": [
      {
       "cell_index": 4
      }
     ]
    }
   },
   "version": "1.2.0"
  }
 },
 "nbformat": 4,
 "nbformat_minor": 0
}
