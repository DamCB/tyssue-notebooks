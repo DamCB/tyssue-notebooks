{
 "cells": [
  {
   "cell_type": "markdown",
   "metadata": {},
   "source": [
    "# Reversible Network Reconnection Model\n",
    "\n",
    "Attempt at implementing the RNR model as described in Okuda et al. 2012:\n",
    "\n",
    ">_Reversible network reconnection model for simulating large deformation in dynamic tissue morphogenesis_, Satoru Okuda, Yasuhiro Inoue, Mototsugu Eiraku, Yoshiki Sasai and Taiji Adachi Biomech Model Mechanobiol (2013) 12:627–644 [DOI 10.1007/s10237-012-0430-7](http://link.springer.com/article/10.1007%2Fs10237-012-0430-7)\n",
    "\n",
    "\n",
    "The authors give 4 conditions which we detail and implement bellow.\n",
    "\n",
    "\n"
   ]
  },
  {
   "cell_type": "markdown",
   "metadata": {},
   "source": [
    "## Condition 1 - Center of a face\n",
    "\n",
    "The center of a face is defined by the average position of the face's edges midpoints, weighted by their lengths.\n",
    "\n",
    "$$ \\mathbf{r}_{\\alpha} = \\frac{\\sum_{ij\\alpha}\\ell_{ij} (\\mathbf{r}_i + \\mathbf{r}_j)/2}{\\sum_{ij\\alpha}\\ell_{ij}}$$\n"
   ]
  },
  {
   "cell_type": "code",
   "execution_count": 1,
   "metadata": {
    "collapsed": false
   },
   "outputs": [
    {
     "name": "stdout",
     "output_type": "stream",
     "text": [
      "93 414 70\n"
     ]
    }
   ],
   "source": [
    "import numpy as np, pandas as pd\n",
    "from IPython.display import display\n",
    "import matplotlib.pyplot as plt\n",
    "%matplotlib inline\n",
    "\n",
    "from tyssue import Epithelium\n",
    "from tyssue import BulkGeometry\n",
    "from tyssue import Sheet\n",
    "from tyssue.config.geometry import bulk_spec\n",
    "from tyssue.utils.utils import _to_3d \n",
    "from tyssue.core.generation import three_faces_sheet\n",
    "from tyssue.core.generation import extrude\n",
    "from tyssue.draw.threejs_draw import view_3js\n",
    "from tyssue.draw.plt_draw import quick_edge_draw\n",
    "from tyssue.topology.bulk_topology import IH_transition, HI_transition\n",
    "\n",
    "    \n",
    "class RNRGeometry(BulkGeometry):\n",
    "    \n",
    "    @staticmethod\n",
    "    def update_centroid(eptm):\n",
    "\n",
    "        srce_pos = eptm.upcast_srce(eptm.vert_df[eptm.coords])\n",
    "        trgt_pos = eptm.upcast_trgt(eptm.vert_df[eptm.coords])\n",
    "        mid_pos = (srce_pos + trgt_pos)/2\n",
    "        \n",
    "        eptm.face_df[eptm.coords] = (eptm.sum_face(mid_pos * _to_3d(eptm.edge_df['length'])).values /\n",
    "                                     eptm.face_df['perimeter'].values[:, np.newaxis])\n",
    "        srce_pos['cell'] = eptm.edge_df['cell']\n",
    "        eptm.cell_df[eptm.coords] = srce_pos.groupby('cell').mean()\n",
    "\n",
    "sheet = Sheet.planar_sheet_3d('sheet', 5, 5, 1, 1)\n",
    "sheet.sanitize()\n",
    "datasets = extrude(sheet.datasets, method='translation')\n",
    "\n",
    "eptm = Epithelium('20faces_3D', datasets, bulk_spec())\n",
    "RNRGeometry.update_all(eptm)\n",
    "RNRGeometry.center(eptm)\n",
    "\n",
    "\n",
    "eptm.settings['threshold_length'] = 1e-4\n",
    "print(eptm.Nf, eptm.Ne, eptm.Nv)\n",
    "\n",
    "render, line = view_3js(eptm)\n",
    "display(render)"
   ]
  },
  {
   "cell_type": "markdown",
   "metadata": {},
   "source": [
    "## I→H transition\n",
    "\n",
    "![IH transition in a bulk and a monolayer](../data/png/IH_transition.png)\n",
    "\n"
   ]
  },
  {
   "cell_type": "code",
   "execution_count": 2,
   "metadata": {
    "collapsed": false
   },
   "outputs": [],
   "source": [
    "e_1011 = 26\n",
    "eptm.settings['threshold_length'] = 1\n",
    "\n",
    "IH_transition(eptm, e_1011)\n",
    "RNRGeometry.update_all(eptm)\n",
    "\n",
    "\n",
    "render, line = view_3js(eptm)\n",
    "display(render)"
   ]
  },
  {
   "cell_type": "markdown",
   "metadata": {},
   "source": [
    "# H → I transition"
   ]
  },
  {
   "cell_type": "code",
   "execution_count": 3,
   "metadata": {
    "collapsed": false
   },
   "outputs": [],
   "source": [
    "fa = 93\n",
    "\n",
    "HI_transition(eptm, fa)\n",
    "RNRGeometry.update_all(eptm)\n",
    "\n",
    "render, line = view_3js(eptm)\n",
    "display(render)"
   ]
  },
  {
   "cell_type": "markdown",
   "metadata": {},
   "source": [
    "### Testing for I→H / H →I transition triggers"
   ]
  },
  {
   "cell_type": "code",
   "execution_count": 4,
   "metadata": {
    "collapsed": false
   },
   "outputs": [],
   "source": [
    "eptm.settings['threshold_length'] = 1e-3"
   ]
  },
  {
   "cell_type": "code",
   "execution_count": 5,
   "metadata": {
    "collapsed": false,
    "scrolled": true
   },
   "outputs": [
    {
     "data": {
      "text/plain": [
       "(set(), set())"
      ]
     },
     "execution_count": 5,
     "metadata": {},
     "output_type": "execute_result"
    }
   ],
   "source": [
    "def find_rearangements(eptm):\n",
    "    l_th = eptm.settings['threshold_length']\n",
    "    up_num_sides = eptm.upcast_face(eptm.face_df['num_sides'])   \n",
    "    shorts = eptm.edge_df[eptm.edge_df['length'] < l_th]\n",
    "    non_triangular = up_num_sides[up_num_sides > 4 ].index\n",
    "    edges_IH = set(shorts.index).intersection(non_triangular)\n",
    "\n",
    "    max_f_length = shorts.groupby('face')['length'].apply(max)\n",
    "    short_faces = max_f_length[max_f_length < l_th].index\n",
    "    three_faces = eptm.face_df[eptm.face_df['num_sides'] == 3].index\n",
    "    faces_HI = set(three_faces).intersection(short_faces)\n",
    "    return edges_IH, faces_HI\n",
    "\n",
    "find_rearangements(eptm)"
   ]
  },
  {
   "cell_type": "markdown",
   "metadata": {},
   "source": [
    "### Condition 3\n",
    "\n",
    "This condition is satisfied if `eptm.settings['threshold_length']`\n",
    "is well defined, i.e, small with respect to the unit length or the\n",
    "average edge length.\n",
    "\n",
    "### Condition 4\n",
    "\n",
    "* (i)  Two edges never share two vertices simultaneously.\n",
    "\n",
    "_In our half-edge architecture, this is not as straight forward. But I think the condition can\n",
    "be reformulated as:_ Two edges **from the same face** never share two edges simultanously.\n",
    "I don't know how to demonstrate this, but I think these are equvalent (to get two edges together, you need to \"squeeze\" one face between those two.\n",
    "\n",
    "* (ii) Two polygonal faces never share two or more edges simultaneously.\n"
   ]
  },
  {
   "cell_type": "code",
   "execution_count": 6,
   "metadata": {
    "collapsed": true
   },
   "outputs": [],
   "source": [
    "def condition_4i(eptm):\n",
    "    \n",
    "    num_srces = eptm.edge_df.groupby('face')['srce'].apply(lambda s: len(set(s)))\n",
    "    num_sides = eptm.face_df['num_sides']\n",
    "    return eptm.face_df[num_srces != num_sides].index\n",
    "\n",
    "\n",
    "from itertools import combinations\n",
    "\n",
    "def get_neighbour_face_pairs(eptm):\n",
    "    pairs = []\n",
    "    eptm.edge_df['v_pair'] =  eptm.edge_df[['srce', 'trgt']].apply(frozenset, axis=1)\n",
    "\n",
    "    _ = eptm.edge_df.groupby('v_pair')['face'].apply(\n",
    "        lambda s: pairs.extend([frozenset((a, b)) for a, b in combinations(s.values, 2)]))\n",
    "    return pd.Series(pairs).drop_duplicates()\n",
    "\n",
    "def get_num_common_edges(eptm):\n",
    "    pairs = get_neighbour_face_pairs(eptm)\n",
    "    face_v_pair_orbit = eptm.edge_df.groupby('face').apply(\n",
    "        lambda df: frozenset(df['v_pair']))\n",
    "    n_common = [\n",
    "        len(face_v_pair_orbit.loc[fa].intersection(face_v_pair_orbit.loc[fb]))\n",
    "        if face_v_pair_orbit.loc[fb] != face_v_pair_orbit.loc[fa]\n",
    "        else -1 for fa, fb in pairs]\n",
    "    n_common = pd.Series(n_common, index=pd.Index(pairs, name='face_pairs'))\n",
    "    return n_common\n",
    "\n",
    "def condition_4ii(eptm):\n",
    "    n_common = get_num_common_edges(eptm)\n",
    "    return n_common[n_common > 2]"
   ]
  },
  {
   "cell_type": "code",
   "execution_count": 7,
   "metadata": {
    "collapsed": false
   },
   "outputs": [
    {
     "data": {
      "text/plain": [
       "(Int64Index([], dtype='int64', name='face'), Series([], dtype: int64))"
      ]
     },
     "execution_count": 7,
     "metadata": {},
     "output_type": "execute_result"
    }
   ],
   "source": [
    "condition_4i(eptm), condition_4ii(eptm)"
   ]
  },
  {
   "cell_type": "code",
   "execution_count": 8,
   "metadata": {
    "collapsed": true
   },
   "outputs": [],
   "source": [
    "eptm.settings['threshold_length'] = 0.5\n",
    "\n",
    "IH_transition(eptm, eptm.edge_df.index[-1])\n",
    "RNRGeometry.update_all(eptm)\n",
    "\n",
    "render, line = view_3js(eptm)\n",
    "display(render)"
   ]
  },
  {
   "cell_type": "code",
   "execution_count": 11,
   "metadata": {
    "collapsed": false
   },
   "outputs": [
    {
     "name": "stdout",
     "output_type": "stream",
     "text": [
      "Automatic pdb calling has been turned ON\n"
     ]
    }
   ],
   "source": [
    "%pdb"
   ]
  },
  {
   "cell_type": "code",
   "execution_count": 12,
   "metadata": {
    "collapsed": false
   },
   "outputs": [
    {
     "data": {
      "text/plain": [
       "[<matplotlib.lines.Line2D at 0x7fd60584c278>]"
      ]
     },
     "execution_count": 12,
     "metadata": {},
     "output_type": "execute_result"
    },
    {
     "data": {
      "image/png": "[encoded data removed]",
      "text/plain": [
       "<matplotlib.figure.Figure at 0x7fd634684710>"
      ]
     },
     "metadata": {},
     "output_type": "display_data"
    }
   ],
   "source": [
    "fig, ax = quick_edge_draw(eptm)\n",
    "e_1011 = eptm.edge_df.index[-1]\n",
    "vs_1011 = eptm.vert_df.loc[eptm.edge_df.loc[e_1011, ['srce', 'trgt']].values, eptm.coords]\n",
    "\n",
    "ax.plot(vs_1011.x, vs_1011.y, 'o')"
   ]
  },
  {
   "cell_type": "code",
   "execution_count": 13,
   "metadata": {
    "collapsed": false
   },
   "outputs": [
    {
     "ename": "ValueError",
     "evalue": "no face with vertices 51, 51, 71 and 72 was found for cell 0",
     "output_type": "error",
     "traceback": [
      "\u001b[0;31m---------------------------------------------------------------------------\u001b[0m",
      "\u001b[0;31mValueError\u001b[0m                                Traceback (most recent call last)",
      "\u001b[0;32m<ipython-input-13-f71ea112c497>\u001b[0m in \u001b[0;36m<module>\u001b[0;34m()\u001b[0m\n\u001b[0;32m----> 1\u001b[0;31m \u001b[0mIH_transition\u001b[0m\u001b[0;34m(\u001b[0m\u001b[0meptm\u001b[0m\u001b[0;34m,\u001b[0m \u001b[0meptm\u001b[0m\u001b[0;34m.\u001b[0m\u001b[0medge_df\u001b[0m\u001b[0;34m.\u001b[0m\u001b[0mindex\u001b[0m\u001b[0;34m[\u001b[0m\u001b[0;34m-\u001b[0m\u001b[0;36m1\u001b[0m\u001b[0;34m]\u001b[0m\u001b[0;34m)\u001b[0m\u001b[0;34m\u001b[0m\u001b[0m\n\u001b[0m\u001b[1;32m      2\u001b[0m \u001b[0mRNRGeometry\u001b[0m\u001b[0;34m.\u001b[0m\u001b[0mupdate_all\u001b[0m\u001b[0;34m(\u001b[0m\u001b[0meptm\u001b[0m\u001b[0;34m)\u001b[0m\u001b[0;34m\u001b[0m\u001b[0m\n\u001b[1;32m      3\u001b[0m \u001b[0;34m\u001b[0m\u001b[0m\n\u001b[1;32m      4\u001b[0m \u001b[0mrender\u001b[0m\u001b[0;34m,\u001b[0m \u001b[0mline\u001b[0m \u001b[0;34m=\u001b[0m \u001b[0mview_3js\u001b[0m\u001b[0;34m(\u001b[0m\u001b[0meptm\u001b[0m\u001b[0;34m)\u001b[0m\u001b[0;34m\u001b[0m\u001b[0m\n\u001b[1;32m      5\u001b[0m \u001b[0mdisplay\u001b[0m\u001b[0;34m(\u001b[0m\u001b[0mrender\u001b[0m\u001b[0;34m)\u001b[0m\u001b[0;34m\u001b[0m\u001b[0m\n",
      "\u001b[0;32m/home/guillaume/miniconda3/envs/tyssue/lib/python3.5/site-packages/tyssue-0.0.2-py3.5.egg/tyssue/topology/bulk_topology.py\u001b[0m in \u001b[0;36mIH_transition\u001b[0;34m(eptm, e_1011)\u001b[0m\n\u001b[1;32m    279\u001b[0m         \u001b[0;32mif\u001b[0m \u001b[0margs\u001b[0m\u001b[0;34m[\u001b[0m\u001b[0;36m0\u001b[0m\u001b[0;34m]\u001b[0m \u001b[0;32mis\u001b[0m \u001b[0;32mNone\u001b[0m\u001b[0;34m:\u001b[0m\u001b[0;34m\u001b[0m\u001b[0m\n\u001b[1;32m    280\u001b[0m             \u001b[0;32mcontinue\u001b[0m\u001b[0;34m\u001b[0m\u001b[0m\n\u001b[0;32m--> 281\u001b[0;31m         \u001b[0m_add_edge_to_existing\u001b[0m\u001b[0;34m(\u001b[0m\u001b[0meptm\u001b[0m\u001b[0;34m,\u001b[0m \u001b[0;34m*\u001b[0m\u001b[0margs\u001b[0m\u001b[0;34m)\u001b[0m\u001b[0;34m\u001b[0m\u001b[0m\n\u001b[0m\u001b[1;32m    282\u001b[0m \u001b[0;34m\u001b[0m\u001b[0m\n\u001b[1;32m    283\u001b[0m     \u001b[0;31m# Removing the remaining edges and vertices\u001b[0m\u001b[0;34m\u001b[0m\u001b[0;34m\u001b[0m\u001b[0m\n",
      "\u001b[0;32m/home/guillaume/miniconda3/envs/tyssue/lib/python3.5/site-packages/tyssue-0.0.2-py3.5.egg/tyssue/topology/bulk_topology.py\u001b[0m in \u001b[0;36m_add_edge_to_existing\u001b[0;34m(eptm, cell, vi, vj, new_srce, new_trgt)\u001b[0m\n\u001b[1;32m    409\u001b[0m         raise ValueError('no face with vertices {}, {}, {} and {}'\n\u001b[1;32m    410\u001b[0m                          \u001b[0;34m' was found for cell {}'\u001b[0m\u001b[0;34m\u001b[0m\u001b[0m\n\u001b[0;32m--> 411\u001b[0;31m                          .format(vi, vj, new_srce, new_trgt, cell))\n\u001b[0m\u001b[1;32m    412\u001b[0m     eptm.edge_df = eptm.edge_df.append(cell_edges.iloc[-1],\n\u001b[1;32m    413\u001b[0m                                        ignore_index=True)\n",
      "\u001b[0;31mValueError\u001b[0m: no face with vertices 51, 51, 71 and 72 was found for cell 0"
     ]
    },
    {
     "name": "stdout",
     "output_type": "stream",
     "text": [
      "> \u001b[0;32m/home/guillaume/miniconda3/envs/tyssue/lib/python3.5/site-packages/tyssue-0.0.2-py3.5.egg/tyssue/topology/bulk_topology.py\u001b[0m(411)\u001b[0;36m_add_edge_to_existing\u001b[0;34m()\u001b[0m\n",
      "\u001b[0;32m    409 \u001b[0;31m        raise ValueError('no face with vertices {}, {}, {} and {}'\n",
      "\u001b[0m\u001b[0;32m    410 \u001b[0;31m                         \u001b[0;34m' was found for cell {}'\u001b[0m\u001b[0;34m\u001b[0m\u001b[0m\n",
      "\u001b[0m\u001b[0;32m--> 411 \u001b[0;31m                         .format(vi, vj, new_srce, new_trgt, cell))\n",
      "\u001b[0m\u001b[0;32m    412 \u001b[0;31m    eptm.edge_df = eptm.edge_df.append(cell_edges.iloc[-1],\n",
      "\u001b[0m\u001b[0;32m    413 \u001b[0;31m                                       ignore_index=True)\n",
      "\u001b[0m\n",
      "ipdb> cell_edges\n",
      "           dy    length  srce        dx            nz  trgt  face        nx  \\\n",
      "3   -0.750000  0.750000     4  0.000000  3.192054e-01     3     0  0.021698   \n",
      "7    0.083831  0.664532    68 -0.645585  2.787831e-01     4     0  0.062555   \n",
      "10  -0.250000  0.559017     3  0.500000  2.378534e-01     6     0  0.007233   \n",
      "18   0.666169  0.766282    16 -0.354415  2.894657e-01    68     0  0.015799   \n",
      "24   0.250000  0.559017     6  0.500000  2.750497e-01    16     0 -0.007233   \n",
      "70   0.750000  0.750000    36  0.000000 -3.750000e-01    37    12 -0.000000   \n",
      "74   0.250000  0.559017    37  0.500000 -3.125000e-01    39    12  0.000000   \n",
      "77   0.250000  0.559017    40 -0.500000 -3.125000e-01    36    12 -0.000000   \n",
      "85  -0.750000  0.750000    51  0.000000 -3.750000e-01    50    12  0.000000   \n",
      "91  -0.250000  0.559017    50 -0.500000 -3.125000e-01    40    12  0.000000   \n",
      "94  -0.250000  0.559017    39  0.500000 -3.125000e-01    51    12  0.000000   \n",
      "148  0.750000  0.750000     3  0.000000  0.000000e+00     4    27 -0.375000   \n",
      "149  0.000000  1.000000     4  0.000000  0.000000e+00    37    27 -0.375000   \n",
      "150 -0.750000  0.750000    37  0.000000 -0.000000e+00    36    27 -0.375000   \n",
      "151  0.000000  1.000000    36  0.000000  0.000000e+00     3    27 -0.375000   \n",
      "164 -0.083831  0.664532     4  0.645585  5.596528e-02    68    31  0.049696   \n",
      "165  0.125000  0.508223    69 -0.250000  7.409878e-02    39    31 -0.026744   \n",
      "166 -0.250000  0.559017    39 -0.500000  5.612877e-02    37    31 -0.119968   \n",
      "167  0.000000  1.000000    37  0.000000  0.000000e+00     4    31 -0.045674   \n",
      "176  0.250000  0.559017     6 -0.500000  5.551115e-17     3    34 -0.125000   \n",
      "177  0.000000  1.000000     3  0.000000 -0.000000e+00    36    34 -0.125000   \n",
      "178 -0.250000  0.559017    36  0.500000 -5.551115e-17    40    34 -0.125000   \n",
      "179  0.000000  1.000000    40  0.000000  0.000000e+00     6    34 -0.125000   \n",
      "208 -0.666169  0.766282    68  0.354415  6.798147e-02    16    42  0.304578   \n",
      "209  0.000000  1.000000    16  0.000000  0.000000e+00    50    42  0.378694   \n",
      "210  0.750000  0.750000    50  0.000000  7.456852e-02    51    42  0.350218   \n",
      "211  0.125000  0.508223    51 -0.250000  1.052545e-01    71    42  0.215974   \n",
      "232 -0.250000  0.559017    16 -0.500000  0.000000e+00     6    48  0.125000   \n",
      "233  0.000000  1.000000     6  0.000000  0.000000e+00    40    48  0.125000   \n",
      "234  0.250000  0.559017    40  0.500000  0.000000e+00    50    48  0.125000   \n",
      "235  0.000000  1.000000    50  0.000000  0.000000e+00    16    48  0.125000   \n",
      "243 -0.125000  0.508223    71  0.250000  1.387779e-17    51    51  0.035942   \n",
      "244  0.250000  0.559017    51 -0.500000  0.000000e+00    39    51  0.034231   \n",
      "245 -0.125000  0.508223    39  0.250000  1.387779e-17    69    51  0.035942   \n",
      "422  0.208831  0.500000    68  0.104415  8.237848e-02    73    31 -0.023502   \n",
      "423 -0.208831  0.500000    73 -0.104415  8.326679e-02    68    42  0.210561   \n",
      "427 -0.208831  0.500000    72 -0.104415  8.237848e-02    71    96  0.023502   \n",
      "429 -0.208831  0.500000    73 -0.104415  8.237848e-02    72    96  0.023502   \n",
      "431 -0.208831  0.500000    71 -0.104415  8.237848e-02    73    96  0.023502   \n",
      "\n",
      "           dz        ny   segment  cell   sub_vol  sub_area    v_pair  \n",
      "3    0.000000  0.000000    apical   0.0  0.027967  0.159971    (3, 4)  \n",
      "7    0.133402  0.038100    apical   0.0  0.023347  0.144122   (68, 4)  \n",
      "10   0.000000  0.014465    apical   0.0  0.020709  0.119201    (3, 6)  \n",
      "18  -0.133402  0.066372    apical   0.0  0.024356  0.148699  (16, 69)  \n",
      "24   0.000000  0.014465    apical   0.0  0.024154  0.137762   (16, 6)  \n",
      "70   0.000000  0.000000     basal   0.0  0.027558  0.187500  (36, 37)  \n",
      "74   0.000000  0.000000     basal   0.0  0.022965  0.156250  (37, 39)  \n",
      "77   0.000000 -0.000000     basal   0.0  0.022965  0.156250  (40, 36)  \n",
      "85   0.000000  0.000000     basal   0.0  0.027558  0.187500  (50, 51)  \n",
      "91   0.000000 -0.000000     basal   0.0  0.022965  0.156250  (40, 50)  \n",
      "94   0.000000  0.000000     basal   0.0  0.022965  0.156250  (51, 39)  \n",
      "148  0.000000  0.000000  sagittal   0.0  0.030706  0.187500    (3, 4)  \n",
      "149 -1.000000  0.000000  sagittal   0.0  0.030706  0.187500   (4, 37)  \n",
      "150  0.000000 -0.000000  sagittal   0.0  0.030706  0.187500  (36, 37)  \n",
      "151  1.000000 -0.000000  sagittal   0.0  0.030706  0.187500   (3, 36)  \n",
      "164 -0.133402  0.293651  sagittal   0.0  0.020350  0.151520   (4, 68)  \n",
      "165 -0.424459  0.198126  sagittal   0.0  0.015729  0.106607  (68, 39)  \n",
      "166  0.000000  0.239935  sagittal   0.0  0.021390  0.137032  (37, 39)  \n",
      "167  1.000000  0.315862  sagittal   0.0  0.024397  0.159574   (4, 37)  \n",
      "176  0.000000 -0.250000  sagittal   0.0  0.025135  0.139754    (3, 6)  \n",
      "177 -1.000000 -0.250000  sagittal   0.0  0.025135  0.139754   (3, 36)  \n",
      "178  0.000000 -0.250000  sagittal   0.0  0.025135  0.139754  (40, 36)  \n",
      "179  1.000000 -0.250000  sagittal   0.0  0.025135  0.139754   (40, 6)  \n",
      "208  0.133402  0.175655  sagittal   0.0  0.021689  0.179056  (16, 69)  \n",
      "209 -1.000000  0.099425  sagittal   0.0  0.026181  0.195764  (16, 50)  \n",
      "210  0.000000 -0.000000  sagittal   0.0  0.024213  0.179034  (50, 51)  \n",
      "211  0.424459  0.074538  sagittal   0.0  0.015451  0.125777  (51, 69)  \n",
      "232  0.000000 -0.250000  sagittal   0.0  0.025498  0.139754   (16, 6)  \n",
      "233 -1.000000 -0.250000  sagittal   0.0  0.025498  0.139754   (40, 6)  \n",
      "234  0.000000 -0.250000  sagittal   0.0  0.025498  0.139754  (40, 50)  \n",
      "235  1.000000 -0.250000  sagittal   0.0  0.025498  0.139754  (16, 50)  \n",
      "243 -0.424459  0.071884  sagittal   0.0  0.007748  0.040184  (51, 69)  \n",
      "244  0.000000  0.068462  sagittal   0.0  0.007380  0.038272  (51, 39)  \n",
      "245  0.424459  0.071884  sagittal   0.0  0.007748  0.040184  (68, 39)  \n",
      "422 -0.442139  0.186163  sagittal   0.0  0.014814  0.102464  (68, 69)  \n",
      "423  0.442139  0.071013  sagittal   0.0  0.014974  0.118651  (68, 69)  \n",
      "427 -0.442139 -0.186163  sagittal   0.0  0.014814  0.102464  (68, 69)  \n",
      "429 -0.442139 -0.186163  sagittal   0.0  0.014814  0.102464  (68, 69)  \n",
      "431 -0.442139 -0.186163  sagittal   0.0  0.014814  0.102464  (68, 69)  \n",
      "ipdb> cell_edges[['srce', 'trgt']]\n",
      "     srce  trgt\n",
      "3       4     3\n",
      "7      68     4\n",
      "10      3     6\n",
      "18     16    68\n",
      "24      6    16\n",
      "70     36    37\n",
      "74     37    39\n",
      "77     40    36\n",
      "85     51    50\n",
      "91     50    40\n",
      "94     39    51\n",
      "148     3     4\n",
      "149     4    37\n",
      "150    37    36\n",
      "151    36     3\n",
      "164     4    68\n",
      "165    69    39\n",
      "166    39    37\n",
      "167    37     4\n",
      "176     6     3\n",
      "177     3    36\n",
      "178    36    40\n",
      "179    40     6\n",
      "208    68    16\n",
      "209    16    50\n",
      "210    50    51\n",
      "211    51    71\n",
      "232    16     6\n",
      "233     6    40\n",
      "234    40    50\n",
      "235    50    16\n",
      "243    71    51\n",
      "244    51    39\n",
      "245    39    69\n",
      "422    68    73\n",
      "423    73    68\n",
      "427    72    71\n",
      "429    73    72\n",
      "431    71    73\n",
      "ipdb> ell_edges[['srce', 'trgt', 'face']]\n",
      "*** NameError: name 'ell_edges' is not defined\n",
      "ipdb> cell_edges[['srce', 'trgt', 'face']]\n",
      "     srce  trgt  face\n",
      "3       4     3     0\n",
      "7      68     4     0\n",
      "10      3     6     0\n",
      "18     16    68     0\n",
      "24      6    16     0\n",
      "70     36    37    12\n",
      "74     37    39    12\n",
      "77     40    36    12\n",
      "85     51    50    12\n",
      "91     50    40    12\n",
      "94     39    51    12\n",
      "148     3     4    27\n",
      "149     4    37    27\n",
      "150    37    36    27\n",
      "151    36     3    27\n",
      "164     4    68    31\n",
      "165    69    39    31\n",
      "166    39    37    31\n",
      "167    37     4    31\n",
      "176     6     3    34\n",
      "177     3    36    34\n",
      "178    36    40    34\n",
      "179    40     6    34\n",
      "208    68    16    42\n",
      "209    16    50    42\n",
      "210    50    51    42\n",
      "211    51    71    42\n",
      "232    16     6    48\n",
      "233     6    40    48\n",
      "234    40    50    48\n",
      "235    50    16    48\n",
      "243    71    51    51\n",
      "244    51    39    51\n",
      "245    39    69    51\n",
      "422    68    73    31\n",
      "423    73    68    42\n",
      "427    72    71    96\n",
      "429    73    72    96\n",
      "431    71    73    96\n",
      "ipdb> new_srce, new_trgt\n",
      "(71, 72)\n",
      "ipdb> cell_edges[['srce', 'trgt', 'face']].sort_values('face')\n",
      "     srce  trgt  face\n",
      "3       4     3     0\n",
      "7      68     4     0\n",
      "10      3     6     0\n",
      "18     16    68     0\n",
      "24      6    16     0\n",
      "91     50    40    12\n",
      "85     51    50    12\n",
      "94     39    51    12\n",
      "74     37    39    12\n",
      "70     36    37    12\n",
      "77     40    36    12\n",
      "148     3     4    27\n",
      "149     4    37    27\n",
      "150    37    36    27\n",
      "151    36     3    27\n",
      "422    68    73    31\n",
      "164     4    68    31\n",
      "165    69    39    31\n",
      "166    39    37    31\n",
      "167    37     4    31\n",
      "179    40     6    34\n",
      "176     6     3    34\n",
      "177     3    36    34\n",
      "178    36    40    34\n",
      "208    68    16    42\n",
      "209    16    50    42\n",
      "210    50    51    42\n",
      "211    51    71    42\n",
      "423    73    68    42\n",
      "235    50    16    48\n",
      "233     6    40    48\n",
      "232    16     6    48\n",
      "234    40    50    48\n",
      "243    71    51    51\n",
      "244    51    39    51\n",
      "245    39    69    51\n",
      "429    73    72    96\n",
      "427    72    71    96\n",
      "431    71    73    96\n",
      "ipdb> c\n"
     ]
    }
   ],
   "source": [
    "IH_transition(eptm, eptm.edge_df.index[-1])\n",
    "RNRGeometry.update_all(eptm)\n",
    "\n",
    "render, line = view_3js(eptm)\n",
    "display(render)"
   ]
  },
  {
   "cell_type": "code",
   "execution_count": 114,
   "metadata": {
    "collapsed": true
   },
   "outputs": [],
   "source": [
    "render, line = view_3js(eptm)\n",
    "display(render)"
   ]
  },
  {
   "cell_type": "code",
   "execution_count": null,
   "metadata": {
    "collapsed": true
   },
   "outputs": [],
   "source": []
  }
 ],
 "metadata": {
  "anaconda-cloud": {},
  "kernelspec": {
   "display_name": "Python [default]",
   "language": "python",
   "name": "python3"
  },
  "language_info": {
   "codemirror_mode": {
    "name": "ipython",
    "version": 3
   },
   "file_extension": ".py",
   "mimetype": "text/x-python",
   "name": "python",
   "nbconvert_exporter": "python",
   "pygments_lexer": "ipython3",
   "version": "3.5.2"
  },
  "widgets": {
   "state": {
    "6bfe57345f7f410cb81d2bfef01046dd": {
     "views": [
      {
       "cell_index": 2
      }
     ]
    },
    "9338e001d9604fd8adaca8af4e91df1b": {
     "views": [
      {
       "cell_index": 4
      }
     ]
    },
    "c39c06a864f14b989707d84b48003822": {
     "views": [
      {
       "cell_index": 6
      }
     ]
    },
    "d39ded5fc68f4e2cb2d8bed78bad7b23": {
     "views": [
      {
       "cell_index": 13
      }
     ]
    },
    "fed32528266a426082146bd2f9b7dce1": {
     "views": [
      {
       "cell_index": 17
      }
     ]
    }
   },
   "version": "1.2.0"
  }
 },
 "nbformat": 4,
 "nbformat_minor": 0
}
