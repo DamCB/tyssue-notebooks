{
 "cells": [
  {
   "cell_type": "code",
   "execution_count": 5,
   "metadata": {
    "collapsed": false
   },
   "outputs": [],
   "source": [
    "import pandas as pd\n",
    "import numpy as np\n",
    "import json\n",
    "import matplotlib.pylab as plt\n",
    "%matplotlib inline\n",
    "\n",
    "from tyssue.core.sheet import Sheet\n",
    "\n",
    "from tyssue import config\n",
    "from tyssue.topology.sheet_topology import cell_division\n",
    "\n",
    "from tyssue.geometry.sheet_geometry import SheetGeometry as geom\n",
    "from tyssue.solvers.sheet_vertex_solver import Solver as solver\n",
    "from tyssue.dynamics.sheet_vertex_model import SheetModel as model\n",
    "\n",
    "from tyssue.core.generation import extrude\n",
    "from tyssue.core.monolayer import Monolayer, MonolayerWithLamina\n",
    "from tyssue.geometry.bulk_geometry import BulkGeometry, MonoLayerGeometry\n",
    "from tyssue.dynamics.bulk_model import BulkModel, LaminaModel, set_model\n",
    "from tyssue.solvers.sheet_vertex_solver import Solver\n",
    "\n",
    "from tyssue.draw.vispy_draw import vp_view\n",
    "\n",
    "from tyssue.draw.plt_draw import sheet_view\n",
    "\n",
    "from tyssue.topology.sheet_topology import remove_face\n",
    "from tyssue.core.objects import get_opposite\n",
    "from tyssue.io.hdf5 import save_datasets, load_datasets\n",
    "\n",
    "from tyssue.topology.monolayer_topology import cell_division"
   ]
  },
  {
   "cell_type": "code",
   "execution_count": 6,
   "metadata": {
    "collapsed": false
   },
   "outputs": [],
   "source": [
    "datasets = load_datasets('small_ellipsoid.hf5',\n",
    "                         data_names=['vert', 'edge',\n",
    "                                     'face', 'cell'])\n",
    "specs = config.geometry.bulk_spec()\n",
    "\n",
    "monolayer = Monolayer('ell', datasets, specs)\n",
    "monolayer.reset_index()\n",
    "monolayer.reset_topo()\n",
    "\n",
    "\n",
    "# ## Settings for the quasi-static model\n",
    "# ### Apical layer\n",
    "apical_spec = {\n",
    "    'edge': {\n",
    "        'line_tension': 0.12,},\n",
    "    'face': {\n",
    "        'contractility': 0.04,\n",
    "        'prefered_area': 0.8,\n",
    "        'area_elasticity': 1.0},\n",
    "    'cell': {\n",
    "        'prefered_vol': 1.0,\n",
    "        'vol_elasticity': 1.0},\n",
    "    'settings': {\n",
    "        'grad_norm_factor': 1.0,\n",
    "        'nrj_norm_factor': 1.0},}\n",
    "\n",
    "# ### Modifier for each segment of the stratum\n",
    "modifiers = {\n",
    "    'sagittal': {\n",
    "        'edge': {\n",
    "            'line_tension': 0.1},\n",
    "        'face': {\n",
    "            'contractility': 0.05,\n",
    "            'prefered_area': 0.2}\n",
    "    },\n",
    "    'basal': {\n",
    "        'edge': {\n",
    "            'line_tension': 0.5},\n",
    "        'face': {\n",
    "            'contractility': 0.1,\n",
    "            'prefered_area': 0.2}},\n",
    "    }\n",
    "\n",
    "set_model(monolayer, BulkModel, apical_spec, modifiers)\n",
    "\n",
    "\n",
    "\n"
   ]
  },
  {
   "cell_type": "code",
   "execution_count": 7,
   "metadata": {
    "collapsed": true
   },
   "outputs": [],
   "source": [
    "mother = 10\n"
   ]
  },
  {
   "cell_type": "code",
   "execution_count": 8,
   "metadata": {
    "collapsed": false
   },
   "outputs": [],
   "source": [
    "mother_faces = set(\n",
    "    monolayer.edge_df[monolayer.edge_df['cell'] == mother]['face'])\n",
    "\n",
    "monolayer.face_df['visible'] = 0\n",
    "monolayer.face_df.loc[mother_faces, 'visible'] = 1\n",
    "\n",
    "#res = Solver.find_energy_min(monolayer, BulkGeometry, BulkModel)\n",
    "draw_specs = config.draw.sheet_spec()\n",
    "draw_specs['face']['visible'] = True\n",
    "canvas, view = vp_view(monolayer, **draw_specs)"
   ]
  },
  {
   "cell_type": "code",
   "execution_count": 9,
   "metadata": {
    "collapsed": false
   },
   "outputs": [],
   "source": [
    "\n",
    "daughter = cell_division(monolayer, mother, orientation='vertical')\n",
    "\n"
   ]
  },
  {
   "cell_type": "code",
   "execution_count": 10,
   "metadata": {
    "collapsed": false
   },
   "outputs": [],
   "source": [
    "monolayer.face_df['visible'] = 0\n",
    "\n",
    "mother_faces = set(\n",
    "    monolayer.edge_df[monolayer.edge_df['cell'] == mother]['face'])\n",
    "daughter_faces = set(\n",
    "    monolayer.edge_df[monolayer.edge_df['cell'] == daughter]['face'])\n",
    "monolayer.face_df.loc[daughter_faces, 'visible'] = 0\n",
    "monolayer.face_df.loc[mother_faces, 'visible'] = 0\n"
   ]
  },
  {
   "cell_type": "code",
   "execution_count": 11,
   "metadata": {
    "collapsed": false
   },
   "outputs": [],
   "source": [
    "rho = np.linalg.norm(monolayer.vert_df[monolayer.coords], axis=1)\n",
    "rho = pd.Series(rho, index=monolayer.vert_df.index)\n",
    "\n",
    "colors = plt.cm.viridis(rho / rho.max())\n",
    "draw_specs['edge']['color'] = colors\n",
    "draw_specs['face']['color'] = '#aaaaaaaa'\n",
    "\n",
    "canvas, view = vp_view(monolayer, coords=['z', 'x', 'y'], **draw_specs)"
   ]
  },
  {
   "cell_type": "code",
   "execution_count": 12,
   "metadata": {
    "collapsed": false
   },
   "outputs": [],
   "source": [
    "res = solver.find_energy_min(monolayer, MonoLayerGeometry, BulkModel)\n"
   ]
  },
  {
   "cell_type": "code",
   "execution_count": 14,
   "metadata": {
    "collapsed": true
   },
   "outputs": [],
   "source": [
    "from tyssue.io import obj"
   ]
  },
  {
   "cell_type": "code",
   "execution_count": 15,
   "metadata": {
    "collapsed": false
   },
   "outputs": [
    {
     "name": "stderr",
     "output_type": "stream",
     "text": [
      "WARNING: Faces doesn't appear to be triangular,\n",
      "                be advised the file cannot be read back in vispy\n"
     ]
    }
   ],
   "source": [
    "obj.save_junction_mesh('ellipsoid.obj', monolayer)"
   ]
  },
  {
   "cell_type": "code",
   "execution_count": 9,
   "metadata": {
    "collapsed": true
   },
   "outputs": [],
   "source": [
    "img = canvas.render()"
   ]
  },
  {
   "cell_type": "code",
   "execution_count": 10,
   "metadata": {
    "collapsed": false
   },
   "outputs": [],
   "source": [
    "import vispy as vp\n",
    "vp.io.imsave('ellipsis.png', img)"
   ]
  },
  {
   "cell_type": "code",
   "execution_count": 12,
   "metadata": {
    "collapsed": false
   },
   "outputs": [
    {
     "name": "stdout",
     "output_type": "stream",
     "text": [
      "ballon.obj          ellipsoid.blend   \u001b[0m\u001b[01;34mleg_joint\u001b[0m/           \u001b[01;34msympy\u001b[0m/\r\n",
      "\u001b[01;35mbefore.png\u001b[0m          Ellipsoid.ipynb   \u001b[01;34mleg_joint import\u001b[0m/    truncatedicosahedron\r\n",
      "\u001b[01;34mcore_architecture\u001b[0m/  ellipsoid.obj     \u001b[01;34mPolarization\u001b[0m/        \u001b[01;34mvisualisation\u001b[0m/\r\n",
      "\u001b[01;34mdynamics\u001b[0m/           \u001b[01;35mellipsoid.png\u001b[0m     \u001b[01;34mRheology\u001b[0m/\r\n",
      "\u001b[01;35mellipsis.png\u001b[0m        generation.ipynb  small_ellipsoid.hf5\r\n"
     ]
    }
   ],
   "source": [
    "ls"
   ]
  },
  {
   "cell_type": "code",
   "execution_count": null,
   "metadata": {
    "collapsed": true
   },
   "outputs": [],
   "source": []
  }
 ],
 "metadata": {
  "kernelspec": {
   "display_name": "Python 3",
   "language": "python",
   "name": "python3"
  },
  "language_info": {
   "codemirror_mode": {
    "name": "ipython",
    "version": 3
   },
   "file_extension": ".py",
   "mimetype": "text/x-python",
   "name": "python",
   "nbconvert_exporter": "python",
   "pygments_lexer": "ipython3",
   "version": "3.5.1"
  }
 },
 "nbformat": 4,
 "nbformat_minor": 0
}
