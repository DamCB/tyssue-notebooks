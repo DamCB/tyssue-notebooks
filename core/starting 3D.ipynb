{
 "cells": [
  {
   "cell_type": "code",
   "execution_count": 4,
   "metadata": {
    "collapsed": false
   },
   "outputs": [],
   "source": [
    "## \n",
    "import numpy as np\n",
    "import pandas as pd\n",
    "from scipy.spatial import Voronoi\n",
    "\n",
    "import tyssue\n",
    "\n",
    "from tyssue.core.objects import Epithelium\n",
    "from tyssue.geometry.bulk_geometry import BulkGeometry as bgeom\n",
    "from tyssue.core.generation import hexa_grid3d, from_3d_voronoi\n",
    "from tyssue.draw.vispy_draw import vp_view\n",
    "\n",
    "from tyssue.config.geometry import planar_spec"
   ]
  },
  {
   "cell_type": "code",
   "execution_count": 2,
   "metadata": {
    "collapsed": false
   },
   "outputs": [
    {
     "data": {
      "text/html": [
       "<div>\n",
       "<table border=\"1\" class=\"dataframe\">\n",
       "  <thead>\n",
       "    <tr style=\"text-align: right;\">\n",
       "      <th></th>\n",
       "      <th>vol</th>\n",
       "      <th>is_alive</th>\n",
       "      <th>x</th>\n",
       "      <th>y</th>\n",
       "      <th>z</th>\n",
       "      <th>num_faces</th>\n",
       "    </tr>\n",
       "    <tr>\n",
       "      <th>cell</th>\n",
       "      <th></th>\n",
       "      <th></th>\n",
       "      <th></th>\n",
       "      <th></th>\n",
       "      <th></th>\n",
       "      <th></th>\n",
       "    </tr>\n",
       "  </thead>\n",
       "  <tbody>\n",
       "    <tr>\n",
       "      <th>0</th>\n",
       "      <td>4.006172e-18</td>\n",
       "      <td>True</td>\n",
       "      <td>0.75</td>\n",
       "      <td>0.649519</td>\n",
       "      <td>0.433013</td>\n",
       "      <td>1.0</td>\n",
       "    </tr>\n",
       "    <tr>\n",
       "      <th>1</th>\n",
       "      <td>2.083333e-02</td>\n",
       "      <td>True</td>\n",
       "      <td>1.50</td>\n",
       "      <td>0.649519</td>\n",
       "      <td>0.433013</td>\n",
       "      <td>2.0</td>\n",
       "    </tr>\n",
       "    <tr>\n",
       "      <th>2</th>\n",
       "      <td>2.083333e-02</td>\n",
       "      <td>True</td>\n",
       "      <td>2.50</td>\n",
       "      <td>0.649519</td>\n",
       "      <td>0.433013</td>\n",
       "      <td>2.0</td>\n",
       "    </tr>\n",
       "    <tr>\n",
       "      <th>3</th>\n",
       "      <td>2.083333e-02</td>\n",
       "      <td>True</td>\n",
       "      <td>3.50</td>\n",
       "      <td>0.649519</td>\n",
       "      <td>0.433013</td>\n",
       "      <td>2.0</td>\n",
       "    </tr>\n",
       "    <tr>\n",
       "      <th>4</th>\n",
       "      <td>2.083333e-02</td>\n",
       "      <td>True</td>\n",
       "      <td>4.50</td>\n",
       "      <td>0.649519</td>\n",
       "      <td>0.433013</td>\n",
       "      <td>2.0</td>\n",
       "    </tr>\n",
       "  </tbody>\n",
       "</table>\n",
       "</div>"
      ],
      "text/plain": [
       "               vol is_alive     x         y         z  num_faces\n",
       "cell                                                            \n",
       "0     4.006172e-18     True  0.75  0.649519  0.433013        1.0\n",
       "1     2.083333e-02     True  1.50  0.649519  0.433013        2.0\n",
       "2     2.083333e-02     True  2.50  0.649519  0.433013        2.0\n",
       "3     2.083333e-02     True  3.50  0.649519  0.433013        2.0\n",
       "4     2.083333e-02     True  4.50  0.649519  0.433013        2.0"
      ]
     },
     "execution_count": 2,
     "metadata": {},
     "output_type": "execute_result"
    }
   ],
   "source": [
    "grid = hexa_grid3d(6, 4, 3)\n",
    "\n",
    "datasets = from_3d_voronoi(Voronoi(grid))\n",
    "eptm = Epithelium('start3D', datasets)\n",
    "\n",
    "gspecs = eptm.set_geom('sheet')\n",
    "bgeom.update_all(eptm)\n",
    "eptm.cell_df.head()"
   ]
  },
  {
   "cell_type": "code",
   "execution_count": 3,
   "metadata": {
    "collapsed": false
   },
   "outputs": [
    {
     "data": {
      "text/plain": [
       "(283, 7)"
      ]
     },
     "execution_count": 3,
     "metadata": {},
     "output_type": "execute_result"
    }
   ],
   "source": [
    "datasets['face'].shape"
   ]
  },
  {
   "cell_type": "code",
   "execution_count": 11,
   "metadata": {
    "collapsed": false
   },
   "outputs": [
    {
     "name": "stdout",
     "output_type": "stream",
     "text": [
      "face (24, 6)\n",
      "edge (82, 8)\n",
      "vert (32, 3)\n"
     ]
    }
   ],
   "source": [
    "from tyssue.core.generation import hexa_grid2d, from_2d_voronoi\n",
    "grid = hexa_grid2d(6, 4, 1, 1)\n",
    "datasets = from_2d_voronoi(Voronoi(grid))\n",
    "\n",
    "eptm = Epithelium('start3D', datasets, \n",
    "                  specs=planar_spec(),\n",
    "                  coords=['x', 'y'])\n",
    "\n",
    "from tyssue.geometry.planar_geometry import PlanarGeometry \n",
    "\n",
    "PlanarGeometry.update_all(eptm)\n",
    "for key, df in datasets.items():\n",
    "    print(key, df.shape)"
   ]
  },
  {
   "cell_type": "code",
   "execution_count": 12,
   "metadata": {
    "collapsed": false
   },
   "outputs": [
    {
     "data": {
      "text/plain": [
       "edge\n",
       "0    1.281250\n",
       "1    0.234375\n",
       "2    0.234375\n",
       "3    1.000000\n",
       "4    0.000000\n",
       "Name: area, dtype: float64"
      ]
     },
     "execution_count": 12,
     "metadata": {},
     "output_type": "execute_result"
    }
   ],
   "source": [
    "eptm.upcast_face(eptm.face_df['area']).head()"
   ]
  },
  {
   "cell_type": "code",
   "execution_count": 13,
   "metadata": {
    "collapsed": false
   },
   "outputs": [
    {
     "data": {
      "text/plain": [
       "face\n",
       "0    0.0000\n",
       "1    0.0625\n",
       "2    0.0625\n",
       "3    0.0625\n",
       "4    0.0625\n",
       "Name: area, dtype: float64"
      ]
     },
     "execution_count": 13,
     "metadata": {},
     "output_type": "execute_result"
    }
   ],
   "source": [
    "eptm.face_df['area'].head()"
   ]
  },
  {
   "cell_type": "code",
   "execution_count": 14,
   "metadata": {
    "collapsed": false
   },
   "outputs": [
    {
     "data": {
      "text/plain": [
       "edge\n",
       "0    12\n",
       "1     6\n",
       "2     6\n",
       "3     7\n",
       "4    18\n",
       "Name: face, dtype: int64"
      ]
     },
     "execution_count": 14,
     "metadata": {},
     "output_type": "execute_result"
    }
   ],
   "source": [
    "eptm.edge_df['face'].head()"
   ]
  },
  {
   "cell_type": "code",
   "execution_count": null,
   "metadata": {
    "collapsed": true
   },
   "outputs": [],
   "source": [
    "hexa_grid2d()"
   ]
  },
  {
   "cell_type": "code",
   "execution_count": null,
   "metadata": {
    "collapsed": false
   },
   "outputs": [],
   "source": [
    "vp_view(eptm)"
   ]
  },
  {
   "cell_type": "code",
   "execution_count": null,
   "metadata": {
    "collapsed": true
   },
   "outputs": [],
   "source": [
    "bounds = [[-0.1, 2], [0, 2], [0, 10]]\n",
    "\n",
    "edgeout = eptm.cut_out(bounds)\n",
    "\n",
    "eptm.remove(edgeout)"
   ]
  },
  {
   "cell_type": "code",
   "execution_count": null,
   "metadata": {
    "collapsed": true
   },
   "outputs": [],
   "source": [
    "eptm.vert_df['z'] = eptm.vert_df['z'] * np.cos(eptm.vert_df['y'])\n",
    "bgeom.update_all(eptm)"
   ]
  },
  {
   "cell_type": "code",
   "execution_count": null,
   "metadata": {
    "collapsed": true
   },
   "outputs": [],
   "source": [
    "import vispy.io as io"
   ]
  },
  {
   "cell_type": "code",
   "execution_count": null,
   "metadata": {
    "collapsed": true
   },
   "outputs": [],
   "source": [
    "bgeom.update_all(eptm)"
   ]
  },
  {
   "cell_type": "code",
   "execution_count": null,
   "metadata": {
    "collapsed": false
   },
   "outputs": [],
   "source": [
    "eptm.edge_df.head()"
   ]
  },
  {
   "cell_type": "code",
   "execution_count": null,
   "metadata": {
    "collapsed": true
   },
   "outputs": [],
   "source": []
  },
  {
   "cell_type": "code",
   "execution_count": null,
   "metadata": {
    "collapsed": false
   },
   "outputs": [],
   "source": [
    "io.write_mesh('test.obj', vertices=vertices, faces=faces,\n",
    "              normals=eptm.edgedf[['nx', 'ny', 'nz']].values,\n",
    "              texcoords=None, overwrite=True)"
   ]
  },
  {
   "cell_type": "code",
   "execution_count": null,
   "metadata": {
    "collapsed": true
   },
   "outputs": [],
   "source": []
  }
 ],
 "metadata": {
  "kernelspec": {
   "display_name": "Python 3",
   "language": "python",
   "name": "python3"
  },
  "language_info": {
   "codemirror_mode": {
    "name": "ipython",
    "version": 3
   },
   "file_extension": ".py",
   "mimetype": "text/x-python",
   "name": "python",
   "nbconvert_exporter": "python",
   "pygments_lexer": "ipython3",
   "version": "3.5.1"
  }
 },
 "nbformat": 4,
 "nbformat_minor": 0
}
