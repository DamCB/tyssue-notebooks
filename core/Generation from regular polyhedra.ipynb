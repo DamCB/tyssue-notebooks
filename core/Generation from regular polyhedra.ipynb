{
 "cells": [
  {
   "cell_type": "markdown",
   "metadata": {},
   "source": [
    "In this notebook, we use [Simon Tatham's work](http://www.chiark.greenend.org.uk/~sgtatham/polyhedra/) on polyhedra as a base to create a blastula-like epithelium (make sure to explore Simon's website, I'll wait here)."
   ]
  },
  {
   "cell_type": "markdown",
   "metadata": {},
   "source": [
    "### Imports"
   ]
  },
  {
   "cell_type": "code",
   "execution_count": 19,
   "metadata": {
    "collapsed": false
   },
   "outputs": [],
   "source": [
    "import matplotlib.pylab as plt\n",
    "%matplotlib inline\n",
    "from IPython.display import display\n",
    "\n",
    "from tyssue import config, Epithelium, Sheet\n",
    "from tyssue import SheetGeometry as sgeom, BulkGeometry as geom\n",
    "from tyssue.core.generation import extrude\n",
    "\n",
    "from tyssue.draw.plt_draw import sheet_view\n",
    "from tyssue.draw.threejs_draw import view_3js\n"
   ]
  },
  {
   "cell_type": "markdown",
   "metadata": {},
   "source": [
    "#### File parser for S. Thatam polyhedra files "
   ]
  },
  {
   "cell_type": "code",
   "execution_count": 20,
   "metadata": {
    "collapsed": false
   },
   "outputs": [
    {
     "name": "stdout",
     "output_type": "stream",
     "text": [
      "cube\t\t\t     smallrhombicosidodecahedron\r\n",
      "cuboctahedron\t\t     smallrhombicuboctahedron\r\n",
      "dodecahedron\t\t     tetrahedron\r\n",
      "greatrhombicosidodecahedron  tetrakishexahedron\r\n",
      "greatrhombicuboctahedron     trapezoidalhexecontahedron\r\n",
      "hexakisicosahedron\t     trapezoidalicositetrahedron\r\n",
      "hexakisoctahedron\t     triakisicosahedron\r\n",
      "icosahedron\t\t     triakisoctahedron\r\n",
      "icosidodecahedron\t     triakistetrahedron\r\n",
      "LICENCE\t\t\t     truncatedcube\r\n",
      "Makefile\t\t     truncateddodecahedron\r\n",
      "octahedron\t\t     truncatedicosahedron\r\n",
      "pentakisdodecahedron\t     truncatedoctahedron\r\n",
      "rhombicdodecahedron\t     truncatedtetrahedron\r\n",
      "rhombictriacontahedron\r\n"
     ]
    }
   ],
   "source": [
    "# What to we have?\n",
    "!ls ../data/polyhedra/"
   ]
  },
  {
   "cell_type": "markdown",
   "metadata": {},
   "source": [
    "The file structure is prety strait forward:"
   ]
  },
  {
   "cell_type": "code",
   "execution_count": 22,
   "metadata": {
    "collapsed": false
   },
   "outputs": [
    {
     "name": "stdout",
     "output_type": "stream",
     "text": [
      "point A -0.53934466291663152 -0.66666666666666674 -1.4120226591665967\n",
      "point B -1.0786893258332635 -0.33333333333333326 -1.2060113295832982\n",
      "point C 0.0 -0.33333333333333348 -1.6180339887498949\n",
      "point D 0.0 0.33333333333333348 -1.6180339887498949\n",
      "point E 0.53934466291663152 0.66666666666666674 -1.4120226591665967\n",
      "point F 1.0786893258332635 0.33333333333333326 -1.2060113295832982\n",
      "point G 0.0 -0.33333333333333348 1.6180339887498949\n",
      "point H 0.0 0.33333333333333348 1.6180339887498949\n",
      "point I -0.53934466291663152 0.66666666666666674 1.4120226591665967\n",
      "point J -1.0786893258332635 0.33333333333333326 1.2060113295832982\n"
     ]
    }
   ],
   "source": [
    "%%bash\n",
    "head ../data/polyhedra/truncatedicosahedron"
   ]
  },
  {
   "cell_type": "code",
   "execution_count": 23,
   "metadata": {
    "collapsed": false
   },
   "outputs": [
    {
     "name": "stdout",
     "output_type": "stream",
     "text": [
      "face JBfAdZAr Ad\n",
      "face JBfAdZAr Z\n",
      "face JBfAdZAr Ar\n",
      "normal JBfAdZAr -0.85065080835203999 0.0 0.52573111211913359\n",
      "face LAvAhAjBh L\n",
      "face LAvAhAjBh Av\n",
      "face LAvAhAjBh Ah\n",
      "face LAvAhAjBh Aj\n",
      "face LAvAhAjBh Bh\n",
      "normal LAvAhAjBh 0.85065080835203999 0.0 0.52573111211913359\n"
     ]
    }
   ],
   "source": [
    "%%bash\n",
    "tail ../data/polyhedra/truncatedicosahedron"
   ]
  },
  {
   "cell_type": "code",
   "execution_count": 24,
   "metadata": {
    "collapsed": true
   },
   "outputs": [],
   "source": [
    "def parse_polyhedron(fname):\n",
    "    '''\n",
    "    Parses a polynome description provided by Simon Tatham\n",
    "    \n",
    "    Polyhedron files are retrieved from\n",
    "    http://www.chiark.greenend.org.uk/~sgtatham/polyhedra/\n",
    "    \n",
    "    Parameters\n",
    "    ----------\n",
    "    fname: str or path\n",
    "      The polyhedron file to parse\n",
    "    \n",
    "    Returns\n",
    "    -------\n",
    "    datasets: dict\n",
    "      The vert, edge and face datasets\n",
    "\n",
    "\n",
    "    The software in this archive is copyright 2003,2004 Simon Tatham.\n",
    "\n",
    "    Permission is hereby granted, free of charge, to any person\n",
    "    obtaining a copy of this software and associated documentation files\n",
    "    (the \"Software\"), to deal in the Software without restriction,\n",
    "    including without limitation the rights to use, copy, modify, merge,\n",
    "    publish, distribute, sublicense, and/or sell copies of the Software,\n",
    "    and to permit persons to whom the Software is furnished to do so,\n",
    "    subject to the following conditions:\n",
    "\n",
    "    The above copyright notice and this permission notice shall be\n",
    "    included in all copies or substantial portions of the Software.\n",
    "\n",
    "    THE SOFTWARE IS PROVIDED \"AS IS\", WITHOUT WARRANTY OF ANY KIND,\n",
    "    EXPRESS OR IMPLIED, INCLUDING BUT NOT LIMITED TO THE WARRANTIES OF\n",
    "    MERCHANTABILITY, FITNESS FOR A PARTICULAR PURPOSE AND\n",
    "    NONINFRINGEMENT.  IN NO EVENT SHALL THE COPYRIGHT HOLDERS BE LIABLE\n",
    "    FOR ANY CLAIM, DAMAGES OR OTHER LIABILITY, WHETHER IN AN ACTION OF\n",
    "    CONTRACT, TORT OR OTHERWISE, ARISING FROM, OUT OF OR IN CONNECTION\n",
    "    WITH THE SOFTWARE OR THE USE OR OTHER DEALINGS IN THE SOFTWARE.\n",
    "    '''\n",
    "    \n",
    "    \n",
    "    with open(fname, 'r+') as th:\n",
    "        lines = th.readlines()\n",
    "\n",
    "    point_lines = [l.split(' ') for l in lines if l.startswith('point')]\n",
    "\n",
    "    points = np.array([[np.float(s) for s in p[-3:]] for p in point_lines])\n",
    "    point_ids = [p[1] for p in point_lines]\n",
    "\n",
    "    vert_df = pd.DataFrame(points, index=pd.Index(point_ids), columns=['x', 'y', 'z'])\n",
    "    vert_df['int_idx'] = np.arange(vert_df.shape[0])\n",
    "\n",
    "    face_lines = [l.split(' ')[1:3] for l in lines if l.startswith('face')]\n",
    "    prev = face_lines[0][0]\n",
    "    faces = []\n",
    "    cur = []\n",
    "    for ff, l in face_lines:\n",
    "        if ff != prev:\n",
    "            faces.append(cur)\n",
    "            cur = [l[:-1]]\n",
    "            prev = ff\n",
    "        else:\n",
    "            cur.append(l[:-1])\n",
    "\n",
    "    srces = []\n",
    "    trgts = []\n",
    "    face_idxs = []\n",
    "    for i, ff in enumerate(faces):\n",
    "        srces.extend(vert_df.loc[ff, 'int_idx'])\n",
    "        trgts.extend(vert_df.loc[np.roll(ff, 1), 'int_idx'])\n",
    "        face_idxs.extend(np.ones(len(ff))*i)\n",
    "\n",
    "    edge_df = pd.DataFrame(np.vstack([srces, trgts, face_idxs]).T.astype(np.int),\n",
    "                           columns=['srce', 'trgt', 'face'])\n",
    "    edge_df.index.name = 'edge'\n",
    "    vert_df.set_index('int_idx', drop=True, inplace=True)\n",
    "    vert_df.index.name = 'vert'\n",
    "    face_df = pd.DataFrame(index=pd.Index(range(len(faces)), name='face'),\n",
    "                           columns=['x', 'y', 'z'])\n",
    "\n",
    "    datasets = {'vert': vert_df,\n",
    "                'edge': edge_df,\n",
    "                'face': face_df}\n",
    "    return datasets\n"
   ]
  },
  {
   "cell_type": "markdown",
   "metadata": {},
   "source": [
    "## Truncated Icosahedron (or fullerene)"
   ]
  },
  {
   "cell_type": "code",
   "execution_count": 25,
   "metadata": {
    "collapsed": false
   },
   "outputs": [],
   "source": [
    "apical_datasets = parse_polyhedron('../data/polyhedra/truncatedicosahedron')\n",
    "specs = config.geometry.spherical_sheet()\n",
    "\n",
    "sheet = Sheet('sphere', apical_datasets, specs)\n",
    "mod_specs = config.dynamics.quasistatic_sheet_spec()\n",
    "sheet.update_specs(mod_specs)\n",
    "sgeom.update_all(sheet)\n",
    "#res = solver.find_energy_min(sheet, sgeom, model)\n",
    "#print(res['success'])"
   ]
  },
  {
   "cell_type": "code",
   "execution_count": 26,
   "metadata": {
    "collapsed": false
   },
   "outputs": [],
   "source": [
    "render, lines = view_3js(sheet)\n",
    "display(render)"
   ]
  },
  {
   "cell_type": "markdown",
   "metadata": {},
   "source": [
    "### Creating a monolayer through extrusion"
   ]
  },
  {
   "cell_type": "code",
   "execution_count": 29,
   "metadata": {
    "collapsed": false
   },
   "outputs": [],
   "source": [
    "apical_datasets = parse_polyhedron('../data/polyhedra/truncatedicosahedron')\n",
    "datasets = extrude(apical_datasets)\n",
    "specs = config.geometry.bulk_spec()\n",
    "\n",
    "eptm = Epithelium('truncatedicosahedron', datasets, specs)\n",
    "geom.update_all(eptm)"
   ]
  },
  {
   "cell_type": "code",
   "execution_count": 30,
   "metadata": {
    "collapsed": false
   },
   "outputs": [],
   "source": [
    "render2, lines = view_3js(eptm)\n",
    "display(render2)"
   ]
  },
  {
   "cell_type": "markdown",
   "metadata": {},
   "source": [
    "#### Try out others! "
   ]
  },
  {
   "cell_type": "code",
   "execution_count": 34,
   "metadata": {
    "collapsed": true
   },
   "outputs": [],
   "source": [
    "apical_datasets = parse_polyhedron(\n",
    "    '../data/polyhedra/trapezoidalicositetrahedron')\n",
    "specs = config.geometry.spherical_sheet()\n",
    "\n",
    "sheet = Sheet('sphere', apical_datasets, specs)\n",
    "mod_specs = config.dynamics.quasistatic_sheet_spec()\n",
    "sheet.update_specs(mod_specs)\n",
    "sgeom.update_all(sheet)\n",
    "\n",
    "render3, lines = view_3js(sheet)\n",
    "display(render3)"
   ]
  },
  {
   "cell_type": "code",
   "execution_count": 35,
   "metadata": {
    "collapsed": true
   },
   "outputs": [],
   "source": [
    "apical_datasets = parse_polyhedron(\n",
    "    '../data/polyhedra/greatrhombicosidodecahedron')\n",
    "specs = config.geometry.spherical_sheet()\n",
    "\n",
    "sheet = Sheet('sphere', apical_datasets, specs)\n",
    "mod_specs = config.dynamics.quasistatic_sheet_spec()\n",
    "sheet.update_specs(mod_specs)\n",
    "sgeom.update_all(sheet)\n",
    "\n",
    "render3, lines = view_3js(sheet)\n",
    "display(render3)"
   ]
  },
  {
   "cell_type": "code",
   "execution_count": null,
   "metadata": {
    "collapsed": true
   },
   "outputs": [],
   "source": []
  }
 ],
 "metadata": {
  "kernelspec": {
   "display_name": "Python 3",
   "language": "python",
   "name": "python3"
  },
  "language_info": {
   "codemirror_mode": {
    "name": "ipython",
    "version": 3
   },
   "file_extension": ".py",
   "mimetype": "text/x-python",
   "name": "python",
   "nbconvert_exporter": "python",
   "pygments_lexer": "ipython3",
   "version": "3.5.1"
  },
  "widgets": {
   "state": {
    "199af5dfb0f64e3dacdf287c95d68286": {
     "views": [
      {
       "cell_index": 14
      }
     ]
    },
    "2690b45c9aa846a78355ed65f200852f": {
     "views": [
      {
       "cell_index": 16
      }
     ]
    },
    "7ff6c49f465d4adc8244157640110ee3": {
     "views": [
      {
       "cell_index": 17
      }
     ]
    },
    "d93c32de73354c59941b98dccc631a82": {
     "views": [
      {
       "cell_index": 11
      }
     ]
    }
   },
   "version": "1.2.0"
  }
 },
 "nbformat": 4,
 "nbformat_minor": 0
}
