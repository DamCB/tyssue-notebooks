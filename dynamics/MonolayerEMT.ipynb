{
 "cells": [
  {
   "cell_type": "code",
   "execution_count": 1,
   "metadata": {},
   "outputs": [],
   "source": [
    "import sys\n",
    "import pandas as pd\n",
    "import numpy as np\n",
    "import ipyvolume as ipv\n",
    "from scipy import optimize\n",
    "\n",
    "import json\n",
    "import matplotlib.pylab as plt\n",
    "%matplotlib inline\n",
    "\n",
    "from tyssue.solvers.sheet_vertex_solver import Solver\n",
    "from tyssue import config\n",
    "\n",
    "from tyssue import Monolayer, Sheet\n",
    "from tyssue import MonoLayerGeometry as geom\n",
    "from tyssue.dynamics import BulkModel as model\n",
    "from tyssue.generation import three_faces_sheet, extrude\n",
    "from tyssue.topology.bulk_topology import IH_transition, HI_transition\n",
    "\n",
    "from datetime import datetime\n",
    "from tyssue.draw import highlight_cells\n",
    "\n",
    "from tyssue.draw import sheet_view\n",
    "from tyssue.io import hdf5"
   ]
  },
  {
   "cell_type": "code",
   "execution_count": null,
   "metadata": {},
   "outputs": [],
   "source": []
  },
  {
   "cell_type": "code",
   "execution_count": 2,
   "metadata": {},
   "outputs": [
    {
     "name": "stderr",
     "output_type": "stream",
     "text": [
      "Reseting datasets values with new specs\n"
     ]
    }
   ],
   "source": [
    "\n",
    "\n",
    "specs = config.geometry.bulk_spec()\n",
    "\n",
    "sheet = Sheet.planar_sheet_3d('flat', 4, 5, 1, 1)\n",
    "sheet.sanitize()\n",
    "datasets = extrude(sheet.datasets, method='translation')\n",
    "mono = Monolayer('mono', datasets, specs)\n",
    "\n",
    "geom.center(mono)\n",
    "geom.update_all(mono)\n",
    "\n",
    "dyn_specs = config.dynamics.quasistatic_bulk_spec()\n",
    "dyn_specs['cell']['area_elasticity'] = 0.05\n",
    "dyn_specs['cell']['prefered_area'] = 6.\n",
    "dyn_specs['cell']['vol_elasticity'] = 1.\n",
    "dyn_specs['cell']['prefered_vol'] = 1.2\n",
    "dyn_specs['face']['contractility'] = 0.0\n",
    "dyn_specs['edge']['line_tension'] = 0.0\n",
    "\n",
    "\n",
    "mono.update_specs(dyn_specs, reset=True)\n",
    "\n",
    "\n",
    "mono.face_df.loc[mono.apical_faces, 'contractility'] = 1e-3\n",
    "mono.face_df.loc[mono.basal_faces, 'contractility'] = 1e-3\n",
    "\n",
    "res = Solver.find_energy_min(mono, geom, model)\n",
    "\n"
   ]
  },
  {
   "cell_type": "code",
   "execution_count": 3,
   "metadata": {},
   "outputs": [],
   "source": [
    "\n",
    "def view3d(mono):\n",
    "    ipv.clear()\n",
    "    draw_spec = config.draw.sheet_spec()\n",
    "    draw_spec['face']['visible'] = True \n",
    "    draw_spec['face']['color'] = mono.face_df.area\n",
    "    draw_spec['face']['color_range'] = (0, 1)\n",
    "    # function plotting two meshes\n",
    "    fig, meshes = sheet_view(mono, mode='3D', **draw_spec)\n",
    "    fig = ipv.gcf()\n",
    "\n",
    "    #mesh = ipv.examples.klein_bottle(show=False)\n",
    "    #fig.meshes = fig.meshes + [mesh, ]\n",
    "    fig.anglex = 1.0\n",
    "    fig.angley = 0.2\n",
    "    fig.anglez = 0.1\n",
    "    \n",
    "    ipv.show()\n",
    "    #timestamp = datetime.now().isoformat().replace(':', '').replace('.', '_')\n",
    "    #ipv.savefig(f'{mono.identifier}_{timestamp}.png')\n"
   ]
  },
  {
   "cell_type": "code",
   "execution_count": 4,
   "metadata": {
    "scrolled": false
   },
   "outputs": [
    {
     "data": {
      "application/vnd.jupyter.widget-view+json": {
       "model_id": "db3072d99c1548e8a3666fb0e39f18fc",
       "version_major": 2,
       "version_minor": 0
      },
      "text/plain": [
       "VBox(children=(Figure(anglex=1.0, angley=0.2, anglez=0.1, camera_center=[0.0, 0.0, 0.0], height=500, matrix_pr…"
      ]
     },
     "metadata": {},
     "output_type": "display_data"
    }
   ],
   "source": [
    "view3d(mono)"
   ]
  },
  {
   "cell_type": "code",
   "execution_count": 5,
   "metadata": {},
   "outputs": [],
   "source": [
    "for i in range(6):\n",
    "    mono.face_df.loc[4, 'contractility'] *= 2\n",
    "    res = Solver.find_energy_min(mono, geom, model)"
   ]
  },
  {
   "cell_type": "code",
   "execution_count": 6,
   "metadata": {},
   "outputs": [
    {
     "data": {
      "application/vnd.jupyter.widget-view+json": {
       "model_id": "b38c5e95466044f99007964b54726f5c",
       "version_major": 2,
       "version_minor": 0
      },
      "text/plain": [
       "VBox(children=(Figure(anglex=1.0, angley=0.2, anglez=0.1, camera_center=[0.0, 0.0, 0.0], height=500, matrix_pr…"
      ]
     },
     "metadata": {},
     "output_type": "display_data"
    }
   ],
   "source": [
    "highlight_cells(mono, 4)\n",
    "view3d(mono)"
   ]
  },
  {
   "cell_type": "code",
   "execution_count": 7,
   "metadata": {},
   "outputs": [],
   "source": [
    "ab_edges_ = ((mono.upcast_srce(mono.vert_df['segment'])\n",
    "             != mono.upcast_trgt(mono.vert_df['segment'])) \n",
    "            & (mono.edge_df['cell'] == 4))\n",
    "\n",
    "ab_edges = mono.edge_df[ab_edges_].index\n",
    "\n",
    "mono.edge_df.loc[ab_edges, 'line_tension'] = 1e-2\n",
    "\n"
   ]
  },
  {
   "cell_type": "code",
   "execution_count": 8,
   "metadata": {},
   "outputs": [],
   "source": [
    "prev_nums = mono.Nv, mono.Ne, mono.Nf"
   ]
  },
  {
   "cell_type": "code",
   "execution_count": 9,
   "metadata": {},
   "outputs": [],
   "source": [
    "while mono.face_df.loc[4, 'num_sides'] > 3:\n",
    "    e_min = mono.edge_df[mono.edge_df['face'] == 4]['length'].idxmin()\n",
    "    prev_nums = {'edge': mono.Ne,\n",
    "                 'face': mono.Nf,\n",
    "                 'vert': mono.Nv}\n",
    "    \n",
    "    mono.settings['threshold_length'] = 1e-3\n",
    "    IH_transition(mono, e_min)\n",
    "    mono.face_df.loc[prev_nums['face']:, 'contractility'] = 0\n",
    "    \n",
    "    \n",
    "    geom.update_all(mono)\n",
    "    res = Solver.find_energy_min(mono, geom, model)"
   ]
  },
  {
   "cell_type": "code",
   "execution_count": 10,
   "metadata": {},
   "outputs": [
    {
     "data": {
      "application/vnd.jupyter.widget-view+json": {
       "model_id": "952c4db707c4490cac535d64b47b7b5b",
       "version_major": 2,
       "version_minor": 0
      },
      "text/plain": [
       "VBox(children=(Figure(anglex=1.0, angley=0.2, anglez=0.1, camera_center=[0.0, 0.0, 0.0], height=500, matrix_pr…"
      ]
     },
     "metadata": {},
     "output_type": "display_data"
    }
   ],
   "source": [
    "highlight_cells(mono, 4, reset_visible=True)\n",
    "view3d(mono)"
   ]
  },
  {
   "cell_type": "code",
   "execution_count": 11,
   "metadata": {},
   "outputs": [],
   "source": [
    "mono.cell_df.loc[4, 'prefered_vol'] *= 0.4\n",
    "mono.cell_df.loc[4, 'prefered_area'] *= 0.4**(2/3)\n",
    "\n",
    "prev_nums = {'edge': mono.Ne,\n",
    "             'face': mono.Nf,\n",
    "             'vert': mono.Nv}\n",
    "HI_transition(mono, 4)\n",
    "geom.update_all(mono)\n",
    "mono.face_df.loc[prev_nums['face']:, 'contractility'] = 0\n",
    "\n",
    "res = Solver.find_energy_min(mono, geom, model)"
   ]
  },
  {
   "cell_type": "code",
   "execution_count": 12,
   "metadata": {
    "scrolled": false
   },
   "outputs": [
    {
     "data": {
      "application/vnd.jupyter.widget-view+json": {
       "model_id": "696aacac27084220998306bd55d83c43",
       "version_major": 2,
       "version_minor": 0
      },
      "text/plain": [
       "VBox(children=(Figure(anglex=1.0, angley=0.2, anglez=0.1, camera_center=[0.0, 0.0, 0.0], height=500, matrix_pr…"
      ]
     },
     "metadata": {},
     "output_type": "display_data"
    }
   ],
   "source": [
    "highlight_cells(mono, 4, reset_visible=True)\n",
    "\n",
    "view3d(mono)"
   ]
  },
  {
   "cell_type": "code",
   "execution_count": 13,
   "metadata": {},
   "outputs": [
    {
     "data": {
      "image/png": "[encoded data removed]",
      "text/plain": [
       "<Figure size 432x288 with 1 Axes>"
      ]
     },
     "metadata": {},
     "output_type": "display_data"
    }
   ],
   "source": [
    "fig, ax = sheet_view(mono, mode='quick', coords=['x', 'z'], edge={'alpha': 0.8, 'lw': 0.2})\n"
   ]
  },
  {
   "cell_type": "code",
   "execution_count": 16,
   "metadata": {},
   "outputs": [
    {
     "data": {
      "application/vnd.jupyter.widget-view+json": {
       "model_id": "9d6b34f991cb499089ccdd7248bcde1d",
       "version_major": 2,
       "version_minor": 0
      },
      "text/plain": [
       "VBox(children=(Figure(anglex=1.0, angley=0.2, anglez=0.1, camera_center=[0.0, 0.0, 0.0], height=500, matrix_pr…"
      ]
     },
     "metadata": {},
     "output_type": "display_data"
    }
   ],
   "source": [
    "#mono.cell_df.loc[4, 'prefered_vol'] *= 0.4\n",
    "mono.cell_df.loc[4, 'prefered_area'] *= 2\n",
    "\n",
    "\n",
    "res = Solver.find_energy_min(mono, geom, model)\n",
    "highlight_cells(mono, 4, reset_visible=True)\n",
    "\n",
    "view3d(mono)"
   ]
  },
  {
   "cell_type": "code",
   "execution_count": null,
   "metadata": {},
   "outputs": [],
   "source": []
  }
 ],
 "metadata": {
  "kernelspec": {
   "display_name": "Python 3",
   "language": "python",
   "name": "python3"
  },
  "language_info": {
   "codemirror_mode": {
    "name": "ipython",
    "version": 3
   },
   "file_extension": ".py",
   "mimetype": "text/x-python",
   "name": "python",
   "nbconvert_exporter": "python",
   "pygments_lexer": "ipython3",
   "version": "3.6.6"
  }
 },
 "nbformat": 4,
 "nbformat_minor": 2
}
