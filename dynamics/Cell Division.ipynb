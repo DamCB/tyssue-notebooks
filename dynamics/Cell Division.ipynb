{
 "cells": [
  {
   "cell_type": "code",
   "execution_count": 1,
   "metadata": {
    "collapsed": false
   },
   "outputs": [],
   "source": [
    "import pandas as pd\n",
    "import numpy as np\n",
    "import json\n",
    "import matplotlib.pylab as plt\n",
    "try:\n",
    "    import seaborn as sns\n",
    "except ImportError:\n",
    "    print('Seaborn not found')\n",
    "%matplotlib inline\n",
    "from IPython.display import display\n",
    "\n",
    "from tyssue import config\n",
    "from tyssue import Sheet, SheetGeometry as geom\n",
    "from tyssue.dynamics import SheetModel as model\n",
    "\n",
    "from tyssue.solvers.sheet_vertex_solver import Solver as solver\n",
    "from tyssue.dynamics.sheet_isotropic_model import isotropic_relax\n",
    "\n",
    "from tyssue.draw.plt_draw import quick_edge_draw, plot_forces\n",
    "from tyssue.draw.threejs_draw import view_3js\n",
    "\n",
    "from tyssue.io import hdf5\n",
    "\n",
    "from tyssue.core.objects import get_opposite\n",
    "from tyssue.core.generation import create_anchors\n",
    "\n",
    "from tyssue.topology.sheet_topology import cell_division, type1_transition\n",
    "\n",
    "import warnings\n",
    "import logging\n",
    "log = logging.getLogger('nb')\n",
    "\n"
   ]
  },
  {
   "cell_type": "code",
   "execution_count": 2,
   "metadata": {
    "collapsed": false,
    "scrolled": true
   },
   "outputs": [],
   "source": [
    "def resolve_t1s(sheet, geom, solver, max_iter=60):\n",
    "\n",
    "    l_th = sheet.settings['threshold_length']\n",
    "    i = 0\n",
    "    while sheet.edge_df.length.min() < l_th:\n",
    "\n",
    "        for edge in sheet.edge_df[sheet.edge_df.length < l_th].sort_values('length').index:\n",
    "            try:\n",
    "                type1_transition(sheet, edge)\n",
    "            except KeyError:\n",
    "                continue\n",
    "            log.info('transition # {} on edge {}'.format(i+1, edge))\n",
    "            sheet.reset_index()\n",
    "            sheet.reset_topo()\n",
    "            geom.update_all(sheet)\n",
    "        solver.find_energy_min(sheet, geom, model)\n",
    "        i += 1\n",
    "        if i > max_iter:\n",
    "            warnings.warn('Max iter reached!')\n",
    "            break\n",
    "    \n",
    "    \n",
    "    "
   ]
  },
  {
   "cell_type": "code",
   "execution_count": 3,
   "metadata": {
    "collapsed": false
   },
   "outputs": [],
   "source": [
    "h5store = '../data/hf5/fullerene.hf5'\n",
    "\n",
    "datasets = hdf5.load_datasets(h5store,\n",
    "                              data_names=['face',\n",
    "                                          'vert',\n",
    "                                          'edge'])\n",
    "\n",
    "specs = config.geometry.spherical_sheet()\n",
    "sheet = Sheet('emin', datasets, specs)\n",
    "geom.center(sheet)\n",
    "\n",
    "geom.update_all(sheet)\n",
    "sheet.vert_df.is_active = 1\n",
    "\n",
    "sheet.edge_df['opposite'] = get_opposite(sheet.edge_df)\n",
    "\n",
    "nondim_specs = config.dynamics.quasistatic_sheet_spec()\n",
    "dim_model_specs = model.dimentionalize(nondim_specs)\n",
    "sheet.update_specs(dim_model_specs, reset=True)\n",
    "isotropic_relax(sheet, nondim_specs)\n",
    "sheet.settings['threshold_length'] = 1e-2\n",
    "geom.update_all(sheet)\n",
    "res = solver.find_energy_min(sheet, geom, model)\n",
    "\n",
    "renderer, line = view_3js(sheet)\n",
    "display(renderer)"
   ]
  },
  {
   "cell_type": "markdown",
   "metadata": {
    "collapsed": false
   },
   "source": [
    "### Single cell division:\n",
    "\n",
    "```python\n",
    "mother = 16\n",
    "\n",
    "cell_division(sheet, 16, geom, angle=0)\n",
    "geom.center(sheet)\n",
    "\n",
    "res = solver.find_energy_min(sheet, geom, model)\n",
    "print(res['success'])\n",
    "\n",
    "fig, ax = quick_edge_draw(sheet, ['z', 'x'])\n",
    "```"
   ]
  },
  {
   "cell_type": "code",
   "execution_count": 4,
   "metadata": {
    "collapsed": false
   },
   "outputs": [
    {
     "name": "stdout",
     "output_type": "stream",
     "text": [
      "Automatic pdb calling has been turned ON\n"
     ]
    }
   ],
   "source": [
    "%pdb"
   ]
  },
  {
   "cell_type": "code",
   "execution_count": 5,
   "metadata": {
    "collapsed": false
   },
   "outputs": [
    {
     "name": "stdout",
     "output_type": "stream",
     "text": [
      "Generation 0: 32 cells to devide\n"
     ]
    }
   ],
   "source": [
    "ngen = 1\n",
    "for n in range(ngen):\n",
    "    live_cells = np.array(sheet.face_df[sheet.face_df.is_alive==1].index)\n",
    "    np.random.shuffle(live_cells)\n",
    "    print('Generation {}: {} cells to devide'\n",
    "         .format(n, len(live_cells)))\n",
    "    for cell in live_cells:\n",
    "        daughter = cell_division(sheet, cell, geom, angle=0)\n",
    "        if daughter is None:\n",
    "            continue\n",
    "    isotropic_relax(sheet, nondim_specs)\n",
    "    #res = solver.find_energy_min(sheet, geom, model)\n",
    "    #resolve_t1s(sheet, geom, solver, max_iter=60)\n",
    "    \n",
    "\n",
    "resolve_t1s(sheet, geom, solver, max_iter=60)\n",
    "res = solver.find_energy_min(sheet, geom, model)\n"
   ]
  },
  {
   "cell_type": "code",
   "execution_count": 7,
   "metadata": {
    "collapsed": true
   },
   "outputs": [],
   "source": [
    "renderer, line = view_3js(sheet)\n",
    "display(renderer)"
   ]
  },
  {
   "cell_type": "code",
   "execution_count": 44,
   "metadata": {
    "collapsed": false
   },
   "outputs": [
    {
     "data": {
      "image/png": "[encoded data removed]",
      "text/plain": [
       "<matplotlib.figure.Figure at 0x7f6899e62320>"
      ]
     },
     "metadata": {},
     "output_type": "display_data"
    }
   ],
   "source": [
    "fig, ax = plt.subplots()\n",
    "\n",
    "h= ax.hist(sheet.edge_df.length, bins=100)"
   ]
  },
  {
   "cell_type": "code",
   "execution_count": 28,
   "metadata": {
    "collapsed": true
   },
   "outputs": [],
   "source": [
    "from tyssue.io import hdf5"
   ]
  },
  {
   "cell_type": "code",
   "execution_count": 29,
   "metadata": {
    "collapsed": false
   },
   "outputs": [
    {
     "data": {
      "text/plain": [
       "(1024, 6120, 2040)"
      ]
     },
     "execution_count": 29,
     "metadata": {},
     "output_type": "execute_result"
    }
   ],
   "source": [
    "sheet.Nf, sheet.Ne, sheet.Nv"
   ]
  },
  {
   "cell_type": "code",
   "execution_count": 8,
   "metadata": {
    "collapsed": false
   },
   "outputs": [],
   "source": [
    "from tyssue.core.generation import extrude\n",
    "\n",
    "organo_datasets = extrude(sheet.datasets, scale=0.9)\n",
    "\n",
    "\n",
    "\n",
    "from tyssue import Monolayer, MonoLayerGeometry\n",
    "from tyssue.config.geometry import bulk_spec\n",
    "\n",
    "organo = Monolayer('colo', organo_datasets, bulk_spec())\n",
    "renderer, line = view_3js(organo)\n",
    "display(renderer)"
   ]
  },
  {
   "cell_type": "code",
   "execution_count": 48,
   "metadata": {
    "collapsed": false
   },
   "outputs": [
    {
     "name": "stderr",
     "output_type": "stream",
     "text": [
      "/home/guillaume/anaconda3/envs/py35/lib/python3.5/site-packages/IPython/core/interactiveshell.py:2885: PerformanceWarning: \n",
      "your performance may suffer as PyTables will pickle object types that it cannot\n",
      "map directly to c-types [inferred_type->mixed,key->block2_values] [items->['letter', 'segment']]\n",
      "\n",
      "  exec(code_obj, self.user_global_ns, self.user_ns)\n",
      "/home/guillaume/anaconda3/envs/py35/lib/python3.5/site-packages/IPython/core/interactiveshell.py:2885: PerformanceWarning: \n",
      "your performance may suffer as PyTables will pickle object types that it cannot\n",
      "map directly to c-types [inferred_type->mixed,key->block2_values] [items->['contractility', 'vol_elasticity', 'prefered_height', 'prefered_area', 'prefered_vol', 'height', 'rho', 'vol', 'basal_shift', 'segment']]\n",
      "\n",
      "  exec(code_obj, self.user_global_ns, self.user_ns)\n"
     ]
    }
   ],
   "source": [
    "hdf5.save_datasets('../data/hf5/small_organo.hf5', organo)"
   ]
  },
  {
   "cell_type": "code",
   "execution_count": 32,
   "metadata": {
    "collapsed": false
   },
   "outputs": [
    {
     "data": {
      "text/plain": [
       "['vert', 'edge', 'cell', 'face']"
      ]
     },
     "execution_count": 32,
     "metadata": {},
     "output_type": "execute_result"
    }
   ],
   "source": [
    "organo.data_names"
   ]
  },
  {
   "cell_type": "code",
   "execution_count": 33,
   "metadata": {
    "collapsed": true
   },
   "outputs": [],
   "source": [
    "to_rm_faces = organo.face_df['x'] < 0\n",
    "\n",
    "to_rm_edges = organo.upcast_face(to_rm_faces)\n",
    "organo.remove(to_rm_edges)\n",
    "organo.reset_index()\n",
    "organo.reset_topo()\n"
   ]
  },
  {
   "cell_type": "code",
   "execution_count": 34,
   "metadata": {
    "collapsed": true
   },
   "outputs": [],
   "source": [
    "renderer, line = view_3js(organo)\n",
    "display(renderer)\n"
   ]
  },
  {
   "cell_type": "code",
   "execution_count": 35,
   "metadata": {
    "collapsed": true
   },
   "outputs": [],
   "source": [
    "from tyssue.io import obj"
   ]
  },
  {
   "cell_type": "code",
   "execution_count": 36,
   "metadata": {
    "collapsed": false
   },
   "outputs": [],
   "source": [
    "basal = organo.get_sub_sheet('basal')\n",
    "apical = organo.get_sub_sheet('apical')\n",
    "lateral = organo.get_sub_sheet('sagital')\n"
   ]
  },
  {
   "cell_type": "code",
   "execution_count": 37,
   "metadata": {
    "collapsed": false
   },
   "outputs": [
    {
     "name": "stderr",
     "output_type": "stream",
     "text": [
      "WARNING: Faces doesn't appear to be triangular,\n",
      "                be advised the file cannot be read back in vispy\n",
      "WARNING: Faces doesn't appear to be triangular,\n",
      "                be advised the file cannot be read back in vispy\n",
      "WARNING: Faces doesn't appear to be triangular,\n",
      "                be advised the file cannot be read back in vispy\n"
     ]
    }
   ],
   "source": [
    "obj.save_junction_mesh('../data/obj/half_organo.obj', organo)\n",
    "\n",
    "obj.save_junction_mesh('../data/obj/half_organo_basal.obj', basal)\n",
    "obj.save_junction_mesh('../data/obj/half_organo_apical.obj', apical)\n",
    "obj.save_junction_mesh('../data/obj/half_organo_lateral.obj', lateral)\n",
    "\n"
   ]
  },
  {
   "cell_type": "code",
   "execution_count": 171,
   "metadata": {
    "collapsed": false
   },
   "outputs": [],
   "source": [
    "up_pos = (sheet.upcast_srce(sheet.vert_df[sheet.coords]) - \n",
    "          sheet.upcast_face(sheet.face_df[sheet.coords]).values)\n",
    "up_pos['face'] = sheet.edge_df['face']\n",
    "up_pos['srce'] = sheet.edge_df['srce']\n",
    "\n",
    "def _svd(df):\n",
    "    u, s, v = np.linalg.svd(df[['x', 'y', 'z']],\n",
    "                            full_matrices=False)\n",
    "    rot = np.dot(df[list('xyz')], v.T)\n",
    "    srces = df['srce']\n",
    "    #cols = ['sx', 'sy', 'sz',\n",
    "    #        'v_xx', 'v_xy', 'v_xz',\n",
    "    #        'v_yx', 'v_yy', 'v_yz',\n",
    "    #        'v_zx', 'v_zy', 'v_zz',]\n",
    "    \n",
    "    #data = pd.Series(np.hstack((s, v.ravel())),\n",
    "    #                 index=cols)\n",
    "    cols = ['u', 's', 'v', 'rot', 'srce']\n",
    "    \n",
    "    data = pd.Series(index=cols, data=[u, s, v, rot, srces.values], dtype=object)\n",
    "    return data\n",
    "\n",
    "usv = up_pos.groupby('face').apply(_svd)"
   ]
  }
 ],
 "metadata": {
  "kernelspec": {
   "display_name": "Python 3",
   "language": "python",
   "name": "python3"
  },
  "language_info": {
   "codemirror_mode": {
    "name": "ipython",
    "version": 3
   },
   "file_extension": ".py",
   "mimetype": "text/x-python",
   "name": "python",
   "nbconvert_exporter": "python",
   "pygments_lexer": "ipython3",
   "version": "3.5.1"
  }
 },
 "nbformat": 4,
 "nbformat_minor": 0
}
