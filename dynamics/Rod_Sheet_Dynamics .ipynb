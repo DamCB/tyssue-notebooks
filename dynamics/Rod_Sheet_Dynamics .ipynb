{
 "cells": [
  {
   "cell_type": "markdown",
   "metadata": {
    "deletable": true,
    "editable": true
   },
   "source": [
    "# Rod Sheet Dynamics"
   ]
  },
  {
   "cell_type": "code",
   "execution_count": 1,
   "metadata": {
    "collapsed": true,
    "deletable": true,
    "editable": true
   },
   "outputs": [],
   "source": [
    "import numpy as np\n",
    "import matplotlib.pyplot as plt\n",
    "from IPython.display import display\n",
    "\n",
    "from tyssue import config\n",
    "from tyssue import Sheet, SheetGeometry as geom\n",
    "from tyssue.dynamics import SheetModel as model\n",
    "from tyssue.solvers.sheet_vertex_solver import Solver\n",
    "\n",
    "from tyssue.io import hdf5\n",
    "from tyssue.draw.threejs_draw import view_3js\n",
    "from tyssue.draw.plt_draw import quick_edge_draw\n",
    "%matplotlib inline\n",
    "\n",
    "from tyssue.utils.utils import _to_2d, _to_3d"
   ]
  },
  {
   "cell_type": "code",
   "execution_count": 2,
   "metadata": {
    "collapsed": false,
    "deletable": true,
    "editable": true
   },
   "outputs": [
    {
     "name": "stderr",
     "output_type": "stream",
     "text": [
      "Reseting datasets values with new specs\n"
     ]
    },
    {
     "name": "stdout",
     "output_type": "stream",
     "text": [
      "{'geometry': 'rod', 'height_axis': 'z', 'ab': [0.0, 0.0]}\n"
     ]
    },
    {
     "data": {
      "text/plain": [
       "{'edge': {'dx': 0.0,\n",
       "  'dy': 0.0,\n",
       "  'dz': 0.0,\n",
       "  'face': 0,\n",
       "  'length': 0.0,\n",
       "  'line_tension': 0.12,\n",
       "  'nx': 0.0,\n",
       "  'ny': 0.0,\n",
       "  'nz': 1.0,\n",
       "  'srce': 0,\n",
       "  'trgt': 0},\n",
       " 'face': {'area': 1.0,\n",
       "  'contractility': 0.04,\n",
       "  'is_alive': True,\n",
       "  'num_sides': 6,\n",
       "  'perimeter': 1.0,\n",
       "  'prefered_area': 12.0,\n",
       "  'prefered_height': 24.0,\n",
       "  'prefered_vol': 1.0,\n",
       "  'vol_elasticity': 1.0,\n",
       "  'x': 0.0,\n",
       "  'y': 0.0,\n",
       "  'z': 0.0},\n",
       " 'settings': {'ab': [0.0, 0.0],\n",
       "  'geometry': 'rod',\n",
       "  'grad_norm_factor': 1.0,\n",
       "  'height_axis': 'z',\n",
       "  'nrj_norm_factor': 1.0},\n",
       " 'vert': {'basal_shift': 0.0,\n",
       "  'height': 0.0,\n",
       "  'is_active': True,\n",
       "  'left_tip': False,\n",
       "  'radial_tension': 0.0,\n",
       "  'rho': 0.0,\n",
       "  'right_tip': False,\n",
       "  'x': 0.0,\n",
       "  'y': 0.0,\n",
       "  'z': 0.0}}"
      ]
     },
     "execution_count": 2,
     "metadata": {},
     "output_type": "execute_result"
    }
   ],
   "source": [
    "dsets = hdf5.load_datasets('../data/hf5/ellipsoid_sheet.hf5',\n",
    "                           data_names=['vert', 'edge', 'face'])\n",
    "\n",
    "sheet = Sheet('rod', dsets,\n",
    "              config.geometry.rod_sheet())\n",
    "geom.update_all(sheet)\n",
    "\n",
    "print(sheet.settings)\n",
    "dyn_specs = config.dynamics.quasistatic_sheet_spec()\n",
    "dyn_specs['vert']['basal_shift'] = 0.\n",
    "dyn_specs['face']['prefered_vol'] = 1.\n",
    "\n",
    "sheet.update_specs(dyn_specs, reset=True)\n",
    "\n",
    "geom.update_all(sheet)\n",
    "\n",
    "sheet.specs\n"
   ]
  },
  {
   "cell_type": "code",
   "execution_count": 3,
   "metadata": {
    "collapsed": false,
    "deletable": true,
    "editable": true
   },
   "outputs": [],
   "source": [
    "rdr, lines = view_3js(sheet)\n",
    "rdr"
   ]
  },
  {
   "cell_type": "code",
   "execution_count": 4,
   "metadata": {
    "collapsed": false,
    "deletable": true,
    "editable": true
   },
   "outputs": [],
   "source": [
    "def scaled_unscaled(func, scale, eptm, geom,\n",
    "                    args=(), kwargs={}, coords=None):\n",
    "    \"\"\"\n",
    "    Scales the epithelium by an homotetic factor `scale`, computes\n",
    "    the energy, and scales back to input scale\n",
    "    \"\"\"\n",
    "    if coords is None:\n",
    "        coords = eptm.coords\n",
    "    geom.scale(eptm, scale, coords)\n",
    "    geom.update_all(eptm)\n",
    "    res = func(*args, **kwargs)\n",
    "    geom.scale(eptm, 1/scale, coords)\n",
    "    geom.update_all(eptm)\n",
    "    return res\n",
    "\n",
    "\n"
   ]
  },
  {
   "cell_type": "markdown",
   "metadata": {
    "deletable": true,
    "editable": true
   },
   "source": [
    "\n",
    "```python\n",
    "from tyssue.dynamics.sheet_isotropic_model import (\n",
    "    isotropic_relax, isotropic_energies)\n",
    "\n",
    "isotropic_relax(\n",
    "    sheet, \n",
    "    config.dynamics.quasistatic_sheet_spec(),\n",
    "    geom)\n",
    "```"
   ]
  },
  {
   "cell_type": "code",
   "execution_count": 5,
   "metadata": {
    "collapsed": false,
    "deletable": true,
    "editable": true
   },
   "outputs": [
    {
     "data": {
      "text/plain": [
       "(0.22684957248815071, 0.64309286444617608, 0.1478019850991884)"
      ]
     },
     "execution_count": 5,
     "metadata": {},
     "output_type": "execute_result"
    }
   ],
   "source": [
    "sheet.face_df.area.mean(),   sheet.vert_df['height'].mean(), sheet.face_df.vol.mean()"
   ]
  },
  {
   "cell_type": "code",
   "execution_count": 6,
   "metadata": {
    "collapsed": false,
    "deletable": true,
    "editable": true
   },
   "outputs": [
    {
     "data": {
      "text/plain": [
       "25.673034376790998"
      ]
     },
     "execution_count": 6,
     "metadata": {},
     "output_type": "execute_result"
    }
   ],
   "source": [
    "model.compute_energy(sheet)"
   ]
  },
  {
   "cell_type": "code",
   "execution_count": 7,
   "metadata": {
    "collapsed": false,
    "deletable": true,
    "editable": true
   },
   "outputs": [
    {
     "data": {
      "text/plain": [
       "[<matplotlib.lines.Line2D at 0x7fd150edd9b0>]"
      ]
     },
     "execution_count": 7,
     "metadata": {},
     "output_type": "execute_result"
    },
    {
     "data": {
      "image/png": "[encoded data removed]",
      "text/plain": [
       "<matplotlib.figure.Figure at 0x7fd150edd940>"
      ]
     },
     "metadata": {},
     "output_type": "display_data"
    }
   ],
   "source": [
    "fig, ax = plt.subplots()\n",
    "scales = np.linspace(0.5, 2, 60)\n",
    "\n",
    "\n",
    "\n",
    "def total_volume(sheet):\n",
    "    return sheet.face_df.vol.mean()\n",
    "\n",
    "volumes =  np.array([\n",
    "    scaled_unscaled(total_volume, s,\n",
    "    sheet, geom,\n",
    "    args=[sheet], kwargs={})\n",
    "    for s in scales])\n",
    "\n",
    "energies =  np.array([scaled_unscaled(\n",
    "    model.compute_energy, s,\n",
    "    sheet, geom,\n",
    "    args=[sheet], kwargs={})\n",
    "    for s in scales])\n",
    "\n",
    "ax.plot(scales, energies, 'o')\n",
    "#ax.set_yscale('log')\n"
   ]
  },
  {
   "cell_type": "code",
   "execution_count": 8,
   "metadata": {
    "collapsed": false,
    "deletable": true,
    "editable": true
   },
   "outputs": [
    {
     "name": "stdout",
     "output_type": "stream",
     "text": [
      "1.6186440678\n"
     ]
    }
   ],
   "source": [
    "print(scales[np.argmin(energies)])"
   ]
  },
  {
   "cell_type": "code",
   "execution_count": 8,
   "metadata": {
    "collapsed": false,
    "deletable": true,
    "editable": true
   },
   "outputs": [],
   "source": [
    "E_t, E_c, E_v = model.compute_energy(sheet, full_output=True)"
   ]
  },
  {
   "cell_type": "code",
   "execution_count": 9,
   "metadata": {
    "collapsed": true,
    "deletable": true,
    "editable": true
   },
   "outputs": [],
   "source": [
    "from scipy import optimize\n",
    "\n",
    "def bruteforce_isotropic_relax(sheet, geom, model):\n",
    "    def to_minimize(scale):\n",
    "        return scaled_unscaled(model.compute_energy,\n",
    "            scale, sheet,\n",
    "            geom, args=[sheet])\n",
    "    \n",
    "    return optimize.minimize_scalar(to_minimize, bracket=[1., 3.])"
   ]
  },
  {
   "cell_type": "code",
   "execution_count": 10,
   "metadata": {
    "collapsed": false,
    "deletable": true,
    "editable": true
   },
   "outputs": [],
   "source": [
    "res = bruteforce_isotropic_relax(sheet, geom, model)\n",
    "geom.scale(sheet, res['x'], sheet.coords)\n",
    "geom.update_all(sheet)\n"
   ]
  },
  {
   "cell_type": "code",
   "execution_count": 11,
   "metadata": {
    "collapsed": false,
    "deletable": true,
    "editable": true
   },
   "outputs": [
    {
     "data": {
      "text/html": [
       "<div>\n",
       "<table border=\"1\" class=\"dataframe\">\n",
       "  <thead>\n",
       "    <tr style=\"text-align: right;\">\n",
       "      <th></th>\n",
       "      <th>x</th>\n",
       "      <th>y</th>\n",
       "      <th>z</th>\n",
       "    </tr>\n",
       "    <tr>\n",
       "      <th>srce</th>\n",
       "      <th></th>\n",
       "      <th></th>\n",
       "      <th></th>\n",
       "    </tr>\n",
       "  </thead>\n",
       "  <tbody>\n",
       "    <tr>\n",
       "      <th>0</th>\n",
       "      <td>-0.037981</td>\n",
       "      <td>0.053060</td>\n",
       "      <td>0.023924</td>\n",
       "    </tr>\n",
       "    <tr>\n",
       "      <th>1</th>\n",
       "      <td>-0.071332</td>\n",
       "      <td>0.019645</td>\n",
       "      <td>-0.004533</td>\n",
       "    </tr>\n",
       "    <tr>\n",
       "      <th>2</th>\n",
       "      <td>-0.093876</td>\n",
       "      <td>-0.030113</td>\n",
       "      <td>0.008156</td>\n",
       "    </tr>\n",
       "    <tr>\n",
       "      <th>3</th>\n",
       "      <td>-0.047103</td>\n",
       "      <td>0.004582</td>\n",
       "      <td>-0.004718</td>\n",
       "    </tr>\n",
       "    <tr>\n",
       "      <th>4</th>\n",
       "      <td>-0.043446</td>\n",
       "      <td>-0.015541</td>\n",
       "      <td>-0.003246</td>\n",
       "    </tr>\n",
       "    <tr>\n",
       "      <th>5</th>\n",
       "      <td>-0.033524</td>\n",
       "      <td>-0.037944</td>\n",
       "      <td>-0.007568</td>\n",
       "    </tr>\n",
       "    <tr>\n",
       "      <th>6</th>\n",
       "      <td>-0.052769</td>\n",
       "      <td>-0.062113</td>\n",
       "      <td>-0.007508</td>\n",
       "    </tr>\n",
       "    <tr>\n",
       "      <th>7</th>\n",
       "      <td>-0.039432</td>\n",
       "      <td>0.021842</td>\n",
       "      <td>0.002949</td>\n",
       "    </tr>\n",
       "    <tr>\n",
       "      <th>8</th>\n",
       "      <td>-0.039786</td>\n",
       "      <td>0.016451</td>\n",
       "      <td>-0.001397</td>\n",
       "    </tr>\n",
       "    <tr>\n",
       "      <th>9</th>\n",
       "      <td>-0.041911</td>\n",
       "      <td>0.001409</td>\n",
       "      <td>-0.000180</td>\n",
       "    </tr>\n",
       "    <tr>\n",
       "      <th>10</th>\n",
       "      <td>-0.037206</td>\n",
       "      <td>-0.016215</td>\n",
       "      <td>-0.005762</td>\n",
       "    </tr>\n",
       "    <tr>\n",
       "      <th>11</th>\n",
       "      <td>-0.057490</td>\n",
       "      <td>-0.004123</td>\n",
       "      <td>-0.010448</td>\n",
       "    </tr>\n",
       "    <tr>\n",
       "      <th>12</th>\n",
       "      <td>-0.068096</td>\n",
       "      <td>-0.016736</td>\n",
       "      <td>-0.018471</td>\n",
       "    </tr>\n",
       "    <tr>\n",
       "      <th>13</th>\n",
       "      <td>-0.043553</td>\n",
       "      <td>-0.047650</td>\n",
       "      <td>0.001391</td>\n",
       "    </tr>\n",
       "    <tr>\n",
       "      <th>14</th>\n",
       "      <td>-0.028880</td>\n",
       "      <td>-0.030262</td>\n",
       "      <td>-0.000820</td>\n",
       "    </tr>\n",
       "    <tr>\n",
       "      <th>15</th>\n",
       "      <td>-0.076829</td>\n",
       "      <td>0.011108</td>\n",
       "      <td>-0.015007</td>\n",
       "    </tr>\n",
       "    <tr>\n",
       "      <th>16</th>\n",
       "      <td>-0.006656</td>\n",
       "      <td>-0.083586</td>\n",
       "      <td>0.022588</td>\n",
       "    </tr>\n",
       "    <tr>\n",
       "      <th>17</th>\n",
       "      <td>-0.013543</td>\n",
       "      <td>-0.043387</td>\n",
       "      <td>0.001463</td>\n",
       "    </tr>\n",
       "    <tr>\n",
       "      <th>18</th>\n",
       "      <td>0.002936</td>\n",
       "      <td>-0.042054</td>\n",
       "      <td>0.002927</td>\n",
       "    </tr>\n",
       "    <tr>\n",
       "      <th>19</th>\n",
       "      <td>0.006638</td>\n",
       "      <td>-0.048899</td>\n",
       "      <td>0.010707</td>\n",
       "    </tr>\n",
       "    <tr>\n",
       "      <th>20</th>\n",
       "      <td>-0.014280</td>\n",
       "      <td>-0.042883</td>\n",
       "      <td>-0.002812</td>\n",
       "    </tr>\n",
       "    <tr>\n",
       "      <th>21</th>\n",
       "      <td>-0.011906</td>\n",
       "      <td>-0.067739</td>\n",
       "      <td>-0.016890</td>\n",
       "    </tr>\n",
       "    <tr>\n",
       "      <th>22</th>\n",
       "      <td>-0.000072</td>\n",
       "      <td>-0.059492</td>\n",
       "      <td>-0.009720</td>\n",
       "    </tr>\n",
       "    <tr>\n",
       "      <th>23</th>\n",
       "      <td>0.000966</td>\n",
       "      <td>-0.048394</td>\n",
       "      <td>0.002433</td>\n",
       "    </tr>\n",
       "    <tr>\n",
       "      <th>24</th>\n",
       "      <td>0.015012</td>\n",
       "      <td>-0.043248</td>\n",
       "      <td>0.018638</td>\n",
       "    </tr>\n",
       "    <tr>\n",
       "      <th>25</th>\n",
       "      <td>0.016007</td>\n",
       "      <td>-0.042345</td>\n",
       "      <td>0.006900</td>\n",
       "    </tr>\n",
       "    <tr>\n",
       "      <th>26</th>\n",
       "      <td>0.028920</td>\n",
       "      <td>-0.032633</td>\n",
       "      <td>0.003404</td>\n",
       "    </tr>\n",
       "    <tr>\n",
       "      <th>27</th>\n",
       "      <td>0.027817</td>\n",
       "      <td>-0.044154</td>\n",
       "      <td>0.012001</td>\n",
       "    </tr>\n",
       "    <tr>\n",
       "      <th>28</th>\n",
       "      <td>0.017197</td>\n",
       "      <td>-0.041862</td>\n",
       "      <td>0.001014</td>\n",
       "    </tr>\n",
       "    <tr>\n",
       "      <th>29</th>\n",
       "      <td>0.013520</td>\n",
       "      <td>-0.074900</td>\n",
       "      <td>-0.014834</td>\n",
       "    </tr>\n",
       "    <tr>\n",
       "      <th>...</th>\n",
       "      <td>...</td>\n",
       "      <td>...</td>\n",
       "      <td>...</td>\n",
       "    </tr>\n",
       "    <tr>\n",
       "      <th>62</th>\n",
       "      <td>-0.052967</td>\n",
       "      <td>0.050763</td>\n",
       "      <td>0.006591</td>\n",
       "    </tr>\n",
       "    <tr>\n",
       "      <th>63</th>\n",
       "      <td>-0.031039</td>\n",
       "      <td>0.033014</td>\n",
       "      <td>0.005577</td>\n",
       "    </tr>\n",
       "    <tr>\n",
       "      <th>64</th>\n",
       "      <td>-0.072885</td>\n",
       "      <td>-0.021356</td>\n",
       "      <td>0.074094</td>\n",
       "    </tr>\n",
       "    <tr>\n",
       "      <th>65</th>\n",
       "      <td>-0.041496</td>\n",
       "      <td>-0.014385</td>\n",
       "      <td>-0.053872</td>\n",
       "    </tr>\n",
       "    <tr>\n",
       "      <th>66</th>\n",
       "      <td>-0.008971</td>\n",
       "      <td>-0.064008</td>\n",
       "      <td>0.066173</td>\n",
       "    </tr>\n",
       "    <tr>\n",
       "      <th>67</th>\n",
       "      <td>-0.009756</td>\n",
       "      <td>-0.043399</td>\n",
       "      <td>-0.053185</td>\n",
       "    </tr>\n",
       "    <tr>\n",
       "      <th>68</th>\n",
       "      <td>0.010457</td>\n",
       "      <td>-0.038875</td>\n",
       "      <td>0.033178</td>\n",
       "    </tr>\n",
       "    <tr>\n",
       "      <th>69</th>\n",
       "      <td>0.016200</td>\n",
       "      <td>-0.065867</td>\n",
       "      <td>-0.051829</td>\n",
       "    </tr>\n",
       "    <tr>\n",
       "      <th>70</th>\n",
       "      <td>0.054779</td>\n",
       "      <td>-0.049572</td>\n",
       "      <td>0.056292</td>\n",
       "    </tr>\n",
       "    <tr>\n",
       "      <th>71</th>\n",
       "      <td>0.067521</td>\n",
       "      <td>-0.011063</td>\n",
       "      <td>-0.052064</td>\n",
       "    </tr>\n",
       "    <tr>\n",
       "      <th>72</th>\n",
       "      <td>0.074175</td>\n",
       "      <td>0.032322</td>\n",
       "      <td>0.057096</td>\n",
       "    </tr>\n",
       "    <tr>\n",
       "      <th>73</th>\n",
       "      <td>0.042669</td>\n",
       "      <td>0.014864</td>\n",
       "      <td>-0.052948</td>\n",
       "    </tr>\n",
       "    <tr>\n",
       "      <th>74</th>\n",
       "      <td>0.024856</td>\n",
       "      <td>0.068383</td>\n",
       "      <td>0.050279</td>\n",
       "    </tr>\n",
       "    <tr>\n",
       "      <th>75</th>\n",
       "      <td>0.010158</td>\n",
       "      <td>0.043204</td>\n",
       "      <td>-0.052583</td>\n",
       "    </tr>\n",
       "    <tr>\n",
       "      <th>76</th>\n",
       "      <td>-0.047018</td>\n",
       "      <td>0.034062</td>\n",
       "      <td>0.040400</td>\n",
       "    </tr>\n",
       "    <tr>\n",
       "      <th>77</th>\n",
       "      <td>-0.015639</td>\n",
       "      <td>0.066100</td>\n",
       "      <td>-0.053299</td>\n",
       "    </tr>\n",
       "    <tr>\n",
       "      <th>78</th>\n",
       "      <td>-0.034040</td>\n",
       "      <td>0.048772</td>\n",
       "      <td>0.055290</td>\n",
       "    </tr>\n",
       "    <tr>\n",
       "      <th>79</th>\n",
       "      <td>-0.067408</td>\n",
       "      <td>0.011303</td>\n",
       "      <td>-0.054301</td>\n",
       "    </tr>\n",
       "    <tr>\n",
       "      <th>80</th>\n",
       "      <td>0.010693</td>\n",
       "      <td>-0.047443</td>\n",
       "      <td>0.060588</td>\n",
       "    </tr>\n",
       "    <tr>\n",
       "      <th>81</th>\n",
       "      <td>-0.040531</td>\n",
       "      <td>0.011868</td>\n",
       "      <td>0.042562</td>\n",
       "    </tr>\n",
       "    <tr>\n",
       "      <th>82</th>\n",
       "      <td>-0.042501</td>\n",
       "      <td>-0.019031</td>\n",
       "      <td>-0.059241</td>\n",
       "    </tr>\n",
       "    <tr>\n",
       "      <th>83</th>\n",
       "      <td>0.043360</td>\n",
       "      <td>0.018577</td>\n",
       "      <td>-0.058181</td>\n",
       "    </tr>\n",
       "    <tr>\n",
       "      <th>84</th>\n",
       "      <td>0.014790</td>\n",
       "      <td>0.042382</td>\n",
       "      <td>-0.058064</td>\n",
       "    </tr>\n",
       "    <tr>\n",
       "      <th>85</th>\n",
       "      <td>0.002501</td>\n",
       "      <td>-0.002336</td>\n",
       "      <td>-0.074733</td>\n",
       "    </tr>\n",
       "    <tr>\n",
       "      <th>86</th>\n",
       "      <td>-0.008263</td>\n",
       "      <td>-0.008269</td>\n",
       "      <td>0.093406</td>\n",
       "    </tr>\n",
       "    <tr>\n",
       "      <th>87</th>\n",
       "      <td>0.043311</td>\n",
       "      <td>0.048920</td>\n",
       "      <td>0.072508</td>\n",
       "    </tr>\n",
       "    <tr>\n",
       "      <th>88</th>\n",
       "      <td>0.010964</td>\n",
       "      <td>-0.027259</td>\n",
       "      <td>0.055853</td>\n",
       "    </tr>\n",
       "    <tr>\n",
       "      <th>89</th>\n",
       "      <td>-0.009114</td>\n",
       "      <td>0.027529</td>\n",
       "      <td>0.043120</td>\n",
       "    </tr>\n",
       "    <tr>\n",
       "      <th>90</th>\n",
       "      <td>-0.013528</td>\n",
       "      <td>-0.042764</td>\n",
       "      <td>-0.058336</td>\n",
       "    </tr>\n",
       "    <tr>\n",
       "      <th>91</th>\n",
       "      <td>-0.000387</td>\n",
       "      <td>0.002146</td>\n",
       "      <td>-0.074915</td>\n",
       "    </tr>\n",
       "  </tbody>\n",
       "</table>\n",
       "<p>92 rows × 3 columns</p>\n",
       "</div>"
      ],
      "text/plain": [
       "             x         y         z\n",
       "srce                              \n",
       "0    -0.037981  0.053060  0.023924\n",
       "1    -0.071332  0.019645 -0.004533\n",
       "2    -0.093876 -0.030113  0.008156\n",
       "3    -0.047103  0.004582 -0.004718\n",
       "4    -0.043446 -0.015541 -0.003246\n",
       "5    -0.033524 -0.037944 -0.007568\n",
       "6    -0.052769 -0.062113 -0.007508\n",
       "7    -0.039432  0.021842  0.002949\n",
       "8    -0.039786  0.016451 -0.001397\n",
       "9    -0.041911  0.001409 -0.000180\n",
       "10   -0.037206 -0.016215 -0.005762\n",
       "11   -0.057490 -0.004123 -0.010448\n",
       "12   -0.068096 -0.016736 -0.018471\n",
       "13   -0.043553 -0.047650  0.001391\n",
       "14   -0.028880 -0.030262 -0.000820\n",
       "15   -0.076829  0.011108 -0.015007\n",
       "16   -0.006656 -0.083586  0.022588\n",
       "17   -0.013543 -0.043387  0.001463\n",
       "18    0.002936 -0.042054  0.002927\n",
       "19    0.006638 -0.048899  0.010707\n",
       "20   -0.014280 -0.042883 -0.002812\n",
       "21   -0.011906 -0.067739 -0.016890\n",
       "22   -0.000072 -0.059492 -0.009720\n",
       "23    0.000966 -0.048394  0.002433\n",
       "24    0.015012 -0.043248  0.018638\n",
       "25    0.016007 -0.042345  0.006900\n",
       "26    0.028920 -0.032633  0.003404\n",
       "27    0.027817 -0.044154  0.012001\n",
       "28    0.017197 -0.041862  0.001014\n",
       "29    0.013520 -0.074900 -0.014834\n",
       "...        ...       ...       ...\n",
       "62   -0.052967  0.050763  0.006591\n",
       "63   -0.031039  0.033014  0.005577\n",
       "64   -0.072885 -0.021356  0.074094\n",
       "65   -0.041496 -0.014385 -0.053872\n",
       "66   -0.008971 -0.064008  0.066173\n",
       "67   -0.009756 -0.043399 -0.053185\n",
       "68    0.010457 -0.038875  0.033178\n",
       "69    0.016200 -0.065867 -0.051829\n",
       "70    0.054779 -0.049572  0.056292\n",
       "71    0.067521 -0.011063 -0.052064\n",
       "72    0.074175  0.032322  0.057096\n",
       "73    0.042669  0.014864 -0.052948\n",
       "74    0.024856  0.068383  0.050279\n",
       "75    0.010158  0.043204 -0.052583\n",
       "76   -0.047018  0.034062  0.040400\n",
       "77   -0.015639  0.066100 -0.053299\n",
       "78   -0.034040  0.048772  0.055290\n",
       "79   -0.067408  0.011303 -0.054301\n",
       "80    0.010693 -0.047443  0.060588\n",
       "81   -0.040531  0.011868  0.042562\n",
       "82   -0.042501 -0.019031 -0.059241\n",
       "83    0.043360  0.018577 -0.058181\n",
       "84    0.014790  0.042382 -0.058064\n",
       "85    0.002501 -0.002336 -0.074733\n",
       "86   -0.008263 -0.008269  0.093406\n",
       "87    0.043311  0.048920  0.072508\n",
       "88    0.010964 -0.027259  0.055853\n",
       "89   -0.009114  0.027529  0.043120\n",
       "90   -0.013528 -0.042764 -0.058336\n",
       "91   -0.000387  0.002146 -0.074915\n",
       "\n",
       "[92 rows x 3 columns]"
      ]
     },
     "execution_count": 11,
     "metadata": {},
     "output_type": "execute_result"
    }
   ],
   "source": [
    "model.compute_gradient(sheet)"
   ]
  },
  {
   "cell_type": "code",
   "execution_count": 12,
   "metadata": {
    "collapsed": false,
    "deletable": true,
    "editable": true
   },
   "outputs": [],
   "source": [
    "res = Solver.find_energy_min(sheet, geom, model)"
   ]
  },
  {
   "cell_type": "code",
   "execution_count": 13,
   "metadata": {
    "collapsed": false,
    "deletable": true,
    "editable": true
   },
   "outputs": [
    {
     "data": {
      "text/plain": [
       "True"
      ]
     },
     "execution_count": 13,
     "metadata": {},
     "output_type": "execute_result"
    }
   ],
   "source": [
    "res['success']"
   ]
  },
  {
   "cell_type": "code",
   "execution_count": 15,
   "metadata": {
    "collapsed": false,
    "deletable": true,
    "editable": true
   },
   "outputs": [
    {
     "data": {
      "image/png": "[encoded data removed]",
      "text/plain": [
       "<matplotlib.figure.Figure at 0x7fd11c70e6a0>"
      ]
     },
     "metadata": {},
     "output_type": "display_data"
    }
   ],
   "source": [
    "from tyssue.draw.plt_draw import plot_forces\n",
    "fig, ax = plot_forces(sheet, geom, model, list('zx'), scaling=5)"
   ]
  },
  {
   "cell_type": "code",
   "execution_count": 18,
   "metadata": {
    "collapsed": false,
    "deletable": true,
    "editable": true
   },
   "outputs": [
    {
     "data": {
      "text/plain": [
       "{'ab': [1.8376085083736911, 1.2639630010227065],\n",
       " 'geometry': 'rod',\n",
       " 'grad_norm_factor': 1.0,\n",
       " 'height_axis': 'z',\n",
       " 'nrj_norm_factor': 1.0}"
      ]
     },
     "execution_count": 18,
     "metadata": {},
     "output_type": "execute_result"
    }
   ],
   "source": [
    "sheet.settings"
   ]
  },
  {
   "cell_type": "code",
   "execution_count": 19,
   "metadata": {
    "collapsed": false,
    "deletable": true,
    "editable": true
   },
   "outputs": [
    {
     "data": {
      "text/plain": [
       "(0, 2.0)"
      ]
     },
     "execution_count": 19,
     "metadata": {},
     "output_type": "execute_result"
    },
    {
     "data": {
      "image/png": "[encoded data removed]",
      "text/plain": [
       "<matplotlib.figure.Figure at 0x7fbfac62f358>"
      ]
     },
     "metadata": {},
     "output_type": "display_data"
    }
   ],
   "source": [
    "fig, ax = plt.subplots()\n",
    "ax.plot(sheet.vert_df.z, sheet.vert_df.rho, 'o')\n",
    "ax.set_ylim(0, 2.)"
   ]
  },
  {
   "cell_type": "code",
   "execution_count": 21,
   "metadata": {
    "collapsed": false,
    "deletable": true,
    "editable": true
   },
   "outputs": [
    {
     "data": {
      "image/png": "[encoded data removed]",
      "text/plain": [
       "<matplotlib.figure.Figure at 0x7fbfad854780>"
      ]
     },
     "metadata": {},
     "output_type": "display_data"
    }
   ],
   "source": [
    "fig, ax = plot_forces(sheet, geom, model, list('zx'),\n",
    "                      scaling=5, approx_grad=Solver.approx_grad)"
   ]
  },
  {
   "cell_type": "code",
   "execution_count": null,
   "metadata": {
    "collapsed": true,
    "deletable": true,
    "editable": true
   },
   "outputs": [],
   "source": []
  }
 ],
 "metadata": {
  "anaconda-cloud": {},
  "kernelspec": {
   "display_name": "Python [default]",
   "language": "python",
   "name": "python3"
  },
  "language_info": {
   "codemirror_mode": {
    "name": "ipython",
    "version": 3
   },
   "file_extension": ".py",
   "mimetype": "text/x-python",
   "name": "python",
   "nbconvert_exporter": "python",
   "pygments_lexer": "ipython3",
   "version": "3.5.2"
  },
  "widgets": {
   "state": {
    "4e73ab46907546b1a7847ff6fd189390": {
     "views": [
      {
       "cell_index": 3
      }
     ]
    }
   },
   "version": "1.2.0"
  }
 },
 "nbformat": 4,
 "nbformat_minor": 0
}
