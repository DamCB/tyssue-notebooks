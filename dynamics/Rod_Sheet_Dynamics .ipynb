{
 "cells": [
  {
   "cell_type": "markdown",
   "metadata": {},
   "source": [
    "# Rod Sheet Dynamics"
   ]
  },
  {
   "cell_type": "code",
   "execution_count": 1,
   "metadata": {
    "collapsed": true
   },
   "outputs": [],
   "source": [
    "import numpy as np\n",
    "import matplotlib.pyplot as plt\n",
    "from IPython.display import display\n",
    "\n",
    "from tyssue import config\n",
    "from tyssue import Sheet, SheetGeometry as geom\n",
    "from tyssue.dynamics import SheetModel as model\n",
    "from tyssue.solvers.sheet_vertex_solver import Solver\n",
    "\n",
    "from tyssue.io import hdf5\n",
    "from tyssue.draw.threejs_draw import view_3js\n",
    "from tyssue.draw.plt_draw import quick_edge_draw\n",
    "%matplotlib inline\n",
    "\n",
    "from tyssue.utils.utils import _to_2d, _to_3d"
   ]
  },
  {
   "cell_type": "code",
   "execution_count": 12,
   "metadata": {
    "collapsed": false
   },
   "outputs": [
    {
     "name": "stdout",
     "output_type": "stream",
     "text": [
      "{'height_axis': 'z', 'geometry': 'rod', 'ab': [1.1250404860129168, 0.77774788397141592]}\n"
     ]
    },
    {
     "data": {
      "text/plain": [
       "{'edge': {'dx': 0.0,\n",
       "  'dy': 0.0,\n",
       "  'dz': 0.0,\n",
       "  'face': 0,\n",
       "  'length': 0.0,\n",
       "  'line_tension': 0.12,\n",
       "  'nx': 0.0,\n",
       "  'ny': 0.0,\n",
       "  'nz': 1.0,\n",
       "  'srce': 0,\n",
       "  'trgt': 0},\n",
       " 'face': {'area': 1.0,\n",
       "  'contractility': 0.04,\n",
       "  'is_alive': True,\n",
       "  'num_sides': 6,\n",
       "  'perimeter': 1.0,\n",
       "  'prefered_area': 2.0,\n",
       "  'prefered_height': 0.5,\n",
       "  'prefered_vol': 1.0,\n",
       "  'vol_elasticity': 1.0,\n",
       "  'x': 0.0,\n",
       "  'y': 0.0,\n",
       "  'z': 0.0},\n",
       " 'settings': {'ab': [1.1250404860129168, 0.77774788397141592],\n",
       "  'geometry': 'rod',\n",
       "  'grad_norm_factor': 1.0,\n",
       "  'height_axis': 'z',\n",
       "  'nrj_norm_factor': 1.0},\n",
       " 'vert': {'basal_shift': 0.1,\n",
       "  'height': 0.0,\n",
       "  'is_active': True,\n",
       "  'left_tip': False,\n",
       "  'prefered_height': 0.5,\n",
       "  'radial_tension': 0.0,\n",
       "  'rho': 0.0,\n",
       "  'right_tip': False,\n",
       "  'x': 0.0,\n",
       "  'y': 0.0,\n",
       "  'z': 0.0}}"
      ]
     },
     "execution_count": 12,
     "metadata": {},
     "output_type": "execute_result"
    }
   ],
   "source": [
    "dsets = hdf5.load_datasets('../data/hf5/ellipsoid_sheet.hf5',\n",
    "                           data_names=['vert', 'edge', 'face'])\n",
    "\n",
    "sheet = Sheet('rod', dsets,\n",
    "              config.geometry.rod_sheet())\n",
    "geom.update_all(sheet)\n",
    "\n",
    "print(sheet.settings)\n",
    "sheet.update_specs(config.dynamics.quasistatic_sheet_spec())\n",
    "\n",
    "sheet.specs['face']['prefered_area'] = 2.\n",
    "sheet.specs['face']['prefered_height'] = 0.5\n",
    "\n",
    "sheet.specs['vert']['prefered_height'] = 0.5\n",
    "sheet.specs['vert']['basal_shift'] = 0.1\n",
    "\n",
    "sheet.specs['face']['prefered_vol'] = 1.0\n",
    "\n",
    "sheet.specs\n"
   ]
  },
  {
   "cell_type": "code",
   "execution_count": 13,
   "metadata": {
    "collapsed": false
   },
   "outputs": [
    {
     "data": {
      "text/plain": [
       "(0.7895479495559642, 4.0)"
      ]
     },
     "execution_count": 13,
     "metadata": {},
     "output_type": "execute_result"
    }
   ],
   "source": [
    "sheet.vert_df.rho.mean(), sheet.vert_df.basal_shift.mean()"
   ]
  },
  {
   "cell_type": "code",
   "execution_count": 14,
   "metadata": {
    "collapsed": false
   },
   "outputs": [],
   "source": [
    "rdr, lines = view_3js(sheet)\n",
    "rdr"
   ]
  },
  {
   "cell_type": "code",
   "execution_count": 19,
   "metadata": {
    "collapsed": false
   },
   "outputs": [],
   "source": [
    "def scaled_unscaled(func, scale, eptm, geom,\n",
    "                    model, args, kwargs, coords=None):\n",
    "    \"\"\"\n",
    "    Scales the epithelium by an homotetic factor `scale`, computes\n",
    "    the energy, and scales back to input scale\n",
    "    \"\"\"\n",
    "    if coords is None:\n",
    "        coords = eptm.coords\n",
    "    geom.scale(eptm, scale, coords)\n",
    "    geom.update_all(eptm)\n",
    "    res = func(*args, **kwargs)\n",
    "    geom.scale(eptm, 1/scale, coords)\n",
    "    geom.update_all(eptm)\n",
    "    return res\n",
    "\n",
    "\n"
   ]
  },
  {
   "cell_type": "markdown",
   "metadata": {},
   "source": [
    "\n",
    "```python\n",
    "from tyssue.dynamics.sheet_isotropic_model import (\n",
    "    isotropic_relax, isotropic_energies)\n",
    "\n",
    "isotropic_relax(\n",
    "    sheet, \n",
    "    config.dynamics.quasistatic_sheet_spec(),\n",
    "    geom)\n",
    "```"
   ]
  },
  {
   "cell_type": "code",
   "execution_count": 20,
   "metadata": {
    "collapsed": false
   },
   "outputs": [
    {
     "data": {
      "text/plain": [
       "{'edge': {'dx': 0.0,\n",
       "  'dy': 0.0,\n",
       "  'dz': 0.0,\n",
       "  'face': 0,\n",
       "  'length': 0.0,\n",
       "  'line_tension': 0.12,\n",
       "  'nx': 0.0,\n",
       "  'ny': 0.0,\n",
       "  'nz': 1.0,\n",
       "  'srce': 0,\n",
       "  'trgt': 0},\n",
       " 'face': {'area': 1.0,\n",
       "  'contractility': 0.04,\n",
       "  'is_alive': True,\n",
       "  'num_sides': 6,\n",
       "  'perimeter': 1.0,\n",
       "  'prefered_area': 2.0,\n",
       "  'prefered_height': 0.5,\n",
       "  'prefered_vol': 1.0,\n",
       "  'vol_elasticity': 1.0,\n",
       "  'x': 0.0,\n",
       "  'y': 0.0,\n",
       "  'z': 0.0},\n",
       " 'settings': {'ab': [1.1250404860129168, 0.77774788397141592],\n",
       "  'geometry': 'rod',\n",
       "  'grad_norm_factor': 1.0,\n",
       "  'height_axis': 'z',\n",
       "  'nrj_norm_factor': 1.0},\n",
       " 'vert': {'basal_shift': 0.1,\n",
       "  'height': 0.0,\n",
       "  'is_active': True,\n",
       "  'left_tip': False,\n",
       "  'prefered_height': 0.5,\n",
       "  'radial_tension': 0.0,\n",
       "  'rho': 0.0,\n",
       "  'right_tip': False,\n",
       "  'x': 0.0,\n",
       "  'y': 0.0,\n",
       "  'z': 0.0}}"
      ]
     },
     "execution_count": 20,
     "metadata": {},
     "output_type": "execute_result"
    }
   ],
   "source": [
    "\n",
    "sheet.specs"
   ]
  },
  {
   "cell_type": "code",
   "execution_count": 21,
   "metadata": {
    "collapsed": false
   },
   "outputs": [
    {
     "data": {
      "text/plain": [
       "(0.22686480589764224, 0.7895479495559642)"
      ]
     },
     "execution_count": 21,
     "metadata": {},
     "output_type": "execute_result"
    }
   ],
   "source": [
    "sheet.face_df.area.mean(),   sheet.vert_df['rho'].mean(),"
   ]
  },
  {
   "cell_type": "code",
   "execution_count": 23,
   "metadata": {
    "collapsed": false
   },
   "outputs": [
    {
     "data": {
      "text/plain": [
       "21.374575340622023"
      ]
     },
     "execution_count": 23,
     "metadata": {},
     "output_type": "execute_result"
    }
   ],
   "source": [
    "model.compute_energy(sheet)"
   ]
  },
  {
   "cell_type": "code",
   "execution_count": 26,
   "metadata": {
    "collapsed": false
   },
   "outputs": [
    {
     "data": {
      "image/png": "[encoded data removed]",
      "text/plain": [
       "<matplotlib.figure.Figure at 0x7f97bccfe470>"
      ]
     },
     "metadata": {},
     "output_type": "display_data"
    }
   ],
   "source": [
    "fig, ax = plt.subplots()\n",
    "scales = np.logspace(-4, -1, 20)\n",
    "\n",
    "def total_volume(sheet):\n",
    "    return sheet.face_df.vol.sum()\n",
    "\n",
    "volumes =  np.array([\n",
    "    scaled_unscaled(total_volume, s,\n",
    "    sheet, geom, model,\n",
    "    args=[sheet], kwargs={})\n",
    "    for s in scales])\n",
    "\n",
    "energies =  np.array([scaled_unscaled(\n",
    "    model.compute_energy, s, sheet,\n",
    "    geom, model, args=[sheet], kwargs={})\n",
    "    for s in scales])\n",
    "\n",
    "\n",
    "\n",
    "ax.plot(scales, energies, 'o')\n",
    "ax.set_xscale('log')\n",
    "#ax.set_yscale('log')\n"
   ]
  },
  {
   "cell_type": "code",
   "execution_count": 69,
   "metadata": {
    "collapsed": false
   },
   "outputs": [
    {
     "data": {
      "text/plain": [
       "[<matplotlib.lines.Line2D at 0x7fd617dbfa58>]"
      ]
     },
     "execution_count": 69,
     "metadata": {},
     "output_type": "execute_result"
    },
    {
     "data": {
      "image/png": "[encoded data removed]",
      "text/plain": [
       "<matplotlib.figure.Figure at 0x7fd617dbc358>"
      ]
     },
     "metadata": {},
     "output_type": "display_data"
    }
   ],
   "source": [
    "fig, ax = plt.subplots()\n",
    "ax.plot(scales, volumes)"
   ]
  },
  {
   "cell_type": "code",
   "execution_count": 61,
   "metadata": {
    "collapsed": false
   },
   "outputs": [],
   "source": [
    "E_t, E_c, E_v = model.compute_energy(sheet, full_output=True)"
   ]
  },
  {
   "cell_type": "code",
   "execution_count": 62,
   "metadata": {
    "collapsed": false
   },
   "outputs": [
    {
     "data": {
      "text/plain": [
       "face\n",
       "0     0.134849\n",
       "1     0.188756\n",
       "2     0.195085\n",
       "3     0.192685\n",
       "4     0.186617\n",
       "5     0.137602\n",
       "6     0.195715\n",
       "7     0.194526\n",
       "8     0.194208\n",
       "9     0.135269\n",
       "10    0.186196\n",
       "11    0.203265\n",
       "12    0.201716\n",
       "13    0.195572\n",
       "14    0.186107\n",
       "15    0.188883\n",
       "16    0.197161\n",
       "17    0.198696\n",
       "18    0.194376\n",
       "19    0.136661\n",
       "20    0.141590\n",
       "21    0.194279\n",
       "22    0.193037\n",
       "23    0.194764\n",
       "24    0.187207\n",
       "25    0.190003\n",
       "26    0.196605\n",
       "27    0.193860\n",
       "28    0.194629\n",
       "29    0.136954\n",
       "30    0.134404\n",
       "31    0.200141\n",
       "32    0.197617\n",
       "33    0.195442\n",
       "34    0.186567\n",
       "35    0.226228\n",
       "36    0.194844\n",
       "37    0.199914\n",
       "38    0.194120\n",
       "39    0.136723\n",
       "40    0.120084\n",
       "41    0.128394\n",
       "42    0.125080\n",
       "43    0.127919\n",
       "44    0.182240\n",
       "45    0.130386\n",
       "46    0.170773\n",
       "47    0.180486\n",
       "dtype: float64"
      ]
     },
     "execution_count": 62,
     "metadata": {},
     "output_type": "execute_result"
    }
   ],
   "source": [
    "E_c"
   ]
  },
  {
   "cell_type": "code",
   "execution_count": 6,
   "metadata": {
    "collapsed": false
   },
   "outputs": [
    {
     "ename": "NameError",
     "evalue": "name 'energies' is not defined",
     "output_type": "error",
     "traceback": [
      "\u001b[1;31m---------------------------------------------------------------------------\u001b[0m",
      "\u001b[1;31mNameError\u001b[0m                                 Traceback (most recent call last)",
      "\u001b[1;32m<ipython-input-6-e7843d235d5c>\u001b[0m in \u001b[0;36m<module>\u001b[1;34m()\u001b[0m\n\u001b[1;32m----> 1\u001b[1;33m \u001b[1;32mfor\u001b[0m \u001b[0me\u001b[0m \u001b[1;32min\u001b[0m \u001b[0menergies\u001b[0m\u001b[1;33m:\u001b[0m\u001b[1;33m\u001b[0m\u001b[0m\n\u001b[0m\u001b[0;32m      2\u001b[0m     \u001b[0mprint\u001b[0m\u001b[1;33m(\u001b[0m\u001b[0me\u001b[0m\u001b[1;33m.\u001b[0m\u001b[0mmean\u001b[0m\u001b[1;33m(\u001b[0m\u001b[1;33m)\u001b[0m\u001b[1;33m)\u001b[0m\u001b[1;33m\u001b[0m\u001b[0m\n",
      "\u001b[1;31mNameError\u001b[0m: name 'energies' is not defined"
     ]
    }
   ],
   "source": [
    "for e in energies:\n",
    "    print(e.mean())"
   ]
  },
  {
   "cell_type": "code",
   "execution_count": null,
   "metadata": {
    "collapsed": false
   },
   "outputs": [],
   "source": [
    "e"
   ]
  },
  {
   "cell_type": "code",
   "execution_count": null,
   "metadata": {
    "collapsed": true
   },
   "outputs": [],
   "source": [
    "def bruteforce_isotropic_relax(ellipsoid_sheet):\n",
    "    pass"
   ]
  },
  {
   "cell_type": "code",
   "execution_count": null,
   "metadata": {
    "collapsed": true
   },
   "outputs": [],
   "source": []
  }
 ],
 "metadata": {
  "kernelspec": {
   "display_name": "Python 3",
   "language": "python",
   "name": "python3"
  },
  "language_info": {
   "codemirror_mode": {
    "name": "ipython",
    "version": 3
   },
   "file_extension": ".py",
   "mimetype": "text/x-python",
   "name": "python",
   "nbconvert_exporter": "python",
   "pygments_lexer": "ipython3",
   "version": "3.5.1"
  },
  "widgets": {
   "state": {
    "7e516c7227f4436e8b095544967d938f": {
     "views": [
      {
       "cell_index": 4
      }
     ]
    }
   },
   "version": "1.2.0"
  }
 },
 "nbformat": 4,
 "nbformat_minor": 0
}
