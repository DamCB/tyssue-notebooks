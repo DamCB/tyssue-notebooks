{
 "cells": [
  {
   "cell_type": "code",
   "execution_count": 13,
   "metadata": {
    "scrolled": false
   },
   "outputs": [
    {
     "name": "stderr",
     "output_type": "stream",
     "text": [
      "/home/guillaume/miniconda3/envs/py37/lib/python3.7/site-packages/numpy/core/fromnumeric.py:2389: FutureWarning: Method .ptp is deprecated and will be removed in a future version. Use numpy.ptp instead.\n",
      "  return ptp(axis=axis, out=out, **kwargs)\n"
     ]
    },
    {
     "data": {
      "application/vnd.jupyter.widget-view+json": {
       "model_id": "001e630dc54449cd8a4b0bde11082392",
       "version_major": 2,
       "version_minor": 0
      },
      "text/plain": [
       "Figure(camera=PerspectiveCamera(fov=46.0, position=(0.0, 0.0, 2.0), quaternion=(0.0, 0.0, 0.0, 1.0), scale=(1.…"
      ]
     },
     "metadata": {},
     "output_type": "display_data"
    }
   ],
   "source": [
    "import matplotlib.pyplot as plt\n",
    "import pandas as pd\n",
    "import numpy as np\n",
    "\n",
    "import ipyvolume as ipv\n",
    "%matplotlib inline\n",
    "\n",
    "from tyssue import config\n",
    "from tyssue.draw import sheet_view\n",
    "\n",
    "from tyssue import Epithelium, BulkGeometry, config\n",
    "from tyssue.generation import from_3d_voronoi, hexa_grid3d\n",
    "from scipy.spatial import Voronoi\n",
    "\n",
    "cells = hexa_grid3d(6, 6, 6)\n",
    "datasets = from_3d_voronoi(Voronoi(cells))\n",
    "specs = config.geometry.bulk_spec()\n",
    "bulk = Epithelium('bulk', datasets, specs)\n",
    "bulk.reset_topo()\n",
    "bulk.reset_index()\n",
    "bulk.sanitize()\n",
    "\n",
    "BulkGeometry.update_all(bulk)\n",
    "\n",
    "ipv.clear()\n",
    "fig2, mesh = sheet_view(bulk, mode='3D', \n",
    "                       edge={'color': 'k'},\n",
    "                       face={'visible': True,\n",
    "                             'color': bulk.face_df.area})\n",
    "fig2"
   ]
  },
  {
   "cell_type": "code",
   "execution_count": 17,
   "metadata": {},
   "outputs": [],
   "source": [
    "from tyssue.dynamics import model_factory, effectors"
   ]
  },
  {
   "cell_type": "code",
   "execution_count": 18,
   "metadata": {},
   "outputs": [],
   "source": [
    "model = model_factory(\n",
    "    [effectors.CellVolumeElasticity,\n",
    "     effectors.SurfaceTension]\n",
    "    )\n"
   ]
  },
  {
   "cell_type": "code",
   "execution_count": 19,
   "metadata": {},
   "outputs": [
    {
     "data": {
      "text/plain": [
       "{'cell': {'is_alive': 1,\n",
       "  'vol': 1.0,\n",
       "  'vol_elasticity': 1.0,\n",
       "  'prefered_vol': 1.0}}"
      ]
     },
     "execution_count": 19,
     "metadata": {},
     "output_type": "execute_result"
    }
   ],
   "source": [
    "effectors.CellVolumeElasticity.specs"
   ]
  },
  {
   "cell_type": "code",
   "execution_count": 20,
   "metadata": {},
   "outputs": [],
   "source": [
    "specs = {\n",
    "    \"face\": \n",
    "        {\n",
    "            \"surface_tension\": 0.5,\n",
    "        },\n",
    "    \"cell\":\n",
    "    {\n",
    "        \"prefered_vol\": 1.0,\n",
    "        \"vol_elasticity\": 14,\n",
    "    }\n",
    "}\n",
    "\n",
    "bulk.update_specs(specs, reset=True)\n",
    "\n",
    "bulk.get_opposite_faces()\n",
    "\n",
    "no_opposite = bulk.face_df.query(\"opposite == -1\").index\n",
    "\n",
    "bulk.face_df.loc[no_opposite, \"surface_tension\"] = 0.7"
   ]
  },
  {
   "cell_type": "code",
   "execution_count": 21,
   "metadata": {},
   "outputs": [],
   "source": [
    "from tyssue.solvers.quasistatic import QSSolver"
   ]
  },
  {
   "cell_type": "code",
   "execution_count": 22,
   "metadata": {},
   "outputs": [
    {
     "name": "stderr",
     "output_type": "stream",
     "text": [
      "/home/guillaume/miniconda3/envs/py37/lib/python3.7/site-packages/tyssue-0.3.3-py3.7-linux-x86_64.egg/tyssue/dynamics/factory.py:85: UserWarning: setting ucoords in grad computation,please fix your specs\n",
      "  \"setting ucoords in grad computation,\" \"please fix your specs\"\n"
     ]
    },
    {
     "data": {
      "text/plain": [
       "      fun: 353.6503923117582\n",
       " hess_inv: <1740x1740 LbfgsInvHessProduct with dtype=float64>\n",
       "      jac: array([ 0.00600723, -0.04412975,  0.05844356, ..., -0.01000018,\n",
       "        0.01710981, -0.0205932 ])\n",
       "  message: b'CONVERGENCE: REL_REDUCTION_OF_F_<=_FACTR*EPSMCH'\n",
       "     nfev: 272\n",
       "      nit: 134\n",
       "   status: 0\n",
       "  success: True\n",
       "        x: array([2.48608707, 1.01660657, 0.4424385 , ..., 4.0515915 , 3.74484733,\n",
       "       3.86596709])"
      ]
     },
     "execution_count": 22,
     "metadata": {},
     "output_type": "execute_result"
    }
   ],
   "source": [
    "solver = QSSolver()\n",
    "\n",
    "solver.find_energy_min(bulk, BulkGeometry, model, options={\"ftol\":1e-8, \"gtol\":1e-7})\n",
    "\n"
   ]
  },
  {
   "cell_type": "code",
   "execution_count": 23,
   "metadata": {},
   "outputs": [],
   "source": [
    "bulk.get_opposite_faces()\n"
   ]
  },
  {
   "cell_type": "code",
   "execution_count": 24,
   "metadata": {},
   "outputs": [],
   "source": [
    "from tyssue.draw import highlight_cells"
   ]
  },
  {
   "cell_type": "code",
   "execution_count": 41,
   "metadata": {},
   "outputs": [
    {
     "name": "stderr",
     "output_type": "stream",
     "text": [
      "/home/guillaume/miniconda3/envs/py37/lib/python3.7/site-packages/numpy/core/fromnumeric.py:2389: FutureWarning: Method .ptp is deprecated and will be removed in a future version. Use numpy.ptp instead.\n",
      "  return ptp(axis=axis, out=out, **kwargs)\n"
     ]
    },
    {
     "data": {
      "application/vnd.jupyter.widget-view+json": {
       "model_id": "e9826cd34b46427b8d821fab5cee3437",
       "version_major": 2,
       "version_minor": 0
      },
      "text/plain": [
       "Figure(camera=PerspectiveCamera(fov=46.0, position=(0.0, 0.0, 2.0), quaternion=(0.0, 0.0, 0.0, 1.0), scale=(1.…"
      ]
     },
     "metadata": {},
     "output_type": "display_data"
    }
   ],
   "source": [
    "ipv.clear()\n",
    "bulk.face_df[\"visible\"] = False\n",
    "highlight_cells(bulk, 0)\n",
    "\n",
    "fig2, mesh = sheet_view(bulk, mode='3D', \n",
    "                       edge={'color': 'k'},\n",
    "                       face={'visible': True,\n",
    "                \n",
    "                             'color': bulk.face_df.area})\n",
    "fig2"
   ]
  },
  {
   "cell_type": "code",
   "execution_count": 11,
   "metadata": {},
   "outputs": [],
   "source": []
  },
  {
   "cell_type": "code",
   "execution_count": 33,
   "metadata": {},
   "outputs": [],
   "source": []
  },
  {
   "cell_type": "code",
   "execution_count": 32,
   "metadata": {},
   "outputs": [
    {
     "data": {
      "text/plain": [
       "{'edge': [('sx', 'tx', 'fx'), ('sy', 'ty', 'fy'), ('sz', 'tz', 'fz')]}"
      ]
     },
     "execution_count": 32,
     "metadata": {},
     "output_type": "execute_result"
    }
   ],
   "source": [
    "extra_cols"
   ]
  },
  {
   "cell_type": "code",
   "execution_count": 38,
   "metadata": {},
   "outputs": [],
   "source": [
    "from tyssue import History\n",
    "extra_cols = {\"edge\": ['sx', 'tx', 'fx', 'cx', 'nx',\n",
    "                       'sy', 'ty', 'fy', 'cy', 'ny',\n",
    "                       'sz', 'tz', 'fz', 'cz', 'nz']}\n",
    "\n",
    "history = History(bulk, extra_cols=extra_cols)\n",
    "\n",
    "\n",
    "dt = 0.01\n",
    "bulk.cell_df.loc[0, 'prefered_vol'] *= 2\n",
    "bulk.vert_df['friction']  = 1.\n",
    "\n",
    "for t in range(1):\n",
    "    force = - model.compute_gradient(bulk)\n",
    "    bulk.vert_df[bulk.coords] += (\n",
    "        force.values / bulk.vert_df['friction'].values[:, np.newaxis]) * dt\n",
    "    BulkGeometry.update_all(bulk)\n",
    "    history.record(['vert', 'edge'])\n"
   ]
  },
  {
   "cell_type": "code",
   "execution_count": 40,
   "metadata": {},
   "outputs": [
    {
     "data": {
      "text/plain": [
       "<Figure size 432x288 with 0 Axes>"
      ]
     },
     "metadata": {},
     "output_type": "display_data"
    },
    {
     "data": {
      "application/vnd.jupyter.widget-view+json": {
       "model_id": "dd5f3f183e334491a123c29422ed7a02",
       "version_major": 2,
       "version_minor": 0
      },
      "text/plain": [
       "interactive(children=(IntSlider(value=49, description='t', max=99), Output()), _dom_classes=('widget-interact'…"
      ]
     },
     "metadata": {},
     "output_type": "display_data"
    },
    {
     "data": {
      "text/plain": [
       "<function __main__.player(t)>"
      ]
     },
     "execution_count": 40,
     "metadata": {},
     "output_type": "execute_result"
    }
   ],
   "source": [
    "from ipywidgets import interact\n",
    "\n",
    "fig = plt.figure(2)\n",
    "\n",
    "def player(t):\n",
    "    plt.figure(2)\n",
    "    ax = plt.gca()\n",
    "    bulk = Epithelium(t, history.retrieve(t))\n",
    "    BulkGeometry.update_all(bulk)\n",
    "    ax.clear()\n",
    "    _ = sheet_view(bulk, mode='quick', ax=ax)\n",
    "    fig.canvas.draw()\n",
    "    \n",
    "interact(player, t=(0, 99))"
   ]
  },
  {
   "cell_type": "code",
   "execution_count": 48,
   "metadata": {},
   "outputs": [
    {
     "name": "stdout",
     "output_type": "stream",
     "text": [
      "(40, 50) yd.shape is 1st entry!\n",
      "(40, 50)\n"
     ]
    },
    {
     "data": {
      "image/png": "[encoded data removed]",
      "text/plain": [
       "<Figure size 432x288 with 1 Axes>"
      ]
     },
     "metadata": {
      "needs_background": "light"
     },
     "output_type": "display_data"
    }
   ],
   "source": [
    "import numpy as np                                                                    \n",
    "from scipy.interpolate import RectBivariateSpline                                      \n",
    "\n",
    "xd = np.arange(50)\n",
    "yd = np.arange(40)\n",
    "                                                                     \n",
    "# here order of coordinates is preserved                                              \n",
    "xx, yy = np.meshgrid(xd, yd)                                                            \n",
    "print(xx.shape, 'yd.shape is 1st entry!')                                              \n",
    "                                                                                       \n",
    "func2d = lambda x, y: np.exp(- (x**2/500 + y**2/1000) )                                \n",
    "                                                                                       \n",
    "data_on_grid = func2d(xx, yy)\n",
    "# shape preserved, x -> xd and y -> yd\n",
    "print(data_on_grid.shape)\n",
    "\n",
    "# optional plotting\n",
    "import matplotlib.pyplot as plt\n",
    "plt.imshow(data_on_grid)\n",
    "\n",
    "# interpolation                                                                        \n",
    "# here the x from the docs needs to be set to the yd!                                  \n",
    "# swapping of x = yd and y = xd?!                                                      \n",
    "biv_spl = RectBivariateSpline(yd, xd, data_on_grid)\n",
    "\n",
    "# throws error as dimensions not match!                                                \n",
    "try:                                                                                  \n",
    "    biv_spl = RectBivariateSpline(xd, yd, data_on_grid.T)                                \n",
    "except ValueError as e:\n",
    "    print(e)"
   ]
  },
  {
   "cell_type": "code",
   "execution_count": 43,
   "metadata": {},
   "outputs": [],
   "source": [
    "RectBivariateSpline?"
   ]
  },
  {
   "cell_type": "code",
   "execution_count": 46,
   "metadata": {},
   "outputs": [
    {
     "ename": "ValueError",
     "evalue": "x must be strictly increasing",
     "output_type": "error",
     "traceback": [
      "\u001b[0;31m---------------------------------------------------------------------------\u001b[0m",
      "\u001b[0;31mValueError\u001b[0m                                Traceback (most recent call last)",
      "\u001b[0;32m<ipython-input-46-cce3741de567>\u001b[0m in \u001b[0;36m<module>\u001b[0;34m\u001b[0m\n\u001b[0;32m----> 1\u001b[0;31m \u001b[0mbiv_spl\u001b[0m \u001b[0;34m=\u001b[0m \u001b[0mRectBivariateSpline\u001b[0m\u001b[0;34m(\u001b[0m\u001b[0mxx\u001b[0m\u001b[0;34m.\u001b[0m\u001b[0mravel\u001b[0m\u001b[0;34m(\u001b[0m\u001b[0;34m)\u001b[0m\u001b[0;34m,\u001b[0m \u001b[0myy\u001b[0m\u001b[0;34m.\u001b[0m\u001b[0mravel\u001b[0m\u001b[0;34m(\u001b[0m\u001b[0;34m)\u001b[0m\u001b[0;34m,\u001b[0m \u001b[0mdata_on_grid\u001b[0m\u001b[0;34m.\u001b[0m\u001b[0mravel\u001b[0m\u001b[0;34m(\u001b[0m\u001b[0;34m)\u001b[0m\u001b[0;34m)\u001b[0m\u001b[0;34m\u001b[0m\u001b[0;34m\u001b[0m\u001b[0m\n\u001b[0m",
      "\u001b[0;32m~/miniconda3/envs/py37/lib/python3.7/site-packages/scipy/interpolate/fitpack2.py\u001b[0m in \u001b[0;36m__init__\u001b[0;34m(self, x, y, z, bbox, kx, ky, s)\u001b[0m\n\u001b[1;32m   1164\u001b[0m         \u001b[0mx\u001b[0m\u001b[0;34m,\u001b[0m \u001b[0my\u001b[0m \u001b[0;34m=\u001b[0m \u001b[0mravel\u001b[0m\u001b[0;34m(\u001b[0m\u001b[0mx\u001b[0m\u001b[0;34m)\u001b[0m\u001b[0;34m,\u001b[0m \u001b[0mravel\u001b[0m\u001b[0;34m(\u001b[0m\u001b[0my\u001b[0m\u001b[0;34m)\u001b[0m\u001b[0;34m\u001b[0m\u001b[0;34m\u001b[0m\u001b[0m\n\u001b[1;32m   1165\u001b[0m         \u001b[0;32mif\u001b[0m \u001b[0;32mnot\u001b[0m \u001b[0mall\u001b[0m\u001b[0;34m(\u001b[0m\u001b[0mdiff\u001b[0m\u001b[0;34m(\u001b[0m\u001b[0mx\u001b[0m\u001b[0;34m)\u001b[0m \u001b[0;34m>\u001b[0m \u001b[0;36m0.0\u001b[0m\u001b[0;34m)\u001b[0m\u001b[0;34m:\u001b[0m\u001b[0;34m\u001b[0m\u001b[0;34m\u001b[0m\u001b[0m\n\u001b[0;32m-> 1166\u001b[0;31m             \u001b[0;32mraise\u001b[0m \u001b[0mValueError\u001b[0m\u001b[0;34m(\u001b[0m\u001b[0;34m'x must be strictly increasing'\u001b[0m\u001b[0;34m)\u001b[0m\u001b[0;34m\u001b[0m\u001b[0;34m\u001b[0m\u001b[0m\n\u001b[0m\u001b[1;32m   1167\u001b[0m         \u001b[0;32mif\u001b[0m \u001b[0;32mnot\u001b[0m \u001b[0mall\u001b[0m\u001b[0;34m(\u001b[0m\u001b[0mdiff\u001b[0m\u001b[0;34m(\u001b[0m\u001b[0my\u001b[0m\u001b[0;34m)\u001b[0m \u001b[0;34m>\u001b[0m \u001b[0;36m0.0\u001b[0m\u001b[0;34m)\u001b[0m\u001b[0;34m:\u001b[0m\u001b[0;34m\u001b[0m\u001b[0;34m\u001b[0m\u001b[0m\n\u001b[1;32m   1168\u001b[0m             \u001b[0;32mraise\u001b[0m \u001b[0mValueError\u001b[0m\u001b[0;34m(\u001b[0m\u001b[0;34m'y must be strictly increasing'\u001b[0m\u001b[0;34m)\u001b[0m\u001b[0;34m\u001b[0m\u001b[0;34m\u001b[0m\u001b[0m\n",
      "\u001b[0;31mValueError\u001b[0m: x must be strictly increasing"
     ]
    }
   ],
   "source": [
    "biv_spl = RectBivariateSpline(xx.ravel(), yy.ravel(), data_on_grid.ravel())                                    \n"
   ]
  },
  {
   "cell_type": "code",
   "execution_count": null,
   "metadata": {},
   "outputs": [],
   "source": []
  }
 ],
 "metadata": {
  "kernelspec": {
   "display_name": "Python 3",
   "language": "python",
   "name": "python3"
  },
  "language_info": {
   "codemirror_mode": {
    "name": "ipython",
    "version": 3
   },
   "file_extension": ".py",
   "mimetype": "text/x-python",
   "name": "python",
   "nbconvert_exporter": "python",
   "pygments_lexer": "ipython3",
   "version": "3.7.3"
  }
 },
 "nbformat": 4,
 "nbformat_minor": 2
}
