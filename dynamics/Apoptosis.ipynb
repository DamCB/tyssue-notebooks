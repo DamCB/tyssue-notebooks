{
 "cells": [
  {
   "cell_type": "markdown",
   "metadata": {
    "collapsed": true
   },
   "source": [
    "# Single Cell apoptosis\n",
    "\n",
    "#### As decribed in Monier et al. 2015"
   ]
  },
  {
   "cell_type": "code",
   "execution_count": 4,
   "metadata": {
    "collapsed": false
   },
   "outputs": [],
   "source": [
    "import pandas as pd\n",
    "import numpy as np\n",
    "import json\n",
    "import matplotlib.pylab as plt\n",
    "%matplotlib inline\n",
    "\n",
    "from tyssue.core.sheet import Sheet\n",
    "\n",
    "from tyssue import config\n",
    "#from tyssue.config.json_parser import load_default\n",
    "\n",
    "from tyssue.geometry.sheet_geometry import SheetGeometry as geom\n",
    "from tyssue.dynamics.sheet_vertex_model import SheetModel as basemodel\n",
    "\n",
    "from tyssue.dynamics.apoptosis_model import SheetApoptosisModel as model\n",
    "from tyssue.solvers.sheet_vertex_solver import Solver as solver\n",
    "\n",
    "#from tyssue.dynamics.sheet_isotropic_model import isotropic_relax\n",
    "\n",
    "from tyssue.draw.vispy_draw import vp_view\n",
    "from tyssue.topology.sheet_topology import type1_transition, remove_face\n",
    "\n",
    "from tyssue.draw.plt_draw import sheet_view\n",
    "import tyssue.draw.plt_draw as draw\n",
    "from tyssue.io.hdf5 import load_datasets"
   ]
  },
  {
   "cell_type": "markdown",
   "metadata": {},
   "source": [
    "### Loading the datasets and specifications\n",
    "\n",
    "Here it is a cylindrical hexagonal mesh."
   ]
  },
  {
   "cell_type": "code",
   "execution_count": 5,
   "metadata": {
    "collapsed": false
   },
   "outputs": [
    {
     "name": "stdout",
     "output_type": "stream",
     "text": [
      "Apoptosis.ipynb            Cell Division.ipynb        Type 1 transition.ipynb\r\n",
      "Boundary conditions.ipynb  Energy minimization.ipynb\r\n"
     ]
    }
   ],
   "source": [
    "ls"
   ]
  },
  {
   "cell_type": "code",
   "execution_count": 6,
   "metadata": {
    "collapsed": false
   },
   "outputs": [],
   "source": [
    "# h5store = 'before_apoptosis.hf5'\n",
    "h5store = '../data/hf5/small_hexagonal.hf5'\n",
    "\n",
    "datasets = load_datasets(h5store,\n",
    "                         data_names=['face', 'vert', 'edge'])\n",
    "specs = config.geometry.cylindrical_sheet()\n",
    "sheet = Sheet('emin', datasets, specs)\n",
    "geom.update_all(sheet)\n",
    "\n",
    "nondim_specs = config.dynamics.quasistatic_sheet_spec()\n",
    "dim_model_specs = model.dimentionalize(nondim_specs)\n",
    "sheet.update_specs(dim_model_specs)\n",
    "\n",
    "\n",
    "live_edges = sheet.upcast_face(sheet.face_df.is_alive)\n",
    "dead_src = set(sheet.edge_df[live_edges==0].srce)\n",
    "\n",
    "### Boundary conditions\n",
    "sheet.vert_df.is_active = 1\n",
    "sheet.vert_df.loc[dead_src, 'is_active'] = 0"
   ]
  },
  {
   "cell_type": "code",
   "execution_count": 7,
   "metadata": {
    "collapsed": false
   },
   "outputs": [
    {
     "data": {
      "text/html": [
       "<div>\n",
       "<table border=\"1\" class=\"dataframe\">\n",
       "  <thead>\n",
       "    <tr style=\"text-align: right;\">\n",
       "      <th></th>\n",
       "      <th>y</th>\n",
       "      <th>z</th>\n",
       "      <th>x</th>\n",
       "      <th>rho</th>\n",
       "      <th>old_idx</th>\n",
       "      <th>basal_shift</th>\n",
       "      <th>height</th>\n",
       "      <th>radial_tension</th>\n",
       "    </tr>\n",
       "    <tr>\n",
       "      <th>is_active</th>\n",
       "      <th></th>\n",
       "      <th></th>\n",
       "      <th></th>\n",
       "      <th></th>\n",
       "      <th></th>\n",
       "      <th></th>\n",
       "      <th></th>\n",
       "      <th></th>\n",
       "    </tr>\n",
       "  </thead>\n",
       "  <tbody>\n",
       "    <tr>\n",
       "      <th>0</th>\n",
       "      <td>6.661338e-16</td>\n",
       "      <td>4.969103e-10</td>\n",
       "      <td>-1.276756e-15</td>\n",
       "      <td>5.987904</td>\n",
       "      <td>103.5</td>\n",
       "      <td>-2.878023</td>\n",
       "      <td>8.865927</td>\n",
       "      <td>0.0</td>\n",
       "    </tr>\n",
       "    <tr>\n",
       "      <th>1</th>\n",
       "      <td>8.604228e-16</td>\n",
       "      <td>-2.220446e-16</td>\n",
       "      <td>-1.915135e-15</td>\n",
       "      <td>5.987904</td>\n",
       "      <td>103.5</td>\n",
       "      <td>-2.878023</td>\n",
       "      <td>8.865927</td>\n",
       "      <td>0.0</td>\n",
       "    </tr>\n",
       "  </tbody>\n",
       "</table>\n",
       "</div>"
      ],
      "text/plain": [
       "                      y             z             x       rho  old_idx  \\\n",
       "is_active                                                                \n",
       "0          6.661338e-16  4.969103e-10 -1.276756e-15  5.987904    103.5   \n",
       "1          8.604228e-16 -2.220446e-16 -1.915135e-15  5.987904    103.5   \n",
       "\n",
       "           basal_shift    height  radial_tension  \n",
       "is_active                                         \n",
       "0            -2.878023  8.865927             0.0  \n",
       "1            -2.878023  8.865927             0.0  "
      ]
     },
     "execution_count": 7,
     "metadata": {},
     "output_type": "execute_result"
    }
   ],
   "source": [
    "sheet.vert_df.groupby('is_active').mean()"
   ]
  },
  {
   "cell_type": "code",
   "execution_count": 8,
   "metadata": {
    "collapsed": false
   },
   "outputs": [
    {
     "name": "stdout",
     "output_type": "stream",
     "text": [
      "True\n"
     ]
    }
   ],
   "source": [
    "min_settings = {\n",
    "    'minimize': {\n",
    "        'options': {\n",
    "            'disp': False,\n",
    "            'ftol': 1e-6,    \n",
    "            'gtol': 1e-5},\n",
    "        }\n",
    "    }\n",
    "\n",
    "res = solver.find_energy_min(sheet, geom, model, **min_settings)\n",
    "print(res['success'])"
   ]
  },
  {
   "cell_type": "code",
   "execution_count": 9,
   "metadata": {
    "collapsed": false
   },
   "outputs": [
    {
     "data": {
      "image/png": "[encoded data removed]",
      "text/plain": [
       "<matplotlib.figure.Figure at 0x7f8b60714f60>"
      ]
     },
     "metadata": {},
     "output_type": "display_data"
    }
   ],
   "source": [
    "def leg_joint_view(sheet, coords=['z', 'x', 'y']):\n",
    "\n",
    "    x, y, z = coords\n",
    "    datasets = {}\n",
    "    \n",
    "    datasets['face'] = sheet.face_df.sort_values(z)\n",
    "    datasets['vert'] = sheet.vert_df.sort_values(z)\n",
    "    edge_z = 0.5 * (sheet.upcast_srce(sheet.vert_df[z]) +\n",
    "                    sheet.upcast_trgt(sheet.vert_df[z]))\n",
    "    datasets['edge'] = sheet.edge_df.copy()\n",
    "    datasets['edge'][z] = edge_z\n",
    "    datasets['edge'] = datasets['edge'].sort_values(z)\n",
    "    \n",
    "    tmp_sheet = Sheet('tmp', datasets,\n",
    "                      sheet.specs)\n",
    "    tmp_sheet.reset_index()\n",
    "    cmap = plt.cm.get_cmap('viridis')\n",
    "    \n",
    "    e_depth = (tmp_sheet.edge_df[z] -\n",
    "               tmp_sheet.edge_df[z].min()) / tmp_sheet.edge_df[z].ptp()\n",
    "    depth_cmap = cmap(e_depth)\n",
    "    draw_specs = {\n",
    "        'vert': {\n",
    "            'visible': False\n",
    "            },\n",
    "        'edge': {\n",
    "            'color': depth_cmap,\n",
    "            #'zorder': depth.values\n",
    "            }\n",
    "        }\n",
    "    \n",
    "    fig, ax = sheet_view(tmp_sheet, coords[:2], **draw_specs)\n",
    "    ax.set_xlim(-20, 20)\n",
    "    ax.set_ylim(-15, 15)\n",
    "    ax.set_axis_bgcolor('#404040')\n",
    "    ax.set_xticks([])\n",
    "    ax.set_yticks([])\n",
    "    fig.set_size_inches((16, 19))\n",
    "    return fig, ax\n",
    "\n",
    "fig, ax = leg_joint_view(sheet)\n"
   ]
  },
  {
   "cell_type": "code",
   "execution_count": 10,
   "metadata": {
    "collapsed": false
   },
   "outputs": [
    {
     "name": "stdout",
     "output_type": "stream",
     "text": [
      "Apoptotic cell position:\n",
      "x   -2.238969\n",
      "y    5.413359\n",
      "z   -4.033463\n",
      "Name: 16, dtype: float64\n",
      "Indices of the apoptotic vertices: [28 39 29 38 40 41]\n"
     ]
    }
   ],
   "source": [
    "apoptotic_cell = 16\n",
    "print('Apoptotic cell position:\\n{}'.format(sheet.face_df.loc[apoptotic_cell, sheet.coords]))\n",
    "apoptotic_edges = sheet.edge_df[sheet.edge_df['face'] == apoptotic_cell]\n",
    "apoptotic_verts = apoptotic_edges['srce'].values\n",
    "print(\"Indices of the apoptotic vertices: {}\".format(apoptotic_verts))"
   ]
  },
  {
   "cell_type": "code",
   "execution_count": 11,
   "metadata": {
    "collapsed": false
   },
   "outputs": [
    {
     "name": "stdout",
     "output_type": "stream",
     "text": [
      "Defined events (single time step):\n",
      "type1_at_shorter\n",
      "ab_pull\n",
      "shrink\n",
      "contract\n",
      "type3\n",
      "grow\n",
      "divide\n"
     ]
    }
   ],
   "source": [
    "from tyssue.behaviors.sheet_events import SheetEvents\n",
    "from tyssue.behaviors.behaviors import apoptosis_time_table\n",
    "events = SheetEvents(sheet, model, geom).events\n",
    "\n",
    "print('Defined events (single time step):')\n",
    "print('\\n'.join([k for k in events]))\n"
   ]
  },
  {
   "cell_type": "code",
   "execution_count": 12,
   "metadata": {
    "collapsed": true
   },
   "outputs": [],
   "source": [
    "sheet.settings['apoptosis'] = {\n",
    "    'shrink_steps': 20,\n",
    "    'rad_tension': 1,\n",
    "    'contractile_increase': 2,\n",
    "    'contract_span': 2\n",
    "    }\n",
    "\n",
    "times, time_table = apoptosis_time_table(sheet,\n",
    "                                         apoptotic_cell,\n",
    "                                         events,\n",
    "                                         start_t=0)"
   ]
  },
  {
   "cell_type": "code",
   "execution_count": 13,
   "metadata": {
    "collapsed": false
   },
   "outputs": [
    {
     "data": {
      "text/plain": [
       "t   face\n",
       "0   16      0.05\n",
       "1   16      0.05\n",
       "2   16      0.05\n",
       "3   16      0.05\n",
       "4   16      0.05\n",
       "5   16      0.05\n",
       "6   16      0.05\n",
       "7   16      0.05\n",
       "8   16      0.05\n",
       "9   16      0.05\n",
       "10  16      0.05\n",
       "11  16      0.05\n",
       "12  16      0.05\n",
       "13  16      0.05\n",
       "14  16      0.05\n",
       "15  16      0.05\n",
       "16  16      0.05\n",
       "17  16      0.05\n",
       "18  16      0.05\n",
       "19  16      0.05\n",
       "Name: ab_pull, dtype: object"
      ]
     },
     "execution_count": 13,
     "metadata": {},
     "output_type": "execute_result"
    }
   ],
   "source": [
    "time_table.ab_pull.dropna()"
   ]
  },
  {
   "cell_type": "code",
   "execution_count": 14,
   "metadata": {
    "collapsed": false
   },
   "outputs": [],
   "source": [
    "for t in times:\n",
    "    face_events = time_table.loc[t]\n",
    "    for face, evts in face_events.iterrows():\n",
    "        for event_name, event_arg in evts.dropna().items():\n",
    "            events[event_name](face, event_arg)\n",
    "\n",
    "    res = solver.find_energy_min(sheet, geom, model, **min_settings)\n",
    "    fig, ax = leg_joint_view(sheet)\n",
    "    plt.savefig('../data/png/single_apopto_{:03d}.png'.format(t))\n",
    "    plt.close(fig)"
   ]
  },
  {
   "cell_type": "code",
   "execution_count": 15,
   "metadata": {
    "collapsed": false
   },
   "outputs": [
    {
     "name": "stdout",
     "output_type": "stream",
     "text": [
      "Apoptosis.ipynb            Cell Division.ipynb        Type 1 transition.ipynb\r\n",
      "Boundary conditions.ipynb  Energy minimization.ipynb\r\n"
     ]
    }
   ],
   "source": [
    "ls\n"
   ]
  },
  {
   "cell_type": "markdown",
   "metadata": {},
   "source": [
    "providing you have ImageMagick on your system:"
   ]
  },
  {
   "cell_type": "code",
   "execution_count": 17,
   "metadata": {
    "collapsed": true
   },
   "outputs": [],
   "source": [
    "%%bash\n",
    "convert ../data/png/single_apopto_*.png ../data/gif/single_apopto.gif"
   ]
  },
  {
   "cell_type": "markdown",
   "metadata": {},
   "source": [
    "Voilà!!\n",
    "\n",
    "![The result of our simulation](../data/gif/single_apopto.gif)"
   ]
  }
 ],
 "metadata": {
  "kernelspec": {
   "display_name": "Python 3",
   "language": "python",
   "name": "python3"
  },
  "language_info": {
   "codemirror_mode": {
    "name": "ipython",
    "version": 3
   },
   "file_extension": ".py",
   "mimetype": "text/x-python",
   "name": "python",
   "nbconvert_exporter": "python",
   "pygments_lexer": "ipython3",
   "version": "3.5.1"
  }
 },
 "nbformat": 4,
 "nbformat_minor": 0
}
