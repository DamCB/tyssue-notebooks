{
 "cells": [
  {
   "cell_type": "code",
   "execution_count": null,
   "metadata": {
    "collapsed": false
   },
   "outputs": [],
   "source": [
    "\n",
    "import pandas as pd\n",
    "import numpy as np\n",
    "import json\n",
    "import matplotlib.pylab as plt\n",
    "%matplotlib inline\n",
    "from scipy import optimize\n",
    "\n",
    "\n",
    "\n",
    "from tyssue.utils.utils import set_data_columns\n",
    "from tyssue.core.sheet import Sheet\n",
    "\n",
    "from tyssue.utils.utils import set_data_columns\n",
    "\n",
    "from tyssue.geometry.sheet_geometry import SheetGeometry as geom\n",
    "from tyssue.dynamics.sheet_vertex_model import SheetModel as model\n",
    "from tyssue.solvers.sheet_vertex_solver import Solver as solver\n",
    "\n",
    "from tyssue.dynamics.sheet_isotropic_model import isotropic_relax\n",
    "from tyssue.config.json_parser import load_default\n",
    "\n",
    "\n",
    "from tyssue.draw.mpl_draw import sheet_view\n",
    "import tyssue.draw.mpl_draw as draw\n",
    "from tyssue.draw.vispy_draw import vp_view\n",
    "\n",
    "from tyssue.io import hdf5\n",
    "\n",
    "from tyssue.io import obj\n",
    "\n"
   ]
  },
  {
   "cell_type": "code",
   "execution_count": null,
   "metadata": {
    "collapsed": false
   },
   "outputs": [],
   "source": [
    "datasets = hdf5.load_datasets('before_apoptosis.hf5')\n",
    "\n",
    "sheet = Sheet('pola', datasets)\n",
    "sheet.set_geom('sheet')\n",
    "geom.update_all(sheet)\n",
    "\n",
    "\n",
    "nondim_specs = load_default('dynamics', 'sheet')\n",
    "dim_model_specs = model.dimentionalize(nondim_specs)\n",
    "\n",
    "sheet.set_model('sheet', dim_model_specs)\n",
    "sheet.nrj_norm_factor = sheet.specs['settings']['nrj_norm_factor']\n",
    "# isotropic_relax(sheet)\n",
    "\n"
   ]
  },
  {
   "cell_type": "code",
   "execution_count": null,
   "metadata": {
    "collapsed": false
   },
   "outputs": [],
   "source": [
    "sheet.settings\n"
   ]
  },
  {
   "cell_type": "code",
   "execution_count": null,
   "metadata": {
    "collapsed": true
   },
   "outputs": [],
   "source": [
    "%matplotlib inline"
   ]
  },
  {
   "cell_type": "markdown",
   "metadata": {},
   "source": [
    "```python\n",
    "local_mask_vert = (sheet.vert_df.x.abs() < 20) & (sheet.vert_df.z.abs() < 10) & (sheet.vert_df.y > 0)\n",
    "local_patch_vert = sheet.vert_df[local_mask_vert] \n",
    "local_patch_edge = sheet.edge_df[sheet.upcast_srce(local_mask_vert) & sheet.upcast_trgt(local_mask_vert)]\n",
    "local_patch_face = sheet.face_df.loc[np.unique(local_patch_edge.index.get_level_values('face'))]\n",
    "local_datasets = {'vert': local_patch_vert,\n",
    "                  'edge': local_patch_edge,\n",
    "                  'face':local_patch_face}\n",
    "local_sheet = Sheet('local', local_datasets)\n",
    "```"
   ]
  },
  {
   "cell_type": "code",
   "execution_count": null,
   "metadata": {
    "collapsed": false
   },
   "outputs": [],
   "source": [
    "sheet.vert_df.head()"
   ]
  },
  {
   "cell_type": "code",
   "execution_count": null,
   "metadata": {
    "collapsed": false,
    "scrolled": true
   },
   "outputs": [],
   "source": [
    "live_edge = sheet.upcast_face(sheet.face_df.is_alive).astype(np.bool)\n",
    "dead_edge = np.logical_not(live_edge)\n",
    "inactive_verts = set(sheet.edge_df[dead_edge].srce)\n",
    "\n",
    "active_verts = set(sheet.vert_df.index).difference(inactive_verts)\n",
    "active_verts = list(active_verts)\n",
    "sheet.vert_df.is_active = 0\n",
    "sheet.vert_df.loc[active_verts, 'is_active'] = 1\n",
    "# sheet.vert_df.is_active = 1"
   ]
  },
  {
   "cell_type": "code",
   "execution_count": null,
   "metadata": {
    "collapsed": false
   },
   "outputs": [],
   "source": [
    "# vp_view(sheet, coords=['z', 'x', 'y'])\n",
    "# obj.write_splitted_cells(sheet, 'test_pola.obj')"
   ]
  },
  {
   "cell_type": "code",
   "execution_count": null,
   "metadata": {
    "collapsed": false
   },
   "outputs": [],
   "source": [
    "\n",
    "draw_specs = load_default('draw', 'sheet')\n",
    "draw_specs['vert']['visible'] = False\n",
    "draw_specs['edge']['width'] = 0.2\n",
    "draw_specs['edge']['width'] = sheet.upcast_srce(sheet.vert_df.y > 0).astype(np.float)*0.5\n",
    "\n",
    "fig, ax = sheet_view(sheet, ['z', 'x'], **draw_specs)\n",
    "ax.set_xlim(sheet.vert_df.z.min()-1, sheet.vert_df.z.max()+1)\n",
    "ax.set_ylim(sheet.vert_df.x.min()-1, sheet.vert_df.x.max()+1)\n",
    "fig.set_size_inches(12, 12)\n",
    "plt.savefig('test_pola.png')\n",
    "\n"
   ]
  },
  {
   "cell_type": "code",
   "execution_count": null,
   "metadata": {
    "collapsed": false
   },
   "outputs": [],
   "source": [
    "\n",
    "settings = {\n",
    "    'norm_factor': 1,\n",
    "    'minimize': {\n",
    "        'method': 'L-BFGS-B',\n",
    "        'options': {'disp': False,\n",
    "                    'ftol': 1e-6,\n",
    "                    'gtol': 1e-6},\n",
    "        }\n",
    "    }\n",
    "\n",
    "\n",
    "res = solver.find_energy_min(sheet, geom, model, **settings)\n",
    "print(res['success'])"
   ]
  },
  {
   "cell_type": "code",
   "execution_count": null,
   "metadata": {
    "collapsed": false
   },
   "outputs": [],
   "source": [
    "# center_edges = sheet.edge_df[sheet.upcast_srce(sheet.vert_df['z']).abs() < 10].index\n",
    "\n",
    "# sheet.edge_df.loc[center_edges, 'line_tension'] = (sheet.edge_df.loc[center_edges, 'line_tension'] * \n",
    "#                                               (5*np.sin(sheet.edge_df.loc[center_edges, 'nz'])**2))\n",
    "\n",
    "orient = sheet.edge_df['dz'] /  sheet.edge_df['length']\n",
    "sheet.edge_df['line_tension'] = (sheet.specs['edge']['line_tension'] * \n",
    "                                 2*(orient**2))\n",
    "\n",
    "fig, ax = plt.subplots()\n",
    "ax.plot(sheet.upcast_srce(sheet.vert_df['z']), sheet.edge_df['line_tension'], '.', alpha=0.2)"
   ]
  },
  {
   "cell_type": "code",
   "execution_count": null,
   "metadata": {
    "collapsed": false
   },
   "outputs": [],
   "source": [
    "settings = {\n",
    "    'minimize': {\n",
    "        'options': {'disp':False,\n",
    "        'gtol':1e-4,\n",
    "        'ftol':1e-4},\n",
    "        }\n",
    "    }\n",
    "res = solver.find_energy_min(sheet,  geom, model, pos_idx=active_verts, **settings)\n",
    "print(res['success'])"
   ]
  },
  {
   "cell_type": "code",
   "execution_count": null,
   "metadata": {
    "collapsed": false
   },
   "outputs": [],
   "source": [
    "draw_specs['vert']['visible'] = False\n",
    "\n",
    "\n",
    "edge_color = sheet.edge_df['line_tension'] / sheet.edge_df['line_tension'].max()\n",
    "cmap = plt.cm.get_cmap('viridis')\n",
    "edge_cmap = cmap(edge_color)\n",
    "draw_specs['edge']['color'] = edge_cmap\n",
    "draw_specs['edge']['width'] = sheet.upcast_srce(sheet.vert_df.y > 0).astype(np.float)\n",
    "\n",
    "\n",
    "fig, ax = sheet_view(sheet, ['z', 'x'], **draw_specs)\n",
    "ax.set_xlim(sheet.vert_df.z.min() - 1,\n",
    "            sheet.vert_df.z.max() + 1)\n",
    "ax.set_ylim(sheet.vert_df.x.min() - 1,\n",
    "            sheet.vert_df.x.max() + 1)\n"
   ]
  },
  {
   "cell_type": "code",
   "execution_count": null,
   "metadata": {
    "collapsed": false
   },
   "outputs": [],
   "source": [
    "local_mask_vert = (sheet.vert_df.x.abs() < 20) & (sheet.vert_df.z.abs() < 20) & (sheet.vert_df.y > 0)\n",
    "local_patch_vert = sheet.vert_df[local_mask_vert] \n",
    "local_patch_edge = sheet.edge_df[sheet.upcast_srce(local_mask_vert) & sheet.upcast_trgt(local_mask_vert)]\n",
    "local_patch_cell = sheet.face_df.loc[np.unique(local_patch_edge.face)]\n",
    "local_datasets = {'vert': local_patch_vert,\n",
    "                  'edge': local_patch_edge,\n",
    "                  'face': local_patch_cell}\n",
    "local_sheet = Sheet('local', local_datasets)\n",
    "\n",
    "fig, ax = sheet_view(local_sheet, ['z', 'x'], **draw_specs)\n",
    "ax.set_xlim(local_sheet.vert_df.z.min()-1, local_sheet.vert_df.z.max()+1)\n",
    "ax.set_ylim(local_sheet.vert_df.x.min()-1, local_sheet.vert_df.x.max()+1)"
   ]
  },
  {
   "cell_type": "code",
   "execution_count": null,
   "metadata": {
    "collapsed": false
   },
   "outputs": [],
   "source": [
    "h = plt.hist(sheet.edge_df.length, bins=100)"
   ]
  },
  {
   "cell_type": "code",
   "execution_count": null,
   "metadata": {
    "collapsed": true
   },
   "outputs": [],
   "source": []
  }
 ],
 "metadata": {
  "kernelspec": {
   "display_name": "Python 3",
   "language": "python",
   "name": "python3"
  },
  "language_info": {
   "codemirror_mode": {
    "name": "ipython",
    "version": 3
   },
   "file_extension": ".py",
   "mimetype": "text/x-python",
   "name": "python",
   "nbconvert_exporter": "python",
   "pygments_lexer": "ipython3",
   "version": "3.4.4"
  }
 },
 "nbformat": 4,
 "nbformat_minor": 0
}
