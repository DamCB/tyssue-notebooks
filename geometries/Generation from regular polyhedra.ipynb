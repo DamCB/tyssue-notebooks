{
 "cells": [
  {
   "cell_type": "markdown",
   "metadata": {
    "collapsed": true
   },
   "source": [
    "In this notebook, we use [Simon Tatham's work](http://www.chiark.greenend.org.uk/~sgtatham/polyhedra/) on polyhedra as a base to create a blastula-like epithelium (make sure to explore Simon's website, I'll wait here)."
   ]
  },
  {
   "cell_type": "markdown",
   "metadata": {},
   "source": [
    "### Imports"
   ]
  },
  {
   "cell_type": "code",
   "execution_count": 2,
   "metadata": {},
   "outputs": [],
   "source": [
    "import numpy as np, pandas as pd\n",
    "import matplotlib.pylab as plt\n",
    "%matplotlib inline\n",
    "from IPython.display import display\n",
    "\n",
    "from tyssue import config, Epithelium, Sheet\n",
    "from tyssue import SheetGeometry as sgeom, BulkGeometry as geom\n",
    "from tyssue.generation import extrude\n",
    "\n",
    "from tyssue.draw import sheet_view\n"
   ]
  },
  {
   "cell_type": "markdown",
   "metadata": {},
   "source": [
    "#### File parser for S. Thatam polyhedra files "
   ]
  },
  {
   "cell_type": "code",
   "execution_count": 3,
   "metadata": {},
   "outputs": [
    {
     "name": "stdout",
     "output_type": "stream",
     "text": [
      "cube\t\t\t     octahedron\t\t\t  triakisicosahedron\r\n",
      "cuboctahedron\t\t     pentakisdodecahedron\t  triakisoctahedron\r\n",
      "dodecahedron\t\t     rhombicdodecahedron\t  triakistetrahedron\r\n",
      "greatrhombicosidodecahedron  rhombictriacontahedron\t  truncatedcube\r\n",
      "greatrhombicuboctahedron     smallrhombicosidodecahedron  truncateddodecahedron\r\n",
      "hexakisicosahedron\t     smallrhombicuboctahedron\t  truncatedicosahedron\r\n",
      "hexakisoctahedron\t     tetrahedron\t\t  truncatedoctahedron\r\n",
      "icosahedron\t\t     tetrakishexahedron\t\t  truncatedtetrahedron\r\n",
      "icosidodecahedron\t     trapezoidalhexecontahedron\r\n",
      "LICENCE\t\t\t     trapezoidalicositetrahedron\r\n"
     ]
    }
   ],
   "source": [
    "# What to we have?\n",
    "!ls ../data/polyhedra/"
   ]
  },
  {
   "cell_type": "markdown",
   "metadata": {},
   "source": [
    "The file structure is prety strait forward:"
   ]
  },
  {
   "cell_type": "code",
   "execution_count": 4,
   "metadata": {},
   "outputs": [
    {
     "name": "stdout",
     "output_type": "stream",
     "text": [
      "point A -0.53934466291663152 -0.66666666666666674 -1.4120226591665967\n",
      "point B -1.0786893258332635 -0.33333333333333326 -1.2060113295832982\n",
      "point C 0.0 -0.33333333333333348 -1.6180339887498949\n",
      "point D 0.0 0.33333333333333348 -1.6180339887498949\n",
      "point E 0.53934466291663152 0.66666666666666674 -1.4120226591665967\n",
      "point F 1.0786893258332635 0.33333333333333326 -1.2060113295832982\n",
      "point G 0.0 -0.33333333333333348 1.6180339887498949\n",
      "point H 0.0 0.33333333333333348 1.6180339887498949\n",
      "point I -0.53934466291663152 0.66666666666666674 1.4120226591665967\n",
      "point J -1.0786893258332635 0.33333333333333326 1.2060113295832982\n"
     ]
    }
   ],
   "source": [
    "%%bash\n",
    "head ../data/polyhedra/truncatedicosahedron"
   ]
  },
  {
   "cell_type": "code",
   "execution_count": 5,
   "metadata": {},
   "outputs": [
    {
     "name": "stdout",
     "output_type": "stream",
     "text": [
      "face JBfAdZAr Ad\n",
      "face JBfAdZAr Z\n",
      "face JBfAdZAr Ar\n",
      "normal JBfAdZAr -0.85065080835203999 0.0 0.52573111211913359\n",
      "face LAvAhAjBh L\n",
      "face LAvAhAjBh Av\n",
      "face LAvAhAjBh Ah\n",
      "face LAvAhAjBh Aj\n",
      "face LAvAhAjBh Bh\n",
      "normal LAvAhAjBh 0.85065080835203999 0.0 0.52573111211913359\n"
     ]
    }
   ],
   "source": [
    "%%bash\n",
    "tail ../data/polyhedra/truncatedicosahedron"
   ]
  },
  {
   "cell_type": "code",
   "execution_count": 6,
   "metadata": {},
   "outputs": [],
   "source": [
    "def parse_polyhedron(fname):\n",
    "    '''\n",
    "    Parses a polynome description provided by Simon Tatham\n",
    "    \n",
    "    Polyhedron files are retrieved from\n",
    "    http://www.chiark.greenend.org.uk/~sgtatham/polyhedra/\n",
    "    \n",
    "    Parameters\n",
    "    ----------\n",
    "    fname: str or path\n",
    "      The polyhedron file to parse\n",
    "    \n",
    "    Returns\n",
    "    -------\n",
    "    datasets: dict\n",
    "      The vert, edge and face datasets\n",
    "\n",
    "\n",
    "    The software in this archive is copyright 2003,2004 Simon Tatham.\n",
    "\n",
    "    Permission is hereby granted, free of charge, to any person\n",
    "    obtaining a copy of this software and associated documentation files\n",
    "    (the \"Software\"), to deal in the Software without restriction,\n",
    "    including without limitation the rights to use, copy, modify, merge,\n",
    "    publish, distribute, sublicense, and/or sell copies of the Software,\n",
    "    and to permit persons to whom the Software is furnished to do so,\n",
    "    subject to the following conditions:\n",
    "\n",
    "    The above copyright notice and this permission notice shall be\n",
    "    included in all copies or substantial portions of the Software.\n",
    "\n",
    "    THE SOFTWARE IS PROVIDED \"AS IS\", WITHOUT WARRANTY OF ANY KIND,\n",
    "    EXPRESS OR IMPLIED, INCLUDING BUT NOT LIMITED TO THE WARRANTIES OF\n",
    "    MERCHANTABILITY, FITNESS FOR A PARTICULAR PURPOSE AND\n",
    "    NONINFRINGEMENT.  IN NO EVENT SHALL THE COPYRIGHT HOLDERS BE LIABLE\n",
    "    FOR ANY CLAIM, DAMAGES OR OTHER LIABILITY, WHETHER IN AN ACTION OF\n",
    "    CONTRACT, TORT OR OTHERWISE, ARISING FROM, OUT OF OR IN CONNECTION\n",
    "    WITH THE SOFTWARE OR THE USE OR OTHER DEALINGS IN THE SOFTWARE.\n",
    "    '''\n",
    "    \n",
    "    \n",
    "    with open(fname, 'r+') as th:\n",
    "        lines = th.readlines()\n",
    "\n",
    "    point_lines = [l.split(' ') for l in lines if l.startswith('point')]\n",
    "    # point Bh 1.0786893258332635 0.33333333333333326 1.2060113295832982\n",
    "\n",
    "    points = np.array([[np.float(s) for s in p[-3:]] for p in point_lines])\n",
    "    point_ids = [p[1] for p in point_lines]\n",
    "\n",
    "    vert_df = pd.DataFrame(points, index=pd.Index(point_ids), columns=['x', 'y', 'z'])\n",
    "    vert_df['int_idx'] = np.arange(vert_df.shape[0])\n",
    "\n",
    "    face_lines = [l.split(' ')[1:] for l in lines if l.startswith('face')]\n",
    "    # ABAxAwDC A\n",
    "    prev = face_lines[0][0] # ABAxAwDC\n",
    "    faces = []\n",
    "    cur = []\n",
    "    for ff, l in face_lines:\n",
    "        if ff != prev:\n",
    "            faces.append(cur)\n",
    "            cur = [l[:-1]]\n",
    "            prev = ff\n",
    "        else:\n",
    "            cur.append(l[:-1])\n",
    "    \n",
    "    faces.append(cur)\n",
    "    \n",
    "    print(len(faces))\n",
    "\n",
    "    srces = []\n",
    "    trgts = []\n",
    "    face_idxs = []\n",
    "    for i, ff in enumerate(faces):\n",
    "        srces.extend(vert_df.loc[ff, 'int_idx'])\n",
    "        trgts.extend(vert_df.loc[np.roll(ff, 1), 'int_idx'])\n",
    "        face_idxs.extend(np.ones(len(ff))*i)\n",
    "\n",
    "    edge_df = pd.DataFrame(np.vstack([srces, trgts, face_idxs]).T.astype(np.int),\n",
    "                           columns=['srce', 'trgt', 'face'])\n",
    "    edge_df.index.name = 'edge'\n",
    "    vert_df['letter'] = vert_df.index\n",
    "    vert_df.set_index('int_idx', drop=True, inplace=True)\n",
    "    vert_df.index.name = 'vert'\n",
    "    face_df = pd.DataFrame(index=pd.Index(range(len(faces)), name='face'),\n",
    "                           columns=['x', 'y', 'z'])\n",
    "\n",
    "    datasets = {'vert': vert_df,\n",
    "                'edge': edge_df,\n",
    "                'face': face_df}\n",
    "    return datasets\n"
   ]
  },
  {
   "cell_type": "markdown",
   "metadata": {},
   "source": [
    "## Truncated Icosahedron (or fullerene)"
   ]
  },
  {
   "cell_type": "code",
   "execution_count": 7,
   "metadata": {},
   "outputs": [
    {
     "name": "stdout",
     "output_type": "stream",
     "text": [
      "32\n"
     ]
    }
   ],
   "source": [
    "apical_datasets = parse_polyhedron('../data/polyhedra/truncatedicosahedron')\n",
    "specs = config.geometry.spherical_sheet()\n",
    "\n",
    "sheet = Sheet('sphere', apical_datasets, specs)\n",
    "mod_specs = config.dynamics.quasistatic_sheet_spec()\n",
    "sheet.update_specs(mod_specs)\n",
    "sgeom.update_all(sheet)\n",
    "#res = solver.find_energy_min(sheet, sgeom, model)\n",
    "#print(res['success'])"
   ]
  },
  {
   "cell_type": "code",
   "execution_count": null,
   "metadata": {},
   "outputs": [],
   "source": []
  },
  {
   "cell_type": "code",
   "execution_count": 12,
   "metadata": {},
   "outputs": [
    {
     "data": {
      "application/vnd.jupyter.widget-view+json": {
       "model_id": "5d9d9498fd16445d954b0553e4eaa31d",
       "version_major": 2,
       "version_minor": 0
      },
      "text/plain": [
       "Figure(camera=PerspectiveCamera(aspect=0.8, fov=46.0, matrixWorldNeedsUpdate=True, position=(-1.55918319247641…"
      ]
     },
     "metadata": {},
     "output_type": "display_data"
    }
   ],
   "source": [
    "fig, mesh = sheet_view(\n",
    "    sheet,\n",
    "    mode=\"3D\",\n",
    "    face={\n",
    "        \"visible\": True,\n",
    "        \"color\": sheet.face_df.area\n",
    "    }\n",
    ")\n",
    "fig"
   ]
  },
  {
   "cell_type": "code",
   "execution_count": 13,
   "metadata": {},
   "outputs": [],
   "source": [
    "from tyssue.io import hdf5\n",
    "hdf5.save_datasets('../data/hf5/fullerene.hf5', sheet)"
   ]
  },
  {
   "cell_type": "markdown",
   "metadata": {},
   "source": [
    "### Creating a monolayer through extrusion"
   ]
  },
  {
   "cell_type": "code",
   "execution_count": 14,
   "metadata": {},
   "outputs": [
    {
     "name": "stdout",
     "output_type": "stream",
     "text": [
      "32\n"
     ]
    },
    {
     "name": "stderr",
     "output_type": "stream",
     "text": [
      "/home/guillaume/miniconda3/envs/py37/lib/python3.7/site-packages/tyssue-0.3.3-py3.7-linux-x86_64.egg/tyssue/generation/modifiers.py:130: FutureWarning: Sorting because non-concatenation axis is not aligned. A future version\n",
      "of pandas will change to not sort by default.\n",
      "\n",
      "To accept the future behavior, pass 'sort=False'.\n",
      "\n",
      "To retain the current behavior and silence the warning, pass 'sort=True'.\n",
      "\n",
      "  datasets[\"face\"] = pd.concat([apical_face, basal_face, lateral_face])\n"
     ]
    }
   ],
   "source": [
    "apical_datasets = parse_polyhedron('../data/polyhedra/truncatedicosahedron')\n",
    "datasets = extrude(apical_datasets, scale=0.8)\n",
    "specs = config.geometry.bulk_spec()\n",
    "\n",
    "eptm = Epithelium('truncatedicosahedron', datasets, specs)\n",
    "geom.update_all(eptm)"
   ]
  },
  {
   "cell_type": "code",
   "execution_count": 15,
   "metadata": {},
   "outputs": [
    {
     "name": "stderr",
     "output_type": "stream",
     "text": [
      "/home/guillaume/miniconda3/envs/py37/lib/python3.7/site-packages/numpy/core/fromnumeric.py:2389: FutureWarning: Method .ptp is deprecated and will be removed in a future version. Use numpy.ptp instead.\n",
      "  return ptp(axis=axis, out=out, **kwargs)\n"
     ]
    },
    {
     "data": {
      "application/vnd.jupyter.widget-view+json": {
       "model_id": "5d9d9498fd16445d954b0553e4eaa31d",
       "version_major": 2,
       "version_minor": 0
      },
      "text/plain": [
       "Figure(camera=PerspectiveCamera(aspect=0.8, fov=46.0, matrixWorldNeedsUpdate=True, position=(-1.55918319247641…"
      ]
     },
     "metadata": {},
     "output_type": "display_data"
    }
   ],
   "source": [
    "fig, mesh = sheet_view(\n",
    "    eptm,\n",
    "    mode=\"3D\",\n",
    "    face={\n",
    "        \"visible\": True,\n",
    "        \"color\": eptm.face_df.area\n",
    "    }\n",
    ")\n",
    "fig"
   ]
  },
  {
   "cell_type": "markdown",
   "metadata": {},
   "source": [
    "#### Try out others! "
   ]
  },
  {
   "cell_type": "code",
   "execution_count": 19,
   "metadata": {},
   "outputs": [],
   "source": [
    "import ipyvolume as ipv"
   ]
  },
  {
   "cell_type": "code",
   "execution_count": 20,
   "metadata": {},
   "outputs": [
    {
     "name": "stdout",
     "output_type": "stream",
     "text": [
      "24\n"
     ]
    },
    {
     "name": "stderr",
     "output_type": "stream",
     "text": [
      "/home/guillaume/miniconda3/envs/py37/lib/python3.7/site-packages/numpy/core/fromnumeric.py:2389: FutureWarning: Method .ptp is deprecated and will be removed in a future version. Use numpy.ptp instead.\n",
      "  return ptp(axis=axis, out=out, **kwargs)\n",
      "/home/guillaume/miniconda3/envs/py37/lib/python3.7/site-packages/tyssue-0.3.3-py3.7-linux-x86_64.egg/tyssue/draw/ipv_draw.py:205: UserWarning: Attempting to draw a colormap with a uniform value\n",
      "  warnings.warn(\"Attempting to draw a colormap \" \"with a uniform value\")\n"
     ]
    },
    {
     "data": {
      "application/vnd.jupyter.widget-view+json": {
       "model_id": "7404ac49293341bda1b5401587f9ce22",
       "version_major": 2,
       "version_minor": 0
      },
      "text/plain": [
       "Figure(camera=PerspectiveCamera(fov=46.0, position=(0.0, 0.0, 2.0), quaternion=(0.0, 0.0, 0.0, 1.0), scale=(1.…"
      ]
     },
     "metadata": {},
     "output_type": "display_data"
    }
   ],
   "source": [
    "apical_datasets = parse_polyhedron(\n",
    "    '../data/polyhedra/trapezoidalicositetrahedron')\n",
    "specs = config.geometry.spherical_sheet()\n",
    "\n",
    "sheet = Sheet('sphere', apical_datasets, specs)\n",
    "mod_specs = config.dynamics.quasistatic_sheet_spec()\n",
    "sheet.update_specs(mod_specs)\n",
    "sgeom.update_all(sheet)\n",
    "\n",
    "\n",
    "ipv.clear()\n",
    "fig, mesh = sheet_view(\n",
    "    sheet,\n",
    "    mode=\"3D\",\n",
    "    face={\n",
    "        \"visible\": True,\n",
    "        \"color\": sheet.face_df.area\n",
    "    }\n",
    ")\n",
    "fig"
   ]
  },
  {
   "cell_type": "code",
   "execution_count": 21,
   "metadata": {},
   "outputs": [
    {
     "name": "stdout",
     "output_type": "stream",
     "text": [
      "62\n"
     ]
    },
    {
     "data": {
      "application/vnd.jupyter.widget-view+json": {
       "model_id": "1142e0959f104dcebbdf55c2b5525df1",
       "version_major": 2,
       "version_minor": 0
      },
      "text/plain": [
       "Figure(camera=PerspectiveCamera(fov=46.0, position=(0.0, 0.0, 2.0), quaternion=(0.0, 0.0, 0.0, 1.0), scale=(1.…"
      ]
     },
     "metadata": {},
     "output_type": "display_data"
    }
   ],
   "source": [
    "apical_datasets = parse_polyhedron(\n",
    "    '../data/polyhedra/greatrhombicosidodecahedron')\n",
    "specs = config.geometry.spherical_sheet()\n",
    "\n",
    "sheet = Sheet('sphere', apical_datasets, specs)\n",
    "mod_specs = config.dynamics.quasistatic_sheet_spec()\n",
    "sheet.update_specs(mod_specs)\n",
    "sgeom.update_all(sheet)\n",
    "\n",
    "ipv.clear()\n",
    "fig, mesh = sheet_view(\n",
    "    sheet,\n",
    "    mode=\"3D\",\n",
    "    face={\n",
    "        \"visible\": True,\n",
    "        \"color\": sheet.face_df.area\n",
    "    }\n",
    ")\n",
    "fig"
   ]
  },
  {
   "cell_type": "code",
   "execution_count": null,
   "metadata": {
    "collapsed": true
   },
   "outputs": [],
   "source": []
  }
 ],
 "metadata": {
  "anaconda-cloud": {},
  "kernelspec": {
   "display_name": "Python 3",
   "language": "python",
   "name": "python3"
  },
  "widgets": {
   "state": {
    "0330ad561de74b75b11641272763582a": {
     "views": [
      {
       "cell_index": 16
      }
     ]
    },
    "170176caf0f442dc88f9b2f7d6029f3e": {
     "views": [
      {
       "cell_index": 12
      }
     ]
    },
    "88e0be100640416dad79689094aee04a": {
     "views": [
      {
       "cell_index": 17
      }
     ]
    },
    "ef9628daeb814c208d03cc620181c18e": {
     "views": [
      {
       "cell_index": 14
      }
     ]
    }
   },
   "version": "1.2.0"
  }
 },
 "nbformat": 4,
 "nbformat_minor": 1
}
