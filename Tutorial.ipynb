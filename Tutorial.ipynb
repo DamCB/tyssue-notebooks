{
 "cells": [
  {
   "cell_type": "markdown",
   "metadata": {},
   "source": [
    "\n",
    "\n",
    "The `tyssue` library seeks to provide a unified interface to implement\n",
    "bio-mechanical models of living tissues. It's main focus is on **vertex based epithelium models**.\n",
    "\n",
    "\n",
    "### Outline\n",
    "\n",
    "1. Core objects and datastructures\n",
    "\n",
    "2. Visualisation\n",
    "\n",
    "3. Quasistatic models\n",
    "\n",
    "4. Event management\n"
   ]
  },
  {
   "cell_type": "markdown",
   "metadata": {},
   "source": [
    "[tyssue docs](https://tyssue.readthedocs.io/en/latest/)"
   ]
  },
  {
   "cell_type": "code",
   "execution_count": 1,
   "metadata": {},
   "outputs": [],
   "source": [
    "import numpy as np\n",
    "import pandas as pd\n",
    "import matplotlib.pyplot as plt\n",
    "import ipyvolume as ipv\n",
    "\n",
    "\n",
    "# Core objects and geometry\n",
    "\n",
    "from tyssue import (\n",
    "    Monolayer,\n",
    "    ClosedMonolayerGeometry,\n",
    "    Sheet,\n",
    "    ClosedSheetGeometry\n",
    ")\n",
    "\n",
    "# Generation tools\n",
    "from tyssue import generation\n",
    "\n",
    "# Viz\n",
    "from tyssue.draw import sheet_view\n",
    "\n",
    "# Dynamical model\n",
    "from tyssue.dynamics import model_factory, effectors"
   ]
  },
  {
   "cell_type": "markdown",
   "metadata": {},
   "source": [
    "## Data structure\n",
    "\n",
    "\n",
    "![Tyssue data structure](data/svg/data_model.svg)\n",
    "\n",
    "\n",
    "Two main class of models: 2D in 2D or 3D (`Sheet`) and full 3D, multilayer (`Epithelium`) or monolayer (`Monolayer`).\n",
    "\n",
    "There are three (resp. 4) datasets, representing vertices, edges, faces (and cells).\n",
    "\n",
    "The main idea is to do the computation on the `edge` dataset, as it retains a reference to the indices of its source (`srce`) and target (`trgt`) vertices, its `face` (and its `cell`). There are mechanisms to copy the data belonging to a vertex or a face to the corresponding edges, called upcasting. \n",
    "\n",
    "The edges are actually half-edges in 2D and in 3D the data structure is that of a Linear Cell Complex (CGAL).\n"
   ]
  },
  {
   "cell_type": "code",
   "execution_count": 57,
   "metadata": {},
   "outputs": [
    {
     "name": "stdout",
     "output_type": "stream",
     "text": [
      "109 ms ± 7.43 ms per loop (mean ± std. dev. of 7 runs, 10 loops each)\n"
     ]
    }
   ],
   "source": [
    "%timeit ClosedMonolayerGeometry.update_all(mono)\n"
   ]
  },
  {
   "cell_type": "code",
   "execution_count": 58,
   "metadata": {},
   "outputs": [
    {
     "name": "stdout",
     "output_type": "stream",
     "text": [
      "182\n"
     ]
    }
   ],
   "source": [
    "mono = generation.spherical_monolayer(10, 12, 100)\n",
    "ClosedMonolayerGeometry.update_all(mono)\n",
    "print(mono.Nc)"
   ]
  },
  {
   "cell_type": "code",
   "execution_count": 59,
   "metadata": {},
   "outputs": [],
   "source": [
    "apical_sheet = mono.get_sub_sheet(\"apical\")\n",
    "apical_sheet.reset_index()\n",
    "apical_sheet.reset_topo()\n",
    "\n",
    "ClosedSheetGeometry.update_all(apical_sheet)"
   ]
  },
  {
   "cell_type": "code",
   "execution_count": 60,
   "metadata": {},
   "outputs": [
    {
     "name": "stderr",
     "output_type": "stream",
     "text": [
      "/home/guillaume/miniconda3/lib/python3.7/site-packages/numpy/core/fromnumeric.py:2223: FutureWarning: Method .ptp is deprecated and will be removed in a future version. Use numpy.ptp instead.\n",
      "  return ptp(axis=axis, out=out, **kwargs)\n"
     ]
    },
    {
     "data": {
      "application/vnd.jupyter.widget-view+json": {
       "model_id": "352ac7f5f364461885981da8ab240ee7",
       "version_major": 2,
       "version_minor": 0
      },
      "text/plain": [
       "Figure(camera=PerspectiveCamera(fov=46.0, position=(0.0, 0.0, 2.0), quaternion=(0.0, 0.0, 0.0, 1.0), scale=(1.…"
      ]
     },
     "metadata": {},
     "output_type": "display_data"
    }
   ],
   "source": [
    "ipv.clear()\n",
    "fig, mesh = sheet_view(mono, mode=\"3D\", face={\"visible\": False})\n",
    "fig"
   ]
  },
  {
   "cell_type": "markdown",
   "metadata": {},
   "source": [
    "Each dataset can be accessed as a value of the `mono.datasets` dictionnary or through `mono.edge_df` (or `mono.face_df`, etc)."
   ]
  },
  {
   "cell_type": "code",
   "execution_count": 39,
   "metadata": {},
   "outputs": [
    {
     "data": {
      "text/plain": [
       "dict_keys(['cell', 'vert', 'edge', 'face'])"
      ]
     },
     "execution_count": 39,
     "metadata": {},
     "output_type": "execute_result"
    }
   ],
   "source": [
    "mono.datasets.keys()"
   ]
  },
  {
   "cell_type": "code",
   "execution_count": 50,
   "metadata": {},
   "outputs": [],
   "source": [
    "from tyssue.io import obj\n",
    "\n",
    "obj.save_junction_mesh(\"test.obj\", mono)"
   ]
  },
  {
   "cell_type": "code",
   "execution_count": 40,
   "metadata": {},
   "outputs": [
    {
     "data": {
      "text/html": [
       "<div>\n",
       "<style scoped>\n",
       "    .dataframe tbody tr th:only-of-type {\n",
       "        vertical-align: middle;\n",
       "    }\n",
       "\n",
       "    .dataframe tbody tr th {\n",
       "        vertical-align: top;\n",
       "    }\n",
       "\n",
       "    .dataframe thead th {\n",
       "        text-align: right;\n",
       "    }\n",
       "</style>\n",
       "<table border=\"1\" class=\"dataframe\">\n",
       "  <thead>\n",
       "    <tr style=\"text-align: right;\">\n",
       "      <th></th>\n",
       "      <th>x</th>\n",
       "      <th>y</th>\n",
       "      <th>z</th>\n",
       "      <th>is_alive</th>\n",
       "      <th>area</th>\n",
       "      <th>vol</th>\n",
       "      <th>num_faces</th>\n",
       "      <th>num_ridges</th>\n",
       "    </tr>\n",
       "    <tr>\n",
       "      <th>cell</th>\n",
       "      <th></th>\n",
       "      <th></th>\n",
       "      <th></th>\n",
       "      <th></th>\n",
       "      <th></th>\n",
       "      <th></th>\n",
       "      <th></th>\n",
       "      <th></th>\n",
       "    </tr>\n",
       "  </thead>\n",
       "  <tbody>\n",
       "    <tr>\n",
       "      <th>0</th>\n",
       "      <td>-1.771128</td>\n",
       "      <td>-5.117349</td>\n",
       "      <td>-8.773759</td>\n",
       "      <td>1</td>\n",
       "      <td>63.032706</td>\n",
       "      <td>-32.217097</td>\n",
       "      <td>8</td>\n",
       "      <td>36</td>\n",
       "    </tr>\n",
       "    <tr>\n",
       "      <th>1</th>\n",
       "      <td>-0.498756</td>\n",
       "      <td>-7.532178</td>\n",
       "      <td>-5.408639</td>\n",
       "      <td>1</td>\n",
       "      <td>53.894137</td>\n",
       "      <td>-26.609051</td>\n",
       "      <td>10</td>\n",
       "      <td>48</td>\n",
       "    </tr>\n",
       "    <tr>\n",
       "      <th>2</th>\n",
       "      <td>-4.090607</td>\n",
       "      <td>-6.606667</td>\n",
       "      <td>-6.002684</td>\n",
       "      <td>1</td>\n",
       "      <td>46.031622</td>\n",
       "      <td>-20.828427</td>\n",
       "      <td>7</td>\n",
       "      <td>30</td>\n",
       "    </tr>\n",
       "    <tr>\n",
       "      <th>3</th>\n",
       "      <td>3.096127</td>\n",
       "      <td>6.712052</td>\n",
       "      <td>10.540596</td>\n",
       "      <td>1</td>\n",
       "      <td>57.239452</td>\n",
       "      <td>-27.767288</td>\n",
       "      <td>7</td>\n",
       "      <td>30</td>\n",
       "    </tr>\n",
       "    <tr>\n",
       "      <th>4</th>\n",
       "      <td>4.736138</td>\n",
       "      <td>10.555625</td>\n",
       "      <td>7.683949</td>\n",
       "      <td>1</td>\n",
       "      <td>90.907471</td>\n",
       "      <td>-51.235093</td>\n",
       "      <td>9</td>\n",
       "      <td>42</td>\n",
       "    </tr>\n",
       "  </tbody>\n",
       "</table>\n",
       "</div>"
      ],
      "text/plain": [
       "             x          y          z  is_alive       area        vol  \\\n",
       "cell                                                                   \n",
       "0    -1.771128  -5.117349  -8.773759         1  63.032706 -32.217097   \n",
       "1    -0.498756  -7.532178  -5.408639         1  53.894137 -26.609051   \n",
       "2    -4.090607  -6.606667  -6.002684         1  46.031622 -20.828427   \n",
       "3     3.096127   6.712052  10.540596         1  57.239452 -27.767288   \n",
       "4     4.736138  10.555625   7.683949         1  90.907471 -51.235093   \n",
       "\n",
       "      num_faces  num_ridges  \n",
       "cell                         \n",
       "0             8          36  \n",
       "1            10          48  \n",
       "2             7          30  \n",
       "3             7          30  \n",
       "4             9          42  "
      ]
     },
     "execution_count": 40,
     "metadata": {},
     "output_type": "execute_result"
    }
   ],
   "source": [
    "mono.datasets['cell'].head()"
   ]
  },
  {
   "cell_type": "code",
   "execution_count": 41,
   "metadata": {},
   "outputs": [
    {
     "data": {
      "text/html": [
       "<div>\n",
       "<style scoped>\n",
       "    .dataframe tbody tr th:only-of-type {\n",
       "        vertical-align: middle;\n",
       "    }\n",
       "\n",
       "    .dataframe tbody tr th {\n",
       "        vertical-align: top;\n",
       "    }\n",
       "\n",
       "    .dataframe thead th {\n",
       "        text-align: right;\n",
       "    }\n",
       "</style>\n",
       "<table border=\"1\" class=\"dataframe\">\n",
       "  <thead>\n",
       "    <tr style=\"text-align: right;\">\n",
       "      <th></th>\n",
       "      <th>srce</th>\n",
       "      <th>trgt</th>\n",
       "      <th>face</th>\n",
       "      <th>dx</th>\n",
       "      <th>dy</th>\n",
       "      <th>dz</th>\n",
       "      <th>nx</th>\n",
       "      <th>ny</th>\n",
       "      <th>nz</th>\n",
       "      <th>sx</th>\n",
       "      <th>...</th>\n",
       "      <th>uy</th>\n",
       "      <th>uz</th>\n",
       "      <th>edge_o</th>\n",
       "      <th>srce_o</th>\n",
       "      <th>trgt_o</th>\n",
       "      <th>face_o</th>\n",
       "      <th>cell_o</th>\n",
       "      <th>sub_area</th>\n",
       "      <th>is_valid</th>\n",
       "      <th>segment</th>\n",
       "    </tr>\n",
       "    <tr>\n",
       "      <th>edge</th>\n",
       "      <th></th>\n",
       "      <th></th>\n",
       "      <th></th>\n",
       "      <th></th>\n",
       "      <th></th>\n",
       "      <th></th>\n",
       "      <th></th>\n",
       "      <th></th>\n",
       "      <th></th>\n",
       "      <th></th>\n",
       "      <th></th>\n",
       "      <th></th>\n",
       "      <th></th>\n",
       "      <th></th>\n",
       "      <th></th>\n",
       "      <th></th>\n",
       "      <th></th>\n",
       "      <th></th>\n",
       "      <th></th>\n",
       "      <th></th>\n",
       "      <th></th>\n",
       "    </tr>\n",
       "  </thead>\n",
       "  <tbody>\n",
       "    <tr>\n",
       "      <th>0</th>\n",
       "      <td>28</td>\n",
       "      <td>0</td>\n",
       "      <td>0</td>\n",
       "      <td>-1.864921</td>\n",
       "      <td>-0.287282</td>\n",
       "      <td>0.634712</td>\n",
       "      <td>-0.497366</td>\n",
       "      <td>-2.982764</td>\n",
       "      <td>-2.811420</td>\n",
       "      <td>-0.166006</td>\n",
       "      <td>...</td>\n",
       "      <td>0</td>\n",
       "      <td>0</td>\n",
       "      <td>0</td>\n",
       "      <td>28</td>\n",
       "      <td>0</td>\n",
       "      <td>0</td>\n",
       "      <td>0</td>\n",
       "      <td>2.064482</td>\n",
       "      <td>True</td>\n",
       "      <td>basal</td>\n",
       "    </tr>\n",
       "    <tr>\n",
       "      <th>1</th>\n",
       "      <td>170</td>\n",
       "      <td>169</td>\n",
       "      <td>129</td>\n",
       "      <td>-0.795092</td>\n",
       "      <td>-0.124975</td>\n",
       "      <td>0.446275</td>\n",
       "      <td>0.257935</td>\n",
       "      <td>-0.625810</td>\n",
       "      <td>0.284291</td>\n",
       "      <td>4.162625</td>\n",
       "      <td>...</td>\n",
       "      <td>0</td>\n",
       "      <td>0</td>\n",
       "      <td>1560</td>\n",
       "      <td>170</td>\n",
       "      <td>169</td>\n",
       "      <td>129</td>\n",
       "      <td>0</td>\n",
       "      <td>0.367080</td>\n",
       "      <td>True</td>\n",
       "      <td>basal</td>\n",
       "    </tr>\n",
       "    <tr>\n",
       "      <th>2</th>\n",
       "      <td>78</td>\n",
       "      <td>79</td>\n",
       "      <td>65</td>\n",
       "      <td>1.135073</td>\n",
       "      <td>1.388797</td>\n",
       "      <td>-0.709251</td>\n",
       "      <td>2.860254</td>\n",
       "      <td>-0.706708</td>\n",
       "      <td>3.193686</td>\n",
       "      <td>7.250890</td>\n",
       "      <td>...</td>\n",
       "      <td>0</td>\n",
       "      <td>0</td>\n",
       "      <td>790</td>\n",
       "      <td>78</td>\n",
       "      <td>79</td>\n",
       "      <td>65</td>\n",
       "      <td>0</td>\n",
       "      <td>2.172563</td>\n",
       "      <td>True</td>\n",
       "      <td>basal</td>\n",
       "    </tr>\n",
       "    <tr>\n",
       "      <th>3</th>\n",
       "      <td>295</td>\n",
       "      <td>170</td>\n",
       "      <td>129</td>\n",
       "      <td>-0.021509</td>\n",
       "      <td>0.396630</td>\n",
       "      <td>0.897120</td>\n",
       "      <td>0.254224</td>\n",
       "      <td>-0.614782</td>\n",
       "      <td>0.277900</td>\n",
       "      <td>4.184134</td>\n",
       "      <td>...</td>\n",
       "      <td>0</td>\n",
       "      <td>0</td>\n",
       "      <td>1562</td>\n",
       "      <td>295</td>\n",
       "      <td>170</td>\n",
       "      <td>129</td>\n",
       "      <td>0</td>\n",
       "      <td>0.360491</td>\n",
       "      <td>True</td>\n",
       "      <td>basal</td>\n",
       "    </tr>\n",
       "    <tr>\n",
       "      <th>4</th>\n",
       "      <td>84</td>\n",
       "      <td>78</td>\n",
       "      <td>65</td>\n",
       "      <td>1.567257</td>\n",
       "      <td>0.393904</td>\n",
       "      <td>-1.146787</td>\n",
       "      <td>2.717778</td>\n",
       "      <td>-0.866624</td>\n",
       "      <td>3.416579</td>\n",
       "      <td>5.683633</td>\n",
       "      <td>...</td>\n",
       "      <td>0</td>\n",
       "      <td>0</td>\n",
       "      <td>788</td>\n",
       "      <td>84</td>\n",
       "      <td>78</td>\n",
       "      <td>65</td>\n",
       "      <td>0</td>\n",
       "      <td>2.225442</td>\n",
       "      <td>True</td>\n",
       "      <td>basal</td>\n",
       "    </tr>\n",
       "  </tbody>\n",
       "</table>\n",
       "<p>5 rows × 36 columns</p>\n",
       "</div>"
      ],
      "text/plain": [
       "      srce  trgt  face        dx        dy        dz        nx        ny  \\\n",
       "edge                                                                       \n",
       "0       28     0     0 -1.864921 -0.287282  0.634712 -0.497366 -2.982764   \n",
       "1      170   169   129 -0.795092 -0.124975  0.446275  0.257935 -0.625810   \n",
       "2       78    79    65  1.135073  1.388797 -0.709251  2.860254 -0.706708   \n",
       "3      295   170   129 -0.021509  0.396630  0.897120  0.254224 -0.614782   \n",
       "4       84    78    65  1.567257  0.393904 -1.146787  2.717778 -0.866624   \n",
       "\n",
       "            nz        sx  ...  uy  uz  edge_o  srce_o  trgt_o  face_o  cell_o  \\\n",
       "edge                      ...                                                   \n",
       "0    -2.811420 -0.166006  ...   0   0       0      28       0       0       0   \n",
       "1     0.284291  4.162625  ...   0   0    1560     170     169     129       0   \n",
       "2     3.193686  7.250890  ...   0   0     790      78      79      65       0   \n",
       "3     0.277900  4.184134  ...   0   0    1562     295     170     129       0   \n",
       "4     3.416579  5.683633  ...   0   0     788      84      78      65       0   \n",
       "\n",
       "      sub_area  is_valid  segment  \n",
       "edge                               \n",
       "0     2.064482      True    basal  \n",
       "1     0.367080      True    basal  \n",
       "2     2.172563      True    basal  \n",
       "3     0.360491      True    basal  \n",
       "4     2.225442      True    basal  \n",
       "\n",
       "[5 rows x 36 columns]"
      ]
     },
     "execution_count": 41,
     "metadata": {},
     "output_type": "execute_result"
    }
   ],
   "source": [
    "mono.edge_df.head()"
   ]
  },
  {
   "cell_type": "code",
   "execution_count": 314,
   "metadata": {},
   "outputs": [],
   "source": [
    "from tyssue import Sheet, SheetGeometry\n",
    "from tyssue.generation import generate_ring\n",
    "\n",
    "\n",
    "sheet = generate_ring(24, 12, 18)\n",
    "\n",
    "PlanarGeometry.update_all(sheet)"
   ]
  },
  {
   "cell_type": "code",
   "execution_count": 324,
   "metadata": {},
   "outputs": [
    {
     "name": "stdout",
     "output_type": "stream",
     "text": [
      "Shape of rotation matrices (2, 2, 96)\n"
     ]
    },
    {
     "ename": "KeyError",
     "evalue": "'dz'",
     "output_type": "error",
     "traceback": [
      "\u001b[0;31m---------------------------------------------------------------------------\u001b[0m",
      "\u001b[0;31mKeyError\u001b[0m                                  Traceback (most recent call last)",
      "\u001b[0;32m~/miniconda3/lib/python3.7/site-packages/pandas/core/indexes/base.py\u001b[0m in \u001b[0;36mget_loc\u001b[0;34m(self, key, method, tolerance)\u001b[0m\n\u001b[1;32m   2656\u001b[0m             \u001b[0;32mtry\u001b[0m\u001b[0;34m:\u001b[0m\u001b[0;34m\u001b[0m\u001b[0;34m\u001b[0m\u001b[0m\n\u001b[0;32m-> 2657\u001b[0;31m                 \u001b[0;32mreturn\u001b[0m \u001b[0mself\u001b[0m\u001b[0;34m.\u001b[0m\u001b[0m_engine\u001b[0m\u001b[0;34m.\u001b[0m\u001b[0mget_loc\u001b[0m\u001b[0;34m(\u001b[0m\u001b[0mkey\u001b[0m\u001b[0;34m)\u001b[0m\u001b[0;34m\u001b[0m\u001b[0;34m\u001b[0m\u001b[0m\n\u001b[0m\u001b[1;32m   2658\u001b[0m             \u001b[0;32mexcept\u001b[0m \u001b[0mKeyError\u001b[0m\u001b[0;34m:\u001b[0m\u001b[0;34m\u001b[0m\u001b[0;34m\u001b[0m\u001b[0m\n",
      "\u001b[0;32mpandas/_libs/index.pyx\u001b[0m in \u001b[0;36mpandas._libs.index.IndexEngine.get_loc\u001b[0;34m()\u001b[0m\n",
      "\u001b[0;32mpandas/_libs/index.pyx\u001b[0m in \u001b[0;36mpandas._libs.index.IndexEngine.get_loc\u001b[0;34m()\u001b[0m\n",
      "\u001b[0;32mpandas/_libs/hashtable_class_helper.pxi\u001b[0m in \u001b[0;36mpandas._libs.hashtable.PyObjectHashTable.get_item\u001b[0;34m()\u001b[0m\n",
      "\u001b[0;32mpandas/_libs/hashtable_class_helper.pxi\u001b[0m in \u001b[0;36mpandas._libs.hashtable.PyObjectHashTable.get_item\u001b[0;34m()\u001b[0m\n",
      "\u001b[0;31mKeyError\u001b[0m: 'dz'",
      "\nDuring handling of the above exception, another exception occurred:\n",
      "\u001b[0;31mKeyError\u001b[0m                                  Traceback (most recent call last)",
      "\u001b[0;32m<ipython-input-324-315fa065dc0f>\u001b[0m in \u001b[0;36m<module>\u001b[0;34m\u001b[0m\n\u001b[1;32m     20\u001b[0m \u001b[0;34m\u001b[0m\u001b[0m\n\u001b[1;32m     21\u001b[0m \u001b[0;31m# φ is the angle we want\u001b[0m\u001b[0;34m\u001b[0m\u001b[0;34m\u001b[0m\u001b[0;34m\u001b[0m\u001b[0m\n\u001b[0;32m---> 22\u001b[0;31m \u001b[0msheet\u001b[0m\u001b[0;34m.\u001b[0m\u001b[0medge_df\u001b[0m\u001b[0;34m[\u001b[0m\u001b[0;34m\"phi\"\u001b[0m\u001b[0;34m]\u001b[0m \u001b[0;34m=\u001b[0m \u001b[0mnp\u001b[0m\u001b[0;34m.\u001b[0m\u001b[0marctan2\u001b[0m\u001b[0;34m(\u001b[0m\u001b[0msheet\u001b[0m\u001b[0;34m.\u001b[0m\u001b[0medge_df\u001b[0m\u001b[0;34m[\u001b[0m\u001b[0;34m'dx_r'\u001b[0m\u001b[0;34m]\u001b[0m\u001b[0;34m,\u001b[0m \u001b[0msheet\u001b[0m\u001b[0;34m.\u001b[0m\u001b[0medge_df\u001b[0m\u001b[0;34m[\u001b[0m\u001b[0;34m'dz'\u001b[0m\u001b[0;34m]\u001b[0m\u001b[0;34m)\u001b[0m\u001b[0;34m\u001b[0m\u001b[0;34m\u001b[0m\u001b[0m\n\u001b[0m\u001b[1;32m     23\u001b[0m \u001b[0;34m\u001b[0m\u001b[0m\n",
      "\u001b[0;32m~/miniconda3/lib/python3.7/site-packages/pandas/core/frame.py\u001b[0m in \u001b[0;36m__getitem__\u001b[0;34m(self, key)\u001b[0m\n\u001b[1;32m   2925\u001b[0m             \u001b[0;32mif\u001b[0m \u001b[0mself\u001b[0m\u001b[0;34m.\u001b[0m\u001b[0mcolumns\u001b[0m\u001b[0;34m.\u001b[0m\u001b[0mnlevels\u001b[0m \u001b[0;34m>\u001b[0m \u001b[0;36m1\u001b[0m\u001b[0;34m:\u001b[0m\u001b[0;34m\u001b[0m\u001b[0;34m\u001b[0m\u001b[0m\n\u001b[1;32m   2926\u001b[0m                 \u001b[0;32mreturn\u001b[0m \u001b[0mself\u001b[0m\u001b[0;34m.\u001b[0m\u001b[0m_getitem_multilevel\u001b[0m\u001b[0;34m(\u001b[0m\u001b[0mkey\u001b[0m\u001b[0;34m)\u001b[0m\u001b[0;34m\u001b[0m\u001b[0;34m\u001b[0m\u001b[0m\n\u001b[0;32m-> 2927\u001b[0;31m             \u001b[0mindexer\u001b[0m \u001b[0;34m=\u001b[0m \u001b[0mself\u001b[0m\u001b[0;34m.\u001b[0m\u001b[0mcolumns\u001b[0m\u001b[0;34m.\u001b[0m\u001b[0mget_loc\u001b[0m\u001b[0;34m(\u001b[0m\u001b[0mkey\u001b[0m\u001b[0;34m)\u001b[0m\u001b[0;34m\u001b[0m\u001b[0;34m\u001b[0m\u001b[0m\n\u001b[0m\u001b[1;32m   2928\u001b[0m             \u001b[0;32mif\u001b[0m \u001b[0mis_integer\u001b[0m\u001b[0;34m(\u001b[0m\u001b[0mindexer\u001b[0m\u001b[0;34m)\u001b[0m\u001b[0;34m:\u001b[0m\u001b[0;34m\u001b[0m\u001b[0;34m\u001b[0m\u001b[0m\n\u001b[1;32m   2929\u001b[0m                 \u001b[0mindexer\u001b[0m \u001b[0;34m=\u001b[0m \u001b[0;34m[\u001b[0m\u001b[0mindexer\u001b[0m\u001b[0;34m]\u001b[0m\u001b[0;34m\u001b[0m\u001b[0;34m\u001b[0m\u001b[0m\n",
      "\u001b[0;32m~/miniconda3/lib/python3.7/site-packages/pandas/core/indexes/base.py\u001b[0m in \u001b[0;36mget_loc\u001b[0;34m(self, key, method, tolerance)\u001b[0m\n\u001b[1;32m   2657\u001b[0m                 \u001b[0;32mreturn\u001b[0m \u001b[0mself\u001b[0m\u001b[0;34m.\u001b[0m\u001b[0m_engine\u001b[0m\u001b[0;34m.\u001b[0m\u001b[0mget_loc\u001b[0m\u001b[0;34m(\u001b[0m\u001b[0mkey\u001b[0m\u001b[0;34m)\u001b[0m\u001b[0;34m\u001b[0m\u001b[0;34m\u001b[0m\u001b[0m\n\u001b[1;32m   2658\u001b[0m             \u001b[0;32mexcept\u001b[0m \u001b[0mKeyError\u001b[0m\u001b[0;34m:\u001b[0m\u001b[0;34m\u001b[0m\u001b[0;34m\u001b[0m\u001b[0m\n\u001b[0;32m-> 2659\u001b[0;31m                 \u001b[0;32mreturn\u001b[0m \u001b[0mself\u001b[0m\u001b[0;34m.\u001b[0m\u001b[0m_engine\u001b[0m\u001b[0;34m.\u001b[0m\u001b[0mget_loc\u001b[0m\u001b[0;34m(\u001b[0m\u001b[0mself\u001b[0m\u001b[0;34m.\u001b[0m\u001b[0m_maybe_cast_indexer\u001b[0m\u001b[0;34m(\u001b[0m\u001b[0mkey\u001b[0m\u001b[0;34m)\u001b[0m\u001b[0;34m)\u001b[0m\u001b[0;34m\u001b[0m\u001b[0;34m\u001b[0m\u001b[0m\n\u001b[0m\u001b[1;32m   2660\u001b[0m         \u001b[0mindexer\u001b[0m \u001b[0;34m=\u001b[0m \u001b[0mself\u001b[0m\u001b[0;34m.\u001b[0m\u001b[0mget_indexer\u001b[0m\u001b[0;34m(\u001b[0m\u001b[0;34m[\u001b[0m\u001b[0mkey\u001b[0m\u001b[0;34m]\u001b[0m\u001b[0;34m,\u001b[0m \u001b[0mmethod\u001b[0m\u001b[0;34m=\u001b[0m\u001b[0mmethod\u001b[0m\u001b[0;34m,\u001b[0m \u001b[0mtolerance\u001b[0m\u001b[0;34m=\u001b[0m\u001b[0mtolerance\u001b[0m\u001b[0;34m)\u001b[0m\u001b[0;34m\u001b[0m\u001b[0;34m\u001b[0m\u001b[0m\n\u001b[1;32m   2661\u001b[0m         \u001b[0;32mif\u001b[0m \u001b[0mindexer\u001b[0m\u001b[0;34m.\u001b[0m\u001b[0mndim\u001b[0m \u001b[0;34m>\u001b[0m \u001b[0;36m1\u001b[0m \u001b[0;32mor\u001b[0m \u001b[0mindexer\u001b[0m\u001b[0;34m.\u001b[0m\u001b[0msize\u001b[0m \u001b[0;34m>\u001b[0m \u001b[0;36m1\u001b[0m\u001b[0;34m:\u001b[0m\u001b[0;34m\u001b[0m\u001b[0;34m\u001b[0m\u001b[0m\n",
      "\u001b[0;32mpandas/_libs/index.pyx\u001b[0m in \u001b[0;36mpandas._libs.index.IndexEngine.get_loc\u001b[0;34m()\u001b[0m\n",
      "\u001b[0;32mpandas/_libs/index.pyx\u001b[0m in \u001b[0;36mpandas._libs.index.IndexEngine.get_loc\u001b[0;34m()\u001b[0m\n",
      "\u001b[0;32mpandas/_libs/hashtable_class_helper.pxi\u001b[0m in \u001b[0;36mpandas._libs.hashtable.PyObjectHashTable.get_item\u001b[0;34m()\u001b[0m\n",
      "\u001b[0;32mpandas/_libs/hashtable_class_helper.pxi\u001b[0m in \u001b[0;36mpandas._libs.hashtable.PyObjectHashTable.get_item\u001b[0;34m()\u001b[0m\n",
      "\u001b[0;31mKeyError\u001b[0m: 'dz'"
     ]
    }
   ],
   "source": [
    "\n",
    "## Angle θ of the source in the cylindrical coordinate system\n",
    "theta = np.arctan2(sheet.edge_df[\"sy\"], sheet.edge_df[\"sx\"],)\n",
    "cost, sint = np.cos(theta), np.sin(theta)\n",
    "\n",
    "# One rotation matrix per edge\n",
    "rot_mat = np.array(\n",
    "    [[cost, sint],\n",
    "     [-sint, cost]]\n",
    ")\n",
    "print('Shape of rotation matrices', rot_mat.shape)\n",
    "\n",
    "# We want to get the edge coordinates w/r to θ\n",
    "dx_dy = sheet.edge_df[['dx', 'dy']].to_numpy()\n",
    "sheet.edge_df['dx_r'] = sheet.edge_df['dx'].copy()\n",
    "sheet.edge_df['dy_r'] = sheet.edge_df['dy'].copy()\n",
    "\n",
    "# numpy einsum magic (need lots of trial and error :/)\n",
    "sheet.edge_df[['dx_r', 'dy_r']] = np.einsum('jik, ki-> kj', rot_mat, dx_dy)\n",
    "\n",
    "# φ is the angle we want\n",
    "sheet.edge_df[\"phi\"] = np.arctan2(sheet.edge_df['dz'], sheet.edge_df['dx_r'])\n",
    "\n"
   ]
  },
  {
   "cell_type": "code",
   "execution_count": 317,
   "metadata": {},
   "outputs": [
    {
     "data": {
      "text/plain": [
       "(2, 2, 96)"
      ]
     },
     "execution_count": 317,
     "metadata": {},
     "output_type": "execute_result"
    }
   ],
   "source": [
    "rot_mat.shape"
   ]
  },
  {
   "cell_type": "code",
   "execution_count": 322,
   "metadata": {},
   "outputs": [
    {
     "data": {
      "image/png": "[encoded data removed]",
      "text/plain": [
       "<Figure size 432x288 with 1 Axes>"
      ]
     },
     "metadata": {
      "needs_background": "light"
     },
     "output_type": "display_data"
    }
   ],
   "source": [
    "fig, ax = plt.subplots()\n",
    "ax.scatter(sheet.edge_df['dx_r'], sheet.edge_df['dy_r'], alpha=0.8)\n",
    "\n",
    "ax.set_aspect(\"equal\")"
   ]
  },
  {
   "cell_type": "code",
   "execution_count": 319,
   "metadata": {},
   "outputs": [],
   "source": [
    "phi = np.arctan2(sheet.edge_df['dy_r'], sheet.edge_df['dx_r'])"
   ]
  },
  {
   "cell_type": "code",
   "execution_count": 320,
   "metadata": {},
   "outputs": [],
   "source": [
    "sheet.face_df['theta'] = np.arctan2(sheet.face_df['y'], sheet.face_df['x'])"
   ]
  },
  {
   "cell_type": "code",
   "execution_count": 323,
   "metadata": {},
   "outputs": [
    {
     "data": {
      "image/png": "[encoded data removed]",
      "text/plain": [
       "<Figure size 432x288 with 1 Axes>"
      ]
     },
     "metadata": {
      "needs_background": "light"
     },
     "output_type": "display_data"
    }
   ],
   "source": [
    "fig, mesh = sheet_view(\n",
    "    sheet, mode=\"2D\", \n",
    "    edge={\"color\": np.abs(phi), \"width\": 3},\n",
    "    face={\"visible\":True, \"color\": sheet.face_df[\"theta\"], \"alpha\": 0.3})\n"
   ]
  },
  {
   "cell_type": "code",
   "execution_count": null,
   "metadata": {},
   "outputs": [],
   "source": []
  }
 ],
 "metadata": {
  "kernelspec": {
   "display_name": "Python 3",
   "language": "python",
   "name": "python3"
  },
  "language_info": {
   "codemirror_mode": {
    "name": "ipython",
    "version": 3
   },
   "file_extension": ".py",
   "mimetype": "text/x-python",
   "name": "python",
   "nbconvert_exporter": "python",
   "pygments_lexer": "ipython3",
   "version": "3.7.1"
  }
 },
 "nbformat": 4,
 "nbformat_minor": 2
}
